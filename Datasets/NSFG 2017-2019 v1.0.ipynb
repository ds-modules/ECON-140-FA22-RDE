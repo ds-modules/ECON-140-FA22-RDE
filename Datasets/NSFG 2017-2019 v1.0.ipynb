{
 "cells": [
  {
   "cell_type": "markdown",
   "id": "0de6d717",
   "metadata": {},
   "source": [
    "<img src=\"images/econ140R_logo.png\" width=\"200\" />"
   ]
  },
  {
   "cell_type": "markdown",
   "id": "f4ae76db",
   "metadata": {},
   "source": [
    "<h1>The 2017-2019 National Survey of Family Growth</h1>"
   ]
  },
  {
   "cell_type": "markdown",
   "id": "8e82c840",
   "metadata": {},
   "source": [
    "In this file, we are wrangling a Stata extract from the [2017-2019 National Survey of Family Growth (NSFG)](https://www.cdc.gov/nchs/nsfg/nsfg_2017_2019_puf.htm), which was sent to me by [Dr. Karen Guzzo](https://www.cpc.unc.edu/people/fellows/karen-guzzo/), now the director of the Carolina Population Center. Dr. Guzzo is an expert with the data, and my understanding of the structure is more limited. \n",
    "\n",
    "It appears that this data file is the \"female dataset,\" corresponding to the [\"female questionnaire\"](https://www.cdc.gov/nchs/data/nsfg/NSFG-2017-2019-FemaleCAPIlite-forPUF-508.pdf) shown in the documentation. There is also a \"male dataset,\" with its own questionnaire. There is a [third questionnaire for the \"household screener\"](https://www.cdc.gov/nchs/data/nsfg/NSFG-2017-2019-Household-ScreenerCAPIite-forPUF-508.pdf), but I suspect those data are either contained in the male and female datasets, or they are unavailable in the public release because of privacy concerns."
   ]
  },
  {
   "cell_type": "markdown",
   "id": "c3bb342d",
   "metadata": {},
   "source": [
    "<h3>Created variables</h3>\n",
    "\n",
    "This extract also contains some variables that I created:\n",
    "\n",
    "* `mar_opsex` is a 0/1 indicator of being partered with the opposite sex, based off of `marstat`\n",
    "* `straight` is a 0/1 indicator of identifying as straight, based off of `orient_a` and `orient_b`\n",
    "* `gay` is a 0/1 indicator of identifying as gay, based off of `orient_a` and `orient_b`\n",
    "* `bisexual` is a 0/1 indicator of identifying as bisexual, based off of `orient_a` and `orient_b`\n",
    "* `orient_else` is a 0/1 indicator of identifying as something else, based off of `orient_a` and `orient_b`\n",
    "* `anycollege` is a 0/1 indicator of having attained any college, based off of `educat`\n",
    "* `pregnowq0` is 0/1 recoding of `pregnowq`, which measures whether the respondent is currently pregnant\n",
    "* `rwant0` is 0/1 recoding of `rwant`, which measures whether the respondent wants another baby sometime\n"
   ]
  },
  {
   "cell_type": "markdown",
   "id": "e864f66b",
   "metadata": {},
   "source": [
    "The code below reads in the data from the Stata extract."
   ]
  },
  {
   "cell_type": "code",
   "execution_count": 1,
   "id": "16cadf6f",
   "metadata": {},
   "outputs": [],
   "source": [
    "library(haven)"
   ]
  },
  {
   "cell_type": "code",
   "execution_count": 2,
   "id": "f49c027f",
   "metadata": {},
   "outputs": [],
   "source": [
    "nsfg1719 <- read_dta(\"NSFG2017_2019fo_1.dta\")"
   ]
  },
  {
   "cell_type": "code",
   "execution_count": 3,
   "id": "9e0db677",
   "metadata": {},
   "outputs": [
    {
     "data": {
      "text/html": [
       "<table class=\"dataframe\">\n",
       "<caption>A tibble: 6 × 2633</caption>\n",
       "<thead>\n",
       "\t<tr><th scope=col>caseid</th><th scope=col>rscrninf</th><th scope=col>rscrage</th><th scope=col>rscrhisp</th><th scope=col>rscrrace</th><th scope=col>age_a</th><th scope=col>age_r</th><th scope=col>agescrn</th><th scope=col>hisp</th><th scope=col>hispgrp</th><th scope=col>⋯</th><th scope=col>con_non</th><th scope=col>con_other</th><th scope=col>mar_opsex</th><th scope=col>straight</th><th scope=col>gay</th><th scope=col>bisexual</th><th scope=col>orient_else</th><th scope=col>anycollege</th><th scope=col>pregnowq0</th><th scope=col>rwant0</th></tr>\n",
       "\t<tr><th scope=col>&lt;dbl&gt;</th><th scope=col>&lt;dbl+lbl&gt;</th><th scope=col>&lt;dbl+lbl&gt;</th><th scope=col>&lt;dbl+lbl&gt;</th><th scope=col>&lt;dbl+lbl&gt;</th><th scope=col>&lt;dbl+lbl&gt;</th><th scope=col>&lt;dbl+lbl&gt;</th><th scope=col>&lt;dbl+lbl&gt;</th><th scope=col>&lt;dbl+lbl&gt;</th><th scope=col>&lt;dbl+lbl&gt;</th><th scope=col>⋯</th><th scope=col>&lt;dbl&gt;</th><th scope=col>&lt;dbl&gt;</th><th scope=col>&lt;dbl&gt;</th><th scope=col>&lt;dbl&gt;</th><th scope=col>&lt;dbl&gt;</th><th scope=col>&lt;dbl&gt;</th><th scope=col>&lt;dbl&gt;</th><th scope=col>&lt;dbl&gt;</th><th scope=col>&lt;dbl&gt;</th><th scope=col>&lt;dbl&gt;</th></tr>\n",
       "</thead>\n",
       "<tbody>\n",
       "\t<tr><td>80716</td><td>5</td><td>35</td><td>5</td><td>1</td><td>35</td><td>35</td><td>35</td><td>5</td><td>NA</td><td>⋯</td><td>0</td><td>1</td><td>0</td><td>1</td><td>0</td><td>0</td><td>0</td><td>1</td><td>0</td><td>1</td></tr>\n",
       "\t<tr><td>80718</td><td>1</td><td>30</td><td>5</td><td>3</td><td>30</td><td>30</td><td>30</td><td>5</td><td>NA</td><td>⋯</td><td>0</td><td>0</td><td>0</td><td>1</td><td>0</td><td>0</td><td>0</td><td>1</td><td>0</td><td>1</td></tr>\n",
       "\t<tr><td>80719</td><td>5</td><td>30</td><td>5</td><td>2</td><td>30</td><td>30</td><td>30</td><td>5</td><td>NA</td><td>⋯</td><td>0</td><td>0</td><td>0</td><td>1</td><td>0</td><td>0</td><td>0</td><td>0</td><td>0</td><td>0</td></tr>\n",
       "\t<tr><td>80720</td><td>1</td><td>32</td><td>5</td><td>3</td><td>32</td><td>32</td><td>32</td><td>5</td><td>NA</td><td>⋯</td><td>0</td><td>1</td><td>1</td><td>1</td><td>0</td><td>0</td><td>0</td><td>1</td><td>0</td><td>1</td></tr>\n",
       "\t<tr><td>80723</td><td>1</td><td>27</td><td>5</td><td>3</td><td>27</td><td>27</td><td>27</td><td>5</td><td>NA</td><td>⋯</td><td>0</td><td>0</td><td>0</td><td>1</td><td>0</td><td>0</td><td>0</td><td>0</td><td>0</td><td>0</td></tr>\n",
       "\t<tr><td>80725</td><td>1</td><td>23</td><td>1</td><td>4</td><td>23</td><td>23</td><td>23</td><td>1</td><td> 1</td><td>⋯</td><td>0</td><td>0</td><td>0</td><td>1</td><td>0</td><td>0</td><td>0</td><td>1</td><td>0</td><td>1</td></tr>\n",
       "</tbody>\n",
       "</table>\n"
      ],
      "text/latex": [
       "A tibble: 6 × 2633\n",
       "\\begin{tabular}{lllllllllllllllllllll}\n",
       " caseid & rscrninf & rscrage & rscrhisp & rscrrace & age\\_a & age\\_r & agescrn & hisp & hispgrp & ⋯ & con\\_non & con\\_other & mar\\_opsex & straight & gay & bisexual & orient\\_else & anycollege & pregnowq0 & rwant0\\\\\n",
       " <dbl> & <dbl+lbl> & <dbl+lbl> & <dbl+lbl> & <dbl+lbl> & <dbl+lbl> & <dbl+lbl> & <dbl+lbl> & <dbl+lbl> & <dbl+lbl> & ⋯ & <dbl> & <dbl> & <dbl> & <dbl> & <dbl> & <dbl> & <dbl> & <dbl> & <dbl> & <dbl>\\\\\n",
       "\\hline\n",
       "\t 80716 & 5 & 35 & 5 & 1 & 35 & 35 & 35 & 5 & NA & ⋯ & 0 & 1 & 0 & 1 & 0 & 0 & 0 & 1 & 0 & 1\\\\\n",
       "\t 80718 & 1 & 30 & 5 & 3 & 30 & 30 & 30 & 5 & NA & ⋯ & 0 & 0 & 0 & 1 & 0 & 0 & 0 & 1 & 0 & 1\\\\\n",
       "\t 80719 & 5 & 30 & 5 & 2 & 30 & 30 & 30 & 5 & NA & ⋯ & 0 & 0 & 0 & 1 & 0 & 0 & 0 & 0 & 0 & 0\\\\\n",
       "\t 80720 & 1 & 32 & 5 & 3 & 32 & 32 & 32 & 5 & NA & ⋯ & 0 & 1 & 1 & 1 & 0 & 0 & 0 & 1 & 0 & 1\\\\\n",
       "\t 80723 & 1 & 27 & 5 & 3 & 27 & 27 & 27 & 5 & NA & ⋯ & 0 & 0 & 0 & 1 & 0 & 0 & 0 & 0 & 0 & 0\\\\\n",
       "\t 80725 & 1 & 23 & 1 & 4 & 23 & 23 & 23 & 1 &  1 & ⋯ & 0 & 0 & 0 & 1 & 0 & 0 & 0 & 1 & 0 & 1\\\\\n",
       "\\end{tabular}\n"
      ],
      "text/markdown": [
       "\n",
       "A tibble: 6 × 2633\n",
       "\n",
       "| caseid &lt;dbl&gt; | rscrninf &lt;dbl+lbl&gt; | rscrage &lt;dbl+lbl&gt; | rscrhisp &lt;dbl+lbl&gt; | rscrrace &lt;dbl+lbl&gt; | age_a &lt;dbl+lbl&gt; | age_r &lt;dbl+lbl&gt; | agescrn &lt;dbl+lbl&gt; | hisp &lt;dbl+lbl&gt; | hispgrp &lt;dbl+lbl&gt; | ⋯ ⋯ | con_non &lt;dbl&gt; | con_other &lt;dbl&gt; | mar_opsex &lt;dbl&gt; | straight &lt;dbl&gt; | gay &lt;dbl&gt; | bisexual &lt;dbl&gt; | orient_else &lt;dbl&gt; | anycollege &lt;dbl&gt; | pregnowq0 &lt;dbl&gt; | rwant0 &lt;dbl&gt; |\n",
       "|---|---|---|---|---|---|---|---|---|---|---|---|---|---|---|---|---|---|---|---|---|\n",
       "| 80716 | 5 | 35 | 5 | 1 | 35 | 35 | 35 | 5 | NA | ⋯ | 0 | 1 | 0 | 1 | 0 | 0 | 0 | 1 | 0 | 1 |\n",
       "| 80718 | 1 | 30 | 5 | 3 | 30 | 30 | 30 | 5 | NA | ⋯ | 0 | 0 | 0 | 1 | 0 | 0 | 0 | 1 | 0 | 1 |\n",
       "| 80719 | 5 | 30 | 5 | 2 | 30 | 30 | 30 | 5 | NA | ⋯ | 0 | 0 | 0 | 1 | 0 | 0 | 0 | 0 | 0 | 0 |\n",
       "| 80720 | 1 | 32 | 5 | 3 | 32 | 32 | 32 | 5 | NA | ⋯ | 0 | 1 | 1 | 1 | 0 | 0 | 0 | 1 | 0 | 1 |\n",
       "| 80723 | 1 | 27 | 5 | 3 | 27 | 27 | 27 | 5 | NA | ⋯ | 0 | 0 | 0 | 1 | 0 | 0 | 0 | 0 | 0 | 0 |\n",
       "| 80725 | 1 | 23 | 1 | 4 | 23 | 23 | 23 | 1 |  1 | ⋯ | 0 | 0 | 0 | 1 | 0 | 0 | 0 | 1 | 0 | 1 |\n",
       "\n"
      ],
      "text/plain": [
       "  caseid rscrninf rscrage rscrhisp rscrrace age_a age_r agescrn hisp hispgrp ⋯\n",
       "1 80716  5        35      5        1        35    35    35      5    NA      ⋯\n",
       "2 80718  1        30      5        3        30    30    30      5    NA      ⋯\n",
       "3 80719  5        30      5        2        30    30    30      5    NA      ⋯\n",
       "4 80720  1        32      5        3        32    32    32      5    NA      ⋯\n",
       "5 80723  1        27      5        3        27    27    27      5    NA      ⋯\n",
       "6 80725  1        23      1        4        23    23    23      1     1      ⋯\n",
       "  con_non con_other mar_opsex straight gay bisexual orient_else anycollege\n",
       "1 0       1         0         1        0   0        0           1         \n",
       "2 0       0         0         1        0   0        0           1         \n",
       "3 0       0         0         1        0   0        0           0         \n",
       "4 0       1         1         1        0   0        0           1         \n",
       "5 0       0         0         1        0   0        0           0         \n",
       "6 0       0         0         1        0   0        0           1         \n",
       "  pregnowq0 rwant0\n",
       "1 0         1     \n",
       "2 0         1     \n",
       "3 0         0     \n",
       "4 0         1     \n",
       "5 0         0     \n",
       "6 0         1     "
      ]
     },
     "metadata": {},
     "output_type": "display_data"
    }
   ],
   "source": [
    "head(nsfg1719)"
   ]
  },
  {
   "cell_type": "code",
   "execution_count": null,
   "id": "862f0749",
   "metadata": {},
   "outputs": [],
   "source": []
  }
 ],
 "metadata": {
  "kernelspec": {
   "display_name": "R",
   "language": "R",
   "name": "ir"
  },
  "language_info": {
   "codemirror_mode": "r",
   "file_extension": ".r",
   "mimetype": "text/x-r-source",
   "name": "R",
   "pygments_lexer": "r",
   "version": "4.2.1"
  }
 },
 "nbformat": 4,
 "nbformat_minor": 5
}
