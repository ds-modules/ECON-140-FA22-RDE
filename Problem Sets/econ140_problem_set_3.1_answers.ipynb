{
 "cells": [
  {
   "cell_type": "markdown",
   "id": "28bfe784",
   "metadata": {},
   "source": [
    "<img src=\"images/econ140R_logo.png\" width=\"200\" />"
   ]
  },
  {
   "cell_type": "markdown",
   "id": "7e3abd8d",
   "metadata": {},
   "source": [
    "In the following cell, please type your name and SID:"
   ]
  },
  {
   "cell_type": "markdown",
   "id": "72f7e9bd",
   "metadata": {},
   "source": []
  },
  {
   "cell_type": "markdown",
   "id": "d902364b",
   "metadata": {},
   "source": [
    "In the cell below, please write out the [Honor Code](https://teaching.berkeley.edu/berkeley-honor-code) to reaffirm you are abiding by it."
   ]
  },
  {
   "cell_type": "markdown",
   "id": "9da84619",
   "metadata": {},
   "source": []
  },
  {
   "cell_type": "markdown",
   "id": "6824f541",
   "metadata": {},
   "source": [
    "Did you work with other students? List them below. Please write your answers in your own words, not in theirs."
   ]
  },
  {
   "cell_type": "markdown",
   "id": "de191923",
   "metadata": {},
   "source": []
  },
  {
   "cell_type": "markdown",
   "id": "26c9fa61",
   "metadata": {},
   "source": [
    "<h1>ECON 140R - Problem Set 3 Part 1</h1>\n",
    "\n",
    "<font color=\"red\"><b>Please complete Problem Set 3 Part 2 also</b></font>\n",
    "\n",
    "<h2>INSTRUCTIONS</h2>\n",
    "\n",
    "Please step through this problem set, copying and pasting code as needed, and run the code to produce output. Answer the questions asked, which appear in <font color=\"blue\">blue font</font>. You will earn 100% of the credit on this problem set for <b>completing</b> it with working code and coherent answers. Answers do not need to be correct for full credit."
   ]
  },
  {
   "cell_type": "markdown",
   "id": "f664f36d",
   "metadata": {},
   "source": [
    "Throughout, <b>you may consult outside sources like the paper below or other commentary</b>, but your analysis should be in your own words. We will not run TurnItIn software on this Problem Set, but as usual, you should not borrow phrases without attribution or commit \"mosaic plagiarism.\""
   ]
  },
  {
   "cell_type": "markdown",
   "id": "90b66eed",
   "metadata": {},
   "source": [
    "In this problem set we're examining a special extract of the 1980 Census to replicate [Angrist and Krueger (1994)](https://www-jstor-org.libproxy.berkeley.edu/stable/2535121), who research \"Why Do World War II Veterans Earn More than Nonveterans?\" We will use ordinary least squares and two-stage least squares (2SLS), a common implementation of instrumental variables, to replicate their primary results shown in their Table 4, which is reprinted below:"
   ]
  },
  {
   "cell_type": "markdown",
   "id": "6fd95c14",
   "metadata": {},
   "source": [
    "<img src=\"images/angrist-krueger-1994-ta4.png\" width=\"500\" />"
   ]
  },
  {
   "cell_type": "code",
   "execution_count": 2,
   "id": "3fe2d54f",
   "metadata": {},
   "outputs": [
    {
     "name": "stderr",
     "output_type": "stream",
     "text": [
      "── \u001b[1mAttaching packages\u001b[22m ─────────────────────────────────────── tidyverse 1.3.0 ──\n",
      "\n",
      "\u001b[32m✔\u001b[39m \u001b[34mggplot2\u001b[39m 3.3.6      \u001b[32m✔\u001b[39m \u001b[34mpurrr  \u001b[39m 0.3.4 \n",
      "\u001b[32m✔\u001b[39m \u001b[34mtibble \u001b[39m 3.1.8      \u001b[32m✔\u001b[39m \u001b[34mdplyr  \u001b[39m 1.0.10\n",
      "\u001b[32m✔\u001b[39m \u001b[34mtidyr  \u001b[39m 1.2.1      \u001b[32m✔\u001b[39m \u001b[34mstringr\u001b[39m 1.4.1 \n",
      "\u001b[32m✔\u001b[39m \u001b[34mreadr  \u001b[39m 2.1.3      \u001b[32m✔\u001b[39m \u001b[34mforcats\u001b[39m 0.5.2 \n",
      "\n",
      "── \u001b[1mConflicts\u001b[22m ────────────────────────────────────────── tidyverse_conflicts() ──\n",
      "\u001b[31m✖\u001b[39m \u001b[34mdplyr\u001b[39m::\u001b[32mfilter()\u001b[39m masks \u001b[34mstats\u001b[39m::filter()\n",
      "\u001b[31m✖\u001b[39m \u001b[34mdplyr\u001b[39m::\u001b[32mlag()\u001b[39m    masks \u001b[34mstats\u001b[39m::lag()\n",
      "\n",
      "Installing package into ‘/opt/r’\n",
      "(as ‘lib’ is unspecified)\n",
      "\n"
     ]
    }
   ],
   "source": [
    "library(tidyverse)\n",
    "library(haven)\n",
    "library(ggplot2)\n",
    "install.packages(\"ivreg\", dependencies = TRUE)\n",
    "library(\"ivreg\")"
   ]
  },
  {
   "cell_type": "markdown",
   "id": "485312ef",
   "metadata": {},
   "source": [
    "It turns out that this handy command stops __R__ from defaulting to scientific notation. "
   ]
  },
  {
   "cell_type": "code",
   "execution_count": 3,
   "id": "72b4d565",
   "metadata": {},
   "outputs": [],
   "source": [
    "options(scipen=999)"
   ]
  },
  {
   "cell_type": "markdown",
   "id": "12ef77b4",
   "metadata": {},
   "source": [
    "<hr>"
   ]
  },
  {
   "cell_type": "markdown",
   "id": "8e23c4ca",
   "metadata": {},
   "source": [
    "Below, we load in a 50% randomly selected subsample of an extract downloaded from IPUMS of the 1980 Census public-use microsample, which is a 5% flat cut of the entire Census. (So we are looking at a 2.5% flat cut.) This particular extract contains men only, who were born in 1925, 1926, 1927, and 1928. The data also contain their quarter of birth, whether they served in WWII `wwii`, and their wage and salary income `incwage`, and several other characteristics.\n",
    "\n",
    "The 1980 Census was unique in asking about month of birth on the [short form](https://www.census.gov/history/pdf/1980_short_questionnaire.pdf), which everyone answered. The public-use microdata sample condensed this into quarter of birth, but `birthqtr` is still fairly unique across Census products. Some other datasets measure month of birth, and restricted-use datasets may also supply even day of birth.\n",
    "\n",
    "You can download these data yourself. But be advised the the full dataset contains over 11 million records, or 5% of the nation's roughly 227 million people in 1980. Even with just 36 variables selected, the extract is over a gigabyte in size and is too large for datahub."
   ]
  },
  {
   "cell_type": "markdown",
   "id": "ffbdf230",
   "metadata": {},
   "source": [
    "<hr>"
   ]
  },
  {
   "cell_type": "markdown",
   "id": "5b5782b3",
   "metadata": {},
   "source": [
    "Let's load up and look at the data."
   ]
  },
  {
   "cell_type": "code",
   "execution_count": 4,
   "id": "144ee7de",
   "metadata": {},
   "outputs": [
    {
     "data": {
      "text/html": [
       "<table class=\"dataframe\">\n",
       "<caption>A tibble: 6 × 67</caption>\n",
       "<thead>\n",
       "\t<tr><th scope=col>year</th><th scope=col>sample</th><th scope=col>serial</th><th scope=col>hhwt</th><th scope=col>cluster</th><th scope=col>statefip</th><th scope=col>metro</th><th scope=col>strata</th><th scope=col>gq</th><th scope=col>pernum</th><th scope=col>⋯</th><th scope=col>b27q4</th><th scope=col>b28q2</th><th scope=col>b28q3</th><th scope=col>b28q4</th><th scope=col>srgrp</th><th scope=col>b25q1</th><th scope=col>b26q1</th><th scope=col>b27q1</th><th scope=col>b28q1</th><th scope=col>regsample</th></tr>\n",
       "\t<tr><th scope=col>&lt;dbl+lbl&gt;</th><th scope=col>&lt;dbl+lbl&gt;</th><th scope=col>&lt;dbl&gt;</th><th scope=col>&lt;dbl&gt;</th><th scope=col>&lt;dbl&gt;</th><th scope=col>&lt;dbl+lbl&gt;</th><th scope=col>&lt;dbl+lbl&gt;</th><th scope=col>&lt;dbl&gt;</th><th scope=col>&lt;dbl+lbl&gt;</th><th scope=col>&lt;dbl&gt;</th><th scope=col>⋯</th><th scope=col>&lt;dbl&gt;</th><th scope=col>&lt;dbl&gt;</th><th scope=col>&lt;dbl&gt;</th><th scope=col>&lt;dbl&gt;</th><th scope=col>&lt;dbl+lbl&gt;</th><th scope=col>&lt;dbl&gt;</th><th scope=col>&lt;dbl&gt;</th><th scope=col>&lt;dbl&gt;</th><th scope=col>&lt;dbl&gt;</th><th scope=col>&lt;dbl&gt;</th></tr>\n",
       "</thead>\n",
       "<tbody>\n",
       "\t<tr><td>1980</td><td>198001</td><td>9057</td><td>20</td><td>1980000090571</td><td>1</td><td>0</td><td>27</td><td>1</td><td>1</td><td>⋯</td><td>0</td><td>1</td><td>0</td><td>0</td><td>NA</td><td>0</td><td>0</td><td>0</td><td>0</td><td>1</td></tr>\n",
       "\t<tr><td>1980</td><td>198001</td><td>9181</td><td>20</td><td>1980000091811</td><td>1</td><td>0</td><td>24</td><td>1</td><td>1</td><td>⋯</td><td>0</td><td>0</td><td>0</td><td>0</td><td>NA</td><td>0</td><td>0</td><td>0</td><td>0</td><td>1</td></tr>\n",
       "\t<tr><td>1980</td><td>198001</td><td>9292</td><td>20</td><td>1980000092921</td><td>1</td><td>0</td><td> 6</td><td>1</td><td>1</td><td>⋯</td><td>1</td><td>0</td><td>0</td><td>0</td><td>NA</td><td>0</td><td>0</td><td>0</td><td>0</td><td>1</td></tr>\n",
       "\t<tr><td>1980</td><td>198001</td><td>9329</td><td>20</td><td>1980000093291</td><td>1</td><td>0</td><td>24</td><td>1</td><td>1</td><td>⋯</td><td>0</td><td>0</td><td>0</td><td>0</td><td> 2</td><td>0</td><td>0</td><td>0</td><td>0</td><td>1</td></tr>\n",
       "\t<tr><td>1980</td><td>198001</td><td>9403</td><td>20</td><td>1980000094031</td><td>1</td><td>0</td><td> 6</td><td>1</td><td>1</td><td>⋯</td><td>0</td><td>0</td><td>0</td><td>0</td><td>NA</td><td>0</td><td>1</td><td>0</td><td>0</td><td>1</td></tr>\n",
       "\t<tr><td>1980</td><td>198001</td><td>9417</td><td>20</td><td>1980000094171</td><td>1</td><td>0</td><td>24</td><td>1</td><td>1</td><td>⋯</td><td>0</td><td>0</td><td>0</td><td>0</td><td>NA</td><td>0</td><td>0</td><td>0</td><td>1</td><td>1</td></tr>\n",
       "</tbody>\n",
       "</table>\n"
      ],
      "text/latex": [
       "A tibble: 6 × 67\n",
       "\\begin{tabular}{lllllllllllllllllllll}\n",
       " year & sample & serial & hhwt & cluster & statefip & metro & strata & gq & pernum & ⋯ & b27q4 & b28q2 & b28q3 & b28q4 & srgrp & b25q1 & b26q1 & b27q1 & b28q1 & regsample\\\\\n",
       " <dbl+lbl> & <dbl+lbl> & <dbl> & <dbl> & <dbl> & <dbl+lbl> & <dbl+lbl> & <dbl> & <dbl+lbl> & <dbl> & ⋯ & <dbl> & <dbl> & <dbl> & <dbl> & <dbl+lbl> & <dbl> & <dbl> & <dbl> & <dbl> & <dbl>\\\\\n",
       "\\hline\n",
       "\t 1980 & 198001 & 9057 & 20 & 1980000090571 & 1 & 0 & 27 & 1 & 1 & ⋯ & 0 & 1 & 0 & 0 & NA & 0 & 0 & 0 & 0 & 1\\\\\n",
       "\t 1980 & 198001 & 9181 & 20 & 1980000091811 & 1 & 0 & 24 & 1 & 1 & ⋯ & 0 & 0 & 0 & 0 & NA & 0 & 0 & 0 & 0 & 1\\\\\n",
       "\t 1980 & 198001 & 9292 & 20 & 1980000092921 & 1 & 0 &  6 & 1 & 1 & ⋯ & 1 & 0 & 0 & 0 & NA & 0 & 0 & 0 & 0 & 1\\\\\n",
       "\t 1980 & 198001 & 9329 & 20 & 1980000093291 & 1 & 0 & 24 & 1 & 1 & ⋯ & 0 & 0 & 0 & 0 &  2 & 0 & 0 & 0 & 0 & 1\\\\\n",
       "\t 1980 & 198001 & 9403 & 20 & 1980000094031 & 1 & 0 &  6 & 1 & 1 & ⋯ & 0 & 0 & 0 & 0 & NA & 0 & 1 & 0 & 0 & 1\\\\\n",
       "\t 1980 & 198001 & 9417 & 20 & 1980000094171 & 1 & 0 & 24 & 1 & 1 & ⋯ & 0 & 0 & 0 & 0 & NA & 0 & 0 & 0 & 1 & 1\\\\\n",
       "\\end{tabular}\n"
      ],
      "text/markdown": [
       "\n",
       "A tibble: 6 × 67\n",
       "\n",
       "| year &lt;dbl+lbl&gt; | sample &lt;dbl+lbl&gt; | serial &lt;dbl&gt; | hhwt &lt;dbl&gt; | cluster &lt;dbl&gt; | statefip &lt;dbl+lbl&gt; | metro &lt;dbl+lbl&gt; | strata &lt;dbl&gt; | gq &lt;dbl+lbl&gt; | pernum &lt;dbl&gt; | ⋯ ⋯ | b27q4 &lt;dbl&gt; | b28q2 &lt;dbl&gt; | b28q3 &lt;dbl&gt; | b28q4 &lt;dbl&gt; | srgrp &lt;dbl+lbl&gt; | b25q1 &lt;dbl&gt; | b26q1 &lt;dbl&gt; | b27q1 &lt;dbl&gt; | b28q1 &lt;dbl&gt; | regsample &lt;dbl&gt; |\n",
       "|---|---|---|---|---|---|---|---|---|---|---|---|---|---|---|---|---|---|---|---|---|\n",
       "| 1980 | 198001 | 9057 | 20 | 1980000090571 | 1 | 0 | 27 | 1 | 1 | ⋯ | 0 | 1 | 0 | 0 | NA | 0 | 0 | 0 | 0 | 1 |\n",
       "| 1980 | 198001 | 9181 | 20 | 1980000091811 | 1 | 0 | 24 | 1 | 1 | ⋯ | 0 | 0 | 0 | 0 | NA | 0 | 0 | 0 | 0 | 1 |\n",
       "| 1980 | 198001 | 9292 | 20 | 1980000092921 | 1 | 0 |  6 | 1 | 1 | ⋯ | 1 | 0 | 0 | 0 | NA | 0 | 0 | 0 | 0 | 1 |\n",
       "| 1980 | 198001 | 9329 | 20 | 1980000093291 | 1 | 0 | 24 | 1 | 1 | ⋯ | 0 | 0 | 0 | 0 |  2 | 0 | 0 | 0 | 0 | 1 |\n",
       "| 1980 | 198001 | 9403 | 20 | 1980000094031 | 1 | 0 |  6 | 1 | 1 | ⋯ | 0 | 0 | 0 | 0 | NA | 0 | 1 | 0 | 0 | 1 |\n",
       "| 1980 | 198001 | 9417 | 20 | 1980000094171 | 1 | 0 | 24 | 1 | 1 | ⋯ | 0 | 0 | 0 | 0 | NA | 0 | 0 | 0 | 1 | 1 |\n",
       "\n"
      ],
      "text/plain": [
       "  year sample serial hhwt cluster       statefip metro strata gq pernum ⋯ b27q4\n",
       "1 1980 198001 9057   20   1980000090571 1        0     27     1  1      ⋯ 0    \n",
       "2 1980 198001 9181   20   1980000091811 1        0     24     1  1      ⋯ 0    \n",
       "3 1980 198001 9292   20   1980000092921 1        0      6     1  1      ⋯ 1    \n",
       "4 1980 198001 9329   20   1980000093291 1        0     24     1  1      ⋯ 0    \n",
       "5 1980 198001 9403   20   1980000094031 1        0      6     1  1      ⋯ 0    \n",
       "6 1980 198001 9417   20   1980000094171 1        0     24     1  1      ⋯ 0    \n",
       "  b28q2 b28q3 b28q4 srgrp b25q1 b26q1 b27q1 b28q1 regsample\n",
       "1 1     0     0     NA    0     0     0     0     1        \n",
       "2 0     0     0     NA    0     0     0     0     1        \n",
       "3 0     0     0     NA    0     0     0     0     1        \n",
       "4 0     0     0      2    0     0     0     0     1        \n",
       "5 0     0     0     NA    0     1     0     0     1        \n",
       "6 0     0     0     NA    0     0     0     1     1        "
      ]
     },
     "metadata": {},
     "output_type": "display_data"
    }
   ],
   "source": [
    "data_c80_regsample = read_dta(\"data_c80_regsample_3.dta\")\n",
    "head(data_c80_regsample)"
   ]
  },
  {
   "cell_type": "markdown",
   "id": "eddcc463",
   "metadata": {},
   "source": [
    "Here is a baseline regression of a useful $Y$ variable, log pre-tax wage and salary income, which is [described at IPUMS here](https://usa.ipums.org/usa-action/variables/INCWAGE#description_section):\n",
    "\n",
    "$$\n",
    "\\ln Y_i = \\alpha + \\beta^{w} \\ wwii_i + B \\ controls_i + \\epsilon_i\n",
    "$$\n",
    "\n",
    "where we are controlling for 0/1 WWII service; year of birth; being white (Black, Hispanic, and other men are the baseline omitted category); being married in 1980; a 0/1 indicator of living and working in a standard metropolitan statistical area (SMSA); years of education; a 0/1 indicator of a disability that limits or prevents work; and 49 indicators for 48 lower states (AK and HI are dropped) plus DC.\n",
    "\n",
    "We'll run this regression and examine what we find for $\\beta^w$. Let's follow what [Angrist and Krueger (1994)](https://www-jstor-org.libproxy.berkeley.edu/stable/2535121) do in the left side of Table 4, marked \"OLS,\" which looks a lot like the left-hand side of Table 2.2 in <i>Mastering Metrics</i> Chapter 2. In both, the authors start with a simple model and the add some covariates that might have (and did) inject omitted variable bias. Here's what we'll do:\n",
    "\n",
    "1. $\\ln Y_i = \\alpha + \\beta^{w} \\ wwii_i + \\sum \\beta^{by} \\ birthyear_i  + \\epsilon_i$\n",
    "\n",
    "2. $\\ln Y_i = \\alpha + \\beta^{w} \\ wwii_i + \\sum \\beta^{by} \\ birthyear_i  + \\beta^wnh \\ white_i + \\beta^m \\ married_i + \\sum \\beta^{s}\\ state_i + \\beta^u \\ SMSA_i + \\epsilon_i$\n",
    "\n",
    "2. $\\ln Y_i = \\alpha + \\beta^{w} \\ wwii_i + \\sum \\beta^{by} \\ birthyear_i  + \\beta^wnh \\ white_i + \\beta^m \\ married_i + \\sum \\beta^{s}\\ state_i + \\beta^u \\ SMSA_i + \\beta^e \\ educ_i + \\beta^d \\ disability_i + \\epsilon_i$"
   ]
  },
  {
   "cell_type": "markdown",
   "id": "e537b690",
   "metadata": {},
   "source": [
    "<h4>\n",
    "<font color=\"blue\">Complete the code below and run it.</font>\n",
    "    </h4>"
   ]
  },
  {
   "cell_type": "code",
   "execution_count": 5,
   "id": "628b2735",
   "metadata": {},
   "outputs": [
    {
     "data": {
      "text/plain": [
       "\n",
       "Call:\n",
       "lm(formula = logincwage ~ wwii + factor(birthyr), data = data_c80_regsample)\n",
       "\n",
       "Residuals:\n",
       "    Min      1Q  Median      3Q     Max \n",
       "-5.8953 -0.2852  0.0974  0.4115  1.7050 \n",
       "\n",
       "Coefficients:\n",
       "                    Estimate Std. Error  t value             Pr(>|t|)    \n",
       "(Intercept)         9.520292   0.006679 1425.342 < 0.0000000000000002 ***\n",
       "wwii                0.238044   0.005669   41.990 < 0.0000000000000002 ***\n",
       "factor(birthyr)1926 0.030991   0.007277    4.259      0.0000205986402 ***\n",
       "factor(birthyr)1927 0.047956   0.007225    6.637      0.0000000000322 ***\n",
       "factor(birthyr)1928 0.144340   0.007668   18.824 < 0.0000000000000002 ***\n",
       "---\n",
       "Signif. codes:  0 ‘***’ 0.001 ‘**’ 0.01 ‘*’ 0.05 ‘.’ 0.1 ‘ ’ 1\n",
       "\n",
       "Residual standard error: 0.7295 on 81506 degrees of freedom\n",
       "Multiple R-squared:  0.02156,\tAdjusted R-squared:  0.02151 \n",
       "F-statistic: 448.9 on 4 and 81506 DF,  p-value: < 0.00000000000000022\n"
      ]
     },
     "metadata": {},
     "output_type": "display_data"
    }
   ],
   "source": [
    "c80_reg1 <- lm(logincwage ~ wwii + factor(birthyr), \n",
    "               data = data_c80_regsample)\n",
    "summary(c80_reg1)"
   ]
  },
  {
   "cell_type": "markdown",
   "id": "8ca85931",
   "metadata": {},
   "source": [
    "<font color=\"blue\">\n",
    "    <h3>\n",
    "    Question 1</h3>\n",
    "    Look at the regression output above and describe what you see. How much more do male veterans of WWII earn compared to male nonveterans? Is the effect statistically significant? Describe using the reported numbers in the regression output, and also state what you see in descriptive sentences where you refer to the percentages revealed by the reported numbers. \n",
    "</font>"
   ]
  },
  {
   "cell_type": "markdown",
   "id": "22dc4759",
   "metadata": {},
   "source": [
    "In this sparse model, we see a very large earnings benefit for WWII veterans, about 24%. This is larger than what is shown in the far left-hand column in Table 4 in Angrist and Krueger (1994), probably because our sample is slightly different. The earnings benefit is statistically significant."
   ]
  },
  {
   "cell_type": "markdown",
   "id": "8e98cbd9",
   "metadata": {},
   "source": [
    "<h4>\n",
    "<font color=\"blue\">Complete the code below and run it.</font>\n",
    "    </h4>"
   ]
  },
  {
   "cell_type": "code",
   "execution_count": 6,
   "id": "e265b38e",
   "metadata": {},
   "outputs": [
    {
     "data": {
      "text/plain": [
       "\n",
       "Call:\n",
       "lm(formula = logincwage ~ wwii + factor(birthyr) + white + married + \n",
       "    factor(statefip) + smsa, data = data_c80_regsample)\n",
       "\n",
       "Residuals:\n",
       "    Min      1Q  Median      3Q     Max \n",
       "-5.7758 -0.2721  0.0787  0.3938  2.3530 \n",
       "\n",
       "Coefficients:\n",
       "                     Estimate Std. Error t value             Pr(>|t|)    \n",
       "(Intercept)          8.641358   0.021726 397.736 < 0.0000000000000002 ***\n",
       "wwii                 0.155759   0.005508  28.280 < 0.0000000000000002 ***\n",
       "factor(birthyr)1926  0.028452   0.006935   4.103 0.000040860331962350 ***\n",
       "factor(birthyr)1927  0.045273   0.006886   6.575 0.000000000048917862 ***\n",
       "factor(birthyr)1928  0.109530   0.007322  14.959 < 0.0000000000000002 ***\n",
       "white                0.360574   0.008828  40.847 < 0.0000000000000002 ***\n",
       "married              0.365901   0.007132  51.301 < 0.0000000000000002 ***\n",
       "factor(statefip)4    0.046048   0.030576   1.506             0.132062    \n",
       "factor(statefip)5   -0.070275   0.031918  -2.202             0.027686 *  \n",
       "factor(statefip)6    0.219658   0.020569  10.679 < 0.0000000000000002 ***\n",
       "factor(statefip)8    0.103053   0.029205   3.529             0.000418 ***\n",
       "factor(statefip)9    0.246653   0.027040   9.122 < 0.0000000000000002 ***\n",
       "factor(statefip)10   0.141469   0.049551   2.855             0.004304 ** \n",
       "factor(statefip)11   0.439912   0.053011   8.298 < 0.0000000000000002 ***\n",
       "factor(statefip)12  -0.076934   0.022592  -3.405             0.000661 ***\n",
       "factor(statefip)13   0.043266   0.025068   1.726             0.084360 .  \n",
       "factor(statefip)16   0.113707   0.045813   2.482             0.013067 *  \n",
       "factor(statefip)17   0.260537   0.021627  12.047 < 0.0000000000000002 ***\n",
       "factor(statefip)18   0.162703   0.024024   6.773 0.000000000012741968 ***\n",
       "factor(statefip)19   0.139521   0.028934   4.822 0.000001423454218635 ***\n",
       "factor(statefip)20   0.112008   0.029659   3.776             0.000159 ***\n",
       "factor(statefip)21   0.056023   0.027377   2.046             0.040723 *  \n",
       "factor(statefip)22   0.137039   0.026301   5.210 0.000000188902735907 ***\n",
       "factor(statefip)23  -0.031952   0.037911  -0.843             0.399333    \n",
       "factor(statefip)24   0.237555   0.025169   9.439 < 0.0000000000000002 ***\n",
       "factor(statefip)25   0.140037   0.023941   5.849 0.000000004955311198 ***\n",
       "factor(statefip)26   0.257032   0.022100  11.630 < 0.0000000000000002 ***\n",
       "factor(statefip)27   0.196439   0.026365   7.451 0.000000000000093688 ***\n",
       "factor(statefip)28  -0.038817   0.031255  -1.242             0.214251    \n",
       "factor(statefip)29   0.069958   0.024768   2.824             0.004737 ** \n",
       "factor(statefip)30   0.081071   0.045750   1.772             0.076393 .  \n",
       "factor(statefip)31   0.081405   0.035884   2.269             0.023297 *  \n",
       "factor(statefip)32   0.011362   0.044008   0.258             0.796271    \n",
       "factor(statefip)33   0.086347   0.043728   1.975             0.048312 *  \n",
       "factor(statefip)34   0.243908   0.022747  10.723 < 0.0000000000000002 ***\n",
       "factor(statefip)35   0.050305   0.039065   1.288             0.197845    \n",
       "factor(statefip)36   0.167936   0.020834   8.061 0.000000000000000769 ***\n",
       "factor(statefip)37  -0.041604   0.024128  -1.724             0.084651 .  \n",
       "factor(statefip)38   0.081065   0.054964   1.475             0.140251    \n",
       "factor(statefip)39   0.189730   0.021516   8.818 < 0.0000000000000002 ***\n",
       "factor(statefip)40   0.060210   0.028445   2.117             0.034289 *  \n",
       "factor(statefip)41   0.130173   0.029907   4.353 0.000013468573057921 ***\n",
       "factor(statefip)42   0.108612   0.021273   5.106 0.000000330362805132 ***\n",
       "factor(statefip)44   0.022252   0.039506   0.563             0.573269    \n",
       "factor(statefip)45  -0.012394   0.028438  -0.436             0.662968    \n",
       "factor(statefip)46   0.026606   0.054894   0.485             0.627907    \n",
       "factor(statefip)47  -0.015923   0.025687  -0.620             0.535336    \n",
       "factor(statefip)48   0.117798   0.021418   5.500 0.000000038074211383 ***\n",
       "factor(statefip)49   0.162673   0.038177   4.261 0.000020377188862778 ***\n",
       "factor(statefip)50   0.065848   0.059024   1.116             0.264592    \n",
       "factor(statefip)51   0.073352   0.024387   3.008             0.002632 ** \n",
       "factor(statefip)53   0.155853   0.026180   5.953 0.000000002642767139 ***\n",
       "factor(statefip)54   0.167467   0.031946   5.242 0.000000159131297185 ***\n",
       "factor(statefip)55   0.156399   0.024886   6.285 0.000000000330249923 ***\n",
       "factor(statefip)56   0.374936   0.056644   6.619 0.000000000036335099 ***\n",
       "smsa                 0.226968   0.005951  38.143 < 0.0000000000000002 ***\n",
       "---\n",
       "Signif. codes:  0 ‘***’ 0.001 ‘**’ 0.01 ‘*’ 0.05 ‘.’ 0.1 ‘ ’ 1\n",
       "\n",
       "Residual standard error: 0.695 on 81455 degrees of freedom\n",
       "Multiple R-squared:  0.1125,\tAdjusted R-squared:  0.1119 \n",
       "F-statistic: 187.8 on 55 and 81455 DF,  p-value: < 0.00000000000000022\n"
      ]
     },
     "metadata": {},
     "output_type": "display_data"
    }
   ],
   "source": [
    "c80_reg2 <- lm(logincwage ~ wwii + factor(birthyr) + white + married \n",
    "               + factor(statefip) + smsa, \n",
    "               data = data_c80_regsample)\n",
    "summary(c80_reg2)"
   ]
  },
  {
   "cell_type": "markdown",
   "id": "9ee76d09",
   "metadata": {},
   "source": [
    "<font color=\"blue\">\n",
    "    <h3>\n",
    "    Question 2</h3>\n",
    "    Look at the regression output above and describe what you see. How much more do male veterans of WWII earn compared to male nonveterans? Is the effect statistically significant? Discuss what is different about this regression compared to the first one above, in terms of the controls. Are these bad controls? California is <i>statefip</i> == 6; how does California residence affect earnings? State what you see in descriptive sentences.\n",
    "</font>"
   ]
  },
  {
   "cell_type": "markdown",
   "id": "2e92bb38",
   "metadata": {},
   "source": [
    "In this regression, we are including more controls, and we see the earnings benefit fall, from 24% in the first regression to roughly 16% here, which is very close to what we see in AK Table 4 column 2. The effect is still strongly significant. We have controlled for state of residence, SMSA (urban) residence, being white, and being married. The two latter characteristics are usually associated with higher earnings, and we see that confirmed here. \n",
    "\n",
    "One would expect both white identity and marital status might be positively correlated with WWII veteran status, and in the data they are. Race is determined before military service, so controlling for it here seems like the right move. For some of the other controls, it might seem less obvious whether they might close off channels of causality running from WWII veteran status to earnings, in which case they are bad controls, or if they mostly explain earnings but might be correlated with WWII veteran status, in which case they are good controls. Angrist and Krueger seem to think they are good controls.\n",
    "\n",
    "California residence raises earnings. Several other states have higher earnings associated with them too, and SMSA (urban) residene also does."
   ]
  },
  {
   "cell_type": "markdown",
   "id": "5c43c495",
   "metadata": {},
   "source": [
    "<h4>\n",
    "<font color=\"blue\">Complete the code below and run it.</font>\n",
    "    </h4>"
   ]
  },
  {
   "cell_type": "code",
   "execution_count": 7,
   "id": "dc068465",
   "metadata": {},
   "outputs": [
    {
     "data": {
      "text/plain": [
       "\n",
       "Call:\n",
       "lm(formula = logincwage ~ wwii + factor(birthyr) + white + married + \n",
       "    factor(statefip) + smsa + edyrs + disability, data = data_c80_regsample)\n",
       "\n",
       "Residuals:\n",
       "    Min      1Q  Median      3Q     Max \n",
       "-5.8939 -0.2440  0.0803  0.3710  2.7084 \n",
       "\n",
       "Coefficients:\n",
       "                      Estimate Std. Error t value             Pr(>|t|)    \n",
       "(Intercept)          8.2333178  0.0211386 389.492 < 0.0000000000000002 ***\n",
       "wwii                 0.0822755  0.0052242  15.749 < 0.0000000000000002 ***\n",
       "factor(birthyr)1926  0.0208069  0.0065043   3.199             0.001380 ** \n",
       "factor(birthyr)1927  0.0245310  0.0064607   3.797             0.000147 ***\n",
       "factor(birthyr)1928  0.0556310  0.0068854   8.080 0.000000000000000659 ***\n",
       "white                0.2481302  0.0083690  29.649 < 0.0000000000000002 ***\n",
       "married              0.3364927  0.0066966  50.248 < 0.0000000000000002 ***\n",
       "factor(statefip)4    0.0063917  0.0286789   0.223             0.823637    \n",
       "factor(statefip)5   -0.0702609  0.0299315  -2.347             0.018908 *  \n",
       "factor(statefip)6    0.1391674  0.0193073   7.208 0.000000000000572681 ***\n",
       "factor(statefip)8    0.0274810  0.0273987   1.003             0.315863    \n",
       "factor(statefip)9    0.1684144  0.0253688   6.639 0.000000000031854138 ***\n",
       "factor(statefip)10   0.0806750  0.0464709   1.736             0.082562 .  \n",
       "factor(statefip)11   0.3075275  0.0497317   6.184 0.000000000628995365 ***\n",
       "factor(statefip)12  -0.1171238  0.0211907  -5.527 0.000000032648286901 ***\n",
       "factor(statefip)13   0.0622869  0.0235089   2.650             0.008062 ** \n",
       "factor(statefip)16   0.0545832  0.0429685   1.270             0.203979    \n",
       "factor(statefip)17   0.2078434  0.0202873  10.245 < 0.0000000000000002 ***\n",
       "factor(statefip)18   0.1421413  0.0225300   6.309 0.000000000282297137 ***\n",
       "factor(statefip)19   0.0934622  0.0271375   3.444             0.000573 ***\n",
       "factor(statefip)20   0.0417876  0.0278235   1.502             0.133132    \n",
       "factor(statefip)21   0.0880835  0.0256750   3.431             0.000602 ***\n",
       "factor(statefip)22   0.1358623  0.0246648   5.508 0.000000036328694663 ***\n",
       "factor(statefip)23  -0.0622132  0.0355533  -1.750             0.080147 .  \n",
       "factor(statefip)24   0.2079580  0.0236050   8.810 < 0.0000000000000002 ***\n",
       "factor(statefip)25   0.0814565  0.0224580   3.627             0.000287 ***\n",
       "factor(statefip)26   0.2342530  0.0207264  11.302 < 0.0000000000000002 ***\n",
       "factor(statefip)27   0.1491293  0.0247284   6.031 0.000000001639662794 ***\n",
       "factor(statefip)28  -0.0397405  0.0293101  -1.356             0.175147    \n",
       "factor(statefip)29   0.0523330  0.0232277   2.253             0.024259 *  \n",
       "factor(statefip)30   0.0042506  0.0429095   0.099             0.921092    \n",
       "factor(statefip)31   0.0009803  0.0336596   0.029             0.976767    \n",
       "factor(statefip)32  -0.0249465  0.0412712  -0.604             0.545543    \n",
       "factor(statefip)33   0.0278629  0.0410109   0.679             0.496884    \n",
       "factor(statefip)34   0.1782952  0.0213403   8.355 < 0.0000000000000002 ***\n",
       "factor(statefip)35  -0.0069313  0.0366386  -0.189             0.849952    \n",
       "factor(statefip)36   0.1034412  0.0195469   5.292 0.000000121336374938 ***\n",
       "factor(statefip)37  -0.0261176  0.0226279  -1.154             0.248414    \n",
       "factor(statefip)38   0.0215811  0.0515469   0.419             0.675458    \n",
       "factor(statefip)39   0.1643542  0.0201785   8.145 0.000000000000000384 ***\n",
       "factor(statefip)40   0.0211337  0.0266794   0.792             0.428285    \n",
       "factor(statefip)41   0.0688911  0.0280539   2.456             0.014064 *  \n",
       "factor(statefip)42   0.0935231  0.0199499   4.688 0.000002764621538631 ***\n",
       "factor(statefip)44  -0.0156000  0.0370497  -0.421             0.673716    \n",
       "factor(statefip)45   0.0085979  0.0266702   0.322             0.747167    \n",
       "factor(statefip)46  -0.0537610  0.0514847  -1.044             0.296390    \n",
       "factor(statefip)47   0.0067758  0.0240905   0.281             0.778508    \n",
       "factor(statefip)48   0.0945383  0.0200860   4.707 0.000002522118734501 ***\n",
       "factor(statefip)49   0.0995900  0.0358095   2.781             0.005419 ** \n",
       "factor(statefip)50   0.0182631  0.0553567   0.330             0.741464    \n",
       "factor(statefip)51   0.0602217  0.0228695   2.633             0.008458 ** \n",
       "factor(statefip)53   0.1007605  0.0245592   4.103 0.000040865478496477 ***\n",
       "factor(statefip)54   0.1685160  0.0299591   5.625 0.000000018626119455 ***\n",
       "factor(statefip)55   0.1115043  0.0233413   4.777 0.000001781236571195 ***\n",
       "factor(statefip)56   0.2286589  0.0531375   4.303 0.000016858063664115 ***\n",
       "smsa                 0.1626881  0.0056189  28.954 < 0.0000000000000002 ***\n",
       "edyrs                0.0602627  0.0006749  89.288 < 0.0000000000000002 ***\n",
       "disability          -0.4109917  0.0081743 -50.278 < 0.0000000000000002 ***\n",
       "---\n",
       "Signif. codes:  0 ‘***’ 0.001 ‘**’ 0.01 ‘*’ 0.05 ‘.’ 0.1 ‘ ’ 1\n",
       "\n",
       "Residual standard error: 0.6517 on 81453 degrees of freedom\n",
       "Multiple R-squared:  0.2196,\tAdjusted R-squared:  0.219 \n",
       "F-statistic:   402 on 57 and 81453 DF,  p-value: < 0.00000000000000022\n"
      ]
     },
     "metadata": {},
     "output_type": "display_data"
    }
   ],
   "source": [
    "c80_reg3 <- lm(logincwage ~ wwii + factor(birthyr) + white + married \n",
    "               + factor(statefip) + smsa \n",
    "               + edyrs + disability, \n",
    "               data = data_c80_regsample)\n",
    "summary(c80_reg3)"
   ]
  },
  {
   "cell_type": "markdown",
   "id": "b96dbb39",
   "metadata": {},
   "source": [
    "<font color=\"blue\">\n",
    "    <h3>\n",
    "    Question 3</h3>\n",
    "   Look at the regression output above and describe what you see. How much more do male veterans of WWII earn compared to male nonveterans? Is the effect statistically significant? Discuss what is different about this regression compared to the second one above, in terms of the controls. Are these bad controls? California is statefip == 6; how does California residence affect earnings? State what you see in descriptive sentences.\n",
    "</font>"
   ]
  },
  {
   "cell_type": "markdown",
   "id": "f101c6a4",
   "metadata": {},
   "source": [
    "Here we have added years of education and work disability status to the list of controls, and that pushes the earnings benefit for WWII veterans down to about 8%, still statistically significant.\n",
    "\n",
    "It is much cloudier whether education and disability might be channels of causality through which WWII veteran status affects earnings. What we are looking for in answers to a murky question like this is evidence of your ability to think through the issues and write about them briefly. Angrist and Krueger write about this themselves, starting on the bottom of page 82. They write that it is useful to look at estimates that do and do not control for education, because military service may well affect earnings through education. In this study, when quarter of birth ultimately matters a lot for disentangling things, they are also concerned with how quarter of birth may independently affect earnings through its effect on educational attainment &emdash because of compulsory schooling ages.\n",
    "\n",
    "As we discussed in class, the disability issue is more complicated. Service-connected disability is obviously more common among veterans, by definition. But military service is usually unavailable in the first place to people in poor health, who then later are at higher risk of disability. It appears to be this latter channel that is the stronger signal in these data; the correlation between being a WWII veteran and having a work-limited disability in 1980 is negative.\n",
    "\n",
    "California residence is still lucrative here."
   ]
  },
  {
   "cell_type": "markdown",
   "id": "e5693fbe",
   "metadata": {},
   "source": [
    "<font color=\"blue\">\n",
    "    <h3>\n",
    "    Question 4</h3>\n",
    "    Now discuss the three regressions we have run thus far. If we are concerned about the impact of WWII service on wages, do you think those extra right-hand-side variables are more like omitted variables, or more like bad controls? Or does it depend on your point of view? You can summarize your earlier remarks.</font>"
   ]
  },
  {
   "cell_type": "markdown",
   "id": "093e0be1",
   "metadata": {},
   "source": [
    "I think the story is murkier here than it usually is, due to the nature of the dataset. Education could be determined by veteran status, and we know that the midcentury G.I. Bill was greatly successful in raising attainment among veterans of WWII and the Korean Conflict. This would make education a bad control and perhaps better left out. But Angrist and Krueger are right that the \"partial effect\" of veteran status, holding education constant, is also interesting.\n",
    "\n",
    "As outlined in answers above, it seems likely that state of residence is probably a good control, as are SMSA (urban) status, and race. Marital status might not be, but I do not think there is a slam-dunk case to be made that WWII service causally affects earnings through it."
   ]
  },
  {
   "cell_type": "markdown",
   "id": "caf997d6",
   "metadata": {},
   "source": [
    "<hr>"
   ]
  },
  {
   "cell_type": "markdown",
   "id": "581cc03c",
   "metadata": {},
   "source": [
    "Unfortunately `ggplot2` and `haven` apparently don't always play well together. When I first tried running the boxplot code further below, I got weird error messages and nothing. Tips for when (not if) __R__ squawks and hoses you:\n",
    "\n",
    "* Deep breath. Sigh. Laugh. Post angrily to Twitter?\n",
    "* Copy the error message and paste into Google\n",
    "* Look for a Stack Exchange [stackoverflow.com](https://stackoverflow.com) post\n",
    "* Profit\n",
    "\n",
    "\n",
    "The code below apparently cleans up these indicator variables for use in `ggplot2`. Don't ask me why, because I don't know! The variable `notwwii` is obvious and it was useful because it switches the order. The variable `srgrp` is useful because of data labels for its values that I inserted in Stata. It measures 3 subgroups shown in an JASA paper by [Small and Rosenbaum (2008)](https://www-tandfonline-com.libproxy.berkeley.edu/doi/abs/10.1198/016214507000001247). \n",
    "1. Born in 1924 Q3 or Q4\n",
    "2. Born in 1926 Q3 or Q4\n",
    "3. Born in 1928 Q3 or Q4\n",
    "\n",
    "Note that our extract includes men born in 1925 through 1928, in concordance with the sample drawn by [Angrist and Krueger (1994)](https://www-jstor-org.libproxy.berkeley.edu/stable/2535121). So the men born in 1924 aren't present and won't show up in the box plots. (Which is OK, they look a lot like the men born in 1926.)"
   ]
  },
  {
   "cell_type": "code",
   "execution_count": 8,
   "id": "67dc0db3",
   "metadata": {},
   "outputs": [],
   "source": [
    "data_c80_regsample$notwwii <- haven::as_factor(data_c80_regsample$notwwii)\n",
    "data_c80_regsample$srgrp   <- haven::as_factor(data_c80_regsample$srgrp)"
   ]
  },
  {
   "cell_type": "markdown",
   "id": "8673763e",
   "metadata": {},
   "source": [
    "Now that we have that glitch figured out, here is a replication of Figure 1 in [Small and Rosenbaum (2008)](https://www-tandfonline-com.libproxy.berkeley.edu/doi/abs/10.1198/016214507000001247), a very nice review of what Angrist and Krueger had done. <b>Box plots</b> are more common in other disciplines than in economics, and they depict visually what economists and sociologists might instead place in a table: means, centiles, outliers, and so on. In its box plots, __R__'s `ggplot2` shows us the 25th, 50th, and 75th percentiles, and two \"whiskers.\" The whiskers extend by default to 1.5 times the interquartile range, which is the distance between 25th and 75th percentiles. [Details here](https://www.rdocumentation.org/packages/ggplot2/versions/3.3.6/topics/geom_boxplot)."
   ]
  },
  {
   "cell_type": "code",
   "execution_count": 9,
   "id": "e72c3ed6",
   "metadata": {},
   "outputs": [
    {
     "data": {
      "image/png": "[encoded data removed]",
      "text/plain": [
       "plot without title"
      ]
     },
     "metadata": {
      "image/png": {
       "height": 420,
       "width": 420
      }
     },
     "output_type": "display_data"
    }
   ],
   "source": [
    "ggplot(subset(data_c80_regsample, birthyr == 1926 & (birthqtr == 3 | birthqtr == 4)), \n",
    "              aes(notwwii, incwage)) + geom_boxplot()"
   ]
  },
  {
   "cell_type": "markdown",
   "id": "773c4309",
   "metadata": {},
   "source": [
    "<font color=\"blue\">\n",
    "    <h3>\n",
    "    Question 5</h3>\n",
    "    Describe what you see. Who earns more among these men born in Q3 or Q4 of 1926, WWII veterans or nonveterans?</font>"
   ]
  },
  {
   "cell_type": "markdown",
   "id": "74f73829",
   "metadata": {},
   "source": [
    "WWII veterans definitely earn more among these men, something like \\\\$20,000 compared to \\\\$15,000."
   ]
  },
  {
   "cell_type": "markdown",
   "id": "1ba694aa",
   "metadata": {},
   "source": [
    "<hr>"
   ]
  },
  {
   "cell_type": "markdown",
   "id": "63087b47",
   "metadata": {},
   "source": [
    "As discussed in Chapter 6 of <i>Mastering Metrics</i>, <b>quarter of birth</b> is a pretty interesting variable in applied microeconometrics. See section 6.3, and in particular the passage starting on page 229.\n",
    "\n",
    "Why might it be interesting here? Let us run a handy regression with indicator variables that I have created in the dataset already: `b25q2` for example is an indicator for having been born in the second quarter (April through June) of 1925. Let us toss in all such indicators except `b25q1`, so that men born in quarter 1 of 1925 are the omitted category, and let us run this informative regression (which will end up being like the \"first stage\" in the instrumental variables chain):\n",
    "\n",
    "$$\n",
    "wwii_i = \\alpha + \\sum_k \\theta_k \\ birthqtr_i \\times birthyr_i + \\epsilon_i\n",
    "$$\n",
    "\n",
    "When we estimate this, $\\alpha$ is the rate of WWII veteran status among men born in 1925:Q1, and the $\\theta$'s tell us the difference in the rate of WWII veteran status for men born in different years and quarters. For example, if $\\alpha = 0.75$, then 75% of men born in 1925:Q1 are WWII veterans; and if $\\theta_{25q2} = 0.005$, then among the cohort born in 1925:Q2, $\\alpha + \\theta_{25q2} = 0.75 + 0.005 = 0.755$, and thus = 75.5% are WWII veterans."
   ]
  },
  {
   "cell_type": "markdown",
   "id": "07dd82e1",
   "metadata": {},
   "source": [
    "<h4>\n",
    "<font color=\"blue\">Complete the code below and run it.</font>\n",
    "    </h4>"
   ]
  },
  {
   "cell_type": "code",
   "execution_count": 10,
   "id": "8458880a",
   "metadata": {},
   "outputs": [
    {
     "data": {
      "text/plain": [
       "\n",
       "Call:\n",
       "lm(formula = wwii ~ b25q2 + b25q3 + b25q4 + b26q1 + b26q2 + b26q3 + \n",
       "    b26q4 + b27q1 + b27q2 + b27q3 + b27q4 + b28q1 + b28q2 + b28q3 + \n",
       "    b28q4, data = data_c80_regsample)\n",
       "\n",
       "Residuals:\n",
       "    Min      1Q  Median      3Q     Max \n",
       "-0.7594 -0.2983  0.2460  0.2565  0.7711 \n",
       "\n",
       "Coefficients:\n",
       "             Estimate Std. Error t value             Pr(>|t|)    \n",
       "(Intercept)  0.746137   0.006344 117.604 < 0.0000000000000002 ***\n",
       "b25q2        0.005055   0.008949   0.565             0.572191    \n",
       "b25q3        0.008687   0.008908   0.975             0.329455    \n",
       "b25q4        0.007843   0.008981   0.873             0.382559    \n",
       "b26q1        0.013224   0.008991   1.471             0.141382    \n",
       "b26q2        0.006499   0.008996   0.722             0.470013    \n",
       "b26q3       -0.002642   0.008805  -0.300             0.764106    \n",
       "b26q4        0.003811   0.009043   0.421             0.673402    \n",
       "b27q1       -0.029913   0.008896  -3.363             0.000772 ***\n",
       "b27q2       -0.050712   0.008896  -5.701          0.000000012 ***\n",
       "b27q3       -0.109806   0.008757 -12.539 < 0.0000000000000002 ***\n",
       "b27q4       -0.152492   0.008935 -17.066 < 0.0000000000000002 ***\n",
       "b28q1       -0.288289   0.008900 -32.391 < 0.0000000000000002 ***\n",
       "b28q2       -0.447888   0.008880 -50.440 < 0.0000000000000002 ***\n",
       "b28q3       -0.496899   0.008858 -56.093 < 0.0000000000000002 ***\n",
       "b28q4       -0.517246   0.009042 -57.203 < 0.0000000000000002 ***\n",
       "---\n",
       "Signif. codes:  0 ‘***’ 0.001 ‘**’ 0.01 ‘*’ 0.05 ‘.’ 0.1 ‘ ’ 1\n",
       "\n",
       "Residual standard error: 0.4479 on 81495 degrees of freedom\n",
       "Multiple R-squared:  0.1511,\tAdjusted R-squared:  0.151 \n",
       "F-statistic: 967.2 on 15 and 81495 DF,  p-value: < 0.00000000000000022\n"
      ]
     },
     "metadata": {},
     "output_type": "display_data"
    }
   ],
   "source": [
    "wwii_reg <- lm(wwii ~         b25q2 + b25q3 + b25q4 +\n",
    "                      b26q1 + b26q2 + b26q3 + b26q4 +\n",
    "                      b27q1 + b27q2 + b27q3 + b27q4 +\n",
    "                      b28q1 + b28q2 + b28q3 + b28q4,\n",
    "              data = data_c80_regsample)\n",
    "summary(wwii_reg)"
   ]
  },
  {
   "cell_type": "markdown",
   "id": "7bd945b3",
   "metadata": {},
   "source": [
    "<font color=\"blue\">\n",
    "    <h3>\n",
    "    Question 6</h3>\n",
    "    Describe what you see. Which group has the highest rate of WWII veteran status? Which group has the lowest rate? Can you see a \"cliff\" here, which WWII service really falls off of? (No need to look for an extremely precise cliff; cliffs can be comically abrupt or a little more gradual.)</font>"
   ]
  },
  {
   "cell_type": "markdown",
   "id": "04811584",
   "metadata": {},
   "source": [
    "The highest rate of WWII veteran status is in the cohort born in 1926:Q1, among whom in 1980 about $0.746 + 0.013$ or 76% of men were WWII veterans.\n",
    "\n",
    "There is something of a cliff for the men born in 1928, but precisely where it occurs is less clear. It looks a little more gradual in these data, with reductions of 10-15 percentage points among men born late in 1927, and then reductions of 30-45 percentage points among men born early in 1928, all relative to the rate among the omitted group. Finally we see reductions of about 50 percentage points for those born late in 1928."
   ]
  },
  {
   "cell_type": "markdown",
   "id": "90c2f879",
   "metadata": {},
   "source": [
    "<hr>"
   ]
  },
  {
   "cell_type": "markdown",
   "id": "cd9c27c5",
   "metadata": {},
   "source": [
    "Now consider this comparison. Let's look at two groups separated by birth year:\n",
    "\n",
    "1. Men born in Q3 or Q4 of 1926\n",
    "2. Men born in Q3 or Q4 of 1928\n",
    "\n",
    "I've coded this using the categorical variable `srgrp`, because it helpfully places the value labels along the bottom of the plot. The labels shown the percentages of these two groups that are veterans of WWII. For the 1926 group and many birth years before, the WWII veteran share is around 75%. For the 1928 group, it is about 25%. "
   ]
  },
  {
   "cell_type": "code",
   "execution_count": 11,
   "id": "ced2fa6e",
   "metadata": {},
   "outputs": [
    {
     "data": {
      "image/png": "[encoded data removed]",
      "text/plain": [
       "plot without title"
      ]
     },
     "metadata": {
      "image/png": {
       "height": 420,
       "width": 420
      }
     },
     "output_type": "display_data"
    }
   ],
   "source": [
    "ggplot(subset(data_c80_regsample, srgrp != \"NA\"), \n",
    "       aes(srgrp, incwage)) + geom_boxplot()"
   ]
  },
  {
   "cell_type": "markdown",
   "id": "b303f840",
   "metadata": {},
   "source": [
    "<font color=\"blue\">\n",
    "    <h3>\n",
    "    Question 7</h3>\n",
    "Describe what you see. Despite the large difference in the WWII-veteran shares of these birth cohorts, are there large differences in earnings? Is this what you would expect to see if the cohort born later had half as many WWII veterans, and WWII veterans earned a lot more?</font>"
   ]
  },
  {
   "cell_type": "markdown",
   "id": "fa137a47",
   "metadata": {},
   "source": [
    "There are basically no differences in earnings here! This is not at all what we would expect to see; if WWII veterans earn more, then the group with more veterans should also earn more."
   ]
  },
  {
   "cell_type": "markdown",
   "id": "c5e7a9e4",
   "metadata": {},
   "source": [
    "<font color=\"blue\">\n",
    "    <h3>\n",
    "    Question 8</h3>\n",
    "Discuss how the OLS results above, in Questions 1-4, appear incongruous with this second box plot. Feel free to consult the hyperlinked papers above if you are not sure, but please write answers in your own words.</font>"
   ]
  },
  {
   "cell_type": "markdown",
   "id": "f2116dcc",
   "metadata": {},
   "source": [
    "The earlier results we saw, where WWII veterans appear to earn quite a bit more than nonveterans, do not fit with what we see here in the box plots. (There is a good amount of overlap here between questions 7 and 8.) If WWII veterans earn more, then the group that has more WWII veterans should also earn more."
   ]
  },
  {
   "cell_type": "markdown",
   "id": "403aaad8",
   "metadata": {},
   "source": [
    "<hr>"
   ]
  },
  {
   "cell_type": "markdown",
   "id": "dd51dd76",
   "metadata": {},
   "source": [
    "Quarter of birth certainly seems important for WWII service in this sample, for obvious reasons. Men could be born too late to serve in WWII, which ended in August 1945. With some exceptions, which we have seen, that meant that men born in Q3 or Q4 of 1928 were generally too young ever to serve in the war. \n",
    "\n",
    "We have already run something that looks like a <i>first stage</i> regression. It was:\n",
    "\n",
    "$$\n",
    "wwii_i = \\alpha + \\sum_k \\theta_k \\ birthqtr_i \\times birthyr_i + \\epsilon_i\n",
    "$$\n",
    "\n",
    "What if we looked at the effect of quarter of birth on earnings in a type of <i>reduced form</i> regression of log earnings on quarter of birth variables? That equation looks like this:\n",
    "\n",
    "$$\n",
    "\\ln Y_i = \\alpha^Y + \\sum_k \\psi_k \\ birthqtr_i \\times birthyr_i + \\nu_i\n",
    "$$"
   ]
  },
  {
   "cell_type": "markdown",
   "id": "fbe55392",
   "metadata": {},
   "source": [
    "<h4>\n",
    "<font color=\"blue\">Complete the code below and run it.</font>\n",
    "    </h4>"
   ]
  },
  {
   "cell_type": "code",
   "execution_count": 12,
   "id": "78bc71e2",
   "metadata": {},
   "outputs": [
    {
     "data": {
      "text/plain": [
       "\n",
       "Call:\n",
       "lm(formula = logincwage ~ b25q1 + b25q2 + b25q3 + b26q1 + b26q2 + \n",
       "    b26q3 + b27q1 + b27q2 + b27q3 + b28q1 + b28q2 + b28q3 + factor(birthyr), \n",
       "    data = data_c80_regsample)\n",
       "\n",
       "Residuals:\n",
       "    Min      1Q  Median      3Q     Max \n",
       "-5.7297 -0.3030  0.1136  0.4176  1.5342 \n",
       "\n",
       "Coefficients:\n",
       "                     Estimate Std. Error t value             Pr(>|t|)    \n",
       "(Intercept)          9.691015   0.010466 925.979 < 0.0000000000000002 ***\n",
       "b25q1                0.018192   0.014786   1.230             0.218553    \n",
       "b25q2                0.002387   0.014747   0.162             0.871432    \n",
       "b25q3                0.012055   0.014679   0.821             0.411506    \n",
       "b26q1                0.020728   0.014918   1.389             0.164697    \n",
       "b26q2               -0.012808   0.014925  -0.858             0.390789    \n",
       "b26q3                0.009553   0.014614   0.654             0.513291    \n",
       "b27q1               -0.035710   0.014583  -2.449             0.014336 *  \n",
       "b27q2               -0.049041   0.014583  -3.363             0.000772 ***\n",
       "b27q3               -0.036274   0.014354  -2.527             0.011501 *  \n",
       "b28q1               -0.032332   0.014768  -2.189             0.028575 *  \n",
       "b28q2               -0.024901   0.014734  -1.690             0.091038 .  \n",
       "b28q3               -0.035566   0.014700  -2.420             0.015544 *  \n",
       "factor(birthyr)1926  0.034572   0.014901   2.320             0.020341 *  \n",
       "factor(birthyr)1927  0.064902   0.014725   4.408           0.00001046 ***\n",
       "factor(birthyr)1928  0.070909   0.014901   4.759           0.00000195 ***\n",
       "---\n",
       "Signif. codes:  0 ‘***’ 0.001 ‘**’ 0.01 ‘*’ 0.05 ‘.’ 0.1 ‘ ’ 1\n",
       "\n",
       "Residual standard error: 0.7373 on 81495 degrees of freedom\n",
       "Multiple R-squared:  0.000723,\tAdjusted R-squared:  0.0005391 \n",
       "F-statistic: 3.931 on 15 and 81495 DF,  p-value: 0.0000003825\n"
      ]
     },
     "metadata": {},
     "output_type": "display_data"
    }
   ],
   "source": [
    "c80_rf <- lm(logincwage ~ b25q1 + b25q2 + b25q3 +\n",
    "                          b26q1 + b26q2 + b26q3 + \n",
    "                          b27q1 + b27q2 + b27q3 + \n",
    "                          b28q1 + b28q2 + b28q3 + \n",
    "                          factor(birthyr),\n",
    "             data = data_c80_regsample)\n",
    "summary(c80_rf)"
   ]
  },
  {
   "cell_type": "markdown",
   "id": "e56f6d71",
   "metadata": {},
   "source": [
    "<font color=\"blue\">\n",
    "    <h3>\n",
    "    Question 9</h3>\n",
    "This is not very easy to read, because there are so many instrumental variables on the right-hand side here. But what do you see? Are some of these instrumental variables statistically significant? Or are none of them?</font> \n",
    "\n",
    "<font color=\"blue\">(Sophisticated users will note two things: [1] the <i>F</i>-stat is 4.867, which is sort of OK, and [2] this is the reduced form only for the model in column (4) in Angrist and Krueger's Table 4.)</font>"
   ]
  },
  {
   "cell_type": "markdown",
   "id": "cf0b98df",
   "metadata": {},
   "source": [
    "The evidence is mixed, but several of these instrumental variables are indeed individually statistically significant. It turns out that the <i>F</i>-statistic assesses whether they are jointly significant, and they are; we can reject the null hypothesis that all are zero.\n",
    "\n",
    "We would say that there appears to be some hope here for this IV strategy, which continues in Part 2 because we don't want to crash the __R__ kernel."
   ]
  },
  {
   "cell_type": "markdown",
   "id": "ec0562bf",
   "metadata": {},
   "source": [
    "<hr>"
   ]
  },
  {
   "cell_type": "markdown",
   "id": "2141ef72",
   "metadata": {},
   "source": [
    "<font color=\"red\"><b>Please complete Problem Set 3 Part 2 also.</b> The reason there are 2 parts is because starting from scratch allows us to run the IV estimation routine without overloading memory and crashing the R kernel.</font>"
   ]
  },
  {
   "cell_type": "markdown",
   "id": "592d1fa0",
   "metadata": {},
   "source": [
    "<hr>"
   ]
  },
  {
   "cell_type": "markdown",
   "id": "0d47deec",
   "metadata": {},
   "source": [
    "<i>As warfare and killing rage again in Europe in 2022, let's also take a moment to recognize the great human costs and sacrifices associated with armed conflict and open warfare, and the tragedy of nuclear war.</i>"
   ]
  },
  {
   "cell_type": "markdown",
   "id": "e4bf004c",
   "metadata": {},
   "source": [
    "<hr>"
   ]
  },
  {
   "cell_type": "markdown",
   "id": "99b8612d",
   "metadata": {},
   "source": [
    "<div style=\"text-align: right\"> <span style=\"font-family:Papyrus; \">And they lived happily ever after. The End.</span></div>"
   ]
  }
 ],
 "metadata": {
  "kernelspec": {
   "display_name": "R",
   "language": "R",
   "name": "ir"
  },
  "language_info": {
   "codemirror_mode": "r",
   "file_extension": ".r",
   "mimetype": "text/x-r-source",
   "name": "R",
   "pygments_lexer": "r",
   "version": "4.2.1"
  }
 },
 "nbformat": 4,
 "nbformat_minor": 5
}
