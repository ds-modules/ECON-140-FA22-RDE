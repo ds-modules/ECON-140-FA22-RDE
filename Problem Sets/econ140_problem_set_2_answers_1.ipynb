{
 "cells": [
  {
   "cell_type": "markdown",
   "metadata": {},
   "source": [
    "<img src=\"images/econ140R_logo.png\" width=\"200\" />"
   ]
  },
  {
   "cell_type": "markdown",
   "metadata": {},
   "source": [
    "In the following cell, please type your name and SID:"
   ]
  },
  {
   "cell_type": "markdown",
   "metadata": {},
   "source": []
  },
  {
   "cell_type": "markdown",
   "metadata": {},
   "source": [
    "In the cell below, please write out the [Honor Code](https://teaching.berkeley.edu/berkeley-honor-code) to reaffirm you are abiding by it."
   ]
  },
  {
   "cell_type": "markdown",
   "metadata": {},
   "source": []
  },
  {
   "cell_type": "markdown",
   "metadata": {},
   "source": [
    "Did you work with other students? List them below. Please write your answers in your own words, not in theirs."
   ]
  },
  {
   "cell_type": "markdown",
   "metadata": {},
   "source": []
  },
  {
   "cell_type": "markdown",
   "metadata": {},
   "source": [
    "<h1>ECON 140R - Problem Set 2</h1>\n",
    "\n",
    "<h2>INSTRUCTIONS</h2>\n",
    "\n",
    "Please step through this problem set, copying and pasting code as needed, and run the code to produce output. Answer the questions asked, which appear in <font color=\"blue\">blue font</font>. You will earn 100% of the credit on this problem set for <b>completing</b> it with working code and coherent answers. Answers do not need to be correct for full credit."
   ]
  },
  {
   "cell_type": "markdown",
   "metadata": {},
   "source": [
    "Throughout, <b>you may consult outside sources like the paper below or other commentary</b>, but your analysis should be in your own words. We will not run TurnItIn software on this Problem Set, but as usual, you should not borrow phrases without attribution or commit \"mosaic plagiarism.\""
   ]
  },
  {
   "cell_type": "markdown",
   "metadata": {},
   "source": [
    "In this problem set, you will examine a dataset showing graduate admission decisions, a dichotomous measure of gender, and academic department from the fall 1973 application cohort. The dataset is described and analyzed by [P. J. Bickel, E. A. Hammel, J. W. O'Connell (1975) “Sex Bias in Graduate Admissions: Data from Berkeley,” Science 187(4175): 398-404](https://www-jstor-org.libproxy.berkeley.edu/stable/1739581) and further described in [David Freedman, Robert Pisani, and Roger Purves (2007) Statistics 4th edition. New York: Norton, pp 17–20](https://www.amazon.com/Statistics-4th-David-Freedman/dp/0393929728). I created this dataset using the description offered by FPP. There is a \"collapsed\" version of these data in __R__'s preloaded `datasets` package called `UCBAdmissions`."
   ]
  },
  {
   "cell_type": "markdown",
   "metadata": {},
   "source": [
    "For kicks, here is an off-the-shelf visualization from `UCBAdmissions` that shows us ... well, it shows us something. The $x$-axis splits people into admitted (left) or rejected (right) columns. Then within each of those columns, we see the split between people who identify as female (bottom) or male (top), so that gender identity is the $y$-variable. "
   ]
  },
  {
   "cell_type": "code",
   "execution_count": 1,
   "metadata": {
    "collapsed": false
   },
   "outputs": [
    {
     "data": {
      "text/html": [
       "<table class=\"dataframe\">\n",
       "<caption>A matrix: 2 × 2 of type dbl</caption>\n",
       "<thead>\n",
       "\t<tr><th></th><th scope=col>Male</th><th scope=col>Female</th></tr>\n",
       "</thead>\n",
       "<tbody>\n",
       "\t<tr><th scope=row>Admitted</th><td>1198</td><td> 557</td></tr>\n",
       "\t<tr><th scope=row>Rejected</th><td>1493</td><td>1278</td></tr>\n",
       "</tbody>\n",
       "</table>\n"
      ],
      "text/latex": [
       "A matrix: 2 × 2 of type dbl\n",
       "\\begin{tabular}{r|ll}\n",
       "  & Male & Female\\\\\n",
       "\\hline\n",
       "\tAdmitted & 1198 &  557\\\\\n",
       "\tRejected & 1493 & 1278\\\\\n",
       "\\end{tabular}\n"
      ],
      "text/markdown": [
       "\n",
       "A matrix: 2 × 2 of type dbl\n",
       "\n",
       "| <!--/--> | Male | Female |\n",
       "|---|---|---|\n",
       "| Admitted | 1198 |  557 |\n",
       "| Rejected | 1493 | 1278 |\n",
       "\n"
      ],
      "text/plain": [
       "          Gender\n",
       "Admit      Male Female\n",
       "  Admitted 1198  557  \n",
       "  Rejected 1493 1278  "
      ]
     },
     "metadata": {},
     "output_type": "display_data"
    },
    {
     "data": {
      "image/png": "[encoded data removed]",
      "text/plain": [
       "Plot with title “Student admissions at UC Berkeley”"
      ]
     },
     "metadata": {
      "image/png": {
       "height": 420,
       "width": 420
      }
     },
     "output_type": "display_data"
    }
   ],
   "source": [
    "require(graphics)\n",
    "## Data aggregated over departments\n",
    "apply(UCBAdmissions, c(1, 2), sum)\n",
    "mosaicplot(apply(UCBAdmissions, c(1, 2), sum),\n",
    "           main = \"Student admissions at UC Berkeley\")"
   ]
  },
  {
   "cell_type": "markdown",
   "metadata": {},
   "source": [
    "<font color=\"blue\">\n",
    "    <h3>Question 1.</h3> Does it make much sense to specify gender as the $y$-variable here, meaning that the implicit suggestion is to run this regression:   \n",
    "    $$\n",
    "    gender_i = \\alpha + \\beta \\cdot admit_i + \\epsilon_i\n",
    "    $$\n",
    "    where the variable $admit_i$ is like a 0/1 treatment <u>that causes</u> the variable $gender_i$?\n",
    "    State yes or no and briefly defend your answer.\n",
    "</font>"
   ]
  },
  {
   "cell_type": "markdown",
   "metadata": {},
   "source": [
    "No, it does not make much sense to model gender as the $y$-variable. The outcome variable should be something that is affected by a treatment. Modern political showmanship aside, is hard to imagine many instances, if any, when gender identity is plausibly an outcome variable that is affected by a treatment."
   ]
  },
  {
   "cell_type": "markdown",
   "metadata": {},
   "source": [
    "<hr>"
   ]
  },
  {
   "cell_type": "markdown",
   "metadata": {},
   "source": [
    "Let's look at the reconstructed microdata. Load up our usuals, tidyverse and haven:"
   ]
  },
  {
   "cell_type": "code",
   "execution_count": 2,
   "metadata": {
    "collapsed": false,
    "scrolled": false
   },
   "outputs": [
    {
     "name": "stderr",
     "output_type": "stream",
     "text": [
      "── \u001b[1mAttaching packages\u001b[22m ─────────────────────────────────────── tidyverse 1.3.0 ──\n",
      "\n",
      "\u001b[32m✔\u001b[39m \u001b[34mggplot2\u001b[39m 3.3.6      \u001b[32m✔\u001b[39m \u001b[34mpurrr  \u001b[39m 0.3.4 \n",
      "\u001b[32m✔\u001b[39m \u001b[34mtibble \u001b[39m 3.1.8      \u001b[32m✔\u001b[39m \u001b[34mdplyr  \u001b[39m 1.0.10\n",
      "\u001b[32m✔\u001b[39m \u001b[34mtidyr  \u001b[39m 1.2.1      \u001b[32m✔\u001b[39m \u001b[34mstringr\u001b[39m 1.4.1 \n",
      "\u001b[32m✔\u001b[39m \u001b[34mreadr  \u001b[39m 2.1.2      \u001b[32m✔\u001b[39m \u001b[34mforcats\u001b[39m 0.5.2 \n",
      "\n",
      "── \u001b[1mConflicts\u001b[22m ────────────────────────────────────────── tidyverse_conflicts() ──\n",
      "\u001b[31m✖\u001b[39m \u001b[34mdplyr\u001b[39m::\u001b[32mfilter()\u001b[39m masks \u001b[34mstats\u001b[39m::filter()\n",
      "\u001b[31m✖\u001b[39m \u001b[34mdplyr\u001b[39m::\u001b[32mlag()\u001b[39m    masks \u001b[34mstats\u001b[39m::lag()\n",
      "\n"
     ]
    }
   ],
   "source": [
    "library(tidyverse)\n",
    "library(haven)"
   ]
  },
  {
   "cell_type": "markdown",
   "metadata": {},
   "source": [
    "<h2>Multivariate Analysis</h2>"
   ]
  },
  {
   "cell_type": "markdown",
   "metadata": {},
   "source": [
    "Below is the reconstructed data file. Nothing fancy, mostly zeros and ones. There are a total of 4,486 observations arrayed across 6 departments. The call to `table()` pulls the counts by department and labels them nicely."
   ]
  },
  {
   "cell_type": "code",
   "execution_count": 3,
   "metadata": {
    "collapsed": false
   },
   "outputs": [
    {
     "data": {
      "text/html": [
       "<table class=\"dataframe\">\n",
       "<caption>A tibble: 6 × 6</caption>\n",
       "<thead>\n",
       "\t<tr><th scope=col>admitted</th><th scope=col>gender</th><th scope=col>dept</th><th scope=col>deptchar</th><th scope=col>male</th><th scope=col>female</th></tr>\n",
       "\t<tr><th scope=col>&lt;dbl&gt;</th><th scope=col>&lt;dbl+lbl&gt;</th><th scope=col>&lt;dbl&gt;</th><th scope=col>&lt;chr&gt;</th><th scope=col>&lt;dbl&gt;</th><th scope=col>&lt;dbl&gt;</th></tr>\n",
       "</thead>\n",
       "<tbody>\n",
       "\t<tr><td>1</td><td>1</td><td>1</td><td>A</td><td>1</td><td>0</td></tr>\n",
       "\t<tr><td>0</td><td>1</td><td>1</td><td>A</td><td>1</td><td>0</td></tr>\n",
       "\t<tr><td>0</td><td>1</td><td>1</td><td>A</td><td>1</td><td>0</td></tr>\n",
       "\t<tr><td>0</td><td>1</td><td>1</td><td>A</td><td>1</td><td>0</td></tr>\n",
       "\t<tr><td>1</td><td>2</td><td>1</td><td>A</td><td>0</td><td>1</td></tr>\n",
       "\t<tr><td>1</td><td>1</td><td>1</td><td>A</td><td>1</td><td>0</td></tr>\n",
       "</tbody>\n",
       "</table>\n"
      ],
      "text/latex": [
       "A tibble: 6 × 6\n",
       "\\begin{tabular}{llllll}\n",
       " admitted & gender & dept & deptchar & male & female\\\\\n",
       " <dbl> & <dbl+lbl> & <dbl> & <chr> & <dbl> & <dbl>\\\\\n",
       "\\hline\n",
       "\t 1 & 1 & 1 & A & 1 & 0\\\\\n",
       "\t 0 & 1 & 1 & A & 1 & 0\\\\\n",
       "\t 0 & 1 & 1 & A & 1 & 0\\\\\n",
       "\t 0 & 1 & 1 & A & 1 & 0\\\\\n",
       "\t 1 & 2 & 1 & A & 0 & 1\\\\\n",
       "\t 1 & 1 & 1 & A & 1 & 0\\\\\n",
       "\\end{tabular}\n"
      ],
      "text/markdown": [
       "\n",
       "A tibble: 6 × 6\n",
       "\n",
       "| admitted &lt;dbl&gt; | gender &lt;dbl+lbl&gt; | dept &lt;dbl&gt; | deptchar &lt;chr&gt; | male &lt;dbl&gt; | female &lt;dbl&gt; |\n",
       "|---|---|---|---|---|---|\n",
       "| 1 | 1 | 1 | A | 1 | 0 |\n",
       "| 0 | 1 | 1 | A | 1 | 0 |\n",
       "| 0 | 1 | 1 | A | 1 | 0 |\n",
       "| 0 | 1 | 1 | A | 1 | 0 |\n",
       "| 1 | 2 | 1 | A | 0 | 1 |\n",
       "| 1 | 1 | 1 | A | 1 | 0 |\n",
       "\n"
      ],
      "text/plain": [
       "  admitted gender dept deptchar male female\n",
       "1 1        1      1    A        1    0     \n",
       "2 0        1      1    A        1    0     \n",
       "3 0        1      1    A        1    0     \n",
       "4 0        1      1    A        1    0     \n",
       "5 1        2      1    A        0    1     \n",
       "6 1        1      1    A        1    0     "
      ]
     },
     "metadata": {},
     "output_type": "display_data"
    },
    {
     "data": {
      "text/plain": [
       "\n",
       "  A   B   C   D   E   F \n",
       "933 545 918 792 584 714 "
      ]
     },
     "metadata": {},
     "output_type": "display_data"
    }
   ],
   "source": [
    "ucbadmit <- read_dta(\"ucbadmit.dta\")\n",
    "head(ucbadmit)\n",
    "table(ucbadmit$deptchar)"
   ]
  },
  {
   "cell_type": "markdown",
   "metadata": {},
   "source": [
    "There are six departments here, blinded for privacy purposes, labeled A through F. It would be useful to have indicator variables that tell us which of these \"treatment arms\" an individual is in. Let's create these indicator variables:"
   ]
  },
  {
   "cell_type": "code",
   "execution_count": 4,
   "metadata": {
    "collapsed": true
   },
   "outputs": [],
   "source": [
    "ucbadmit <- mutate(ucbadmit, deptA = ifelse(deptchar == \"A\",1,0))\n",
    "ucbadmit <- mutate(ucbadmit, deptB = ifelse(deptchar == \"B\",1,0))\n",
    "ucbadmit <- mutate(ucbadmit, deptC = ifelse(deptchar == \"C\",1,0))\n",
    "ucbadmit <- mutate(ucbadmit, deptD = ifelse(deptchar == \"D\",1,0))\n",
    "ucbadmit <- mutate(ucbadmit, deptE = ifelse(deptchar == \"E\",1,0))\n",
    "ucbadmit <- mutate(ucbadmit, deptF = ifelse(deptchar == \"F\",1,0))"
   ]
  },
  {
   "cell_type": "markdown",
   "metadata": {},
   "source": [
    "Let's begin to analyze these data. The visualization above is helpful, provided you can get your head around how the $x$ and $y$ axes seem like they are reversed. Let's instead run a regression using `lm()` that shows the relationship between $y = admitted$, a 0/1 indicator variable for being admitted to UC Berkeley, and $x = female$, a 0/1 indicator for female gender identity:\n",
    "\n",
    "$$\n",
    "admitted_i = \\alpha + \\beta \\cdot female_i + \\epsilon_i\n",
    "$$"
   ]
  },
  {
   "cell_type": "markdown",
   "metadata": {},
   "source": [
    "<h3>\n",
    "<font color=\"blue\">Complete the code below and run it.</font>\n",
    "    </h3>"
   ]
  },
  {
   "cell_type": "code",
   "execution_count": 5,
   "metadata": {
    "collapsed": false
   },
   "outputs": [
    {
     "data": {
      "text/plain": [
       "\n",
       "Call:\n",
       "lm(formula = admitted ~ female, data = ucbadmit)\n",
       "\n",
       "Residuals:\n",
       "    Min      1Q  Median      3Q     Max \n",
       "-0.4368 -0.4368 -0.3035  0.5632  0.6965 \n",
       "\n",
       "Coefficients:\n",
       "             Estimate Std. Error t value Pr(>|t|)    \n",
       "(Intercept)  0.436816   0.009354  46.698   <2e-16 ***\n",
       "female      -0.133274   0.014625  -9.112   <2e-16 ***\n",
       "---\n",
       "Signif. codes:  0 ‘***’ 0.001 ‘**’ 0.01 ‘*’ 0.05 ‘.’ 0.1 ‘ ’ 1\n",
       "\n",
       "Residual standard error: 0.4816 on 4484 degrees of freedom\n",
       "Multiple R-squared:  0.01818,\tAdjusted R-squared:  0.01796 \n",
       "F-statistic: 83.04 on 1 and 4484 DF,  p-value: < 2.2e-16\n"
      ]
     },
     "metadata": {},
     "output_type": "display_data"
    }
   ],
   "source": [
    "ucb_shortreg <- lm(admitted ~ female, data = ucbadmit)\n",
    "summary(ucb_shortreg)"
   ]
  },
  {
   "cell_type": "markdown",
   "metadata": {},
   "source": [
    "<font color=\"blue\">\n",
    "    <h3>\n",
    "    Question 2</h3>\n",
    "    Look at the regression output above and describe what you see. What is the average admission rate for males? In this simple regression, what is the average effect on the admission rate of being female? Is the effect statistically significant? Describe using the reported numbers in the regression output, and also state what you see in descriptive sentences where you refer to the percentages revealed by the reported numbers. \n",
    "</font>"
   ]
  },
  {
   "cell_type": "markdown",
   "metadata": {},
   "source": [
    "We have a simple OLS regression with admission as a function of a constant (for males) and being female. The average admission rate for males is the constant term, $\\alpha = 0.44$ roughly.\n",
    "\n",
    "The effect of being female is $\\beta = -0.13$, and it is statistically significant. \n",
    "\n",
    "In words, males are admitted at an average rate of 44%. Females are admitted at a rate 13 percentage points lower, or 31%. The difference is statistically significant."
   ]
  },
  {
   "cell_type": "markdown",
   "metadata": {},
   "source": [
    "<hr>"
   ]
  },
  {
   "cell_type": "markdown",
   "metadata": {},
   "source": [
    "<font color=\"blue\">\n",
    "    <h3>\n",
    "    Question 3</h3>\n",
    "Now translate what you see in the data, in your answer to Question 2, into an informative statement for <b>policy</b> at the University in this era, given that gender equality and diversity are objectives. Write a sentence or two.\n",
    "</font>"
   ]
  },
  {
   "cell_type": "markdown",
   "metadata": {},
   "source": [
    "If gender equality and diversity are objectives, the pattern we have seen in the data thus far is worrisome. It appears that women are 13 percentage points less likely to be admitted."
   ]
  },
  {
   "cell_type": "markdown",
   "metadata": {},
   "source": [
    "<hr>"
   ]
  },
  {
   "cell_type": "markdown",
   "metadata": {},
   "source": [
    "<font color=\"blue\">\n",
    "    <h3>\n",
    "    Question 4</h3>\n",
    "The data are fairly sparse, but they also show us the (anonymized) graduate department to which the person applied. Would you expect overall admission rates &mdash; that is, for both genders combined &mdash; admission rates to be the same across university departments, such as the English Department and the Mathematics Department, or would you expect admission rates to differ?\n",
    "</font>"
   ]
  },
  {
   "cell_type": "markdown",
   "metadata": {},
   "source": [
    "One would expect very different admission rates across departments, because they are different departments, with different sizes and specialties, and one would not expect prospective students to have somehow redistributed themselves across them to equalize admission rates, via some kind of arbitrage process."
   ]
  },
  {
   "cell_type": "markdown",
   "metadata": {},
   "source": [
    "<hr>"
   ]
  },
  {
   "cell_type": "markdown",
   "metadata": {},
   "source": [
    "<font color=\"blue\">\n",
    "    <h3>\n",
    "    Question 5</h3>\n",
    "Suppose you thought admission rates were the same across departments. What would that imply about the gender-specific admission rate that we should see within each department, given what we saw in campus-wide admissions above? Would there be gender equality, or would we see an advantage for men or for women? \n",
    "</font>"
   ]
  },
  {
   "cell_type": "markdown",
   "metadata": {},
   "source": [
    "If all departments had the same admission rate, then it must be the same as the aggregate admission rate that we saw above. All women would be equally disadvantaged regardless of which department they applied to."
   ]
  },
  {
   "cell_type": "markdown",
   "metadata": {},
   "source": [
    "<hr>"
   ]
  },
  {
   "cell_type": "markdown",
   "metadata": {},
   "source": [
    "<font color=\"blue\">\n",
    "    <h3>\n",
    "    Question 6</h3>\n",
    "Suppose you thought admission rates were different across departments, so that some departments admitted very few applicants and others admitted more applicants. If this were publicly known, do you have a prior belief about which departments &mdash; those with low admission rates or those with high admission rates &mdash; might receive more male applicants? Or similarly, which departments might receive more female applicants? (The setting here is the 1970s, but the story might well be similar today.)\n",
    "</font>"
   ]
  },
  {
   "cell_type": "markdown",
   "metadata": {},
   "source": [
    "The fascinating thing about this question is that there are several layers of the onion, so to speak. Self-identified males and females are different in many ways, and college major is a big dimension of difference.\n",
    "\n",
    "It's going to turn out that women in the sample are much more likely to apply to departments with low admission rates. This likely reflects a variety of factors in these data from the 1970s, some of which may be present today as well. Women especially in the 1970s and earlier were typically dissuaded from continuing in scientific fields, either overtly or implicitly. There also is evidence from Harvard's Claudia Goldin and many others that even today, the pipeline for women into STEM, and into economics for example, is more closed than it is for men, for a variety of reasons. This story would result in women's graduate admissions being focused less on STEM departments and more on humanities and other fields. \n",
    "\n",
    "Whether humanities departments are harder to get into than STEM is perhaps the hardest part of this. The data suggest that they certainly were harder to get into. It's hard to find modern data on this; a Google search turned up this link to a [2019 U-of-Washington report](https://grad.uw.edu/wp-content/uploads/2019/06/report2.pdf); page 22 is informative.\n",
    "\n",
    "The other way one could approach this is by guessing that STEM fields are actually harder to get into. We suspect they are harder to major in, and that might be the reason to guess they are harder to get into. So one might guess the reverse story, that because women are less likely to have been STEM majors for example, then they might be more likely to be admitted into graduate school in those non-STEM fields. An additional perspective is useful: STEM fields have seen the most growth in demand in terms of jobs and training. Based on that, one might guess that STEM fields might have higher graduate admission rates."
   ]
  },
  {
   "cell_type": "markdown",
   "metadata": {},
   "source": [
    "<hr>"
   ]
  },
  {
   "cell_type": "markdown",
   "metadata": {},
   "source": [
    "Let's push our analysis further by running a regression using `lm()` that includes our binary 0/1 controls for the admitting departments. We need to leave out one of the departments as the default category; let's choose department A for that:\n",
    "\n",
    "$$\n",
    "admitted_i = \\alpha^{M,A} + \\beta \\cdot female_i \n",
    "+ \\gamma^B deptB_i\n",
    "+ \\gamma^C deptC_i\n",
    "+ \\gamma^D deptD_i\n",
    "+ \\gamma^E deptE_i\n",
    "+ \\gamma^F deptF_i\n",
    "+ \\epsilon_i\n",
    "$$\n",
    "\n",
    "When we run this regression, note that the constant term $\\alpha$ becomes the average admission rate for male applicants to department A, the omitted category."
   ]
  },
  {
   "cell_type": "code",
   "execution_count": 6,
   "metadata": {
    "collapsed": false
   },
   "outputs": [
    {
     "data": {
      "text/plain": [
       "\n",
       "Call:\n",
       "lm(formula = admitted ~ female + deptB + deptC + deptD + deptE + \n",
       "    deptF, data = ucbadmit)\n",
       "\n",
       "Residuals:\n",
       "     Min       1Q   Median       3Q      Max \n",
       "-0.66117 -0.34977 -0.07447  0.35807  0.94476 \n",
       "\n",
       "Coefficients:\n",
       "            Estimate Std. Error t value Pr(>|t|)    \n",
       "(Intercept)  0.64193    0.01465  43.822   <2e-16 ***\n",
       "female       0.01924    0.01538   1.250    0.211    \n",
       "deptB       -0.03731    0.02397  -1.557    0.120    \n",
       "deptC       -0.30360    0.02220 -13.676   <2e-16 ***\n",
       "deptD       -0.31139    0.02215 -14.057   <2e-16 ***\n",
       "deptE       -0.40316    0.02495 -16.157   <2e-16 ***\n",
       "deptF       -0.58669    0.02277 -25.762   <2e-16 ***\n",
       "---\n",
       "Signif. codes:  0 ‘***’ 0.001 ‘**’ 0.01 ‘*’ 0.05 ‘.’ 0.1 ‘ ’ 1\n",
       "\n",
       "Residual standard error: 0.4441 on 4479 degrees of freedom\n",
       "Multiple R-squared:  0.166,\tAdjusted R-squared:  0.1649 \n",
       "F-statistic: 148.6 on 6 and 4479 DF,  p-value: < 2.2e-16\n"
      ]
     },
     "metadata": {},
     "output_type": "display_data"
    }
   ],
   "source": [
    "ucb_longreg <- lm(admitted ~ female + deptB + deptC + deptD + deptE + deptF, data = ucbadmit)\n",
    "summary(ucb_longreg)"
   ]
  },
  {
   "cell_type": "markdown",
   "metadata": {},
   "source": [
    "<font color=\"blue\">\n",
    "    <h3>\n",
    "    Question 7</h3>\n",
    "Look at the regression output above and describe what you see. What is the average admission rate for males who applied to department A? What is the average effect on the admission rate of being female? Is the effect statistically significant? What are the effects on admission rates of applying to departments B, C, D, E, and F? Describe using the reported numbers in the regression output, and also state what you see in descriptive sentences where you refer to the percentages revealed by the reported numbers. \n",
    "</font>"
   ]
  },
  {
   "cell_type": "markdown",
   "metadata": {},
   "source": [
    "We see very different results here.\n",
    "\n",
    "Male applicants to department A have an admission rate of about 64%, that's the intercept here. The average effect on the admission rate of being female is an increase of 1.9 percentage points, but that effect is statistically insignificant.\n",
    "\n",
    "The effects on the admission rate of applying to other departments is generally negative. The effect is negative and small (and insignificant) for B, and then negative and pretty large for C and D, around 30 percentage points less. For E and F, the effect is 40 and a whopping 59 percentage points.\n",
    "\n",
    "This changes the story significantly."
   ]
  },
  {
   "cell_type": "markdown",
   "metadata": {},
   "source": [
    "<hr>"
   ]
  },
  {
   "cell_type": "markdown",
   "metadata": {},
   "source": [
    "<font color=\"blue\">\n",
    "    <h3>\n",
    "    Question 8</h3>\n",
    "Now translate what you see in the data, in your answer to Question 7, into an informative statement for <b>policy</b> at the University in this era, given that gender equality and diversity are objectives. Write a sentence or two.\n",
    "</font>"
   ]
  },
  {
   "cell_type": "markdown",
   "metadata": {},
   "source": [
    "Tentatively, we do not appear to see systematic differences in admission rates by gender GIVEN the choice of department. This is not the same thing as equality in access, but it is a far more complicated story than a constant amount of apparent discrimination, or lack of adequate preparation, or a combination of the two. The story is more nuanced, and the problem is probably more endemic and deep-rooted, than we thought."
   ]
  },
  {
   "cell_type": "markdown",
   "metadata": {},
   "source": [
    "<hr>"
   ]
  },
  {
   "cell_type": "markdown",
   "metadata": {},
   "source": [
    "Recall that in Chapter 1, we often tested for balance in the characteristics of study participants across groups. Here, an equivalent check is to look for differences in the male/female mix of applicants to departments. We can operationalize that by calling `lm()` with an equation that looks like this:\n",
    "\n",
    "$$\n",
    "female_i = \\alpha^A\n",
    "+ \\gamma^B deptB_i\n",
    "+ \\gamma^C deptC_i\n",
    "+ \\gamma^D deptD_i\n",
    "+ \\gamma^E deptE_i\n",
    "+ \\gamma^F deptF_i\n",
    "+ u_i\n",
    "$$\n",
    "\n",
    "where the constant term is now the share of female applicants to department A, the omitted group. Note that this regression would be preposterous on its own; gender identity is not a function of the department to which a person applied! \n",
    "\n",
    "Write and run some code below to estimate that equation."
   ]
  },
  {
   "cell_type": "code",
   "execution_count": 7,
   "metadata": {
    "collapsed": false
   },
   "outputs": [
    {
     "data": {
      "text/plain": [
       "\n",
       "Call:\n",
       "lm(formula = female ~ deptB + deptC + deptD + deptE + deptF, \n",
       "    data = ucbadmit)\n",
       "\n",
       "Residuals:\n",
       "     Min       1Q   Median       3Q      Max \n",
       "-0.67295 -0.47348 -0.04587  0.35403  0.95413 \n",
       "\n",
       "Coefficients:\n",
       "            Estimate Std. Error t value Pr(>|t|)    \n",
       "(Intercept)  0.11576    0.01412   8.198 3.17e-16 ***\n",
       "deptB       -0.06988    0.02325  -3.005  0.00267 ** \n",
       "deptC        0.53021    0.02005  26.444  < 2e-16 ***\n",
       "deptD        0.35773    0.02084  17.166  < 2e-16 ***\n",
       "deptE        0.55719    0.02276  24.483  < 2e-16 ***\n",
       "deptF        0.36184    0.02145  16.872  < 2e-16 ***\n",
       "---\n",
       "Signif. codes:  0 ‘***’ 0.001 ‘**’ 0.01 ‘*’ 0.05 ‘.’ 0.1 ‘ ’ 1\n",
       "\n",
       "Residual standard error: 0.4313 on 4480 degrees of freedom\n",
       "Multiple R-squared:  0.2315,\tAdjusted R-squared:  0.2306 \n",
       "F-statistic: 269.8 on 5 and 4480 DF,  p-value: < 2.2e-16\n"
      ]
     },
     "metadata": {},
     "output_type": "display_data"
    }
   ],
   "source": [
    "female_reg <- lm(female ~ deptB + deptC + deptD + deptE + deptF, data = ucbadmit)\n",
    "summary(female_reg)"
   ]
  },
  {
   "cell_type": "markdown",
   "metadata": {},
   "source": [
    "<font color=\"blue\">\n",
    "    <h3>\n",
    "    Question 9</h3>\n",
    "Look at the regression output above and describe what you see. What does the share of female applicants look like across these departments? Is it constant? Describe using the reported numbers in the regression output, and also state what you see in descriptive sentences where you refer to the percentages revealed by the reported numbers. \n",
    "</font>"
   ]
  },
  {
   "cell_type": "markdown",
   "metadata": {},
   "source": [
    "The share of female applicants in department A is the constant term, just 11.6 percent. Department B is slightly more imbalanced, with negative coefficient that pulls the female share down to perhaps only 4-5%.\n",
    "\n",
    "The female share of applicants most certainly is not constant across departments. It is highest in Department E, at perhaps 66-67%."
   ]
  },
  {
   "cell_type": "markdown",
   "metadata": {},
   "source": [
    "<hr>"
   ]
  },
  {
   "cell_type": "markdown",
   "metadata": {},
   "source": [
    "<font color=\"blue\">\n",
    "    <h3>\n",
    "    Question 10</h3>\n",
    "Now compare the regression output you looked at for Question 9 to the regression output you looked at for Question 7. What do you see? Where are shares of female applicants higher, in departments with low admission rates, or with high admission rates? Were you correct about this back in Question 6? (If you were incorrect, there is no need to change that answer now. This is part of the journey.)\n",
    "</font>"
   ]
  },
  {
   "cell_type": "markdown",
   "metadata": {},
   "source": [
    "This comparison reveals that admission rates and female shares of applicants appear to be negatively correlated. Shares female here above Question 9 are highest in department C, where the admission rate is relatively low, at perhaps 35%. The lowest admission rate is in department F, where the share female among applicants was about 48%.\n",
    "\n",
    "I wrote these questions, so I was correct back in Question 6. If you were incorrect in Question 6, that is perhaps one of the best things that can happen in a problem set, or in scientific life in general: stating a hypothesis, testing it, and finding out new knowledge."
   ]
  },
  {
   "cell_type": "markdown",
   "metadata": {},
   "source": [
    "<hr>"
   ]
  },
  {
   "cell_type": "markdown",
   "metadata": {},
   "source": [
    "Consider this last sentence written by [Bickel, Hammel, and O’Connell](https://www-jstor-org.libproxy.berkeley.edu/stable/1739581):\n",
    "\n",
    "<blockquote>\n",
    "Women are shunted by their socialization and education toward fields of graduate study that are generally more crowded, less productive of completed degrees, and less well funded, and that frequently offer poorer professional employment prospects.\n",
    "</blockquote>"
   ]
  },
  {
   "cell_type": "markdown",
   "metadata": {},
   "source": [
    "<font color=\"blue\">\n",
    "    <h3>\n",
    "    Question 11</h3>\n",
    "Take a final stand on gender inequality in higher education in 1973, based on these data. Write several sentences in which you weigh what you have found, what you have not found, and what you could have researched with better data.\n",
    "</font>"
   ]
  },
  {
   "cell_type": "markdown",
   "metadata": {},
   "source": [
    "There are a variety of ways to go with this. When we look at departmental admission rates, the headline story, of a gender inequality in admissions that favors men, either melts away or becomes much more complex.\n",
    "\n",
    "What is driving what is often called [Simpson’s Paradox](https://en.wikipedia.org/wiki/Simpson%27s_paradox) here is the correlation between gender and the choice of departments, and that seems particularly salient. On some level, the gender inequality in the university-wide admission rate is still a fundamental inequality, but we see that it is driven either by men applying to less selective programs or by women applying to more selective programs, or by both simultaneously.\n",
    "\n",
    "Graduate school application may be a choice, but it is a choice constrained by backgrounds, budgets, and aspirations. It seems like inequality in all of these is likely to explain the inequality in application patterns, and these inequalities seem important. But the best policy tool to lessen these inequalities might not be departmental admission rates by gender. Rather, the pipeline into graduate studies is probably a better target."
   ]
  },
  {
   "cell_type": "markdown",
   "metadata": {},
   "source": [
    "<hr>"
   ]
  },
  {
   "cell_type": "markdown",
   "metadata": {},
   "source": [
    "<h2>Omitted Variable Bias (OVB) formula</h2>"
   ]
  },
  {
   "cell_type": "markdown",
   "metadata": {},
   "source": [
    "Part of the challenge here and with other examples is that the omitted variables might be a set of group indicators. If that's true, then an auxiliary regression is not straightforward to run, because we have multiple $y$ variables. (Maybe there's some crazy way of running a vector regression that can be illuminating, but if a Nobel Laureate didn't think it was worth mentioning, then I think we should let that sleeping dog lie!)\n",
    "\n",
    "Humor me with the following. It is a series of nested `ifelse()` commands that assigns values to a new variable `deptvar` that equal the coefficients on department indicator variables in the code above, if we ran that correctly. This is a crude but effective way of creating a single variable that magically captures all 5 department \"fixed effects.\"\n",
    "\n",
    "As a check, here's the third element of `ucb_longreg$coefficients`, which should be the coefficient on `deptB`:"
   ]
  },
  {
   "cell_type": "code",
   "execution_count": 8,
   "metadata": {
    "collapsed": false
   },
   "outputs": [
    {
     "data": {
      "text/html": [
       "<strong>deptB:</strong> -0.0373097455695785"
      ],
      "text/latex": [
       "\\textbf{deptB:} -0.0373097455695785"
      ],
      "text/markdown": [
       "**deptB:** -0.0373097455695785"
      ],
      "text/plain": [
       "      deptB \n",
       "-0.03730975 "
      ]
     },
     "metadata": {},
     "output_type": "display_data"
    }
   ],
   "source": [
    "ucb_longreg$coefficients[3]"
   ]
  },
  {
   "cell_type": "markdown",
   "metadata": {},
   "source": [
    "Checks out. Now here's some code. There might be a cleaner way to do this with `switch()` or maybe `recode()`."
   ]
  },
  {
   "cell_type": "code",
   "execution_count": 9,
   "metadata": {
    "collapsed": true
   },
   "outputs": [],
   "source": [
    "ucbadmit <- mutate(ucbadmit, deptvar = ifelse(dept == 1, 0, \n",
    "                                             ifelse(dept == 2, ucb_longreg$coefficients[3], \n",
    "                                                    ifelse(dept == 3, ucb_longreg$coefficients[4],\n",
    "                                                          ifelse(dept == 4, ucb_longreg$coefficients[5],\n",
    "                                                                ifelse(dept == 5, ucb_longreg$coefficients[6],\n",
    "                                                                       ucb_longreg$coefficients[7])\n",
    "                                                                 )\n",
    "                                                           )\n",
    "                                                    )\n",
    "                                              )\n",
    "                   )"
   ]
  },
  {
   "cell_type": "markdown",
   "metadata": {},
   "source": [
    "Now let's run a second version of the long regression, using this new variable instead of the 5 indicators:"
   ]
  },
  {
   "cell_type": "code",
   "execution_count": 10,
   "metadata": {
    "collapsed": false
   },
   "outputs": [
    {
     "data": {
      "text/plain": [
       "\n",
       "Call:\n",
       "lm(formula = admitted ~ female + deptvar, data = ucbadmit)\n",
       "\n",
       "Residuals:\n",
       "     Min       1Q   Median       3Q      Max \n",
       "-0.66117 -0.34977 -0.07447  0.35807  0.94476 \n",
       "\n",
       "Coefficients:\n",
       "            Estimate Std. Error t value Pr(>|t|)    \n",
       "(Intercept)  0.64193    0.01128  56.902   <2e-16 ***\n",
       "female       0.01924    0.01453   1.324    0.185    \n",
       "deptvar      1.00000    0.03547  28.192   <2e-16 ***\n",
       "---\n",
       "Signif. codes:  0 ‘***’ 0.001 ‘**’ 0.01 ‘*’ 0.05 ‘.’ 0.1 ‘ ’ 1\n",
       "\n",
       "Residual standard error: 0.4439 on 4483 degrees of freedom\n",
       "Multiple R-squared:  0.166,\tAdjusted R-squared:  0.1657 \n",
       "F-statistic: 446.3 on 2 and 4483 DF,  p-value: < 2.2e-16\n"
      ]
     },
     "metadata": {},
     "output_type": "display_data"
    }
   ],
   "source": [
    "ucb_longreg2 <- lm(admitted ~ female + deptvar, data = ucbadmit)\n",
    "summary(ucb_longreg2)"
   ]
  },
  {
   "cell_type": "markdown",
   "metadata": {},
   "source": [
    "The result is different only insofar as our constructed `deptvar` shows up with coefficient 1, as one would hope that it would. Recall that in the OVB formula, this coefficient is now $\\lambda = 1$, the coefficient on the omitted variable in the long regression.\n",
    "\n",
    "With one omitted variable in the short regression, `deptvar`, rather than 5, we can also run an auxiliary regression:"
   ]
  },
  {
   "cell_type": "code",
   "execution_count": 11,
   "metadata": {
    "collapsed": false
   },
   "outputs": [
    {
     "data": {
      "text/plain": [
       "\n",
       "Call:\n",
       "lm(formula = deptvar ~ female, data = ucbadmit)\n",
       "\n",
       "Residuals:\n",
       "     Min       1Q   Median       3Q      Max \n",
       "-0.38158 -0.10628  0.04623  0.16781  0.35763 \n",
       "\n",
       "Coefficients:\n",
       "             Estimate Std. Error t value Pr(>|t|)    \n",
       "(Intercept) -0.205116   0.003630  -56.51   <2e-16 ***\n",
       "female      -0.152510   0.005676  -26.87   <2e-16 ***\n",
       "---\n",
       "Signif. codes:  0 ‘***’ 0.001 ‘**’ 0.01 ‘*’ 0.05 ‘.’ 0.1 ‘ ’ 1\n",
       "\n",
       "Residual standard error: 0.1869 on 4484 degrees of freedom\n",
       "Multiple R-squared:  0.1387,\tAdjusted R-squared:  0.1385 \n",
       "F-statistic:   722 on 1 and 4484 DF,  p-value: < 2.2e-16\n"
      ]
     },
     "metadata": {},
     "output_type": "display_data"
    }
   ],
   "source": [
    "ucb_auxreg <- lm(deptvar ~ female, data = ucbadmit)\n",
    "summary(ucb_auxreg)"
   ]
  },
  {
   "cell_type": "markdown",
   "metadata": {},
   "source": [
    "Hold this thought. This reveals $\\pi_1$, the coefficient on the \"treatment variable\" of interest in the auxiliary regression.\n",
    "\n",
    "Below is the actual amount of omitted variable bias that we see on $\\beta$, the coefficient on `female`, between the short regression and the long regression:"
   ]
  },
  {
   "cell_type": "code",
   "execution_count": 12,
   "metadata": {
    "collapsed": false
   },
   "outputs": [
    {
     "data": {
      "text/html": [
       "<strong>female:</strong> -0.152510139188924"
      ],
      "text/latex": [
       "\\textbf{female:} -0.152510139188924"
      ],
      "text/markdown": [
       "**female:** -0.152510139188924"
      ],
      "text/plain": [
       "    female \n",
       "-0.1525101 "
      ]
     },
     "metadata": {},
     "output_type": "display_data"
    }
   ],
   "source": [
    "ucb_shortreg$coefficients[2] - ucb_longreg$coefficients[2]"
   ]
  },
  {
   "cell_type": "markdown",
   "metadata": {},
   "source": [
    "<font color=\"blue\">\n",
    "    <h3>\n",
    "    Question 12</h3>\n",
    "Use the OVB formula:\n",
    "    $$OVB = \\pi_1 \\times \\lambda$$\n",
    "    to explain this specific amount of omitted variable bias shown in the output directly above. Explain in words what $\\lambda$ and especially $\\pi_1$ are and what they mean.\n",
    "</font>"
   ]
  },
  {
   "cell_type": "markdown",
   "metadata": {},
   "source": [
    "The OVB formula is sort of \"degenerate\" in the math sense, because of our sleight of hand with the variable `deptvar`. The coefficient on `deptvar` in the long regression is $\\lambda = 1$, so all that matters is the $\\pi_1$ that emerges from the auxiliary regression of `deptvar` on `female`. \n",
    "\n",
    "$\\pi_1 = -0.153 = OVB$ here is telling us that being female is associated with a 15.3 percentage point reduction in the `deptvar` construct, which represents the choices or constraints connecting applicants to departments and also measures the conditional average admission rates in those departments.\n",
    "\n",
    "Sleight of hand. The important part here is that `female` is negatively correlated with the omitted variable that indicates applying to a department whose admission rates are higher. If we omit that information, we place downward omitted variable bias on `female` in the short regression."
   ]
  },
  {
   "cell_type": "markdown",
   "metadata": {},
   "source": [
    "<hr>"
   ]
  },
  {
   "cell_type": "markdown",
   "metadata": {},
   "source": [
    "<div style=\"text-align: right\"> <span style=\"font-family:Papyrus; \">And they lived happily ever after. The End.</span></div>"
   ]
  }
 ],
 "metadata": {
  "kernelspec": {
   "display_name": "R",
   "language": "R",
   "name": "ir"
  },
  "language_info": {
   "codemirror_mode": "r",
   "file_extension": ".r",
   "mimetype": "text/x-r-source",
   "name": "R",
   "pygments_lexer": "r",
   "version": "4.2.1"
  }
 },
 "nbformat": 4,
 "nbformat_minor": 5
}
