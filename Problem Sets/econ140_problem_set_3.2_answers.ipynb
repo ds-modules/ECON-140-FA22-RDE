{
 "cells": [
  {
   "cell_type": "markdown",
   "id": "28bfe784",
   "metadata": {},
   "source": [
    "<img src=\"images/econ140R_logo.png\" width=\"200\" />"
   ]
  },
  {
   "cell_type": "markdown",
   "id": "7e3abd8d",
   "metadata": {},
   "source": [
    "In the following cell, please type your name and SID:"
   ]
  },
  {
   "cell_type": "markdown",
   "id": "72f7e9bd",
   "metadata": {},
   "source": []
  },
  {
   "cell_type": "markdown",
   "id": "d902364b",
   "metadata": {},
   "source": [
    "In the cell below, please write out the [Honor Code](https://teaching.berkeley.edu/berkeley-honor-code) to reaffirm you are abiding by it."
   ]
  },
  {
   "cell_type": "markdown",
   "id": "9da84619",
   "metadata": {},
   "source": []
  },
  {
   "cell_type": "markdown",
   "id": "6824f541",
   "metadata": {},
   "source": [
    "Did you work with other students? List them below. Please write your answers in your own words, not in theirs."
   ]
  },
  {
   "cell_type": "markdown",
   "id": "de191923",
   "metadata": {},
   "source": []
  },
  {
   "cell_type": "markdown",
   "id": "26c9fa61",
   "metadata": {},
   "source": [
    "<h1>ECON 140R - Problem Set 3 Part 2</h1>\n",
    "\n",
    "<font color=\"red\"><b>Please complete Problem Set 3 Part 1 also</b></font>\n",
    "\n",
    "<h2>INSTRUCTIONS</h2>\n",
    "\n",
    "Please step through this problem set, copying and pasting code as needed, and run the code to produce output. Answer the questions asked, which appear in <font color=\"blue\">blue font</font>. You will earn 100% of the credit on this problem set for <b>completing</b> it with working code and coherent answers. Answers do not need to be correct for full credit."
   ]
  },
  {
   "cell_type": "markdown",
   "id": "e70566c4",
   "metadata": {},
   "source": [
    "It turns out that `ivreg()` is memory intensive.\n",
    "\n",
    "<font color = \"green\">If you are encountering <b>kernel crashes</b>, it is probably because of memory violations; that is, exceeding the 1 GB maximum. If this happens, try:</font>\n",
    "\n",
    "1. Halting other notebooks you may have open on datahub. Go to \"File: Close and Halt\"\n",
    "\n",
    "2. Clean away data in your notebook's workspace:\n",
    "* `ls()` to find the data objects present\n",
    "* `rm()` to remove them\n",
    "* `gc()` to empty the garbage can"
   ]
  },
  {
   "cell_type": "code",
   "execution_count": 1,
   "id": "3fe2d54f",
   "metadata": {},
   "outputs": [
    {
     "name": "stderr",
     "output_type": "stream",
     "text": [
      "Installing package into ‘/opt/r’\n",
      "(as ‘lib’ is unspecified)\n",
      "\n"
     ]
    }
   ],
   "source": [
    "#library(tidyverse)  # Don't need it. This or ggplot2 appears to overload memory\n",
    "library(haven)\n",
    "#library(ggplot2)    # Don't need it. \n",
    "install.packages(\"ivreg\", dependencies = TRUE)\n",
    "library(\"ivreg\")"
   ]
  },
  {
   "cell_type": "markdown",
   "id": "485312ef",
   "metadata": {},
   "source": [
    "It turns out that this handy command stops __R__ from defaulting to scientific notation. "
   ]
  },
  {
   "cell_type": "code",
   "execution_count": 2,
   "id": "72b4d565",
   "metadata": {},
   "outputs": [],
   "source": [
    "options(scipen=999)"
   ]
  },
  {
   "cell_type": "markdown",
   "id": "12ef77b4",
   "metadata": {},
   "source": [
    "<hr>"
   ]
  },
  {
   "cell_type": "markdown",
   "id": "8e23c4ca",
   "metadata": {},
   "source": [
    "Please see the data description in Problem Set 3 Part 1.\n",
    "\n",
    "In order to replicate Angrist and Krueger's (1994) <b>instrumental variables</b> analysis without crashing the __R__ kernel, we need to start fresh with the same 50% subsample of the 5% public-use microsample of the 1980 Census."
   ]
  },
  {
   "cell_type": "markdown",
   "id": "ffbdf230",
   "metadata": {},
   "source": [
    "<hr>"
   ]
  },
  {
   "cell_type": "code",
   "execution_count": 3,
   "id": "144ee7de",
   "metadata": {},
   "outputs": [],
   "source": [
    "data_c80_regsample = read_dta(\"data_c80_regsample_3.dta\")"
   ]
  },
  {
   "cell_type": "markdown",
   "id": "eddcc463",
   "metadata": {},
   "source": [
    "As before, we are going to model log pre-tax wage and salary income as a function of WWII veteran status and controls:\n",
    "\n",
    "$$\n",
    "\\ln Y_i = \\alpha + \\beta^{w} \\ wwii_i + B \\ controls_i + \\epsilon_i\n",
    "$$\n",
    "\n",
    "We are controlling for 0/1 WWII service; year of birth; being white (Black, Hispanic, and other men are the baseline omitted category); being married in 1980; a 0/1 indicator of living and working in a standard metropolitan statistical area (SMSA); years of education; a 0/1 indicator of a disability that limits or prevents work; and 49 indicators for 48 lower states (AK and HI are dropped) plus DC.\n",
    "\n",
    "We'll run this regression and examine what we find for $\\beta^w$. Let's follow what [Angrist and Krueger (1994)](https://www-jstor-org.libproxy.berkeley.edu/stable/2535121) do in the right side of Table 4, marked \"2SLS,\" which looks a lot like the left-hand side of Table 2.2 in <i>Mastering Metrics</i> Chapter 2. In both, the authors start with a simple model and the add some covariates that might have (and did) inject omitted variable bias. Here's what we'll do:\n",
    "\n",
    "1. $\\ln Y_i = \\alpha + \\beta^{w} \\ wwii_i + \\sum \\beta^{by} \\ birthyear_i  + \\epsilon_i$\n",
    "\n",
    "2. $\\ln Y_i = \\alpha + \\beta^{w} \\ wwii_i + \\sum \\beta^{by} \\ birthyear_i  + \\beta^wnh \\ white_i + \\beta^m \\ married_i + \\sum \\beta^{s}\\ state_i + \\beta^u \\ SMSA_i + \\epsilon_i$\n",
    "\n",
    "2. $\\ln Y_i = \\alpha + \\beta^{w} \\ wwii_i + \\sum \\beta^{by} \\ birthyear_i  + \\beta^wnh \\ white_i + \\beta^m \\ married_i + \\sum \\beta^{s}\\ state_i + \\beta^u \\ SMSA_i + \\beta^e \\ educ_i + \\beta^d \\ disability_i + \\epsilon_i$\n",
    "\n",
    "where here we are also running two-stage least squares (2SLS), a common form of instrumental variables (IV) estimation. \n",
    "\n",
    "The motivation for IV is that we suspect WWII service was not randomly assigned, even though there were draft lotteries. Rather, the most healthy were selected to serve. An instrumental variables approach based on year and quarter of birth can help reduce the selection bias plaguing $\\beta^w$ because men who were born too late had no chance of serving in WWII, even though they were healthy and could have been randomly selected if they were born earlier."
   ]
  },
  {
   "cell_type": "markdown",
   "id": "24aa5c71",
   "metadata": {},
   "source": [
    "Let us follow in the footsteps of Angrist and Krueger and estimate these three equations above by 2SLS using `ivreg()` in __R__. The syntax for ivreg() is very similar to that of `lm()`, except that you need a \"pipe\" symbol: \"|\". The pipe appears after your original equation, and the variable list after the pipe needs to include ALL the exogenous variables plus any instrumental variables. It must be list at least as long as the list between the tilde \"~\" and the pipe \"|\", and it cannot include the endogenous regressor, which is $wwii_i$ here.\n",
    "\n",
    "The <b>instrumental variables</b> are year-of-birth interacted with (i.e., times) quarter-of-birth, or in other words, indicator variables for being born in a particular year and quarter. Because year of birth is also in the regression, we need to omit one quarter or __R__ will do it for us, because of collinearity."
   ]
  },
  {
   "cell_type": "markdown",
   "id": "e537b690",
   "metadata": {},
   "source": [
    "<h4>\n",
    "<font color=\"blue\">Complete the code below and run it.</font>\n",
    "    </h4>"
   ]
  },
  {
   "cell_type": "code",
   "execution_count": 4,
   "id": "d063f006",
   "metadata": {},
   "outputs": [
    {
     "data": {
      "text/plain": [
       "\n",
       "Call:\n",
       "ivreg(formula = logincwage ~ wwii + factor(birthyr) | factor(birthyr) + \n",
       "    b25q1 + b25q2 + b25q3 + b26q1 + b26q2 + b26q3 + b27q1 + b27q2 + \n",
       "    b27q3 + b28q1 + b28q2 + b28q3, data = data_c80_regsample)\n",
       "\n",
       "Residuals:\n",
       "    Min      1Q  Median      3Q     Max \n",
       "-5.8155 -0.3034  0.1149  0.4329  1.5722 \n",
       "\n",
       "Coefficients:\n",
       "                     Estimate Std. Error t value             Pr(>|t|)    \n",
       "(Intercept)          9.791947   0.038809 252.311 < 0.0000000000000002 ***\n",
       "wwii                -0.123413   0.051160  -2.412               0.0159 *  \n",
       "factor(birthyr)1926  0.030861   0.007457   4.139             0.000035 ***\n",
       "factor(birthyr)1927  0.014972   0.008736   1.714               0.0866 .  \n",
       "factor(birthyr)1928 -0.015453   0.023805  -0.649               0.5162    \n",
       "\n",
       "Diagnostic tests:\n",
       "                   df1   df2 statistic              p-value    \n",
       "Weak instruments    12 81495     88.69 < 0.0000000000000002 ***\n",
       "Wu-Hausman           1 81505     53.13    0.000000000000316 ***\n",
       "Sargan              11    NA     20.57               0.0381 *  \n",
       "---\n",
       "Signif. codes:  0 ‘***’ 0.001 ‘**’ 0.01 ‘*’ 0.05 ‘.’ 0.1 ‘ ’ 1\n",
       "\n",
       "Residual standard error: 0.7475 on 81506 degrees of freedom\n",
       "Multiple R-Squared: -0.02725,\tAdjusted R-squared: -0.0273 \n",
       "Wald test: 9.198 on 4 and 81506 DF,  p-value: 0.0000001995 \n"
      ]
     },
     "metadata": {},
     "output_type": "display_data"
    }
   ],
   "source": [
    "c80_ivreg1 <- ivreg(logincwage ~ wwii + factor(birthyr)| \n",
    "                    factor(birthyr) +\n",
    "                    b25q1 + b25q2 + b25q3 +\n",
    "                    b26q1 + b26q2 + b26q3 +\n",
    "                    b27q1 + b27q2 + b27q3 + \n",
    "                    b28q1 + b28q2 + b28q3, \n",
    "                    data = data_c80_regsample)\n",
    "summary(c80_ivreg1)"
   ]
  },
  {
   "cell_type": "markdown",
   "id": "64600ecc",
   "metadata": {},
   "source": [
    "<font color=\"blue\">\n",
    "    <h3>\n",
    "    Question 10</h3>\n",
    "Look at the IV regression output above and describe what you see. How much more do male veterans of WWII earn compared to male nonveterans? Is the effect statistically significant? State what you see in descriptive sentences.</font>"
   ]
  },
  {
   "cell_type": "markdown",
   "id": "5d7ae218",
   "metadata": {},
   "source": [
    "In this instrumental variables regression, we see a startling outcome: WWII veterans earn 12% LESS than nonveterans in the same year of birth. The effect is statistically significant at the 5% level; the $t$-statistic is $-2.4$."
   ]
  },
  {
   "cell_type": "code",
   "execution_count": 5,
   "id": "1f15a7f9",
   "metadata": {},
   "outputs": [
    {
     "data": {
      "text/html": [
       "'data_c80_regsample'"
      ],
      "text/latex": [
       "'data\\_c80\\_regsample'"
      ],
      "text/markdown": [
       "'data_c80_regsample'"
      ],
      "text/plain": [
       "[1] \"data_c80_regsample\""
      ]
     },
     "metadata": {},
     "output_type": "display_data"
    },
    {
     "data": {
      "text/html": [
       "<table class=\"dataframe\">\n",
       "<caption>A matrix: 2 × 6 of type dbl</caption>\n",
       "<thead>\n",
       "\t<tr><th></th><th scope=col>used</th><th scope=col>(Mb)</th><th scope=col>gc trigger</th><th scope=col>(Mb)</th><th scope=col>max used</th><th scope=col>(Mb)</th></tr>\n",
       "</thead>\n",
       "<tbody>\n",
       "\t<tr><th scope=row>Ncells</th><td> 773047</td><td>41.3</td><td> 1349511</td><td> 72.1</td><td> 1349511</td><td> 72.1</td></tr>\n",
       "\t<tr><th scope=row>Vcells</th><td>6879619</td><td>52.5</td><td>22817020</td><td>174.1</td><td>22056332</td><td>168.3</td></tr>\n",
       "</tbody>\n",
       "</table>\n"
      ],
      "text/latex": [
       "A matrix: 2 × 6 of type dbl\n",
       "\\begin{tabular}{r|llllll}\n",
       "  & used & (Mb) & gc trigger & (Mb) & max used & (Mb)\\\\\n",
       "\\hline\n",
       "\tNcells &  773047 & 41.3 &  1349511 &  72.1 &  1349511 &  72.1\\\\\n",
       "\tVcells & 6879619 & 52.5 & 22817020 & 174.1 & 22056332 & 168.3\\\\\n",
       "\\end{tabular}\n"
      ],
      "text/markdown": [
       "\n",
       "A matrix: 2 × 6 of type dbl\n",
       "\n",
       "| <!--/--> | used | (Mb) | gc trigger | (Mb) | max used | (Mb) |\n",
       "|---|---|---|---|---|---|---|\n",
       "| Ncells |  773047 | 41.3 |  1349511 |  72.1 |  1349511 |  72.1 |\n",
       "| Vcells | 6879619 | 52.5 | 22817020 | 174.1 | 22056332 | 168.3 |\n",
       "\n"
      ],
      "text/plain": [
       "       used    (Mb) gc trigger (Mb)  max used (Mb) \n",
       "Ncells  773047 41.3  1349511    72.1  1349511  72.1\n",
       "Vcells 6879619 52.5 22817020   174.1 22056332 168.3"
      ]
     },
     "metadata": {},
     "output_type": "display_data"
    }
   ],
   "source": [
    "rm(c80_ivreg1)\n",
    "ls()\n",
    "gc()"
   ]
  },
  {
   "cell_type": "code",
   "execution_count": 9,
   "id": "36289465",
   "metadata": {},
   "outputs": [
    {
     "data": {
      "text/plain": [
       "\n",
       "Call:\n",
       "ivreg(formula = logincwage ~ wwii + factor(birthyr) + white + \n",
       "    married + factor(statefip) + smsa | factor(birthyr) + white + \n",
       "    married + factor(statefip) + smsa + b25q1 + b25q2 + b25q3 + \n",
       "    b26q1 + b26q2 + b26q3 + b27q1 + b27q2 + b27q3 + b28q1 + b28q2 + \n",
       "    b28q3, data = data_c80_regsample)\n",
       "\n",
       "Residuals:\n",
       "    Min      1Q  Median      3Q     Max \n",
       "-5.9078 -0.2817  0.0775  0.4065  2.2503 \n",
       "\n",
       "Coefficients:\n",
       "                      Estimate Std. Error t value             Pr(>|t|)    \n",
       "(Intercept)          8.7444088  0.0277643 314.952 < 0.0000000000000002 ***\n",
       "wwii                -0.1406921  0.0486355  -2.893             0.003819 ** \n",
       "factor(birthyr)1926  0.0281032  0.0070572   3.982    0.000068330334312 ***\n",
       "factor(birthyr)1927  0.0185772  0.0082476   2.252             0.024297 *  \n",
       "factor(birthyr)1928 -0.0213597  0.0225946  -0.945             0.344486    \n",
       "white                0.4276366  0.0141470  30.228 < 0.0000000000000002 ***\n",
       "married              0.3934452  0.0085340  46.103 < 0.0000000000000002 ***\n",
       "factor(statefip)4    0.0757813  0.0314898   2.407             0.016107 *  \n",
       "factor(statefip)5   -0.0565251  0.0325575  -1.736             0.082539 .  \n",
       "factor(statefip)6    0.2495385  0.0214901  11.612 < 0.0000000000000002 ***\n",
       "factor(statefip)8    0.1300388  0.0300437   4.328    0.000015043188678 ***\n",
       "factor(statefip)9    0.2827239  0.0281379  10.048 < 0.0000000000000002 ***\n",
       "factor(statefip)10   0.1638012  0.0505552   3.240             0.001196 ** \n",
       "factor(statefip)11   0.4760443  0.0542661   8.772 < 0.0000000000000002 ***\n",
       "factor(statefip)12  -0.0519111  0.0233494  -2.223             0.026203 *  \n",
       "factor(statefip)13   0.0537717  0.0255674   2.103             0.035457 *  \n",
       "factor(statefip)16   0.1421359  0.0468500   3.034             0.002415 ** \n",
       "factor(statefip)17   0.2840290  0.0223387  12.715 < 0.0000000000000002 ***\n",
       "factor(statefip)18   0.1794730  0.0245998   7.296    0.000000000000300 ***\n",
       "factor(statefip)19   0.1547297  0.0295482   5.237    0.000000164035423 ***\n",
       "factor(statefip)20   0.1222540  0.0302284   4.044    0.000052516885175 ***\n",
       "factor(statefip)21   0.0606209  0.0278695   2.175             0.029620 *  \n",
       "factor(statefip)22   0.1483354  0.0268280   5.529    0.000000032279715 ***\n",
       "factor(statefip)23   0.0005676  0.0389418   0.015             0.988372    \n",
       "factor(statefip)24   0.2648766  0.0259963  10.189 < 0.0000000000000002 ***\n",
       "factor(statefip)25   0.1802434  0.0252285   7.144    0.000000000000911 ***\n",
       "factor(statefip)26   0.2750707  0.0226814  12.128 < 0.0000000000000002 ***\n",
       "factor(statefip)27   0.2239571  0.0272018   8.233 < 0.0000000000000002 ***\n",
       "factor(statefip)28  -0.0219697  0.0319239  -0.688             0.491336    \n",
       "factor(statefip)29   0.0851598  0.0253264   3.362             0.000773 ***\n",
       "factor(statefip)30   0.1056348  0.0467285   2.261             0.023786 *  \n",
       "factor(statefip)31   0.0874923  0.0365297   2.395             0.016618 *  \n",
       "factor(statefip)32   0.0322868  0.0449132   0.719             0.472222    \n",
       "factor(statefip)33   0.1297231  0.0450568   2.879             0.003989 ** \n",
       "factor(statefip)34   0.2724660  0.0236109  11.540 < 0.0000000000000002 ***\n",
       "factor(statefip)35   0.0856814  0.0401697   2.133             0.032929 *  \n",
       "factor(statefip)36   0.1902269  0.0215100   8.844 < 0.0000000000000002 ***\n",
       "factor(statefip)37  -0.0398382  0.0245547  -1.622             0.104716    \n",
       "factor(statefip)38   0.0555647  0.0560870   0.991             0.321842    \n",
       "factor(statefip)39   0.2086242  0.0221105   9.436 < 0.0000000000000002 ***\n",
       "factor(statefip)40   0.0822331  0.0291683   2.819             0.004815 ** \n",
       "factor(statefip)41   0.1675533  0.0310377   5.398    0.000000067431354 ***\n",
       "factor(statefip)42   0.1406280  0.0222676   6.315    0.000000000270915 ***\n",
       "factor(statefip)44   0.0531298  0.0405160   1.311             0.189750    \n",
       "factor(statefip)45  -0.0019177  0.0289899  -0.066             0.947257    \n",
       "factor(statefip)46   0.0387464  0.0558969   0.693             0.488200    \n",
       "factor(statefip)47  -0.0146226  0.0261409  -0.559             0.575907    \n",
       "factor(statefip)48   0.1330274  0.0219359   6.064    0.000000001330563 ***\n",
       "factor(statefip)49   0.1866687  0.0390467   4.781    0.000001750360691 ***\n",
       "factor(statefip)50   0.0813125  0.0601175   1.353             0.176200    \n",
       "factor(statefip)51   0.0986792  0.0251574   3.922    0.000087716636889 ***\n",
       "factor(statefip)53   0.1849969  0.0270619   6.836    0.000000000008198 ***\n",
       "factor(statefip)54   0.1747431  0.0325311   5.372    0.000000078269632 ***\n",
       "factor(statefip)55   0.1725226  0.0254605   6.776    0.000000000012431 ***\n",
       "factor(statefip)56   0.3990600  0.0577760   6.907    0.000000000004986 ***\n",
       "smsa                 0.2457284  0.0067834  36.225 < 0.0000000000000002 ***\n",
       "\n",
       "Diagnostic tests:\n",
       "                   df1   df2 statistic              p-value    \n",
       "Weak instruments    12 81444     91.35 < 0.0000000000000002 ***\n",
       "Wu-Hausman           1 81454     39.01       0.000000000424 ***\n",
       "Sargan              11    NA     22.38               0.0216 *  \n",
       "---\n",
       "Signif. codes:  0 ‘***’ 0.001 ‘**’ 0.01 ‘*’ 0.05 ‘.’ 0.1 ‘ ’ 1\n",
       "\n",
       "Residual standard error: 0.7072 on 81455 degrees of freedom\n",
       "Multiple R-Squared: 0.08098,\tAdjusted R-squared: 0.08036 \n",
       "Wald test: 167.5 on 55 and 81455 DF,  p-value: < 0.00000000000000022 \n"
      ]
     },
     "metadata": {},
     "output_type": "display_data"
    }
   ],
   "source": [
    "c80_ivreg2 <- ivreg(logincwage ~ wwii + factor(birthyr) + white + married +\n",
    "                    factor(statefip) + smsa | \n",
    "                    factor(birthyr) + white + married +\n",
    "                    factor(statefip) + smsa +\n",
    "                    b25q1 + b25q2 + b25q3 +\n",
    "                    b26q1 + b26q2 + b26q3 +\n",
    "                    b27q1 + b27q2 + b27q3 + \n",
    "                    b28q1 + b28q2 + b28q3, \n",
    "                    data = data_c80_regsample)\n",
    "summary(c80_ivreg2)"
   ]
  },
  {
   "cell_type": "markdown",
   "id": "13846f90",
   "metadata": {},
   "source": [
    "<font color=\"blue\">\n",
    "    <h3>\n",
    "    Question 11</h3>\n",
    "Look at the IV regression output above and describe what you see. How much more do male veterans of WWII earn compared to male nonveterans? Is the effect statistically significant? State what you see in descriptive sentences. Describe how results have changed (or not) with more controls. Discuss omitted variable bias if it seems useful, and perhaps compare results here to what you saw using OLS earlier.</font>"
   ]
  },
  {
   "cell_type": "markdown",
   "id": "2ed520ae",
   "metadata": {
    "slideshow": {
     "slide_type": "slide"
    }
   },
   "source": [
    "In this second IV regression, we continue to see a negative coefficient that is statistically significant, and here it is slightly larger in magnitude than it was in Question 10: a reduction of 14%. It is interesting how adding controls actually made the negative effect larger in size. But that seems consistent with the OLS results earlier: when we controlled for being married and being white there, both of which were positively correlated with earnings and with WWII veteran status, we also made $\\beta^w$ less positive (here, more negative) because of positive omitted variable bias."
   ]
  },
  {
   "cell_type": "markdown",
   "id": "1f17b741",
   "metadata": {},
   "source": [
    "<h4>\n",
    "<font color=\"blue\">Complete the code below and run it.</font>\n",
    "    </h4>"
   ]
  },
  {
   "cell_type": "code",
   "execution_count": 10,
   "id": "066a485f",
   "metadata": {},
   "outputs": [
    {
     "data": {
      "text/html": [
       "'data_c80_regsample'"
      ],
      "text/latex": [
       "'data\\_c80\\_regsample'"
      ],
      "text/markdown": [
       "'data_c80_regsample'"
      ],
      "text/plain": [
       "[1] \"data_c80_regsample\""
      ]
     },
     "metadata": {},
     "output_type": "display_data"
    },
    {
     "data": {
      "text/html": [
       "<table class=\"dataframe\">\n",
       "<caption>A matrix: 2 × 6 of type dbl</caption>\n",
       "<thead>\n",
       "\t<tr><th></th><th scope=col>used</th><th scope=col>(Mb)</th><th scope=col>gc trigger</th><th scope=col>(Mb)</th><th scope=col>max used</th><th scope=col>(Mb)</th></tr>\n",
       "</thead>\n",
       "<tbody>\n",
       "\t<tr><th scope=row>Ncells</th><td> 778095</td><td>41.6</td><td> 1349511</td><td> 72.1</td><td> 1349511</td><td> 72.1</td></tr>\n",
       "\t<tr><th scope=row>Vcells</th><td>6890892</td><td>52.6</td><td>80033212</td><td>610.7</td><td>83037398</td><td>633.6</td></tr>\n",
       "</tbody>\n",
       "</table>\n"
      ],
      "text/latex": [
       "A matrix: 2 × 6 of type dbl\n",
       "\\begin{tabular}{r|llllll}\n",
       "  & used & (Mb) & gc trigger & (Mb) & max used & (Mb)\\\\\n",
       "\\hline\n",
       "\tNcells &  778095 & 41.6 &  1349511 &  72.1 &  1349511 &  72.1\\\\\n",
       "\tVcells & 6890892 & 52.6 & 80033212 & 610.7 & 83037398 & 633.6\\\\\n",
       "\\end{tabular}\n"
      ],
      "text/markdown": [
       "\n",
       "A matrix: 2 × 6 of type dbl\n",
       "\n",
       "| <!--/--> | used | (Mb) | gc trigger | (Mb) | max used | (Mb) |\n",
       "|---|---|---|---|---|---|---|\n",
       "| Ncells |  778095 | 41.6 |  1349511 |  72.1 |  1349511 |  72.1 |\n",
       "| Vcells | 6890892 | 52.6 | 80033212 | 610.7 | 83037398 | 633.6 |\n",
       "\n"
      ],
      "text/plain": [
       "       used    (Mb) gc trigger (Mb)  max used (Mb) \n",
       "Ncells  778095 41.6  1349511    72.1  1349511  72.1\n",
       "Vcells 6890892 52.6 80033212   610.7 83037398 633.6"
      ]
     },
     "metadata": {},
     "output_type": "display_data"
    }
   ],
   "source": [
    "rm(c80_ivreg2)\n",
    "ls()\n",
    "gc()"
   ]
  },
  {
   "cell_type": "code",
   "execution_count": 11,
   "id": "048a83f8",
   "metadata": {},
   "outputs": [
    {
     "data": {
      "text/plain": [
       "\n",
       "Call:\n",
       "ivreg(formula = logincwage ~ wwii + factor(birthyr) + white + \n",
       "    married + factor(statefip) + smsa + edyrs + disability | \n",
       "    factor(birthyr) + white + married + factor(statefip) + smsa + \n",
       "        edyrs + disability + b25q1 + b25q2 + b25q3 + b26q1 + \n",
       "        b26q2 + b26q3 + b27q1 + b27q2 + b27q3 + b28q1 + b28q2 + \n",
       "        b28q3, data = data_c80_regsample)\n",
       "\n",
       "Residuals:\n",
       "    Min      1Q  Median      3Q     Max \n",
       "-5.8617 -0.2478  0.0811  0.3754  2.6780 \n",
       "\n",
       "Coefficients:\n",
       "                      Estimate Std. Error t value             Pr(>|t|)    \n",
       "(Intercept)          8.2611158  0.0227649 362.888 < 0.0000000000000002 ***\n",
       "wwii                -0.0663295  0.0440599  -1.505             0.132215    \n",
       "factor(birthyr)1926  0.0205538  0.0065369   3.144             0.001666 ** \n",
       "factor(birthyr)1927  0.0108970  0.0076331   1.428             0.153414    \n",
       "factor(birthyr)1928 -0.0104960  0.0206596  -0.508             0.611422    \n",
       "white                0.2757476  0.0116975  23.573 < 0.0000000000000002 ***\n",
       "married              0.3492775  0.0077107  45.298 < 0.0000000000000002 ***\n",
       "factor(statefip)4    0.0186885  0.0290474   0.643             0.519979    \n",
       "factor(statefip)5   -0.0635447  0.0301447  -2.108             0.035035 *  \n",
       "factor(statefip)6    0.1501858  0.0196722   7.634   0.0000000000000229 ***\n",
       "factor(statefip)8    0.0374398  0.0276901   1.352             0.176347    \n",
       "factor(statefip)9    0.1830957  0.0258582   7.081   0.0000000000014451 ***\n",
       "factor(statefip)10   0.0891981  0.0467685   1.907             0.056495 .  \n",
       "factor(statefip)11   0.3193373  0.0500989   6.374   0.0000000001849688 ***\n",
       "factor(statefip)12  -0.1066701  0.0215168  -4.958   0.0000007154371674 ***\n",
       "factor(statefip)13   0.0681172  0.0236876   2.876             0.004033 ** \n",
       "factor(statefip)16   0.0654247  0.0432992   1.511             0.130794    \n",
       "factor(statefip)17   0.2174987  0.0205850  10.566 < 0.0000000000000002 ***\n",
       "factor(statefip)18   0.1495648  0.0227468   6.575   0.0000000000488787 ***\n",
       "factor(statefip)19   0.0989593  0.0273199   3.622             0.000292 ***\n",
       "factor(statefip)20   0.0436698  0.0279668   1.561             0.118413    \n",
       "factor(statefip)21   0.0914949  0.0258218   3.543             0.000395 ***\n",
       "factor(statefip)22   0.1415903  0.0248442   5.699   0.0000000120843631 ***\n",
       "factor(statefip)23  -0.0474632  0.0359923  -1.319             0.187271    \n",
       "factor(statefip)24   0.2198708  0.0239798   9.169 < 0.0000000000000002 ***\n",
       "factor(statefip)25   0.0989026  0.0231462   4.273   0.0000193119367223 ***\n",
       "factor(statefip)26   0.2422189  0.0209606  11.556 < 0.0000000000000002 ***\n",
       "factor(statefip)27   0.1607582  0.0250856   6.408   0.0000000001478710 ***\n",
       "factor(statefip)28  -0.0317938  0.0295481  -1.076             0.281929    \n",
       "factor(statefip)29   0.0590988  0.0234276   2.523             0.011650 *  \n",
       "factor(statefip)30   0.0134860  0.0432078   0.312             0.754950    \n",
       "factor(statefip)31   0.0008307  0.0338264   0.025             0.980408    \n",
       "factor(statefip)32  -0.0163705  0.0415524  -0.394             0.693603    \n",
       "factor(statefip)33   0.0472616  0.0416078   1.136             0.256009    \n",
       "factor(statefip)34   0.1899458  0.0217185   8.746 < 0.0000000000000002 ***\n",
       "factor(statefip)35   0.0080910  0.0370847   0.218             0.827293    \n",
       "factor(statefip)36   0.1120608  0.0198070   5.658   0.0000000153979896 ***\n",
       "factor(statefip)37  -0.0242447  0.0227467  -1.066             0.286492    \n",
       "factor(statefip)38   0.0070388  0.0519788   0.135             0.892282    \n",
       "factor(statefip)39   0.1728153  0.0204308   8.459 < 0.0000000000000002 ***\n",
       "factor(statefip)40   0.0299317  0.0269364   1.111             0.266487    \n",
       "factor(statefip)41   0.0843304  0.0285569   2.953             0.003147 ** \n",
       "factor(statefip)42   0.1089089  0.0205539   5.299   0.0000001169421852 ***\n",
       "factor(statefip)44  -0.0021847  0.0374422  -0.058             0.953472    \n",
       "factor(statefip)45   0.0148877  0.0268662   0.554             0.579482    \n",
       "factor(statefip)46  -0.0512324  0.0517451  -0.990             0.322132    \n",
       "factor(statefip)47   0.0086031  0.0242159   0.355             0.722391    \n",
       "factor(statefip)48   0.1012580  0.0202823   4.992   0.0000005974246185 ***\n",
       "factor(statefip)49   0.1082200  0.0360765   3.000             0.002703 ** \n",
       "factor(statefip)50   0.0229006  0.0556477   0.412             0.680687    \n",
       "factor(statefip)51   0.0721122  0.0232478   3.102             0.001924 ** \n",
       "factor(statefip)53   0.1123900  0.0249172   4.511   0.0000064753682140 ***\n",
       "factor(statefip)54   0.1725097  0.0301305   5.725   0.0000000103540228 ***\n",
       "factor(statefip)55   0.1179314  0.0235331   5.011   0.0000005417612382 ***\n",
       "factor(statefip)56   0.2347264  0.0534307   4.393   0.0000111885265516 ***\n",
       "smsa                 0.1690843  0.0059524  28.406 < 0.0000000000000002 ***\n",
       "edyrs                0.0631328  0.0010835  58.269 < 0.0000000000000002 ***\n",
       "disability          -0.4115438  0.0082165 -50.088 < 0.0000000000000002 ***\n",
       "\n",
       "Diagnostic tests:\n",
       "                   df1   df2 statistic              p-value    \n",
       "Weak instruments    12 81442     97.75 < 0.0000000000000002 ***\n",
       "Wu-Hausman           1 81452     11.66              0.00064 ***\n",
       "Sargan              11    NA     20.64              0.03731 *  \n",
       "---\n",
       "Signif. codes:  0 ‘***’ 0.001 ‘**’ 0.01 ‘*’ 0.05 ‘.’ 0.1 ‘ ’ 1\n",
       "\n",
       "Residual standard error: 0.655 on 81453 degrees of freedom\n",
       "Multiple R-Squared: 0.2118,\tAdjusted R-squared: 0.2113 \n",
       "Wald test: 393.8 on 57 and 81453 DF,  p-value: < 0.00000000000000022 \n"
      ]
     },
     "metadata": {},
     "output_type": "display_data"
    }
   ],
   "source": [
    "c80_ivreg3 <- ivreg(logincwage ~ wwii + factor(birthyr) + white + married +\n",
    "                    factor(statefip) + smsa + \n",
    "                    edyrs + disability | \n",
    "                    factor(birthyr) + white + married +\n",
    "                    factor(statefip) + smsa +\n",
    "                    edyrs + disability +\n",
    "                    b25q1 + b25q2 + b25q3 +\n",
    "                    b26q1 + b26q2 + b26q3 +\n",
    "                    b27q1 + b27q2 + b27q3 + \n",
    "                    b28q1 + b28q2 + b28q3, \n",
    "                    data = data_c80_regsample)\n",
    "summary(c80_ivreg3)"
   ]
  },
  {
   "cell_type": "markdown",
   "id": "242b42ff",
   "metadata": {},
   "source": [
    "<font color=\"blue\">\n",
    "    <h3>\n",
    "    Question 12</h3>\n",
    "Look at the IV regression output above and describe what you see. How much more do male veterans of WWII earn compared to male nonveterans? Is the effect statistically significant? State what you see in descriptive sentences. Describe how results have changed (or not) with more controls.</font>"
   ]
  },
  {
   "cell_type": "markdown",
   "id": "e8fe7d84",
   "metadata": {},
   "source": [
    "Here in this last IV regression, we see basically no effect of WWII service on earnings. The coefficient is $-0.066$, but it is statistically insignificantly different from zero. We've added more controls, and this last set has driven the result to zero.\n",
    "\n",
    "If you can keep the __R__ kernel from dying, you could explore this a little further by checking whether it is the inclusion of education or of disability that does this, knocking $\\beta^w$ to zero. If you check, it turns out that it is education that does it; disability is significant but it is negatively correlated with WWII veteran status.\n",
    "\n",
    "What Angrist and Krueger (1994) say about this is that it might be connected to the effects of year and quarter of birth. They point out that men born in later years in this sample have more education, and also that men born earlier in the year tend to have less education, presumably because of compulsory schooling age laws, and also are more likely to have served in WWII.\n",
    "\n",
    "Complicated!"
   ]
  },
  {
   "cell_type": "markdown",
   "id": "d1dd0748",
   "metadata": {},
   "source": [
    "<hr>"
   ]
  },
  {
   "cell_type": "markdown",
   "id": "7a73c80b",
   "metadata": {},
   "source": [
    "<font color=\"blue\">\n",
    "    <h3>\n",
    "    Question 13</h3>\n",
    "Take a step back and assess what we have found. Do you believe the OLS results? Or are the IV results more convincing? What do each set of results <i>mean</i>, for things that we care about like inequality and policy? Did WWII veterans benefit from their service in terms of earnings? Or do someo of these results imply the republic may have literally owed them something for their service?</font>"
   ]
  },
  {
   "cell_type": "markdown",
   "id": "fda95a63",
   "metadata": {},
   "source": [
    "Ordinary least squares estimates of the effect of WWII service on earnings are likely to be misleading because military service is select. As Chapters 1 and 2 in <i>Mastering Metrics</i> showed us, selection bias is a real problem for observational studies.\n",
    "\n",
    "The IV results are more convincing because of what we know about eligibility for service in WWII and what we see in the data on service rates by year and quarter of birth.\n",
    "\n",
    "The results mean that WWII veterans were not naturally compensated by the labor market in 1980 for their military service. The causal effect of military service on earnings may have been zero, if we hold education constant, or it might have been negative, if we do not. This implies that the republic literally owed veterans for their service."
   ]
  },
  {
   "cell_type": "markdown",
   "id": "58cbe4c8",
   "metadata": {},
   "source": [
    "<hr>"
   ]
  },
  {
   "cell_type": "markdown",
   "id": "0d47deec",
   "metadata": {},
   "source": [
    "<i>As warfare and killing rage again in Europe in 2022, let's also take a moment to recognize the great human costs and sacrifices associated with armed conflict and open warfare, and the tragedy of nuclear war.</i>"
   ]
  },
  {
   "cell_type": "markdown",
   "id": "e4bf004c",
   "metadata": {},
   "source": [
    "<hr>"
   ]
  },
  {
   "cell_type": "markdown",
   "id": "99b8612d",
   "metadata": {},
   "source": [
    "<div style=\"text-align: right\"> <span style=\"font-family:Papyrus; \">And they lived happily ever after. The End.</span></div>"
   ]
  }
 ],
 "metadata": {
  "kernelspec": {
   "display_name": "R",
   "language": "R",
   "name": "ir"
  },
  "language_info": {
   "codemirror_mode": "r",
   "file_extension": ".r",
   "mimetype": "text/x-r-source",
   "name": "R",
   "pygments_lexer": "r",
   "version": "4.2.1"
  }
 },
 "nbformat": 4,
 "nbformat_minor": 5
}
