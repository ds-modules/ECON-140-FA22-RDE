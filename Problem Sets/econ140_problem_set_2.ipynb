{
 "cells": [
  {
   "cell_type": "markdown",
   "id": "6869efd7",
   "metadata": {},
   "source": [
    "<img src=\"images/econ140R_logo.png\" width=\"200\" />"
   ]
  },
  {
   "cell_type": "markdown",
   "id": "2d7d5787",
   "metadata": {},
   "source": [
    "In the following cell, please type your name and SID:"
   ]
  },
  {
   "cell_type": "markdown",
   "id": "4eef3577",
   "metadata": {},
   "source": []
  },
  {
   "cell_type": "markdown",
   "id": "aea27d49",
   "metadata": {},
   "source": [
    "In the cell below, please write out the [Honor Code](https://teaching.berkeley.edu/berkeley-honor-code) to reaffirm you are abiding by it."
   ]
  },
  {
   "cell_type": "markdown",
   "id": "ca4d7ab9",
   "metadata": {},
   "source": []
  },
  {
   "cell_type": "markdown",
   "id": "a1941edc",
   "metadata": {},
   "source": [
    "Did you work with other students? List them below. Please write your answers in your own words, not in theirs."
   ]
  },
  {
   "cell_type": "markdown",
   "id": "7830e55f",
   "metadata": {},
   "source": []
  },
  {
   "cell_type": "markdown",
   "id": "9a915c6f",
   "metadata": {},
   "source": [
    "<h1>ECON 140R - Problem Set 2</h1>\n",
    "\n",
    "<h2>INSTRUCTIONS</h2>\n",
    "\n",
    "Please step through this problem set, copying and pasting code as needed, and run the code to produce output. Answer the questions asked, which appear in <font color=\"blue\">blue font</font>. You will earn 100% of the credit on this problem set for <b>completing</b> it with working code and coherent answers. Answers do not need to be correct for full credit."
   ]
  },
  {
   "cell_type": "markdown",
   "id": "7cd75564",
   "metadata": {},
   "source": [
    "Throughout, <b>you may consult outside sources like the paper below or other commentary</b>, but your analysis should be in your own words. We will not run TurnItIn software on this Problem Set, but as usual, you should not borrow phrases without attribution or commit \"mosaic plagiarism.\""
   ]
  },
  {
   "cell_type": "markdown",
   "id": "868a10fd",
   "metadata": {},
   "source": [
    "In this problem set, you will examine a dataset showing graduate admission decisions, a dichotomous measure of gender, and academic department from the fall 1973 application cohort. The dataset is described and analyzed by [P. J. Bickel, E. A. Hammel, J. W. O'Connell (1975) “Sex Bias in Graduate Admissions: Data from Berkeley,” Science 187(4175): 398-404](https://www-jstor-org.libproxy.berkeley.edu/stable/1739581) and further described in [David Freedman, Robert Pisani, and Roger Purves (2007) Statistics 4th edition. New York: Norton, pp 17–20](https://www.amazon.com/Statistics-4th-David-Freedman/dp/0393929728). I created this dataset using the description offered by FPP. There is a \"collapsed\" version of these data in __R__'s preloaded `datasets` package called `UCBAdmissions`."
   ]
  },
  {
   "cell_type": "markdown",
   "id": "45157c24",
   "metadata": {},
   "source": [
    "For kicks, here is an off-the-shelf visualization from `UCBAdmissions` that shows us ... well, it shows us something. The $x$-axis splits people into admitted (left) or rejected (right) columns. Then within each of those columns, we see the split between people who identify as female (bottom) or male (top), so that gender identity is the $y$-variable. "
   ]
  },
  {
   "cell_type": "code",
   "execution_count": null,
   "id": "8537ae6c",
   "metadata": {},
   "outputs": [],
   "source": [
    "require(graphics)\n",
    "## Data aggregated over departments\n",
    "apply(UCBAdmissions, c(1, 2), sum)\n",
    "mosaicplot(apply(UCBAdmissions, c(1, 2), sum),\n",
    "           main = \"Student admissions at UC Berkeley\")"
   ]
  },
  {
   "cell_type": "markdown",
   "id": "bfb18722",
   "metadata": {},
   "source": [
    "<font color=\"blue\">\n",
    "    <h3>Question 1.</h3> Does it make much sense to specify gender as the $y$-variable here, meaning that the implicit suggestion is to run this regression:   \n",
    "    $$\n",
    "    gender_i = \\alpha + \\beta \\cdot admit_i + \\epsilon_i\n",
    "    $$\n",
    "    where the variable $admit_i$ is like a 0/1 treatment <u>that causes</u> the variable $gender_i$?\n",
    "    State yes or no and briefly defend your answer.\n",
    "</font>"
   ]
  },
  {
   "cell_type": "markdown",
   "id": "834d05f8",
   "metadata": {},
   "source": []
  },
  {
   "cell_type": "markdown",
   "id": "ec3be61b",
   "metadata": {},
   "source": [
    "<hr>"
   ]
  },
  {
   "cell_type": "markdown",
   "id": "e0f239ac",
   "metadata": {},
   "source": [
    "Let's look at the reconstructed microdata. Load up our usuals, tidyverse and haven:"
   ]
  },
  {
   "cell_type": "code",
   "execution_count": null,
   "id": "6d35f2fa",
   "metadata": {
    "scrolled": false
   },
   "outputs": [],
   "source": [
    "library(tidyverse)\n",
    "library(haven)"
   ]
  },
  {
   "cell_type": "markdown",
   "id": "1e470ac3",
   "metadata": {},
   "source": [
    "<h2>Multivariate Analysis</h2>"
   ]
  },
  {
   "cell_type": "markdown",
   "id": "6e652245",
   "metadata": {},
   "source": [
    "Below is the reconstructed data file. Nothing fancy, mostly zeros and ones. There are a total of 4,486 observations arrayed across 6 departments. The call to `table()` pulls the counts by department and labels them nicely."
   ]
  },
  {
   "cell_type": "code",
   "execution_count": null,
   "id": "c8694ada",
   "metadata": {},
   "outputs": [],
   "source": [
    "ucbadmit <- read_dta(\"ucbadmit.dta\")\n",
    "head(ucbadmit)\n",
    "table(ucbadmit$deptchar)"
   ]
  },
  {
   "cell_type": "markdown",
   "id": "def5ff7d",
   "metadata": {},
   "source": [
    "There are six departments here, blinded for privacy purposes, labeled A through F. It would be useful to have indicator variables that tell us which of these \"treatment arms\" an individual is in. Let's create these indicator variables:"
   ]
  },
  {
   "cell_type": "code",
   "execution_count": null,
   "id": "6f04b8b6",
   "metadata": {},
   "outputs": [],
   "source": [
    "ucbadmit <- mutate(ucbadmit, deptA = ifelse(deptchar == \"A\",1,0))\n",
    "ucbadmit <- mutate(ucbadmit, deptB = ifelse(deptchar == \"B\",1,0))\n",
    "ucbadmit <- mutate(ucbadmit, deptC = ifelse(deptchar == \"C\",1,0))\n",
    "ucbadmit <- mutate(ucbadmit, deptD = ifelse(deptchar == \"D\",1,0))\n",
    "ucbadmit <- mutate(ucbadmit, deptE = ifelse(deptchar == \"E\",1,0))\n",
    "ucbadmit <- mutate(ucbadmit, deptF = ifelse(deptchar == \"F\",1,0))"
   ]
  },
  {
   "cell_type": "markdown",
   "id": "baa7b81e",
   "metadata": {},
   "source": [
    "Let's begin to analyze these data. The visualization above is helpful, provided you can get your head around how the $x$ and $y$ axes seem like they are reversed. Let's instead run a regression using `lm()` that shows the relationship between $y = admitted$, a 0/1 indicator variable for being admitted to UC Berkeley, and $x = female$, a 0/1 indicator for female gender identity:\n",
    "\n",
    "$$\n",
    "admitted_i = \\alpha + \\beta \\cdot female_i + \\epsilon_i\n",
    "$$"
   ]
  },
  {
   "cell_type": "markdown",
   "id": "35d6bc5e",
   "metadata": {},
   "source": [
    "<h3>\n",
    "<font color=\"blue\">Complete the code below and run it.</font>\n",
    "    </h3>"
   ]
  },
  {
   "cell_type": "code",
   "execution_count": null,
   "id": "85c4b328",
   "metadata": {},
   "outputs": [],
   "source": [
    "ucb_shortreg <- lm( FILL IN CORRECT CODE HERE, data = ucbadmit)\n",
    "summary(ucb_shortreg)"
   ]
  },
  {
   "cell_type": "markdown",
   "id": "383c9edf",
   "metadata": {},
   "source": [
    "<font color=\"blue\">\n",
    "    <h3>\n",
    "    Question 2</h3>\n",
    "    Look at the regression output above and describe what you see. What is the average admission rate for males? In this simple regression, what is the average effect on the admission rate of being female? Is the effect statistically significant? Describe using the reported numbers in the regression output, and also state what you see in descriptive sentences where you refer to the percentages revealed by the reported numbers. \n",
    "</font>"
   ]
  },
  {
   "cell_type": "markdown",
   "id": "b5d79365",
   "metadata": {},
   "source": []
  },
  {
   "cell_type": "markdown",
   "id": "e5a0e189",
   "metadata": {},
   "source": [
    "<hr>"
   ]
  },
  {
   "cell_type": "markdown",
   "id": "d4154513",
   "metadata": {},
   "source": [
    "<font color=\"blue\">\n",
    "    <h3>\n",
    "    Question 3</h3>\n",
    "Now translate what you see in the data, in your answer to Question 2, into an informative statement for <b>policy</b> at the University in this era, given that gender equality and diversity are objectives. Write a sentence or two.\n",
    "</font>"
   ]
  },
  {
   "cell_type": "markdown",
   "id": "115338d7",
   "metadata": {},
   "source": []
  },
  {
   "cell_type": "markdown",
   "id": "9e64d05f",
   "metadata": {},
   "source": [
    "<hr>"
   ]
  },
  {
   "cell_type": "markdown",
   "id": "1ecceacd",
   "metadata": {},
   "source": [
    "<font color=\"blue\">\n",
    "    <h3>\n",
    "    Question 4</h3>\n",
    "The data are fairly sparse, but they also show us the (anonymized) graduate department to which the person applied. Would you expect overall admission rates &mdash; that is, for both genders combined &mdash; admission rates to be the same across university departments, such as the English Department and the Mathematics Department, or would you expect admission rates to differ?\n",
    "</font>"
   ]
  },
  {
   "cell_type": "markdown",
   "id": "b877b528",
   "metadata": {},
   "source": []
  },
  {
   "cell_type": "markdown",
   "id": "91405c6f",
   "metadata": {},
   "source": [
    "<hr>"
   ]
  },
  {
   "cell_type": "markdown",
   "id": "8229a800",
   "metadata": {},
   "source": [
    "<font color=\"blue\">\n",
    "    <h3>\n",
    "    Question 5</h3>\n",
    "Suppose you thought admission rates were the same across departments. What would that imply about the gender-specific admission rate that we should see within each department, given what we saw in campus-wide admissions above? Would there be gender equality, or would we see an advantage for men or for women? \n",
    "</font>"
   ]
  },
  {
   "cell_type": "markdown",
   "id": "fd12ffaa",
   "metadata": {},
   "source": []
  },
  {
   "cell_type": "markdown",
   "id": "3d1120e2",
   "metadata": {},
   "source": [
    "<hr>"
   ]
  },
  {
   "cell_type": "markdown",
   "id": "b7bf511d",
   "metadata": {},
   "source": [
    "<font color=\"blue\">\n",
    "    <h3>\n",
    "    Question 6</h3>\n",
    "Suppose you thought admission rates were different across departments, so that some departments admitted very few applicants and others admitted more applicants. If this were publicly known, do you have a prior belief about which departments &mdash; those with low admission rates or those with high admission rates &mdash; might receive more male applicants? Or similarly, which departments might receive more female applicants? (The setting here is the 1970s, but the story might well be similar today.)\n",
    "</font>"
   ]
  },
  {
   "cell_type": "markdown",
   "id": "daf7b909",
   "metadata": {},
   "source": []
  },
  {
   "cell_type": "markdown",
   "id": "c45ec847",
   "metadata": {},
   "source": [
    "<hr>"
   ]
  },
  {
   "cell_type": "markdown",
   "id": "81c2f912",
   "metadata": {},
   "source": [
    "Let's push our analysis further by running a regression using `lm()` that includes our binary 0/1 controls for the admitting departments. We need to leave out one of the departments as the default category; let's choose department A for that:\n",
    "\n",
    "$$\n",
    "admitted_i = \\alpha^{M,A} + \\beta \\cdot female_i \n",
    "+ \\gamma^B deptB_i\n",
    "+ \\gamma^C deptC_i\n",
    "+ \\gamma^D deptD_i\n",
    "+ \\gamma^E deptE_i\n",
    "+ \\gamma^F deptF_i\n",
    "+ \\epsilon_i\n",
    "$$\n",
    "\n",
    "When we run this regression, note that the constant term $\\alpha$ becomes the average admission rate for male applicants to department A, the omitted category."
   ]
  },
  {
   "cell_type": "code",
   "execution_count": null,
   "id": "6fd3cfe2",
   "metadata": {},
   "outputs": [],
   "source": [
    "ucb_longreg <- lm( FILL IN CORRECT CODE HERE, data = ucbadmit)\n",
    "summary(ucb_longreg)"
   ]
  },
  {
   "cell_type": "markdown",
   "id": "d7ab6907",
   "metadata": {},
   "source": [
    "<font color=\"blue\">\n",
    "    <h3>\n",
    "    Question 7</h3>\n",
    "Look at the regression output above and describe what you see. What is the average admission rate for males who applied to department A? What is the average effect on the admission rate of being female? Is the effect statistically significant? What are the effects on admission rates of applying to departments B, C, D, E, and F? Describe using the reported numbers in the regression output, and also state what you see in descriptive sentences where you refer to the percentages revealed by the reported numbers. \n",
    "</font>"
   ]
  },
  {
   "cell_type": "markdown",
   "id": "05d5c008",
   "metadata": {},
   "source": []
  },
  {
   "cell_type": "markdown",
   "id": "a550e7a3",
   "metadata": {},
   "source": [
    "<hr>"
   ]
  },
  {
   "cell_type": "markdown",
   "id": "91a8c1cd",
   "metadata": {},
   "source": [
    "<font color=\"blue\">\n",
    "    <h3>\n",
    "    Question 8</h3>\n",
    "Now translate what you see in the data, in your answer to Question 7, into an informative statement for <b>policy</b> at the University in this era, given that gender equality and diversity are objectives. Write a sentence or two.\n",
    "</font>"
   ]
  },
  {
   "cell_type": "markdown",
   "id": "2d9bcd32",
   "metadata": {},
   "source": []
  },
  {
   "cell_type": "markdown",
   "id": "ec8c4fc1",
   "metadata": {},
   "source": [
    "<hr>"
   ]
  },
  {
   "cell_type": "markdown",
   "id": "a12ff88a",
   "metadata": {},
   "source": [
    "Recall that in Chapter 1, we often tested for balance in the characteristics of study participants across groups. Here, an equivalent check is to look for differences in the male/female mix of applicants to departments. We can operationalize that by calling `lm()` with an equation that looks like this:\n",
    "\n",
    "$$\n",
    "female_i = \\alpha^A\n",
    "+ \\gamma^B deptB_i\n",
    "+ \\gamma^C deptC_i\n",
    "+ \\gamma^D deptD_i\n",
    "+ \\gamma^E deptE_i\n",
    "+ \\gamma^F deptF_i\n",
    "+ u_i\n",
    "$$\n",
    "\n",
    "where the constant term is now the share of female applicants to department A, the omitted group. Note that this regression would be preposterous on its own; gender identity is not a function of the department to which a person applied! \n",
    "\n",
    "Write and run some code below to estimate that equation."
   ]
  },
  {
   "cell_type": "code",
   "execution_count": null,
   "id": "2dbe67a5",
   "metadata": {},
   "outputs": [],
   "source": [
    "female_reg <- lm( FILL IN CORRECT CODE HERE, data = ucbadmit)\n",
    "summary(female_reg)"
   ]
  },
  {
   "cell_type": "markdown",
   "id": "bd03ba32",
   "metadata": {},
   "source": [
    "<font color=\"blue\">\n",
    "    <h3>\n",
    "    Question 9</h3>\n",
    "Look at the regression output above and describe what you see. What does the share of female applicants look like across these departments? Is it constant? Describe using the reported numbers in the regression output, and also state what you see in descriptive sentences where you refer to the percentages revealed by the reported numbers. \n",
    "</font>"
   ]
  },
  {
   "cell_type": "markdown",
   "id": "09eab332",
   "metadata": {},
   "source": []
  },
  {
   "cell_type": "markdown",
   "id": "83fe6a45",
   "metadata": {},
   "source": [
    "<hr>"
   ]
  },
  {
   "cell_type": "markdown",
   "id": "9e9ea277",
   "metadata": {},
   "source": [
    "<font color=\"blue\">\n",
    "    <h3>\n",
    "    Question 10</h3>\n",
    "Now compare the regression output you looked at for Question 9 to the regression output you looked at for Question 7. What do you see? Where are shares of female applicants higher, in departments with low admission rates, or with high admission rates? Were you correct about this back in Question 6? (If you were incorrect, there is no need to change that answer now. This is part of the journey.)\n",
    "</font>"
   ]
  },
  {
   "cell_type": "markdown",
   "id": "0a6dc188",
   "metadata": {},
   "source": []
  },
  {
   "cell_type": "markdown",
   "id": "2f84dd66",
   "metadata": {},
   "source": [
    "<hr>"
   ]
  },
  {
   "cell_type": "markdown",
   "id": "2f9f30ab",
   "metadata": {},
   "source": [
    "Consider this last sentence written by [Bickel, Hammel, and O’Connell](https://www-jstor-org.libproxy.berkeley.edu/stable/1739581):\n",
    "\n",
    "<blockquote>\n",
    "Women are shunted by their socialization and education toward fields of graduate study that are generally more crowded, less productive of completed degrees, and less well funded, and that frequently offer poorer professional employment prospects.\n",
    "</blockquote>"
   ]
  },
  {
   "cell_type": "markdown",
   "id": "aaffe49c",
   "metadata": {},
   "source": [
    "<font color=\"blue\">\n",
    "    <h3>\n",
    "    Question 11</h3>\n",
    "Take a final stand on gender inequality in higher education in 1973, based on these data. Write several sentences in which you weigh what you have found, what you have not found, and what you could have researched with better data.\n",
    "</font>"
   ]
  },
  {
   "cell_type": "markdown",
   "id": "62e60bb6",
   "metadata": {},
   "source": []
  },
  {
   "cell_type": "markdown",
   "id": "bd4829a7",
   "metadata": {},
   "source": [
    "<hr>"
   ]
  },
  {
   "cell_type": "markdown",
   "id": "c3b4d286",
   "metadata": {},
   "source": [
    "<h2>Omitted Variable Bias (OVB) formula</h2>"
   ]
  },
  {
   "cell_type": "markdown",
   "id": "46f49975",
   "metadata": {},
   "source": [
    "Part of the challenge here and with other examples is that the omitted variables might be a set of group indicators. If that's true, then an auxiliary regression is not straightforward to run, because we have multiple $y$ variables. (Maybe there's some crazy way of running a vector regression that can be illuminating, but if a Nobel Laureate didn't think it was worth mentioning, then I think we should let that sleeping dog lie!)\n",
    "\n",
    "Humor me with the following. It is a series of nested `ifelse()` commands that assigns values to a new variable `deptvar` that equal the coefficients on department indicator variables in the code above, if we ran that correctly. This is a crude but effective way of creating a single variable that magically captures all 5 department \"fixed effects.\"\n",
    "\n",
    "As a check, here's the third element of `ucb_longreg$coefficients`, which should be the coefficient on `deptB`:"
   ]
  },
  {
   "cell_type": "code",
   "execution_count": null,
   "id": "b09a5628",
   "metadata": {},
   "outputs": [],
   "source": [
    "ucb_longreg$coefficients[3]"
   ]
  },
  {
   "cell_type": "markdown",
   "id": "a412ed39",
   "metadata": {},
   "source": [
    "Checks out. Now here's some code. There might be a cleaner way to do this with `switch()` or maybe `recode()`."
   ]
  },
  {
   "cell_type": "code",
   "execution_count": null,
   "id": "c091cff5",
   "metadata": {},
   "outputs": [],
   "source": [
    "ucbadmit <- mutate(ucbadmit, deptvar = ifelse(dept == 1, 0, \n",
    "                                             ifelse(dept == 2, ucb_longreg$coefficients[3], \n",
    "                                                    ifelse(dept == 3, ucb_longreg$coefficients[4],\n",
    "                                                          ifelse(dept == 4, ucb_longreg$coefficients[5],\n",
    "                                                                ifelse(dept == 5, ucb_longreg$coefficients[6],\n",
    "                                                                       ucb_longreg$coefficients[7])\n",
    "                                                                 )\n",
    "                                                           )\n",
    "                                                    )\n",
    "                                              )\n",
    "                   )"
   ]
  },
  {
   "cell_type": "markdown",
   "id": "6411b0ef",
   "metadata": {},
   "source": [
    "Now let's run a second version of the long regression, using this new variable instead of the 5 indicators:"
   ]
  },
  {
   "cell_type": "code",
   "execution_count": null,
   "id": "3d033a8f",
   "metadata": {},
   "outputs": [],
   "source": [
    "ucb_longreg2 <- lm(admitted ~ female + deptvar, data = ucbadmit)\n",
    "summary(ucb_longreg2)"
   ]
  },
  {
   "cell_type": "markdown",
   "id": "573b81e8",
   "metadata": {},
   "source": [
    "The result is different only insofar as our constructed `deptvar` shows up with coefficient 1, as one would hope that it would. Recall that in the OVB formula, this coefficient is now $\\lambda = 1$, the coefficient on the omitted variable in the long regression.\n",
    "\n",
    "With one omitted variable in the short regression, `deptvar`, rather than 5, we can also run an auxiliary regression:"
   ]
  },
  {
   "cell_type": "code",
   "execution_count": null,
   "id": "818c327d",
   "metadata": {},
   "outputs": [],
   "source": [
    "ucb_auxreg <- lm( FILL IN CORRECT CODE HERE, data = ucbadmit)\n",
    "summary(ucb_auxreg)"
   ]
  },
  {
   "cell_type": "markdown",
   "id": "6d9c588a",
   "metadata": {},
   "source": [
    "Hold this thought. This reveals $\\pi_1$, the coefficient on the \"treatment variable\" of interest in the auxiliary regression.\n",
    "\n",
    "Below is the actual amount of omitted variable bias that we see on $\\beta$, the coefficient on `female`, between the short regression and the long regression:"
   ]
  },
  {
   "cell_type": "code",
   "execution_count": null,
   "id": "4dfda9b0",
   "metadata": {},
   "outputs": [],
   "source": [
    "ucb_shortreg$coefficients[2] - ucb_longreg$coefficients[2]"
   ]
  },
  {
   "cell_type": "markdown",
   "id": "fd4d6449",
   "metadata": {},
   "source": [
    "<font color=\"blue\">\n",
    "    <h3>\n",
    "    Question 12</h3>\n",
    "Use the OVB formula:\n",
    "    $$OVB = \\pi_1 \\times \\lambda$$\n",
    "    to explain this specific amount of omitted variable bias shown in the output directly above. Explain in words what $\\lambda$ and especially $\\pi_1$ are and what they mean.\n",
    "</font>"
   ]
  },
  {
   "cell_type": "markdown",
   "id": "5fd9e8b4",
   "metadata": {},
   "source": []
  },
  {
   "cell_type": "markdown",
   "id": "69834bd9",
   "metadata": {},
   "source": [
    "<hr>"
   ]
  },
  {
   "cell_type": "markdown",
   "id": "29b083a3",
   "metadata": {},
   "source": [
    "<div style=\"text-align: right\"> <span style=\"font-family:Papyrus; \">And they lived happily ever after. The End.</span></div>"
   ]
  }
 ],
 "metadata": {
  "kernelspec": {
   "display_name": "R",
   "language": "R",
   "name": "ir"
  },
  "language_info": {
   "codemirror_mode": "r",
   "file_extension": ".r",
   "mimetype": "text/x-r-source",
   "name": "R",
   "pygments_lexer": "r",
   "version": "4.2.1"
  }
 },
 "nbformat": 4,
 "nbformat_minor": 5
}
