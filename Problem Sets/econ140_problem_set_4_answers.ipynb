{
 "cells": [
  {
   "cell_type": "markdown",
   "id": "28bfe784",
   "metadata": {},
   "source": [
    "<img src=\"images/econ140R_logo.png\" width=\"200\" />"
   ]
  },
  {
   "cell_type": "markdown",
   "id": "7e3abd8d",
   "metadata": {},
   "source": [
    "In the following cell, please type your name and SID:"
   ]
  },
  {
   "cell_type": "markdown",
   "id": "72f7e9bd",
   "metadata": {},
   "source": []
  },
  {
   "cell_type": "markdown",
   "id": "d902364b",
   "metadata": {},
   "source": [
    "In the cell below, please write out the [Honor Code](https://teaching.berkeley.edu/berkeley-honor-code) to reaffirm you are abiding by it."
   ]
  },
  {
   "cell_type": "markdown",
   "id": "9da84619",
   "metadata": {},
   "source": []
  },
  {
   "cell_type": "markdown",
   "id": "6824f541",
   "metadata": {},
   "source": [
    "Did you work with other students? List them below. Please write your answers in your own words, not in theirs."
   ]
  },
  {
   "cell_type": "markdown",
   "id": "de191923",
   "metadata": {},
   "source": []
  },
  {
   "cell_type": "markdown",
   "id": "26c9fa61",
   "metadata": {},
   "source": [
    "<h1>ECON 140R - Problem Set 4</h1>\n",
    "\n",
    "<h2>INSTRUCTIONS</h2>\n",
    "\n",
    "Please step through this problem set, copying and pasting code as needed, and run the code to produce output. Answer the questions asked, which appear in <font color=\"blue\">blue font</font>. You will earn 100% of the credit on this problem set for <b>completing</b> it with working code and coherent answers. Answers do not need to be correct for full credit."
   ]
  },
  {
   "cell_type": "markdown",
   "id": "f664f36d",
   "metadata": {},
   "source": [
    "Throughout, <b>you may consult outside sources like the paper below or other commentary</b>, but your analysis should be in your own words. We will not run TurnItIn software on this Problem Set, but as usual, you should not borrow phrases without attribution or commit \"mosaic plagiarism.\""
   ]
  },
  {
   "cell_type": "markdown",
   "id": "e53cc82d",
   "metadata": {},
   "source": [
    "<h2>Background</h2>"
   ]
  },
  {
   "cell_type": "markdown",
   "id": "90b66eed",
   "metadata": {},
   "source": [
    "In this problem set we will examine the `injury` dataset within the Wooldridge repository, which includes measures of workers' compensation utilization and worker characteristics in Kentucky and Michigan around 1980. The data were collected by the [National Council on Compensation Insurance (NCCI)](https://www.ncci.com/pages/default.aspx) and analyzed by [Meyer, Viscusi, and Durbin (1995)](https://www-jstor-org.libproxy.berkeley.edu/stable/2118177).\n",
    "\n",
    "The scenarios in Kentucky (KY) and Michigan (MI) were similar, although of course the two states differed in terms of industries, incomes, and other characteristics. Both states <i>raised the maximum weekly benefit</i> that workers could receive, by a large amount: from \\\\$131 to \\\\$217 or by 66% in KY, and from \\\\$181 to \\\\$307 or 70% in MI. Although high inflation rates during this period ate away some of the real value of these increases, they were comfortably high even after adjusting for inflation.\n",
    "\n",
    "<i>What effect did this policy change have, if any, on benefit claiming behavior?</i>\n",
    "\n",
    "<b>Workers' compensation</b> plans differ in implementation across states, but the general structure replaces wages when a workplace injury prevents working. An injured worker's weekly workers' comp payment is a function of the worker's wage, via a \"replacement rate,\" above a floor and up to a ceiling. The floor grants low-paid workers a minimum weekly insurance payout, and the ceiling places a cap on the total amount paid. In between, workers are paid perhaps two-thirds or 66.67% of their weekly wages, the replacement rate for Kentucky cited in the study.\n",
    "\n",
    "As Meyer, Viscusi, and Durbin discuss, the most common type of payment is for temporary total disabilities, where a person is unable to work but is expected to recover fully and return to work. As they describe on p. 324, \"temporary total claims have no fixed duration; their length is determined by the injured worker, his or her doctor, the employer, and its insurer.\"\n",
    "    \n",
    "Shown below, Figure 1 from [Meyer, Viscusi, and Durbin (1995)](https://www-jstor-org.libproxy.berkeley.edu/stable/2118177) illustrates this point and also the change associated with the increases in the maximum in Kentucky and Michigan in this time period."
   ]
  },
  {
   "cell_type": "markdown",
   "id": "d23796ea",
   "metadata": {},
   "source": [
    "<img src = \"images/meyer-viscusi-durbin-aer95-fig1.png\" width = 400/>"
   ]
  },
  {
   "cell_type": "code",
   "execution_count": 40,
   "id": "3fe2d54f",
   "metadata": {},
   "outputs": [
    {
     "name": "stderr",
     "output_type": "stream",
     "text": [
      "Installing package into ‘/opt/r’\n",
      "(as ‘lib’ is unspecified)\n",
      "\n"
     ]
    }
   ],
   "source": [
    "library(tidyverse)\n",
    "library(haven)\n",
    "library(dplyr)\n",
    "install.packages('wooldridge')"
   ]
  },
  {
   "cell_type": "markdown",
   "id": "485312ef",
   "metadata": {},
   "source": [
    "It turns out that this handy command stops __R__ from defaulting to scientific notation. "
   ]
  },
  {
   "cell_type": "code",
   "execution_count": 41,
   "id": "72b4d565",
   "metadata": {},
   "outputs": [],
   "source": [
    "options(scipen=999)"
   ]
  },
  {
   "cell_type": "markdown",
   "id": "12ef77b4",
   "metadata": {},
   "source": [
    "<hr>"
   ]
  },
  {
   "cell_type": "markdown",
   "id": "5b5782b3",
   "metadata": {},
   "source": [
    "Let's load up and look at the data."
   ]
  },
  {
   "cell_type": "code",
   "execution_count": 42,
   "id": "144ee7de",
   "metadata": {},
   "outputs": [
    {
     "data": {
      "text/html": [
       "<table class=\"dataframe\">\n",
       "<caption>A data.frame: 6 × 30</caption>\n",
       "<thead>\n",
       "\t<tr><th></th><th scope=col>durat</th><th scope=col>afchnge</th><th scope=col>highearn</th><th scope=col>male</th><th scope=col>married</th><th scope=col>hosp</th><th scope=col>indust</th><th scope=col>injtype</th><th scope=col>age</th><th scope=col>prewage</th><th scope=col>⋯</th><th scope=col>head</th><th scope=col>neck</th><th scope=col>upextr</th><th scope=col>trunk</th><th scope=col>lowback</th><th scope=col>lowextr</th><th scope=col>occdis</th><th scope=col>manuf</th><th scope=col>construc</th><th scope=col>highlpre</th></tr>\n",
       "\t<tr><th></th><th scope=col>&lt;dbl&gt;</th><th scope=col>&lt;int&gt;</th><th scope=col>&lt;int&gt;</th><th scope=col>&lt;int&gt;</th><th scope=col>&lt;int&gt;</th><th scope=col>&lt;int&gt;</th><th scope=col>&lt;int&gt;</th><th scope=col>&lt;int&gt;</th><th scope=col>&lt;int&gt;</th><th scope=col>&lt;dbl&gt;</th><th scope=col>⋯</th><th scope=col>&lt;int&gt;</th><th scope=col>&lt;int&gt;</th><th scope=col>&lt;int&gt;</th><th scope=col>&lt;int&gt;</th><th scope=col>&lt;int&gt;</th><th scope=col>&lt;int&gt;</th><th scope=col>&lt;int&gt;</th><th scope=col>&lt;int&gt;</th><th scope=col>&lt;int&gt;</th><th scope=col>&lt;dbl&gt;</th></tr>\n",
       "</thead>\n",
       "<tbody>\n",
       "\t<tr><th scope=row>1</th><td> 1</td><td>1</td><td>1</td><td>1</td><td>0</td><td>1</td><td>3</td><td>1</td><td>26</td><td>404.9500</td><td>⋯</td><td>1</td><td>0</td><td>0</td><td>0</td><td>0</td><td>0</td><td>0</td><td>0</td><td>0</td><td>6.003764</td></tr>\n",
       "\t<tr><th scope=row>2</th><td> 1</td><td>1</td><td>1</td><td>1</td><td>1</td><td>0</td><td>3</td><td>1</td><td>31</td><td>643.8250</td><td>⋯</td><td>1</td><td>0</td><td>0</td><td>0</td><td>0</td><td>0</td><td>0</td><td>0</td><td>0</td><td>6.467427</td></tr>\n",
       "\t<tr><th scope=row>3</th><td>84</td><td>1</td><td>1</td><td>1</td><td>1</td><td>1</td><td>3</td><td>1</td><td>37</td><td>398.1250</td><td>⋯</td><td>1</td><td>0</td><td>0</td><td>0</td><td>0</td><td>0</td><td>0</td><td>0</td><td>0</td><td>5.986766</td></tr>\n",
       "\t<tr><th scope=row>4</th><td> 4</td><td>1</td><td>1</td><td>1</td><td>1</td><td>1</td><td>3</td><td>1</td><td>31</td><td>527.8000</td><td>⋯</td><td>1</td><td>0</td><td>0</td><td>0</td><td>0</td><td>0</td><td>0</td><td>0</td><td>0</td><td>6.268717</td></tr>\n",
       "\t<tr><th scope=row>5</th><td> 1</td><td>1</td><td>1</td><td>1</td><td>1</td><td>0</td><td>3</td><td>1</td><td>23</td><td>528.9375</td><td>⋯</td><td>1</td><td>0</td><td>0</td><td>0</td><td>0</td><td>0</td><td>0</td><td>0</td><td>0</td><td>6.270870</td></tr>\n",
       "\t<tr><th scope=row>6</th><td> 1</td><td>1</td><td>1</td><td>1</td><td>1</td><td>0</td><td>3</td><td>1</td><td>34</td><td>614.2500</td><td>⋯</td><td>1</td><td>0</td><td>0</td><td>0</td><td>0</td><td>0</td><td>0</td><td>0</td><td>0</td><td>6.420402</td></tr>\n",
       "</tbody>\n",
       "</table>\n"
      ],
      "text/latex": [
       "A data.frame: 6 × 30\n",
       "\\begin{tabular}{r|lllllllllllllllllllll}\n",
       "  & durat & afchnge & highearn & male & married & hosp & indust & injtype & age & prewage & ⋯ & head & neck & upextr & trunk & lowback & lowextr & occdis & manuf & construc & highlpre\\\\\n",
       "  & <dbl> & <int> & <int> & <int> & <int> & <int> & <int> & <int> & <int> & <dbl> & ⋯ & <int> & <int> & <int> & <int> & <int> & <int> & <int> & <int> & <int> & <dbl>\\\\\n",
       "\\hline\n",
       "\t1 &  1 & 1 & 1 & 1 & 0 & 1 & 3 & 1 & 26 & 404.9500 & ⋯ & 1 & 0 & 0 & 0 & 0 & 0 & 0 & 0 & 0 & 6.003764\\\\\n",
       "\t2 &  1 & 1 & 1 & 1 & 1 & 0 & 3 & 1 & 31 & 643.8250 & ⋯ & 1 & 0 & 0 & 0 & 0 & 0 & 0 & 0 & 0 & 6.467427\\\\\n",
       "\t3 & 84 & 1 & 1 & 1 & 1 & 1 & 3 & 1 & 37 & 398.1250 & ⋯ & 1 & 0 & 0 & 0 & 0 & 0 & 0 & 0 & 0 & 5.986766\\\\\n",
       "\t4 &  4 & 1 & 1 & 1 & 1 & 1 & 3 & 1 & 31 & 527.8000 & ⋯ & 1 & 0 & 0 & 0 & 0 & 0 & 0 & 0 & 0 & 6.268717\\\\\n",
       "\t5 &  1 & 1 & 1 & 1 & 1 & 0 & 3 & 1 & 23 & 528.9375 & ⋯ & 1 & 0 & 0 & 0 & 0 & 0 & 0 & 0 & 0 & 6.270870\\\\\n",
       "\t6 &  1 & 1 & 1 & 1 & 1 & 0 & 3 & 1 & 34 & 614.2500 & ⋯ & 1 & 0 & 0 & 0 & 0 & 0 & 0 & 0 & 0 & 6.420402\\\\\n",
       "\\end{tabular}\n"
      ],
      "text/markdown": [
       "\n",
       "A data.frame: 6 × 30\n",
       "\n",
       "| <!--/--> | durat &lt;dbl&gt; | afchnge &lt;int&gt; | highearn &lt;int&gt; | male &lt;int&gt; | married &lt;int&gt; | hosp &lt;int&gt; | indust &lt;int&gt; | injtype &lt;int&gt; | age &lt;int&gt; | prewage &lt;dbl&gt; | ⋯ ⋯ | head &lt;int&gt; | neck &lt;int&gt; | upextr &lt;int&gt; | trunk &lt;int&gt; | lowback &lt;int&gt; | lowextr &lt;int&gt; | occdis &lt;int&gt; | manuf &lt;int&gt; | construc &lt;int&gt; | highlpre &lt;dbl&gt; |\n",
       "|---|---|---|---|---|---|---|---|---|---|---|---|---|---|---|---|---|---|---|---|---|---|\n",
       "| 1 |  1 | 1 | 1 | 1 | 0 | 1 | 3 | 1 | 26 | 404.9500 | ⋯ | 1 | 0 | 0 | 0 | 0 | 0 | 0 | 0 | 0 | 6.003764 |\n",
       "| 2 |  1 | 1 | 1 | 1 | 1 | 0 | 3 | 1 | 31 | 643.8250 | ⋯ | 1 | 0 | 0 | 0 | 0 | 0 | 0 | 0 | 0 | 6.467427 |\n",
       "| 3 | 84 | 1 | 1 | 1 | 1 | 1 | 3 | 1 | 37 | 398.1250 | ⋯ | 1 | 0 | 0 | 0 | 0 | 0 | 0 | 0 | 0 | 5.986766 |\n",
       "| 4 |  4 | 1 | 1 | 1 | 1 | 1 | 3 | 1 | 31 | 527.8000 | ⋯ | 1 | 0 | 0 | 0 | 0 | 0 | 0 | 0 | 0 | 6.268717 |\n",
       "| 5 |  1 | 1 | 1 | 1 | 1 | 0 | 3 | 1 | 23 | 528.9375 | ⋯ | 1 | 0 | 0 | 0 | 0 | 0 | 0 | 0 | 0 | 6.270870 |\n",
       "| 6 |  1 | 1 | 1 | 1 | 1 | 0 | 3 | 1 | 34 | 614.2500 | ⋯ | 1 | 0 | 0 | 0 | 0 | 0 | 0 | 0 | 0 | 6.420402 |\n",
       "\n"
      ],
      "text/plain": [
       "  durat afchnge highearn male married hosp indust injtype age prewage  ⋯ head\n",
       "1  1    1       1        1    0       1    3      1       26  404.9500 ⋯ 1   \n",
       "2  1    1       1        1    1       0    3      1       31  643.8250 ⋯ 1   \n",
       "3 84    1       1        1    1       1    3      1       37  398.1250 ⋯ 1   \n",
       "4  4    1       1        1    1       1    3      1       31  527.8000 ⋯ 1   \n",
       "5  1    1       1        1    1       0    3      1       23  528.9375 ⋯ 1   \n",
       "6  1    1       1        1    1       0    3      1       34  614.2500 ⋯ 1   \n",
       "  neck upextr trunk lowback lowextr occdis manuf construc highlpre\n",
       "1 0    0      0     0       0       0      0     0        6.003764\n",
       "2 0    0      0     0       0       0      0     0        6.467427\n",
       "3 0    0      0     0       0       0      0     0        5.986766\n",
       "4 0    0      0     0       0       0      0     0        6.268717\n",
       "5 0    0      0     0       0       0      0     0        6.270870\n",
       "6 0    0      0     0       0       0      0     0        6.420402"
      ]
     },
     "metadata": {},
     "output_type": "display_data"
    }
   ],
   "source": [
    "library(\"wooldridge\")\n",
    "data(injury, package = \"wooldridge\")\n",
    "head(injury)"
   ]
  },
  {
   "cell_type": "markdown",
   "id": "350ccd1a",
   "metadata": {},
   "source": [
    "As usual, you can call the code below to pull up the documentation for the dataset, which reveals the variable descriptions."
   ]
  },
  {
   "cell_type": "code",
   "execution_count": 43,
   "id": "07b32b92",
   "metadata": {},
   "outputs": [],
   "source": [
    "?injury"
   ]
  },
  {
   "cell_type": "markdown",
   "id": "1f5bbdd6",
   "metadata": {},
   "source": [
    "As is customary inside the helpful `wooldridge` repository, a lot of variables have already been constructed for us. Variables with a leading lowercase \"L\" are natural logs of things. It is very common to log variables like prices or incomes, because they typically have long right tails. Let us have a look at a key variable: `durat`, the duration in weeks of the workers' compensation claim."
   ]
  },
  {
   "cell_type": "code",
   "execution_count": 44,
   "id": "d996a8f2",
   "metadata": {},
   "outputs": [
    {
     "data": {
      "image/png": "[encoded data removed]",
      "text/plain": [
       "Plot with title “Histogram of injury$durat”"
      ]
     },
     "metadata": {
      "image/png": {
       "height": 420,
       "width": 420
      }
     },
     "output_type": "display_data"
    }
   ],
   "source": [
    "hist(injury$durat)"
   ]
  },
  {
   "cell_type": "markdown",
   "id": "0cbc0b1d",
   "metadata": {},
   "source": [
    "<h4>\n",
    "<font color=\"blue\">Complete the code below and run it.</font>\n",
    "    </h4>"
   ]
  },
  {
   "cell_type": "code",
   "execution_count": 45,
   "id": "4151eec7",
   "metadata": {},
   "outputs": [
    {
     "data": {
      "image/png": "[encoded data removed]",
      "text/plain": [
       "Plot with title “Histogram of injury$ldurat”"
      ]
     },
     "metadata": {
      "image/png": {
       "height": 420,
       "width": 420
      }
     },
     "output_type": "display_data"
    }
   ],
   "source": [
    "# Here, look at the histogram of the natural logarithm of claim duration\n",
    "hist(injury$ldurat)"
   ]
  },
  {
   "cell_type": "markdown",
   "id": "8ca85931",
   "metadata": {},
   "source": [
    "<font color=\"blue\">\n",
    "    <h3>\n",
    "    Question 1</h3>\n",
    "    One of these histograms looks like a bell curve, or somewhat normally distributed, and one does not. Which one looks reasonably like a bell curve?\n",
    "</font>"
   ]
  },
  {
   "cell_type": "markdown",
   "id": "22dc4759",
   "metadata": {
    "slideshow": {
     "slide_type": "slide"
    }
   },
   "source": [
    "It seems pretty clear that the log of workers' comp duration, $ldurat$ here, is the one that looks more like a bell curve. The level of the duration, $durat$, has a very long right tail. "
   ]
  },
  {
   "cell_type": "markdown",
   "id": "0f1f28ae",
   "metadata": {},
   "source": [
    "<hr>"
   ]
  },
  {
   "cell_type": "markdown",
   "id": "64b6d2bd",
   "metadata": {},
   "source": [
    "<h2>Ordinary Least Squares</h2>\n",
    "\n",
    "Let us therefore use a regression model to estimate the somewhat-normally-distributed variable as a function of things that we think matter for the duration of workers' comp benefits. Obvious choices for the determinants of benefit duration are the nature of the injury, the worker's industry, and the worker's age. Less obvious choices are the earnings class of the worker, gender, and marital status. \n",
    "\n",
    "If the nature of the injury were the only thing that drove what is ostensibly medical decisionmaking, one would expect that things like marital status should not matter for benefits duration unless they somehow proxied for health status. (As a parent of small children, I can attest that injuries appear to hurt a lot more than they used to now that I have additional care responsibilities, but that could also just be an age effect!)\n",
    "\n",
    "First things first. Let us remove one Kentuckian who is listed as 98 years old. The next oldest is 81 and then two workers are listed at age 80. This suggests to me that the 98yo is actually an unrecoded \"missing data\" problem. Missings are often coded as 98 or 99, or 998 or 998."
   ]
  },
  {
   "cell_type": "code",
   "execution_count": 46,
   "id": "768b4b24",
   "metadata": {},
   "outputs": [],
   "source": [
    "# Drop an apparent miscoding using subset()\n",
    "injury1 <- subset(injury, age < 98)"
   ]
  },
  {
   "cell_type": "markdown",
   "id": "26758f59",
   "metadata": {},
   "source": [
    "Here is our first regression model:\n",
    "\n",
    "$$\n",
    "ldurat_{i} = \\alpha + \\beta^a \\ age_{i} + \\beta^m \\ male_{i}\n",
    "+ \\sum_k \\beta^k \\ injury^k_{i} \n",
    "+ \\sum_\\eta \\beta^\\eta \\ industry^\\eta_{i} \n",
    "+ \\epsilon_{i}\n",
    "$$\n",
    "\n",
    "The right-hand-side variables are <i>age</i> in years; an indicator variable for <i>male</i> identity; and sets of indicator variables for the type of injury by body location: <i>head</i>, <i>neck</i>, <i>upextr</i> for upper extremities, <i>trunk</i>, <i>lowback</i> for lower back, <i>lowextr</i> for lower extremities; and type, <i>occdis</i> for occupational disease. We also have indicators for industry: <i>manuf</i> for manufacturing, and <i>construc</i> for construction.\n",
    "\n",
    "Let us estimate the model on a subset of the data: for Kentucky in the period before the policy change around 1980. The indicator variable <i>afchnge</i> equals 1 after the policy change and 0 before it."
   ]
  },
  {
   "cell_type": "markdown",
   "id": "8e98cbd9",
   "metadata": {},
   "source": [
    "<h4>\n",
    "<font color=\"blue\">Complete the code below and run it.</font>\n",
    "    </h4>"
   ]
  },
  {
   "cell_type": "code",
   "execution_count": 47,
   "id": "3fa7fa3a",
   "metadata": {},
   "outputs": [],
   "source": [
    "# Alter the code below to use subset() to grab the observations \n",
    "# for which afchnge == 0 & ky == 1\n",
    "injury1_ky_before <- subset(injury1, afchnge == 0 & ky == 1)"
   ]
  },
  {
   "cell_type": "markdown",
   "id": "80667679",
   "metadata": {},
   "source": [
    "Now run the code below using that subset of the data we created."
   ]
  },
  {
   "cell_type": "code",
   "execution_count": 48,
   "id": "e265b38e",
   "metadata": {},
   "outputs": [
    {
     "data": {
      "text/plain": [
       "\n",
       "Call:\n",
       "lm(formula = ldurat ~ age + male + head + neck + upextr + trunk + \n",
       "    lowback + lowextr + occdis + manuf + construc, data = injury1_ky_before)\n",
       "\n",
       "Residuals:\n",
       "    Min      1Q  Median      3Q     Max \n",
       "-3.0724 -0.8097  0.0906  0.7602  4.6156 \n",
       "\n",
       "Coefficients:\n",
       "             Estimate Std. Error t value           Pr(>|t|)    \n",
       "(Intercept)  1.213276   0.158787   7.641 0.0000000000000291 ***\n",
       "age          0.008986   0.001864   4.820 0.0000015072541349 ***\n",
       "male        -0.029186   0.056462  -0.517            0.60525    \n",
       "head        -0.784364   0.180576  -4.344 0.0000144908376280 ***\n",
       "neck         0.196896   0.234080   0.841            0.40034    \n",
       "upextr      -0.330951   0.143325  -2.309            0.02101 *  \n",
       "trunk       -0.092390   0.153364  -0.602            0.54694    \n",
       "lowback     -0.136818   0.143896  -0.951            0.34178    \n",
       "lowextr     -0.290428   0.144736  -2.007            0.04488 *  \n",
       "occdis      -0.176420   0.299309  -0.589            0.55562    \n",
       "manuf       -0.152807   0.055769  -2.740            0.00618 ** \n",
       "construc     0.126659   0.069258   1.829            0.06753 .  \n",
       "---\n",
       "Signif. codes:  0 ‘***’ 0.001 ‘**’ 0.01 ‘*’ 0.05 ‘.’ 0.1 ‘ ’ 1\n",
       "\n",
       "Residual standard error: 1.245 on 2910 degrees of freedom\n",
       "  (13 observations deleted due to missingness)\n",
       "Multiple R-squared:  0.02999,\tAdjusted R-squared:  0.02633 \n",
       "F-statistic:  8.18 on 11 and 2910 DF,  p-value: 0.00000000000002926\n"
      ]
     },
     "metadata": {},
     "output_type": "display_data"
    }
   ],
   "source": [
    "ldurat_reg1 <- lm(ldurat ~ age + male + \n",
    "                  head + neck + upextr + trunk +\n",
    "                  lowback + lowextr + occdis + \n",
    "                  manuf + construc, \n",
    "                  data = injury1_ky_before)\n",
    "summary(ldurat_reg1)"
   ]
  },
  {
   "cell_type": "markdown",
   "id": "9ee76d09",
   "metadata": {},
   "source": [
    "<font color=\"blue\">\n",
    "    <h3>\n",
    "    Question 2</h3>\n",
    "    Look at the regression output above and describe what you see. \n",
    "    Do older workers spend more time on workers' comp, conditional on gender, injury location, and industry? Does that make sense to you?\n",
    "    Of the coefficients on the various body parts of the injury, do any of the results seem strange? (Of these listed, what body part is arguably the most important? <i>This question probably does not have a single correct answer, but one really stood out to me.</i>)\n",
    "</font>"
   ]
  },
  {
   "cell_type": "markdown",
   "id": "2e92bb38",
   "metadata": {
    "slideshow": {
     "slide_type": "slide"
    }
   },
   "source": [
    "This first model shows us several significant coefficients on demographics, on the body location of the injury, and the industry of the worker. Age is significantly associated with longer log benefits duration, to the tune of about 0.9 percent per year, call it 1 percent per year. This seems pretty reasonable, if also substantial. A lot of things rise like this with age; mortality risk does, for example. \n",
    "\n",
    "It is really odd IMHO that head injuries appear to be those associated with the shortest of all durations! The coefficient is $-0.78$ and strongly significant. That is a 78 percent (\"log points\" as they say) reduction in benefits duration. I suppose this might reflect a sad truth about how medical and regular society have treated head injuries and concussions: if one cannot see an injury, and it does not prevent picking up objects or walking, then it might not be viewed as an injury."
   ]
  },
  {
   "cell_type": "markdown",
   "id": "06158484",
   "metadata": {},
   "source": [
    "<hr>"
   ]
  },
  {
   "cell_type": "markdown",
   "id": "008e543d",
   "metadata": {},
   "source": [
    "Now let us examine a model where we add an indicator for being married, $marr_i$, and an indicator of having high earnings, $highearn_{i}$. The precise threshold of earnings is a little unclear; it is in the neighborhood of \\\\$350 per week, and [Meyer, Viscusi, and Durbin (1995)](https://www-jstor-org.libproxy.berkeley.edu/stable/2118177) discuss it in footnote 17. The regression model becomes:\n",
    "\n",
    "$$\n",
    "ldurat_{i} = \\alpha + \\beta^{h} \\ highearn_{i} + \\beta^{marr} \\ married_{i} \n",
    "+ \\beta^a \\ age_{i} + \\beta^m \\ male_{i}\n",
    "+ \\sum_k \\beta^k \\ injury^k_{i} \n",
    "+ \\sum_\\eta \\beta^\\eta \\ industry^\\eta_{i} \n",
    "+ \\epsilon_{i}\n",
    "$$\n"
   ]
  },
  {
   "cell_type": "markdown",
   "id": "5c43c495",
   "metadata": {},
   "source": [
    "<h4>\n",
    "<font color=\"blue\">Complete the code below and run it.</font>\n",
    "    </h4>"
   ]
  },
  {
   "cell_type": "code",
   "execution_count": 60,
   "id": "fe5cc515",
   "metadata": {},
   "outputs": [
    {
     "data": {
      "text/plain": [
       "\n",
       "Call:\n",
       "lm(formula = ldurat ~ highearn + married + age + male + head + \n",
       "    neck + upextr + trunk + lowback + lowextr + occdis + manuf + \n",
       "    construc, data = injury1_ky_before)\n",
       "\n",
       "Residuals:\n",
       "    Min      1Q  Median      3Q     Max \n",
       "-3.0450 -0.7997  0.1009  0.7764  4.5067 \n",
       "\n",
       "Coefficients:\n",
       "             Estimate Std. Error t value           Pr(>|t|)    \n",
       "(Intercept)  1.222035   0.157789   7.745 0.0000000000000133 ***\n",
       "highearn     0.177395   0.053930   3.289            0.00102 ** \n",
       "married      0.096388   0.055298   1.743            0.08143 .  \n",
       "age          0.006357   0.001999   3.180            0.00149 ** \n",
       "male        -0.104564   0.061128  -1.711            0.08727 .  \n",
       "head        -0.827477   0.179773  -4.603 0.0000043545604449 ***\n",
       "neck         0.126297   0.236140   0.535            0.59280    \n",
       "upextr      -0.322520   0.141247  -2.283            0.02248 *  \n",
       "trunk       -0.112187   0.151770  -0.739            0.45985    \n",
       "lowback     -0.195774   0.142048  -1.378            0.16825    \n",
       "lowextr     -0.296190   0.142785  -2.074            0.03814 *  \n",
       "occdis      -0.163511   0.300436  -0.544            0.58632    \n",
       "manuf       -0.124045   0.056016  -2.214            0.02688 *  \n",
       "construc     0.100427   0.069543   1.444            0.14883    \n",
       "---\n",
       "Signif. codes:  0 ‘***’ 0.001 ‘**’ 0.01 ‘*’ 0.05 ‘.’ 0.1 ‘ ’ 1\n",
       "\n",
       "Residual standard error: 1.224 on 2766 degrees of freedom\n",
       "  (155 observations deleted due to missingness)\n",
       "Multiple R-squared:  0.03521,\tAdjusted R-squared:  0.03067 \n",
       "F-statistic: 7.765 on 13 and 2766 DF,  p-value: 0.000000000000002228\n"
      ]
     },
     "metadata": {},
     "output_type": "display_data"
    }
   ],
   "source": [
    "ldurat_reg2 <- lm(ldurat ~ highearn + married + \n",
    "                  age + male +\n",
    "                  head + neck + upextr + trunk +\n",
    "                  lowback + lowextr + occdis + \n",
    "                  manuf + construc, \n",
    "                  data = injury1_ky_before)\n",
    "summary(ldurat_reg2)"
   ]
  },
  {
   "cell_type": "markdown",
   "id": "9716327f",
   "metadata": {},
   "source": [
    "<font color=\"blue\">\n",
    "    <h3>\n",
    "    Question 3</h3>\n",
    "    Look at the regression output above and describe what you see. \n",
    "    What is the coefficient on $highearn$? Is it statistically significant? Recalling the units of the left-hand-side variable, state what the coefficient on $highearn$ means in terms of the duration of workers' comp between two injured Kentuckians who are observationally identical except that one is high-earning.\n",
    "    </font>"
   ]
  },
  {
   "cell_type": "markdown",
   "id": "32de7e2c",
   "metadata": {},
   "source": [
    "The coefficient is about $0.18$, and it is statistically significant. That means the high-earning injured Kentuckian receives workers' comp benefits 18 pecent longer, on average, with other things equal. "
   ]
  },
  {
   "cell_type": "markdown",
   "id": "d6111a6f",
   "metadata": {},
   "source": [
    "<hr>"
   ]
  },
  {
   "cell_type": "markdown",
   "id": "64b5be6d",
   "metadata": {},
   "source": [
    "<font color=\"blue\">\n",
    "    <h3>\n",
    "    Question 4</h3>\n",
    "    Does this result surprise you, as an economist? Do you think it would surprise a typical person? \n",
    "    </font>"
   ]
  },
  {
   "cell_type": "markdown",
   "id": "3a24cfea",
   "metadata": {},
   "source": [
    "As economists, we are probably not surprised by this result. We are trained to view choices as determined by marginal costs traded off against marginal benefits. There might be two reasons to expect high-earning workers to take bnenefits longer, other things equal. Mayeb you can think of other reasons too. One reason we might expect benefits duration to be longer among high earners is because their money benefits are higher on average, up to the cap of course. The second is because high earners are probably wealthier, their marginal utility of (earned) income is probably lower, so the incentive to return to working is lower.\n",
    "\n",
    "I think this probably would surprise a typical person, who is likely to believe that doctors and beneficiaries would set benefits duration based soleley on medical conditions."
   ]
  },
  {
   "cell_type": "markdown",
   "id": "592d1fa0",
   "metadata": {},
   "source": [
    "<hr>"
   ]
  },
  {
   "cell_type": "markdown",
   "id": "bf40dfd8",
   "metadata": {},
   "source": [
    "<h2>Difference in differences</h2>\n",
    "\n",
    "The raising of the benefit cap around 1980 may have had no effect on benefits claiming if claiming behavior were unrelated to earnings. But claiming behavior clearly was related to earnings, as we have just seen. Because the cap was only a constraint for high earners and not for low earnings, a natural approach to explore is <b>difference-in-differences (DID)</b> estimation."
   ]
  },
  {
   "cell_type": "markdown",
   "id": "7d27b77d",
   "metadata": {},
   "source": [
    "<font color=\"blue\">\n",
    "    <h3>\n",
    "    Question 5</h3>\n",
    "    According to <i>Mastering Metrics</i> and class discussion, what is the assumption underlying DID? Describe and discuss in this context, where unfortunately it is not directly testable in these data. Take a stand about whether you think DID is appropriate or not for this problem. \n",
    "    </font>"
   ]
  },
  {
   "cell_type": "markdown",
   "id": "dc1f0135",
   "metadata": {},
   "source": [
    "The only assumption that DID requires is <b>parallel trends</b>. As long as the $y$-variable for both treatment and control groups is trending the same way, in a parallel fashion, before treatment, then the counterfactual approach in DID makes sense. In the counterfactual, we use the experience of the control group to project what would have happened to the treatment group without the treatment.\n",
    "\n",
    "It is hard to know what to expect in the data, but perhaps the most obvious thing to expect is nothing, both for high earners and low earners. We know that the benefit cap had not been changed for a while, suggesting that things were probably in steady state. One would expect parallel trends in that case. Admittedly, one could also imagine a world in which low earners may not have seen much change, while a fixed nominal cap on benefits may have increasingly penalized high earners. Ultimately we will not know the answer to this question unless we find some data to test it. Senior honors thesis topic, anyone?\n",
    "\n",
    "I think a DID approach makes a lot of sense in this context, because the policy asymmetrically affected one earnings group, and there are reasons to expect parallel trends even though we cannot directly assess them."
   ]
  },
  {
   "cell_type": "markdown",
   "id": "86509878",
   "metadata": {},
   "source": [
    "<font color=\"blue\">\n",
    "    <h3>\n",
    "    Question 6</h3>\n",
    "    Just to put a fine point on this: what do your second regression results above reveal about the level of benefits duration among high earners versus low workers? Is this a problem for the DID approach? \n",
    "    </font>"
   ]
  },
  {
   "cell_type": "markdown",
   "id": "6fc37671",
   "metadata": {},
   "source": [
    "The regression results above show that high earners take benefits longer, other things equal. This is not a problem for the DID approach as long as we also had parallel trends. Different levels of benefits duration are fine. This may be the most counterintuitive part of DID estimation; systematic but stable differences in the level of the outcome are actually acceptable. It is the change over time that reveals the effect, if any, of the treatment."
   ]
  },
  {
   "cell_type": "markdown",
   "id": "6cf8a938",
   "metadata": {},
   "source": [
    "<hr>"
   ]
  },
  {
   "cell_type": "markdown",
   "id": "7cb1690d",
   "metadata": {},
   "source": [
    "When $highern_i$ defines the treatment group, and $afchng_t$ defines the post-treatment period, the simplest regression DID approach is to estimate this equation using stacked or pooled data:\n",
    "\n",
    "$$\n",
    "ldurat_{it} = \\alpha + \\beta^h \\ highearn_i + \\gamma \\cdot {afchnge}_t \n",
    "+ \\delta_{rDID} \n",
    "\\left( \n",
    "highearn_i \\times afchng_t\n",
    "\\right)\n",
    "+ \\epsilon_{it}\n",
    "$$\n",
    "\n",
    "where I have inserted a dot multiplier (\"$\\cdot$\") after $\\gamma$ to make the notation clearer.  The setup is that the treatment group gets a fixed effect equal to $\\beta^h$, and both control and treatment groups get a time fixed effect $\\gamma$. Then $\\delta_{rDID}$ is what remains, the difference in differences experienced by the treatment group."
   ]
  },
  {
   "cell_type": "markdown",
   "id": "ca9ae012",
   "metadata": {},
   "source": [
    "First things first, let us select observations pre and post but only from Kentucky."
   ]
  },
  {
   "cell_type": "code",
   "execution_count": 50,
   "id": "ded36667",
   "metadata": {},
   "outputs": [],
   "source": [
    "injury1_ky <- subset(injury1, ky == 1)"
   ]
  },
  {
   "cell_type": "markdown",
   "id": "2aa4d68d",
   "metadata": {},
   "source": [
    "Now let us create the interaction term by multiplying the treatment group indicator variable by the post-treatment period indicator:"
   ]
  },
  {
   "cell_type": "code",
   "execution_count": 58,
   "id": "81d036a4",
   "metadata": {},
   "outputs": [],
   "source": [
    "injury1_ky <- mutate(injury1_ky, highearnxafchnge = highearn * afchnge)"
   ]
  },
  {
   "cell_type": "markdown",
   "id": "9e5bc867",
   "metadata": {},
   "source": [
    "Finally, let us run the simple regression DID:"
   ]
  },
  {
   "cell_type": "code",
   "execution_count": 59,
   "id": "d6704b2f",
   "metadata": {},
   "outputs": [
    {
     "data": {
      "text/plain": [
       "\n",
       "Call:\n",
       "lm(formula = ldurat ~ highearn + afchnge + highearnxafchnge, \n",
       "    data = injury1_ky)\n",
       "\n",
       "Residuals:\n",
       "    Min      1Q  Median      3Q     Max \n",
       "-2.9666 -0.8872  0.0028  0.8102  4.0781 \n",
       "\n",
       "Coefficients:\n",
       "                 Estimate Std. Error t value             Pr(>|t|)    \n",
       "(Intercept)      1.125869   0.030743  36.622 < 0.0000000000000002 ***\n",
       "highearn         0.257578   0.047470   5.426           0.00000006 ***\n",
       "afchnge          0.009799   0.044735   0.219              0.82662    \n",
       "highearnxafchnge 0.187107   0.068532   2.730              0.00635 ** \n",
       "---\n",
       "Signif. codes:  0 ‘***’ 0.001 ‘**’ 0.01 ‘*’ 0.05 ‘.’ 0.1 ‘ ’ 1\n",
       "\n",
       "Residual standard error: 1.269 on 5617 degrees of freedom\n",
       "Multiple R-squared:  0.02059,\tAdjusted R-squared:  0.02006 \n",
       "F-statistic: 39.36 on 3 and 5617 DF,  p-value: < 0.00000000000000022\n"
      ]
     },
     "metadata": {},
     "output_type": "display_data"
    }
   ],
   "source": [
    "ldurat_reg_did1 <- lm(ldurat ~ highearn + afchnge + highearnxafchnge, \n",
    "                  data = injury1_ky)\n",
    "summary(ldurat_reg_did1)"
   ]
  },
  {
   "cell_type": "markdown",
   "id": "5077d5f0",
   "metadata": {},
   "source": [
    "<font color=\"blue\">\n",
    "    <h3>\n",
    "    Question 7</h3>\n",
    "    Describe what you see in the results here. Which group uses benefits for longer? Is that consistent with your second OLS regression above? \n",
    "    Is the common time trend statistically significant?\n",
    "    What is the DID estimate of the effect of raising the benefit cap on the duration of workers' comp benefits? Is it statistically significant?\n",
    "    </font>"
   ]
  },
  {
   "cell_type": "markdown",
   "id": "3a8b2e0b",
   "metadata": {},
   "source": [
    "The high-earning group takes benefits longer, here estimated at about 26 percent longer. That is fully consistent with the cross-sectional evidence we found earlier.\n",
    "\n",
    "The common time trend is an increase of about 1 percent, but it is not statistically significant.\n",
    "\n",
    "The DID estimate of the effect of raising the benefit cap on workers' comp is 18.7 percent. That is pretty substantial."
   ]
  },
  {
   "cell_type": "markdown",
   "id": "81c62b4e",
   "metadata": {},
   "source": [
    "<hr>"
   ]
  },
  {
   "cell_type": "markdown",
   "id": "2b1a7a83",
   "metadata": {},
   "source": [
    "A reasonable approach is to enrich this simple DID model with the other variables that we included earlier. That model is written as:\n",
    "\n",
    "$$\n",
    "\\begin{aligned}\n",
    "ldurat_{it} & = & \\alpha + \\beta^h \\ highearn_i + \\gamma \\cdot {afchnge}_t \n",
    "+ \\delta_{rDID} \n",
    "\\left( \n",
    "highearn_i \\times afchng_t\n",
    "\\right)\n",
    "\\\\\n",
    "& & \n",
    "+ \\beta^{marr} \\ married_{i} \n",
    "+ \\beta^a \\ age_{i} + \\beta^m \\ male_{i}\n",
    "+ \\sum_k \\beta^k \\ injury^k_{i} \n",
    "+ \\sum_\\eta \\beta^\\eta \\ industry^\\eta_{i} \n",
    "+ \\epsilon_{it}\n",
    "\\\\\n",
    "\\end{aligned}\n",
    "$$"
   ]
  },
  {
   "cell_type": "code",
   "execution_count": 61,
   "id": "43a312bd",
   "metadata": {},
   "outputs": [
    {
     "data": {
      "text/plain": [
       "\n",
       "Call:\n",
       "lm(formula = ldurat ~ highearn + afchnge + highearnxafchnge + \n",
       "    married + age + male + head + neck + upextr + trunk + lowback + \n",
       "    lowextr + occdis + manuf + construc, data = injury1_ky)\n",
       "\n",
       "Residuals:\n",
       "    Min      1Q  Median      3Q     Max \n",
       "-3.2994 -0.8287  0.0854  0.7677  4.5288 \n",
       "\n",
       "Coefficients:\n",
       "                   Estimate Std. Error t value             Pr(>|t|)    \n",
       "(Intercept)       1.0121895  0.1168744   8.660 < 0.0000000000000002 ***\n",
       "highearn          0.1522817  0.0518642   2.936              0.00334 ** \n",
       "afchnge           0.0141084  0.0448309   0.315              0.75300    \n",
       "highearnxafchnge  0.2233144  0.0693913   3.218              0.00130 ** \n",
       "married           0.0772114  0.0402917   1.916              0.05538 .  \n",
       "age               0.0068022  0.0014556   4.673           0.00000304 ***\n",
       "male             -0.0543486  0.0453713  -1.198              0.23102    \n",
       "head             -0.5031874  0.1290053  -3.901           0.00009717 ***\n",
       "neck              0.2965351  0.1612228   1.839              0.06593 .  \n",
       "upextr           -0.1656029  0.1009891  -1.640              0.10110    \n",
       "trunk             0.1291153  0.1088095   1.187              0.23543    \n",
       "lowback           0.0009885  0.1013171   0.010              0.99222    \n",
       "lowextr          -0.1098234  0.1021193  -1.075              0.28223    \n",
       "occdis            0.2614424  0.2103057   1.243              0.21387    \n",
       "manuf            -0.1612065  0.0408222  -3.949           0.00007949 ***\n",
       "construc          0.1106313  0.0517470   2.138              0.03257 *  \n",
       "---\n",
       "Signif. codes:  0 ‘***’ 0.001 ‘**’ 0.01 ‘*’ 0.05 ‘.’ 0.1 ‘ ’ 1\n",
       "\n",
       "Residual standard error: 1.248 on 5330 degrees of freedom\n",
       "  (275 observations deleted due to missingness)\n",
       "Multiple R-squared:  0.04531,\tAdjusted R-squared:  0.04262 \n",
       "F-statistic: 16.86 on 15 and 5330 DF,  p-value: < 0.00000000000000022\n"
      ]
     },
     "metadata": {},
     "output_type": "display_data"
    }
   ],
   "source": [
    "ldurat_reg_did2 <- lm(ldurat ~ highearn + afchnge + highearnxafchnge +\n",
    "                      married + age + male +\n",
    "                      head + neck + upextr + trunk +\n",
    "                      lowback + lowextr + occdis + \n",
    "                      manuf + construc, \n",
    "                      data = injury1_ky)\n",
    "summary(ldurat_reg_did2)"
   ]
  },
  {
   "cell_type": "markdown",
   "id": "90c5d398",
   "metadata": {},
   "source": [
    "<font color=\"blue\">\n",
    "    <h3>\n",
    "    Question 8</h3>\n",
    "    Repeat your analysis in Question 7 for these results: Which group uses benefits for longer? Is that consistent with your second OLS regression above? \n",
    "    Is the common time trend statistically significant?\n",
    "    What is the DID estimate of the effect of raising the benefit cap on the duration of workers' comp benefits? Is it statistically significant?\n",
    "    </font>"
   ]
  },
  {
   "cell_type": "markdown",
   "id": "623c5281",
   "metadata": {},
   "source": [
    "These results are qualitatively very similar to the results we discussed in Question 7. Here, high earners still have a longer duration of benefits, but the effect is a little smaller, 15 percent compared to 26 percent above. That must be because here, we have controlled for some of the observable differences between high and low earners with our lengthy list of controls. (Those might be useful to examine. An enterprising student could dig in an look at those differences.)\n",
    "\n",
    "The common time trend remains insignificant. And the DID estimate here is 22.3 percent, up from 18.7. It is statistically significant.\n",
    "\n",
    "The other coefficients look a lot like what we saw in our OLS results earlier."
   ]
  },
  {
   "cell_type": "markdown",
   "id": "967ad54f",
   "metadata": {},
   "source": [
    "<hr>"
   ]
  },
  {
   "cell_type": "markdown",
   "id": "51afd59b",
   "metadata": {},
   "source": [
    "Suppose we ignored the DID estimator structure and just ran the panel data regression using $highearn$ as a treatment group fixed effect and $afchnge$ as a time fixed effect. What kind of inference would emerge?"
   ]
  },
  {
   "cell_type": "code",
   "execution_count": 67,
   "id": "90b11727",
   "metadata": {},
   "outputs": [
    {
     "data": {
      "text/plain": [
       "\n",
       "Call:\n",
       "lm(formula = ldurat ~ highearn + afchnge + married + age + male + \n",
       "    head + neck + upextr + trunk + lowback + lowextr + occdis + \n",
       "    manuf + construc, data = injury1_ky)\n",
       "\n",
       "Residuals:\n",
       "    Min      1Q  Median      3Q     Max \n",
       "-3.3576 -0.8350  0.0794  0.7819  4.4833 \n",
       "\n",
       "Coefficients:\n",
       "             Estimate Std. Error t value             Pr(>|t|)    \n",
       "(Intercept)  0.970072   0.116241   8.345 < 0.0000000000000002 ***\n",
       "highearn     0.259476   0.039789   6.521      0.0000000000762 ***\n",
       "afchnge      0.107398   0.034228   3.138              0.00171 ** \n",
       "married      0.077707   0.040327   1.927              0.05404 .  \n",
       "age          0.006867   0.001457   4.713      0.0000024972293 ***\n",
       "male        -0.050706   0.045397  -1.117              0.26406    \n",
       "head        -0.514237   0.129073  -3.984      0.0000686426241 ***\n",
       "neck         0.292131   0.161358   1.810              0.07028 .  \n",
       "upextr      -0.171298   0.101062  -1.695              0.09014 .  \n",
       "trunk        0.125020   0.108898   1.148              0.25100    \n",
       "lowback     -0.005231   0.101387  -0.052              0.95885    \n",
       "lowextr     -0.114943   0.102196  -1.125              0.26075    \n",
       "occdis       0.254874   0.210480   1.211              0.22598    \n",
       "manuf       -0.161395   0.040858  -3.950      0.0000791121975 ***\n",
       "construc     0.102861   0.051736   1.988              0.04684 *  \n",
       "---\n",
       "Signif. codes:  0 ‘***’ 0.001 ‘**’ 0.01 ‘*’ 0.05 ‘.’ 0.1 ‘ ’ 1\n",
       "\n",
       "Residual standard error: 1.249 on 5331 degrees of freedom\n",
       "  (275 observations deleted due to missingness)\n",
       "Multiple R-squared:  0.04345,\tAdjusted R-squared:  0.04094 \n",
       "F-statistic:  17.3 on 14 and 5331 DF,  p-value: < 0.00000000000000022\n"
      ]
     },
     "metadata": {},
     "output_type": "display_data"
    }
   ],
   "source": [
    "ldurat_reg_panelfe <- lm(ldurat ~ highearn + afchnge +\n",
    "                      married + age + male +\n",
    "                      head + neck + upextr + trunk +\n",
    "                      lowback + lowextr + occdis + \n",
    "                      manuf + construc, \n",
    "                      data = injury1_ky)\n",
    "summary(ldurat_reg_panelfe)"
   ]
  },
  {
   "cell_type": "markdown",
   "id": "952b7303",
   "metadata": {},
   "source": [
    "<font color=\"blue\">\n",
    "    <h3>\n",
    "    Question 9</h3>\n",
    "    Please answer familiar questions based on these results: \n",
    "    Which group uses benefits for longer? Is that consistent with your second OLS regression above? \n",
    "    Is the common time trend statistically significant?\n",
    "    </font>"
   ]
  },
  {
   "cell_type": "markdown",
   "id": "3492d1eb",
   "metadata": {},
   "source": [
    "Here we see the same qualitative story again, basically. We will emphasize the nuance in the next and final question below. High earners use benefits for longer, by 26 percent here in this pooled sample. \n",
    "\n",
    "One thing that is different is the effect of the time trend. Here it is positive, at 10.7 percent, and it is statistically significant. This is not surprising, given that we found a DID effect earlier, while here we have omitted the DID variable."
   ]
  },
  {
   "cell_type": "markdown",
   "id": "5e547924",
   "metadata": {},
   "source": [
    "<hr>"
   ]
  },
  {
   "cell_type": "markdown",
   "id": "bb9f5691",
   "metadata": {},
   "source": [
    "<h2>Wrapping up</h2>\n",
    "\n",
    "Stepping back, let us articulate the conceptual power and usefulness of the DID estimator.   "
   ]
  },
  {
   "cell_type": "markdown",
   "id": "8d2ced8c",
   "metadata": {},
   "source": [
    "<font color=\"blue\">\n",
    "    <h3>\n",
    "    Question 10</h3> \n",
    "    Look at the results of <i>ldurat_reg_panelfe</i> above, the last regression, which is a panel regression with fixed effects, and assess this remark (\"true or false and discuss\"): \n",
    "    </font>\n",
    "    <p>\n",
    "        <font color=\"blue\">\n",
    "    <i>Taken in isolation, that regression tells us nothing about causal influences on benefits duration. High earners take benefits longer, but we cannot really say why. Benefit duration is longer later in time, but we cannot really say why.</i>\n",
    "    </i>\n",
    "</font>"
   ]
  },
  {
   "cell_type": "markdown",
   "id": "3bd1d6e3",
   "metadata": {},
   "source": [
    "This remark is correct. A panel-fixed-effects estimator is useful, but if there were no treatment and control groups, or as is true here, if they were not allowed to vary differently over time, it cannot reveal a causal effect of a treatment on an outcome.\n",
    "\n",
    "Both these statements are true: high earnings take benefits longer, and we have (unfortunately) constrained the time effect to be the same for each group. Zoinks!"
   ]
  },
  {
   "cell_type": "markdown",
   "id": "bfd1ab73",
   "metadata": {},
   "source": [
    "<hr>"
   ]
  },
  {
   "cell_type": "markdown",
   "id": "dd26a490",
   "metadata": {},
   "source": [
    "<font color=\"blue\">\n",
    "    <h3>\n",
    "    Question 11</h3> \n",
    "    Look at the results of <i>ldurat_reg_did2</i> above, the second-to-last regression, which is a panel regression with fixed effects and a time/group interaction, and assess this remark (\"true or false and discuss\"): \n",
    "    </font>\n",
    "    <p>\n",
    "        <font color=\"blue\">\n",
    "    <i>Taken in isolation, that regression tells us nothing about causal influences on benefits duration. High earners take benefits longer, but we cannot really say why. Benefit duration stays constant over time, and we cannot really say why.</i>\n",
    "    </i>\n",
    "</font>"
   ]
  },
  {
   "cell_type": "markdown",
   "id": "03768e4a",
   "metadata": {},
   "source": [
    "This statement is incorrect, because the DID regression does plausibly reveal the causal effect of raising the benefit cap on benefit duration. This is because we have identified a treatment and a control group, which have different means at baseline, but only one of which is subject to the treatment."
   ]
  },
  {
   "cell_type": "markdown",
   "id": "3a8a1c74",
   "metadata": {},
   "source": [
    "<hr>"
   ]
  },
  {
   "cell_type": "markdown",
   "id": "99b8612d",
   "metadata": {},
   "source": [
    "<div style=\"text-align: right\"> <span style=\"font-family:Papyrus; \">And they lived happily ever after. The End.</span></div>"
   ]
  }
 ],
 "metadata": {
  "kernelspec": {
   "display_name": "R",
   "language": "R",
   "name": "ir"
  },
  "language_info": {
   "codemirror_mode": "r",
   "file_extension": ".r",
   "mimetype": "text/x-r-source",
   "name": "R",
   "pygments_lexer": "r",
   "version": "4.2.1"
  }
 },
 "nbformat": 4,
 "nbformat_minor": 5
}
