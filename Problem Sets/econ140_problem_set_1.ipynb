{
 "cells": [
  {
   "cell_type": "markdown",
   "metadata": {},
   "source": [
    "<img src=\"images/econ140R_logo.png\" width=\"200\" />"
   ]
  },
  {
   "cell_type": "markdown",
   "metadata": {},
   "source": [
    "In this cell, please type your name and SID"
   ]
  },
  {
   "cell_type": "markdown",
   "metadata": {},
   "source": [
    "<h1>ECON 140R - Problem Set 1</h1>\n",
    "\n",
    "This material is closely and gratefully adapted from the work of the UC Berkeley EEP/IAS 118 team, including Jeremy Magruder, Sofia Villas-Boas, James Sears, and many other people working on these materials for EEP118. This is your work. We are in your debt!\n",
    "\n",
    "<h2>INSTRUCTIONS</h2>\n",
    "\n",
    "Please step through this tutorial, copy and paste the code, and run it to produce output. Make sure to write some sentences at the end in response to the questions in the last section. You will earn 100% of the credit on this problem set for <b>completing</b> it."
   ]
  },
  {
   "cell_type": "markdown",
   "metadata": {},
   "source": [
    "Tips:\n",
    "\n",
    "* We recommend you walk through Coding Bootcamp 1 and Coding Bootcamp 2 before tackling this Problem Set. You do not need to turn those in\n",
    "\n",
    "* Type your name and SID in the field at the top\n",
    "\n",
    "* When done, got to \"File: Download As: PDF via LaTeX\" or something similar like \"File: Save and Export Notebook As: PDF.\" You want a PDF you can upload to Gradescope\n",
    "\n",
    "* Navigate to Gradescope and find Problem Set 1 there, and submit your PDF. Follow the prompts on Gradescope to select fields. If you're not sure how, ask a friend and reach out to your GSI"
   ]
  },
  {
   "cell_type": "markdown",
   "metadata": {},
   "source": [
    "<h1>Learning goals</h1>\n",
    "\n",
    "## ggplot2 and visualizations\n",
    "\n",
    "We started off using **R's** built-in plot function, which let us produce scatterplots and construct histograms of all sorts of variables. However, it doesn't look the best and has some ugly naming conventions. **ggplot2** will give us more control over our figure and allow us to get as in depth with it as we want. Check out the Wikipedia page on [ggplot2](https://en.wikipedia.org/wiki/Ggplot2) for details. The etymology is \"gg\" for <i>Grammar of Graphics</i>. There is a \"2\" involved, but the function itself is `ggplot()`."
   ]
  },
  {
   "cell_type": "markdown",
   "metadata": {},
   "source": [
    "<h5>GENTLE DISCLAIMER</h5>\n",
    "\n",
    "This notebook asks you to step through these functions in a piecemeal fashion. Don't be surprised if the early steps don't look like much. Also, <i>there is no need to get fancy with graphics</i>. Your objective should be to see how `ggplot()` works, so that you can create useful visualizations.\n"
   ]
  },
  {
   "cell_type": "markdown",
   "metadata": {},
   "source": [
    "**ggplot2** is part of the **tidyverse** package, so we'll need to load that in before we get started. Let's also use the `sleep75.dta` dataset provided by Jeffrey Wooldridge with his textbook. The dataset comes from J.E. Biddle and D.S. Hamermesh (1990), [“Sleep and the Allocation of Time,”](https://www-jstor-org.libproxy.berkeley.edu/stable/2937618) <i>Journal of Political Economy</i> 98, 922-943. If you're interested in the contents of the dataset, here is the [PDF codebook](https://cran.r-project.org/web/packages/wooldridge/wooldridge.pdf) at CRAN for all 115 datasets in the `wooldridge` package. The documentation for this dataset starts on page 130.\n",
    "\n",
    "This dataset is also available through the `wooldridge` __R__ package; you can either use the local copy on datahub, per the code below, or you could switch back to the __R__ package, shown in the commented-out code below."
   ]
  },
  {
   "cell_type": "code",
   "execution_count": null,
   "metadata": {},
   "outputs": [],
   "source": [
    "library(tidyverse)\n",
    "library(haven)\n",
    "# Want to use the wooldridge package instead? Uncomment these 3 rows and commment out the last row below:\n",
    "#install.packages('wooldridge')\n",
    "#data(sleep75, package = 'wooldridge')\n",
    "#sleepdata <- sleep75\n",
    "sleepdata <- read_dta(\"sleep75.dta\")"
   ]
  },
  {
   "cell_type": "markdown",
   "metadata": {},
   "source": [
    "# ggplot2 Basic Syntax\n",
    "\n",
    "Let's start by getting familiar with the basic syntax of __ggplot2__. Its syntax is a little bit different than some of the functions we've used before, but ultimately it makes thing nice and easy as we make more and more professional-looking figures. It also plays nicely with pipes!\n",
    "\n",
    "To start a plot, we start with the function\n",
    "\n",
    " `ggplot()`\n",
    "\n",
    "This function initializes an empty plot and passes data to other plots that we'll add on top. We can also use this function to define our dataset or specify what our $x$ and $y$ variables are.\n",
    "\n",
    "Try starting a new plot by running `ggplot()` &mdash; with no arguments &mdash; below. You should get a blank gray canvas:"
   ]
  },
  {
   "cell_type": "code",
   "execution_count": null,
   "metadata": {},
   "outputs": [],
   "source": []
  },
  {
   "cell_type": "markdown",
   "metadata": {},
   "source": [
    "We get a little bit more if we specify our data and our $x$ and $y$ variables. To specify the data, we add the argument `data = \"dataname\"` to the `ggplot()` function. \n",
    "\n",
    "To specify which variable is on the $x$ axis and which is on the $y$, we use the `aes(x = \"xvar\", y = \"yvar\")` argument. `aes()` is short for \"aesthetics\" and allows us to automatically pass these variables along as our $x$ and $y$ variables for the plots we add.\n",
    "\n",
    "Suppose we're interested in using our `sleepdata` to see the relationship between age and the hourly wage in our sample. Note that economists usually take <u>the natural log of</u> the hourly wage, or of income or wealth if that were our variable of interest. The reason is that levels of these variables clearly reveal heteroskedasticity, variances that in this case get larger as the wage and other correlated variables increase.\n",
    "\n",
    "Copy and paste this code into the field below and run it:\n",
    "\n",
    "`ggplot(data = sleepdata, aes(x = age, y = hrwage))`"
   ]
  },
  {
   "cell_type": "code",
   "execution_count": null,
   "metadata": {},
   "outputs": [],
   "source": []
  },
  {
   "cell_type": "markdown",
   "metadata": {},
   "source": [
    "Now we have labels on both of our axes corresponding to the assigned variable, and a grid corresponding to possible values of those variables. This makes sense, because we told **R** with `aes()` what our $x$ variable and $y$ variable are, and then **R** automatically sets up tick marks based on our data.\n",
    "\n",
    "We will add geometries (sets of points, histograms, lines, etc.) by adding what we call \"layers\" using a `+` after our `ggplot()` function. Let's take a look at a few of the options.\n"
   ]
  },
  {
   "cell_type": "markdown",
   "metadata": {},
   "source": [
    "## Scatterplots\n",
    "\n",
    "Now let's add some points! If we want to get a sense of how age and the hourly wage vary in our data, we can do that by just plotting the points. We can add $(x,y)$ points in what is usually called a \"scatterplot\" using the function `geom_point()`. In spreadsheet programs, for example, Excel calls this an \"X Y (Scatter)\" chart.\n",
    "\n",
    "Since we already declared our two variables, all we need to add `+ geom_point()` to our existing code after the last parenthesis: \n",
    "\n",
    "`ggplot(data = sleepdata, aes(x = age, y = hrwage)) +\n",
    "    geom_point()`"
   ]
  },
  {
   "cell_type": "code",
   "execution_count": null,
   "metadata": {},
   "outputs": [],
   "source": []
  },
  {
   "cell_type": "markdown",
   "metadata": {},
   "source": [
    "This is a plot of <u>all our points</u>. This rendering could take a very long time if our dataset were enormous! Also, note that we were warned that there were rows that contained at least one missing value, and those got dropped.\n",
    "\n",
    "\n",
    "### Labels\n",
    "\n",
    "Often we'd like to change the labels from the variable names to a more descriptive label, and possibly add a title. We can, by adding the `labs()` function to our plot. Try pasting this in below and running:\n",
    "\n",
    "`ggplot(data = sleepdata, aes(x = age, y = hrwage)) +\n",
    "    geom_point() +\n",
    "    labs(title = \"Relationship between age and the hourly wage\",\n",
    "        subtitle = \"Nonmissing Sample\",\n",
    "        caption = \"Note: prepared using Wooldridge's sleep75 data.\",\n",
    "        x = \"Age (years)\",\n",
    "        y = \"Hourly Wage ($)\")`"
   ]
  },
  {
   "cell_type": "code",
   "execution_count": null,
   "metadata": {},
   "outputs": [],
   "source": []
  },
  {
   "cell_type": "markdown",
   "metadata": {},
   "source": [
    "Suppose you wanted to leave the Jupyter world behind and write a document in Google Docs or Microsoft Word, or whatever you like. You can right-click or double-tap on the image above, copy it, and paste it into a document or other app to save it. On a Mac, I like to double-tap, \"Save Image As,\" and then bring it down as a PNG to my desktop or folder where I'm working."
   ]
  },
  {
   "cell_type": "markdown",
   "metadata": {},
   "source": [
    "Let's take a look at what we added to `labs()`. \n",
    "\n",
    "* First, `title` gives us the main title at the top.\n",
    "* `subtitle` gives us another line in a smaller font below the main title. \n",
    "* `caption` adds a note at the bottom of the plot\n",
    "* `x` and `y` correspond to our x and y labels, respectively. \n",
    "* We can specify as many/few of these elements as we want, but just make sure to separate them by commas\n",
    "\n",
    "### Changing Points\n",
    "\n",
    "What if we want to change the color/shape/transparency of our points? We can do that by adding optimal arguments to `geom_point()`.\n",
    "\n",
    "`ggplot(data = sleepdata, aes(x = age, y = hrwage)) +\n",
    "    geom_point(color = \"blue\", alpha = 0.4, size = 0.8) +\n",
    "    labs(title = \"Relationship between age and the hourly wage\",\n",
    "        subtitle = \"Nonmissing Sample\",\n",
    "        x = \"Age (years)\",\n",
    "        y = \"Hourly Wage ($)\")`"
   ]
  },
  {
   "cell_type": "code",
   "execution_count": null,
   "metadata": {},
   "outputs": [],
   "source": []
  },
  {
   "cell_type": "markdown",
   "metadata": {},
   "source": [
    "By adding `color=\"blue\"` we changed the color to blue. There are [many named colors](http://sape.inf.usi.ch/sites/default/files/ggplot2-colour-names.png) that we could use instead. This gets really useful when we start splitting our data into groups.\n",
    "\n",
    "The option `alpha = 0.4` changes the transparency of our points to 40%. `size = 0.8` reduces the size of the points to 80% of their original size.\n",
    "\n",
    "### Splitting by Groups\n",
    "\n",
    "What if we wanted to change the color of our points according to whether the individual is male or not? We can do that by adding an `aes()` to `geom_point` as follows. Try it out in the code box below.\n",
    "\n",
    "`ggplot(data = sleepdata, aes(x = age, y = hrwage)) +\n",
    "    geom_point(aes(color = factor(male))) +\n",
    "    labs(title = \"Relationship between age and the hourly wage\",\n",
    "        subtitle = \"Nonmissing Sample, by Gender\",\n",
    "        x = \"Age (years)\",\n",
    "        y = \"Hourly Wage ($)\")`"
   ]
  },
  {
   "cell_type": "code",
   "execution_count": null,
   "metadata": {},
   "outputs": [],
   "source": []
  },
  {
   "cell_type": "markdown",
   "metadata": {},
   "source": [
    "By adding an aesthestic to our `geom_point` we can set the color to be determined by the value of `male`. By default, the zero value gets a red color, while a 1 value gets a light green, as shown in the legend that sits at far right by default. \n",
    "\n",
    "We specify this sorting variable with a call to `factor()` so that ggplot knows it is a discrete variable. What if we instead wanted to change color on a continuous scale? Let's toss in `age` instead of `male`. Age is measured in whole years, so it's not technically continuous but a list of integers. Still, you get the idea.\n",
    "\n",
    "`ggplot(data = sleepdata, aes(x = age, y = hrwage)) +\n",
    "    geom_point(aes(color = age)) +\n",
    "    labs(title = \"Relationship between age and the hourly wage\",\n",
    "        subtitle = \"Nonmissing Sample, by age\",\n",
    "        x = \"Age (years)\",\n",
    "        y = \"Hourly Wage ($)\")`"
   ]
  },
  {
   "cell_type": "code",
   "execution_count": null,
   "metadata": {},
   "outputs": [],
   "source": []
  },
  {
   "cell_type": "markdown",
   "metadata": {},
   "source": [
    "Here the color is now a function of our continuous variable `age`, taking increasingly lighter values for higher ages. Of course, `age` is also the $x$-variable, which makes this exercise a little redundant but still illuminating.\n",
    "\n",
    "__ggplot2__ lets you specify the color scale or color levels if you want, as well as nitpick the labels in the legend. In reality we can change anything that appears in the plot; we just have to choose and edit the right option.\n",
    "\n",
    "One thing to note is that we can make other options conditional on variables in our data frame too. What if we wanted the shape of our points to depend on union participation, the color to vary with gender, and the size of the points to depend on the total minutes worked per week? We can do all that, even if it might look messy:\n",
    "\n",
    "`ggplot(data = sleepdata, aes(x = age, y = hrwage)) +\n",
    "    geom_point(aes(colour = factor(male), shape = factor(union), size = totwrk)) +\n",
    "    labs(title = \"Relationship between age and the hourly wage\",\n",
    "        subtitle = \"Nonmissing Sample, too many things going on\",\n",
    "        x = \"Age (years)\",\n",
    "        y = \"Hourly Wage ($)\")`"
   ]
  },
  {
   "cell_type": "code",
   "execution_count": null,
   "metadata": {},
   "outputs": [],
   "source": []
  },
  {
   "cell_type": "markdown",
   "metadata": {},
   "source": [
    "While the above example is very cluttered, it shows how we can take a simple scatterplot and use it to convey additional information in just one plot.\n",
    "\n",
    "Use this power for good, never for evil. Spend a little extra time and create clear figures! A single \"killer chart\" is worth a lot."
   ]
  },
  {
   "cell_type": "markdown",
   "metadata": {},
   "source": [
    "## Lines\n",
    "\n",
    "We can add lines to our figure in several different ways. First, if we wanted to connect all the points in our data with a line, we would use the `geom_line()` layer. For example, suppose we want to plot the <b>mean log hourly wage</b> for each year of age in our data, we could code it this way with pipes:\n",
    "\n",
    "`sleepdata %>% \n",
    "    group_by(age) %>% \n",
    "    drop_na(age, hrwage) %>%\n",
    "    summarize(mean_hrwage = mean(hrwage)) %>%\n",
    "    ggplot(aes(x=age, y = mean_hrwage)) +\n",
    "    geom_line()`\n",
    "    \n",
    "Note that we include a call to `drop_na()` in order to drop the NA values beforehand so ggplot doesn't give us a warning. Try the code out below:"
   ]
  },
  {
   "cell_type": "code",
   "execution_count": null,
   "metadata": {},
   "outputs": [],
   "source": [
    "sleepdata %>% \n",
    "    group_by(age) %>% \n",
    "    drop_na(age, hrwage) %>%\n",
    "    summarize(mean_hrwage = mean(hrwage)) %>%\n",
    "    ggplot(aes(x=age, y = mean_hrwage)) +\n",
    "    geom_line()"
   ]
  },
  {
   "cell_type": "markdown",
   "metadata": {},
   "source": [
    "We can also add points (average wage for each age) just by adding another layer!\n",
    "\n",
    "`sleepdata %>% \n",
    "    group_by(age) %>% \n",
    "    drop_na(age, hrwage) %>%\n",
    "    summarise(hrwage = mean(hrwage))  %>%\n",
    "    ggplot(aes(x=age, y = hrwage)) +\n",
    "    geom_line()+\n",
    "    geom_point(color = \"gray40\", alpha = 0.3)`"
   ]
  },
  {
   "cell_type": "code",
   "execution_count": null,
   "metadata": {},
   "outputs": [],
   "source": [
    "sleepdata %>% \n",
    "    group_by(age) %>% \n",
    "    drop_na(age, hrwage) %>%\n",
    "    summarise(hrwage = mean(hrwage))  %>%\n",
    "    ggplot(aes(x=age, y = hrwage)) +\n",
    "    geom_line()+\n",
    "    geom_point(color = \"gray40\", alpha = 0.3)"
   ]
  },
  {
   "cell_type": "markdown",
   "metadata": {},
   "source": [
    "What if instead we wanted to add a vertical, horizontal, or sloped line in our plot? We could use the layers `vline()`, `hline()`, and `abline()` for that.\n",
    "\n",
    "`vline()` is simple and really only needs the `xintercept` argument. Similarly, `hline` takes the `yintercept` argument. `abline` requires us to specify both a `slope` and an `intercept`.\n",
    "\n",
    "Let's say we wanted to add lines to the previous set of points showing the average age (`geom_vline`), median hourly wage (`geom_hline`), and a dashed 45-degree line through the intersection of these two lines. Try out this code below:\n",
    "\n",
    "`mean_age <- mean(sleepdata$age, na.rm = TRUE)\n",
    " med_wage <- median(sleepdata$hrwage, na.rm = TRUE)\n",
    " sleepdata %>% \n",
    "    group_by(age) %>% \n",
    "    drop_na(age, hrwage) %>%\n",
    "    summarize(mean_hrwage = mean(hrwage))  %>%\n",
    "    ggplot(aes(x=age, y = mean_hrwage)) +\n",
    "    geom_point(color = \"gray40\", alpha = 0.3) +\n",
    "    geom_vline(xintercept = mean_age, color = \"orchid4\") +\n",
    "    geom_hline(yintercept = med_wage, color = \"steelblue\") +\n",
    "    geom_abline(intercept = -34.5, slope = 1, colour = \"grey60\", linetype = \"dashed\")`"
   ]
  },
  {
   "cell_type": "code",
   "execution_count": null,
   "metadata": {},
   "outputs": [],
   "source": []
  },
  {
   "cell_type": "markdown",
   "metadata": {},
   "source": [
    "Note that the 45-degree line doesn't actually look like a 45 degree line! That's not because we screwed it up; the slope is 1 unit, and that's correct. It looks weird because of the scaling of the axes, which __R__ sets according to the ranges of the $x$ and $y$ variables. Interested about axis settings? Stay tuned and read on."
   ]
  },
  {
   "cell_type": "markdown",
   "metadata": {},
   "source": [
    "## Histograms and Distributions\n",
    "\n",
    "\n",
    "Sometimes we want to get information about one variable on its own. We can use __ggplot2__ to make histograms as well as predicted distributions!\n",
    "\n",
    "We use the function `geom_histogram()` to produce histograms. To get a basic histogram of `age`, we can run\n",
    "\n",
    "`ggplot(data = sleepdata, aes(x = age)) +\n",
    "    geom_histogram()`"
   ]
  },
  {
   "cell_type": "code",
   "execution_count": null,
   "metadata": {},
   "outputs": [],
   "source": []
  },
  {
   "cell_type": "markdown",
   "metadata": {},
   "source": [
    "The pink warning box reveals that __ggplot2__ chooses a bin width by default, and we can change this by adding `binwidth`. Like before, we can also add labels or change color based on group membership.\n",
    "\n",
    "If we want to change color, we now have two different options. `color` changes the outline color, while `fill` changes the interior color.\n",
    "\n",
    "`ggplot(data = sleepdata, aes(x = age)) +\n",
    "    geom_histogram(binwidth = 10, color = \"seagreen4\") +\n",
    "    labs(title = \"Age Histogram\",\n",
    "        x = \"Age (years)\",\n",
    "        y = \"Count\")`\n",
    "        \n",
    "        \n",
    "`ggplot(data = sleepdata, aes(x = age)) +\n",
    "    geom_histogram(binwidth = 10, fill = \"midnightblue\") +\n",
    "    labs(title = \"Age Histogram\",\n",
    "        x = \"Age (years)\",\n",
    "        y = \"Count\")`\n",
    "        \n",
    "        \n",
    "`ggplot(data = sleepdata, aes(x = age)) +\n",
    "    geom_histogram(binwidth = 10, color = \"grey60\", fill = \"darkolivegreen1\") +\n",
    "    labs(title = \"Age Histogram\",\n",
    "        x = \"Age (years)\",\n",
    "        y = \"Count\")\n",
    "`"
   ]
  },
  {
   "cell_type": "code",
   "execution_count": null,
   "metadata": {},
   "outputs": [],
   "source": []
  },
  {
   "cell_type": "markdown",
   "metadata": {
    "scrolled": true
   },
   "source": [
    "### Stacking/Multiple Histograms\n",
    "\n",
    "As with points or lines, we can create separate histograms on the same plot based on levels of another variable. \n",
    "\n",
    "`ggplot(data = sleepdata, aes(x = age)) +\n",
    "    geom_histogram(aes(fill = factor(male)), position = \"identity\", \n",
    "                   alpha = 0.3, bins = 10) +\n",
    "    labs(title = \"Age Histogram\",\n",
    "         subtitle = \"By Gender\",\n",
    "         x = \"Age (years)\",\n",
    "         y = \"Count\")`"
   ]
  },
  {
   "cell_type": "code",
   "execution_count": null,
   "metadata": {},
   "outputs": [],
   "source": []
  },
  {
   "cell_type": "markdown",
   "metadata": {},
   "source": [
    "What's happening here? There are pink areas, which show bins of females that are larger than the bins of males; there are turquiose areas where the bins of males are larger than the bins of females; and then there are the darker teal areas, which show the overlap between groups."
   ]
  },
  {
   "cell_type": "markdown",
   "metadata": {},
   "source": [
    "Notice that we include the `position = \"identity\"` argument in `geom_histogram()` to tell __R__ that we want the position of each level of `male` to be its count. By default, __R__ wants to stack the two which results in incorrect frequencies for the two groups.\n",
    "\n",
    "Other adjustments that we used are \n",
    "* `alpha = 0.3` sets the transparency so that both histograms are visible - this can be tweaked to your liking\n",
    "* `bins = 10` replaces the `binwidth` argument and tells __R__ the number of bins that we want, automatically setting the width to produce them, rather than the width of each bin and adjusting the number of bins accordingly\n",
    "\n",
    "We might also want to tweak the legend. The [**Legends**](#legends) section down below goes over this in more detail and for other plot types, but we can customize the legend with `scale_fill_manual()` and change the colors if we feel like it. Try out this code in the field below:\n",
    "\n",
    "`ggplot(data = sleepdata, aes(x = age)) +\n",
    "    geom_histogram(aes(fill = factor(male)), position = \"identity\", \n",
    "                   alpha = 0.3, bins = 10) +\n",
    "    labs(title = \"Age Histogram\",\n",
    "         subtitle = \"By Gender\",\n",
    "         x = \"Age (years)\",\n",
    "         y = \"Count\") +\n",
    "    scale_fill_manual(name = \"Gender\", \n",
    "                      labels = c(\"Female\", \"Male\"),\n",
    "                      values = c(\"navy\", \"red\"))`"
   ]
  },
  {
   "cell_type": "code",
   "execution_count": null,
   "metadata": {},
   "outputs": [],
   "source": []
  },
  {
   "cell_type": "markdown",
   "metadata": {},
   "source": [
    "What if we wanted to view a smoothed distribution of a variable rather than look at the potentially blocky histogram? We can do that with the `geom_density()` function, which uses a kernel density estimator, a standard approach. When I show distributions of test scores in the class, for example, I often show the actual data (histogram) and what a kernel density estimator shows, which usually looks more obviously like a bell curve. \n",
    "\n",
    "`ggplot(data = sleepdata, aes(x = age)) +\n",
    "    geom_density(fill = \"gray60\", colour= \"navy\") +\n",
    "    labs(title = \"Age Density\",\n",
    "        x = \"Age (years)\",\n",
    "        y = \"Density\")`\n",
    "\n",
    "`ggplot(data = sleepdata, aes(x = age)) +\n",
    "    geom_density(aes(colour = factor(male))) +\n",
    "    labs(title = \"Age Density\",\n",
    "        x = \"Age (years)\",\n",
    "        y = \"Density\")`\n",
    "        \n",
    "Try this out below:"
   ]
  },
  {
   "cell_type": "code",
   "execution_count": null,
   "metadata": {},
   "outputs": [],
   "source": []
  },
  {
   "cell_type": "markdown",
   "metadata": {},
   "source": [
    "In this sample, there's some evidence of bimodality in the age distributions for females (`male == 0`)."
   ]
  },
  {
   "cell_type": "markdown",
   "metadata": {},
   "source": [
    "## Plotting Regression Lines\n",
    "\n",
    "\n",
    "__ggplot2__ can also produce a simple linear regression line directly in our plot. (It's also true that Microsoft Excel and Google Sheets can do this in their sleep. But __R__ can do so much more, and that's why we're using __R__ and not Excel.) \n",
    "\n",
    "We can use the `geom_smooth(method = \"lm\")` layer for that. Note that you don't have to run a regression before calling `ggplot`. Including a `geom_smooth` layer will run the simple linear regression of $y$ on $x$ for you.\n",
    "\n",
    "<b>BEWARE</b> the temptation to use this easy tool incorrectly. One of the reasons why Excel is insufficient for ECON 140 is that a simple bivariates regression of $y$ on a single $x$ is often insufficient for our purposes. Remember that this is all that `geom_smooth` in this basic form is actually doing.\n",
    "\n",
    "`wagereg <- lm(hrwage ~ age, data = sleepdata)\n",
    "summary(wagereg)`\n",
    "\n",
    "`ggplot(data = sleepdata, aes(x=age, y = hrwage)) +\n",
    "    geom_point()+\n",
    "    geom_smooth(method = \"lm\")`"
   ]
  },
  {
   "cell_type": "code",
   "execution_count": null,
   "metadata": {},
   "outputs": [],
   "source": []
  },
  {
   "cell_type": "markdown",
   "metadata": {},
   "source": [
    "Notice that by default it gives us the 95% confidence interval too! We can change the confidence interval using the `level` argument and the color of the CI band with `fill` and the line with `color`:\n",
    "\n",
    "`ggplot(data = sleepdata, aes(x=age, y = hrwage)) +\n",
    "    geom_point()+\n",
    "    geom_smooth(method = \"lm\", color = \"steelblue\", fill = \"navy\", level = 0.99)`"
   ]
  },
  {
   "cell_type": "code",
   "execution_count": null,
   "metadata": {},
   "outputs": [],
   "source": []
  },
  {
   "cell_type": "markdown",
   "metadata": {},
   "source": [
    "# Themes\n",
    "\n",
    "Before we dive into more individualized adjustments, let's take a look at some of the default themes that come in ggplot2. You can access all of these themes just by including it with a `+` in your plot. A few examples include:\n",
    "\n",
    "* `theme_gray()`\n",
    "* `theme_bw()`\n",
    "* `theme_linedraw()`\n",
    "* `theme_light()`\n",
    "* `theme_dark()`:\n",
    "* `theme_minimal()`\n",
    "* `theme_classic()`\n",
    "* `theme_void()`\n",
    "\n",
    "\n",
    "        \n",
    "Try adding some of these themes (one at a time) to the following plot to see which you like. Keep the one you like.\n",
    "\n",
    "`ggplot(data = sleepdata, aes(x = age, y = hrwage)) +\n",
    "    geom_point() +\n",
    "    labs(title = \"Relationship between Age and Hourly Wage\",\n",
    "        subtitle = \"Nonmissing Sample\",\n",
    "        caption = \"Note: prepared using Wooldridge's sleep75 data.\",\n",
    "        x = \"Age (years)\",\n",
    "        y = \"Hourly Wage ($)\")`\n",
    "        "
   ]
  },
  {
   "cell_type": "code",
   "execution_count": null,
   "metadata": {},
   "outputs": [],
   "source": []
  },
  {
   "cell_type": "markdown",
   "metadata": {},
   "source": [
    "\n",
    "## ggthemes\n",
    "\n",
    "Loading the package [ggthemes](https://mran.microsoft.com/snapshot/2017-02-04/web/packages/ggthemes/vignettes/ggthemes.html)  gets us a bunch more theme options:\n",
    "\n",
    "* theme_base: a theme resembling the default base graphics in R. See also theme_par.\n",
    "* theme_calc: a theme based on LibreOffice Calc.\n",
    "* theme_economist: a theme based on the plots in the The Economist magazine.\n",
    "* theme_excel: a theme replicating the classic ugly gray charts in Excel\n",
    "* theme_few: theme from Stephen Few’s “Practical Rules for Using Color in Charts”.\n",
    "* theme_fivethirtyeight: a theme based on the plots at fivethirtyeight.com.\n",
    "* theme_gdocs: a theme based on Google Docs.\n",
    "* theme_hc: a theme based on Highcharts JS.\n",
    "* theme_par: a theme that uses the current values of the base graphics parameters in par.\n",
    "* theme_pander: a theme to use with the pander package.\n",
    "* theme_solarized: a theme using the solarized color palette.\n",
    "* theme_stata: themes based on Stata graph schemes.\n",
    "* theme_tufte: a minimal ink theme based on Tufte’s The Visual Display of Quantitative Information.\n",
    "* theme_wsj: a theme based on the plots in the The Wall Street Journal."
   ]
  },
  {
   "cell_type": "code",
   "execution_count": null,
   "metadata": {},
   "outputs": [],
   "source": [
    "library(ggthemes)"
   ]
  },
  {
   "cell_type": "markdown",
   "metadata": {},
   "source": [
    "Try taking one for a spin in the code box below. Use the last call to `ggplot()` above and choose a single ggtheme you like from this list."
   ]
  },
  {
   "cell_type": "code",
   "execution_count": null,
   "metadata": {},
   "outputs": [],
   "source": []
  },
  {
   "cell_type": "markdown",
   "metadata": {},
   "source": [
    "## Custom Themes\n",
    "\n",
    "In addition to using a pre-built theme, you can create custom themes and alter [just about every setting imaginable](https://ggplot2.tidyverse.org/reference/theme.html)! While you can change individual settings in every plot, you can also define a custom theme (i.e. in your preamble) and then call it by name later on.\n",
    "\n",
    "For example, here's one very slightly adapted from one of Ed Rubin's custom themes (who also has a [tremendous set of R notes available on his website](http://edrub.in/teaching.html)):\n",
    "\n",
    "`custom_theme <- theme(\n",
    "  legend.position = \"bottom\", # place legend at the bottom\n",
    "  panel.background = element_rect(fill = NA),  # change background color to white from grey\n",
    "  axis.ticks = element_line(color = \"grey95\", size = 0.3), # make axis tick marks the same color as grid lines\n",
    "  panel.grid.major = element_line(color = \"grey95\", size = 0.3), # change color of major grid lines (lines at displayed values)\n",
    "  panel.grid.minor = element_line(color = \"grey95\", size = 0.3), #change color of minor grid lines (lines between displayed values)\n",
    "  plot.caption = element_text(hjust = 0, face = \"italic\"), # left align bottom caption, make italic\n",
    "  legend.key = element_blank()) # no legend key`\n",
    "  \n",
    " \n",
    "`ggplot(data = sleepdata, aes(x = age, y = hrwage)) +\n",
    "    geom_point() +\n",
    "    labs(title = \"Relationship between Age and Hourly Wage\",\n",
    "        subtitle = \"Nonmissing Sample\",\n",
    "        caption = \"Note: prepared using Wooldridge's sleep75 data.\",\n",
    "        x = \"Age (years)\",\n",
    "        y = \"Hourly Wage ($)\")+\n",
    "        custom_theme`\n",
    "\n",
    "Copy and paste into the cell below, then run it:"
   ]
  },
  {
   "cell_type": "code",
   "execution_count": null,
   "metadata": {},
   "outputs": [],
   "source": []
  },
  {
   "cell_type": "markdown",
   "metadata": {},
   "source": [
    "\n",
    "# More Adjustments\n",
    "\n",
    "\n",
    "## Changing Limits\n",
    "\n",
    "To change limits of a plot without modifying the axes, add `xlim(min, max)` and `ylim(min, max)` where the arguments are numbers of the minimum and maximum values desired.\n",
    "\n",
    "## Customizing Axes (Tick Marks, Limits, etc.)\n",
    "\n",
    "To customize an axis, we'll use the `scale_x` and `scale_y` groups of functions. To customize a discrete axis, use `scale_x_discrete()` or `scale_y_discrete()`, and for a continuous variable use `scale_x_continuous()` or `scale_y_continuous()`. All four functions use the following main (but optional) arguments:\n",
    "\n",
    "`(name, breaks, labels, limits)`\n",
    "\n",
    "* **name** works the same as `labs` to add a label to the axis\n",
    "* **breaks** controls where all the breaks are. Set to `NULL` to hide all ticks, or specify the breaks you want in a vector with `c()`.\n",
    "* **labels** lets you replace the default tick mark labels with custom ones - again specify `NULL` or a custom vector\n",
    "* **limits** lets you set the data range. This expects a character vector with two elements: `c(min, max)`\n",
    "\n",
    "\n",
    "#### Number of Breaks\n",
    "Suppose all you want to do is increase the number of breaks, and you don't care where those breaks occur. Then you could use the `n.breaks` argument in any of the above functions in place of `breaks`. "
   ]
  },
  {
   "cell_type": "markdown",
   "metadata": {},
   "source": [
    "\n",
    "<a id = \"legends\"></a>\n",
    "\n",
    "## Legends\n",
    "\n",
    "### Removing Some or All Legends\n",
    "\n",
    "If you want to remove the entire legend, use\n",
    "\n",
    "`theme(legend.position=\"none\")`\n",
    "\n",
    "For example: \n",
    "\n",
    "`ggplot(data = sleepdata, aes(x = age, y = hrwage)) +\n",
    "    geom_point(aes(colour = factor(male))) +\n",
    "    labs(title = \"Relationship between Age and Hourly Wage\",\n",
    "        subtitle = \"Nonmissing Sample, by Gender\",\n",
    "        x = \"Age (years)\",\n",
    "        y = \"Hourly Wage ($)\") + theme(legend.position = \"none\")`"
   ]
  },
  {
   "cell_type": "code",
   "execution_count": null,
   "metadata": {},
   "outputs": [],
   "source": []
  },
  {
   "cell_type": "markdown",
   "metadata": {},
   "source": [
    "### Customizing Legends\n",
    "\n",
    "We can customize the legends for the respective element using the `scale_ELM_manual()` family of functions, where **ELM** is one of\n",
    "\n",
    "* **color**\n",
    "* **fill**\n",
    "* **size**\n",
    "* **shape**\n",
    "* **linetype**\n",
    "* **alpha**\n",
    "* **discrete**\n",
    "\n",
    "There are [many different options](https://ggplot2.tidyverse.org/reference/scale_manual.html) that we can customize for each scale.\n",
    "\n",
    "For example, if we include both color and shape elements in our male/female scatterplot, we can change the shapes with `scale_shape_manual()`."
   ]
  },
  {
   "cell_type": "markdown",
   "metadata": {},
   "source": [
    "# Summary\n",
    "\n",
    "**ggplot2** is great for producing professional-looking figures and is capable of doing [a whole lot more](https://ggplot2.tidyverse.org/) than what's outlined here. You can use it to plot other types of geometric objects, make maps and analyze spatial data, create boxplots or heatmaps, and so much more! \n",
    "\n",
    "### Plug\n",
    "Check out the (free) book by Garrett Grolemund and Hadley Wickham [R for Data Science](https://r4ds.had.co.nz/) for a more in-depth dive into ggplot and the rest of the tidyverse package."
   ]
  },
  {
   "cell_type": "markdown",
   "metadata": {},
   "source": [
    "<font color = \"blue\"><h1>EXERCISES AND QUESTIONS</h1></font>"
   ]
  },
  {
   "cell_type": "markdown",
   "metadata": {},
   "source": [
    "Copy and alter the code snippets in the tutorial above to do the following with `sleepdata`. This problem is based on Problem 3 in Chapter 3 of Wooldridge's <Introductory Econometrics</i> 6e. (Much gratitude to the great Econometrics teacher and research Jeffrey Wooldridge.)"
   ]
  },
  {
   "cell_type": "markdown",
   "metadata": {},
   "source": [
    "<font color=\"blue\">\n",
    "    1. Run a regression of a single $y$ on a single $x$, using `lm()`, where </font>\n",
    "    \n",
    "* <font color=\"blue\">$y$ = `sleep`, weekly nighttime sleep minutes (as opposed to daytime sleep)</font>\n",
    "* <font color=\"blue\">$x$ = `totwork`, on weekly minutes worked </font>\n",
    "\n",
    "<font color=\"blue\">Place the code in the field below and run it.\n",
    "    </font>"
   ]
  },
  {
   "cell_type": "code",
   "execution_count": null,
   "metadata": {},
   "outputs": [],
   "source": []
  },
  {
   "cell_type": "markdown",
   "metadata": {},
   "source": [
    "<font color=\"blue\">   \n",
    "2. Now create a simple scatterplot that shows this bivariate relationship. You can use the simplest call to `ggplot()` that gets this done. Make sure to set $x$ and $y$ appropriately. Place the code in the field below and run it.\n",
    "</font>"
   ]
  },
  {
   "cell_type": "code",
   "execution_count": null,
   "metadata": {},
   "outputs": [],
   "source": []
  },
  {
   "cell_type": "markdown",
   "metadata": {},
   "source": [
    "<font color=\"blue\">\n",
    "3. In the markdown field below, briefly discuss what you see in the regression results and in the scatterplot. Is there evidence of a tradeoff between sleeping time and working time? Or do both rise together, maybe with a third variable like wealth?\n",
    "    </font>"
   ]
  },
  {
   "cell_type": "markdown",
   "metadata": {},
   "source": [
    "Please write your answer here"
   ]
  },
  {
   "cell_type": "markdown",
   "metadata": {},
   "source": [
    "Econometrics is full of all kinds of models. But in ECON 140R, we have tried to follow the <i>Mastering Metrics</i> mold, by examining how outcomes, like sleep minutes, vary with exogenous factors. One could imagine a randomized controlled trial (RCT) in which participants in the treatment group were somehow made to work more minutes in the week, while participants in the control group were not. This dataset contains observational data collected in 1975, where participants were asked to reveal their recent activities. "
   ]
  },
  {
   "cell_type": "markdown",
   "metadata": {},
   "source": [
    "<font color=\"blue\">\n",
    "4. Comment on the natural of the relationship that we see here between sleep and work. What does it include? Be as thorough as you can.\n",
    "</font>"
   ]
  },
  {
   "cell_type": "markdown",
   "metadata": {},
   "source": [
    "Please write your answer here"
   ]
  },
  {
   "cell_type": "markdown",
   "metadata": {},
   "source": [
    "<font color = \"blue\">\n",
    "5. Suppose we ran an RCT that paid people in the treatment group overtime rates for working more, while in the control group people did not receive overtime pay. What do you think we would see in the data? Would it be the same? Different? How?\n",
    "    </font>\n",
    "<p>\n",
    "<font color = \"blue\">\n",
    "(These are not easy questions to answer. Just think a little about the issues and write something brief and helpful.)\n",
    "    </font>"
   ]
  },
  {
   "cell_type": "markdown",
   "metadata": {},
   "source": [
    "Please write your answer here"
   ]
  },
  {
   "cell_type": "markdown",
   "metadata": {},
   "source": [
    "<div style=\"text-align: right\"> <span style=\"font-family:Papyrus; \">And they lived happily ever after. The End.</span></div>"
   ]
  }
 ],
 "metadata": {
  "kernelspec": {
   "display_name": "R",
   "language": "R",
   "name": "ir"
  },
  "language_info": {
   "codemirror_mode": "r",
   "file_extension": ".r",
   "mimetype": "text/x-r-source",
   "name": "R",
   "pygments_lexer": "r",
   "version": "4.2.1"
  }
 },
 "nbformat": 4,
 "nbformat_minor": 2
}
