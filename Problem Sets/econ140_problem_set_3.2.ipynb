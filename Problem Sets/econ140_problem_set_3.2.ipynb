{
 "cells": [
  {
   "cell_type": "markdown",
   "id": "28bfe784",
   "metadata": {},
   "source": [
    "<img src=\"images/econ140R_logo.png\" width=\"200\" />"
   ]
  },
  {
   "cell_type": "markdown",
   "id": "7e3abd8d",
   "metadata": {},
   "source": [
    "In the following cell, please type your name and SID:"
   ]
  },
  {
   "cell_type": "markdown",
   "id": "72f7e9bd",
   "metadata": {},
   "source": []
  },
  {
   "cell_type": "markdown",
   "id": "d902364b",
   "metadata": {},
   "source": [
    "In the cell below, please write out the [Honor Code](https://teaching.berkeley.edu/berkeley-honor-code) to reaffirm you are abiding by it."
   ]
  },
  {
   "cell_type": "markdown",
   "id": "9da84619",
   "metadata": {},
   "source": []
  },
  {
   "cell_type": "markdown",
   "id": "6824f541",
   "metadata": {},
   "source": [
    "Did you work with other students? List them below. Please write your answers in your own words, not in theirs."
   ]
  },
  {
   "cell_type": "markdown",
   "id": "de191923",
   "metadata": {},
   "source": []
  },
  {
   "cell_type": "markdown",
   "id": "26c9fa61",
   "metadata": {},
   "source": [
    "<h1>ECON 140R - Problem Set 3 Part 2</h1>\n",
    "\n",
    "<font color=\"red\"><b>Please complete Problem Set 3 Part 1 also</b></font>\n",
    "\n",
    "<h2>INSTRUCTIONS</h2>\n",
    "\n",
    "Please step through this problem set, copying and pasting code as needed, and run the code to produce output. Answer the questions asked, which appear in <font color=\"blue\">blue font</font>. You will earn 100% of the credit on this problem set for <b>completing</b> it with working code and coherent answers. Answers do not need to be correct for full credit."
   ]
  },
  {
   "cell_type": "markdown",
   "id": "e70566c4",
   "metadata": {},
   "source": [
    "It turns out that `ivreg()` is memory intensive.\n",
    "\n",
    "<font color = \"green\">If you are encountering <b>kernel crashes</b>, it is probably because of memory violations; that is, exceeding the 1 GB maximum. If this happens, try:</font>\n",
    "\n",
    "1. Halting other notebooks you may have open on datahub. Go to \"File: Close and Halt\"\n",
    "\n",
    "2. Clean away data in your notebook's workspace:\n",
    "* `ls()` to find the data objects present\n",
    "* `rm()` to remove them\n",
    "* `gc()` to empty the garbage can"
   ]
  },
  {
   "cell_type": "code",
   "execution_count": null,
   "id": "3fe2d54f",
   "metadata": {},
   "outputs": [],
   "source": [
    "#library(tidyverse)  # Don't need it. This or ggplot2 appears to overload memory\n",
    "library(haven)\n",
    "#library(ggplot2)    # Don't need it. \n",
    "install.packages(\"ivreg\", dependencies = TRUE)\n",
    "library(\"ivreg\")"
   ]
  },
  {
   "cell_type": "markdown",
   "id": "485312ef",
   "metadata": {},
   "source": [
    "It turns out that this handy command stops __R__ from defaulting to scientific notation. "
   ]
  },
  {
   "cell_type": "code",
   "execution_count": null,
   "id": "72b4d565",
   "metadata": {},
   "outputs": [],
   "source": [
    "options(scipen=999)"
   ]
  },
  {
   "cell_type": "markdown",
   "id": "12ef77b4",
   "metadata": {},
   "source": [
    "<hr>"
   ]
  },
  {
   "cell_type": "markdown",
   "id": "8e23c4ca",
   "metadata": {},
   "source": [
    "Please see the data description in Problem Set 3 Part 1.\n",
    "\n",
    "In order to replicate Angrist and Krueger's (1994) <b>instrumental variables</b> analysis without crashing the __R__ kernel, we need to start fresh with the same 50% subsample of the 5% public-use microsample of the 1980 Census."
   ]
  },
  {
   "cell_type": "markdown",
   "id": "ffbdf230",
   "metadata": {},
   "source": [
    "<hr>"
   ]
  },
  {
   "cell_type": "code",
   "execution_count": null,
   "id": "144ee7de",
   "metadata": {},
   "outputs": [],
   "source": [
    "data_c80_regsample = read_dta(\"data_c80_regsample_3.dta\")"
   ]
  },
  {
   "cell_type": "markdown",
   "id": "eddcc463",
   "metadata": {},
   "source": [
    "As before, we are going to model log pre-tax wage and salary income as a function of WWII veteran status and controls:\n",
    "\n",
    "$$\n",
    "\\ln Y_i = \\alpha + \\beta^{w} \\ wwii_i + B \\ controls_i + \\epsilon_i\n",
    "$$\n",
    "\n",
    "We are controlling for 0/1 WWII service; year of birth; being white (Black, Hispanic, and other men are the baseline omitted category); being married in 1980; a 0/1 indicator of living and working in a standard metropolitan statistical area (SMSA); years of education; a 0/1 indicator of a disability that limits or prevents work; and 49 indicators for 48 lower states (AK and HI are dropped) plus DC.\n",
    "\n",
    "We'll run this regression and examine what we find for $\\beta^w$. Let's follow what [Angrist and Krueger (1994)](https://www-jstor-org.libproxy.berkeley.edu/stable/2535121) do in the right side of Table 4, marked \"2SLS,\" which looks a lot like the left-hand side of Table 2.2 in <i>Mastering Metrics</i> Chapter 2. In both, the authors start with a simple model and the add some covariates that might have (and did) inject omitted variable bias. Here's what we'll do:\n",
    "\n",
    "1. $\\ln Y_i = \\alpha + \\beta^{w} \\ wwii_i + \\sum \\beta^{by} \\ birthyear_i  + \\epsilon_i$\n",
    "\n",
    "2. $\\ln Y_i = \\alpha + \\beta^{w} \\ wwii_i + \\sum \\beta^{by} \\ birthyear_i  + \\beta^wnh \\ white_i + \\beta^m \\ married_i + \\sum \\beta^{s}\\ state_i + \\beta^u \\ SMSA_i + \\epsilon_i$\n",
    "\n",
    "2. $\\ln Y_i = \\alpha + \\beta^{w} \\ wwii_i + \\sum \\beta^{by} \\ birthyear_i  + \\beta^wnh \\ white_i + \\beta^m \\ married_i + \\sum \\beta^{s}\\ state_i + \\beta^u \\ SMSA_i + \\beta^e \\ educ_i + \\beta^d \\ disability_i + \\epsilon_i$\n",
    "\n",
    "where here we are also running two-stage least squares (2SLS), a common form of instrumental variables (IV) estimation. \n",
    "\n",
    "The motivation for IV is that we suspect WWII service was not randomly assigned, even though there were draft lotteries. Rather, the most healthy were selected to serve. An instrumental variables approach based on year and quarter of birth can help reduce the selection bias plaguing $\\beta^w$ because men who were born too late had no chance of serving in WWII, even though they were healthy and could have been randomly selected if they were born earlier."
   ]
  },
  {
   "cell_type": "markdown",
   "id": "24aa5c71",
   "metadata": {},
   "source": [
    "Let us follow in the footsteps of Angrist and Krueger and estimate these three equations above by 2SLS using `ivreg()` in __R__. The syntax for ivreg() is very similar to that of `lm()`, except that you need a \"pipe\" symbol: \"|\". The pipe appears after your original equation, and the variable list after the pipe needs to include ALL the exogenous variables plus any instrumental variables. It must be list at least as long as the list between the tilde \"~\" and the pipe \"|\", and it cannot include the endogenous regressor, which is $wwii_i$ here.\n",
    "\n",
    "The <b>instrumental variables</b> are year-of-birth interacted with (i.e., times) quarter-of-birth, or in other words, indicator variables for being born in a particular year and quarter. Because year of birth is also in the regression, we need to omit one quarter or __R__ will do it for us, because of collinearity."
   ]
  },
  {
   "cell_type": "markdown",
   "id": "e537b690",
   "metadata": {},
   "source": [
    "<h4>\n",
    "<font color=\"blue\">Complete the code below and run it.</font>\n",
    "    </h4>"
   ]
  },
  {
   "cell_type": "code",
   "execution_count": null,
   "id": "d063f006",
   "metadata": {},
   "outputs": [],
   "source": [
    "c80_ivreg1 <- ivreg(logincwage ~ wwii + factor(birthyr)| \n",
    "                    factor(birthyr) +\n",
    "                    b25q1 + b25q2 + b25q3 +\n",
    "                    b26q1 + b26q2 + b26q3 +\n",
    "                    b27q1 + b27q2 + b27q3 + \n",
    "                    b28q1 + b28q2 + b28q3, \n",
    "                    data = data_c80_regsample)\n",
    "summary(c80_ivreg1)"
   ]
  },
  {
   "cell_type": "markdown",
   "id": "64600ecc",
   "metadata": {},
   "source": [
    "<font color=\"blue\">\n",
    "    <h3>\n",
    "    Question 10</h3>\n",
    "Look at the IV regression output above and describe what you see. How much more do male veterans of WWII earn compared to male nonveterans? Is the effect statistically significant? State what you see in descriptive sentences.</font>"
   ]
  },
  {
   "cell_type": "markdown",
   "id": "5d7ae218",
   "metadata": {},
   "source": []
  },
  {
   "cell_type": "code",
   "execution_count": null,
   "id": "1f15a7f9",
   "metadata": {},
   "outputs": [],
   "source": [
    "rm(c80_ivreg1)\n",
    "ls()\n",
    "gc()"
   ]
  },
  {
   "cell_type": "code",
   "execution_count": null,
   "id": "36289465",
   "metadata": {},
   "outputs": [],
   "source": [
    "c80_ivreg2 <- ivreg(logincwage ~ wwii + factor(birthyr) + white + married +\n",
    "                    factor(statefip) + smsa | \n",
    "                    factor(birthyr) + white + married +\n",
    "                    factor(statefip) + smsa +\n",
    "                    b25q1 + b25q2 + b25q3 +\n",
    "                    b26q1 + b26q2 + b26q3 +\n",
    "                    b27q1 + b27q2 + b27q3 + \n",
    "                    b28q1 + b28q2 + b28q3, \n",
    "                    data = data_c80_regsample)\n",
    "summary(c80_ivreg2)"
   ]
  },
  {
   "cell_type": "markdown",
   "id": "13846f90",
   "metadata": {},
   "source": [
    "<font color=\"blue\">\n",
    "    <h3>\n",
    "    Question 11</h3>\n",
    "Look at the IV regression output above and describe what you see. How much more do male veterans of WWII earn compared to male nonveterans? Is the effect statistically significant? State what you see in descriptive sentences. Describe how results have changed (or not) with more controls. Discuss omitted variable bias if it seems useful, and perhaps compare results here to what you saw using OLS earlier.</font>"
   ]
  },
  {
   "cell_type": "markdown",
   "id": "2ed520ae",
   "metadata": {
    "slideshow": {
     "slide_type": "slide"
    }
   },
   "source": []
  },
  {
   "cell_type": "markdown",
   "id": "1f17b741",
   "metadata": {},
   "source": [
    "<h4>\n",
    "<font color=\"blue\">Complete the code below and run it.</font>\n",
    "    </h4>"
   ]
  },
  {
   "cell_type": "code",
   "execution_count": null,
   "id": "066a485f",
   "metadata": {},
   "outputs": [],
   "source": [
    "rm(c80_ivreg2)\n",
    "ls()\n",
    "gc()"
   ]
  },
  {
   "cell_type": "code",
   "execution_count": null,
   "id": "048a83f8",
   "metadata": {},
   "outputs": [],
   "source": [
    "c80_ivreg3 <- ivreg(logincwage ~ wwii + factor(birthyr) + white + married +\n",
    "                    factor(statefip) + smsa + \n",
    "                    edyrs + disability | \n",
    "                    factor(birthyr) + white + married +\n",
    "                    factor(statefip) + smsa +\n",
    "                    edyrs + disability +\n",
    "                    b25q1 + b25q2 + b25q3 +\n",
    "                    b26q1 + b26q2 + b26q3 +\n",
    "                    b27q1 + b27q2 + b27q3 + \n",
    "                    b28q1 + b28q2 + b28q3, \n",
    "                    data = data_c80_regsample)\n",
    "summary(c80_ivreg3)"
   ]
  },
  {
   "cell_type": "markdown",
   "id": "242b42ff",
   "metadata": {},
   "source": [
    "<font color=\"blue\">\n",
    "    <h3>\n",
    "    Question 12</h3>\n",
    "Look at the IV regression output above and describe what you see. How much more do male veterans of WWII earn compared to male nonveterans? Is the effect statistically significant? State what you see in descriptive sentences. Describe how results have changed (or not) with more controls.</font>"
   ]
  },
  {
   "cell_type": "markdown",
   "id": "e8fe7d84",
   "metadata": {},
   "source": []
  },
  {
   "cell_type": "markdown",
   "id": "d1dd0748",
   "metadata": {},
   "source": [
    "<hr>"
   ]
  },
  {
   "cell_type": "markdown",
   "id": "7a73c80b",
   "metadata": {},
   "source": [
    "<font color=\"blue\">\n",
    "    <h3>\n",
    "    Question 13</h3>\n",
    "Take a step back and assess what we have found. Do you believe the OLS results? Or are the IV results more convincing? What do each set of results <i>mean</i>, for things that we care about like inequality and policy? Did WWII veterans benefit from their service in terms of earnings? Or do someo of these results imply the republic may have literally owed them something for their service?</font>"
   ]
  },
  {
   "cell_type": "markdown",
   "id": "fda95a63",
   "metadata": {},
   "source": []
  },
  {
   "cell_type": "markdown",
   "id": "58cbe4c8",
   "metadata": {},
   "source": [
    "<hr>"
   ]
  },
  {
   "cell_type": "markdown",
   "id": "0d47deec",
   "metadata": {},
   "source": [
    "<i>As warfare and killing rage again in Europe in 2022, let's also take a moment to recognize the great human costs and sacrifices associated with armed conflict and open warfare, and the tragedy of nuclear war.</i>"
   ]
  },
  {
   "cell_type": "markdown",
   "id": "e4bf004c",
   "metadata": {},
   "source": [
    "<hr>"
   ]
  },
  {
   "cell_type": "markdown",
   "id": "99b8612d",
   "metadata": {},
   "source": [
    "<div style=\"text-align: right\"> <span style=\"font-family:Papyrus; \">And they lived happily ever after. The End.</span></div>"
   ]
  }
 ],
 "metadata": {
  "kernelspec": {
   "display_name": "R",
   "language": "R",
   "name": "ir"
  },
  "language_info": {
   "codemirror_mode": "r",
   "file_extension": ".r",
   "mimetype": "text/x-r-source",
   "name": "R",
   "pygments_lexer": "r",
   "version": "4.2.1"
  }
 },
 "nbformat": 4,
 "nbformat_minor": 5
}
