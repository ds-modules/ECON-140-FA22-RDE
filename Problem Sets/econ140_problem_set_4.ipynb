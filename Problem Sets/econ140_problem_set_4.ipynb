{
 "cells": [
  {
   "cell_type": "markdown",
   "id": "28bfe784",
   "metadata": {},
   "source": [
    "<img src=\"images/econ140R_logo.png\" width=\"200\" />"
   ]
  },
  {
   "cell_type": "markdown",
   "id": "7e3abd8d",
   "metadata": {},
   "source": [
    "In the following cell, please type your name and SID:"
   ]
  },
  {
   "cell_type": "markdown",
   "id": "72f7e9bd",
   "metadata": {},
   "source": []
  },
  {
   "cell_type": "markdown",
   "id": "d902364b",
   "metadata": {},
   "source": [
    "In the cell below, please write out the [Honor Code](https://teaching.berkeley.edu/berkeley-honor-code) to reaffirm you are abiding by it."
   ]
  },
  {
   "cell_type": "markdown",
   "id": "9da84619",
   "metadata": {},
   "source": []
  },
  {
   "cell_type": "markdown",
   "id": "6824f541",
   "metadata": {},
   "source": [
    "Did you work with other students? List them below. Please write your answers in your own words, not in theirs."
   ]
  },
  {
   "cell_type": "markdown",
   "id": "de191923",
   "metadata": {},
   "source": []
  },
  {
   "cell_type": "markdown",
   "id": "26c9fa61",
   "metadata": {},
   "source": [
    "<h1>ECON 140R - Problem Set 4</h1>\n",
    "\n",
    "<h2>INSTRUCTIONS</h2>\n",
    "\n",
    "Please step through this problem set, copying and pasting code as needed, and run the code to produce output. Answer the questions asked, which appear in <font color=\"blue\">blue font</font>. You will earn 100% of the credit on this problem set for <b>completing</b> it with working code and coherent answers. Answers do not need to be correct for full credit."
   ]
  },
  {
   "cell_type": "markdown",
   "id": "f664f36d",
   "metadata": {},
   "source": [
    "Throughout, <b>you may consult outside sources like the paper below or other commentary</b>, but your analysis should be in your own words. We will not run TurnItIn software on this Problem Set, but as usual, you should not borrow phrases without attribution or commit \"mosaic plagiarism.\""
   ]
  },
  {
   "cell_type": "markdown",
   "id": "e53cc82d",
   "metadata": {},
   "source": [
    "<h2>Background</h2>"
   ]
  },
  {
   "cell_type": "markdown",
   "id": "90b66eed",
   "metadata": {},
   "source": [
    "In this problem set we will examine the `injury` dataset within the Wooldridge repository, which includes measures of workers' compensation utilization and worker characteristics in Kentucky and Michigan around 1980. The data were collected by the [National Council on Compensation Insurance (NCCI)](https://www.ncci.com/pages/default.aspx) and analyzed by [Meyer, Viscusi, and Durbin (1995)](https://www-jstor-org.libproxy.berkeley.edu/stable/2118177).\n",
    "\n",
    "The scenarios in Kentucky (KY) and Michigan (MI) were similar, although of course the two states differed in terms of industries, incomes, and other characteristics. Both states <i>raised the maximum weekly benefit</i> that workers could receive, by a large amount: from \\\\$131 to \\\\$217 or by 66% in KY, and from \\\\$181 to \\\\$307 or 70% in MI. Although high inflation rates during this period ate away some of the real value of these increases, they were comfortably high even after adjusting for inflation.\n",
    "\n",
    "<i>What effect did this policy change have, if any, on benefit claiming behavior?</i>\n",
    "\n",
    "<b>Workers' compensation</b> plans differ in implementation across states, but the general structure replaces wages when a workplace injury prevents working. An injured worker's weekly workers' comp payment is a function of the worker's wage, via a \"replacement rate,\" above a floor and up to a ceiling. The floor grants low-paid workers a minimum weekly insurance payout, and the ceiling places a cap on the total amount paid. In between, workers are paid perhaps two-thirds or 66.67% of their weekly wages, the replacement rate for Kentucky cited in the study.\n",
    "\n",
    "As Meyer, Viscusi, and Durbin discuss, the most common type of payment is for temporary total disabilities, where a person is unable to work but is expected to recover fully and return to work. As they describe on p. 324, \"temporary total claims have no fixed duration; their length is determined by the injured worker, his or her doctor, the employer, and its insurer.\"\n",
    "    \n",
    "Shown below, Figure 1 from [Meyer, Viscusi, and Durbin (1995)](https://www-jstor-org.libproxy.berkeley.edu/stable/2118177) illustrates this point and also the change associated with the increases in the maximum in Kentucky and Michigan in this time period."
   ]
  },
  {
   "cell_type": "markdown",
   "id": "d23796ea",
   "metadata": {},
   "source": [
    "<img src = \"images/meyer-viscusi-durbin-aer95-fig1.png\" width = 400/>"
   ]
  },
  {
   "cell_type": "code",
   "execution_count": null,
   "id": "3fe2d54f",
   "metadata": {},
   "outputs": [],
   "source": [
    "library(tidyverse)\n",
    "library(haven)\n",
    "library(dplyr)\n",
    "install.packages('wooldridge')"
   ]
  },
  {
   "cell_type": "markdown",
   "id": "485312ef",
   "metadata": {},
   "source": [
    "It turns out that this handy command stops __R__ from defaulting to scientific notation. "
   ]
  },
  {
   "cell_type": "code",
   "execution_count": null,
   "id": "72b4d565",
   "metadata": {},
   "outputs": [],
   "source": [
    "options(scipen=999)"
   ]
  },
  {
   "cell_type": "markdown",
   "id": "12ef77b4",
   "metadata": {},
   "source": [
    "<hr>"
   ]
  },
  {
   "cell_type": "markdown",
   "id": "5b5782b3",
   "metadata": {},
   "source": [
    "Let's load up and look at the data."
   ]
  },
  {
   "cell_type": "code",
   "execution_count": null,
   "id": "144ee7de",
   "metadata": {},
   "outputs": [],
   "source": [
    "library(\"wooldridge\")\n",
    "data(injury, package = \"wooldridge\")\n",
    "head(injury)"
   ]
  },
  {
   "cell_type": "markdown",
   "id": "350ccd1a",
   "metadata": {},
   "source": [
    "As usual, you can call the code below to pull up the documentation for the dataset, which reveals the variable descriptions."
   ]
  },
  {
   "cell_type": "code",
   "execution_count": null,
   "id": "07b32b92",
   "metadata": {},
   "outputs": [],
   "source": [
    "?injury"
   ]
  },
  {
   "cell_type": "markdown",
   "id": "1f5bbdd6",
   "metadata": {},
   "source": [
    "As is customary inside the helpful `wooldridge` repository, a lot of variables have already been constructed for us. Variables with a leading lowercase \"L\" are natural logs of things. It is very common to log variables like prices or incomes, because they typically have long right tails. Let us have a look at a key variable: `durat`, the duration in weeks of the workers' compensation claim."
   ]
  },
  {
   "cell_type": "code",
   "execution_count": null,
   "id": "d996a8f2",
   "metadata": {},
   "outputs": [],
   "source": [
    "hist(injury$durat)"
   ]
  },
  {
   "cell_type": "markdown",
   "id": "0cbc0b1d",
   "metadata": {},
   "source": [
    "<h4>\n",
    "<font color=\"blue\">Complete the code below and run it.</font>\n",
    "    </h4>"
   ]
  },
  {
   "cell_type": "code",
   "execution_count": null,
   "id": "4151eec7",
   "metadata": {},
   "outputs": [],
   "source": [
    "# Here, look at the histogram of the natural logarithm of claim duration\n",
    "hist(injury$ldurat)"
   ]
  },
  {
   "cell_type": "markdown",
   "id": "8ca85931",
   "metadata": {},
   "source": [
    "<font color=\"blue\">\n",
    "    <h3>\n",
    "    Question 1</h3>\n",
    "    One of these histograms looks like a bell curve, or somewhat normally distributed, and one does not. Which one looks reasonably like a bell curve?\n",
    "</font>"
   ]
  },
  {
   "cell_type": "markdown",
   "id": "22dc4759",
   "metadata": {
    "slideshow": {
     "slide_type": "slide"
    }
   },
   "source": []
  },
  {
   "cell_type": "markdown",
   "id": "0f1f28ae",
   "metadata": {},
   "source": [
    "<hr>"
   ]
  },
  {
   "cell_type": "markdown",
   "id": "64b6d2bd",
   "metadata": {},
   "source": [
    "<h2>Ordinary Least Squares</h2>\n",
    "\n",
    "Let us therefore use a regression model to estimate the somewhat-normally-distributed variable as a function of things that we think matter for the duration of workers' comp benefits. Obvious choices for the determinants of benefit duration are the nature of the injury, the worker's industry, and the worker's age. Less obvious choices are the earnings class of the worker, gender, and marital status. \n",
    "\n",
    "If the nature of the injury were the only thing that drove what is ostensibly medical decisionmaking, one would expect that things like marital status should not matter for benefits duration unless they somehow proxied for health status. (As a parent of small children, I can attest that injuries appear to hurt a lot more than they used to now that I have additional care responsibilities, but that could also just be an age effect!)\n",
    "\n",
    "First things first. Let us remove one Kentuckian who is listed as 98 years old. The next oldest is 81 and then two workers are listed at age 80. This suggests to me that the 98yo is actually an unrecoded \"missing data\" problem. Missings are often coded as 98 or 99, or 998 or 998."
   ]
  },
  {
   "cell_type": "code",
   "execution_count": null,
   "id": "768b4b24",
   "metadata": {},
   "outputs": [],
   "source": [
    "# Drop an apparent miscoding using subset()\n",
    "injury1 <- subset(injury, age < 98)"
   ]
  },
  {
   "cell_type": "markdown",
   "id": "26758f59",
   "metadata": {},
   "source": [
    "Here is our first regression model:\n",
    "\n",
    "$$\n",
    "ldurat_{i} = \\alpha + \\beta^a \\ age_{i} + \\beta^m \\ male_{i}\n",
    "+ \\sum_k \\beta^k \\ injury^k_{i} \n",
    "+ \\sum_\\eta \\beta^\\eta \\ industry^\\eta_{i} \n",
    "+ \\epsilon_{i}\n",
    "$$\n",
    "\n",
    "The right-hand-side variables are <i>age</i> in years; an indicator variable for <i>male</i> identity; and sets of indicator variables for the type of injury by body location: <i>head</i>, <i>neck</i>, <i>upextr</i> for upper extremities, <i>trunk</i>, <i>lowback</i> for lower back, <i>lowextr</i> for lower extremities; and type, <i>occdis</i> for occupational disease. We also have indicators for industry: <i>manuf</i> for manufacturing, and <i>construc</i> for construction.\n",
    "\n",
    "Let us estimate the model on a subset of the data: for Kentucky in the period before the policy change around 1980. The indicator variable <i>afchnge</i> equals 1 after the policy change and 0 before it."
   ]
  },
  {
   "cell_type": "markdown",
   "id": "8e98cbd9",
   "metadata": {},
   "source": [
    "<h4>\n",
    "<font color=\"blue\">Complete the code below and run it.</font>\n",
    "    </h4>"
   ]
  },
  {
   "cell_type": "code",
   "execution_count": null,
   "id": "3fa7fa3a",
   "metadata": {},
   "outputs": [],
   "source": [
    "# Alter the code below to use subset() to grab the observations \n",
    "# for which afchnge == 0 & ky == 1\n",
    "injury1_ky_before <- subset(injury1, afchnge == 0 & ky == 1)"
   ]
  },
  {
   "cell_type": "markdown",
   "id": "80667679",
   "metadata": {},
   "source": [
    "Now run the code below using that subset of the data we created."
   ]
  },
  {
   "cell_type": "code",
   "execution_count": null,
   "id": "e265b38e",
   "metadata": {},
   "outputs": [],
   "source": [
    "ldurat_reg1 <- lm(ldurat ~ age + male + \n",
    "                  head + neck + upextr + trunk +\n",
    "                  lowback + lowextr + occdis + \n",
    "                  manuf + construc, \n",
    "                  data = injury1_ky_before)\n",
    "summary(ldurat_reg1)"
   ]
  },
  {
   "cell_type": "markdown",
   "id": "9ee76d09",
   "metadata": {},
   "source": [
    "<font color=\"blue\">\n",
    "    <h3>\n",
    "    Question 2</h3>\n",
    "    Look at the regression output above and describe what you see. \n",
    "    Do older workers spend more time on workers' comp, conditional on gender, injury location, and industry? Does that make sense to you?\n",
    "    Of the coefficients on the various body parts of the injury, do any of the results seem strange? (Of these listed, what body part is arguably the most important? <i>This question probably does not have a single correct answer, but one really stood out to me.</i>)\n",
    "</font>"
   ]
  },
  {
   "cell_type": "markdown",
   "id": "2e92bb38",
   "metadata": {
    "slideshow": {
     "slide_type": "slide"
    }
   },
   "source": []
  },
  {
   "cell_type": "markdown",
   "id": "06158484",
   "metadata": {},
   "source": [
    "<hr>"
   ]
  },
  {
   "cell_type": "markdown",
   "id": "008e543d",
   "metadata": {},
   "source": [
    "Now let us examine a model where we add an indicator for being married, $marr_i$, and an indicator of having high earnings, $highearn_{i}$. The precise threshold of earnings is a little unclear; it is in the neighborhood of \\\\$350 per week, and [Meyer, Viscusi, and Durbin (1995)](https://www-jstor-org.libproxy.berkeley.edu/stable/2118177) discuss it in footnote 17. The regression model becomes:\n",
    "\n",
    "$$\n",
    "ldurat_{i} = \\alpha + \\beta^{h} \\ highearn_{i} + \\beta^{marr} \\ married_{i} \n",
    "+ \\beta^a \\ age_{i} + \\beta^m \\ male_{i}\n",
    "+ \\sum_k \\beta^k \\ injury^k_{i} \n",
    "+ \\sum_\\eta \\beta^\\eta \\ industry^\\eta_{i} \n",
    "+ \\epsilon_{i}\n",
    "$$\n"
   ]
  },
  {
   "cell_type": "markdown",
   "id": "5c43c495",
   "metadata": {},
   "source": [
    "<h4>\n",
    "<font color=\"blue\">Complete the code below and run it.</font>\n",
    "    </h4>"
   ]
  },
  {
   "cell_type": "code",
   "execution_count": null,
   "id": "fe5cc515",
   "metadata": {},
   "outputs": [],
   "source": [
    "ldurat_reg2 <- lm(ldurat ~ highearn + married + \n",
    "                  age + male +\n",
    "                  head + neck + upextr + trunk +\n",
    "                  lowback + lowextr + occdis + \n",
    "                  manuf + construc, \n",
    "                  data = injury1_ky_before)\n",
    "summary(ldurat_reg2)"
   ]
  },
  {
   "cell_type": "markdown",
   "id": "9716327f",
   "metadata": {},
   "source": [
    "<font color=\"blue\">\n",
    "    <h3>\n",
    "    Question 3</h3>\n",
    "    Look at the regression output above and describe what you see. \n",
    "    What is the coefficient on $highearn$? Is it statistically significant? Recalling the units of the left-hand-side variable, state what the coefficient on $highearn$ means in terms of the duration of workers' comp between two injured Kentuckians who are observationally identical except that one is high-earning.\n",
    "    </font>"
   ]
  },
  {
   "cell_type": "markdown",
   "id": "32de7e2c",
   "metadata": {},
   "source": []
  },
  {
   "cell_type": "markdown",
   "id": "d6111a6f",
   "metadata": {},
   "source": [
    "<hr>"
   ]
  },
  {
   "cell_type": "markdown",
   "id": "64b5be6d",
   "metadata": {},
   "source": [
    "<font color=\"blue\">\n",
    "    <h3>\n",
    "    Question 4</h3>\n",
    "    Does this result surprise you, as an economist? Do you think it would surprise a typical person? \n",
    "    </font>"
   ]
  },
  {
   "cell_type": "markdown",
   "id": "3a24cfea",
   "metadata": {},
   "source": []
  },
  {
   "cell_type": "markdown",
   "id": "592d1fa0",
   "metadata": {},
   "source": [
    "<hr>"
   ]
  },
  {
   "cell_type": "markdown",
   "id": "bf40dfd8",
   "metadata": {},
   "source": [
    "<h2>Difference in differences</h2>\n",
    "\n",
    "The raising of the benefit cap around 1980 may have had no effect on benefits claiming if claiming behavior were unrelated to earnings. But claiming behavior clearly was related to earnings, as we have just seen. Because the cap was only a constraint for high earners and not for low earnings, a natural approach to explore is <b>difference-in-differences (DID)</b> estimation."
   ]
  },
  {
   "cell_type": "markdown",
   "id": "7d27b77d",
   "metadata": {},
   "source": [
    "<font color=\"blue\">\n",
    "    <h3>\n",
    "    Question 5</h3>\n",
    "    According to <i>Mastering Metrics</i> and class discussion, what is the assumption underlying DID? Describe and discuss in this context, where unfortunately it is not directly testable in these data. Take a stand about whether you think DID is appropriate or not for this problem. \n",
    "    </font>"
   ]
  },
  {
   "cell_type": "markdown",
   "id": "dc1f0135",
   "metadata": {},
   "source": []
  },
  {
   "cell_type": "markdown",
   "id": "86509878",
   "metadata": {},
   "source": [
    "<font color=\"blue\">\n",
    "    <h3>\n",
    "    Question 6</h3>\n",
    "    Just to put a fine point on this: what do your second regression results above reveal about the level of benefits duration among high earners versus low workers? Is this a problem for the DID approach? \n",
    "    </font>"
   ]
  },
  {
   "cell_type": "markdown",
   "id": "6fc37671",
   "metadata": {},
   "source": []
  },
  {
   "cell_type": "markdown",
   "id": "6cf8a938",
   "metadata": {},
   "source": [
    "<hr>"
   ]
  },
  {
   "cell_type": "markdown",
   "id": "7cb1690d",
   "metadata": {},
   "source": [
    "When $highern_i$ defines the treatment group, and $afchng_t$ defines the post-treatment period, the simplest regression DID approach is to estimate this equation using stacked or pooled data:\n",
    "\n",
    "$$\n",
    "ldurat_{it} = \\alpha + \\beta^h \\ highearn_i + \\gamma \\cdot {afchnge}_t \n",
    "+ \\delta_{rDID} \n",
    "\\left( \n",
    "highearn_i \\times afchng_t\n",
    "\\right)\n",
    "+ \\epsilon_{it}\n",
    "$$\n",
    "\n",
    "where I have inserted a dot multiplier (\"$\\cdot$\") after $\\gamma$ to make the notation clearer.  The setup is that the treatment group gets a fixed effect equal to $\\beta^h$, and both control and treatment groups get a time fixed effect $\\gamma$. Then $\\delta_{rDID}$ is what remains, the difference in differences experienced by the treatment group."
   ]
  },
  {
   "cell_type": "markdown",
   "id": "ca9ae012",
   "metadata": {},
   "source": [
    "First things first, let us select observations pre and post but only from Kentucky."
   ]
  },
  {
   "cell_type": "code",
   "execution_count": null,
   "id": "ded36667",
   "metadata": {},
   "outputs": [],
   "source": [
    "injury1_ky <- subset(injury1, ky == 1)"
   ]
  },
  {
   "cell_type": "markdown",
   "id": "2aa4d68d",
   "metadata": {},
   "source": [
    "Now let us create the interaction term by multiplying the treatment group indicator variable by the post-treatment period indicator:"
   ]
  },
  {
   "cell_type": "code",
   "execution_count": null,
   "id": "81d036a4",
   "metadata": {},
   "outputs": [],
   "source": [
    "injury1_ky <- mutate(injury1_ky, highearnxafchnge = highearn * afchnge)"
   ]
  },
  {
   "cell_type": "markdown",
   "id": "9e5bc867",
   "metadata": {},
   "source": [
    "Finally, let us run the simple regression DID:"
   ]
  },
  {
   "cell_type": "code",
   "execution_count": null,
   "id": "d6704b2f",
   "metadata": {},
   "outputs": [],
   "source": [
    "ldurat_reg_did1 <- lm(ldurat ~ highearn + afchnge + highearnxafchnge, \n",
    "                  data = injury1_ky)\n",
    "summary(ldurat_reg_did1)"
   ]
  },
  {
   "cell_type": "markdown",
   "id": "5077d5f0",
   "metadata": {},
   "source": [
    "<font color=\"blue\">\n",
    "    <h3>\n",
    "    Question 7</h3>\n",
    "    Describe what you see in the results here. Which group uses benefits for longer? Is that consistent with your second OLS regression above? \n",
    "    Is the common time trend statistically significant?\n",
    "    What is the DID estimate of the effect of raising the benefit cap on the duration of workers' comp benefits? Is it statistically significant?\n",
    "    </font>"
   ]
  },
  {
   "cell_type": "markdown",
   "id": "3a8b2e0b",
   "metadata": {},
   "source": []
  },
  {
   "cell_type": "markdown",
   "id": "81c62b4e",
   "metadata": {},
   "source": [
    "<hr>"
   ]
  },
  {
   "cell_type": "markdown",
   "id": "2b1a7a83",
   "metadata": {},
   "source": [
    "A reasonable approach is to enrich this simple DID model with the other variables that we included earlier. That model is written as:\n",
    "\n",
    "$$\n",
    "\\begin{aligned}\n",
    "ldurat_{it} & = & \\alpha + \\beta^h \\ highearn_i + \\gamma \\cdot {afchnge}_t \n",
    "+ \\delta_{rDID} \n",
    "\\left( \n",
    "highearn_i \\times afchng_t\n",
    "\\right)\n",
    "\\\\\n",
    "& & \n",
    "+ \\beta^{marr} \\ married_{i} \n",
    "+ \\beta^a \\ age_{i} + \\beta^m \\ male_{i}\n",
    "+ \\sum_k \\beta^k \\ injury^k_{i} \n",
    "+ \\sum_\\eta \\beta^\\eta \\ industry^\\eta_{i} \n",
    "+ \\epsilon_{it}\n",
    "\\\\\n",
    "\\end{aligned}\n",
    "$$"
   ]
  },
  {
   "cell_type": "code",
   "execution_count": null,
   "id": "43a312bd",
   "metadata": {},
   "outputs": [],
   "source": [
    "ldurat_reg_did2 <- lm(ldurat ~ highearn + afchnge + highearnxafchnge +\n",
    "                      married + age + male +\n",
    "                      head + neck + upextr + trunk +\n",
    "                      lowback + lowextr + occdis + \n",
    "                      manuf + construc, \n",
    "                      data = injury1_ky)\n",
    "summary(ldurat_reg_did2)"
   ]
  },
  {
   "cell_type": "markdown",
   "id": "90c5d398",
   "metadata": {},
   "source": [
    "<font color=\"blue\">\n",
    "    <h3>\n",
    "    Question 8</h3>\n",
    "    Repeat your analysis in Question 7 for these results: Which group uses benefits for longer? Is that consistent with your second OLS regression above? \n",
    "    Is the common time trend statistically significant?\n",
    "    What is the DID estimate of the effect of raising the benefit cap on the duration of workers' comp benefits? Is it statistically significant?\n",
    "    </font>"
   ]
  },
  {
   "cell_type": "markdown",
   "id": "623c5281",
   "metadata": {},
   "source": []
  },
  {
   "cell_type": "markdown",
   "id": "967ad54f",
   "metadata": {},
   "source": [
    "<hr>"
   ]
  },
  {
   "cell_type": "markdown",
   "id": "51afd59b",
   "metadata": {},
   "source": [
    "Suppose we ignored the DID estimator structure and just ran the panel data regression using $highearn$ as a treatment group fixed effect and $afchnge$ as a time fixed effect. What kind of inference would emerge?"
   ]
  },
  {
   "cell_type": "code",
   "execution_count": null,
   "id": "90b11727",
   "metadata": {},
   "outputs": [],
   "source": [
    "ldurat_reg_panelfe <- lm(ldurat ~ highearn + afchnge +\n",
    "                      married + age + male +\n",
    "                      head + neck + upextr + trunk +\n",
    "                      lowback + lowextr + occdis + \n",
    "                      manuf + construc, \n",
    "                      data = injury1_ky)\n",
    "summary(ldurat_reg_panelfe)"
   ]
  },
  {
   "cell_type": "markdown",
   "id": "952b7303",
   "metadata": {},
   "source": [
    "<font color=\"blue\">\n",
    "    <h3>\n",
    "    Question 9</h3>\n",
    "    Please answer familiar questions based on these results: \n",
    "    Which group uses benefits for longer? Is that consistent with your second OLS regression above? \n",
    "    Is the common time trend statistically significant?\n",
    "    </font>"
   ]
  },
  {
   "cell_type": "markdown",
   "id": "3492d1eb",
   "metadata": {},
   "source": []
  },
  {
   "cell_type": "markdown",
   "id": "5e547924",
   "metadata": {},
   "source": [
    "<hr>"
   ]
  },
  {
   "cell_type": "markdown",
   "id": "bb9f5691",
   "metadata": {},
   "source": [
    "<h2>Wrapping up</h2>\n",
    "\n",
    "Stepping back, let us articulate the conceptual power and usefulness of the DID estimator.   "
   ]
  },
  {
   "cell_type": "markdown",
   "id": "8d2ced8c",
   "metadata": {},
   "source": [
    "<font color=\"blue\">\n",
    "    <h3>\n",
    "    Question 10</h3> \n",
    "    Look at the results of <i>ldurat_reg_panelfe</i> above, the last regression, which is a panel regression with fixed effects, and assess this remark (\"true or false and discuss\"): \n",
    "    </font>\n",
    "    <p>\n",
    "        <font color=\"blue\">\n",
    "    <i>Taken in isolation, that regression tells us nothing about causal influences on benefits duration. High earners take benefits longer, but we cannot really say why. Benefit duration is longer later in time, but we cannot really say why.</i>\n",
    "    </i>\n",
    "</font>"
   ]
  },
  {
   "cell_type": "markdown",
   "id": "3bd1d6e3",
   "metadata": {},
   "source": []
  },
  {
   "cell_type": "markdown",
   "id": "bfd1ab73",
   "metadata": {},
   "source": [
    "<hr>"
   ]
  },
  {
   "cell_type": "markdown",
   "id": "dd26a490",
   "metadata": {},
   "source": [
    "<font color=\"blue\">\n",
    "    <h3>\n",
    "    Question 11</h3> \n",
    "    Look at the results of <i>ldurat_reg_did2</i> above, the second-to-last regression, which is a panel regression with fixed effects and a time/group interaction, and assess this remark (\"true or false and discuss\"): \n",
    "    </font>\n",
    "    <p>\n",
    "        <font color=\"blue\">\n",
    "    <i>Taken in isolation, that regression tells us nothing about causal influences on benefits duration. High earners take benefits longer, but we cannot really say why. Benefit duration stays constant over time, and we cannot really say why.</i>\n",
    "    </i>\n",
    "</font>"
   ]
  },
  {
   "cell_type": "markdown",
   "id": "03768e4a",
   "metadata": {},
   "source": []
  },
  {
   "cell_type": "markdown",
   "id": "3a8a1c74",
   "metadata": {},
   "source": [
    "<hr>"
   ]
  },
  {
   "cell_type": "markdown",
   "id": "99b8612d",
   "metadata": {},
   "source": [
    "<div style=\"text-align: right\"> <span style=\"font-family:Papyrus; \">And they lived happily ever after. The End.</span></div>"
   ]
  }
 ],
 "metadata": {
  "kernelspec": {
   "display_name": "R",
   "language": "R",
   "name": "ir"
  },
  "language_info": {
   "codemirror_mode": "r",
   "file_extension": ".r",
   "mimetype": "text/x-r-source",
   "name": "R",
   "pygments_lexer": "r",
   "version": "4.2.1"
  }
 },
 "nbformat": 4,
 "nbformat_minor": 5
}
