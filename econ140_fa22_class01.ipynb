{
 "cells": [
  {
   "cell_type": "markdown",
   "id": "82ad9854",
   "metadata": {},
   "source": [
    "<h1>ECON 140R Class 01</h1>"
   ]
  },
  {
   "cell_type": "markdown",
   "id": "b7e96fdf",
   "metadata": {},
   "source": [
    "This is a Jupyter notebook, written with R, and running on [https://datahub.berkeley.edu](https://datahub.berkeley.edu)\n",
    "\n",
    "The \"dad joke\" is that this ECON 140 will be taught at least partially in R, and also it is the first letter of your instructor's first name."
   ]
  },
  {
   "cell_type": "markdown",
   "id": "41bec29e",
   "metadata": {},
   "source": [
    "Markdown is a superb tool for writing in clean text. It cannot write clear prose for you, but when you write clear prose, it will render it cleanly. And well, that is what we might call heaven on earth. Visually and pedagogically clear."
   ]
  },
  {
   "cell_type": "markdown",
   "id": "d11dbe4f",
   "metadata": {},
   "source": [
    "&nbsp;"
   ]
  },
  {
   "cell_type": "markdown",
   "id": "791c2b9e",
   "metadata": {},
   "source": [
    "Markdown lets us write math type too. Us oldsters and geeks might call it $\\LaTeX$. Check this out:"
   ]
  },
  {
   "cell_type": "markdown",
   "id": "1e15f74e",
   "metadata": {},
   "source": [
    "$$y = \\alpha + \\beta x + \\epsilon$$"
   ]
  },
  {
   "cell_type": "markdown",
   "id": "a557a674",
   "metadata": {},
   "source": [
    "This is a statement that $y$ is linear in $x$, with some error, $\\epsilon$, to the tune of an intercept, $\\alpha$, and a slope, $\\beta$."
   ]
  },
  {
   "cell_type": "markdown",
   "id": "6265b824",
   "metadata": {},
   "source": [
    "We can get fancy with terms, or we can stay simple. Do whatever feels right to you. These are all roughly equivalent: the partial derivative, $\\partial y/\\partial x = \\beta$; the slope is $\\beta$; the <i>effect</i> of $x$ on $y$ might be $\\beta$ maybe; the association between $x$ and $y$ is $\\beta$; etc."
   ]
  },
  {
   "cell_type": "markdown",
   "id": "cfc8c967",
   "metadata": {},
   "source": [
    "&nbsp;"
   ]
  },
  {
   "cell_type": "markdown",
   "id": "1c61ea84",
   "metadata": {},
   "source": [
    "Econometrics is all about:\n",
    "\n",
    "* Thinking of the world in terms of equations like this\n",
    "\n",
    "* Being clever or realistic about how to measure the \"real\" $\\beta$ — the causal one —in data"
   ]
  },
  {
   "cell_type": "markdown",
   "id": "0cab9418",
   "metadata": {},
   "source": [
    "&nbsp;"
   ]
  },
  {
   "cell_type": "markdown",
   "id": "7f5c0b61",
   "metadata": {},
   "source": [
    "The true magic of the Jupyter notebook comes with the interlacing of code and prose together. Let us jump ahead several classes and examine something we will later understand as <b>Omitted Variable Bias</b> using a useful repository of data from Jeffrey Wooldridge's excellent textbook, <i>Introductory Econometrics, a Modern Approach</i>. \n",
    "\n",
    "This appears as Example 9.3 on page 281 of the 6th edition, and it draws on a dataset provided by [Blackburn and Newmark (1992)](https://www-jstor-org.libproxy.berkeley.edu/stable/2118394) on monthly earnings and other characteristics among men in 1980.\n",
    "\n",
    "(This particular example is unfortunately not found within Florian Heiss's excellent R version of this book at [http://www.urfie.net/read/index.html](http://www.urfie.net/read/index.html))"
   ]
  },
  {
   "cell_type": "markdown",
   "id": "bf5dac52",
   "metadata": {},
   "source": [
    "Helpfully, folks have dumped all Wooldridge's public datasets into an R package for us to use. Here is code that sets that up. Highlight the code snippet with your mouse or trackpad, and hit <tt>SHIFT+ENTER</tt>"
   ]
  },
  {
   "cell_type": "code",
   "execution_count": 1,
   "id": "0f921c45",
   "metadata": {},
   "outputs": [
    {
     "name": "stderr",
     "output_type": "stream",
     "text": [
      "Installing package into ‘/opt/r’\n",
      "(as ‘lib’ is unspecified)\n",
      "\n"
     ]
    }
   ],
   "source": [
    "install.packages('wooldridge')"
   ]
  },
  {
   "cell_type": "markdown",
   "id": "ec870e1f",
   "metadata": {},
   "source": [
    "This command digs into that loaded package and retrieves part of it for our data:"
   ]
  },
  {
   "cell_type": "code",
   "execution_count": 2,
   "id": "a5f4fafe",
   "metadata": {},
   "outputs": [],
   "source": [
    "data(wage2, package='wooldridge')"
   ]
  },
  {
   "cell_type": "markdown",
   "id": "e6ad0f21",
   "metadata": {},
   "source": [
    "There are several ways of probing what it is that we just loaded. One convenient function to call is <tt>head()<tt>:"
   ]
  },
  {
   "cell_type": "code",
   "execution_count": 18,
   "id": "c8382f10",
   "metadata": {},
   "outputs": [
    {
     "data": {
      "text/html": [
       "<table class=\"dataframe\">\n",
       "<caption>A data.frame: 6 × 17</caption>\n",
       "<thead>\n",
       "\t<tr><th></th><th scope=col>wage</th><th scope=col>hours</th><th scope=col>IQ</th><th scope=col>KWW</th><th scope=col>educ</th><th scope=col>exper</th><th scope=col>tenure</th><th scope=col>age</th><th scope=col>married</th><th scope=col>black</th><th scope=col>south</th><th scope=col>urban</th><th scope=col>sibs</th><th scope=col>brthord</th><th scope=col>meduc</th><th scope=col>feduc</th><th scope=col>lwage</th></tr>\n",
       "\t<tr><th></th><th scope=col>&lt;int&gt;</th><th scope=col>&lt;int&gt;</th><th scope=col>&lt;int&gt;</th><th scope=col>&lt;int&gt;</th><th scope=col>&lt;int&gt;</th><th scope=col>&lt;int&gt;</th><th scope=col>&lt;int&gt;</th><th scope=col>&lt;int&gt;</th><th scope=col>&lt;int&gt;</th><th scope=col>&lt;int&gt;</th><th scope=col>&lt;int&gt;</th><th scope=col>&lt;int&gt;</th><th scope=col>&lt;int&gt;</th><th scope=col>&lt;int&gt;</th><th scope=col>&lt;int&gt;</th><th scope=col>&lt;int&gt;</th><th scope=col>&lt;dbl&gt;</th></tr>\n",
       "</thead>\n",
       "<tbody>\n",
       "\t<tr><th scope=row>1</th><td> 769</td><td>40</td><td> 93</td><td>35</td><td>12</td><td>11</td><td> 2</td><td>31</td><td>1</td><td>0</td><td>0</td><td>1</td><td> 1</td><td> 2</td><td> 8</td><td> 8</td><td>6.645091</td></tr>\n",
       "\t<tr><th scope=row>2</th><td> 808</td><td>50</td><td>119</td><td>41</td><td>18</td><td>11</td><td>16</td><td>37</td><td>1</td><td>0</td><td>0</td><td>1</td><td> 1</td><td>NA</td><td>14</td><td>14</td><td>6.694562</td></tr>\n",
       "\t<tr><th scope=row>3</th><td> 825</td><td>40</td><td>108</td><td>46</td><td>14</td><td>11</td><td> 9</td><td>33</td><td>1</td><td>0</td><td>0</td><td>1</td><td> 1</td><td> 2</td><td>14</td><td>14</td><td>6.715384</td></tr>\n",
       "\t<tr><th scope=row>4</th><td> 650</td><td>40</td><td> 96</td><td>32</td><td>12</td><td>13</td><td> 7</td><td>32</td><td>1</td><td>0</td><td>0</td><td>1</td><td> 4</td><td> 3</td><td>12</td><td>12</td><td>6.476973</td></tr>\n",
       "\t<tr><th scope=row>5</th><td> 562</td><td>40</td><td> 74</td><td>27</td><td>11</td><td>14</td><td> 5</td><td>34</td><td>1</td><td>0</td><td>0</td><td>1</td><td>10</td><td> 6</td><td> 6</td><td>11</td><td>6.331502</td></tr>\n",
       "\t<tr><th scope=row>6</th><td>1400</td><td>40</td><td>116</td><td>43</td><td>16</td><td>14</td><td> 2</td><td>35</td><td>1</td><td>1</td><td>0</td><td>1</td><td> 1</td><td> 2</td><td> 8</td><td>NA</td><td>7.244227</td></tr>\n",
       "</tbody>\n",
       "</table>\n"
      ],
      "text/latex": [
       "A data.frame: 6 × 17\n",
       "\\begin{tabular}{r|lllllllllllllllll}\n",
       "  & wage & hours & IQ & KWW & educ & exper & tenure & age & married & black & south & urban & sibs & brthord & meduc & feduc & lwage\\\\\n",
       "  & <int> & <int> & <int> & <int> & <int> & <int> & <int> & <int> & <int> & <int> & <int> & <int> & <int> & <int> & <int> & <int> & <dbl>\\\\\n",
       "\\hline\n",
       "\t1 &  769 & 40 &  93 & 35 & 12 & 11 &  2 & 31 & 1 & 0 & 0 & 1 &  1 &  2 &  8 &  8 & 6.645091\\\\\n",
       "\t2 &  808 & 50 & 119 & 41 & 18 & 11 & 16 & 37 & 1 & 0 & 0 & 1 &  1 & NA & 14 & 14 & 6.694562\\\\\n",
       "\t3 &  825 & 40 & 108 & 46 & 14 & 11 &  9 & 33 & 1 & 0 & 0 & 1 &  1 &  2 & 14 & 14 & 6.715384\\\\\n",
       "\t4 &  650 & 40 &  96 & 32 & 12 & 13 &  7 & 32 & 1 & 0 & 0 & 1 &  4 &  3 & 12 & 12 & 6.476973\\\\\n",
       "\t5 &  562 & 40 &  74 & 27 & 11 & 14 &  5 & 34 & 1 & 0 & 0 & 1 & 10 &  6 &  6 & 11 & 6.331502\\\\\n",
       "\t6 & 1400 & 40 & 116 & 43 & 16 & 14 &  2 & 35 & 1 & 1 & 0 & 1 &  1 &  2 &  8 & NA & 7.244227\\\\\n",
       "\\end{tabular}\n"
      ],
      "text/markdown": [
       "\n",
       "A data.frame: 6 × 17\n",
       "\n",
       "| <!--/--> | wage &lt;int&gt; | hours &lt;int&gt; | IQ &lt;int&gt; | KWW &lt;int&gt; | educ &lt;int&gt; | exper &lt;int&gt; | tenure &lt;int&gt; | age &lt;int&gt; | married &lt;int&gt; | black &lt;int&gt; | south &lt;int&gt; | urban &lt;int&gt; | sibs &lt;int&gt; | brthord &lt;int&gt; | meduc &lt;int&gt; | feduc &lt;int&gt; | lwage &lt;dbl&gt; |\n",
       "|---|---|---|---|---|---|---|---|---|---|---|---|---|---|---|---|---|---|\n",
       "| 1 |  769 | 40 |  93 | 35 | 12 | 11 |  2 | 31 | 1 | 0 | 0 | 1 |  1 |  2 |  8 |  8 | 6.645091 |\n",
       "| 2 |  808 | 50 | 119 | 41 | 18 | 11 | 16 | 37 | 1 | 0 | 0 | 1 |  1 | NA | 14 | 14 | 6.694562 |\n",
       "| 3 |  825 | 40 | 108 | 46 | 14 | 11 |  9 | 33 | 1 | 0 | 0 | 1 |  1 |  2 | 14 | 14 | 6.715384 |\n",
       "| 4 |  650 | 40 |  96 | 32 | 12 | 13 |  7 | 32 | 1 | 0 | 0 | 1 |  4 |  3 | 12 | 12 | 6.476973 |\n",
       "| 5 |  562 | 40 |  74 | 27 | 11 | 14 |  5 | 34 | 1 | 0 | 0 | 1 | 10 |  6 |  6 | 11 | 6.331502 |\n",
       "| 6 | 1400 | 40 | 116 | 43 | 16 | 14 |  2 | 35 | 1 | 1 | 0 | 1 |  1 |  2 |  8 | NA | 7.244227 |\n",
       "\n"
      ],
      "text/plain": [
       "  wage hours IQ  KWW educ exper tenure age married black south urban sibs\n",
       "1  769 40     93 35  12   11     2     31  1       0     0     1      1  \n",
       "2  808 50    119 41  18   11    16     37  1       0     0     1      1  \n",
       "3  825 40    108 46  14   11     9     33  1       0     0     1      1  \n",
       "4  650 40     96 32  12   13     7     32  1       0     0     1      4  \n",
       "5  562 40     74 27  11   14     5     34  1       0     0     1     10  \n",
       "6 1400 40    116 43  16   14     2     35  1       1     0     1      1  \n",
       "  brthord meduc feduc lwage   \n",
       "1  2       8     8    6.645091\n",
       "2 NA      14    14    6.694562\n",
       "3  2      14    14    6.715384\n",
       "4  3      12    12    6.476973\n",
       "5  6       6    11    6.331502\n",
       "6  2       8    NA    7.244227"
      ]
     },
     "metadata": {},
     "output_type": "display_data"
    }
   ],
   "source": [
    "head(wage2)"
   ]
  },
  {
   "cell_type": "markdown",
   "id": "673b1493",
   "metadata": {},
   "source": [
    "&nbsp;"
   ]
  },
  {
   "cell_type": "markdown",
   "id": "b1653a81",
   "metadata": {},
   "source": [
    "The variables have mnemonic names you can guess. Probably the strangest one is <tt>lwage</tt>, which appears at the far right of the results window (scroll right), and which is the <b>natural logarithm of the monthly wage</b>."
   ]
  },
  {
   "cell_type": "markdown",
   "id": "43bc9bc4",
   "metadata": {},
   "source": [
    "As we will see, in R the <tt>lm()</tt> function fits multivariate linear models conveniently. The syntax takes getting used to, but to estimate this model:\n",
    "$$y = \\alpha + \\beta x + \\gamma z + \\epsilon$$\n",
    "we  call this code:\n",
    "\n",
    "<center><tt>lm(y ~ x + z)</tt></center>\n",
    "\n",
    "Can you see the similarities?\n",
    "\n",
    "Now bear with me. I am going to call <tt>lm()</tt> three times with different equations, and I am going to assign the output to new structures on the left hand side of the \"gets\" operator <tt><-</tt>"
   ]
  },
  {
   "cell_type": "code",
   "execution_count": 11,
   "id": "54779f4d",
   "metadata": {},
   "outputs": [],
   "source": [
    "shortreg <- lm(lwage ~ educ + educ + exper + tenure \n",
    "               + married + south + urban + black, data = wage2)"
   ]
  },
  {
   "cell_type": "code",
   "execution_count": 12,
   "id": "4d35ed88",
   "metadata": {},
   "outputs": [],
   "source": [
    "longreg <- lm(lwage ~ educ + educ + exper + tenure \n",
    "              + married + south + urban + black + IQ, data = wage2)"
   ]
  },
  {
   "cell_type": "code",
   "execution_count": 13,
   "id": "ab9a46d6",
   "metadata": {},
   "outputs": [],
   "source": [
    "auxreg <- lm(IQ ~ educ + educ + exper + tenure \n",
    "             + married + south + urban + black, data = wage2)"
   ]
  },
  {
   "cell_type": "markdown",
   "id": "53beb8b5",
   "metadata": {},
   "source": [
    "If you were to surround those three calls with parentheses, then R would immediately spit back something. Or you can wait and call <tt>summary()<tt>"
   ]
  },
  {
   "cell_type": "code",
   "execution_count": 14,
   "id": "065c90aa",
   "metadata": {},
   "outputs": [
    {
     "data": {
      "text/plain": [
       "\n",
       "Call:\n",
       "lm(formula = lwage ~ educ + educ + exper + tenure + married + \n",
       "    south + urban + black, data = wage2)\n",
       "\n",
       "Residuals:\n",
       "     Min       1Q   Median       3Q      Max \n",
       "-1.98069 -0.21996  0.00707  0.24288  1.22822 \n",
       "\n",
       "Coefficients:\n",
       "             Estimate Std. Error t value Pr(>|t|)    \n",
       "(Intercept)  5.395497   0.113225  47.653  < 2e-16 ***\n",
       "educ         0.065431   0.006250  10.468  < 2e-16 ***\n",
       "exper        0.014043   0.003185   4.409 1.16e-05 ***\n",
       "tenure       0.011747   0.002453   4.789 1.95e-06 ***\n",
       "married      0.199417   0.039050   5.107 3.98e-07 ***\n",
       "south       -0.090904   0.026249  -3.463 0.000558 ***\n",
       "urban        0.183912   0.026958   6.822 1.62e-11 ***\n",
       "black       -0.188350   0.037667  -5.000 6.84e-07 ***\n",
       "---\n",
       "Signif. codes:  0 ‘***’ 0.001 ‘**’ 0.01 ‘*’ 0.05 ‘.’ 0.1 ‘ ’ 1\n",
       "\n",
       "Residual standard error: 0.3655 on 927 degrees of freedom\n",
       "Multiple R-squared:  0.2526,\tAdjusted R-squared:  0.2469 \n",
       "F-statistic: 44.75 on 7 and 927 DF,  p-value: < 2.2e-16\n"
      ]
     },
     "metadata": {},
     "output_type": "display_data"
    }
   ],
   "source": [
    "summary(shortreg)"
   ]
  },
  {
   "cell_type": "markdown",
   "id": "3e553143",
   "metadata": {},
   "source": [
    "&nbsp;"
   ]
  },
  {
   "cell_type": "markdown",
   "id": "5ff2c462",
   "metadata": {},
   "source": [
    "This and other output are what we are after. It takes some skill to decipher this, but you will learn to do it as effortlessly as I can. Look at the coefficient on <tt>educ</tt> in particular. Here is R spitting out just that number, in all its raw glory:"
   ]
  },
  {
   "cell_type": "code",
   "execution_count": 15,
   "id": "225b0735",
   "metadata": {},
   "outputs": [
    {
     "data": {
      "text/html": [
       "<strong>educ:</strong> 0.0654307271461604"
      ],
      "text/latex": [
       "\\textbf{educ:} 0.0654307271461604"
      ],
      "text/markdown": [
       "**educ:** 0.0654307271461604"
      ],
      "text/plain": [
       "      educ \n",
       "0.06543073 "
      ]
     },
     "metadata": {},
     "output_type": "display_data"
    }
   ],
   "source": [
    "shortreg$coefficients[\"educ\"]"
   ]
  },
  {
   "cell_type": "markdown",
   "id": "77ba3bbd",
   "metadata": {},
   "source": [
    "In words, it turns out that this is the <i>percentage increase</i> in the hourly wage for each additional year (unit) of education. That's a 6.5% real return, which is not too shabby."
   ]
  },
  {
   "cell_type": "markdown",
   "id": "7865a3dc",
   "metadata": {},
   "source": [
    "<center><h2>Kids, stay in school</h2></center>"
   ]
  },
  {
   "cell_type": "markdown",
   "id": "e97fc8d9",
   "metadata": {},
   "source": [
    "We will revisit these data more later."
   ]
  },
  {
   "cell_type": "markdown",
   "id": "08a64258",
   "metadata": {},
   "source": [
    "As a reminder, <i>you should copy code in this class.</i> Copying code is often how we learn. But you need to copy and then tinker with it, to understand it.\n",
    "\n",
    "In ECON 140, copy code. Do not copy ideas. Copy code, learn from it, alter it to do what you need, profit. Then look at what you have found, and <u>write about it in your own words</u>."
   ]
  },
  {
   "cell_type": "markdown",
   "id": "c51934e9",
   "metadata": {},
   "source": [
    "<div style=\"text-align: right\"> <span style=\"font-family:Papyrus; \">And they lived happily ever after. The End.</span></div>"
   ]
  },
  {
   "cell_type": "code",
   "execution_count": null,
   "id": "6873fd05",
   "metadata": {},
   "outputs": [],
   "source": []
  }
 ],
 "metadata": {
  "kernelspec": {
   "display_name": "R",
   "language": "R",
   "name": "ir"
  },
  "language_info": {
   "codemirror_mode": "r",
   "file_extension": ".r",
   "mimetype": "text/x-r-source",
   "name": "R",
   "pygments_lexer": "r",
   "version": "4.2.1"
  }
 },
 "nbformat": 4,
 "nbformat_minor": 5
}
