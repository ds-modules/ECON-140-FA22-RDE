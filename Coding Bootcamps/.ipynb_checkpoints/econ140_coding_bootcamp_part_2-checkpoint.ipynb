{
 "cells": [
  {
   "cell_type": "markdown",
   "metadata": {},
   "source": [
    "<img src=\"images/econ140R_logo.png\" width=\"200\" /img>\n",
    "\n",
    "<h1>ECON 140R - Coding Bootcamp, Part 1</h1>\n",
    "\n",
    "## Position Indices and Pipes\n",
    "\n",
    "This material is closely and gratefully adapted from the work of the UC Berkeley EEP/IAS 118 team, including Jeremy Magruder, Sofia Villas-Boas, James Sears, and many other people working on these materials for EEP118. This is your work. We are in your debt!\n",
    "\n",
    "This bootcamp will help us get better at manipulating data and improve our coding efficiency with <b>pipes</b>.\n",
    "\n",
    "For today, let's load a few packages and read in a dataset on sleep quality and time allocation for 706 individuals. This dataset is saved to the section folder as `sleep75.dta`. "
   ]
  },
  {
   "cell_type": "code",
   "execution_count": null,
   "metadata": {
    "collapsed": true
   },
   "outputs": [],
   "source": [
    "library(tidyverse)\n",
    "library(haven)\n",
    "sleepdata <- read_dta(\"sleep75.dta\")\n",
    "# The following seeds the random number generators (RNG) so that we'll get reproducible results\n",
    "set.seed(\"12345\") "
   ]
  },
  {
   "cell_type": "markdown",
   "metadata": {},
   "source": [
    "## Working with Indices\n",
    "\n",
    "We've seen how to manipulate datasets by adding in variables or removing certain observations. But what if we want to obtain either one element or a subset of elements from a known location? We can do this by referring to matrix indices of the dataframe.\n",
    "\n",
    "### Matrix and Vector Indices in R\n",
    "**R** uses brackets `[]` to indicate we're referring to a position. If added to the end of a one-dimensional vector object, we only need to include the position of the object we want to pull. When it comes to matrices, we now have to account for both the row and column dimensions, in that order. Let's see some examples!\n",
    "\n",
    "\n",
    "### Vectors\n",
    "Let's start by working with a vector. Run the following code in the cell below to create and see a vector named `vec`:\n",
    "\n",
    "`vec <- rnorm(10, mean = 4, sd = 2)`\n",
    "\n",
    "`vec`"
   ]
  },
  {
   "cell_type": "code",
   "execution_count": null,
   "metadata": {
    "collapsed": true
   },
   "outputs": [],
   "source": []
  },
  {
   "cell_type": "markdown",
   "metadata": {},
   "source": [
    "**What did we do?** We created a vector of length 10 of random draws from an Normal(4,4) distribution. \n",
    "\n",
    "If we wanted just the third element of this vector, we could call the following. Try it below:\n",
    "\n",
    "`vec[3]`"
   ]
  },
  {
   "cell_type": "code",
   "execution_count": null,
   "metadata": {
    "collapsed": true
   },
   "outputs": [],
   "source": []
  },
  {
   "cell_type": "markdown",
   "metadata": {},
   "source": [
    "The square brackets `[]` let __R__ know that you want to select on position, while the 3 is our instruction for which position to pull from. \n",
    "\n",
    "(note that since we're working with a one-dimensional vector and not a dataframe, we can't use `$` to call a certain column). \n",
    "\n",
    "If we were interested in elements 5 through 7, we can pull them with the use of `:` within the brackets to pull a sequence of consecutive integers:\n",
    "\n",
    "`vec[5:7]`"
   ]
  },
  {
   "cell_type": "code",
   "execution_count": null,
   "metadata": {
    "collapsed": true
   },
   "outputs": [],
   "source": []
  },
  {
   "cell_type": "markdown",
   "metadata": {},
   "source": [
    "Finally, if we wanted to pull the first, fourth, and ninth elements we can do that using `c()`:\n",
    "\n",
    "`vec[c(1, 4, 7)]`\n"
   ]
  },
  {
   "cell_type": "code",
   "execution_count": null,
   "metadata": {
    "collapsed": true
   },
   "outputs": [],
   "source": []
  },
  {
   "cell_type": "markdown",
   "metadata": {},
   "source": [
    "Remember that `c()` combines the listed elements into a vector itself, so if you ran `c(1, 4, 7)` on its own you'd get back a vector those three elements in order. We can see that by initiating a new vector of 30, 34, 38, and 42 and checking its type:\n",
    "\n",
    "`newvec <- c(30,34,38,42)`\n",
    "\n",
    "`newvec`\n",
    "\n",
    "`is.vector(newvec)`"
   ]
  },
  {
   "cell_type": "code",
   "execution_count": null,
   "metadata": {
    "collapsed": true
   },
   "outputs": [],
   "source": []
  },
  {
   "cell_type": "markdown",
   "metadata": {},
   "source": [
    "### Matrices\n",
    "\n",
    "What happens when we are working multidimensional objects? Largely the same thing! \n",
    "\n",
    "Let's start by creating a matrix with `matrix()` with 4 rows, 10 columns containing the values 1:40 and then checking its type:\n",
    "\n",
    "`mat40 <- matrix(1:40, nrow = 4, ncol = 10)`\n",
    "\n",
    "`mat40`\n",
    "\n",
    "`is.matrix(mat40)`"
   ]
  },
  {
   "cell_type": "code",
   "execution_count": null,
   "metadata": {
    "collapsed": true
   },
   "outputs": [],
   "source": []
  },
  {
   "cell_type": "markdown",
   "metadata": {},
   "source": [
    "To pull an element from a  matrix using its index, we now have to account for both the row and column dimensions. Now we just need to refer to position by specifying `[row#, column#]`. We first specify the row we want to draw from, followed by the column.\n",
    "\n",
    "To get the first element (first row and first column), we can use \n",
    "\n",
    "`mat40[1,1]`\n",
    "\n",
    "And for the element in the 3rd row and 6th column:\n",
    "\n",
    "`mat40[3, 6]`"
   ]
  },
  {
   "cell_type": "code",
   "execution_count": null,
   "metadata": {
    "collapsed": true
   },
   "outputs": [],
   "source": []
  },
  {
   "cell_type": "markdown",
   "metadata": {},
   "source": [
    "Like with vectors, we can pull multiple adjacent elements with a `:`. If we wanted the fifth, sixth, and seventh elements from the 2nd row, we could use\n",
    "\n",
    "`mat40[2, 5:7]`\n",
    "\n",
    "If instead we wanted an entire row, we can just omit the column value entirely:\n",
    "\n",
    "`mat40[2, ]`\n",
    "\n",
    "And for the sixth column:\n",
    "\n",
    "`mat40[,6]`\n"
   ]
  },
  {
   "cell_type": "code",
   "execution_count": null,
   "metadata": {
    "collapsed": true
   },
   "outputs": [],
   "source": []
  },
  {
   "cell_type": "markdown",
   "metadata": {},
   "source": [
    "We can also use `c()` as before, and combine it with `:`: to pull many elements/rows/columns at once!\n",
    "\n",
    "#### Quiz Time\n",
    "What elements do we pull with the following commands?\n",
    "\n",
    "* `mat40[c(2,4), ]`\n",
    "* `mat40[3,c(1,4)]`\n",
    "* `mat40[c(1,3), 5:7]`\n"
   ]
  },
  {
   "cell_type": "code",
   "execution_count": null,
   "metadata": {
    "collapsed": true
   },
   "outputs": [],
   "source": []
  },
  {
   "cell_type": "markdown",
   "metadata": {},
   "source": [
    "We have a bunch of flexibility here to call one element or multiple elements at the same time, the only restriction being that we follow the `[row#, col#]` syntax.\n",
    "\n",
    "### Data Frames\n",
    "\n",
    "The process for data frames is pretty similar, albeit with one extension. Now that we have variables, we can combine a position call with the `$` for a specific variable."
   ]
  },
  {
   "cell_type": "code",
   "execution_count": null,
   "metadata": {
    "collapsed": true
   },
   "outputs": [],
   "source": [
    "sleepdf <- select(sleepdata, age, educ, exper, hrwage)\n",
    "head(sleepdf)\n",
    "nrow(sleepdf)\n",
    "ncol(sleepdf)\n",
    "dim(sleepdf)\n",
    "\n",
    "is.data.frame(sleepdf)"
   ]
  },
  {
   "cell_type": "markdown",
   "metadata": {},
   "source": [
    "Remember that we can access a column be referring to it by name after the `$`:\n",
    "\n",
    "`sleepdf$age`\n",
    "\n",
    "You can similarly refer to the matrix position to pull the age column:\n",
    "\n",
    "`sleepdf[,1]`\n",
    "\n",
    "\n",
    "You can also refer to the column index by name, with quotations:\n",
    "\n",
    "`sleepdf[, \"age\"]`\n",
    "\n",
    "*note: **tidyverse** functions expect just the name of the variable and don't depend on the specific position of the variable in the dataframe.*"
   ]
  },
  {
   "cell_type": "markdown",
   "metadata": {},
   "source": [
    "If we wanted to get the fourth row element of column 4 (hrwage), we could refer to the matrix position:\n",
    "\n",
    "`sleepdf[4,4]`\n",
    "\n",
    "Alternatively, we can do the same thing by referring to the specific position within the variable\n",
    "\n",
    "`sleepdf$hrwage[4]`"
   ]
  },
  {
   "cell_type": "code",
   "execution_count": null,
   "metadata": {
    "collapsed": true
   },
   "outputs": [],
   "source": []
  },
  {
   "cell_type": "markdown",
   "metadata": {},
   "source": [
    "Note that when we use the `$` to call a specific variable, __R__ now treats that variable as a vector, so we can refer to its elements with `[]` in one dimension. In that case, our call `sleepdf$hrwage[4]` gives us just a number, whereas the previous call of `sleepdf[4,4]` gives us the same value but presented in a 1x1 table."
   ]
  },
  {
   "cell_type": "markdown",
   "metadata": {},
   "source": [
    "# Pipes\n",
    "\n",
    "As we start performing multiple consecutive manipulations on a dataframe, generating more specific summary statistics that require multiple coding steps, or making custom figures in ggplot, it can get tedious (and memory-intensive) to constantly have to assign objects to memory in each intermediate step. Fortunately **tidyverse** has a great alternative that will save us time and effort: pipes!\n",
    "\n",
    "For an example, if we were interested in altering our sleep variable to measure hours slept per night and also wanted to then obtain summary statistics by whether individuals are in good or excellent health (`gdhlth = 1`) or not (`gdhlth = 0`) for everyone over age 25, we could do it in the following way:\n",
    "\n",
    "`sleepdata <- filter(sleepdata, age > 25)\n",
    "sleepdata <- mutate(sleepdata, hrs_night = sleep/(7*60))\n",
    "sleepdata_goodhealth <- filter(sleepdata, gdhlth == 1)\n",
    "sleepdata_poorhealth <- filter(sleepdata, gdhlth == 0)\n",
    "summarize(sleepdata_poorhealth, mean_hours = mean(hrs_night), min_hours = min(hrs_night), max = max(hrs_night), count_badhealth = n())\n",
    "summarize(sleepdata_goodhealth, count_good = n(), mean_hours = mean(hrs_night), min_hours = min(hrs_night), max = max(hrs_night), count_goodhealth = n())`\n"
   ]
  },
  {
   "cell_type": "code",
   "execution_count": null,
   "metadata": {
    "collapsed": true
   },
   "outputs": [],
   "source": []
  },
  {
   "cell_type": "markdown",
   "metadata": {},
   "source": [
    "To get summary statistics on hours slept per night for each of the good and poor health groups, we had to use `filter()` to subset the data on health quality, store those subsets in data, and then generate summary statistics for each subset individually. \n",
    "\n",
    "`tidyverse` has a fantastic alternative that helps us skip these intermediate steps: a pipe `%>%`. The way the pipe (`%>%`) works is by taking the output from one expression and plugging it into thefirst argument of the function that comes to the right/below the pipe. For instance, we could rewrite the above code using pipes in fewer lines and without having to store anything in memory:\n",
    "\n",
    "`sleepdata %>%\n",
    "    filter(age > 25) %>%\n",
    "    mutate(hrs_night = sleep/(7*60)) %>%\n",
    "    group_by(gdhlth) %>%\n",
    "    summarize(mean_hours = mean(hrs_night), min_hours = min(hrs_night), max = max(hrs_night), count = n())`"
   ]
  },
  {
   "cell_type": "code",
   "execution_count": null,
   "metadata": {
    "collapsed": true,
    "scrolled": true
   },
   "outputs": [],
   "source": []
  },
  {
   "cell_type": "markdown",
   "metadata": {},
   "source": [
    "Which gives us the same output without storing anything to memory and in fewer steps/less coding. \n",
    "\n",
    "What the pipe is doing here is \n",
    "1. Passing our dataframe *sleepdata* on as the first argument of the next function (filter)\n",
    "2. Filtering on age > 25. Since we used the pipe to pass in *sleepdata*, **R** knows that the first argument is our *sleepdata* object, so we only specify the second argument (the condition for filtering). We then pass the filtered version of *sleepdata* on to the next line\n",
    "3. Creating a new variable `hrs_night` that measures hours slept per night (minutes per week divided by 7 days/week and divided by 60 min/hr), then passing the filtered dataframe with the new variable onward\n",
    "4. Taking the filtered/mutated version of sleepdata and grouping it by our good health variable and sending it on\n",
    "5. Summarizing the grouped data, reporting mean/min/max hours per night and the total number in each group."
   ]
  },
  {
   "cell_type": "markdown",
   "metadata": {},
   "source": [
    "One quick note: if we wanted to use a pipe for a number of steps and then save the resulting object to memory, we can do that! As long as you add `name <-` before the object at the top of the pipe, the result at the end of all the pipes will be saved to memory.\n",
    "\n",
    "For example, we can filter to keep data only for people older than 25 and add our hours slept per night variable using pipes:\n",
    "\n",
    "`sleep_old <- sleepdata %>%\n",
    "    filter(age > 25) %>%\n",
    "    mutate(hrs_night = sleep/(7*60))\n",
    "head(sleep_old)`"
   ]
  },
  {
   "cell_type": "code",
   "execution_count": null,
   "metadata": {
    "collapsed": true
   },
   "outputs": [],
   "source": []
  },
  {
   "cell_type": "markdown",
   "metadata": {},
   "source": [
    "We could also subset the older data for those not in a union, keep only a few variables of interest, and then arrange the subset by hours slept:\n",
    "\n",
    "`subset <- sleep_old %>%\n",
    "    filter(union ==0) %>%\n",
    "    select(hrs_night, union, gdhlth, age, exper) %>%\n",
    "    arrange(hrs_night)\n",
    "head(subset)`"
   ]
  },
  {
   "cell_type": "code",
   "execution_count": null,
   "metadata": {
    "collapsed": true
   },
   "outputs": [],
   "source": []
  },
  {
   "cell_type": "markdown",
   "metadata": {},
   "source": [
    "### Practice with Grouping and Pipes\n",
    "\n",
    "We want to know the average hours slept per night for everyone under age 30 in our sample. We feel the mean will be more informative if we can see the average hours slept per night by year of age. \n",
    "\n",
    "Report the mean of hours slept per night by ages 23, 24, 25, 26, 27, 28, and 29."
   ]
  },
  {
   "cell_type": "code",
   "execution_count": null,
   "metadata": {
    "collapsed": true
   },
   "outputs": [],
   "source": []
  },
  {
   "cell_type": "markdown",
   "metadata": {},
   "source": [
    "### Pipes: Summary\n",
    "\n",
    "Pipes send the object to the left of the pipe into the next expression as the first argument. Pipes are a handy way to cut down on repetitive code and preserve memory, especially when working with **tidyverse** functions. However, there are situations where it might be worth intentionally pausing between steps or times where you can't use pipes as the first argument is not consistent across consecutive functions. "
   ]
  }
 ],
 "metadata": {
  "kernelspec": {
   "display_name": "R",
   "language": "R",
   "name": "ir"
  },
  "language_info": {
   "codemirror_mode": "r",
   "file_extension": ".r",
   "mimetype": "text/x-r-source",
   "name": "R",
   "pygments_lexer": "r",
   "version": "3.6.1"
  }
 },
 "nbformat": 4,
 "nbformat_minor": 2
}
