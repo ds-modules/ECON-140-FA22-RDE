{
 "cells": [
  {
   "cell_type": "markdown",
   "metadata": {},
   "source": [
    "<img src=\"images/econ140R_logo.png\" width=\"200\" />\n",
    "\n",
    "<h1>ECON 140R - Coding Bootcamp Supplement</h1>\n",
    "\n",
    "## Introduction to RStudio (and more R)\n"
   ]
  },
  {
   "cell_type": "markdown",
   "metadata": {},
   "source": [
    "## RStudio\n",
    "\n",
    "Last week we worked through how to access _Datahub_, use a Jupter notebook, and code in R. \n",
    "Today we will introduce RStudio. RStudio is an Intregrated Development Environment (IDE) for R. It lets us edit scripts, produce output, navigate file structures, view plots, and see content curently in memory through its interface. This is the interface most econometric researchers use to conduct their analysis.\n",
    "\n",
    "First we'll get you started on installing R and RStudio on your personal computers (for those who want local installations). Then we'll access RStudio on Datahub and work through how to use it."
   ]
  },
  {
   "cell_type": "markdown",
   "metadata": {},
   "source": [
    "## Installing R and RStudio\n",
    "\n",
    "Now we'll work through installing __R__ and **RStudio** on your own computers. Once installed, you can use **RStudio** exactly as above (albeit with different file paths)."
   ]
  },
  {
   "cell_type": "markdown",
   "metadata": {},
   "source": [
    "### Installing R\n",
    "\n",
    "To install **R**, go to the [R Project website](https://ftp.osuosl.org/pub/cran/). \n",
    "\n",
    "#### Mac\n",
    "\n",
    "If you're on a Mac, use the **R for (Mac) OS X** link and download the **R-#.pkg** file (where **#** is the current version). Once downloaded, open the package and follow the installation instructions.\n",
    "\n",
    "#### Windows\n",
    "\n",
    "If you're on Windows, use the **R for Windows** link, click on **Base**, and **Download R # for Windows** (where **#** is the current version). Once downloaded, open the package and follow the installation instructions.\n",
    "\n"
   ]
  },
  {
   "cell_type": "markdown",
   "metadata": {},
   "source": [
    "### Installing RStudio\n",
    "\n",
    "To install **RStudio**, go to the [RStudio Download Page](https://rstudio.com/products/rstudio/download/#download). Scroll down to the OS section and download the file that corresponds to your operating system. For Mac that's the `RStudio-#.dmg` (where **#** is the current version) and for Windows the `RStudio-#.exe` (for Windows). When download, run the installer and follow the instructions."
   ]
  },
  {
   "cell_type": "markdown",
   "metadata": {},
   "source": [
    "### Troubleshooting Local Installations\n",
    "\n",
    "We're going to start introducing you to **RStudio** on __Datahub__ as folks get things installed. As we go, raise your hand if you're having issues getting things installed/running and one of us will come help troubleshoot."
   ]
  },
  {
   "cell_type": "markdown",
   "metadata": {},
   "source": [
    "## RStudio on Datahub\n",
    "\n",
    "You can use the [Following Link](https://r.datahub.berkeley.edu/hub/user-redirect/git-pull?repo=https%3A%2F%2Fgithub.com%2Fds-modules%2FENVECON-118-SP22&urlpath=rstudio%2F) to access RStudio on Datahub. Note that RStudio always stays in the same place (unlike our Jupyter notebooks it isn't specific to a given folder location), so you can use the above link or the link document posted on bCourses (**Files > Datahub > \"Link to RStudio on Datahub.pdf\"**) throughout the semester.\n",
    "\n",
    "When you click one of the links, you'll open a tab that looks something like this:\n",
    "\n",
    "<p style=\"text-align: center;\"> RStudio on Datahub </p>\n",
    "\n",
    "<img src=\"images/rstudio_datahub.png\" width=\"900\" />\n",
    "\n",
    "This is RStudio. RStudio gives us a really helpful interface for producing and running __R__ code all in one window. It has several advantages when it comes to producing research.\n",
    "\n",
    "There are four main elements of RStudio:"
   ]
  },
  {
   "cell_type": "markdown",
   "metadata": {},
   "source": [
    "### 1. Script Window \n",
    "\n",
    "<p style=\"text-align: center;\"> Script Window </p>\n",
    "\n",
    "<img src=\"images/script.png\" width=\"900\" />\n",
    "\n",
    "The script window is the “upper left” window in __RStudio__. This is where you will be writing all of your code. This window allows you to save your R scripts and gives any researcher with the file the ability to replicate your analysis.\n",
    "\n",
    "Every time you start a project, it is important to start a script. A script lets you save and load your code as you go. To start a script, either click on **File > New File > R Script**, or click the sheet of paper with a plus on it in the toolbar just below **File**. An untitled script tab will open, which you can save by going to **File > Save**. Note that scripts do not autosave, so make sure to save your scripts as you go. It's a good habit to save your code every few minutes, and if you make big changes to your approach go ahead and save a separate copy of the code (we no longer have the built-in version control as we did with the notebooks).\n",
    "\n",
    "When you save your script, you'll need to select the folder you want to save the script in. It's useful to save your scripts in a project-specific destination to help keep track of your files. The script can be reopened through the file window (which we'll talk about later) or by clicking **File > Open** in the menu toolbar.\n",
    "\n",
    "Though you'll write all your task code in the same script, sometimes you'll want to run just a line at a time. To do so, select the line(s) you're interested in and either click **Run** in the upper-right portion of the script window, go to **Code > Run Selected Lines**, click **Command + Enter** (Mac) or **Control + Enter** (Mac and PC).\n",
    "\n",
    "#### Organizing Scripts\n",
    "\n",
    "Since you'll be adding all your code for the project in the same script, it's a good idea to organize your script according to a workflow. This will save you time and make it a bunch easier to get back up to speed if you revisit code after some time away or share code with colleagues. A best practice is to begin your script with a *preamble* where you load packages, declare options, and set paths before you dive into analysis. \n",
    "\n",
    "Another good practice is to comment code - use the pound sign `#` to comment out everything behind it on a given line. For example, try running the following cell: "
   ]
  },
  {
   "cell_type": "code",
   "execution_count": 1,
   "metadata": {
    "collapsed": true
   },
   "outputs": [],
   "source": [
    "# This is a comment\n",
    "########## This is also a comment\n",
    "# sleepdf <- read_dta(\"this is still a comment\")"
   ]
  },
  {
   "cell_type": "markdown",
   "metadata": {},
   "source": [
    "Comments are helpful for keeping notes about what you're doing as you go, which is especially helpful when working with others. You can also add blocks to your script by adding `#----` to a line. Once you do, a small arrow will appear to the left of the line. Clicking on this area will hide/unhide all the lines of the section. This can be useful to temporarily hide some code when your scripts start getting long."
   ]
  },
  {
   "cell_type": "markdown",
   "metadata": {},
   "source": [
    "### 2. Console\n",
    "\n",
    "<p style=\"text-align: center;\"> Console Window </p>\n",
    "\n",
    "<img src=\"images/console.png\" width=\"900\" />\n",
    "\n",
    "This is the \"bottom left” window in __RStudio__. The console is essentially a direct line to __R__. You can type code here directly, but more importantly this is where all your output will be printed. Think of this like the output spaces of the notebooks; rather than right below a code cell, all our output will get printed right to the console window.\n",
    "\n",
    "Note that because all our output gets printed in the same window, we can scroll back through it to look at old results. At the same time, it means we don't get results printed in a clean way that's saved out in an easily-read fashion. If we want to save out our work from __RStudio__, we'll need to employ some other techniques which we'll discuss later.\n",
    "\n",
    "__You should never be coding in this window__. You cannot save anything you run from the console, thus making it not replicable. Always write your code in a script and then run it so that the results appear in the console."
   ]
  },
  {
   "cell_type": "markdown",
   "metadata": {},
   "source": [
    "\n",
    "### 3. Environment \n",
    "\n",
    "<p style=\"text-align: center;\"> Environment Window </p>\n",
    "\n",
    "<img src=\"images/enviro.png\" width=\"900\" />\n",
    "\n",
    "This is the “upper right” window in __RStudio__. This window will list all your stored variables, dataframes, and functions that you’ve written to memory. Whereas all the memory items are hidden in the background when we use a Jupyter Notebook, now we can see them all (and even view their contents) directly. The environment window is useful in keeping you informed about what R has stored from the code you’ve written.\n",
    "\n",
    "To see how this works, bring in a dataset. Let's load in the `sleep75.dta` file that's in the **Sections > Data** folder. To do this using your script,\n",
    "\n",
    " * Load the package `haven` with `library(haven)`\n",
    " * Store the sleep data as `sleepdf` using the command `sleepdf <- read_dta(\"/home/jovyan/ENVECON-118-SP22/Sections/Data/sleep75.dta\")`\n",
    " \n",
    " Note that we had to account for the whole path of the `sleep75` data in order to load it in RStudio. If you want to change your working directory so that you'll be in the **Sections/Data** folder and can reference the data file by name, use the `setwd()` function - include the path you want to locate to (in quotations) as the function's argument. To relocate to the **Sections/Data** folder, run `setwd(\"/home/jovyan/ENVECON-118-SP22/Sections/Data/\")`. Since the data we want is also in this folder, we can load it by name with `read_dta(\"sleep75.dta\")` - note that if we don't assign it a name, **RStudio** will print the entire dataset to the console.\n",
    " \n",
    " Now that we have `sleepdf` in memory, it appears in the environment window: \n",
    "\n",
    "<p style=\"text-align: center;\"> Loaded Data </p>\n",
    "\n",
    "<img src=\"images/enviro_2.png\" width=\"600\" />\n",
    "\n",
    "The environment tells us how many observations and variables are in our data. If we click the arrow to the left of `sleepdf`, we get information on each of our variables:\n",
    "\n",
    "<p style=\"text-align: center;\"> Variable Info </p>\n",
    "\n",
    "<img src=\"images/enviro_3.png\" width=\"600\" />\n",
    "\n",
    "You can adjust the size of the environment window to see more of the variables at once or scroll through if it's a long list. \n",
    "\n",
    "If you double click `sleepdf`, you can view the whole dataset. The data opens in a new tab in the script window, letting you see the variable names, variable labels (sometimes in Stata files), and all the observations themselves!\n",
    "\n",
    "\n",
    "<p style=\"text-align: center;\"> Viewing Data </p>\n",
    "\n",
    "<img src=\"images/view_data.png\" width=\"600\" />\n",
    "\n",
    "You can switch back and forth between the data and your script by clicking on the respective tab. When done viewing the data, click the little x on the right of the tab.\n",
    "\n",
    "#### Removing objects from memory\n",
    "\n",
    "While there is a lot of space on the server, it's a good habit to remove objects from memory that you no longer need (this is especially important when working with large datasets on your personal computer). To remove objects from memory, use the `rm()` function. \n",
    "\n",
    "Let's try this by creating a summary statistics object: `sleepstats <- summary(sleepdf)`. You'll see that these have been added to the *Values* portion of the environment, telling us it's stored as a matrix and not formatted as a dataframe. To remove it, run `rm(sleepstats)`."
   ]
  },
  {
   "cell_type": "markdown",
   "metadata": {},
   "source": [
    "\n",
    "### 4. Files/Plots/Help Window\n",
    "\n",
    "<p style=\"text-align: center;\"> File/Plots/Help Window </p>\n",
    "\n",
    "<img src=\"images/files.png\" width=\"900\" />\n",
    "\n",
    "This is the \"bottom right\" window in __RStudio__. This combined area is used for a couple of different tasks, depending on which tab we're in. Here are a few that you might find helpful:\n",
    "\n",
    "#### Files\n",
    "\n",
    "The file viewer lets us view and navigate the files/folders on our system. In the case of __Datahub__, this lets us view our entire folder structure and access the various files we have saved here. \n",
    "\n",
    "* Right-clicking on a folder name in the heirarchy will take us to that folder\n",
    "* Clicking the `..` at the top of the tree (next to the green arrow) will take us back up one folder in the heirarchy\n",
    "* Clicking on a dataset will give us the option to import the dataset - note that we'll ultimately want to load everything using our script, else we can't replicate our results conveniently. \n",
    "\n",
    "#### Plots\n",
    "\n",
    "Whereas in Jupyter notebooks the plots appeared below our cells, now they will appear in the plots viewer tab when we produce/call them. For example, if we want a histogram of income in our data, we can use the following code:"
   ]
  },
  {
   "cell_type": "code",
   "execution_count": null,
   "metadata": {
    "collapsed": true
   },
   "outputs": [],
   "source": [
    "hist(sleepdf$earns74,\n",
    "     main = \"Distribution of Earnings\",\n",
    "     xlab = \"Total Earnings (1974)\")\n"
   ]
  },
  {
   "cell_type": "markdown",
   "metadata": {},
   "source": [
    "Note that running this code in RStudio will open a (potentially squished) figure in the plots window. To make it larger, click the **Zoom** button. You can use the **Export** button to save an image or pdf copy to the server, or copy the plot to the clipboard.\n",
    "\n",
    "\n",
    "#### Help\n",
    "\n",
    "Whenever you have a question about a given function, you can type `?` in front of the function name and run the code, and the documentation will appear in the help tab, which will come to the front. This will help us get information on the syntax and output of a given function. If we wanted a refresher on how to use `read_dta()`, we can just run `?read_dta` and the function's documentation will pop up in the help window.\n"
   ]
  },
  {
   "cell_type": "markdown",
   "metadata": {},
   "source": [
    "## Example Project\n",
    "\n",
    "By now you should all have R and RStudio installed on your computer. Let's get an example project started so that you can get a sense of how the workflow would work if you were starting a homework assignment or research project using RStudio rather than R in Jupyter Notebooks. "
   ]
  },
  {
   "cell_type": "markdown",
   "metadata": {},
   "source": [
    "### Step 1: \n",
    "\n",
    "#### Set up your project folder.\n",
    "\n",
    "You want everything related to your project to be easy to find on your computer. \n",
    "\n",
    "* Start by creating a folder on your desktop (or elsewhere such as in dropbox) called __\"Ex_Proj\"__.\n",
    "\n",
    "Hint: some coding languages don't like spaces in file paths, so using underlines as a habit can help avoid errors. \n",
    "\n",
    "* Next, inside the **Ex_Proj** folder create three subfolders with the following names: __\"Data\"__, __\"Code\"__, and __\"Output\"__."
   ]
  },
  {
   "cell_type": "markdown",
   "metadata": {},
   "source": [
    "### Step 2:\n",
    "\n",
    "#### Download the `sleep75.dta` datafile from bCourses (`Files>Sections>Coding Bootcamp`) and save it in the __Ex_Proj>Data__ folder you just created."
   ]
  },
  {
   "cell_type": "markdown",
   "metadata": {},
   "source": [
    "###  Step 3:\n",
    "\n",
    "#### Open RStudio and start a new script:\n",
    "\n",
    "Click on __File > New File > R Script__ to open a new script.\n",
    "\n",
    "Add a header to your script to help keep track of what the script does. For example:\n",
    "\n"
   ]
  },
  {
   "cell_type": "code",
   "execution_count": null,
   "metadata": {
    "collapsed": true
   },
   "outputs": [],
   "source": [
    "# Example Project for Coding Bootcamp\n",
    "# Feb. 4th 2020"
   ]
  },
  {
   "cell_type": "markdown",
   "metadata": {},
   "source": [
    "#### Save your script.\n",
    "\n",
    "Click on **File > Save As**, assign the script a name, and save it in the __Ex_Proj>Code__ folder you just created.\n",
    "\n",
    "You can also use `Command + S` on Mac or `Control + S` on Windows to save your script."
   ]
  },
  {
   "cell_type": "markdown",
   "metadata": {},
   "source": [
    "### Step 4: Install and load the packages you will use in your code.\n",
    "\n",
    "When you are working in Jupyter Notebooks, we have already installed the code packages you will use on the server. When you are working on your own machine, you need to install the packages you plan on using in your code. This installation procedure is usually done at the begining of all code files in what is frequently referred to as the *preamble*. \n",
    "\n",
    "Today we will use the following packages: `haven` and `tidyverse`\n",
    "\n",
    "In order to use them you need to\n",
    "\n",
    "##### a) Install the package using `install.packages(\"\")`\n",
    "\n",
    "Hint: once you have run `install.packages(\"\")` you can comment it out using `#` so you don't reinstall each time you run your code.  \n",
    "\n",
    "To install the packages we need today use the following code:\n",
    "\n",
    "`install.packages(\"haven\")`\n",
    "\n",
    "`install.packages(\"tidyverse\")`\n",
    "\n",
    "##### b) load the package using `library()`\n",
    "\n",
    "To load our package, use the following code:\n",
    "\n",
    "`library(haven)`\n",
    "\n",
    "`library(tidyverse)`\n"
   ]
  },
  {
   "cell_type": "markdown",
   "metadata": {},
   "source": [
    "### Step 5: Set your working directory.\n",
    "\n",
    "You want to tell R where your project folder is. Doing this at the begining of your code means you only have to do this once rather than each time you are saving something or loading a dataset. This also means that if you move your project folder, you only need to change this one line of code. \n",
    "\n",
    "To set your working directory you will use `setwd(\"\")` and insert the file path to your project folder. \n",
    "\n",
    "You can find the file path of your folder by:\n",
    "\n",
    "On __Windows__: press `shift+right click` on the folder, then select `Copy as path`\n",
    "\n",
    "On __Mac__: `Right-click+OPTION` to reveal the “Copy (item name) as Pathname” option\n",
    "\n",
    "Once you have the file path you need to switch the backslashes to forward slashes.\n",
    "\n",
    "so you will have a line of code that looks like:\n",
    "\n",
    "`setwd(\"C:/Users/James/Desktop/Ex_Proj\")`"
   ]
  },
  {
   "cell_type": "markdown",
   "metadata": {},
   "source": [
    "### Step 6: Load your data. \n",
    "\n",
    "You need to tell R where your data is and give your dataset a name. Because we have set the working directory, we only need to tell R where the file is relative to the working directory. We use the function `read_dta()` (from the `haven` package we installed) to read the dataset. The arrow `<-` assigns the data to a name we creates. Let's call our data `sleepdf`. \n",
    "\n",
    "`sleepdf <- read_dta(\"Data/sleep75.dta\")`\n",
    "\n",
    "You should now see `sleepdf` appear in the environment window. \n",
    "\n",
    "To check that you data has been loaded correctly, and to see what it looks like you can use the `head()` function, which will show you the first six rows of data.\n",
    "\n",
    "`head(sleepdf)`"
   ]
  },
  {
   "cell_type": "markdown",
   "metadata": {},
   "source": [
    "### Step 7: Work with your data.\n",
    "\n",
    "This step will obviously depend on what your goals are. Lets stick to a simple example here. Let's do two things: create a new variable in our dataset and plot that new variable.\n",
    "\n",
    "##### Create a new variable\n",
    "Currently in the data, sleep is measured in minutes per week. Let's convert this to hours per night. \n",
    "\n",
    "`sleepdf$sleep_hr <- sleepdf$sleep/420`\n",
    "\n",
    "##### Create a new variable, tidyverse style\n",
    "\n",
    "Alternatively, you can use the `mutate()` function available through `tidyverse` to create the same variable:\n",
    "\n",
    "`sleepdf <- mutate(sleepdf, sleep_hr = sleep/420)`\n",
    "\n",
    "Note that `mutate()` can be helpful when you want to create multiple variables at once, as you can specify them as additional arguments (create additional variables by separating them with a comma).\n",
    "\n",
    "##### Make a Histogram of the new variable \n",
    "\n",
    "`mysleephist <- hist(sleepdf$sleep_hr)`\n",
    "\n",
    "Hint: remember to save your code as you work!"
   ]
  },
  {
   "cell_type": "markdown",
   "metadata": {},
   "source": [
    "### Step 8: Save your output and modified data. \n",
    "\n",
    "You may want to save things that you create in R. You can create many different types of output and save them in many ways. The two most common types of output to save out are plots and modified versions of our data. \n",
    "\n",
    "First, let's save the histogram we created as a pdf (and then take a look at it):\n",
    "\n",
    "`pdf(\"output/sleep_hist.pdf\")\n",
    "plot(mysleephist)`\n",
    "\n",
    "Next, let's also save the new modified dataset we created. \n",
    "\n",
    "##### Note: ALWAYS SAVE MODIFIED DATA AS A NEW FILE. NEVER OVERWRITE YOUR ORIGINAL DATASET. \n",
    "\n",
    "`write.csv(sleepdf, file = \"data/sleepdf.csv\")`"
   ]
  }
 ],
 "metadata": {
  "@webio": {
   "lastCommId": null,
   "lastKernelId": null
  },
  "kernelspec": {
   "display_name": "R",
   "language": "R",
   "name": "ir"
  },
  "language_info": {
   "codemirror_mode": "r",
   "file_extension": ".r",
   "mimetype": "text/x-r-source",
   "name": "R",
   "pygments_lexer": "r",
   "version": "3.6.1"
  },
  "toc": {
   "base_numbering": 1,
   "nav_menu": {},
   "number_sections": true,
   "sideBar": true,
   "skip_h1_title": false,
   "title_cell": "Table of Contents",
   "title_sidebar": "Contents",
   "toc_cell": false,
   "toc_position": {},
   "toc_section_display": true,
   "toc_window_display": false
  },
  "varInspector": {
   "cols": {
    "lenName": 16,
    "lenType": 16,
    "lenVar": 40
   },
   "kernels_config": {
    "python": {
     "delete_cmd_postfix": "",
     "delete_cmd_prefix": "del ",
     "library": "var_list.py",
     "varRefreshCmd": "print(var_dic_list())"
    },
    "r": {
     "delete_cmd_postfix": ") ",
     "delete_cmd_prefix": "rm(",
     "library": "var_list.r",
     "varRefreshCmd": "cat(var_dic_list()) "
    }
   },
   "types_to_exclude": [
    "module",
    "function",
    "builtin_function_or_method",
    "instance",
    "_Feature"
   ],
   "window_display": false
  }
 },
 "nbformat": 4,
 "nbformat_minor": 2
}
