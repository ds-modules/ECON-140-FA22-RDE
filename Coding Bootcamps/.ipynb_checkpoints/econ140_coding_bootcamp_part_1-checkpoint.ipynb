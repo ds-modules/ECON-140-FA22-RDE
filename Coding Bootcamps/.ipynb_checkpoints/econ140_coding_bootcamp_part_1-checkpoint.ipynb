{
 "cells": [
  {
   "cell_type": "markdown",
   "metadata": {},
   "source": [
    "<img src=\"images/econ140R_logo.png\" width=\"200\" />\n",
    "\n",
    "<h1>ECON 140R - Coding Bootcamp, Part 1</h1>\n",
    "\n",
    "## Introduction to R and Jupyter Notebooks\n",
    "\n",
    "This material is closely and gratefully adapted from the work of the UC Berkeley EEP/IAS 118 team, including Jeremy Magruder, Sofia Villas-Boas, James Sears, and many other people working on these materials for EEP118. This is your work. We are in your debt!"
   ]
  },
  {
   "cell_type": "markdown",
   "metadata": {},
   "source": [
    "## ECON 140R Coding\n",
    "\n",
    "This term we'll be using the programming language __R__ for all our data visualization and econometric analysis. As we'll see this semester, **R** is an extremely powerful open-source system that lets us do just about anything we can think of with our data.\n",
    "\n",
    "There are a couple of different ways to run __R__, and we will introduce you to two main approaches:\n",
    "\n",
    "1. Using **R** within _Jupyter Notebooks_ and __RStudio__ hosted remotely on Berkeley's __Datahub__\n",
    "2. Installing and running **R**  with  __RStudio__ offline on your personal computers\n",
    "\n",
    "For the sake of this class, option __1.__ is the simplest in terms of the analysis we'll be doing this semester, but for independent research and future work, option __2.__ is worth knowing as well. \n",
    "\n",
    "One of the biggest reasons to go option __2.__ is that it allows you to examine <i>larger datasets</i>."
   ]
  },
  {
   "cell_type": "markdown",
   "metadata": {},
   "source": [
    "## Jupyter Notebook Basics\n",
    "\n",
    "We're going to start off in week 1 with option 1 by learning how to use Jupyter Notebooks to run R. Later we'll look at how to access RStudio through Datahub, and we may be able to walk you through installing R and RStudio on your personal computers in office hours.\n",
    "\n",
    "Jupyter notebooks are an interactive computing environment that lets us combine both text elements and active R code. Importantly for us, notebooks let us\n",
    "\n",
    "* Write and run R code through our web browsers, and\n",
    "* Add narrative text that describes our code and the output from said code\n",
    "\n",
    "This means that we can use R without having to install any software on our personal computers, and can ignore errors that might pop up from local conflicts or issues with packages on personal machines. Further, it lets us answer written exercises and coding problems all in one place. \n",
    "\n",
    "When you click a Jupyter interact link in the course calendar, you are taken to a file or folder in your web browser. This folder is hosted on a remote web server on Berkeley's Datahub. There is a directory structure there just like there is on your personal computer."
   ]
  },
  {
   "cell_type": "markdown",
   "metadata": {},
   "source": [
    "Our class folder in Fall 2022 is named <tt>ECON-140-FA22-RDE</tt>, and within that folder, there are subfolders for <tt>Coding Bootcamps</tt> and <tt>Class Meetings</tt>."
   ]
  },
  {
   "cell_type": "markdown",
   "metadata": {},
   "source": [
    "### Running Jupyter Notebooks\n",
    "\n",
    "There is a menu bar at the top of the Jupyter notebook. (Don't confuse this menu bar with the menu bar of your web browser!) From this Jupyter menu bar we can run our code, display our text, save our notebook, and download a pdf or other format of our notebook. \n",
    "\n",
    "Clicking on **File** in the menubar lets us save the notebook and build a checkpoint (you can also use the picture of a floppy disk just below **File** to save your notebook). **Revert to Checkpoint** lets you go back to a previously saved version of the notebook (useful in case you lose track of code changes and want to go back to a previous working version).\n",
    "\n",
    "**Print Preview** lets you view the notebook as it would look when printed. You can then hit `control + p` and select **Save to PDF** or **Adobe PDF** to save a pdf copy of the notebook.\n",
    "\n",
    "You can also use the **Download As > PDF via HTML** command to export a pdf copy of the notebook.\n",
    "\n",
    "**Note: make sure to save your notebooks often to preserve your work in case of connectivity loss!**"
   ]
  },
  {
   "cell_type": "markdown",
   "metadata": {},
   "source": [
    "### Editing Cells\n",
    " \n",
    "This and all notebooks are comprised of a linear collection of boxes, called _cells_. For the sake of this class, we'll be working with two types of cells: *Markdown* cells for text, and *Code* cells for writing and executing **R** code. \n",
    "\n",
    "Markdown cells support plain text as well as markdown code, html, and LaTeX math mode. For this class, plain text answers are totally fine. If you want to dive into Markdown formatting, [this cheat sheet](https://github.com/adam-p/markdown-here/wiki/Markdown-Cheatsheet) has information on formatting text, building tables, and adding html. If you want to add pretty math equations, see [this LaTeX Math Mode Guide](https://www.overleaf.com/learn/latex/Mathematical_expressions). \n",
    "\n",
    "Select a cell by right clicking on it. A grey box with a blue bar to the left will appear around the cell, like so:\n",
    "\n",
    "<img src=\"images/command_mode.png\" width=\"800\" />\n",
    "\n",
    "This means you are in __command mode__. In command mode you can see the cell type (whether it is markdown for text or code for __R__ commands) in the toolbar but can't edit the content of the cell. \n",
    "\n",
    "To edit the content of cells, double click on the cell to enter __edit mode__. When in edit mode, the box surrounding the cell will turn green - as will the left margin. \n",
    "\n",
    "A text (markdown) cell in edit mode should look like this:\n",
    "\n",
    "<img src=\"images/edit_mode_text.png\" width=\"800\" />\n",
    "\n",
    "and a code (R) cell will look like this:\n",
    "\n",
    "<img src=\"images/edit_mode_code.png\" width=\"800\" />\n",
    "\n",
    "Use edit mode to type in all your text and code. When you are done with your paragraph or want to try out your code, it's time to run the cell.\n"
   ]
  },
  {
   "cell_type": "markdown",
   "metadata": {},
   "source": [
    "Below this line is a (mostly) blank text cell. Try selecting this cell by right clicking on it, then double click to enter edit mode. Replace the text with something.\n"
   ]
  },
  {
   "cell_type": "markdown",
   "metadata": {},
   "source": [
    "A (mostly) blank text cell"
   ]
  },
  {
   "cell_type": "markdown",
   "metadata": {
    "deletable": false,
    "editable": false
   },
   "source": [
    "*Note: sometimes on Problem Sets or in Section you will encounter cells that are protected and can't be edited (like this one). Don't worry, we've done this to make sure that question prompts don't get accidentally deleted. Below these you'll find text/code cells that you can edit.*"
   ]
  },
  {
   "cell_type": "markdown",
   "metadata": {},
   "source": [
    "### Running Cells\n",
    "\n",
    "When you are ready to run a cell (i.e. done typing your text in a cell and want to display it in formatted mode, or want to run **R** code), hit `shift` + `enter`, `control` + `enter`, or hit `Run` in the toolbar.\n",
    "\n",
    "Running a text cell will exit edit mode, format the cell's text, and select the next cell down. \n",
    "\n",
    "You can also run a cell from edit or command mode - try this by right clicking on the above cell that you were typing in, and hitting `shift` + `enter`.\n",
    "\n",
    "We'll see later that running code cells will oftentimes add output to our notebook. This will be how we follow what we're doing in **R** and how we'll get our output.\n",
    "\n",
    "You can reopen a cell you've run just as before by double clicking on it, letting you modify your code/text and rerun it."
   ]
  },
  {
   "cell_type": "markdown",
   "metadata": {},
   "source": [
    "## R\n",
    "\n",
    "**R** is our programming language for statistical programming. It is open source and free, handles lots of different types of data, and has tons of cool packages that allow it to tackle all sorts of tasks (regression analysis, plotting, working with spatial data, web scraping, creating applications, machine learning to name a few). It uses the exact same language and syntax regardless of whether we're in a Jupyter Notebook, in RStudio through Datahub, or working with Rstudio offline on our own computers."
   ]
  },
  {
   "cell_type": "markdown",
   "metadata": {},
   "source": [
    "### R in Code Cells\n",
    "\n",
    "Thanks to Datahub, R is running in the background of our Jupyter notebooks. As a result, we can type R code into code cells, run the cell, and get results all in one place. Code cells are easy to tell apart from text cells as they have `In [ ]:` to the left, and when selected you'll see the toolbar switch to *Code*. For now we'll tend to add a line or two of code to a cell at a time as that lets us break things up and makes it easier to debug errors, but you can theoretically add as many lines of code to a single cell as you'd like.\n",
    "\n",
    "Let's try it: select the code cell below, type `2 + 2`, and run the cell."
   ]
  },
  {
   "cell_type": "code",
   "execution_count": null,
   "metadata": {
    "collapsed": true
   },
   "outputs": [],
   "source": [
    "2+2"
   ]
  },
  {
   "cell_type": "markdown",
   "metadata": {},
   "source": [
    "**R** took our code as input, and spit out the result - in this case the value of our summation, 4. \n",
    "\n",
    "**Important Note:** before you save a homework pdf to submit, make sure you've run all your code cells! You won't get any output if you don't run a code cell, and for full credit we need to see the output (unless we specify otherwise). \n",
    "\n",
    "An easy way to run all the cells at once is by going to the menubar and using **Cell > Run All**."
   ]
  },
  {
   "cell_type": "markdown",
   "metadata": {},
   "source": [
    "### R Basics\n",
    "\n",
    "*Note of caution:* **R** is a stickler for typos. Precise syntax is essential. Commas, parentheses, brackets, and other punctuation must be in the correct place. R is also case-sensitive, so upper and lower case matter! Any deviation from required syntax will lead your code to either fail or  produce unintended (and incorrect) results. You will spare yourself a lot of aggravation if you take the time to go slowly and carefully as you’re getting started until you have gotten more familiar with the commands and their required syntax."
   ]
  },
  {
   "cell_type": "markdown",
   "metadata": {},
   "source": [
    "### Packages, Libraries, and Paths \n",
    "\n",
    "One of R’s best features is that it’s based on packages. Base R already loads some general packages when you boot it up, but loading other packages makes R incredibly powerful. Nearly any time you do any econometrics in R, you’ll be using functions contained within a package. \n",
    "\n",
    "Every time we want to use a function contained in a package, we must first *call* that package using the `library()` function. For example, if we want to use the `read_dta()` function to load a dta file, we can load the **haven** package by typing and running the command `library(haven)` in the below cell:"
   ]
  },
  {
   "cell_type": "code",
   "execution_count": null,
   "metadata": {
    "collapsed": true
   },
   "outputs": [],
   "source": []
  },
  {
   "cell_type": "markdown",
   "metadata": {},
   "source": [
    "The package was loaded correctly in the background. Since there was no output to display nor an error to show, we received no output. We can confirm that the package was loaded correctly by running the `sessionInfo()` function below (note the capital I!). "
   ]
  },
  {
   "cell_type": "code",
   "execution_count": null,
   "metadata": {
    "collapsed": true
   },
   "outputs": [],
   "source": []
  },
  {
   "cell_type": "markdown",
   "metadata": {},
   "source": [
    "This shows us information about our **R** version, local settings, active packages, ones we've manually loaded, and others that are loaded through our system. \n",
    "\n",
    "If we had written the package name wrong, and instead tried to load a nonexistent package \"hevon\", we would receive an error in the notebook. Try to incorrectly load the package by running `library(hevon)` in the below code cell."
   ]
  },
  {
   "cell_type": "code",
   "execution_count": null,
   "metadata": {
    "collapsed": true
   },
   "outputs": [],
   "source": []
  },
  {
   "cell_type": "markdown",
   "metadata": {},
   "source": [
    "### Paths\n",
    "\n",
    "When we start loading in data files we will need to account for the location of files in our file paths. **R** handles paths by basing itself in the *working directory*, and all file paths are defined relative to that working directory.\n",
    "\n",
    "We can view the working directory by using the `getwd()` function."
   ]
  },
  {
   "cell_type": "code",
   "execution_count": 1,
   "metadata": {
    "collapsed": false
   },
   "outputs": [
    {
     "data": {
      "text/html": [
       "'/home/jovyan/ECON-140-FA22-RTG'"
      ],
      "text/latex": [
       "'/home/jovyan/ECON-140-FA22-RTG'"
      ],
      "text/markdown": [
       "'/home/jovyan/ECON-140-FA22-RTG'"
      ],
      "text/plain": [
       "[1] \"/home/jovyan/ECON-140-FA22-RTG\""
      ]
     },
     "metadata": {},
     "output_type": "display_data"
    }
   ],
   "source": []
  },
  {
   "cell_type": "markdown",
   "metadata": {},
   "source": [
    "The above path is the exact folder you were linked to from bCourses. When calling files, we will start our paths in this folder. If the file is located in the same folder as our Jupyter notebook (i.e. the working directory), we do not need to include all the \"/home/rstudio...\" path, and instead can just reference the file by name. If the file we want to reference (let's call it *enviro.csv*) is in a subfolder (say called *Data*), we will need to include that subfolder in our path: \"Data/enviro.csv\"\n",
    "\n",
    "We'll deal more with working directories once we move into **RStudio** - for now all the files we need will be in the same folder as our template, so we can call the files directly by name without worrying about complicated folder structures."
   ]
  },
  {
   "cell_type": "markdown",
   "metadata": {
    "deletable": false
   },
   "source": [
    "### Loading Files in R\n",
    "\n",
    "We're going to read in our data, but before we can read in our dataset we should refresh ourselves on what the file is called. To do this, we can use the `list.files()` command below to see all the files in our current working directory."
   ]
  },
  {
   "cell_type": "code",
   "execution_count": null,
   "metadata": {
    "collapsed": true,
    "deletable": false
   },
   "outputs": [],
   "source": []
  },
  {
   "cell_type": "markdown",
   "metadata": {
    "deletable": false
   },
   "source": [
    "The file we're interested in first is the **autos.dta** file. Since this is a stata-formatted file (with the .dta extension), we'll need to use the `read_dta()` function in the **haven** package (which we already loaded above). To use the function we need to include the filename with quotes in the parentheses: `read_dta(\"autos.dta\")`. The quotes tell R that whatever is contained in the quotes is a character string, and not the name of an object saved in memory.\n",
    "\n",
    "Here we run into an important feature about **R**: when we load a dataset or want to store an object to memory (such that we can do things with it later), we have to *assign it to a name*. To do this, we use the syntax\n",
    "\n",
    "` name <- function(arguments)`\n",
    "\n",
    "The arrow tells us we are assigning the output of the function (given the function's arguments/inputs) to *name*. The arrow is read as \"gets,\" so if we wanted to store a vector of integers between 1 through 10 as `integers` using the command\n",
    "\n",
    "` integers <- 1:10`\n",
    "\n",
    "We read it as \"integers 'gets' 1 through 10.\"\n",
    "\n",
    "Okay, let's load in the **autos** data and save it to the object `carsdata` by running `carsdata <- read_dta(\"autos.dta\")`:"
   ]
  },
  {
   "cell_type": "code",
   "execution_count": null,
   "metadata": {
    "collapsed": true,
    "deletable": false
   },
   "outputs": [],
   "source": []
  },
  {
   "cell_type": "markdown",
   "metadata": {
    "deletable": false
   },
   "source": [
    "The dataset has now been stored to memory under the name `carsdata`. R is pretty flexible in terms of what we could have named the dataset - you can use names that include periods (`cars.data`) or underscores (`cars_data`) or capital letters and numbers, or even all the above (`CaRs_D.aTa2020`). Best practice is to keep things simple and name them in a way that conveys what the object is (hence calling our automobile data `carsdata`). \n",
    "\n",
    "\n",
    "To view the data, we could just type the name of the dataset into a code cell and hit run... but be aware that this will print the **entire** dataset. This isn't bad if you have a small dataset, but soon we'll be working with large datasets with thousands of rows. It's a real pain to have to scroll through thousands of rows of data (and takes up whole pages in our final pdf!), but fortunately there's an easy way to view only a few lines of the dataset. We can use the `head()` command to see only a few observations. Try using `head(carsdata)` below to view the top few rows of the data we just loaded. \n",
    "\n",
    "*Note: by default, head returns the first 6 rows of data, but you can get more/less rows by adding a comma and including the optional argument `n = ` with the number of rows you want to view - i.e. `head(carsdata, n = 12)`. You can also use `tail()` in the same way to view the last few rows of the data.*"
   ]
  },
  {
   "cell_type": "code",
   "execution_count": null,
   "metadata": {
    "collapsed": true,
    "deletable": false
   },
   "outputs": [],
   "source": []
  },
  {
   "cell_type": "markdown",
   "metadata": {
    "deletable": false
   },
   "source": [
    "The very first bit of information tells us the format of the data (data frame). The first row tells us the variable names, and the second row tells us the variable type (character string or type of numeric variable). Each row in the table is a different observation - here giving us info on a car make and model, its price, mpg, and other characteristics.\n",
    "\n",
    "If we want to see just the names of the variables, we can use the aptly-named `names()` function on our data:"
   ]
  },
  {
   "cell_type": "code",
   "execution_count": null,
   "metadata": {
    "collapsed": true
   },
   "outputs": [],
   "source": []
  },
  {
   "cell_type": "markdown",
   "metadata": {
    "deletable": false
   },
   "source": [
    "If we want to interact with just one column of our data frame, we can refer to it using the `$` command. This is useful if we're interested in, say, obtaining the mean of only miles per gallon (*mpg*) for the cars in our sample with the `mean()` function.\n",
    "\n",
    "We can also combine this with `head()` to view just the first six rows of the column *mpg*.\n",
    "\n",
    "Try entering this:\n",
    "\n",
    "`head(carsdata$mpg)\n",
    " mean_mpg <- mean(carsdata$mpg)`\n",
    "\n",
    "below and running the code cell to see these in action. (It's OK and often beneficial to split lines in Jupyter, so you can read the code more clearly.)"
   ]
  },
  {
   "cell_type": "code",
   "execution_count": null,
   "metadata": {
    "collapsed": true,
    "deletable": false
   },
   "outputs": [],
   "source": []
  },
  {
   "cell_type": "markdown",
   "metadata": {},
   "source": [
    "Note that we don't see any output from our mean calculation because we saved it to memory as the object `mean_mpg`. In order to view its value, we can print the object just by its name. Type `mean_mpg` and run the code cell below."
   ]
  },
  {
   "cell_type": "code",
   "execution_count": null,
   "metadata": {
    "collapsed": true
   },
   "outputs": [],
   "source": []
  },
  {
   "cell_type": "markdown",
   "metadata": {},
   "source": [
    "#### Other File Formats\n",
    "In this class we'll primarily use `.dta` and `.csv` files. When we load a .csv file, we'll use the `read.csv()` command, once again using quotation marks around the file name in the function and assigning it to a name. \n",
    "\n",
    "For example, we could load the csv version of the automobile data that's in our folder with the name *carsdata* using `carsdata2 <- read.csv(\"autos.csv\")`. Note the use of a period in the function name versus the underscore when loading dta files!"
   ]
  },
  {
   "cell_type": "markdown",
   "metadata": {
    "deletable": false
   },
   "source": [
    "### Manipulating Data Frames\n",
    "\n",
    "We have a lot of flexibility to select certain observations, certain variables, or certain values within our data frame. We can also perform a lot of operations to variables - change their values or create new variables. One of the packages we'll be using for this is the **tidyverse** package. It's actually a collection of packages designed for data science, and includes a bunch of useful functions that we'll use throughout this term. \n",
    "\n",
    "To start, let's load **tidyverse** and use it to perform transformations on our dataset."
   ]
  },
  {
   "cell_type": "code",
   "execution_count": null,
   "metadata": {
    "collapsed": true,
    "deletable": false
   },
   "outputs": [],
   "source": [
    "library(tidyverse)\n",
    "\n",
    "carsdata_low_price <- filter(carsdata, price <= 10000)\n",
    "head(carsdata_low_price)\n",
    "\n",
    "carsdata_low_price <- arrange(carsdata_low_price, desc(price))\n",
    "head(carsdata_low_price)\n",
    "\n",
    "carsdata_low_price <- select(carsdata_low_price, make, price, mpg, weight)\n",
    "head(carsdata_low_price)"
   ]
  },
  {
   "cell_type": "markdown",
   "metadata": {
    "deletable": false
   },
   "source": [
    "Phew, that was a lot of stuff! Let's back up and work through it.\n",
    "\n",
    "The first thing we did after loading the **tidyverse** package was to `filter()` our data frame. This function has two main arguments. The first is the name of the object to filter (we're using our carsdata), and the second is the condition on which to filter. Here we are selecting only the observations with price less than or equal to $10,000, and dropping all rows that do not meet this condition in the price variable. We save this filtered data to the new `carsdata_low_price` object. Note that you could overwrite the existing `carsdata` with the filtered version by just assigning it to that name once again.\n",
    "\n",
    "Next, we arrange the new `carsdata_low_price` data frame in descending order of price using the `arrange()` function and overwrite our `carsdata_low_price` with this new arrangement. \n",
    "\n",
    "You can arrange in ascending order by omitting the `desc()` around the variable of interest (i.e. `arrange(carsdata_low_price, price)`) or arrange on several variables by listing them in order (i.e. `arrange(carsdata_low_price, price, weight)`).\n",
    "\n",
    "Finally, we use `select()` to keep only a few variables of interest - here we choose to keep just vehicle make, price, miles per gallon, and weight - and once again overwrite our `carsdata_low_price` object.\n",
    "\n",
    "Now we'll create new versions of our variables using the `mutate()` command. `mutate()` is a workhorse function that lets us alter existing variables and add new variables to our dataframe. Later on we'll learn a technique that will simplify the syntax for mutate and make it even easier to do multiple transformations all in a row.\n",
    "\n",
    "If I wanted to rescale price to be in units of $1,000, we can do this by typing"
   ]
  },
  {
   "cell_type": "code",
   "execution_count": null,
   "metadata": {
    "collapsed": true
   },
   "outputs": [],
   "source": [
    "carsdata_low_price <- mutate(carsdata_low_price, price_thousand = price/1000)\n",
    "head(carsdata_low_price)"
   ]
  },
  {
   "cell_type": "markdown",
   "metadata": {},
   "source": [
    "Here we are adding the variable `price_thousand` to the dataframe `carsdata_low_price` that measures price in thousands of dollars. R uses most basic math symbols in the ways you would expect: `+`, `-`, `*`,`\\`, and `^` (be careful with order of operations and use parantheses when necessary).\n",
    "\n",
    "We can also create new variables that are interactions of existing variables. For example, if we wanted to know the ratio of price (in dollars) to weight (in pounds), we could obtain this with `mutate(carsdata_low_price, price_per_lb = price/weight)`."
   ]
  },
  {
   "cell_type": "markdown",
   "metadata": {},
   "source": [
    "### Summarizing Variables\n",
    "\n",
    "There are a number of different ways for us to obtain summary information about our variables in **R**. While we saw earlier one way to directly get the mean of a variable, we could instead have used the `summarize` command, which lets us obtain a number of different statistics - either one at a time, or multiple together"
   ]
  },
  {
   "cell_type": "code",
   "execution_count": null,
   "metadata": {
    "collapsed": true
   },
   "outputs": [],
   "source": [
    "avg_mpg <- summarize(carsdata_low_price, mean(mpg))\n",
    "avg_mpg\n",
    "\n",
    "#multi_stats <- summarize(carsdata_low_price, max(mpg), min(price), n())\n",
    "multi_stats <- summarize(carsdata_low_price, mean(price), sd(price), n())\n",
    "multi_stats"
   ]
  },
  {
   "cell_type": "markdown",
   "metadata": {},
   "source": [
    "`avg_mpg` gives us the average miles per gallon rating for the `carsdata_low_price` data, while `multi_stats` contains the maximum mpg, the minimum price, and the number of rows in the dataframe - all in its own dataframe.\n",
    "\n",
    "`summarize()` is useful because we can use it to select specific summary statistics we're interested in or to create truly custom summary stats. \n",
    "\n",
    "If instead we just wanted a bunch of basic stats, we can use the `summary()` command. You can use this on the dataframe to get info on all the variables, or on a specific variable (recall the use of `$` we talked about earlier).\n",
    "\n"
   ]
  },
  {
   "cell_type": "code",
   "execution_count": null,
   "metadata": {
    "collapsed": true
   },
   "outputs": [],
   "source": [
    "summary(carsdata_low_price)"
   ]
  },
  {
   "cell_type": "code",
   "execution_count": null,
   "metadata": {
    "collapsed": true
   },
   "outputs": [],
   "source": [
    "summary(carsdata_low_price$price)"
   ]
  },
  {
   "cell_type": "markdown",
   "metadata": {},
   "source": [
    "What if we want to get custom summary statistics across a set of variables? In that case we can use the `across()` function within `summarise()` to save a few lines of code.\n",
    "\n",
    "In place of our usual summary statistics equations, we now add in `across()` which has two arguments. The first, `.cols`, is the set of columns we want to summarise across (in this case, *price*, *weight*, and *gear_ratio*). The second, `.fns`, is the list of functions we want to use for summary statistics. We specify these functions within a `list` object, where we first provide a name of a summary stat (i.e. \"avg\") and set that equal to the name of the function we want to use. In this case, we want to create a summary stat called \"avg\" that uses `mean()`, so we can write `avg = mean`. \n",
    "\n",
    "Similarly, `SD = sd` will add columns to our summary stats table for each of our three named variables where we use the `sd()` function to calculate their means."
   ]
  },
  {
   "cell_type": "code",
   "execution_count": null,
   "metadata": {
    "collapsed": true
   },
   "outputs": [],
   "source": [
    "summarise(carsdata, \n",
    "          across(.cols = c(price, weight, gear_ratio),\n",
    "                 .fns = list(avg = mean, SD = sd))\n",
    "          )"
   ]
  },
  {
   "cell_type": "markdown",
   "metadata": {},
   "source": [
    "And we can see that **R** 1) organizes the summary stats first by the variable and then by the summary function, and 2) appends the summary stat name from our list to the end of the variable's name.\n",
    "\n",
    "This gives us a convenient way to produce a larger set of summary statistics for a lot of variables at once, without having to manually enter a separate line over and over again for each new variable!\n",
    "\n",
    "One challenge is that, if we summarise across a lot of variables, our notebook might hide some of the columns from view. To get around this, you can either split up the table into multiple tables with fewer variables each, or put the summarise call inside of `t()` to transpose it and flip it into a single column."
   ]
  },
  {
   "cell_type": "markdown",
   "metadata": {},
   "source": [
    "### Plotting in R\n",
    "\n",
    "Today we're going to learn how to use the basic plot function in R. In the coming weeks we're going to learn **ggplot2**, a fantastic graphics package that is so great at producing graphics that it basically justifies the use of R all on its own. It's syntax is a little bit more involved though, so we're going to start off with some simpler functions.\n",
    "\n",
    "First, we can generate a histogram of vehicle prices using the `hist()` command."
   ]
  },
  {
   "cell_type": "code",
   "execution_count": null,
   "metadata": {
    "collapsed": true
   },
   "outputs": [],
   "source": [
    "hist(carsdata_low_price$mpg,\n",
    "    main = \"Fuel Economy Distribution\",\n",
    "    xlab = \"Miles per Gallon\")"
   ]
  },
  {
   "cell_type": "markdown",
   "metadata": {},
   "source": [
    "The first argument to `hist()` is the variable to plot, `main` is the main title, and `xlab` is the text label for the x-axis. \n",
    "\n",
    "We can also add a blue line of width three at the average mpg by running the `abline()` function right after our histogram:"
   ]
  },
  {
   "cell_type": "code",
   "execution_count": null,
   "metadata": {
    "collapsed": true
   },
   "outputs": [],
   "source": [
    "hist(carsdata_low_price$mpg,\n",
    "    main = \"Fuel Economy Distribution\",\n",
    "    xlab = \"Miles per Gallon\")\n",
    "abline(v = avg_mpg, col = \"blue\", lwd = 3)"
   ]
  },
  {
   "cell_type": "markdown",
   "metadata": {},
   "source": [
    "We can also make a scatterplot of vehicle price and fuel efficiency using the `plot()` function."
   ]
  },
  {
   "cell_type": "code",
   "execution_count": null,
   "metadata": {
    "collapsed": true
   },
   "outputs": [],
   "source": [
    "plot(carsdata_low_price$mpg, carsdata_low_price$price,\n",
    "    main = \"Price vs. Fuel Efficiency\",\n",
    "    xlab = \"Miles per Gallon\",\n",
    "    ylab = \"Price ($)\")"
   ]
  },
  {
   "cell_type": "markdown",
   "metadata": {},
   "source": [
    "Since a scatterplot requires two variables, the first argument to `plot()` is the x variable and the second argument the y variable. `ylab` is the text label for the y-axis. \n",
    "\n",
    "There seems to be a negative correlation here: the higher MPG, the lower the price. Is this potentially a luxury SUV effect? Low willingness to pay for fuel efficiency? "
   ]
  },
  {
   "cell_type": "markdown",
   "metadata": {},
   "source": [
    "### Regression\n",
    "\n",
    "Running regressions with **R** is quite easy. Later in the course we'll get into some more complex regression commands, but for now we'll stick with simple linear regression using the `lm()` command. \n",
    "\n",
    "First, let's take a step back and see how mpg and price are correlated in the data. We can obtain correlations of two variables using the `cor()` function. "
   ]
  },
  {
   "cell_type": "code",
   "execution_count": null,
   "metadata": {
    "collapsed": true
   },
   "outputs": [],
   "source": [
    "mpg_weight_cor <- cor(carsdata_low_price$mpg, carsdata_low_price$price)\n",
    "mpg_weight_cor"
   ]
  },
  {
   "cell_type": "markdown",
   "metadata": {},
   "source": [
    "What if we used a simple OLS regression instead? With regression functions like `lm()`, the first argument is the regression formula. Here we specify `mpg ~ weight`, so we're telling R to describe *mpg* as a function of *weight*. In practice, this is estimating the equation\n",
    "\n",
    "$$ mpg_i = \\beta_0 + \\beta_1 weight_i + \\epsilon_i $$ \n",
    "\n",
    "where *mpg* is the dependent variable and *weight* the independent variable/covariate. $\\beta_0$ and $\\beta_1$ are our intercept and slope coefficients, respectively - we'll spend a bunch of time learning about and interpreting these coefficients throughout the class. $\\epsilon_i$ is an error term.\n",
    "\n",
    "The second argument is the name of the dataset."
   ]
  },
  {
   "cell_type": "code",
   "execution_count": null,
   "metadata": {
    "collapsed": true
   },
   "outputs": [],
   "source": [
    "mpg_weight_regression <- lm(mpg ~ weight, data = carsdata_low_price)\n",
    "mpg_weight_regression"
   ]
  },
  {
   "cell_type": "markdown",
   "metadata": {},
   "source": [
    "`mpg_weight_regression` is now an lm class object, which contains our estimated regression coefficients as well as a bunch of other useful stuff, most notably residuals and fitted values. If we use the `summary()` function on an lm object, we get back a lot of information:"
   ]
  },
  {
   "cell_type": "code",
   "execution_count": null,
   "metadata": {
    "collapsed": true
   },
   "outputs": [],
   "source": [
    "summary(mpg_weight_regression)"
   ]
  },
  {
   "cell_type": "markdown",
   "metadata": {},
   "source": [
    "We can also obtain the fitted values and residuals by calling them with `name$fitted.values` and `name$residuals`, respectively. Use the below code to look at the first few fitted values and the average value of the regression residuals."
   ]
  },
  {
   "cell_type": "code",
   "execution_count": null,
   "metadata": {
    "collapsed": true
   },
   "outputs": [],
   "source": [
    "head(mpg_weight_regression$fitted.values)\n",
    "mean(mpg_weight_regression$residuals)"
   ]
  },
  {
   "cell_type": "markdown",
   "metadata": {},
   "source": [
    "## Help with R\n",
    "\n",
    "\n",
    "Google is your best friend. While I will introduce you to some R commands during section, there may be times where you are having trouble with a function's syntax or need a new function to perform a certain task. Asking Google, using the [R Documentation site](https://www.rdocumentation.org/) as well as [R Project Package Reference Manuals/Vignettes](https://cran.r-project.org/) for help with functions and syntax will get you quite far. You can also load the documentation for a function by typing `?function()` into a code cell. For example, try typing `?select()` into the below code cell:"
   ]
  },
  {
   "cell_type": "code",
   "execution_count": null,
   "metadata": {
    "collapsed": true
   },
   "outputs": [],
   "source": [
    "?select()"
   ]
  },
  {
   "cell_type": "markdown",
   "metadata": {},
   "source": [
    "If something is unclear, searching for the R task and perusing answers on [StackExchange](https://stackexchange.com/) can be a helpful resource. We will try our best to make sure homework assignments mention the functions/packages needed for a new task, and that we've at least seen them in section or lecture. "
   ]
  },
  {
   "cell_type": "markdown",
   "metadata": {},
   "source": [
    "## Closing Notebooks and Shutting Down your Server\n",
    "\n",
    "When you are all done with your notebook, make sure to shut it down. Shutting down notebooks will prevent save conflicts and reduce the likelihood of any server issues.\n",
    "\n",
    "After saving, shut down your active notebook by going to **File > Close and Halt**. This will close the notebook tab.\n",
    "\n",
    "To shut down your entire server, from the directory click on **Control Panel** in the upper right corner \n",
    "\n",
    "Then, select **Stop My Server** followed by **Logout**."
   ]
  },
  {
   "cell_type": "markdown",
   "metadata": {},
   "source": [
    "<div style=\"text-align: right\"> <span style=\"font-family:Papyrus; \">And they lived happily ever after. The End.</span></div>"
   ]
  }
 ],
 "metadata": {
  "@webio": {
   "lastCommId": null,
   "lastKernelId": null
  },
  "kernelspec": {
   "display_name": "R",
   "language": "R",
   "name": "ir"
  },
  "language_info": {
   "codemirror_mode": "r",
   "file_extension": ".r",
   "mimetype": "text/x-r-source",
   "name": "R",
   "pygments_lexer": "r",
   "version": "4.2.1"
  },
  "toc": {
   "base_numbering": 1,
   "nav_menu": {},
   "number_sections": true,
   "sideBar": true,
   "skip_h1_title": false,
   "title_cell": "Table of Contents",
   "title_sidebar": "Contents",
   "toc_cell": false,
   "toc_position": {},
   "toc_section_display": true,
   "toc_window_display": false
  },
  "varInspector": {
   "cols": {
    "lenName": 16,
    "lenType": 16,
    "lenVar": 40
   },
   "kernels_config": {
    "python": {
     "delete_cmd_postfix": "",
     "delete_cmd_prefix": "del ",
     "library": "var_list.py",
     "varRefreshCmd": "print(var_dic_list())"
    },
    "r": {
     "delete_cmd_postfix": ") ",
     "delete_cmd_prefix": "rm(",
     "library": "var_list.r",
     "varRefreshCmd": "cat(var_dic_list()) "
    }
   },
   "types_to_exclude": [
    "module",
    "function",
    "builtin_function_or_method",
    "instance",
    "_Feature"
   ],
   "window_display": false
  }
 },
 "nbformat": 4,
 "nbformat_minor": 4
}
