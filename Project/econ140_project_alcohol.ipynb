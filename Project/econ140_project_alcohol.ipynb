{
 "cells": [
  {
   "cell_type": "markdown",
   "metadata": {},
   "source": [
    "<img src=\"images/econ140R_logo.png\" width=\"200\" />"
   ]
  },
  {
   "cell_type": "code",
   "execution_count": 2,
   "metadata": {},
   "outputs": [
    {
     "name": "stderr",
     "output_type": "stream",
     "text": [
      "Installing package into ‘/opt/r’\n",
      "(as ‘lib’ is unspecified)\n",
      "\n"
     ]
    }
   ],
   "source": [
    "install.packages(\"wooldridge\")"
   ]
  },
  {
   "cell_type": "code",
   "execution_count": 8,
   "metadata": {},
   "outputs": [
    {
     "name": "stderr",
     "output_type": "stream",
     "text": [
      "Loading required package: carData\n",
      "\n",
      "\n",
      "Attaching package: ‘car’\n",
      "\n",
      "\n",
      "The following object is masked from ‘package:purrr’:\n",
      "\n",
      "    some\n",
      "\n",
      "\n",
      "The following object is masked from ‘package:dplyr’:\n",
      "\n",
      "    recode\n",
      "\n",
      "\n"
     ]
    }
   ],
   "source": [
    "library(\"wooldridge\")\n",
    "library(dplyr)\n",
    "library(tidyverse)\n",
    "library(haven)\n",
    "library(foreign)\n",
    "library(car)"
   ]
  },
  {
   "cell_type": "code",
   "execution_count": 4,
   "metadata": {},
   "outputs": [],
   "source": [
    "data(\"alcohol\")"
   ]
  },
  {
   "cell_type": "code",
   "execution_count": 5,
   "metadata": {},
   "outputs": [
    {
     "data": {
      "text/html": [
       "<table class=\"dataframe\">\n",
       "<caption>A data.frame: 6 × 33</caption>\n",
       "<thead>\n",
       "\t<tr><th></th><th scope=col>abuse</th><th scope=col>status</th><th scope=col>unemrate</th><th scope=col>age</th><th scope=col>educ</th><th scope=col>married</th><th scope=col>famsize</th><th scope=col>white</th><th scope=col>exhealth</th><th scope=col>vghealth</th><th scope=col>⋯</th><th scope=col>mothalc</th><th scope=col>fathalc</th><th scope=col>livealc</th><th scope=col>inwf</th><th scope=col>employ</th><th scope=col>agesq</th><th scope=col>beertaxsq</th><th scope=col>cigtaxsq</th><th scope=col>ethanolsq</th><th scope=col>educsq</th></tr>\n",
       "\t<tr><th></th><th scope=col>&lt;int&gt;</th><th scope=col>&lt;int&gt;</th><th scope=col>&lt;dbl&gt;</th><th scope=col>&lt;int&gt;</th><th scope=col>&lt;int&gt;</th><th scope=col>&lt;int&gt;</th><th scope=col>&lt;int&gt;</th><th scope=col>&lt;int&gt;</th><th scope=col>&lt;int&gt;</th><th scope=col>&lt;int&gt;</th><th scope=col>⋯</th><th scope=col>&lt;int&gt;</th><th scope=col>&lt;int&gt;</th><th scope=col>&lt;int&gt;</th><th scope=col>&lt;int&gt;</th><th scope=col>&lt;int&gt;</th><th scope=col>&lt;int&gt;</th><th scope=col>&lt;dbl&gt;</th><th scope=col>&lt;dbl&gt;</th><th scope=col>&lt;dbl&gt;</th><th scope=col>&lt;int&gt;</th></tr>\n",
       "</thead>\n",
       "<tbody>\n",
       "\t<tr><th scope=row>1</th><td>1</td><td>1</td><td>4.0</td><td>50</td><td> 4</td><td>1</td><td>1</td><td>1</td><td>0</td><td>0</td><td>⋯</td><td>0</td><td>0</td><td>0</td><td>0</td><td>0</td><td>2500</td><td>0.111556</td><td>1444</td><td>4.159397</td><td> 16</td></tr>\n",
       "\t<tr><th scope=row>2</th><td>0</td><td>3</td><td>4.0</td><td>37</td><td>12</td><td>1</td><td>5</td><td>1</td><td>0</td><td>0</td><td>⋯</td><td>0</td><td>0</td><td>0</td><td>1</td><td>1</td><td>1369</td><td>0.111556</td><td>1444</td><td>4.159397</td><td>144</td></tr>\n",
       "\t<tr><th scope=row>3</th><td>0</td><td>3</td><td>4.0</td><td>53</td><td> 9</td><td>1</td><td>3</td><td>1</td><td>1</td><td>0</td><td>⋯</td><td>0</td><td>0</td><td>0</td><td>1</td><td>1</td><td>2809</td><td>0.111556</td><td>1444</td><td>4.159397</td><td> 81</td></tr>\n",
       "\t<tr><th scope=row>4</th><td>0</td><td>3</td><td>3.3</td><td>59</td><td>11</td><td>1</td><td>1</td><td>1</td><td>1</td><td>0</td><td>⋯</td><td>0</td><td>0</td><td>0</td><td>1</td><td>1</td><td>3481</td><td>0.057600</td><td> 676</td><td>6.002402</td><td>121</td></tr>\n",
       "\t<tr><th scope=row>5</th><td>0</td><td>3</td><td>3.3</td><td>43</td><td>10</td><td>1</td><td>1</td><td>1</td><td>1</td><td>0</td><td>⋯</td><td>0</td><td>1</td><td>1</td><td>1</td><td>1</td><td>1849</td><td>0.057600</td><td> 676</td><td>6.002402</td><td>100</td></tr>\n",
       "\t<tr><th scope=row>6</th><td>0</td><td>3</td><td>3.3</td><td>38</td><td>10</td><td>1</td><td>1</td><td>1</td><td>1</td><td>0</td><td>⋯</td><td>0</td><td>0</td><td>0</td><td>1</td><td>1</td><td>1444</td><td>0.057600</td><td> 676</td><td>6.002402</td><td>100</td></tr>\n",
       "</tbody>\n",
       "</table>\n"
      ],
      "text/latex": [
       "A data.frame: 6 × 33\n",
       "\\begin{tabular}{r|lllllllllllllllllllll}\n",
       "  & abuse & status & unemrate & age & educ & married & famsize & white & exhealth & vghealth & ⋯ & mothalc & fathalc & livealc & inwf & employ & agesq & beertaxsq & cigtaxsq & ethanolsq & educsq\\\\\n",
       "  & <int> & <int> & <dbl> & <int> & <int> & <int> & <int> & <int> & <int> & <int> & ⋯ & <int> & <int> & <int> & <int> & <int> & <int> & <dbl> & <dbl> & <dbl> & <int>\\\\\n",
       "\\hline\n",
       "\t1 & 1 & 1 & 4.0 & 50 &  4 & 1 & 1 & 1 & 0 & 0 & ⋯ & 0 & 0 & 0 & 0 & 0 & 2500 & 0.111556 & 1444 & 4.159397 &  16\\\\\n",
       "\t2 & 0 & 3 & 4.0 & 37 & 12 & 1 & 5 & 1 & 0 & 0 & ⋯ & 0 & 0 & 0 & 1 & 1 & 1369 & 0.111556 & 1444 & 4.159397 & 144\\\\\n",
       "\t3 & 0 & 3 & 4.0 & 53 &  9 & 1 & 3 & 1 & 1 & 0 & ⋯ & 0 & 0 & 0 & 1 & 1 & 2809 & 0.111556 & 1444 & 4.159397 &  81\\\\\n",
       "\t4 & 0 & 3 & 3.3 & 59 & 11 & 1 & 1 & 1 & 1 & 0 & ⋯ & 0 & 0 & 0 & 1 & 1 & 3481 & 0.057600 &  676 & 6.002402 & 121\\\\\n",
       "\t5 & 0 & 3 & 3.3 & 43 & 10 & 1 & 1 & 1 & 1 & 0 & ⋯ & 0 & 1 & 1 & 1 & 1 & 1849 & 0.057600 &  676 & 6.002402 & 100\\\\\n",
       "\t6 & 0 & 3 & 3.3 & 38 & 10 & 1 & 1 & 1 & 1 & 0 & ⋯ & 0 & 0 & 0 & 1 & 1 & 1444 & 0.057600 &  676 & 6.002402 & 100\\\\\n",
       "\\end{tabular}\n"
      ],
      "text/markdown": [
       "\n",
       "A data.frame: 6 × 33\n",
       "\n",
       "| <!--/--> | abuse &lt;int&gt; | status &lt;int&gt; | unemrate &lt;dbl&gt; | age &lt;int&gt; | educ &lt;int&gt; | married &lt;int&gt; | famsize &lt;int&gt; | white &lt;int&gt; | exhealth &lt;int&gt; | vghealth &lt;int&gt; | ⋯ ⋯ | mothalc &lt;int&gt; | fathalc &lt;int&gt; | livealc &lt;int&gt; | inwf &lt;int&gt; | employ &lt;int&gt; | agesq &lt;int&gt; | beertaxsq &lt;dbl&gt; | cigtaxsq &lt;dbl&gt; | ethanolsq &lt;dbl&gt; | educsq &lt;int&gt; |\n",
       "|---|---|---|---|---|---|---|---|---|---|---|---|---|---|---|---|---|---|---|---|---|---|\n",
       "| 1 | 1 | 1 | 4.0 | 50 |  4 | 1 | 1 | 1 | 0 | 0 | ⋯ | 0 | 0 | 0 | 0 | 0 | 2500 | 0.111556 | 1444 | 4.159397 |  16 |\n",
       "| 2 | 0 | 3 | 4.0 | 37 | 12 | 1 | 5 | 1 | 0 | 0 | ⋯ | 0 | 0 | 0 | 1 | 1 | 1369 | 0.111556 | 1444 | 4.159397 | 144 |\n",
       "| 3 | 0 | 3 | 4.0 | 53 |  9 | 1 | 3 | 1 | 1 | 0 | ⋯ | 0 | 0 | 0 | 1 | 1 | 2809 | 0.111556 | 1444 | 4.159397 |  81 |\n",
       "| 4 | 0 | 3 | 3.3 | 59 | 11 | 1 | 1 | 1 | 1 | 0 | ⋯ | 0 | 0 | 0 | 1 | 1 | 3481 | 0.057600 |  676 | 6.002402 | 121 |\n",
       "| 5 | 0 | 3 | 3.3 | 43 | 10 | 1 | 1 | 1 | 1 | 0 | ⋯ | 0 | 1 | 1 | 1 | 1 | 1849 | 0.057600 |  676 | 6.002402 | 100 |\n",
       "| 6 | 0 | 3 | 3.3 | 38 | 10 | 1 | 1 | 1 | 1 | 0 | ⋯ | 0 | 0 | 0 | 1 | 1 | 1444 | 0.057600 |  676 | 6.002402 | 100 |\n",
       "\n"
      ],
      "text/plain": [
       "  abuse status unemrate age educ married famsize white exhealth vghealth ⋯\n",
       "1 1     1      4.0      50   4   1       1       1     0        0        ⋯\n",
       "2 0     3      4.0      37  12   1       5       1     0        0        ⋯\n",
       "3 0     3      4.0      53   9   1       3       1     1        0        ⋯\n",
       "4 0     3      3.3      59  11   1       1       1     1        0        ⋯\n",
       "5 0     3      3.3      43  10   1       1       1     1        0        ⋯\n",
       "6 0     3      3.3      38  10   1       1       1     1        0        ⋯\n",
       "  mothalc fathalc livealc inwf employ agesq beertaxsq cigtaxsq ethanolsq educsq\n",
       "1 0       0       0       0    0      2500  0.111556  1444     4.159397   16   \n",
       "2 0       0       0       1    1      1369  0.111556  1444     4.159397  144   \n",
       "3 0       0       0       1    1      2809  0.111556  1444     4.159397   81   \n",
       "4 0       0       0       1    1      3481  0.057600   676     6.002402  121   \n",
       "5 0       1       1       1    1      1849  0.057600   676     6.002402  100   \n",
       "6 0       0       0       1    1      1444  0.057600   676     6.002402  100   "
      ]
     },
     "metadata": {},
     "output_type": "display_data"
    }
   ],
   "source": [
    "head(alcohol)"
   ]
  },
  {
   "cell_type": "code",
   "execution_count": 6,
   "metadata": {},
   "outputs": [],
   "source": [
    "alcohol <- mutate(alcohol, employed = ifelse(status == 3, 1, 0))\n",
    "alcohol <- mutate(alcohol, unemployed = ifelse(status == 2, 1, 0))\n",
    "alcohol <- mutate(alcohol, outofworkforce = ifelse(status == 1, 1, 0))"
   ]
  },
  {
   "cell_type": "code",
   "execution_count": 10,
   "metadata": {},
   "outputs": [
    {
     "data": {
      "text/plain": [
       "\n",
       "Call:\n",
       "lm(formula = abuse ~ unemployed + outofworkforce + age, data = alcohol)\n",
       "\n",
       "Residuals:\n",
       "     Min       1Q   Median       3Q      Max \n",
       "-0.13378 -0.09809 -0.09600 -0.09448  0.90628 \n",
       "\n",
       "Coefficients:\n",
       "                Estimate Std. Error t value Pr(>|t|)    \n",
       "(Intercept)    0.0889669  0.0126762   7.018 2.39e-12 ***\n",
       "unemployed     0.0336007  0.0171117   1.964   0.0496 *  \n",
       "outofworkforce 0.0240426  0.0119655   2.009   0.0445 *  \n",
       "age            0.0001900  0.0003158   0.602   0.5474    \n",
       "---\n",
       "Signif. codes:  0 ‘***’ 0.001 ‘**’ 0.01 ‘*’ 0.05 ‘.’ 0.1 ‘ ’ 1\n",
       "\n",
       "Residual standard error: 0.2988 on 9818 degrees of freedom\n",
       "Multiple R-squared:  0.0008369,\tAdjusted R-squared:  0.0005316 \n",
       "F-statistic: 2.741 on 3 and 9818 DF,  p-value: 0.04168\n"
      ]
     },
     "metadata": {},
     "output_type": "display_data"
    }
   ],
   "source": [
    "reg1 <- lm(abuse ~ unemployed + outofworkforce + age, \n",
    "          data = alcohol)\n",
    "summary(reg1)"
   ]
  },
  {
   "cell_type": "code",
   "execution_count": 12,
   "metadata": {},
   "outputs": [
    {
     "data": {
      "text/html": [
       "<table class=\"dataframe\">\n",
       "<caption>A anova: 2 × 6</caption>\n",
       "<thead>\n",
       "\t<tr><th></th><th scope=col>Res.Df</th><th scope=col>RSS</th><th scope=col>Df</th><th scope=col>Sum of Sq</th><th scope=col>F</th><th scope=col>Pr(&gt;F)</th></tr>\n",
       "\t<tr><th></th><th scope=col>&lt;dbl&gt;</th><th scope=col>&lt;dbl&gt;</th><th scope=col>&lt;dbl&gt;</th><th scope=col>&lt;dbl&gt;</th><th scope=col>&lt;dbl&gt;</th><th scope=col>&lt;dbl&gt;</th></tr>\n",
       "</thead>\n",
       "<tbody>\n",
       "\t<tr><th scope=row>1</th><td>9819</td><td>876.6985</td><td>NA</td><td>        NA</td><td>       NA</td><td>       NA</td></tr>\n",
       "\t<tr><th scope=row>2</th><td>9818</td><td>876.6789</td><td> 1</td><td>0.01957145</td><td>0.2191823</td><td>0.6396741</td></tr>\n",
       "</tbody>\n",
       "</table>\n"
      ],
      "text/latex": [
       "A anova: 2 × 6\n",
       "\\begin{tabular}{r|llllll}\n",
       "  & Res.Df & RSS & Df & Sum of Sq & F & Pr(>F)\\\\\n",
       "  & <dbl> & <dbl> & <dbl> & <dbl> & <dbl> & <dbl>\\\\\n",
       "\\hline\n",
       "\t1 & 9819 & 876.6985 & NA &         NA &        NA &        NA\\\\\n",
       "\t2 & 9818 & 876.6789 &  1 & 0.01957145 & 0.2191823 & 0.6396741\\\\\n",
       "\\end{tabular}\n"
      ],
      "text/markdown": [
       "\n",
       "A anova: 2 × 6\n",
       "\n",
       "| <!--/--> | Res.Df &lt;dbl&gt; | RSS &lt;dbl&gt; | Df &lt;dbl&gt; | Sum of Sq &lt;dbl&gt; | F &lt;dbl&gt; | Pr(&gt;F) &lt;dbl&gt; |\n",
       "|---|---|---|---|---|---|---|\n",
       "| 1 | 9819 | 876.6985 | NA |         NA |        NA |        NA |\n",
       "| 2 | 9818 | 876.6789 |  1 | 0.01957145 | 0.2191823 | 0.6396741 |\n",
       "\n"
      ],
      "text/plain": [
       "  Res.Df RSS      Df Sum of Sq  F         Pr(>F)   \n",
       "1 9819   876.6985 NA         NA        NA        NA\n",
       "2 9818   876.6789  1 0.01957145 0.2191823 0.6396741"
      ]
     },
     "metadata": {},
     "output_type": "display_data"
    }
   ],
   "source": [
    "linearHypothesis(reg1, \"unemployed = outofworkforce\")"
   ]
  },
  {
   "cell_type": "code",
   "execution_count": null,
   "metadata": {},
   "outputs": [],
   "source": []
  }
 ],
 "metadata": {
  "kernelspec": {
   "display_name": "R",
   "language": "R",
   "name": "ir"
  },
  "language_info": {
   "codemirror_mode": "r",
   "file_extension": ".r",
   "mimetype": "text/x-r-source",
   "name": "R",
   "pygments_lexer": "r",
   "version": "4.2.1"
  }
 },
 "nbformat": 4,
 "nbformat_minor": 4
}
