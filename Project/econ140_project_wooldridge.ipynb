{
 "cells": [
  {
   "cell_type": "markdown",
   "metadata": {},
   "source": [
    "<img src=\"images/econ140R_logo.png\" width=\"200\" />"
   ]
  },
  {
   "cell_type": "markdown",
   "metadata": {},
   "source": [
    "# Short Term Project Data Option\n",
    "\n",
    "In this notebook, you will learn how to read data in from the `wooldridge` [package](https://cran.r-project.org/web/packages/wooldridge/). As of version 1.4-2, This package contains 115 datasets for econometrics from the _Introductory Econometrics: A Modern Approach, 7e_ by Jeffrey M. Wooldridge. You can use any data source you like for your ECON 140 project, but this repository is convenient.\n",
    "\n",
    "\n",
    "Let's start by installing and adding the package to our library."
   ]
  },
  {
   "cell_type": "code",
   "execution_count": null,
   "metadata": {},
   "outputs": [],
   "source": [
    "install.packages(\"wooldridge\")"
   ]
  },
  {
   "cell_type": "code",
   "execution_count": null,
   "metadata": {},
   "outputs": [],
   "source": [
    "library(\"wooldridge\")"
   ]
  },
  {
   "cell_type": "markdown",
   "metadata": {},
   "source": [
    "## Part 0: Browsing the Contents"
   ]
  },
  {
   "cell_type": "markdown",
   "metadata": {},
   "source": [
    "With 115 datasets to choose from, you might feel like a deer in headlights! This tutorial will walk you through a few datasets and show you how to assess what's in them. But if you want to look for a different dataset and aren't sure where to start, you might try searching the [documentation PDF](https://cran.r-project.org/web/packages/wooldridge/wooldridge.pdf) for keywords or phrases. If you find a dataset that sounds interesting, you can write new __R__ code using the examples below, but replace `fish` with the title of the dataset you want to look at."
   ]
  },
  {
   "cell_type": "markdown",
   "metadata": {},
   "source": [
    "## Part 1: Reading in the Data"
   ]
  },
  {
   "cell_type": "markdown",
   "metadata": {},
   "source": [
    "To read in data, we'll use the `data()` function provided by the `wooldridge` package. As the parameter inside `data`, we'll put the dataset name. A full list of the datasets and descriptions of each of the columns can be found [here](https://www.rdocumentation.org/packages/wooldridge/versions/1.3.1).\n",
    "\n",
    "As an example, let's take a look at the `fish` dataset. Using `data()` loads the dataset into a variable with the same name as the dataset."
   ]
  },
  {
   "cell_type": "code",
   "execution_count": null,
   "metadata": {},
   "outputs": [],
   "source": [
    "data(\"fish\")"
   ]
  },
  {
   "cell_type": "code",
   "execution_count": null,
   "metadata": {},
   "outputs": [],
   "source": [
    "head(fish)"
   ]
  },
  {
   "cell_type": "markdown",
   "metadata": {},
   "source": [
    "To get more details about the `fish` dataset, we can use the `?` command to access more info about the data. Let's check it out: "
   ]
  },
  {
   "cell_type": "code",
   "execution_count": null,
   "metadata": {},
   "outputs": [],
   "source": [
    "?fish"
   ]
  },
  {
   "cell_type": "markdown",
   "metadata": {},
   "source": [
    "Seems like this dataset is from the Fulton Fish Market and has 97 observations with 20 columns."
   ]
  },
  {
   "cell_type": "markdown",
   "metadata": {},
   "source": [
    "## Other Useful Datasets in Wooldridge"
   ]
  },
  {
   "cell_type": "markdown",
   "metadata": {},
   "source": [
    "Below are a few other examples of datasets that can be useful for your analysis. Again, you do not have to use any of the mentioned datasets, but feel free to explore them to get familiar with the package you'll be using for this project! "
   ]
  },
  {
   "cell_type": "markdown",
   "metadata": {},
   "source": [
    "### **Crime2 dataset**\n",
    "\n",
    "Dataset Format:  \n",
    "* 92 observations with 34 variables\n",
    "\n",
    "Notes (from Justin Shea): \n",
    "* Very rich crime data sets, at the county, or even city, level, can be collected using the FBI’s Uniform Crime Reports. These data can be matched up with demographic and economic data, at least for census years. The County and City Data Book contains a variety of statistics, but the years do not always match up. These data sets can be used investigate issues such as the effects of casinos on city or county crime rates.\n",
    "\n",
    "Source: \n",
    "* https://www.cengage.com/cgi-wadsworth/course_products_wp.pl?fid=M20b&product_isbn_issn=9781111531041"
   ]
  },
  {
   "cell_type": "code",
   "execution_count": null,
   "metadata": {},
   "outputs": [],
   "source": [
    "data('crime2')\n",
    "head(crime2)"
   ]
  },
  {
   "cell_type": "code",
   "execution_count": null,
   "metadata": {},
   "outputs": [],
   "source": [
    "# to get more details \n",
    "#?crime2"
   ]
  },
  {
   "cell_type": "markdown",
   "metadata": {},
   "source": [
    "### **GPA1 dataset**\n",
    "\n",
    "Dataset Format:  \n",
    "* 141 observations with 29 variables\n",
    "\n",
    "Notes (from Justin Shea): \n",
    "* This is a nice example of how students can obtain an original data set by focusing locally and carefully composing a survey.\n",
    "\n",
    "Source: \n",
    "* https://www.cengage.com/cgi-wadsworth/course_products_wp.pl?fid=M20b&product_isbn_issn=9781111531041"
   ]
  },
  {
   "cell_type": "code",
   "execution_count": null,
   "metadata": {},
   "outputs": [],
   "source": [
    "data(\"gpa1\")\n",
    "head(gpa1)"
   ]
  },
  {
   "cell_type": "code",
   "execution_count": null,
   "metadata": {},
   "outputs": [],
   "source": [
    "# to get more details \n",
    "#?gpa1"
   ]
  },
  {
   "cell_type": "markdown",
   "metadata": {},
   "source": [
    "### Quick Exercise (Optional): Reading in a Dataset"
   ]
  },
  {
   "cell_type": "markdown",
   "metadata": {},
   "source": [
    "As practice, try to load in the `rental` dataset."
   ]
  },
  {
   "cell_type": "code",
   "execution_count": null,
   "metadata": {},
   "outputs": [],
   "source": [
    "# YOUR CODE HERE\n"
   ]
  },
  {
   "cell_type": "markdown",
   "metadata": {},
   "source": [
    "Now try displaying the head of the `rental` dataset using the `head` function."
   ]
  },
  {
   "cell_type": "code",
   "execution_count": null,
   "metadata": {},
   "outputs": [],
   "source": [
    "# YOUR CODE HERE\n"
   ]
  },
  {
   "cell_type": "markdown",
   "metadata": {},
   "source": [
    "Use the `?` command to look at the details of the dataset."
   ]
  },
  {
   "cell_type": "code",
   "execution_count": null,
   "metadata": {},
   "outputs": [],
   "source": [
    "# YOUR CODE HERE\n"
   ]
  },
  {
   "cell_type": "markdown",
   "metadata": {},
   "source": [
    "Congrats! You have reached the end of the `wooldridge` walkthrough. Below, we'll dive deep into the `fish` dataset. This is a good way to get some inspiration for steps you can take when you are working on your project."
   ]
  },
  {
   "cell_type": "markdown",
   "metadata": {},
   "source": [
    "### Fulton Fish Market"
   ]
  },
  {
   "cell_type": "markdown",
   "metadata": {},
   "source": [
    "As a primer, let's learn a little more about the paper that this dataset is from. The original paper, Markets: The Fulton Fish Market by Professor Kathryn Graddy [here](https://pubs.aeaweb.org/doi/pdfplus/10.1257/jep.20.2.207). You can also watch a short video below for an explanation by Prof Graddy. "
   ]
  },
  {
   "cell_type": "code",
   "execution_count": null,
   "metadata": {},
   "outputs": [],
   "source": [
    "install.packages(\"vembedr\")\n",
    "install.packages(\"Hmisc\")\n",
    "install.packages(\"ggplot2\")\n",
    "\n",
    "library(\"ggplot2\")\n",
    "library(\"Hmisc\")\n",
    "library(\"vembedr\")\n",
    "library(\"dplyr\")"
   ]
  },
  {
   "cell_type": "markdown",
   "metadata": {},
   "source": [
    "Below is a 4-minute video overview by Kathryn Graddy of Brandeis University of her work measuring prices, transactions, ethnicity of buyers, and the mob influence in the Fulton Fish Market of New York City in the early 1990s."
   ]
  },
  {
   "cell_type": "code",
   "execution_count": null,
   "metadata": {},
   "outputs": [],
   "source": [
    "embed_youtube(\"5hJF8zNJg5I\")"
   ]
  },
  {
   "cell_type": "markdown",
   "metadata": {},
   "source": [
    "Now that we know a little bit about the context of the dataset, let's take a more in-depth look at some of the data specifics. To do this, we can use the `nrow` and `ncol` commands to get the number of rows and columns"
   ]
  },
  {
   "cell_type": "code",
   "execution_count": null,
   "metadata": {},
   "outputs": [],
   "source": [
    "# Number of rows in the dataset\n",
    "nrow(fish)"
   ]
  },
  {
   "cell_type": "code",
   "execution_count": null,
   "metadata": {},
   "outputs": [],
   "source": [
    "# Number of columns in the dataset\n",
    "ncol(fish)"
   ]
  },
  {
   "cell_type": "markdown",
   "metadata": {},
   "source": [
    "To get a sense about some of the summary statistics of the dataset, let's use the `describe` command."
   ]
  },
  {
   "cell_type": "code",
   "execution_count": null,
   "metadata": {},
   "outputs": [],
   "source": [
    "describe(fish)"
   ]
  },
  {
   "cell_type": "code",
   "execution_count": null,
   "metadata": {},
   "outputs": [],
   "source": [
    "head(fish)"
   ]
  },
  {
   "cell_type": "markdown",
   "metadata": {},
   "source": [
    "Are there any values that pop out at you? Remember you can use the `?` command to look at what each of the columns mean.\n",
    "\n",
    "\n",
    "Another way to quickly learn things about the data is using a visualizations. Let's take a look at a density plot of some of the different columns."
   ]
  },
  {
   "cell_type": "markdown",
   "metadata": {},
   "source": [
    "In the code below, we are:\n",
    "* extracting columns `prca` and `prcw`, which are the prices we observe being charged to Asian and White customers\n",
    "* creating a new column for an indicator variable that measures the \"Asian price\"\n",
    "* stacking `prca` and `prcw` alongside this new indicator variable `a_indicator`"
   ]
  },
  {
   "cell_type": "code",
   "execution_count": null,
   "metadata": {},
   "outputs": [],
   "source": [
    "# Manipulating the data for the visualization.\n",
    "df    <-data.frame(prc = fish$prca, a_indicator = 1)\n",
    "df_w  <-data.frame(prc = fish$prcw, a_indicator = 0)\n",
    "viz_df<-rbind(df,df_w)"
   ]
  },
  {
   "cell_type": "code",
   "execution_count": null,
   "metadata": {},
   "outputs": [],
   "source": [
    "nrow(viz_df)\n",
    "ncol(viz_df)"
   ]
  },
  {
   "cell_type": "code",
   "execution_count": null,
   "metadata": {},
   "outputs": [],
   "source": [
    "# Plotting density curves for Asian and White Buyers\n",
    "ggplot(viz_df, aes(prc)) + \n",
    "    geom_density(data=subset(viz_df,a_indicator == 1),color = \"blue\") +\n",
    "    geom_density(data=subset(viz_df,a_indicator == 0),color = \"red\") +\n",
    "    labs(title=\"Comparison of the Prices Paid by White and Asian Buyers\",\n",
    "         subtitle=\"Red = White Buyer     Blue = Asian Buyer\") +\n",
    "    xlab(\"Price\") +\n",
    "    ylab(\"Density\")\n",
    "    "
   ]
  },
  {
   "cell_type": "markdown",
   "metadata": {},
   "source": [
    "Based on the above density curves, can you tell if there is a significant difference between the prices for white and Asian buyers? Let's do a t-test of the two means. You may have seen a t-test in classes like Data 8 or Stat 20. "
   ]
  },
  {
   "cell_type": "code",
   "execution_count": null,
   "metadata": {},
   "outputs": [],
   "source": [
    "t.test(x=fish$prcw, y=fish$prca, alternative=\"two.sided\")"
   ]
  },
  {
   "cell_type": "markdown",
   "metadata": {},
   "source": [
    "Based on this t-test, the t-stat and p-value imply that we cannot reject the null hypothesis that there is no difference between the average prices paid by White buyers and Asian buyers. The <i>t</i>-stat is only 1.46, and the 95% confidence interval includes zero. Let's see if running a regression confirms these results."
   ]
  },
  {
   "cell_type": "code",
   "execution_count": null,
   "metadata": {},
   "outputs": [],
   "source": [
    "simplereg <- lm(prc ~ a_indicator, data = viz_df)\n",
    "summary(simplereg) "
   ]
  },
  {
   "cell_type": "markdown",
   "metadata": {},
   "source": [
    "Yes, same. In these condensed data, with only 97 observations of the two prices by ethnicity, we cannot reject the null hypothesis. Something tells me that Prof. Graddy probably had many more observations in her original dataset! A quick look at her [1995 RAND J. Econ paper](https://www-jstor-org.libproxy.berkeley.edu/stable/2556036) confirms this."
   ]
  },
  {
   "cell_type": "markdown",
   "metadata": {},
   "source": [
    "Now let's take a look at prices and quantity throughout the week. To do this, we'll group by the day of the week and create new columns that are the mean of price and quantity."
   ]
  },
  {
   "cell_type": "code",
   "execution_count": null,
   "metadata": {},
   "outputs": [],
   "source": [
    "groupby_day <-fish %>%\n",
    "    group_by(mon, tues, wed, thurs) %>%\n",
    "    summarise(mean_quantity = mean(totqty),\n",
    "             mean_price = mean(avgprc))\n",
    "groupby_day_clean <- groupby_day[c(2:5),c(\"mean_quantity\",\"mean_price\")]\n",
    "groupby_day_clean$day=c(\"Thursday\",\"Wednesday\",\"Tuesday\",\"Monday\")\n",
    "groupby_clean_order <- groupby_day_clean[,c(\"day\",\"mean_quantity\",\"mean_price\")]"
   ]
  },
  {
   "cell_type": "code",
   "execution_count": null,
   "metadata": {},
   "outputs": [],
   "source": [
    "groupby_clean_order"
   ]
  },
  {
   "cell_type": "markdown",
   "metadata": {},
   "source": [
    "Looks like the price and quantity for fish is higher on Thursday."
   ]
  },
  {
   "cell_type": "markdown",
   "metadata": {},
   "source": [
    "Finally, here is a regression analysis shown by Wooldridge on p. 572 of the 4th edition of his textbook, and also shown in Table 2 of Graddy's [2006 J Econ Perspect paper](https://pubs.aeaweb.org/doi/pdfplus/10.1257/jep.20.2.207). Consider this approach to modeling the quantity of fish demanded: \n",
    "\n",
    "$$\n",
    "ltotqty_i = \\alpha + \\beta_p \\ lavgprc_i + \\beta_m \\ mon_i + \\beta_t \\ tues_i \n",
    "+ \\beta_w \\ wed_i + \\beta_{th} \\ thurs_i + \\epsilon_i\n",
    "$$\n",
    "\n",
    "where `ltotqty` is the log total quantity sold (to all customers); `lavgprc` is the log average price; and the rest of the variables are indicators for weekdays in the week. Friday is omitted, and apparently the market was closed on the weekend. The variable of interest is the demand elasticity $\\beta_p$, which is the percentage change in quantity demanded for a percentage change in price."
   ]
  },
  {
   "cell_type": "code",
   "execution_count": null,
   "metadata": {},
   "outputs": [],
   "source": [
    "demand_reg <- lm(ltotqty ~ lavgprc + mon + tues + wed + thurs, data = fish)\n",
    "summary(demand_reg)"
   ]
  },
  {
   "cell_type": "markdown",
   "metadata": {},
   "source": [
    "The demand elasticity here is $-0.52$, indicating somewhat inelastic demand. In a handy chart you can find in <i>Health Economics</i> by Bhattacharya, Hyde, and Tu, this elasticity is between those for coffee ($-0.25$) and movies ($-0.9$).\n",
    "\n",
    "You might be concerned about whether shifts in supply or demand are actually creating these effects, however. That is the fundamental problem in examining market data; either supply or demand could be moving, or both could. Graddy was able to shed some light on that question by examining <b>weather data</b>, which she motivates on page 215 of her JEP piece. She argues that theory and evidence imply that weather only affects the market through supply."
   ]
  },
  {
   "cell_type": "markdown",
   "metadata": {},
   "source": [
    "### Bonus round"
   ]
  },
  {
   "cell_type": "markdown",
   "metadata": {},
   "source": [
    "Hold on to your hats. Let us explore a form of instrumental variables estimation called \"two stage least squares\" using `ivreg` in __R__. <font color=\"red\">You do NOT have to run instrumental variables in your term project.</font> We are doing it here because Graddy did it, Wooldridge suggests this exercise in an advanced chapter, and because we are currently studying instrumental variables in <i>Mastering Metrics</i>."
   ]
  },
  {
   "cell_type": "code",
   "execution_count": null,
   "metadata": {},
   "outputs": [],
   "source": [
    "install.packages(\"ivreg\", dependencies = TRUE)"
   ]
  },
  {
   "cell_type": "code",
   "execution_count": null,
   "metadata": {},
   "outputs": [],
   "source": [
    "library(\"ivreg\")"
   ]
  },
  {
   "cell_type": "markdown",
   "metadata": {},
   "source": [
    "Let us follow Wooldridge's advice and estimate the same model from above, but this time with two-stage least squares (2SLS), a very common form of IV estimation:\n",
    "\n",
    "$$\n",
    "ltotqty_i = \\alpha + \\beta_p \\ lavgprc_i + \\beta_m \\ mon_i + \\beta_t \\ tues_i \n",
    "+ \\beta_w \\ wed_i + \\beta_{th} \\ thurs_i + \\epsilon_i\n",
    "$$\n",
    "\n",
    "We will use `wave2` and `wave3`, both of which are measures of recent wave height around NYC, as instrumental variables. The argument is that the log average price is endogenously determined by supply and demand, but that running IV with weather variables will leverage the causality running from weather to supply and then to the price, and thus will reveal the true slope of the demand curve.\n",
    "\n",
    "(Intuition: the height of the waves around NYC probably doesn't much affect the typical New Yorker's appetite for fish. But it does affect how hard it is to retrieve fish from the ocean.)\n",
    "\n",
    "The syntax for `ivreg()` is very similar to that of `lm()`, except you need a \"pipe\" symbol: \"|\". The pipe appears after your original equation, and it needs to include the exogenous variables plus any instrumental variables."
   ]
  },
  {
   "cell_type": "code",
   "execution_count": null,
   "metadata": {},
   "outputs": [],
   "source": [
    "demand_ivreg <- ivreg(ltotqty ~ lavgprc + mon + tues + wed + thurs \n",
    "                      | mon + tues + wed + thurs + wave2 + wave3, data = fish)\n",
    "summary(demand_ivreg)"
   ]
  },
  {
   "cell_type": "markdown",
   "metadata": {},
   "source": [
    "What happened to the price elasticity of demand when we ran IV versus ordinary least squares above? Curious? Read Graddy's JEP piece for more."
   ]
  },
  {
   "cell_type": "markdown",
   "metadata": {},
   "source": [
    "## Part 2: Your Analysis"
   ]
  },
  {
   "cell_type": "markdown",
   "metadata": {},
   "source": [
    "Now that you've familiarized yourself with the wooldridge package and various commands you can use to analyze your data, let's start applying these techniques towards answering your topic question."
   ]
  },
  {
   "cell_type": "markdown",
   "metadata": {},
   "source": [
    "*Paste your topic question here for reference*"
   ]
  },
  {
   "cell_type": "markdown",
   "metadata": {},
   "source": [
    "## Guiding Questions\n",
    "\n",
    "Below are some questions that you can discuss with your group to help you get your data analysis going as you explore your topic. \n",
    "\n",
    "1. What variables are we trying to find a relationship between?\n",
    "2. What econometric methods might be helpful in analyzing the issue?\n",
    "3. What are some visualizations (tables, graphs, etc.) that might help you in answering your question?\n",
    "4. Is there anything unusual or interesting about the data, upon a first glance?\n",
    "5. Do we need to transform the data in any way?\n",
    "6. What is the interpretation of the results? Are the results significant? Do the results reveal causality?"
   ]
  },
  {
   "cell_type": "code",
   "execution_count": null,
   "metadata": {},
   "outputs": [],
   "source": [
    "### Use these cells to read in your dataset and analyze/visualize your data as needed"
   ]
  },
  {
   "cell_type": "markdown",
   "metadata": {},
   "source": [
    "<div style=\"text-align: right\"> <span style=\"font-family:Papyrus; \">And they lived happily ever after. The End.</span></div>"
   ]
  }
 ],
 "metadata": {
  "kernelspec": {
   "display_name": "R",
   "language": "R",
   "name": "ir"
  },
  "language_info": {
   "codemirror_mode": "r",
   "file_extension": ".r",
   "mimetype": "text/x-r-source",
   "name": "R",
   "pygments_lexer": "r",
   "version": "4.2.1"
  }
 },
 "nbformat": 4,
 "nbformat_minor": 4
}
