{
 "cells": [
  {
   "cell_type": "markdown",
   "metadata": {},
   "source": [
    "<img src=\"images/econ140R_logo.png\" width=\"200\" />"
   ]
  },
  {
   "cell_type": "code",
   "execution_count": 1,
   "metadata": {},
   "outputs": [
    {
     "name": "stderr",
     "output_type": "stream",
     "text": [
      "Installing package into ‘/opt/r’\n",
      "(as ‘lib’ is unspecified)\n",
      "\n"
     ]
    }
   ],
   "source": [
    "install.packages(\"wooldridge\")"
   ]
  },
  {
   "cell_type": "code",
   "execution_count": 2,
   "metadata": {},
   "outputs": [
    {
     "name": "stderr",
     "output_type": "stream",
     "text": [
      "\n",
      "Attaching package: ‘dplyr’\n",
      "\n",
      "\n",
      "The following objects are masked from ‘package:stats’:\n",
      "\n",
      "    filter, lag\n",
      "\n",
      "\n",
      "The following objects are masked from ‘package:base’:\n",
      "\n",
      "    intersect, setdiff, setequal, union\n",
      "\n",
      "\n",
      "── \u001b[1mAttaching packages\u001b[22m ─────────────────────────────────────── tidyverse 1.3.0 ──\n",
      "\n",
      "\u001b[32m✔\u001b[39m \u001b[34mggplot2\u001b[39m 3.4.0     \u001b[32m✔\u001b[39m \u001b[34mpurrr  \u001b[39m 0.3.5\n",
      "\u001b[32m✔\u001b[39m \u001b[34mtibble \u001b[39m 3.1.8     \u001b[32m✔\u001b[39m \u001b[34mstringr\u001b[39m 1.4.1\n",
      "\u001b[32m✔\u001b[39m \u001b[34mtidyr  \u001b[39m 1.2.1     \u001b[32m✔\u001b[39m \u001b[34mforcats\u001b[39m 0.5.2\n",
      "\u001b[32m✔\u001b[39m \u001b[34mreadr  \u001b[39m 2.1.3     \n",
      "\n",
      "── \u001b[1mConflicts\u001b[22m ────────────────────────────────────────── tidyverse_conflicts() ──\n",
      "\u001b[31m✖\u001b[39m \u001b[34mdplyr\u001b[39m::\u001b[32mfilter()\u001b[39m masks \u001b[34mstats\u001b[39m::filter()\n",
      "\u001b[31m✖\u001b[39m \u001b[34mdplyr\u001b[39m::\u001b[32mlag()\u001b[39m    masks \u001b[34mstats\u001b[39m::lag()\n",
      "\n"
     ]
    }
   ],
   "source": [
    "library(\"wooldridge\")\n",
    "library(dplyr)\n",
    "library(tidyverse)\n",
    "library(haven)\n",
    "library(foreign)"
   ]
  },
  {
   "cell_type": "code",
   "execution_count": 3,
   "metadata": {},
   "outputs": [],
   "source": [
    "data(\"happiness\")"
   ]
  },
  {
   "cell_type": "code",
   "execution_count": 4,
   "metadata": {},
   "outputs": [
    {
     "data": {
      "text/html": [
       "<table class=\"dataframe\">\n",
       "<caption>A data.frame: 6 × 33</caption>\n",
       "<thead>\n",
       "\t<tr><th></th><th scope=col>year</th><th scope=col>workstat</th><th scope=col>prestige</th><th scope=col>divorce</th><th scope=col>widowed</th><th scope=col>educ</th><th scope=col>reg16</th><th scope=col>babies</th><th scope=col>preteen</th><th scope=col>teens</th><th scope=col>⋯</th><th scope=col>occattend</th><th scope=col>regattend</th><th scope=col>y94</th><th scope=col>y96</th><th scope=col>y98</th><th scope=col>y00</th><th scope=col>y02</th><th scope=col>y04</th><th scope=col>y06</th><th scope=col>unem10</th></tr>\n",
       "\t<tr><th></th><th scope=col>&lt;int&gt;</th><th scope=col>&lt;fct&gt;</th><th scope=col>&lt;int&gt;</th><th scope=col>&lt;fct&gt;</th><th scope=col>&lt;fct&gt;</th><th scope=col>&lt;int&gt;</th><th scope=col>&lt;fct&gt;</th><th scope=col>&lt;int&gt;</th><th scope=col>&lt;int&gt;</th><th scope=col>&lt;int&gt;</th><th scope=col>⋯</th><th scope=col>&lt;int&gt;</th><th scope=col>&lt;int&gt;</th><th scope=col>&lt;int&gt;</th><th scope=col>&lt;int&gt;</th><th scope=col>&lt;int&gt;</th><th scope=col>&lt;int&gt;</th><th scope=col>&lt;int&gt;</th><th scope=col>&lt;int&gt;</th><th scope=col>&lt;int&gt;</th><th scope=col>&lt;int&gt;</th></tr>\n",
       "</thead>\n",
       "<tbody>\n",
       "\t<tr><th scope=row>1</th><td>1994</td><td>keeping house   </td><td>46</td><td>NA </td><td>iap</td><td>12</td><td>middle atlantic</td><td>2</td><td>3</td><td>0</td><td>⋯</td><td>1</td><td>0</td><td>1</td><td>0</td><td>0</td><td>0</td><td>0</td><td>0</td><td>0</td><td> 1</td></tr>\n",
       "\t<tr><th scope=row>2</th><td>1994</td><td>working fulltime</td><td>22</td><td>no </td><td>iap</td><td>12</td><td>foreign        </td><td>0</td><td>0</td><td>0</td><td>⋯</td><td>0</td><td>0</td><td>1</td><td>0</td><td>0</td><td>0</td><td>0</td><td>0</td><td>0</td><td> 0</td></tr>\n",
       "\t<tr><th scope=row>3</th><td>1994</td><td>working fulltime</td><td>29</td><td>no </td><td>iap</td><td>12</td><td>foreign        </td><td>0</td><td>0</td><td>0</td><td>⋯</td><td>0</td><td>1</td><td>1</td><td>0</td><td>0</td><td>0</td><td>0</td><td>0</td><td>0</td><td>NA</td></tr>\n",
       "\t<tr><th scope=row>4</th><td>1994</td><td>working fulltime</td><td>42</td><td>yes</td><td>iap</td><td> 8</td><td>foreign        </td><td>0</td><td>0</td><td>0</td><td>⋯</td><td>0</td><td>0</td><td>1</td><td>0</td><td>0</td><td>0</td><td>0</td><td>0</td><td>0</td><td> 1</td></tr>\n",
       "\t<tr><th scope=row>5</th><td>1994</td><td>working parttime</td><td>36</td><td>NA </td><td>NA </td><td>13</td><td>middle atlantic</td><td>0</td><td>1</td><td>1</td><td>⋯</td><td>0</td><td>0</td><td>1</td><td>0</td><td>0</td><td>0</td><td>0</td><td>0</td><td>0</td><td> 0</td></tr>\n",
       "\t<tr><th scope=row>6</th><td>1994</td><td>working parttime</td><td>43</td><td>NA </td><td>NA </td><td>15</td><td>middle atlantic</td><td>0</td><td>0</td><td>0</td><td>⋯</td><td>1</td><td>0</td><td>1</td><td>0</td><td>0</td><td>0</td><td>0</td><td>0</td><td>0</td><td>NA</td></tr>\n",
       "</tbody>\n",
       "</table>\n"
      ],
      "text/latex": [
       "A data.frame: 6 × 33\n",
       "\\begin{tabular}{r|lllllllllllllllllllll}\n",
       "  & year & workstat & prestige & divorce & widowed & educ & reg16 & babies & preteen & teens & ⋯ & occattend & regattend & y94 & y96 & y98 & y00 & y02 & y04 & y06 & unem10\\\\\n",
       "  & <int> & <fct> & <int> & <fct> & <fct> & <int> & <fct> & <int> & <int> & <int> & ⋯ & <int> & <int> & <int> & <int> & <int> & <int> & <int> & <int> & <int> & <int>\\\\\n",
       "\\hline\n",
       "\t1 & 1994 & keeping house    & 46 & NA  & iap & 12 & middle atlantic & 2 & 3 & 0 & ⋯ & 1 & 0 & 1 & 0 & 0 & 0 & 0 & 0 & 0 &  1\\\\\n",
       "\t2 & 1994 & working fulltime & 22 & no  & iap & 12 & foreign         & 0 & 0 & 0 & ⋯ & 0 & 0 & 1 & 0 & 0 & 0 & 0 & 0 & 0 &  0\\\\\n",
       "\t3 & 1994 & working fulltime & 29 & no  & iap & 12 & foreign         & 0 & 0 & 0 & ⋯ & 0 & 1 & 1 & 0 & 0 & 0 & 0 & 0 & 0 & NA\\\\\n",
       "\t4 & 1994 & working fulltime & 42 & yes & iap &  8 & foreign         & 0 & 0 & 0 & ⋯ & 0 & 0 & 1 & 0 & 0 & 0 & 0 & 0 & 0 &  1\\\\\n",
       "\t5 & 1994 & working parttime & 36 & NA  & NA  & 13 & middle atlantic & 0 & 1 & 1 & ⋯ & 0 & 0 & 1 & 0 & 0 & 0 & 0 & 0 & 0 &  0\\\\\n",
       "\t6 & 1994 & working parttime & 43 & NA  & NA  & 15 & middle atlantic & 0 & 0 & 0 & ⋯ & 1 & 0 & 1 & 0 & 0 & 0 & 0 & 0 & 0 & NA\\\\\n",
       "\\end{tabular}\n"
      ],
      "text/markdown": [
       "\n",
       "A data.frame: 6 × 33\n",
       "\n",
       "| <!--/--> | year &lt;int&gt; | workstat &lt;fct&gt; | prestige &lt;int&gt; | divorce &lt;fct&gt; | widowed &lt;fct&gt; | educ &lt;int&gt; | reg16 &lt;fct&gt; | babies &lt;int&gt; | preteen &lt;int&gt; | teens &lt;int&gt; | ⋯ ⋯ | occattend &lt;int&gt; | regattend &lt;int&gt; | y94 &lt;int&gt; | y96 &lt;int&gt; | y98 &lt;int&gt; | y00 &lt;int&gt; | y02 &lt;int&gt; | y04 &lt;int&gt; | y06 &lt;int&gt; | unem10 &lt;int&gt; |\n",
       "|---|---|---|---|---|---|---|---|---|---|---|---|---|---|---|---|---|---|---|---|---|---|\n",
       "| 1 | 1994 | keeping house    | 46 | NA  | iap | 12 | middle atlantic | 2 | 3 | 0 | ⋯ | 1 | 0 | 1 | 0 | 0 | 0 | 0 | 0 | 0 |  1 |\n",
       "| 2 | 1994 | working fulltime | 22 | no  | iap | 12 | foreign         | 0 | 0 | 0 | ⋯ | 0 | 0 | 1 | 0 | 0 | 0 | 0 | 0 | 0 |  0 |\n",
       "| 3 | 1994 | working fulltime | 29 | no  | iap | 12 | foreign         | 0 | 0 | 0 | ⋯ | 0 | 1 | 1 | 0 | 0 | 0 | 0 | 0 | 0 | NA |\n",
       "| 4 | 1994 | working fulltime | 42 | yes | iap |  8 | foreign         | 0 | 0 | 0 | ⋯ | 0 | 0 | 1 | 0 | 0 | 0 | 0 | 0 | 0 |  1 |\n",
       "| 5 | 1994 | working parttime | 36 | NA  | NA  | 13 | middle atlantic | 0 | 1 | 1 | ⋯ | 0 | 0 | 1 | 0 | 0 | 0 | 0 | 0 | 0 |  0 |\n",
       "| 6 | 1994 | working parttime | 43 | NA  | NA  | 15 | middle atlantic | 0 | 0 | 0 | ⋯ | 1 | 0 | 1 | 0 | 0 | 0 | 0 | 0 | 0 | NA |\n",
       "\n"
      ],
      "text/plain": [
       "  year workstat         prestige divorce widowed educ reg16           babies\n",
       "1 1994 keeping house    46       NA      iap     12   middle atlantic 2     \n",
       "2 1994 working fulltime 22       no      iap     12   foreign         0     \n",
       "3 1994 working fulltime 29       no      iap     12   foreign         0     \n",
       "4 1994 working fulltime 42       yes     iap      8   foreign         0     \n",
       "5 1994 working parttime 36       NA      NA      13   middle atlantic 0     \n",
       "6 1994 working parttime 43       NA      NA      15   middle atlantic 0     \n",
       "  preteen teens ⋯ occattend regattend y94 y96 y98 y00 y02 y04 y06 unem10\n",
       "1 3       0     ⋯ 1         0         1   0   0   0   0   0   0    1    \n",
       "2 0       0     ⋯ 0         0         1   0   0   0   0   0   0    0    \n",
       "3 0       0     ⋯ 0         1         1   0   0   0   0   0   0   NA    \n",
       "4 0       0     ⋯ 0         0         1   0   0   0   0   0   0    1    \n",
       "5 1       1     ⋯ 0         0         1   0   0   0   0   0   0    0    \n",
       "6 0       0     ⋯ 1         0         1   0   0   0   0   0   0   NA    "
      ]
     },
     "metadata": {},
     "output_type": "display_data"
    }
   ],
   "source": [
    "head(happiness)"
   ]
  },
  {
   "cell_type": "code",
   "execution_count": 5,
   "metadata": {},
   "outputs": [],
   "source": [
    "happiness <- mutate(happiness, veryhappy = as.numeric(happy == \"very happy\"))"
   ]
  },
  {
   "cell_type": "code",
   "execution_count": null,
   "metadata": {},
   "outputs": [],
   "source": []
  },
  {
   "cell_type": "code",
   "execution_count": 6,
   "metadata": {},
   "outputs": [
    {
     "data": {
      "text/html": [
       "<style>\n",
       ".list-inline {list-style: none; margin:0; padding: 0}\n",
       ".list-inline>li {display: inline-block}\n",
       ".list-inline>li:not(:last-child)::after {content: \"\\00b7\"; padding: 0 .5ex}\n",
       "</style>\n",
       "<ol class=list-inline><li>2</li><li>1</li><li>3</li></ol>\n"
      ],
      "text/latex": [
       "\\begin{enumerate*}\n",
       "\\item 2\n",
       "\\item 1\n",
       "\\item 3\n",
       "\\end{enumerate*}\n"
      ],
      "text/markdown": [
       "1. 2\n",
       "2. 1\n",
       "3. 3\n",
       "\n",
       "\n"
      ],
      "text/plain": [
       "[1] 2 1 3"
      ]
     },
     "metadata": {},
     "output_type": "display_data"
    }
   ],
   "source": [
    "happiness <- happiness %>%\n",
    "mutate(happynum = case_when(\n",
    "    happy == \"very happy\" ~ 1,\n",
    "    happy == \"pretty happy\" ~ 2,\n",
    "    happy == \"not too happy\" ~ 3,\n",
    "    ))\n",
    "unique(happiness$happynum)"
   ]
  },
  {
   "cell_type": "code",
   "execution_count": 12,
   "metadata": {},
   "outputs": [
    {
     "data": {
      "text/html": [
       "<style>\n",
       ".list-inline {list-style: none; margin:0; padding: 0}\n",
       ".list-inline>li {display: inline-block}\n",
       ".list-inline>li:not(:last-child)::after {content: \"\\00b7\"; padding: 0 .5ex}\n",
       "</style>\n",
       "<ol class=list-inline><li>2</li><li>3</li><li>1</li></ol>\n"
      ],
      "text/latex": [
       "\\begin{enumerate*}\n",
       "\\item 2\n",
       "\\item 3\n",
       "\\item 1\n",
       "\\end{enumerate*}\n"
      ],
      "text/markdown": [
       "1. 2\n",
       "2. 3\n",
       "3. 1\n",
       "\n",
       "\n"
      ],
      "text/plain": [
       "[1] 2 3 1"
      ]
     },
     "metadata": {},
     "output_type": "display_data"
    }
   ],
   "source": [
    "happiness <- happiness %>%\n",
    "mutate(munyppah = case_when(\n",
    "    happy == \"very happy\" ~ 3,\n",
    "    happy == \"pretty happy\" ~ 2,\n",
    "    happy == \"not too happy\" ~ 1,\n",
    "    ))\n",
    "unique(happiness$munyppah)"
   ]
  },
  {
   "cell_type": "code",
   "execution_count": 13,
   "metadata": {},
   "outputs": [
    {
     "data": {
      "text/html": [
       "<style>\n",
       ".list-inline {list-style: none; margin:0; padding: 0}\n",
       ".list-inline>li {display: inline-block}\n",
       ".list-inline>li:not(:last-child)::after {content: \"\\00b7\"; padding: 0 .5ex}\n",
       "</style>\n",
       "<ol class=list-inline><li>$10000 - 14999</li><li>&lt;NA&gt;</li><li>$15000 - 19999</li><li>$25000 or more</li><li>$20000 - 24999</li><li>$5000 to 5999</li><li>$3000 to 3999</li><li>$8000 to 9999</li><li>$6000 to 6999</li><li>$1000 to 2999</li><li>$4000 to 4999</li><li>$7000 to 7999</li><li>lt $1000</li></ol>\n",
       "\n",
       "<details>\n",
       "\t<summary style=display:list-item;cursor:pointer>\n",
       "\t\t<strong>Levels</strong>:\n",
       "\t</summary>\n",
       "\t<style>\n",
       "\t.list-inline {list-style: none; margin:0; padding: 0}\n",
       "\t.list-inline>li {display: inline-block}\n",
       "\t.list-inline>li:not(:last-child)::after {content: \"\\00b7\"; padding: 0 .5ex}\n",
       "\t</style>\n",
       "\t<ol class=list-inline><li>'iap'</li><li>'lt $1000'</li><li>'$1000 to 2999'</li><li>'$3000 to 3999'</li><li>'$4000 to 4999'</li><li>'$5000 to 5999'</li><li>'$6000 to 6999'</li><li>'$7000 to 7999'</li><li>'$8000 to 9999'</li><li>'$10000 - 14999'</li><li>'$15000 - 19999'</li><li>'$20000 - 24999'</li><li>'$25000 or more'</li><li>'refused'</li><li>'dk'</li><li>'na'</li></ol>\n",
       "</details>"
      ],
      "text/latex": [
       "\\begin{enumerate*}\n",
       "\\item \\$10000 - 14999\n",
       "\\item <NA>\n",
       "\\item \\$15000 - 19999\n",
       "\\item \\$25000 or more\n",
       "\\item \\$20000 - 24999\n",
       "\\item \\$5000 to 5999\n",
       "\\item \\$3000 to 3999\n",
       "\\item \\$8000 to 9999\n",
       "\\item \\$6000 to 6999\n",
       "\\item \\$1000 to 2999\n",
       "\\item \\$4000 to 4999\n",
       "\\item \\$7000 to 7999\n",
       "\\item lt \\$1000\n",
       "\\end{enumerate*}\n",
       "\n",
       "\\emph{Levels}: \\begin{enumerate*}\n",
       "\\item 'iap'\n",
       "\\item 'lt \\$1000'\n",
       "\\item '\\$1000 to 2999'\n",
       "\\item '\\$3000 to 3999'\n",
       "\\item '\\$4000 to 4999'\n",
       "\\item '\\$5000 to 5999'\n",
       "\\item '\\$6000 to 6999'\n",
       "\\item '\\$7000 to 7999'\n",
       "\\item '\\$8000 to 9999'\n",
       "\\item '\\$10000 - 14999'\n",
       "\\item '\\$15000 - 19999'\n",
       "\\item '\\$20000 - 24999'\n",
       "\\item '\\$25000 or more'\n",
       "\\item 'refused'\n",
       "\\item 'dk'\n",
       "\\item 'na'\n",
       "\\end{enumerate*}\n"
      ],
      "text/markdown": [
       "1. $10000 - 14999\n",
       "2. &lt;NA&gt;\n",
       "3. $15000 - 19999\n",
       "4. $25000 or more\n",
       "5. $20000 - 24999\n",
       "6. $5000 to 5999\n",
       "7. $3000 to 3999\n",
       "8. $8000 to 9999\n",
       "9. $6000 to 6999\n",
       "10. $1000 to 2999\n",
       "11. $4000 to 4999\n",
       "12. $7000 to 7999\n",
       "13. lt $1000\n",
       "\n",
       "\n",
       "\n",
       "**Levels**: 1. 'iap'\n",
       "2. 'lt $1000'\n",
       "3. '$1000 to 2999'\n",
       "4. '$3000 to 3999'\n",
       "5. '$4000 to 4999'\n",
       "6. '$5000 to 5999'\n",
       "7. '$6000 to 6999'\n",
       "8. '$7000 to 7999'\n",
       "9. '$8000 to 9999'\n",
       "10. '$10000 - 14999'\n",
       "11. '$15000 - 19999'\n",
       "12. '$20000 - 24999'\n",
       "13. '$25000 or more'\n",
       "14. 'refused'\n",
       "15. 'dk'\n",
       "16. 'na'\n",
       "\n",
       "\n"
      ],
      "text/plain": [
       " [1] $10000 - 14999 <NA>           $15000 - 19999 $25000 or more $20000 - 24999\n",
       " [6] $5000 to 5999  $3000 to 3999  $8000 to 9999  $6000 to 6999  $1000 to 2999 \n",
       "[11] $4000 to 4999  $7000 to 7999  lt $1000      \n",
       "16 Levels: iap lt $1000 $1000 to 2999 $3000 to 3999 ... na"
      ]
     },
     "metadata": {},
     "output_type": "display_data"
    }
   ],
   "source": [
    "unique(happiness$income)"
   ]
  },
  {
   "cell_type": "code",
   "execution_count": 14,
   "metadata": {},
   "outputs": [
    {
     "data": {
      "text/html": [
       "<style>\n",
       ".list-inline {list-style: none; margin:0; padding: 0}\n",
       ".list-inline>li {display: inline-block}\n",
       ".list-inline>li:not(:last-child)::after {content: \"\\00b7\"; padding: 0 .5ex}\n",
       "</style>\n",
       "<ol class=list-inline><li>12500</li><li>&lt;NA&gt;</li><li>17500</li><li>30000</li><li>22500</li><li>5500</li><li>3500</li><li>9000</li><li>6500</li><li>1500</li><li>4500</li><li>7500</li><li>500</li></ol>\n"
      ],
      "text/latex": [
       "\\begin{enumerate*}\n",
       "\\item 12500\n",
       "\\item <NA>\n",
       "\\item 17500\n",
       "\\item 30000\n",
       "\\item 22500\n",
       "\\item 5500\n",
       "\\item 3500\n",
       "\\item 9000\n",
       "\\item 6500\n",
       "\\item 1500\n",
       "\\item 4500\n",
       "\\item 7500\n",
       "\\item 500\n",
       "\\end{enumerate*}\n"
      ],
      "text/markdown": [
       "1. 12500\n",
       "2. &lt;NA&gt;\n",
       "3. 17500\n",
       "4. 30000\n",
       "5. 22500\n",
       "6. 5500\n",
       "7. 3500\n",
       "8. 9000\n",
       "9. 6500\n",
       "10. 1500\n",
       "11. 4500\n",
       "12. 7500\n",
       "13. 500\n",
       "\n",
       "\n"
      ],
      "text/plain": [
       " [1] 12500    NA 17500 30000 22500  5500  3500  9000  6500  1500  4500  7500\n",
       "[13]   500"
      ]
     },
     "metadata": {},
     "output_type": "display_data"
    }
   ],
   "source": [
    "happiness <- happiness %>%\n",
    "mutate(dollarincome = case_when(\n",
    "    income == \"lt $1000\" ~ 500,\n",
    "    income == \"$1000 to 2999\" ~ 1500,\n",
    "    income == \"$3000 to 3999\" ~ 3500,\n",
    "    income == \"$4000 to 4999\" ~ 4500,\n",
    "    income == \"$5000 to 5999\" ~ 5500,\n",
    "    income == \"$6000 to 6999\" ~ 6500,\n",
    "    income == \"$7000 to 7999\" ~ 7500,\n",
    "    income == \"$8000 to 9999\" ~ 9000,\n",
    "    income == \"$10000 - 14999\" ~ 12500,\n",
    "    income == \"$15000 - 19999\" ~ 17500,\n",
    "    income == \"$20000 - 24999\" ~ 22500,\n",
    "    income == \"$25000 or more\" ~ 30000\n",
    "    ))\n",
    "unique(happiness$dollarincome)"
   ]
  },
  {
   "cell_type": "code",
   "execution_count": 10,
   "metadata": {},
   "outputs": [],
   "source": [
    "happiness <- mutate(happiness, thdincome = dollarincome/1000)"
   ]
  },
  {
   "cell_type": "code",
   "execution_count": 16,
   "metadata": {},
   "outputs": [
    {
     "data": {
      "text/plain": [
       "\n",
       "Call:\n",
       "lm(formula = happynum ~ thdincome, data = happiness)\n",
       "\n",
       "Residuals:\n",
       "    Min      1Q  Median      3Q     Max \n",
       "-1.1416 -0.7380  0.1593  0.2620  1.2619 \n",
       "\n",
       "Coefficients:\n",
       "              Estimate Std. Error t value Pr(>|t|)    \n",
       "(Intercept)  2.1484635  0.0146784  146.37   <2e-16 ***\n",
       "thdincome   -0.0136805  0.0005694  -24.02   <2e-16 ***\n",
       "---\n",
       "Signif. codes:  0 ‘***’ 0.001 ‘**’ 0.01 ‘*’ 0.05 ‘.’ 0.1 ‘ ’ 1\n",
       "\n",
       "Residual standard error: 0.6128 on 15043 degrees of freedom\n",
       "  (2092 observations deleted due to missingness)\n",
       "Multiple R-squared:  0.03695,\tAdjusted R-squared:  0.03689 \n",
       "F-statistic: 577.2 on 1 and 15043 DF,  p-value: < 2.2e-16\n"
      ]
     },
     "metadata": {},
     "output_type": "display_data"
    }
   ],
   "source": [
    "reg1 <- lm(happynum ~ thdincome, \n",
    "           data = happiness)\n",
    "summary(reg1)"
   ]
  },
  {
   "cell_type": "code",
   "execution_count": 17,
   "metadata": {},
   "outputs": [
    {
     "data": {
      "text/plain": [
       "\n",
       "Call:\n",
       "lm(formula = munyppah ~ thdincome, data = happiness)\n",
       "\n",
       "Residuals:\n",
       "    Min      1Q  Median      3Q     Max \n",
       "-1.2619 -0.2620 -0.1593  0.7380  1.1416 \n",
       "\n",
       "Coefficients:\n",
       "             Estimate Std. Error t value Pr(>|t|)    \n",
       "(Intercept) 1.8515365  0.0146784  126.14   <2e-16 ***\n",
       "thdincome   0.0136805  0.0005694   24.02   <2e-16 ***\n",
       "---\n",
       "Signif. codes:  0 ‘***’ 0.001 ‘**’ 0.01 ‘*’ 0.05 ‘.’ 0.1 ‘ ’ 1\n",
       "\n",
       "Residual standard error: 0.6128 on 15043 degrees of freedom\n",
       "  (2092 observations deleted due to missingness)\n",
       "Multiple R-squared:  0.03695,\tAdjusted R-squared:  0.03689 \n",
       "F-statistic: 577.2 on 1 and 15043 DF,  p-value: < 2.2e-16\n"
      ]
     },
     "metadata": {},
     "output_type": "display_data"
    }
   ],
   "source": [
    "reg1 <- lm(munyppah ~ thdincome, \n",
    "           data = happiness)\n",
    "summary(reg1)"
   ]
  },
  {
   "cell_type": "markdown",
   "metadata": {},
   "source": [
    "<div style=\"text-align: right\"> <span style=\"font-family:Papyrus; \">And they lived happily ever after. The End.</span></div>"
   ]
  }
 ],
 "metadata": {
  "kernelspec": {
   "display_name": "R",
   "language": "R",
   "name": "ir"
  },
  "language_info": {
   "codemirror_mode": "r",
   "file_extension": ".r",
   "mimetype": "text/x-r-source",
   "name": "R",
   "pygments_lexer": "r",
   "version": "4.2.1"
  }
 },
 "nbformat": 4,
 "nbformat_minor": 4
}
