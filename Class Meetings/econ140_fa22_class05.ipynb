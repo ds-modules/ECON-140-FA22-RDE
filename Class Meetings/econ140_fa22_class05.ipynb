{
 "cells": [
  {
   "cell_type": "markdown",
   "id": "8ff12b62",
   "metadata": {},
   "source": [
    "<h1>ECON 140R Class 05</h1>"
   ]
  },
  {
   "cell_type": "markdown",
   "id": "e531711f-d826-4fce-80ac-9ccce141318f",
   "metadata": {},
   "source": [
    "Data from the 1974-1982 RAND Health Insurance Experiment (HIE) were unearthed by Aviva Aron-Dine, Liran Einav, and Amy Finkelstein (J. Econ. Perspect., 2013). Josh Angrist and J&#246;rn-Steffen Pischke provide an extract online at [Mastering Metrics](https://www.masteringmetrics.com/resources/).\n",
    "\n",
    "Let's examine the data behind Table 1.3, which shows baseline characteristics for the \"control group,\" people with catastrophic health insurance only (the leftmost column), and in subsequent columns, the average difference in the characteristic in that row between one of the three \"treatment arms\" they argue are useful to consider (deductible, coinsurance, free), and the control group.\n",
    "\n",
    "The objectives here are to get more experience with real data, and to notice that ordinary least squares regression with `lm()` is a very handy way to cut to the chase and test average differences across subgroups. A \"small print\" detail is that Angrist and Pischke are doing what's called <i>clustering standard errors at the family level</i>. This last point will definitely not be on any exams.\n",
    "\n",
    "The main objective is to recognize that with an outcome variable $y_i$ and group identity indicator variables $D^d_i$, $D^c_i$, and $D^f_i$, for example, then this regression:\n",
    "\n",
    "$$\n",
    "y_i = \\alpha + \\beta^d \\cdot D^d_i + \\beta^c \\cdot D^c_i + \\beta^f \\cdot D^f_i + \\epsilon_i\n",
    "$$\n",
    "\n",
    "provides a very convenient way of testing the average differences:\n",
    "* between the control group and group $d$: $\\beta^d$\n",
    "* between the control group and group $c$: $\\beta^c$\n",
    "* between the control group and group $f$: $\\beta^f$\n",
    "\n",
    "Here's a clean PNG of Table 1.3:"
   ]
  },
  {
   "cell_type": "markdown",
   "id": "75212122",
   "metadata": {},
   "source": [
    "<img src=\"MMtbl13.png\" width=\"800\" />"
   ]
  },
  {
   "cell_type": "markdown",
   "id": "b1bb625c",
   "metadata": {},
   "source": [
    "Let's load up <b>haven</b> and <b>tidyverse</b>"
   ]
  },
  {
   "cell_type": "code",
   "execution_count": null,
   "id": "c2fd4880",
   "metadata": {},
   "outputs": [],
   "source": [
    "library(haven)\n",
    "library(tidyverse)"
   ]
  },
  {
   "cell_type": "markdown",
   "id": "0fec32e0",
   "metadata": {},
   "source": [
    "I have prepared an extract of the RAND HIE data underneath Table 1.3 in <i>Mastering Metrics</i>. These data include health care utilization outcomes across the four groups that Angrist and Pischke argue are usefully distinguishable, ordered here from least generous to most generous:\n",
    "\n",
    "* Catastrophic plan\n",
    "* Deductible plan\n",
    "* Coinsurance plan\n",
    "* Free plan\n",
    "\n",
    "We have the baseline background characteristics, and we also have baseline and end-of-study health status. The variables named with an \"-x\" at the end are the end-of-study measures, except where `ghindx` is baseline general health and thus `ghindxx` is end-of-study general health. "
   ]
  },
  {
   "cell_type": "code",
   "execution_count": null,
   "id": "92e742a6",
   "metadata": {},
   "outputs": [],
   "source": [
    "table1_3 <- read_dta(\"table1_3.dta\")"
   ]
  },
  {
   "cell_type": "code",
   "execution_count": null,
   "id": "5adcdb4e",
   "metadata": {},
   "outputs": [],
   "source": [
    "head(table1_3)"
   ]
  },
  {
   "cell_type": "markdown",
   "id": "1b8caffd",
   "metadata": {},
   "source": [
    "Let's create new data frames for each of the four groups using `filter()`. The shortened group names are:\n",
    "\n",
    "* `plan_catas` = Catastrophic plan \n",
    "* `plan_deduc` = Deductible plan   \n",
    "* `plan_coins` = Coinsurance plan  \n",
    "* `plan_free`  = Free plan   \n",
    "\n",
    "Copy and paste this code below and run it:\n",
    "\n",
    "`table1_3_catas <- filter(table1_3, plan_catas == 1)`\n",
    "\n",
    "`table1_3_deduc <- filter(table1_3, plan_deduc == 1)`\n",
    "\n",
    "`table1_3_coins <- filter(table1_3, plan_coins == 1)`\n",
    "\n",
    "`table1_3_free  <- filter(table1_3, plan_free  == 1)`"
   ]
  },
  {
   "cell_type": "code",
   "execution_count": null,
   "id": "4abe077f",
   "metadata": {},
   "outputs": [],
   "source": []
  },
  {
   "cell_type": "markdown",
   "id": "813fc917",
   "metadata": {},
   "source": [
    "What we now have are 4 separate data frames for the 4 groups assigned to different insurance plans.\n",
    "\n",
    "In STAT 20, you might have used `t.test()` to run a comparison between two groups. Let's run `t.test()` on the percent identifying as `female` in the deductible group versus the catastrophic group. This should get us something like the two numbers in the table at upper left.\n",
    "\n",
    "`t.test(table1_3_deduc$female, table1_3_catas$female)`"
   ]
  },
  {
   "cell_type": "code",
   "execution_count": null,
   "id": "8076a939",
   "metadata": {},
   "outputs": [],
   "source": []
  },
  {
   "cell_type": "markdown",
   "id": "84f38c30",
   "metadata": {},
   "source": [
    "Not exactly clear, is it? The $t$-statistic is 1.53, which in words means that this difference is about 1.5 times its standard error. That's not big enough for us to reject the null hypothesis that the true difference is zero. \n",
    "\n",
    "There's probably an option to `t.test()` that will show us this, but we can also just type it into __R__. Here is the difference between those last two numbers in the output:"
   ]
  },
  {
   "cell_type": "code",
   "execution_count": null,
   "id": "e6479f9f",
   "metadata": {},
   "outputs": [],
   "source": [
    "0.5368899 - 0.5599473"
   ]
  },
  {
   "cell_type": "markdown",
   "id": "cdee9a24",
   "metadata": {},
   "source": [
    "This is indeed the point estimate ($-0.23$) of the average difference that appears at the upper left of Table 1.3A.\n",
    "\n",
    "And then this, the difference divided by the $t$-stat, has to be the estimated standard error:"
   ]
  },
  {
   "cell_type": "code",
   "execution_count": null,
   "id": "4f6fa89f",
   "metadata": {},
   "outputs": [],
   "source": [
    "(0.5368899 - 0.5599473)/-0.93539"
   ]
  },
  {
   "cell_type": "markdown",
   "id": "43cd8271",
   "metadata": {},
   "source": [
    "Unfortunately this is not the standard error (.16) that appears under the $-0.23$ at the upper left of Table 1.4A. What's going on? Let's load in that new library, which will let us run a special version of `lm()` that will help reveal what's going on."
   ]
  },
  {
   "cell_type": "code",
   "execution_count": null,
   "id": "522e9755",
   "metadata": {},
   "outputs": [],
   "source": [
    "library(estimatr)"
   ]
  },
  {
   "cell_type": "markdown",
   "id": "236116d1",
   "metadata": {},
   "source": [
    "First, let's run `lm_robust()` with options set to the baseline. The syntax is the same as it is for `lm()`, and we should recover the same results, as long as we set the standard errors to \"classical\" type.\n",
    "\n",
    "`reg_toprow <- lm(female ~ plan_deduc + plan_coins + plan_free, data = table1_3)`\n",
    "\n",
    "`summary(reg_toprow)`\n",
    "\n",
    "`reg_toprowrob <- lm_robust(female ~ plan_deduc + plan_coins + plan_free, \n",
    "                           data = table1_3, se_type = \"classical\")`\n",
    "\n",
    "`summary(reg_toprowrob)`"
   ]
  },
  {
   "cell_type": "code",
   "execution_count": null,
   "id": "985f3cd2",
   "metadata": {},
   "outputs": [],
   "source": []
  },
  {
   "cell_type": "code",
   "execution_count": null,
   "id": "e294df08",
   "metadata": {},
   "outputs": [],
   "source": []
  },
  {
   "cell_type": "markdown",
   "id": "08ccf82e",
   "metadata": {},
   "source": [
    "Now let's explore what <i>clustering our standard errors at the family level</i> does to our estimates of the standard errors. Because there are families in these data, indexed by the `famid` variable, we might expect that the $\\epsilon$'s that shock a person one way or another within a family might shock the rest of the family as well. Imagine a family car that breaks down, so nobody keeps their checkup appointments.\n",
    "\n",
    "`reg_toprowcluster <- lm_robust(female ~ plan_deduc + plan_coins + plan_free, \n",
    "                                data = table1_3, clusters = famid)`\n",
    "                              \n",
    "`summary(reg_toprowcluster)`"
   ]
  },
  {
   "cell_type": "code",
   "execution_count": null,
   "id": "b4078f94",
   "metadata": {},
   "outputs": [],
   "source": []
  },
  {
   "cell_type": "markdown",
   "id": "24696d15",
   "metadata": {},
   "source": [
    "Compare these results to the top row in Table 1.3A. What do you see?"
   ]
  },
  {
   "cell_type": "markdown",
   "id": "353179f2",
   "metadata": {},
   "source": []
  },
  {
   "cell_type": "markdown",
   "id": "e5dcf6ba",
   "metadata": {},
   "source": [
    "Compare these results to the results without clustering standard errors at the family level. Which ones are larger?"
   ]
  },
  {
   "cell_type": "markdown",
   "id": "a9ec932f",
   "metadata": {},
   "source": []
  },
  {
   "cell_type": "markdown",
   "id": "4b707bff",
   "metadata": {},
   "source": [
    "<h6>A pause to reflect</h6>\n",
    "Notice that we ran this model::\n",
    "$$\n",
    "female_i = \\alpha + \\beta^d \\cdot D^d_i + \\beta^c \\cdot D^c_i + \\beta^f \\cdot D^f_i + \\epsilon_i\n",
    "$$\n",
    "\n",
    "where the $D$'s are the 0/1 indicator variables showing membership in the treatment arms (deductible, coinsurance, free).\n",
    "\n",
    "Does it surprise or concern you at all that the $y$-variable, `female`, is <i>also</i> a 0/1 indicator variable?"
   ]
  },
  {
   "cell_type": "markdown",
   "id": "f1fce80e",
   "metadata": {},
   "source": [
    "<h2>BONUS ROUND</h2>\n",
    "\n",
    "There are many other interesting things to look at here. We can also examine how baseline (before randomization) or end-of-study outcomes vary with characteristics, in a break with the RCT's advantages. But it can help us with practice and potentially some interesting thought experiments."
   ]
  },
  {
   "cell_type": "markdown",
   "id": "58dc8bed",
   "metadata": {},
   "source": [
    "Here's a reproduction of the top line in panel B, where we are looking at the \"General health index\" `ghindx` across control and treatment arms:\n",
    "\n",
    "`reg_ghindxcluster <- lm_robust(ghindx ~ plan_deduc + plan_coins + plan_free,                                  \n",
    "                               data = table1_3, clusters = famid)`\n",
    "\n",
    "`summary(reg_ghindxcluster)`"
   ]
  },
  {
   "cell_type": "code",
   "execution_count": null,
   "id": "f55fdc5b",
   "metadata": {},
   "outputs": [],
   "source": []
  },
  {
   "cell_type": "markdown",
   "id": "5454a8f9",
   "metadata": {},
   "source": [
    "It looks like we've got the right variable. Maybe we can try this model of health:\n",
    "\n",
    "$$\n",
    "ghindx_{i0} = \\alpha + \\beta^a \\cdot age_i + \\beta^f \\cdot female_i + \\beta^bh \\cdot blackhisp_i + \\beta^e \\cdot educ_i +\n",
    "\\beta^i \\cdot income_{i0} + \\epsilon_i\n",
    "$$\n",
    "\n",
    "where I'm using $i0$ to refer to the measure of a variable for person $i$ at time $0$, meaning before the RCT. "
   ]
  },
  {
   "cell_type": "markdown",
   "id": "fb640a3a",
   "metadata": {},
   "source": [
    "`reg_ghindx_yc <- lm_robust(ghindx ~ age + female + blackhisp + educper + income1cpi,                                  \n",
    "                               data = table1_3, clusters = famid)`\n",
    "\n",
    "`summary(reg_ghindx_yc)`"
   ]
  },
  {
   "cell_type": "code",
   "execution_count": null,
   "id": "d75834c2",
   "metadata": {},
   "outputs": [],
   "source": []
  },
  {
   "cell_type": "markdown",
   "id": "b170411b",
   "metadata": {},
   "source": [
    "Write about what you see here!"
   ]
  },
  {
   "cell_type": "markdown",
   "id": "107de324",
   "metadata": {},
   "source": []
  },
  {
   "cell_type": "markdown",
   "id": "50ab6640",
   "metadata": {},
   "source": [
    "<div style=\"text-align: right\"> <span style=\"font-family:Papyrus; \">And they lived happily ever after. The End.</span></div>"
   ]
  }
 ],
 "metadata": {
  "kernelspec": {
   "display_name": "R",
   "language": "R",
   "name": "ir"
  },
  "language_info": {
   "codemirror_mode": "r",
   "file_extension": ".r",
   "mimetype": "text/x-r-source",
   "name": "R",
   "pygments_lexer": "r",
   "version": "4.2.1"
  }
 },
 "nbformat": 4,
 "nbformat_minor": 5
}
