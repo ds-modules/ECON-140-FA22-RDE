{
 "cells": [
  {
   "cell_type": "markdown",
   "id": "28bfe784",
   "metadata": {},
   "source": [
    "<h1>ECON 140R Class 12</h1>"
   ]
  },
  {
   "cell_type": "markdown",
   "id": "90b66eed",
   "metadata": {},
   "source": [
    "In this notebook we're examining a special extract of the 1980 Census to replicate [Angrist and Krueger (1994)](https://www-jstor-org.libproxy.berkeley.edu/stable/2535121), who research \"Why Do World War II Veterans Earn More than Nonveterans?\"\n",
    "\n",
    "Learning objectives:\n",
    "\n",
    "1. More experience with OLS\n",
    "2. Setting us up for IV"
   ]
  },
  {
   "cell_type": "code",
   "execution_count": null,
   "id": "3fe2d54f",
   "metadata": {},
   "outputs": [],
   "source": [
    "library(tidyverse)\n",
    "library(haven)"
   ]
  },
  {
   "cell_type": "markdown",
   "id": "485312ef",
   "metadata": {},
   "source": [
    "It turns out that this handy command stops __R__ from defaulting to scientific notation. "
   ]
  },
  {
   "cell_type": "code",
   "execution_count": null,
   "id": "72b4d565",
   "metadata": {},
   "outputs": [],
   "source": [
    "options(scipen=999)"
   ]
  },
  {
   "cell_type": "markdown",
   "id": "8e23c4ca",
   "metadata": {},
   "source": [
    "This is an extract from the 1980 Census public-use microsample, a 5% flat cut of the entire Census. It contains men born in 1925, 1926, 1927, and 1928, their quarter of birth, whether they served in WWII `wwii`, and their wage and salary income `incwage`, along with several other characteristics."
   ]
  },
  {
   "cell_type": "code",
   "execution_count": null,
   "id": "144ee7de",
   "metadata": {},
   "outputs": [],
   "source": [
    "data_c80_regsample = read_dta(\"data_c80_regsample.dta\")\n",
    "head(data_c80_regsample)"
   ]
  },
  {
   "cell_type": "markdown",
   "id": "eddcc463",
   "metadata": {},
   "source": [
    "Here is a baseline regression of log pre-tax wage and salary income, [described at IPUMS here](https://usa.ipums.org/usa-action/variables/INCWAGE#description_section):\n",
    "\n",
    "$$\n",
    "\\ln Y_i = \\alpha + \\beta^{w} \\ wwii_i + B \\ controls_i + \\epsilon_i\n",
    "$$\n",
    "\n",
    "where we are controlling for 0/1 WWII service; year of birth; being white (Black, Hispanic, and other men are the baseline omitted category); being married in 1980; a 0/1 indicator of living and working in a standard metropolitan statistical area (SMSA); years of education; a 0/1 indicator of a disability that limits or prevents work; and 50 indicators for state residence (Alaska is dropped).\n",
    "\n",
    "We'll run this regression and examine what we find for $\\beta^w$."
   ]
  },
  {
   "cell_type": "code",
   "execution_count": null,
   "id": "628b2735",
   "metadata": {},
   "outputs": [],
   "source": [
    "c80_reg1 <- lm(logincwage ~ wwii + factor(birthyr) + white + married + smsa + \n",
    "               edyrs + disability + factor(statefip), \n",
    "               data = data_c80_regsample)\n",
    "summary(c80_reg1)"
   ]
  },
  {
   "cell_type": "markdown",
   "id": "e5693fbe",
   "metadata": {},
   "source": [
    "What do you see? Discuss."
   ]
  },
  {
   "cell_type": "markdown",
   "id": "093e0be1",
   "metadata": {},
   "source": []
  },
  {
   "cell_type": "markdown",
   "id": "e4bf004c",
   "metadata": {},
   "source": [
    "<hr>"
   ]
  },
  {
   "cell_type": "markdown",
   "id": "99b8612d",
   "metadata": {},
   "source": [
    "<div style=\"text-align: right\"> <span style=\"font-family:Papyrus; \">And they lived happily ever after. The End.</span></div>"
   ]
  }
 ],
 "metadata": {
  "kernelspec": {
   "display_name": "R",
   "language": "R",
   "name": "ir"
  },
  "language_info": {
   "codemirror_mode": "r",
   "file_extension": ".r",
   "mimetype": "text/x-r-source",
   "name": "R",
   "pygments_lexer": "r",
   "version": "4.2.1"
  }
 },
 "nbformat": 4,
 "nbformat_minor": 5
}
