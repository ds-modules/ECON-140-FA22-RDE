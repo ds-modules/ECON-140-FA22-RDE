{
 "cells": [
  {
   "cell_type": "markdown",
   "id": "0d73132b",
   "metadata": {},
   "source": [
    "<h1>ECON 140R Class 20</h1>"
   ]
  },
  {
   "cell_type": "markdown",
   "id": "25031a3e",
   "metadata": {},
   "source": [
    "<b>Difference-in-differences (DID)</b> estimation is an extremely useful tool that can take several forms. The simplest to understand is literally the difference that is evident across differences, usually meaning the difference between the change in outcomes over time for treatment vs. control.\n",
    "\n",
    "In Class 19, we saw \"regression DID\" with several time periods and two groups, which is the first generalization. This is where section 5.1 in <i>Mastering Metrics</i> ends.\n",
    "\n",
    "The second generalization we might call <b>panel fixed effects</b>, an estimation strategy when there are many more groups, which can be treated and then untreated, as we will see. This is the topic of section 5.2.\n",
    "\n",
    "Learning objectives:\n",
    "\n",
    "1. Examine panel data on the Minimum Legal Drinking Age (MLDA)\n",
    "2. Run a DID using panel fixed effects and a clever TREAT $\\times$ POST in `lm()`\n",
    "3. Fail and then succeed. Failure is part of the story!"
   ]
  },
  {
   "cell_type": "code",
   "execution_count": null,
   "id": "fba85d88",
   "metadata": {},
   "outputs": [],
   "source": [
    "library(haven)\n",
    "library(dplyr)\n",
    "library(estimatr)"
   ]
  },
  {
   "cell_type": "markdown",
   "id": "fdf3bb3d",
   "metadata": {},
   "source": [
    "To begin, let us return to the fantastically compact example we saw in section 5.1, in class 19:"
   ]
  },
  {
   "cell_type": "code",
   "execution_count": null,
   "id": "6dd42834",
   "metadata": {},
   "outputs": [],
   "source": [
    "figure_3_annavg <- read_dta(\"figure_3_annavg.dta\")\n",
    "figure_3_annavg"
   ]
  },
  {
   "cell_type": "markdown",
   "id": "1e8bf39c",
   "metadata": {},
   "source": [
    "If we stare hard at this compact dataset, we might draw some important conclusions:\n",
    "\n",
    "* There is a group fixed effect, an indicator of group identity\n",
    "* There is a time fixed effect, here an indicator of \"pre\" and \"post\" treatment\n",
    "* The key variable for DID is `treatxpost`, the product of the group and time fixed effect\n",
    "* This is like running a model with <b>group</b> and <b>time</b> fixed effects, and with a treatment variable that \"switches on\" appropriately\n",
    "\n",
    "We are going to see exactly this kind of thing again very soon."
   ]
  },
  {
   "cell_type": "markdown",
   "id": "ffd33e24",
   "metadata": {},
   "source": [
    "And now let us load in the much larger dataset `deaths.dta` that Angrist and Pischke examine in Table 5.2 and 5.3 inside section 5.2."
   ]
  },
  {
   "cell_type": "code",
   "execution_count": null,
   "id": "eccdc87b",
   "metadata": {},
   "outputs": [],
   "source": [
    "deaths <- read_dta(\"deaths.dta\")\n",
    "head(deaths)"
   ]
  },
  {
   "cell_type": "markdown",
   "id": "0d839e30",
   "metadata": {},
   "source": [
    "This panel dataset is complicated. Each row is actually not a state-year, it is instead a <b>state-year-age_group-cause</b>. That is, variable `dtype` indexes the cause of death for which that row's `mrate` measures the mortality rate in deaths per 100,000; deaths and population at risk are for the age group indexed by variable `agegr`.\n",
    "\n",
    "The codings for each of these variables are:\n",
    "\n",
    "`dtype`\n",
    "1. All deaths\n",
    "2. Motor vehicle accidents\n",
    "3. Suicide\n",
    "4. Homicide\n",
    "5. Other external cause\n",
    "6. Internal cause \n",
    "\n",
    "`agegr`\n",
    "1. ages 15-17\n",
    "2. ages 18-20\n",
    "3. ages 21-24\n",
    "\n"
   ]
  },
  {
   "cell_type": "markdown",
   "id": "b86882d1",
   "metadata": {},
   "source": [
    "This kind of dataset is challenging to work with, although it is perfectly set up for panel analysis. Simply put, it is hard to see the trees for the forest, to turn a common idiom on its head. It is not easy to peer inside these complex data.\n",
    "\n",
    "Inside __R__, I think the most obvious way to peer inside the data is to use `subset()` to carve off a piece of the whole. "
   ]
  },
  {
   "cell_type": "code",
   "execution_count": null,
   "id": "70f9b962",
   "metadata": {},
   "outputs": [],
   "source": [
    "# This is data for California showing a bunch of variables between 1970 and 1996, \n",
    "# and the outcome variable mrate = Motor Vehicle Accident mortality per 100,000 aged 18-20 \n",
    "ca_18_20_mva <- subset(deaths, state == 6 & agegr == 2 & dtype == 2)\n",
    "ca_18_20_mva"
   ]
  },
  {
   "cell_type": "markdown",
   "id": "77ca7208",
   "metadata": {},
   "source": [
    "There is not a lot going on here with the minimum legal drinking age (MLDA), because California had it set at 21 since 1933, apparently. [Source: Wikipedia](https://en.wikipedia.org/wiki/U.S._history_of_alcohol_minimum_purchase_age_by_state).\n",
    "\n",
    "A pair of states that are more interesting to look at, per Angrist and Pischke, are Alabama and Arkansas. Alabama lowered its minimum legal drinking age to 19 in 1975, while Arkansas remained at 21 since Prohibition, like California."
   ]
  },
  {
   "cell_type": "code",
   "execution_count": null,
   "id": "e401ffdd",
   "metadata": {},
   "outputs": [],
   "source": [
    "# Alabama is state FIPS == 1\n",
    "al_18_20_mva <- subset(deaths, state == 1 & agegr == 2 & dtype == 2 & year <= 1983)\n",
    "al_18_20_mva\n",
    "# Arkansas is state FIPS == 5\n",
    "ar_18_20_mva <- subset(deaths, state == 5 & agegr == 2 & dtype == 2 & year <= 1983)\n",
    "ar_18_20_mva"
   ]
  },
  {
   "cell_type": "markdown",
   "id": "107a432e",
   "metadata": {},
   "source": [
    "To run a panel fixed effects model, we need to stack or pool these two sets of state-specific observations. In __R__, `rbind()` allows us to do exactly that."
   ]
  },
  {
   "cell_type": "code",
   "execution_count": null,
   "id": "a9ff62bd",
   "metadata": {},
   "outputs": [],
   "source": [
    "ar_al_18_20_mva <- rbind(al_18_20_mva, ar_18_20_mva)\n",
    "ar_al_18_20_mva"
   ]
  },
  {
   "cell_type": "markdown",
   "id": "6223177f",
   "metadata": {},
   "source": [
    "Now let's call `mutate()` several times to create new variables for our standard DID set:\n",
    "\n",
    "* $TREAT$ is an indicator of the treatment state, here Alabama\n",
    "* $POST$ is an indicator of being past the treatment, here 1975 and onward\n",
    "* $TREAT \\times POST$ is the DID treatment variable, which measures being the treatment group during the treatment"
   ]
  },
  {
   "cell_type": "code",
   "execution_count": null,
   "id": "d099d985",
   "metadata": {},
   "outputs": [],
   "source": [
    "ar_al_18_20_mva <- mutate(ar_al_18_20_mva, treat = as.integer(state == 1))\n",
    "ar_al_18_20_mva <- mutate(ar_al_18_20_mva, post = as.integer(year >= 1975))\n",
    "ar_al_18_20_mva <- mutate(ar_al_18_20_mva, treatxpost = as.integer(treat*post))"
   ]
  },
  {
   "cell_type": "code",
   "execution_count": null,
   "id": "f9b7413e",
   "metadata": {},
   "outputs": [],
   "source": [
    "ar_al_18_20_mva"
   ]
  },
  {
   "cell_type": "markdown",
   "id": "8a67acf2",
   "metadata": {},
   "source": [
    "Now let us run regression DID with Alabama and Arkansas from 1970-1983. Here is the regression equation, which is also shown on page 192 of <i>Mastering Metrics</i>:\n",
    "\n",
    "$$\n",
    "mrate_{st} = \\alpha + \\beta \\ TREAT_s + \\gamma \\ POST_t + \\delta_{rDID} \\ TREAT_s \\times POST_t + e_{st} \n",
    "$$\n",
    "\n",
    "where $mrate_{st}$ is the motor vehicle accident mortality rate in state $s$ at time $t$. (Angrist and Pischke are silent on which mortality rate they are talking about. Total or MVA mortality are the two obvious choices.) "
   ]
  },
  {
   "cell_type": "code",
   "execution_count": null,
   "id": "e6ce8319",
   "metadata": {},
   "outputs": [],
   "source": [
    "ar_al_did_70_83 <- lm(mrate ~ treat + post + treatxpost,\n",
    "               data = ar_al_18_20_mva)\n",
    "summary(ar_al_did_70_83)"
   ]
  },
  {
   "cell_type": "markdown",
   "id": "4806f547",
   "metadata": {},
   "source": [
    "What do we see in the results above? Are you impressed or disheartened? Are Alabama and Arkansas good states to compare? Is the time period very long?"
   ]
  },
  {
   "cell_type": "markdown",
   "id": "18439123",
   "metadata": {},
   "source": []
  },
  {
   "cell_type": "markdown",
   "id": "18ee3e97",
   "metadata": {},
   "source": [
    "<hr>"
   ]
  },
  {
   "cell_type": "markdown",
   "id": "fd1c1708",
   "metadata": {},
   "source": [
    "Another thing we could do is try and visualize what is happening."
   ]
  },
  {
   "cell_type": "code",
   "execution_count": null,
   "id": "1cfa38e6",
   "metadata": {},
   "outputs": [],
   "source": [
    "plot(ar_18_20_mva$year, ar_18_20_mva$mrate, type = \"b\", main = \"Arkansas MVA death rates\")\n",
    "grid()"
   ]
  },
  {
   "cell_type": "code",
   "execution_count": null,
   "id": "7793356c",
   "metadata": {},
   "outputs": [],
   "source": [
    "plot(al_18_20_mva$year, al_18_20_mva$mrate, type = \"b\", main = \"Alabama MVA death rates\")\n",
    "grid()"
   ]
  },
  {
   "cell_type": "markdown",
   "id": "49f6e97c",
   "metadata": {},
   "source": [
    "Perhaps to no great surprise, Arkansas does not appear to be a particularly good control group for Alabama. Visually speaking, parallel trends are far from easy to pick out here.\n",
    "\n",
    "Takeaways:\n",
    "1. It is OK to be \"wrong.\" Everybody is wrong often. Breathe it in and feel the wrong set you free\n",
    "2. When data are annual averages, it can be easy not to find statistically significant results"
   ]
  },
  {
   "cell_type": "markdown",
   "id": "40f44632",
   "metadata": {
    "slideshow": {
     "slide_type": "subslide"
    }
   },
   "source": [
    "Before we leave the Alabama and Arkansas example, let us examine the clever trick introduced by Angrist and Pischke in <i>Mastering Metrics</i> section 5.2, where they propose a new DID treatment variable for the minimum legal drinking age scenario, called $LEGAL_{st}$, which is an index ranging between 0 and 1 for state $s$ in year $t$.\n",
    "\n",
    "Because states changed their MLDAs between 18 and 21, the age group 18-20 is most interesting to examine. But it also is not equally interesting in all places, because different states did different things. They also did them at <i>different times</i> during the year, passing a law that affected less than the full year, for example.\n",
    "\n",
    "(An additional wrinkle that MM can largely sidestep is that alcohol-related motor vehicle accidents are surely not uniformly distributed across the days and weeks of the year. With annual data, these issues are unlikely to be important. But if the data were quarterly, monthly, weekly, or daily, these issues would be important. For more, see the ECON 140R modules on time series and seasonal adjustment.) \n",
    "\n",
    "Bottom line, $LEGAL_{st}$ is a constructed variable that helps estimation while still looking a lot like the $TREAT_s \\times POST_t$ variable that we know and love. Let us examine what happens when we use $LEGAL_{st}$ instead:"
   ]
  },
  {
   "cell_type": "code",
   "execution_count": null,
   "id": "b2719df9",
   "metadata": {},
   "outputs": [],
   "source": [
    "ar_al_did_70_83_2 <- lm(mrate ~ treat + post + legal,\n",
    "               data = ar_al_18_20_mva)\n",
    "summary(ar_al_did_70_83_2)"
   ]
  },
  {
   "cell_type": "markdown",
   "id": "12fcf2f5",
   "metadata": {},
   "source": [
    "What do we see here? Is the story much different using $LEGAL_{st}$?"
   ]
  },
  {
   "cell_type": "markdown",
   "id": "792afae1",
   "metadata": {},
   "source": []
  },
  {
   "cell_type": "markdown",
   "id": "ee2816da",
   "metadata": {},
   "source": [
    "<hr>"
   ]
  },
  {
   "cell_type": "markdown",
   "id": "6a4007a4",
   "metadata": {},
   "source": [
    "Let us jump ahead to the finish line in Chapter 5, which is Table 5.2, which shows the results of four different models (across the columns) applied to four different measures of mortality (across the rows). Here is Table 5.2:"
   ]
  },
  {
   "cell_type": "markdown",
   "id": "99f9c9bc",
   "metadata": {},
   "source": [
    "<img src = \"images/MMtbl52.png\" width = 500 /> "
   ]
  },
  {
   "cell_type": "markdown",
   "id": "36552f54",
   "metadata": {},
   "source": [
    "The way to read the table is that each cell is the DID estimate of the effect of a state's <i>lowering</i> its minimum legal drinking age (MLDA) on a particular death rate, which is shown along the row. A positive number is an increase in the death rate that is caused by lowering the MLDA, so that more 18-20 year olds can legally drink alcohol. The number in the upper left, $10.80$, means that expanding legal drinking down to age 18 triggers an increase in the total death rate among 18-20 year olds of 10.80 deaths per 100,000. That estimate is obtained without state trends or weights; when those are included, along the columns, the results change a little."
   ]
  },
  {
   "cell_type": "markdown",
   "id": "e9503a08",
   "metadata": {},
   "source": [
    "See that $10.80$? Here it is below, in the first row after the intercept. We are just running `lm()` with the all-cause death rate as our $y$-variable (`dtype1` == 1), in the appropriate time range and with the 18-20yo age group."
   ]
  },
  {
   "cell_type": "code",
   "execution_count": null,
   "id": "f1f7b123",
   "metadata": {},
   "outputs": [],
   "source": [
    "panel_fe_1 <- lm(mrate ~ legal + factor(state) + factor(year),\n",
    "                 data = subset(deaths, year <= 1983 & agegr == 2 & dtype == 1))\n",
    "summary(panel_fe_1)"
   ]
  },
  {
   "cell_type": "markdown",
   "id": "aad7cece",
   "metadata": {},
   "source": [
    "Note how the standard error of that coefficient on $LEGAL_{st}$ is $3.14$ rather than the reported value of $4.59$ shown in Table 5.2. As Angrist and Pischke discuss in the appendix to Chapter 5, best practices are to <i>cluster the standard errors</i> on the group ID, here the states.\n",
    "\n",
    "In the long, long ago we did the same for the RAND HIE, only there we clustered on `famid`, the family ID. So let us bring back our beloved friend `lm_robust()` for some good times:"
   ]
  },
  {
   "cell_type": "code",
   "execution_count": null,
   "id": "2db18036",
   "metadata": {},
   "outputs": [],
   "source": [
    "panel_fe_1r <- lm_robust(mrate ~ legal + factor(state) + factor(year),\n",
    "                         data = subset(deaths, year <= 1983 & agegr == 2 & dtype == 1),\n",
    "                         clusters = state, se_type = \"stata\")\n",
    "summary(panel_fe_1r)"
   ]
  },
  {
   "cell_type": "markdown",
   "id": "9f05196b",
   "metadata": {},
   "source": [
    "Ha! Note the call to ask __R__ to use `se_type` equal to \"stata\" there as a finishing touch!"
   ]
  },
  {
   "cell_type": "markdown",
   "id": "487d5957",
   "metadata": {},
   "source": [
    "<div style=\"text-align: right\"> <span style=\"font-family:Papyrus; \">And they lived happily ever after. The End.</span></div>"
   ]
  }
 ],
 "metadata": {
  "kernelspec": {
   "display_name": "R",
   "language": "R",
   "name": "ir"
  },
  "language_info": {
   "codemirror_mode": "r",
   "file_extension": ".r",
   "mimetype": "text/x-r-source",
   "name": "R",
   "pygments_lexer": "r",
   "version": "4.2.1"
  }
 },
 "nbformat": 4,
 "nbformat_minor": 5
}
