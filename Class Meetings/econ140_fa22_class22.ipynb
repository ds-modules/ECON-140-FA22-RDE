{
 "cells": [
  {
   "cell_type": "markdown",
   "id": "0d73132b",
   "metadata": {},
   "source": [
    "<h1>ECON 140R Class 22</h1>"
   ]
  },
  {
   "cell_type": "markdown",
   "id": "25031a3e",
   "metadata": {},
   "source": [
    "<b>Regression discontinuity (RD)</b> is an elegant, artful method of causal inference that invokes visualizations and the search for a <i>discontinuous jump</i> in some outcome when a treatment is applied at one or more <b>cutoff</b> points in a <b>running variable</b>. It is the subject of Chapter 4 in <i>Mastering Metrics</i>.\n",
    "\n",
    "Learning objectives:\n",
    "\n",
    "1. Running a basic RD using MLDA, and the dataset has been set up\n",
    "2. Adding some extensions, like quadratic and interactions"
   ]
  },
  {
   "cell_type": "code",
   "execution_count": null,
   "id": "fba85d88",
   "metadata": {},
   "outputs": [],
   "source": [
    "library(haven)\n",
    "library(dplyr)"
   ]
  },
  {
   "cell_type": "markdown",
   "id": "ffd33e24",
   "metadata": {},
   "source": [
    "Now let us load in the dataset `AEJfigs.dta` that Angrist and Pischke examine in Section 4.1. These data are similar to the minimum legal drinking age panel data we saw in chapter 5."
   ]
  },
  {
   "cell_type": "code",
   "execution_count": null,
   "id": "eccdc87b",
   "metadata": {},
   "outputs": [],
   "source": [
    "AEJfigs <- read_dta(\"AEJfigs.dta\")\n",
    "head(AEJfigs)"
   ]
  },
  {
   "cell_type": "markdown",
   "id": "e42d5498",
   "metadata": {},
   "source": [
    "Note how the `agecell` variable is kind of funny looking. It is close to age in years plus half of 1/12, or something like a midpoint of a month. Proba bly Because months are different\n",
    "\n",
    "We will need to generate some variables for the RD estimation."
   ]
  },
  {
   "cell_type": "code",
   "execution_count": null,
   "id": "95a2e1d7",
   "metadata": {},
   "outputs": [],
   "source": [
    "# Create a recentered \"age\" variable that measures \n",
    "# \"months\" before or after age 21 \n",
    "AEJfigs <- mutate(AEJfigs, age = agecell - 21)\n",
    "\n",
    "# Create an indicator variable for over age 21\n",
    "AEJfigs <- mutate(AEJfigs, over21 = as.integer(agecell >= 21))\n",
    "\n",
    "# Age-squared, a quadratic term\n",
    "AEJfigs <- mutate(AEJfigs, age2 = age^2)\n",
    "\n",
    "# Age interacted with over-21\n",
    "AEJfigs <- mutate(AEJfigs, over_age = over21*age)\n",
    "\n",
    "# Age-squared interacted with over-21\n",
    "AEJfigs <- mutate(AEJfigs, over_age2 = over21*age2)\n",
    "\n",
    "# \"Other external causes,\" a residual shown in the 5th row\n",
    "# of Table 4.1\n",
    "AEJfigs <- mutate(AEJfigs, ext_oth = external - homicide - suicide - mva)\n",
    "\n",
    "AEJfigs"
   ]
  },
  {
   "cell_type": "markdown",
   "id": "6cedc386",
   "metadata": {},
   "source": [
    "The dataset already appears to contain fitted values for the \"dueling quadratic\" specification, where the pre and post periods are allowed to be separate quadratics."
   ]
  },
  {
   "cell_type": "code",
   "execution_count": null,
   "id": "bde9d8a8",
   "metadata": {},
   "outputs": [],
   "source": [
    "plot(AEJfigs$agecell, AEJfigs$all, ylim = c(80,115))\n",
    "lines(AEJfigs$agecell, AEJfigs$allfitted, col = \"red\")"
   ]
  },
  {
   "cell_type": "markdown",
   "id": "fb02918b",
   "metadata": {},
   "source": [
    "Below is the basic RD estimation, of equation (4.2) appearing on page 152:\n",
    "\n",
    "$$\n",
    "\\bar{M}_{a} = \\alpha + \\rho \\ D_a + \\gamma \\ a + e_a\n",
    "$$\n",
    "\n",
    "In addition to $D_a$, the indicator for age being 21 and over, we have a constant term, which is something like the average of the data minus the estimated effect of $D_a$, and we have a linear term in age. In the text on page 152, Angrist and Pischke cite $\\rho = 7.7$ around an average death rate of about 95."
   ]
  },
  {
   "cell_type": "code",
   "execution_count": null,
   "id": "8f830e1a",
   "metadata": {},
   "outputs": [],
   "source": [
    "rd_reg1 <- lm(all ~ age + over21,\n",
    "             data = AEJfigs)\n",
    "summary(rd_reg1)"
   ]
  },
  {
   "cell_type": "markdown",
   "id": "e9e4ff0f",
   "metadata": {},
   "source": [
    "And here is the \"dueling quadratics\" or \"quadratic on each side\" specification:\n",
    "\n",
    "$$\n",
    "\\bar{M}_{a} = \\alpha + \\rho \\ D_a + \\gamma_1 (a - a_0) + \\gamma_2 (a - a_0)^2\n",
    "+ \\delta_1 \\left[ (a - a_0) D_a\n",
    "\\right]\n",
    "+ \\delta_2 \\left[ (a - a_0)^2 D_a\n",
    "\\right]\n",
    "+ e_a\n",
    "$$"
   ]
  },
  {
   "cell_type": "code",
   "execution_count": null,
   "id": "60a2bca8",
   "metadata": {},
   "outputs": [],
   "source": [
    "rd_reg_q1 <- lm(all ~ age + age2 + over21 +\n",
    "                over_age + over_age2,\n",
    "                data = AEJfigs)\n",
    "summary(rd_reg_q1)"
   ]
  },
  {
   "cell_type": "markdown",
   "id": "487d5957",
   "metadata": {},
   "source": [
    "<div style=\"text-align: right\"> <span style=\"font-family:Papyrus; \">And they lived happily ever after. The End.</span></div>"
   ]
  }
 ],
 "metadata": {
  "kernelspec": {
   "display_name": "R",
   "language": "R",
   "name": "ir"
  },
  "language_info": {
   "codemirror_mode": "r",
   "file_extension": ".r",
   "mimetype": "text/x-r-source",
   "name": "R",
   "pygments_lexer": "r",
   "version": "4.2.1"
  }
 },
 "nbformat": 4,
 "nbformat_minor": 5
}
