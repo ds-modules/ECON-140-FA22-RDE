{
 "cells": [
  {
   "cell_type": "markdown",
   "metadata": {},
   "source": [
    "<h1>ECON 140R Class 16</h1>"
   ]
  },
  {
   "cell_type": "markdown",
   "metadata": {},
   "source": [
    "In this notebook, we return to the Fulton Fish Market example that we saw in `econ140_project_wooldridge.ipynb` during Class 15. The data are inside the Wooldridge repository and were collected and provided by Prof. Kathryn Graddy of Brandeis University. Here is the [documentation PDF](https://cran.r-project.org/web/packages/wooldridge/wooldridge.pdf) for the Wooldridge repo. You can also call `?dataset_name` to see the page for just the data in `dataset_name`.\n",
    "\n",
    "Learning objectives:\n",
    "\n",
    "1. As always, more experience with OLS\n",
    "2. Instrumental variables with `ivreg()`\n",
    "3. Reduced form $\\rho$, first stage $\\phi$, and the LATE estimate $\\lambda = \\frac{\\rho}{\\phi}$"
   ]
  },
  {
   "cell_type": "code",
   "execution_count": null,
   "metadata": {},
   "outputs": [],
   "source": [
    "install.packages(\"wooldridge\")"
   ]
  },
  {
   "cell_type": "code",
   "execution_count": null,
   "metadata": {},
   "outputs": [],
   "source": [
    "library(\"wooldridge\")\n",
    "library(tidyverse)"
   ]
  },
  {
   "cell_type": "code",
   "execution_count": null,
   "metadata": {},
   "outputs": [],
   "source": [
    "data(\"fish\")"
   ]
  },
  {
   "cell_type": "code",
   "execution_count": null,
   "metadata": {},
   "outputs": [],
   "source": [
    "head(fish)"
   ]
  },
  {
   "cell_type": "code",
   "execution_count": null,
   "metadata": {},
   "outputs": [],
   "source": [
    "?fish"
   ]
  },
  {
   "cell_type": "markdown",
   "metadata": {},
   "source": [
    "Below is a simple visualization of the log average price of fish in an observation ($y$-axis) as a function of the log quantity ($x$-axis). The tricky thing is that in our infinite wisdom, we economists put quantity along the $x$-axis and then prefer to measure the price elasticity of demand (and supply). The price elasticity of demand is usually written\n",
    "\n",
    "$$\n",
    "\\eta_f = \\frac{\\% \\Delta Q}{\\% \\Delta P} = \\frac{\\partial \\ln Q}{\\partial \\ln P}\n",
    "$$\n",
    "\n",
    "where the middle part shows the percentage change in quantity for a percentage change in price. This turns out to be the coefficient on log price ($\\ln P$) in a linear regression of log quantity ($\\ln Q$):\n",
    "\n",
    "$$\n",
    "\\ln Q_i = \\alpha + \\eta_f \\ \\ln P_i + B \\ X_i + \\epsilon_i\n",
    "$$\n",
    "\n",
    "where $X_i$ are other controls, like day of the week in this example."
   ]
  },
  {
   "cell_type": "code",
   "execution_count": null,
   "metadata": {},
   "outputs": [],
   "source": [
    "plot(fish$ltotqty, fish$lavgprc)"
   ]
  },
  {
   "cell_type": "code",
   "execution_count": null,
   "metadata": {},
   "outputs": [],
   "source": [
    "#install.packages(\"vembedr\")\n",
    "#install.packages(\"Hmisc\")\n",
    "#install.packages(\"ggplot2\")\n",
    "\n",
    "#library(\"ggplot2\")\n",
    "#library(\"Hmisc\")\n",
    "#library(\"vembedr\")\n",
    "#library(\"dplyr\")"
   ]
  },
  {
   "cell_type": "markdown",
   "metadata": {},
   "source": [
    "Here is a regression analysis shown by Wooldridge on p. 572 of the 4th edition of his textbook, and also shown in Table 2 of Graddy's [2006 J Econ Perspect paper](https://pubs.aeaweb.org/doi/pdfplus/10.1257/jep.20.2.207). Consider this approach to modeling the quantity of fish demanded: \n",
    "\n",
    "$$\n",
    "ltotqty_i = \\alpha + \\eta_f \\ lavgprc_i + \\beta_m \\ mon_i + \\beta_t \\ tues_i \n",
    "+ \\beta_w \\ wed_i + \\beta_{th} \\ thurs_i + \\epsilon_i\n",
    "$$\n",
    "\n",
    "where `ltotqty` is the log total quantity sold (to all customers); `lavgprc` is the log average price; and the rest of the variables are indicators for weekdays in the week. Friday is omitted, and apparently the market was closed on the weekend. The variable of interest is the demand elasticity $\\eta_f$, which is the percentage change in quantity demanded for a percentage change in price."
   ]
  },
  {
   "cell_type": "code",
   "execution_count": null,
   "metadata": {},
   "outputs": [],
   "source": [
    "demand_reg <- lm(ltotqty ~ lavgprc + mon + tues + wed + thurs, data = fish)\n",
    "summary(demand_reg)"
   ]
  },
  {
   "cell_type": "markdown",
   "metadata": {},
   "source": [
    "Describe what you see. Which variables are statistically significant? Describe your numerical estimate of the coefficient on log average fish price, $\\eta_f$, in a sentence. "
   ]
  },
  {
   "cell_type": "code",
   "execution_count": null,
   "metadata": {},
   "outputs": [],
   "source": []
  },
  {
   "cell_type": "markdown",
   "metadata": {},
   "source": [
    "The demand elasticity here is $-0.52$, indicating somewhat inelastic demand. In a handy chart you can find in <i>Health Economics</i> by Bhattacharya, Hyde, and Tu, this elasticity is between those for coffee ($-0.25$) and movies ($-0.9$).\n",
    "\n",
    "You might be concerned about whether shifts in supply or demand are actually creating these effects, however. That is the fundamental problem in examining market data; either supply or demand could be moving, or both could. Graddy was able to shed some light on that question by examining <b>weather data</b>, which she motivates on page 215 of her JEP piece. She argues that theory and evidence imply that weather only affects the market through supply."
   ]
  },
  {
   "cell_type": "markdown",
   "metadata": {},
   "source": [
    "This reasoning also appears in the end-of-chapter \"Masters of 'Metrics\" section at the end of Chapter 3. [Philip G. Wright](https://en.wikipedia.org/wiki/Philip_Green_Wright), an American economist born during the Civil War, later proposed instrumental variables as solutions to the simultaneity problem when estimating supply and demand curves for commodities."
   ]
  },
  {
   "cell_type": "markdown",
   "metadata": {},
   "source": [
    "### Instrumental variables with 2 IV's per Wooldridge"
   ]
  },
  {
   "cell_type": "markdown",
   "metadata": {},
   "source": [
    "Hold on to your hats. Let us explore a form of instrumental variables estimation called \"two stage least squares\" using `ivreg` in __R__. <font color=\"red\">You do NOT have to run instrumental variables in your term project.</font> We are doing it here because Graddy did it, Wooldridge suggests this exercise in an advanced chapter, and because we are currently studying instrumental variables in <i>Mastering Metrics</i>."
   ]
  },
  {
   "cell_type": "code",
   "execution_count": null,
   "metadata": {},
   "outputs": [],
   "source": [
    "install.packages(\"ivreg\", dependencies = TRUE)"
   ]
  },
  {
   "cell_type": "code",
   "execution_count": null,
   "metadata": {},
   "outputs": [],
   "source": [
    "library(\"ivreg\")"
   ]
  },
  {
   "cell_type": "markdown",
   "metadata": {},
   "source": [
    "Let us follow Wooldridge's advice and estimate the same model from above, but this time with two-stage least squares (2SLS), a very common form of IV estimation:\n",
    "\n",
    "$$\n",
    "ltotqty_i = \\alpha + \\eta_f \\ lavgprc_i + \\beta_m \\ mon_i + \\beta_t \\ tues_i \n",
    "+ \\beta_w \\ wed_i + \\beta_{th} \\ thurs_i + \\epsilon_i\n",
    "$$\n",
    "\n",
    "We will use `wave2` and `wave3`, both of which are measures of recent wave height around NYC, as instrumental variables. The argument is that the log average price is endogenously determined by supply and demand, but that running IV with weather variables will leverage the causality running from weather to supply and then to the price, and thus will reveal the true slope of the demand curve.\n",
    "\n",
    "(Intuition: the height of the waves around NYC probably doesn't much affect the typical New Yorker's appetite for fish. But it does affect how hard it is to retrieve fish from the ocean.)\n",
    "\n",
    "The syntax for `ivreg()` is very similar to that of `lm()`, except you need a \"pipe\" symbol: \"|\". The pipe appears after your original equation, and it needs to include the exogenous variables plus any instrumental variables."
   ]
  },
  {
   "cell_type": "code",
   "execution_count": null,
   "metadata": {},
   "outputs": [],
   "source": [
    "demand_ivreg <- ivreg(ltotqty ~ lavgprc + mon + tues + wed + thurs \n",
    "                      | mon + tues + wed + thurs + wave2 + wave3, data = fish)\n",
    "summary(demand_ivreg)"
   ]
  },
  {
   "cell_type": "markdown",
   "metadata": {},
   "source": [
    "What happened to the price elasticity of demand when we ran IV versus ordinary least squares above? Curious? Read Graddy's JEP piece for more."
   ]
  },
  {
   "cell_type": "markdown",
   "metadata": {},
   "source": []
  },
  {
   "cell_type": "markdown",
   "metadata": {},
   "source": [
    "<hr>"
   ]
  },
  {
   "cell_type": "markdown",
   "metadata": {},
   "source": [
    "### IV with one IV"
   ]
  },
  {
   "cell_type": "markdown",
   "metadata": {},
   "source": [
    "Let us dig a little more. The equation above uses 2 instrumental variables, two different time-lags of wave height weather variables. As Angrist and Pischke explain in <i>Mastering Metrics<i> on pp 131-138, and specifically on p. 135, when we have 2 instrumental variables, the two-stage least squares (2SLS) routine produces a local average treatment effect (LATE) that is a weighted average of the LATEs that we would get if we ran 2SLS twice, once with each of the instruments.\n",
    "    \n",
    "Rather than pick through that more, let us instead just choose one of the instruments and reestimate the demand equation, so that it is easier to deconstruct everything.\n",
    "    \n",
    "A friendly econometrics leprechaun whispers in your ear: \"Use wave2, it's good!\""
   ]
  },
  {
   "cell_type": "code",
   "execution_count": null,
   "metadata": {},
   "outputs": [],
   "source": [
    "d1_ivreg <- ivreg(ltotqty ~ lavgprc + mon + tues + wed + thurs \n",
    "                      | mon + tues + wed + thurs + wave2, data = fish)\n",
    "summary(d1_ivreg)"
   ]
  },
  {
   "cell_type": "markdown",
   "metadata": {},
   "source": [
    "What do you think? Are these results similar to the two-IV model we started with?"
   ]
  },
  {
   "cell_type": "markdown",
   "metadata": {},
   "source": []
  },
  {
   "cell_type": "markdown",
   "metadata": {},
   "source": [
    "<hr>"
   ]
  },
  {
   "cell_type": "markdown",
   "metadata": {},
   "source": [
    "Below we estimate the <b>reduced form</b> for this one-IV model. Here, it is a regression of the outcome on:\n",
    "* the instrument\n",
    "* NOT the endogenous treatment, we drop that\n",
    "* the other exogenous controls\n",
    "\n",
    "$$\n",
    "ltotqty_i = \\alpha_0 + \\rho \\ wave2_i + \\beta_{0m} \\ mon_i + \\beta_{0t} \\ tues_i \n",
    "+ \\beta_{0w} \\ wed_i + \\beta_{0th} \\ thurs_i + \\epsilon_{0i}\n",
    "$$"
   ]
  },
  {
   "cell_type": "code",
   "execution_count": null,
   "metadata": {},
   "outputs": [],
   "source": [
    "d1_rf <- ivreg(ltotqty ~ wave2 + mon + tues + wed + thurs \n",
    "               , data = fish)\n",
    "summary(d1_rf)"
   ]
  },
  {
   "cell_type": "markdown",
   "metadata": {
    "slideshow": {
     "slide_type": "slide"
    }
   },
   "source": [
    "What can we say about the reduced form?\n",
    "\n",
    "As Angrist and Pischke write on p. 146, \"We always tell our students: <i>If you can't see it in the reduced form, it ain't there.<i>\n",
    "    \n",
    "Can you see it in the reduced form?"
   ]
  },
  {
   "cell_type": "markdown",
   "metadata": {},
   "source": []
  },
  {
   "cell_type": "markdown",
   "metadata": {},
   "source": [
    "<hr>"
   ]
  },
  {
   "cell_type": "markdown",
   "metadata": {},
   "source": [
    "Finally, let us run the first stage. Here, it is a regression of <i>the endogenous treatment</i> on:\n",
    "* the instrument\n",
    "* the other exogenous controls\n",
    "\n",
    "$$\n",
    "lavgprc_i = \\alpha_1 + \\phi \\ wave2_i + \\beta_{1m} \\ mon_i + \\beta_{1t} \\ tues_i \n",
    "+ \\beta_{1w} \\ wed_i + \\beta_{1th} \\ thurs_i + \\epsilon_{1i}\n",
    "$$"
   ]
  },
  {
   "cell_type": "code",
   "execution_count": null,
   "metadata": {},
   "outputs": [],
   "source": [
    "d1_1st <- ivreg(lavgprc ~ wave2 + mon + tues + wed + thurs \n",
    "               , data = fish)\n",
    "summary(d1_1st)"
   ]
  },
  {
   "cell_type": "markdown",
   "metadata": {},
   "source": [
    "What do you see here? How does lagged wave height $wave2_i$ affect the log average price, if at all?"
   ]
  },
  {
   "cell_type": "markdown",
   "metadata": {},
   "source": []
  },
  {
   "cell_type": "markdown",
   "metadata": {},
   "source": [
    "<hr>"
   ]
  },
  {
   "cell_type": "markdown",
   "metadata": {},
   "source": [
    "And now for the grand finale. Because we used just 1 instrumental variable, we can decompose the LATE $\\eta_f$, the demand elasticity that we obtained from 2SLS, as the ratio:\n",
    "\n",
    "$$\n",
    "\\eta_f = \\frac{\\rho}{\\phi}\n",
    "$$\n",
    "\n",
    "(In the textbook, the LATE usually shows up as $\\lambda$. Here, we are using $\\eta_f$ because the estimate is a demand elasticity, and economists love $\\eta$ for that because of its \"long-E\" sound.)"
   ]
  },
  {
   "cell_type": "code",
   "execution_count": null,
   "metadata": {},
   "outputs": [],
   "source": [
    "rho = d1_rf$coefficients[\"wave2\"]\n",
    "rho\n",
    "\n",
    "phi = d1_1st$coefficients[\"wave2\"]\n",
    "phi\n",
    "\n",
    "LATE = rho/phi\n",
    "LATE"
   ]
  },
  {
   "cell_type": "code",
   "execution_count": null,
   "metadata": {},
   "outputs": [],
   "source": [
    "# This command appears to take a long time\n",
    "etaf = d1_ivreg$coefficients[\"lavgprc\"]\n",
    "etaf"
   ]
  },
  {
   "cell_type": "markdown",
   "metadata": {},
   "source": [
    "Another look at it, by hand:"
   ]
  },
  {
   "cell_type": "code",
   "execution_count": null,
   "metadata": {},
   "outputs": [],
   "source": [
    "phi = 0.112565\n",
    "rho = -0.09467\n",
    "(LATE = rho / phi)"
   ]
  },
  {
   "cell_type": "markdown",
   "metadata": {},
   "source": [
    "<hr>"
   ]
  },
  {
   "cell_type": "markdown",
   "metadata": {},
   "source": [
    "Finally, here is something YOU SHOULD NEVER DO because it gets the standard errors wrong. It is what I did back when I was 20 and did not know any better. The coefficients in 2SLS can be obtained by running the second stage on fitted values from the first stage. <i>But the standard errors will be incorrect. So do not do this.</i>"
   ]
  },
  {
   "cell_type": "code",
   "execution_count": null,
   "metadata": {},
   "outputs": [],
   "source": [
    "fish$lavgprc_hat1 <- d1_1st$fitted.values\n",
    "head(fish)"
   ]
  },
  {
   "cell_type": "code",
   "execution_count": null,
   "metadata": {},
   "outputs": [],
   "source": [
    "d1_2sls_badse <- demand_reg <- lm(ltotqty ~ lavgprc_hat1 + mon + tues + wed + thurs, \n",
    "                                  data = fish)\n",
    "summary(d1_2sls_badse)\n",
    "summary(d1_ivreg)"
   ]
  },
  {
   "cell_type": "markdown",
   "metadata": {},
   "source": [
    "<div style=\"text-align: right\"> <span style=\"font-family:Papyrus; \">And they lived happily ever after. The End.</span></div>"
   ]
  }
 ],
 "metadata": {
  "kernelspec": {
   "display_name": "R",
   "language": "R",
   "name": "ir"
  },
  "language_info": {
   "codemirror_mode": "r",
   "file_extension": ".r",
   "mimetype": "text/x-r-source",
   "name": "R",
   "pygments_lexer": "r",
   "version": "4.2.1"
  }
 },
 "nbformat": 4,
 "nbformat_minor": 4
}
