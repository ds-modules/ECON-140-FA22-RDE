{
 "cells": [
  {
   "cell_type": "markdown",
   "id": "28bfe784",
   "metadata": {},
   "source": [
    "<h1>ECON 140R Class 10.2</h1>"
   ]
  },
  {
   "cell_type": "markdown",
   "id": "90b66eed",
   "metadata": {},
   "source": [
    "The Class 10 hands-on runs two analyses:\n",
    "* 10.1: A second look at earnings and number of siblings the 1998 HRS\n",
    "* <b>10.2: Bad controls in the January 2018 Current Population Survey (CPS)</b>\n",
    "\n",
    "Learning objectives:\n",
    "\n",
    "1. More experience with OLS\n",
    "2. Handy `factor()` function\n",
    "3. Bad controls may cut off the avenues through which the treatment affects the outcome\n",
    "4. Balancing omitted variable bias vs. bad controls is difficult"
   ]
  },
  {
   "cell_type": "markdown",
   "id": "53178b74",
   "metadata": {},
   "source": [
    "<h2>Bad controls</h2>"
   ]
  },
  {
   "cell_type": "markdown",
   "id": "e43d6a3e",
   "metadata": {},
   "source": [
    "Let's examine how controlling for occupation and industry, while feasible to do, changes the estimated coefficients on education and female gender identity. It's probably not a good idea, unless there were a compelling reason to look at within-occupation differences in earnings by education. \n",
    "\n",
    "To explore this topic, we'll look at an extract from the January 2018 Current Population Survey (CPS), the annual job tenure supplement. I downloaded the extract from [IPUMS](http://cps.ipums.org), and in the future we'll walk through the IPUMS interface and contents."
   ]
  },
  {
   "cell_type": "code",
   "execution_count": null,
   "id": "3fe2d54f",
   "metadata": {},
   "outputs": [],
   "source": [
    "library(tidyverse)\n",
    "library(haven)"
   ]
  },
  {
   "cell_type": "markdown",
   "id": "8e23c4ca",
   "metadata": {},
   "source": [
    "This extract contains people aged 25-64, which are working ages when education is likely to be completed."
   ]
  },
  {
   "cell_type": "code",
   "execution_count": null,
   "id": "144ee7de",
   "metadata": {},
   "outputs": [],
   "source": [
    "cpsj18_2564 = read_dta(\"cpsj18_2564.dta\")\n",
    "head(cpsj18_2564)"
   ]
  },
  {
   "cell_type": "markdown",
   "id": "eddcc463",
   "metadata": {},
   "source": [
    "Here is a baseline regression, where we are controlling for 0/1 female gender identity and years of education, and for a set of controls including race/ethnicity, years of experience, years of experience squared, and also years of job tenure:\n",
    "\n",
    "$$\n",
    "\\ln Y_i = \\alpha + \\beta^f \\ female_i + \\beta^e \\ educ_i + B \\ controls_i + \\epsilon_i\n",
    "$$\n",
    "\n",
    "We'll run this regression and examine what we find for $\\beta^f$ and $\\beta^e$:"
   ]
  },
  {
   "cell_type": "code",
   "execution_count": null,
   "id": "628b2735",
   "metadata": {},
   "outputs": [],
   "source": [
    "cps_reg1 <- lm(logearnweek ~ female + edyrs + factor(raceth) + exper + expersq + jtyears, \n",
    "               data = cpsj18_2564)\n",
    "summary(cps_reg1)"
   ]
  },
  {
   "cell_type": "markdown",
   "id": "e5693fbe",
   "metadata": {},
   "source": [
    "We see a pretty large negative penalty for female workers: $-$36%, and we see a relatively large benefit for an additional year of education: 8%. Racial/ethnic minorities see earnings penalties relative to white non-Hispanic people (the baseline group). Log earnings are a parabola opening down in years of experience, which is consistent with typical theory. Years of job tenure is a benefit, but the statistical significance is borderline, with a $t$-statistic that is 1.876. \n",
    "\n",
    "Now let's explore controlling for occupation `occ`, and for kicks, also for industry `ind` and state of residence `statefip`. The last one is probably not a bad control, come to think of it, unless one believes that education's effect on earning is partially through enhanching geographic mobility, which isn't an impossibility. Let's try that one first:"
   ]
  },
  {
   "cell_type": "code",
   "execution_count": null,
   "id": "d3b82ec2",
   "metadata": {},
   "outputs": [],
   "source": [
    "cps_reg2 <- lm(logearnweek ~ female + edyrs + factor(raceth) + exper + expersq + jtyears\n",
    "               + factor(statefip)\n",
    "               , data = cpsj18_2564)\n",
    "summary(cps_reg2)"
   ]
  },
  {
   "cell_type": "markdown",
   "id": "13b4e5c3",
   "metadata": {},
   "source": [
    "What do we see? Unfortunately __R__ decided to change the notation to scientific. But underneath it all, we do not see much of a difference here compared to the first regression. The coefficient on female, $\\beta^f$, shows a penalty of about $-$36%; and the coefficient on years of education, $\\beta^e$, shows a benefit of additional year is 7.7%.\n",
    "\n",
    "Let's throw the kitchen sink at things.\n",
    "\n",
    "In these data, there are almost 500 occupation categories, and there are roughly 250 industries. For details, see the documentation at IPUMS: [OCC documentation](https://cps.ipums.org/cps/codes/occ_20112019_codes.shtml), [IND documentation](https://cps.ipums.org/cps/codes/ind_2014_codes.shtml)."
   ]
  },
  {
   "cell_type": "code",
   "execution_count": null,
   "id": "a33ce9ed",
   "metadata": {},
   "outputs": [],
   "source": [
    "cps_reg3 <- lm(logearnweek ~ female + edyrs + factor(raceth) + exper + expersq + jtyears\n",
    "               + factor(occ) + factor(ind) + factor(statefip)\n",
    "               , data = cpsj18_2564)\n",
    "summary(cps_reg3)"
   ]
  },
  {
   "cell_type": "markdown",
   "id": "9476fb3c",
   "metadata": {},
   "source": [
    "What do we see here compared to earlier results?\n",
    "\n",
    "The coefficient on female identity is now about $\\beta^f = -0.26$, smaller in magnitude by a factor of about a third. In other words, within occupation-industry-state groupings in the data, female workers earn on average 26% less than observationally identical males.\n",
    "\n",
    "Meanwhile, the coefficient on years of education has fallen by roughly half, down to $\\beta^e = 0.037$. Here too, the story is that within occupation-industry-state groupings of workers, the returns to an additional year of education are smaller than they are overall."
   ]
  },
  {
   "cell_type": "markdown",
   "id": "99b8612d",
   "metadata": {},
   "source": [
    "<div style=\"text-align: right\"> <span style=\"font-family:Papyrus; \">And they lived happily ever after. The End.</span></div>"
   ]
  }
 ],
 "metadata": {
  "kernelspec": {
   "display_name": "R",
   "language": "R",
   "name": "ir"
  },
  "language_info": {
   "codemirror_mode": "r",
   "file_extension": ".r",
   "mimetype": "text/x-r-source",
   "name": "R",
   "pygments_lexer": "r",
   "version": "4.2.1"
  }
 },
 "nbformat": 4,
 "nbformat_minor": 5
}
