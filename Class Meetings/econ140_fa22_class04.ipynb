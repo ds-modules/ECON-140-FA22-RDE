{
 "cells": [
  {
   "cell_type": "markdown",
   "id": "8ff12b62",
   "metadata": {},
   "source": [
    "<h1>ECON 140R Class 04</h1>"
   ]
  },
  {
   "cell_type": "markdown",
   "id": "67303ccd",
   "metadata": {},
   "source": [
    "Data from the 1974-1982 RAND Health Insurance Experiment (HIE) were unearthed by Aviva Aron-Dine, Liran Einav, and Amy Finkelstein (J. Econ. Perspect., 2013). Josh Angrist and J&#246;rn-Steffen Pischke provide an extract online at [Mastering Metrics](https://www.masteringmetrics.com/resources/).\n",
    "\n",
    "Let's examine the data behind Panel A in Table 1.4, which reveals average levels of health care utilization across 5 types of care (the rows) for the \"control group,\" people with catastrophic health insurance only (the leftmost column). In subsequent columns, the authors show us the average difference in the utilization measure in that row between one of the three \"treatment arms\" they argue are useful to consider (deductible, coinsurance, free), and the control group.\n",
    "\n",
    "The objectives here are to get more experience with real data, and to notice that ordinary least squares regression with `lm()` is a very handy way to cut to the chase and test average differences across subgroups. A \"small print\" detail is that Angrist and Pischke are doing what's called <i>clustering standard errors at the family level</i>. This last point will definitely not be on any exams.\n",
    "\n",
    "The main objective is to recognize that with an outcome variable $y_i$ and group identity indicator variables $D^d_i$, $D^c_i$, and $D^f_i$, for example, then this regression:\n",
    "\n",
    "$$\n",
    "y_i = \\alpha + \\beta^d \\cdot D^d_i + \\beta^c \\cdot D^c_i + \\beta^f \\cdot D^f_i + \\epsilon_i\n",
    "$$\n",
    "\n",
    "provides a very convenient way of testing the average differences:\n",
    "* between the control group and group $d$: $\\beta^d$\n",
    "* between the control group and group $c$: $\\beta^c$\n",
    "* between the control group and group $f$: $\\beta^f$\n",
    "\n",
    "Here's a clean PNG of Table 1.4:"
   ]
  },
  {
   "cell_type": "markdown",
   "id": "75212122",
   "metadata": {},
   "source": [
    "<img src=\"MMtbl14.png\" width=\"800\" />"
   ]
  },
  {
   "cell_type": "markdown",
   "id": "b1bb625c",
   "metadata": {},
   "source": [
    "Let's load up <b>haven</b> and <b>tidyverse</b>"
   ]
  },
  {
   "cell_type": "code",
   "execution_count": 1,
   "id": "c2fd4880",
   "metadata": {},
   "outputs": [
    {
     "name": "stderr",
     "output_type": "stream",
     "text": [
      "── \u001b[1mAttaching packages\u001b[22m ─────────────────────────────────────── tidyverse 1.3.0 ──\n",
      "\n",
      "\u001b[32m✔\u001b[39m \u001b[34mggplot2\u001b[39m 3.3.6     \u001b[32m✔\u001b[39m \u001b[34mpurrr  \u001b[39m 0.3.4\n",
      "\u001b[32m✔\u001b[39m \u001b[34mtibble \u001b[39m 3.1.8     \u001b[32m✔\u001b[39m \u001b[34mdplyr  \u001b[39m 1.0.9\n",
      "\u001b[32m✔\u001b[39m \u001b[34mtidyr  \u001b[39m 1.2.0     \u001b[32m✔\u001b[39m \u001b[34mstringr\u001b[39m 1.4.1\n",
      "\u001b[32m✔\u001b[39m \u001b[34mreadr  \u001b[39m 2.1.2     \u001b[32m✔\u001b[39m \u001b[34mforcats\u001b[39m 0.5.2\n",
      "\n",
      "── \u001b[1mConflicts\u001b[22m ────────────────────────────────────────── tidyverse_conflicts() ──\n",
      "\u001b[31m✖\u001b[39m \u001b[34mdplyr\u001b[39m::\u001b[32mfilter()\u001b[39m masks \u001b[34mstats\u001b[39m::filter()\n",
      "\u001b[31m✖\u001b[39m \u001b[34mdplyr\u001b[39m::\u001b[32mlag()\u001b[39m    masks \u001b[34mstats\u001b[39m::lag()\n",
      "\n"
     ]
    }
   ],
   "source": [
    "library(haven)\n",
    "library(tidyverse)"
   ]
  },
  {
   "cell_type": "markdown",
   "id": "0fec32e0",
   "metadata": {},
   "source": [
    "I have prepared an extract of the RAND HIE data underneath Table 1.4 Panel A in <i>Mastering Metrics</i>. These data include health care utilization outcomes across the four groups that Angrist and Pischke argue are usefully distinguishable, ordered here from least generous to most generous:\n",
    "\n",
    "* Catastrophic plan\n",
    "* Deductible plan\n",
    "* Coinsurance plan\n",
    "* Free plan\n",
    "\n",
    "We have the five utilization measures shown in Table 1.4A here: `ftf` is face-to-face visits; `out_inf` are outpatient expenses; `totadm` is total hospital admissions; `inpdol_inf` are inpatient expenses, and `tot_inf` are total expenses."
   ]
  },
  {
   "cell_type": "code",
   "execution_count": 11,
   "id": "92e742a6",
   "metadata": {},
   "outputs": [],
   "source": [
    "table1_4a <- read_dta(\"table1_4.dta\")"
   ]
  },
  {
   "cell_type": "code",
   "execution_count": 10,
   "id": "5adcdb4e",
   "metadata": {},
   "outputs": [
    {
     "data": {
      "text/html": [
       "<table class=\"dataframe\">\n",
       "<caption>A tibble: 6 × 13</caption>\n",
       "<thead>\n",
       "\t<tr><th scope=col>person</th><th scope=col>year</th><th scope=col>ftf</th><th scope=col>totadm</th><th scope=col>plantype</th><th scope=col>out_inf</th><th scope=col>inpdol_inf</th><th scope=col>tot_inf</th><th scope=col>famid</th><th scope=col>plan_free</th><th scope=col>plan_deduc</th><th scope=col>plan_coins</th><th scope=col>plan_catas</th></tr>\n",
       "\t<tr><th scope=col>&lt;chr&gt;</th><th scope=col>&lt;dbl&gt;</th><th scope=col>&lt;dbl&gt;</th><th scope=col>&lt;dbl&gt;</th><th scope=col>&lt;dbl&gt;</th><th scope=col>&lt;dbl&gt;</th><th scope=col>&lt;dbl&gt;</th><th scope=col>&lt;dbl&gt;</th><th scope=col>&lt;dbl&gt;</th><th scope=col>&lt;dbl&gt;</th><th scope=col>&lt;dbl&gt;</th><th scope=col>&lt;dbl&gt;</th><th scope=col>&lt;dbl&gt;</th></tr>\n",
       "</thead>\n",
       "<tbody>\n",
       "\t<tr><td>MA250247</td><td>1</td><td>0</td><td>0</td><td>4</td><td> 36.3055</td><td>0</td><td> 36.3055</td><td>100082</td><td>0</td><td>0</td><td>0</td><td>1</td></tr>\n",
       "\t<tr><td>MA250247</td><td>2</td><td>4</td><td>0</td><td>4</td><td>275.2085</td><td>0</td><td>275.2085</td><td>100082</td><td>0</td><td>0</td><td>0</td><td>1</td></tr>\n",
       "\t<tr><td>MA250247</td><td>3</td><td>0</td><td>0</td><td>4</td><td>  0.0000</td><td>0</td><td>  0.0000</td><td>100082</td><td>0</td><td>0</td><td>0</td><td>1</td></tr>\n",
       "\t<tr><td>MA250247</td><td>4</td><td>0</td><td>0</td><td>4</td><td>  0.0000</td><td>0</td><td>  0.0000</td><td>100082</td><td>0</td><td>0</td><td>0</td><td>1</td></tr>\n",
       "\t<tr><td>MA250247</td><td>5</td><td>0</td><td>0</td><td>4</td><td>  0.0000</td><td>0</td><td>  0.0000</td><td>100082</td><td>0</td><td>0</td><td>0</td><td>1</td></tr>\n",
       "\t<tr><td>MA250255</td><td>1</td><td>0</td><td>0</td><td>4</td><td>  0.0000</td><td>0</td><td>  0.0000</td><td>100082</td><td>0</td><td>0</td><td>0</td><td>1</td></tr>\n",
       "</tbody>\n",
       "</table>\n"
      ],
      "text/latex": [
       "A tibble: 6 × 13\n",
       "\\begin{tabular}{lllllllllllll}\n",
       " person & year & ftf & totadm & plantype & out\\_inf & inpdol\\_inf & tot\\_inf & famid & plan\\_free & plan\\_deduc & plan\\_coins & plan\\_catas\\\\\n",
       " <chr> & <dbl> & <dbl> & <dbl> & <dbl> & <dbl> & <dbl> & <dbl> & <dbl> & <dbl> & <dbl> & <dbl> & <dbl>\\\\\n",
       "\\hline\n",
       "\t MA250247 & 1 & 0 & 0 & 4 &  36.3055 & 0 &  36.3055 & 100082 & 0 & 0 & 0 & 1\\\\\n",
       "\t MA250247 & 2 & 4 & 0 & 4 & 275.2085 & 0 & 275.2085 & 100082 & 0 & 0 & 0 & 1\\\\\n",
       "\t MA250247 & 3 & 0 & 0 & 4 &   0.0000 & 0 &   0.0000 & 100082 & 0 & 0 & 0 & 1\\\\\n",
       "\t MA250247 & 4 & 0 & 0 & 4 &   0.0000 & 0 &   0.0000 & 100082 & 0 & 0 & 0 & 1\\\\\n",
       "\t MA250247 & 5 & 0 & 0 & 4 &   0.0000 & 0 &   0.0000 & 100082 & 0 & 0 & 0 & 1\\\\\n",
       "\t MA250255 & 1 & 0 & 0 & 4 &   0.0000 & 0 &   0.0000 & 100082 & 0 & 0 & 0 & 1\\\\\n",
       "\\end{tabular}\n"
      ],
      "text/markdown": [
       "\n",
       "A tibble: 6 × 13\n",
       "\n",
       "| person &lt;chr&gt; | year &lt;dbl&gt; | ftf &lt;dbl&gt; | totadm &lt;dbl&gt; | plantype &lt;dbl&gt; | out_inf &lt;dbl&gt; | inpdol_inf &lt;dbl&gt; | tot_inf &lt;dbl&gt; | famid &lt;dbl&gt; | plan_free &lt;dbl&gt; | plan_deduc &lt;dbl&gt; | plan_coins &lt;dbl&gt; | plan_catas &lt;dbl&gt; |\n",
       "|---|---|---|---|---|---|---|---|---|---|---|---|---|\n",
       "| MA250247 | 1 | 0 | 0 | 4 |  36.3055 | 0 |  36.3055 | 100082 | 0 | 0 | 0 | 1 |\n",
       "| MA250247 | 2 | 4 | 0 | 4 | 275.2085 | 0 | 275.2085 | 100082 | 0 | 0 | 0 | 1 |\n",
       "| MA250247 | 3 | 0 | 0 | 4 |   0.0000 | 0 |   0.0000 | 100082 | 0 | 0 | 0 | 1 |\n",
       "| MA250247 | 4 | 0 | 0 | 4 |   0.0000 | 0 |   0.0000 | 100082 | 0 | 0 | 0 | 1 |\n",
       "| MA250247 | 5 | 0 | 0 | 4 |   0.0000 | 0 |   0.0000 | 100082 | 0 | 0 | 0 | 1 |\n",
       "| MA250255 | 1 | 0 | 0 | 4 |   0.0000 | 0 |   0.0000 | 100082 | 0 | 0 | 0 | 1 |\n",
       "\n"
      ],
      "text/plain": [
       "  person   year ftf totadm plantype out_inf  inpdol_inf tot_inf  famid \n",
       "1 MA250247 1    0   0      4         36.3055 0           36.3055 100082\n",
       "2 MA250247 2    4   0      4        275.2085 0          275.2085 100082\n",
       "3 MA250247 3    0   0      4          0.0000 0            0.0000 100082\n",
       "4 MA250247 4    0   0      4          0.0000 0            0.0000 100082\n",
       "5 MA250247 5    0   0      4          0.0000 0            0.0000 100082\n",
       "6 MA250255 1    0   0      4          0.0000 0            0.0000 100082\n",
       "  plan_free plan_deduc plan_coins plan_catas\n",
       "1 0         0          0          1         \n",
       "2 0         0          0          1         \n",
       "3 0         0          0          1         \n",
       "4 0         0          0          1         \n",
       "5 0         0          0          1         \n",
       "6 0         0          0          1         "
      ]
     },
     "metadata": {},
     "output_type": "display_data"
    }
   ],
   "source": [
    "head(table1_4a)"
   ]
  },
  {
   "cell_type": "markdown",
   "id": "1b8caffd",
   "metadata": {},
   "source": [
    "Let's create new data frames for each of the four groups using `filter()`. The shortened group names are:\n",
    "\n",
    "* `plan_catas` = Catastrophic plan \n",
    "* `plan_deduc` = Deductible plan   \n",
    "* `plan_coins` = Coinsurance plan  \n",
    "* `plan_free`  = Free plan   \n",
    "\n",
    "Copy and paste this code below and run it:\n",
    "\n",
    "`table1_4a_catas <- filter(table1_4a, plan_catas == 1)`\n",
    "\n",
    "`table1_4a_deduc <- filter(table1_4a, plan_deduc == 1)`\n",
    "\n",
    "`table1_4a_coins <- filter(table1_4a, plan_coins == 1)`\n",
    "\n",
    "`table1_4a_free  <- filter(table1_4a, plan_free  == 1)`"
   ]
  },
  {
   "cell_type": "code",
   "execution_count": null,
   "id": "4abe077f",
   "metadata": {},
   "outputs": [],
   "source": []
  },
  {
   "cell_type": "markdown",
   "id": "813fc917",
   "metadata": {},
   "source": [
    "What we now have are 4 separate data frames for the 4 groups assigned to different insurance plans.\n",
    "\n",
    "In STAT 20, you might have used `t.test()` to run a comparison between two groups. Let's run `t.test()` on the face-to-face visits `ftf` in the deductible group versus the catastrophic group. This should get us something like the two numbers in the table at upper left.\n",
    "\n",
    "`t.test(table1_4a_deduc$ftf, table1_4a_catas$ftf)`"
   ]
  },
  {
   "cell_type": "code",
   "execution_count": null,
   "id": "8076a939",
   "metadata": {},
   "outputs": [],
   "source": []
  },
  {
   "cell_type": "markdown",
   "id": "84f38c30",
   "metadata": {},
   "source": [
    "Not exactly clear, is it? The $t$-statistic is 1.53, which in words means that this difference is about 1.5 times its standard error. That's not big enough for us to reject the null hypothesis that the true difference is zero. \n",
    "\n",
    "There's probably an option to `t.test()` that will show us this, but we can also just type it into __R__. Here is the difference between those last two numbers in the output:"
   ]
  },
  {
   "cell_type": "code",
   "execution_count": 15,
   "id": "e6479f9f",
   "metadata": {},
   "outputs": [
    {
     "data": {
      "text/html": [
       "0.192663"
      ],
      "text/latex": [
       "0.192663"
      ],
      "text/markdown": [
       "0.192663"
      ],
      "text/plain": [
       "[1] 0.192663"
      ]
     },
     "metadata": {},
     "output_type": "display_data"
    }
   ],
   "source": [
    "2.976766 - 2.784103"
   ]
  },
  {
   "cell_type": "markdown",
   "id": "cdee9a24",
   "metadata": {},
   "source": [
    "This is indeed the point estimate (0.19) of the average difference that appears at the upper left of Table 1.4A.\n",
    "\n",
    "And then this, the difference divided by the $t$-stat, has to be the estimated standard error:"
   ]
  },
  {
   "cell_type": "code",
   "execution_count": 16,
   "id": "4f6fa89f",
   "metadata": {},
   "outputs": [
    {
     "data": {
      "text/html": [
       "0.125775558166863"
      ],
      "text/latex": [
       "0.125775558166863"
      ],
      "text/markdown": [
       "0.125775558166863"
      ],
      "text/plain": [
       "[1] 0.1257756"
      ]
     },
     "metadata": {},
     "output_type": "display_data"
    }
   ],
   "source": [
    "(2.976766 - 2.784103)/1.5318"
   ]
  },
  {
   "cell_type": "markdown",
   "id": "43cd8271",
   "metadata": {},
   "source": [
    "Unfortunately this is not the standard error (.25) that appears under the .19 at the upper left of Table 1.4A. What's going on? Stay tuned. Let's load in a new library, which will let us run a special version of `lm()` that will help reveal what's going on."
   ]
  },
  {
   "cell_type": "code",
   "execution_count": 17,
   "id": "522e9755",
   "metadata": {},
   "outputs": [],
   "source": [
    "library(estimatr)"
   ]
  },
  {
   "cell_type": "markdown",
   "id": "236116d1",
   "metadata": {},
   "source": [
    "First, let's run `lm_robust()` with options set to the baseline. The syntax is the same as it is for `lm()`, and we should recover the same results, as long as we set the standard errors to \"classical\" type.\n",
    "\n",
    "`reg_toprow <- lm(ftf ~ plan_deduc + plan_coins + plan_free, data = table1_4a)`\n",
    "\n",
    "`summary(reg_toprow)`\n",
    "\n",
    "`reg_toprowrob <- lm_robust(ftf ~ plan_deduc + plan_coins + plan_free, \n",
    "                           data = table1_4a, se_type = \"classical\")`\n",
    "\n",
    "`summary(reg_toprowrob)`"
   ]
  },
  {
   "cell_type": "code",
   "execution_count": null,
   "id": "985f3cd2",
   "metadata": {},
   "outputs": [],
   "source": []
  },
  {
   "cell_type": "code",
   "execution_count": null,
   "id": "e294df08",
   "metadata": {},
   "outputs": [],
   "source": []
  },
  {
   "cell_type": "markdown",
   "id": "08ccf82e",
   "metadata": {},
   "source": [
    "Now let's explore what <i>clustering our standard errors at the family level</i> does to our estimates of the standard errors. Because there are families in these data, indexed by the `famid` variable, we might expect that the $\\epsilon$'s that shock a person one way or another within a family might shock the rest of the family as well. Imagine a family car that breaks down, so nobody keeps their checkup appointments.\n",
    "\n",
    "`reg_toprowcluster <- lm_robust(ftf ~ plan_deduc + plan_coins + plan_free, \n",
    "                                data = table1_4a, clusters = famid)`\n",
    "                              \n",
    "`summary(reg_toprowcluster)`"
   ]
  },
  {
   "cell_type": "code",
   "execution_count": null,
   "id": "b4078f94",
   "metadata": {},
   "outputs": [],
   "source": []
  },
  {
   "cell_type": "markdown",
   "id": "24696d15",
   "metadata": {},
   "source": [
    "Compare these results to the top row in Table 1.4A. What do you see?"
   ]
  },
  {
   "cell_type": "markdown",
   "id": "353179f2",
   "metadata": {},
   "source": []
  },
  {
   "cell_type": "markdown",
   "id": "e5dcf6ba",
   "metadata": {},
   "source": [
    "Compare these results to the results without clustering standard errors at the family level. Which ones are larger?"
   ]
  },
  {
   "cell_type": "markdown",
   "id": "a9ec932f",
   "metadata": {},
   "source": []
  },
  {
   "cell_type": "markdown",
   "id": "50ab6640",
   "metadata": {},
   "source": [
    "<div style=\"text-align: right\"> <span style=\"font-family:Papyrus; \">And they lived happily ever after. The End.</span></div>"
   ]
  }
 ],
 "metadata": {
  "kernelspec": {
   "display_name": "R",
   "language": "R",
   "name": "ir"
  },
  "language_info": {
   "codemirror_mode": "r",
   "file_extension": ".r",
   "mimetype": "text/x-r-source",
   "name": "R",
   "pygments_lexer": "r",
   "version": "4.2.1"
  }
 },
 "nbformat": 4,
 "nbformat_minor": 5
}
