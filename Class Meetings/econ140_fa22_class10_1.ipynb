{
 "cells": [
  {
   "cell_type": "markdown",
   "id": "28bfe784",
   "metadata": {},
   "source": [
    "<h1>ECON 140R Class 10.1</h1>"
   ]
  },
  {
   "cell_type": "markdown",
   "id": "90b66eed",
   "metadata": {},
   "source": [
    "The Class 10 hands-on runs in two analyses:\n",
    "* <b>10.1: A second look at earnings and number of siblings the 1998 HRS</b>\n",
    "* 10.2: Bad controls in the January 2018 Current Population Survey (CPS)\n",
    "\n",
    "Learning objectives:\n",
    "1. Repetition\n",
    "2. Visualization and common pitfalls"
   ]
  },
  {
   "cell_type": "markdown",
   "id": "bead533c",
   "metadata": {},
   "source": [
    "<h2>HRS and siblings redux</h2>"
   ]
  },
  {
   "cell_type": "markdown",
   "id": "be4e31fe",
   "metadata": {},
   "source": [
    "Recall our analysis of log earnings in the 1998 (4th) wave of the U.S. Health and Retirement Study (HRS) from class 09. The top of this hands-on replicates that, before running a further variant of the analysis.\n",
    "\n",
    "We'd like to understand how \"family size,\" as discussed by Angrist and Pischke, might be an omitted variable in the Dale and Krueger (2002) study. The HRS measures the number of living siblings in wave 4, `r4livsib`, for this sample aged 50-59 in 1998. They are roughly 10-20 years older than the Dale-Krueger study participants, who entered college in 1976 and so were probably born around 1958.\n",
    "\n",
    "Our objective is to run a version of this \"long regression\" from page 73 of <i>Mastering Metrics</i>:\n",
    "\n",
    "$$\n",
    "\\ln Y_i = \\alpha^l \n",
    "+ \\beta^l \\ P_i + \n",
    "\\sum_j \\gamma_j^l GROUP_{ji} \n",
    "+ \\delta_1^l SAT_i\n",
    "+ \\delta_2^l \\ln PI_i\n",
    "+ \\lambda FS_i\n",
    "+ e^l_i\n",
    "$$\n",
    "\n",
    "where we can measure $FS_i$ in the HRS data, as `r4livsib`. We don't have many of the other right-hand-side variables shown here, but that shouldn't matter for this exercise. The coefficient on family size in a log earnings regression is not likely to depend much on the other controls shown here."
   ]
  },
  {
   "cell_type": "code",
   "execution_count": null,
   "id": "7800318b",
   "metadata": {},
   "outputs": [],
   "source": [
    "library(tidyverse)\n",
    "library(haven)"
   ]
  },
  {
   "cell_type": "markdown",
   "id": "61c77522",
   "metadata": {},
   "source": [
    "This is an extract I prepared specially for this purpose. The entire RAND version of the longitudinal file is big, over 1 GB in size. Berkeley's datahub is not configured to allow more than a gigabyte of memory per user, so this would be problematic. If you want to use these data yourself:\n",
    "* Navigate to [https://hrs.isr.umich.edu/](https://hrs.isr.umich.edu/) and register as a user\n",
    "* Start with the RAND file, I think it's the easiest\n",
    "* Download the data to your local machine and use RStudio"
   ]
  },
  {
   "cell_type": "code",
   "execution_count": null,
   "id": "645c01ad",
   "metadata": {},
   "outputs": [],
   "source": [
    "hrs_w4_earn_sibs = read_dta(\"hrs_w4_earn_sibs.dta\")\n",
    "head(hrs_w4_earn_sibs)"
   ]
  },
  {
   "cell_type": "markdown",
   "id": "a35024e6",
   "metadata": {},
   "source": [
    "The RAND file uses a very helpful variable naming convention: `rKvarname`, where K is the wave. Here, let's look at summary statistics for the variable `r4livsib`, which is number of living siblings. For people we'll look at, this is going to be very close to siblings ever born. "
   ]
  },
  {
   "cell_type": "code",
   "execution_count": null,
   "id": "4d810365",
   "metadata": {},
   "outputs": [],
   "source": [
    "summary(hrs_w4_earn_sibs$r4livsib)\n",
    "hist(hrs_w4_earn_sibs$r4livsib)"
   ]
  },
  {
   "cell_type": "markdown",
   "id": "ca5d12e5",
   "metadata": {},
   "source": [
    "It's also helpful to look at years of education `raedyrs`, because that appears to be pretty important for understanding the effects of number of siblings on earnings:"
   ]
  },
  {
   "cell_type": "code",
   "execution_count": null,
   "id": "4b6493c1",
   "metadata": {},
   "outputs": [],
   "source": [
    "summary(hrs_w4_earn_sibs$raedyrs)\n",
    "hist(hrs_w4_earn_sibs$raedyrs)"
   ]
  },
  {
   "cell_type": "markdown",
   "id": "943c2bb9",
   "metadata": {},
   "source": [
    "Many folks are at that huge spike at a high school degree, 12 years. The Dale-Krueger dataset includes only those people and those with more education, and none of the left tail.\n",
    "\n",
    "It might be interesting to see these two variables in a scatterplot, wouldn't it? Unfortunately, variables like this that take on integer values can create extremely unfortunate visualizations:"
   ]
  },
  {
   "cell_type": "code",
   "execution_count": null,
   "id": "0d6263c8",
   "metadata": {},
   "outputs": [],
   "source": [
    "plot(hrs_w4_earn_sibs$r4livsib, hrs_w4_earn_sibs$raedyrs)"
   ]
  },
  {
   "cell_type": "markdown",
   "id": "8b78dd38",
   "metadata": {},
   "source": [
    "A tried and true solution to this problem is to MESS WITH THE DATA. You may not have known it, but chances are that in STAT 20 or DATA 8, you saw more than your fair share of scatterplots with deliberately \"cooked\" data in the way we're about to cook it.\n",
    "\n",
    "If we add a small random number to both variables, we are monkeying with the data but basically preserving it. It's good to seed the random number generator (RNG) so that we can reproduce outcomes if we want to. "
   ]
  },
  {
   "cell_type": "code",
   "execution_count": null,
   "id": "b0b49bd6",
   "metadata": {},
   "outputs": [],
   "source": [
    "set.seed(20220927)"
   ]
  },
  {
   "cell_type": "code",
   "execution_count": null,
   "id": "b5d6f266",
   "metadata": {},
   "outputs": [],
   "source": [
    "# Let's create variables endin in -r that have a normally distributed random variable added, with mean 0 and small SD\n",
    "hrs_w4_earn_sibs <- mutate(hrs_w4_earn_sibs, raedyrsr = raedyrs + rnorm(n(),0,1))\n",
    "hrs_w4_earn_sibs <- mutate(hrs_w4_earn_sibs, r4livsibr = r4livsib + rnorm(n(),0,0.5))\n",
    "head(hrs_w4_earn_sibs)"
   ]
  },
  {
   "cell_type": "code",
   "execution_count": null,
   "id": "90a73fa8",
   "metadata": {},
   "outputs": [],
   "source": [
    "plot(hrs_w4_earn_sibs$r4livsibr, hrs_w4_earn_sibs$raedyrsr)"
   ]
  },
  {
   "cell_type": "markdown",
   "id": "9ea7192f",
   "metadata": {},
   "source": [
    "Another thing we could do is just run a regression. Here it is:\n",
    "\n",
    "$$\n",
    "raedyrs_i = \\alpha^e + \\beta^e \\ livingsiblings_i + \\epsilon^e_i\n",
    "$$"
   ]
  },
  {
   "cell_type": "code",
   "execution_count": null,
   "id": "1d3b9893",
   "metadata": {},
   "outputs": [],
   "source": [
    "edyrs_sib_reg <- lm(raedyrs ~ r4livsib, data = hrs_w4_earn_sibs)\n",
    "summary(edyrs_sib_reg)"
   ]
  },
  {
   "cell_type": "markdown",
   "id": "9cdcdb90",
   "metadata": {},
   "source": [
    "<hr>"
   ]
  },
  {
   "cell_type": "markdown",
   "id": "482f5214",
   "metadata": {},
   "source": [
    "Let's call `mutate()` to add some categoricals, for female gender identity and for the race/ethnicity categories that are useful to summarize folks:"
   ]
  },
  {
   "cell_type": "code",
   "execution_count": null,
   "id": "fb8030a4",
   "metadata": {},
   "outputs": [],
   "source": [
    "hrs_w4_earn_sibs <- mutate(hrs_w4_earn_sibs, rafemale = ragender - 1)"
   ]
  },
  {
   "cell_type": "code",
   "execution_count": null,
   "id": "bb614995",
   "metadata": {},
   "outputs": [],
   "source": [
    "hrs_w4_earn_sibs <- mutate(hrs_w4_earn_sibs, rablacknh  = ifelse(raraceth == 2, 1, 0))\n",
    "hrs_w4_earn_sibs <- mutate(hrs_w4_earn_sibs, rahispanic = ifelse(raraceth == 3, 1, 0))\n",
    "hrs_w4_earn_sibs <- mutate(hrs_w4_earn_sibs, raothernh  = ifelse(raraceth == 4, 1, 0))\n",
    "head(hrs_w4_earn_sibs)"
   ]
  },
  {
   "cell_type": "markdown",
   "id": "be681efe",
   "metadata": {},
   "source": [
    "Behind the scenes, I have created some standard \"labor economics variables.\" One thing you can do in a log-wage regression is control for age and age-squared. You could also control for age group, with indicators for set ranges of age, maybe in 5-year age groups. You could also calculate what labor economists like as a baseline, which is a rough measure of years of \"experience,\" calculated as age minus years of education:\n",
    "\n",
    "$$\n",
    "r4exper_i = r4age_i - raedyrs_i\n",
    "$$\n",
    "\n",
    "I also created a variable `r4expersq` by squaring this experience variable. Over a broad age range, typically what we see is earnings rise and then plateau with age, and so a quadratic in experience captures the typical experience fairly well. The expectation is that the coefficient on the linear term should be positive, and the coefficient on the squared term should be negative, so that the parabola opens downward. This isn't always true, especially if we limit our analysis to a particular age range rather than all working ages 20-64."
   ]
  },
  {
   "cell_type": "markdown",
   "id": "dd856cd1",
   "metadata": {},
   "source": [
    "Let's run this regression:\n",
    "$$\n",
    "\\ln earnings_i = \\alpha_i + \\beta \\ livingsiblings_i + \\gamma \\ raedyrs_i + B \\cdot controls + e_i\n",
    "$$"
   ]
  },
  {
   "cell_type": "code",
   "execution_count": null,
   "id": "949b7328",
   "metadata": {},
   "outputs": [],
   "source": [
    "hrs_reg1 <- lm(logr4iearn ~ r4livsib + raedyrs + r4exper + r4expersq \n",
    "               + rafemale + rablacknh + rahispanic + raothernh, data = hrs_w4_earn_sibs)\n",
    "summary(hrs_reg1)"
   ]
  },
  {
   "cell_type": "markdown",
   "id": "9295113d",
   "metadata": {},
   "source": [
    "Once we have controlled for age or experience, years of education, gender identity, and race/ethnicity, it doesn't appear that number of living siblings tells us anything about earnings."
   ]
  },
  {
   "cell_type": "markdown",
   "id": "b59ff874",
   "metadata": {},
   "source": [
    "By contrast, number of living siblings in 1998 definitely does appear to be correlated with years of education, controlling for gender and race/ethnicity:"
   ]
  },
  {
   "cell_type": "code",
   "execution_count": null,
   "id": "4d8a0ac8",
   "metadata": {},
   "outputs": [],
   "source": [
    "hrs_reg2 <- lm(raedyrs ~ r4livsib + rafemale + rablacknh + rahispanic + raothernh, data = hrs_w4_earn_sibs)\n",
    "summary(hrs_reg2)"
   ]
  },
  {
   "cell_type": "markdown",
   "id": "6fbab5e6",
   "metadata": {},
   "source": [
    "<hr>"
   ]
  },
  {
   "cell_type": "markdown",
   "id": "e8495fb0",
   "metadata": {},
   "source": [
    "Another reasonable approach here would be to drop observations who have less education than people in the Dale-Krueger (2002) study. They describe their sample in Table II on p. 1506, and they report that 85% graduated from college, and 56% obtained an advanced degree.\n",
    "\n",
    "In the HRS data, if we look at people with `raedyrs` of 15 and more, that gets us roughly this break."
   ]
  },
  {
   "cell_type": "code",
   "execution_count": null,
   "id": "4a82cb83",
   "metadata": {},
   "outputs": [],
   "source": [
    "table(unlist(hrs_w4_earn_sibs$raedyrs))"
   ]
  },
  {
   "cell_type": "code",
   "execution_count": null,
   "id": "9ecdcf1a",
   "metadata": {},
   "outputs": [],
   "source": [
    "244/(244+620+706)"
   ]
  },
  {
   "cell_type": "markdown",
   "id": "19a1d921",
   "metadata": {},
   "source": [
    "The code above shows that the 244 people at `raedyrs` == 15 are 15% of the total at or above that level. The code below runs the model on people with 15+ years of education and drops education from the right-hand side. This produces a subsample that is similar to the Dale and Krueger data."
   ]
  },
  {
   "cell_type": "code",
   "execution_count": null,
   "id": "781a4d07",
   "metadata": {
    "scrolled": false
   },
   "outputs": [],
   "source": [
    "hrs_reg3 <- lm(logr4iearn ~ r4livsib + r4exper + r4expersq # + raedyrs \n",
    "               + rafemale + rablacknh + rahispanic + raothernh, \n",
    "               data = subset(hrs_w4_earn_sibs, raedyrs >= 15))\n",
    "summary(hrs_reg3)"
   ]
  },
  {
   "cell_type": "markdown",
   "id": "129e1a6f",
   "metadata": {},
   "source": [
    "There's not much evidence here. We can also examine a pretty extreme model, where we drop all other covariates and look at the bivariate relationship between log earnings and living siblings:"
   ]
  },
  {
   "cell_type": "code",
   "execution_count": null,
   "id": "80030906",
   "metadata": {},
   "outputs": [],
   "source": [
    "hrs_reg4 <- lm(logr4iearn ~ r4livsib , \n",
    "               data = subset(hrs_w4_earn_sibs, raedyrs >= 15))\n",
    "summary(hrs_reg4)"
   ]
  },
  {
   "cell_type": "markdown",
   "id": "6e58f8c7",
   "metadata": {},
   "source": [
    "<hr>"
   ]
  },
  {
   "cell_type": "markdown",
   "id": "99b8612d",
   "metadata": {},
   "source": [
    "<div style=\"text-align: right\"> <span style=\"font-family:Papyrus; \">And they lived happily ever after. The End.</span></div>"
   ]
  }
 ],
 "metadata": {
  "kernelspec": {
   "display_name": "R",
   "language": "R",
   "name": "ir"
  },
  "language_info": {
   "codemirror_mode": "r",
   "file_extension": ".r",
   "mimetype": "text/x-r-source",
   "name": "R",
   "pygments_lexer": "r",
   "version": "4.2.1"
  }
 },
 "nbformat": 4,
 "nbformat_minor": 5
}
