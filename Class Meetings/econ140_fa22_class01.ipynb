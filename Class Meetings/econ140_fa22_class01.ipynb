{
 "cells": [
  {
   "cell_type": "markdown",
   "id": "82ad9854",
   "metadata": {},
   "source": [
    "<h1>ECON 140R Class 01</h1>"
   ]
  },
  {
   "cell_type": "markdown",
   "id": "b7e96fdf",
   "metadata": {},
   "source": [
    "This is a Jupyter notebook, written with R, and running on [https://datahub.berkeley.edu](https://datahub.berkeley.edu)\n",
    "\n",
    "The \"dad joke\" is that this ECON 140 will be taught at least partially in R, and also it is the first letter of your instructor's first name."
   ]
  },
  {
   "cell_type": "markdown",
   "id": "41bec29e",
   "metadata": {},
   "source": [
    "Markdown is a superb tool for writing in clean text. It cannot write clear prose for you, but when you write clear prose, it will render it cleanly. And well, that is what we might call heaven on earth. Visually and pedagogically clear."
   ]
  },
  {
   "cell_type": "markdown",
   "id": "d11dbe4f",
   "metadata": {},
   "source": [
    "&nbsp;"
   ]
  },
  {
   "cell_type": "markdown",
   "id": "791c2b9e",
   "metadata": {},
   "source": [
    "Markdown lets us write math type too. Us oldsters and geeks might call it $\\LaTeX$. Check this out:"
   ]
  },
  {
   "cell_type": "markdown",
   "id": "1e15f74e",
   "metadata": {},
   "source": [
    "$$y = \\alpha + \\beta x + \\epsilon$$"
   ]
  },
  {
   "cell_type": "markdown",
   "id": "a557a674",
   "metadata": {},
   "source": [
    "This is a statement that $y$ is linear in $x$, with some error, $\\epsilon$, to the tune of an intercept, $\\alpha$, and a slope, $\\beta$."
   ]
  },
  {
   "cell_type": "markdown",
   "id": "6265b824",
   "metadata": {},
   "source": [
    "We can get fancy with terms, or we can stay simple. Do whatever feels right to you. These are all roughly equivalent: the partial derivative, $\\partial y/\\partial x = \\beta$; the slope is $\\beta$; the <i>effect</i> of $x$ on $y$ might be $\\beta$ maybe; the association between $x$ and $y$ is $\\beta$; etc."
   ]
  },
  {
   "cell_type": "markdown",
   "id": "cfc8c967",
   "metadata": {},
   "source": [
    "&nbsp;"
   ]
  },
  {
   "cell_type": "markdown",
   "id": "1c61ea84",
   "metadata": {},
   "source": [
    "Econometrics is all about:\n",
    "\n",
    "* Thinking of the world in terms of equations like this\n",
    "\n",
    "* Being clever or realistic about how to measure the \"real\" $\\beta$ — the causal one —in data"
   ]
  },
  {
   "cell_type": "markdown",
   "id": "0cab9418",
   "metadata": {},
   "source": [
    "&nbsp;"
   ]
  },
  {
   "cell_type": "markdown",
   "id": "7f5c0b61",
   "metadata": {},
   "source": [
    "The true magic of the Jupyter notebook comes with the interlacing of code and prose together. Let us jump ahead several classes and examine something we will later understand as <b>Omitted Variable Bias</b> using a useful repository of data from Jeffrey Wooldridge's excellent textbook, <i>Introductory Econometrics, a Modern Approach</i>. \n",
    "\n",
    "This appears as Example 9.3 on page 281 of the 6th edition, and it draws on a dataset provided by [Blackburn and Newmark (1992)](https://www-jstor-org.libproxy.berkeley.edu/stable/2118394) on monthly earnings and other characteristics among men in 1980.\n",
    "\n",
    "(This particular example is unfortunately not found within Florian Heiss's excellent R version of this book at [http://www.urfie.net/read/index.html](http://www.urfie.net/read/index.html))"
   ]
  },
  {
   "cell_type": "markdown",
   "id": "bf5dac52",
   "metadata": {},
   "source": [
    "Helpfully, folks have dumped all Wooldridge's public datasets into an R package for us to use. Here is code that sets that up. Highlight the code snippet with your mouse or trackpad, and hit <tt>SHIFT+ENTER</tt>"
   ]
  },
  {
   "cell_type": "code",
   "execution_count": null,
   "id": "0f921c45",
   "metadata": {},
   "outputs": [],
   "source": [
    "install.packages('wooldridge')"
   ]
  },
  {
   "cell_type": "markdown",
   "id": "ec870e1f",
   "metadata": {},
   "source": [
    "This command digs into that loaded package and retrieves part of it for our data:"
   ]
  },
  {
   "cell_type": "code",
   "execution_count": null,
   "id": "a5f4fafe",
   "metadata": {},
   "outputs": [],
   "source": [
    "data(wage2, package='wooldridge')"
   ]
  },
  {
   "cell_type": "markdown",
   "id": "e6ad0f21",
   "metadata": {},
   "source": [
    "There are several ways of probing what it is that we just loaded. One convenient function to call is <tt>head()<tt>:"
   ]
  },
  {
   "cell_type": "code",
   "execution_count": null,
   "id": "c8382f10",
   "metadata": {},
   "outputs": [],
   "source": [
    "head(wage2)"
   ]
  },
  {
   "cell_type": "markdown",
   "id": "673b1493",
   "metadata": {},
   "source": [
    "&nbsp;"
   ]
  },
  {
   "cell_type": "markdown",
   "id": "b1653a81",
   "metadata": {},
   "source": [
    "The variables have mnemonic names you can guess. Probably the strangest one is <tt>lwage</tt>, which appears at the far right of the results window (scroll right), and which is the <b>natural logarithm of the monthly wage</b>."
   ]
  },
  {
   "cell_type": "markdown",
   "id": "43bc9bc4",
   "metadata": {},
   "source": [
    "As we will see, in R the <tt>lm()</tt> function fits multivariate linear models conveniently. The syntax takes getting used to, but to estimate this model:\n",
    "$$y = \\alpha + \\beta x + \\gamma z + \\epsilon$$\n",
    "we  call this code:\n",
    "\n",
    "<center><tt>lm(y ~ x + z)</tt></center>\n",
    "\n",
    "Can you see the similarities?\n",
    "\n",
    "Now bear with me. I am going to call <tt>lm()</tt> three times with different equations, and I am going to assign the output to new structures on the left hand side of the \"gets\" operator <tt><-</tt>"
   ]
  },
  {
   "cell_type": "code",
   "execution_count": null,
   "id": "54779f4d",
   "metadata": {},
   "outputs": [],
   "source": [
    "shortreg <- lm(lwage ~ educ + educ + exper + tenure \n",
    "               + married + south + urban + black, data = wage2)"
   ]
  },
  {
   "cell_type": "code",
   "execution_count": null,
   "id": "4d35ed88",
   "metadata": {},
   "outputs": [],
   "source": [
    "longreg <- lm(lwage ~ educ + educ + exper + tenure \n",
    "              + married + south + urban + black + IQ, data = wage2)"
   ]
  },
  {
   "cell_type": "code",
   "execution_count": null,
   "id": "ab9a46d6",
   "metadata": {},
   "outputs": [],
   "source": [
    "auxreg <- lm(IQ ~ educ + educ + exper + tenure \n",
    "             + married + south + urban + black, data = wage2)"
   ]
  },
  {
   "cell_type": "markdown",
   "id": "53beb8b5",
   "metadata": {},
   "source": [
    "If you were to surround those three calls with parentheses, then R would immediately spit back something. Or you can wait and call <tt>summary()<tt>"
   ]
  },
  {
   "cell_type": "code",
   "execution_count": null,
   "id": "065c90aa",
   "metadata": {},
   "outputs": [],
   "source": [
    "summary(shortreg)"
   ]
  },
  {
   "cell_type": "markdown",
   "id": "3e553143",
   "metadata": {},
   "source": [
    "&nbsp;"
   ]
  },
  {
   "cell_type": "markdown",
   "id": "5ff2c462",
   "metadata": {},
   "source": [
    "This and other output are what we are after. It takes some skill to decipher this, but you will learn to do it as effortlessly as I can. Look at the coefficient on <tt>educ</tt> in particular. Here is R spitting out just that number, in all its raw glory:"
   ]
  },
  {
   "cell_type": "code",
   "execution_count": null,
   "id": "225b0735",
   "metadata": {},
   "outputs": [],
   "source": [
    "shortreg$coefficients[\"educ\"]"
   ]
  },
  {
   "cell_type": "markdown",
   "id": "77ba3bbd",
   "metadata": {},
   "source": [
    "In words, it turns out that this is the <i>percentage increase</i> in the hourly wage for each additional year (unit) of education. That's a 6.5% real return, which is not too shabby."
   ]
  },
  {
   "cell_type": "markdown",
   "id": "7865a3dc",
   "metadata": {},
   "source": [
    "<center><h2>Kids, stay in school</h2></center>"
   ]
  },
  {
   "cell_type": "markdown",
   "id": "e97fc8d9",
   "metadata": {},
   "source": [
    "We will revisit these data more later."
   ]
  },
  {
   "cell_type": "markdown",
   "id": "08a64258",
   "metadata": {},
   "source": [
    "As a reminder, <i>you should copy code in this class.</i> Copying code is often how we learn. But you need to copy and then tinker with it, to understand it.\n",
    "\n",
    "In ECON 140, copy code. Do not copy ideas. Copy code, learn from it, alter it to do what you need, profit. Then look at what you have found, and <u>write about it in your own words</u>."
   ]
  },
  {
   "cell_type": "markdown",
   "id": "c51934e9",
   "metadata": {},
   "source": [
    "<div style=\"text-align: right\"> <span style=\"font-family:Papyrus; \">And they lived happily ever after. The End.</span></div>"
   ]
  },
  {
   "cell_type": "code",
   "execution_count": null,
   "id": "6873fd05",
   "metadata": {},
   "outputs": [],
   "source": []
  }
 ],
 "metadata": {
  "kernelspec": {
   "display_name": "R",
   "language": "R",
   "name": "ir"
  },
  "language_info": {
   "codemirror_mode": "r",
   "file_extension": ".r",
   "mimetype": "text/x-r-source",
   "name": "R",
   "pygments_lexer": "r",
   "version": "4.2.1"
  }
 },
 "nbformat": 4,
 "nbformat_minor": 5
}
