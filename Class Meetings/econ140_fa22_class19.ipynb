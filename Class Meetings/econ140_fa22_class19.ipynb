{
 "cells": [
  {
   "cell_type": "markdown",
   "id": "0d73132b",
   "metadata": {},
   "source": [
    "<h1>ECON 140R Class 19</h1>"
   ]
  },
  {
   "cell_type": "markdown",
   "id": "25031a3e",
   "metadata": {},
   "source": [
    "<b>Difference-in-differences (DID)</b> estimation is an extremely useful tool. A sizeable part of the award-winning work by the 2021 Nobel Laureates in Economics &mdash; Angrist, Card, and Imbens &mdash; used DID techniques to reveal new empirical truths that challenged conventional economic wisdom derived from theory and less rigorous identified empirical models.\n",
    "\n",
    "Learning objectives:\n",
    "\n",
    "1. Examine panel data for the first time: the annual version of [Richardson and Troost (2009)](https://www-jstor-org.libproxy.berkeley.edu/stable/10.1086/649603)\n",
    "2. Run DID using `lm()`\n"
   ]
  },
  {
   "cell_type": "markdown",
   "id": "f4b628cf",
   "metadata": {},
   "source": [
    "[Richardson and Troost (2009)](https://www-jstor-org.libproxy.berkeley.edu/stable/10.1086/649603) collected and examined data on bank operations in the 6th and 8th Federal Reserve Districts between 1929 and 1934. Their dataset helpfully appears in the Supplemental Materials [here, on the publisher's website](https://www-journals-uchicago-edu.libproxy.berkeley.edu/doi/suppl/10.1086/649603), in a file labeled `32115data.zip`. Inside that file, `Figure_3_23september2009.xls` contains a tab labeled \"Data - Banks in Operation\" from which I draw on columns M and X to show daily counts of banks in operation. \n",
    "\n",
    "Behind the scenes, I have collapsed these daily data into simple averages within the year as measured. For 1929, the data cover July 1, 1929; for 1934, the data cover through August 21, 1934. The Stata dataset below includes the annual averages for each district."
   ]
  },
  {
   "cell_type": "markdown",
   "id": "3321f675",
   "metadata": {},
   "source": [
    "Below is Figure 5.2 in <i>Mastering Metrics</i>, the \"killer chart\" showing the actual data around the bank bailout shock that differentially advantaged Mississippi banks in the Federal Reserve's 6th District, which was managed by the Atlanta Fed, an early proponent of lender-of-last-resort policies."
   ]
  },
  {
   "cell_type": "markdown",
   "id": "2c13cba8",
   "metadata": {},
   "source": [
    "<img src=\"images/MMfig52.png\" width=\"500\" />"
   ]
  },
  {
   "cell_type": "code",
   "execution_count": null,
   "id": "fba85d88",
   "metadata": {},
   "outputs": [],
   "source": [
    "library(haven)"
   ]
  },
  {
   "cell_type": "code",
   "execution_count": null,
   "id": "eccdc87b",
   "metadata": {},
   "outputs": [],
   "source": [
    "figure_3_annavg <- read_dta(\"figure_3_annavg.dta\")\n",
    "figure_3_annavg"
   ]
  },
  {
   "cell_type": "markdown",
   "id": "2f24f7fb",
   "metadata": {},
   "source": [
    "This example is exquisite because it contains 12 rows = 6 years (1929:1934) by 2 districts, and it actually returns a statistically significant coefficient. Let us run this model and then discuss:\n",
    "\n",
    "$$\n",
    "banks_{dt} = \\alpha + \\beta \\ treat_d + \\gamma \\ post_t + \\delta_{rDID} \\ treat_d \\times post_t + \\epsilon_{dt}\n",
    "$$\n",
    "\n",
    "where $d$ indexes districts; $t$ indexes time; $treat_d$ is a indicator variable of being in the treatment group; $post_t$ is an indicator variable for when the treatment has occurred; and finally, the guest of honor: the <b>interaction term</b> $treat_d \\times post_t$ is the product of the two indicator variables, which is also an indicator variable, in this case of being in the treatment group after the treatment has occurred.\n",
    "\n"
   ]
  },
  {
   "cell_type": "markdown",
   "id": "778e3678",
   "metadata": {},
   "source": [
    "What we are doing here is defining a \"pre\" and a \"post\" period, and we are kind of <i>averaging</i> all of our \"pre\" periods and then also all of our post periods.\n",
    "\n",
    "This is a specific version of what we typically call a <b>fixed-effect (FE) panel estimator</b>. A more general FE might allow for individual year effects; here, we have only an indicator splitting pre and post. Other versions of this could include linear time trends or different linear time trends for different units (here, districts).\n",
    "\n",
    "Let's run the model. Simple `lm()` will do, although there also is a `plm` package (\"panel linear models\") we will explore later."
   ]
  },
  {
   "cell_type": "code",
   "execution_count": null,
   "id": "f023e90e",
   "metadata": {},
   "outputs": [],
   "source": [
    "banks_did <- lm(banks ~ treat + post + treatxpost,\n",
    "               data = figure_3_annavg)\n",
    "summary(banks_did)"
   ]
  },
  {
   "cell_type": "markdown",
   "id": "0d9f66f8",
   "metadata": {},
   "source": [
    "This is a little different than what Angrist and Pischke report on page 188:\n",
    "\n",
    "$$\n",
    "Y_{dt} = 167 - 29 \\ treat_{d} - 49 \\ post_t + 20.5 \\ treat_d \\times post_t + e_{dt}\n",
    "$$\n",
    "\n",
    "but definitely in that ballpark. The sources of the differences are unclear; I took averages; maybe they did something to round the data in a special way. (Simply rounding my data does not appear to fit the bill.)"
   ]
  },
  {
   "cell_type": "markdown",
   "id": "adb8d5f0",
   "metadata": {},
   "source": [
    "What do you see here? What is the regression-DID estimate here, or $\\delta_{rDID}$? Is it statistically significant? How does it compare to the 20.5 banks reported in the textbook on page 188? How does it compare to the two-period DID estimate $\\delta_{DID} = 19$ reported on page 183?"
   ]
  },
  {
   "cell_type": "markdown",
   "id": "c8fa611d",
   "metadata": {},
   "source": []
  },
  {
   "cell_type": "markdown",
   "id": "487d5957",
   "metadata": {},
   "source": [
    "<div style=\"text-align: right\"> <span style=\"font-family:Papyrus; \">And they lived happily ever after. The End.</span></div>"
   ]
  }
 ],
 "metadata": {
  "kernelspec": {
   "display_name": "R",
   "language": "R",
   "name": "ir"
  },
  "language_info": {
   "codemirror_mode": "r",
   "file_extension": ".r",
   "mimetype": "text/x-r-source",
   "name": "R",
   "pygments_lexer": "r",
   "version": "4.2.1"
  }
 },
 "nbformat": 4,
 "nbformat_minor": 5
}
