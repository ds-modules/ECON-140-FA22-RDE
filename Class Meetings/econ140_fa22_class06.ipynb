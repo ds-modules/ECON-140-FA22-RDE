{
 "cells": [
  {
   "cell_type": "markdown",
   "id": "11979eed",
   "metadata": {},
   "source": [
    "<h1>ECON 140R Class 06</h1>"
   ]
  },
  {
   "cell_type": "markdown",
   "id": "409464c2",
   "metadata": {},
   "source": [
    "Let's spend time to cement a few key takeaways from Chapter 1 of <i>Mastering Metrics</i>. In the book, Angrist and Pischke show us a simple example with 2 individuals. Here, let's examine a simple example with 20 individuals, 10 each in the control and treatment groups.\n",
    "\n",
    "<h2>Learning Objectives</h2>\n",
    "\n",
    "* Run an ordinary least squares (OLS) regression $y_i = \\alpha + \\beta \\ D_i + \\epsilon_i$ using `lm()`\n",
    "* See that when $y$ is an outcome, and if the indicator variable $D = 1$ measures treatment group assignment in an RCT, then OLS reveals:\n",
    "    * $\\alpha$ = average $y$ for the control group\n",
    "    * $\\beta$ = average difference in outcomes between treatment and control\n",
    "* See a brief example of a \"recode\" in __R__ using `ifelse()`"
   ]
  },
  {
   "cell_type": "code",
   "execution_count": 3,
   "id": "c4a34327",
   "metadata": {},
   "outputs": [
    {
     "name": "stderr",
     "output_type": "stream",
     "text": [
      "── \u001b[1mAttaching packages\u001b[22m ─────────────────────────────────────── tidyverse 1.3.0 ──\n",
      "\n",
      "\u001b[32m✔\u001b[39m \u001b[34mggplot2\u001b[39m 3.3.6     \u001b[32m✔\u001b[39m \u001b[34mpurrr  \u001b[39m 0.3.4\n",
      "\u001b[32m✔\u001b[39m \u001b[34mtibble \u001b[39m 3.1.8     \u001b[32m✔\u001b[39m \u001b[34mdplyr  \u001b[39m 1.0.9\n",
      "\u001b[32m✔\u001b[39m \u001b[34mtidyr  \u001b[39m 1.2.0     \u001b[32m✔\u001b[39m \u001b[34mstringr\u001b[39m 1.4.1\n",
      "\u001b[32m✔\u001b[39m \u001b[34mreadr  \u001b[39m 2.1.2     \u001b[32m✔\u001b[39m \u001b[34mforcats\u001b[39m 0.5.2\n",
      "\n",
      "── \u001b[1mConflicts\u001b[22m ────────────────────────────────────────── tidyverse_conflicts() ──\n",
      "\u001b[31m✖\u001b[39m \u001b[34mdplyr\u001b[39m::\u001b[32mfilter()\u001b[39m masks \u001b[34mstats\u001b[39m::filter()\n",
      "\u001b[31m✖\u001b[39m \u001b[34mdplyr\u001b[39m::\u001b[32mlag()\u001b[39m    masks \u001b[34mstats\u001b[39m::lag()\n",
      "\n"
     ]
    }
   ],
   "source": [
    "library(tidyverse)"
   ]
  },
  {
   "cell_type": "markdown",
   "id": "2fd0d195",
   "metadata": {},
   "source": [
    "I've learned some __R__ to create a fictional dataset containing study participants in a randomized controlled trial (RCT). Here is code that ultimately creates a data frame for the 10-person control group that shows their first names; an (old-school) binary gender identity$^{\\dagger}$; RCT group membership; and a <u>bad health outcome</u>, first coded numerically and then again as a string."
   ]
  },
  {
   "cell_type": "markdown",
   "id": "c3c24986",
   "metadata": {},
   "source": [
    "Zeros and ones are common codings for bad health outcomes in medicine and in health economics. You could think of $D = 1$ meaning that the participant catches COVID-19, for example. Another, more extreme example is that the bad health outcome could be death. Here, I've coded \"poor health\" as `outcomestr == 1` with \"good health\" being the other state. (This is a common way of collapsing what is usually a 5-point scale for self-reported health: \"excellent,\" \"very good,\" \"good,\" \"fair,\" and \"poor,\" with the first three categories usually mapped to \"good\" and the latter two categories mapped to \"poor.\"\n",
    "\n",
    "Because of this coding, note that we are looking for a treatment that has a <b>negative</b> or protective effect: $\\beta < 0$. A positive effect in this context would mean that the treatment is actually worsening health."
   ]
  },
  {
   "cell_type": "code",
   "execution_count": 4,
   "id": "1458b377",
   "metadata": {},
   "outputs": [
    {
     "data": {
      "text/html": [
       "<table class=\"dataframe\">\n",
       "<caption>A data.frame: 10 × 5</caption>\n",
       "<thead>\n",
       "\t<tr><th scope=col>names</th><th scope=col>gender</th><th scope=col>group</th><th scope=col>outcome</th><th scope=col>outcomestr</th></tr>\n",
       "\t<tr><th scope=col>&lt;chr&gt;</th><th scope=col>&lt;chr&gt;</th><th scope=col>&lt;chr&gt;</th><th scope=col>&lt;dbl&gt;</th><th scope=col>&lt;chr&gt;</th></tr>\n",
       "</thead>\n",
       "<tbody>\n",
       "\t<tr><td>Alison   </td><td>female</td><td>control</td><td>0</td><td>good</td></tr>\n",
       "\t<tr><td>Bradley  </td><td>male  </td><td>control</td><td>1</td><td>poor</td></tr>\n",
       "\t<tr><td>Catherine</td><td>female</td><td>control</td><td>0</td><td>good</td></tr>\n",
       "\t<tr><td>David    </td><td>male  </td><td>control</td><td>0</td><td>good</td></tr>\n",
       "\t<tr><td>Esme     </td><td>female</td><td>control</td><td>1</td><td>poor</td></tr>\n",
       "\t<tr><td>Frank    </td><td>male  </td><td>control</td><td>1</td><td>poor</td></tr>\n",
       "\t<tr><td>Georgina </td><td>female</td><td>control</td><td>1</td><td>poor</td></tr>\n",
       "\t<tr><td>Henry    </td><td>male  </td><td>control</td><td>0</td><td>good</td></tr>\n",
       "\t<tr><td>Inez     </td><td>female</td><td>control</td><td>1</td><td>poor</td></tr>\n",
       "\t<tr><td>James    </td><td>male  </td><td>control</td><td>0</td><td>good</td></tr>\n",
       "</tbody>\n",
       "</table>\n"
      ],
      "text/latex": [
       "A data.frame: 10 × 5\n",
       "\\begin{tabular}{lllll}\n",
       " names & gender & group & outcome & outcomestr\\\\\n",
       " <chr> & <chr> & <chr> & <dbl> & <chr>\\\\\n",
       "\\hline\n",
       "\t Alison    & female & control & 0 & good\\\\\n",
       "\t Bradley   & male   & control & 1 & poor\\\\\n",
       "\t Catherine & female & control & 0 & good\\\\\n",
       "\t David     & male   & control & 0 & good\\\\\n",
       "\t Esme      & female & control & 1 & poor\\\\\n",
       "\t Frank     & male   & control & 1 & poor\\\\\n",
       "\t Georgina  & female & control & 1 & poor\\\\\n",
       "\t Henry     & male   & control & 0 & good\\\\\n",
       "\t Inez      & female & control & 1 & poor\\\\\n",
       "\t James     & male   & control & 0 & good\\\\\n",
       "\\end{tabular}\n"
      ],
      "text/markdown": [
       "\n",
       "A data.frame: 10 × 5\n",
       "\n",
       "| names &lt;chr&gt; | gender &lt;chr&gt; | group &lt;chr&gt; | outcome &lt;dbl&gt; | outcomestr &lt;chr&gt; |\n",
       "|---|---|---|---|---|\n",
       "| Alison    | female | control | 0 | good |\n",
       "| Bradley   | male   | control | 1 | poor |\n",
       "| Catherine | female | control | 0 | good |\n",
       "| David     | male   | control | 0 | good |\n",
       "| Esme      | female | control | 1 | poor |\n",
       "| Frank     | male   | control | 1 | poor |\n",
       "| Georgina  | female | control | 1 | poor |\n",
       "| Henry     | male   | control | 0 | good |\n",
       "| Inez      | female | control | 1 | poor |\n",
       "| James     | male   | control | 0 | good |\n",
       "\n"
      ],
      "text/plain": [
       "   names     gender group   outcome outcomestr\n",
       "1  Alison    female control 0       good      \n",
       "2  Bradley   male   control 1       poor      \n",
       "3  Catherine female control 0       good      \n",
       "4  David     male   control 0       good      \n",
       "5  Esme      female control 1       poor      \n",
       "6  Frank     male   control 1       poor      \n",
       "7  Georgina  female control 1       poor      \n",
       "8  Henry     male   control 0       good      \n",
       "9  Inez      female control 1       poor      \n",
       "10 James     male   control 0       good      "
      ]
     },
     "metadata": {},
     "output_type": "display_data"
    }
   ],
   "source": [
    "names   <- c(\"Alison\", \"Bradley\", \"Catherine\", \"David\", \"Esme\", \n",
    "             \"Frank\", \"Georgina\", \"Henry\", \"Inez\", \"James\")\n",
    "\n",
    "gender  <- c(\"female\", \"male\", \"female\", \"male\", \"female\",\n",
    "             \"male\", \"female\", \"male\", \"female\", \"male\")\n",
    "\n",
    "group   <- c(\"control\", \"control\", \"control\", \"control\", \"control\",\n",
    "             \"control\", \"control\", \"control\", \"control\", \"control\")\n",
    "\n",
    "outcome <- c(0,1,0,0,1,\n",
    "             1,1,0,1,0)\n",
    "\n",
    "outcomestr <- c(\"good\", \"poor\", \"good\", \"good\", \"poor\",\n",
    "                \"poor\", \"poor\", \"good\", \"poor\", \"good\")\n",
    "\n",
    "# data.frame() constructs the data frame and labels the columns with the variable names\n",
    "# Parentheses around the command also ask R to show it to us\n",
    "\n",
    "(control_df <- data.frame(names, gender, group, outcome, outcomestr))\n"
   ]
  },
  {
   "cell_type": "markdown",
   "id": "c1cb13d0",
   "metadata": {},
   "source": [
    "Can you eyeball the average of `outcome` here for the control group? There are 10 people, and 5 of them have `outcome == 1`, so ..."
   ]
  },
  {
   "cell_type": "code",
   "execution_count": null,
   "id": "0e25e23c",
   "metadata": {},
   "outputs": [],
   "source": [
    "outcome_avg_control ="
   ]
  },
  {
   "cell_type": "code",
   "execution_count": 9,
   "id": "3ef4fe26",
   "metadata": {},
   "outputs": [
    {
     "data": {
      "text/html": [
       "<table class=\"dataframe\">\n",
       "<caption>A data.frame: 10 × 5</caption>\n",
       "<thead>\n",
       "\t<tr><th scope=col>names</th><th scope=col>gender</th><th scope=col>group</th><th scope=col>outcome</th><th scope=col>outcomestr</th></tr>\n",
       "\t<tr><th scope=col>&lt;chr&gt;</th><th scope=col>&lt;chr&gt;</th><th scope=col>&lt;chr&gt;</th><th scope=col>&lt;dbl&gt;</th><th scope=col>&lt;chr&gt;</th></tr>\n",
       "</thead>\n",
       "<tbody>\n",
       "\t<tr><td>Kate     </td><td>female</td><td>treatment</td><td>0</td><td>good</td></tr>\n",
       "\t<tr><td>Larry    </td><td>male  </td><td>treatment</td><td>0</td><td>good</td></tr>\n",
       "\t<tr><td>Mallory  </td><td>female</td><td>treatment</td><td>0</td><td>good</td></tr>\n",
       "\t<tr><td>Niles    </td><td>male  </td><td>treatment</td><td>1</td><td>poor</td></tr>\n",
       "\t<tr><td>Olivia   </td><td>female</td><td>treatment</td><td>0</td><td>good</td></tr>\n",
       "\t<tr><td>Peter    </td><td>male  </td><td>treatment</td><td>1</td><td>poor</td></tr>\n",
       "\t<tr><td>Quincy   </td><td>female</td><td>treatment</td><td>1</td><td>poor</td></tr>\n",
       "\t<tr><td>Rutger   </td><td>male  </td><td>treatment</td><td>0</td><td>good</td></tr>\n",
       "\t<tr><td>Stephanie</td><td>female</td><td>treatment</td><td>0</td><td>good</td></tr>\n",
       "\t<tr><td>Troy     </td><td>male  </td><td>treatment</td><td>0</td><td>good</td></tr>\n",
       "</tbody>\n",
       "</table>\n"
      ],
      "text/latex": [
       "A data.frame: 10 × 5\n",
       "\\begin{tabular}{lllll}\n",
       " names & gender & group & outcome & outcomestr\\\\\n",
       " <chr> & <chr> & <chr> & <dbl> & <chr>\\\\\n",
       "\\hline\n",
       "\t Kate      & female & treatment & 0 & good\\\\\n",
       "\t Larry     & male   & treatment & 0 & good\\\\\n",
       "\t Mallory   & female & treatment & 0 & good\\\\\n",
       "\t Niles     & male   & treatment & 1 & poor\\\\\n",
       "\t Olivia    & female & treatment & 0 & good\\\\\n",
       "\t Peter     & male   & treatment & 1 & poor\\\\\n",
       "\t Quincy    & female & treatment & 1 & poor\\\\\n",
       "\t Rutger    & male   & treatment & 0 & good\\\\\n",
       "\t Stephanie & female & treatment & 0 & good\\\\\n",
       "\t Troy      & male   & treatment & 0 & good\\\\\n",
       "\\end{tabular}\n"
      ],
      "text/markdown": [
       "\n",
       "A data.frame: 10 × 5\n",
       "\n",
       "| names &lt;chr&gt; | gender &lt;chr&gt; | group &lt;chr&gt; | outcome &lt;dbl&gt; | outcomestr &lt;chr&gt; |\n",
       "|---|---|---|---|---|\n",
       "| Kate      | female | treatment | 0 | good |\n",
       "| Larry     | male   | treatment | 0 | good |\n",
       "| Mallory   | female | treatment | 0 | good |\n",
       "| Niles     | male   | treatment | 1 | poor |\n",
       "| Olivia    | female | treatment | 0 | good |\n",
       "| Peter     | male   | treatment | 1 | poor |\n",
       "| Quincy    | female | treatment | 1 | poor |\n",
       "| Rutger    | male   | treatment | 0 | good |\n",
       "| Stephanie | female | treatment | 0 | good |\n",
       "| Troy      | male   | treatment | 0 | good |\n",
       "\n"
      ],
      "text/plain": [
       "   names     gender group     outcome outcomestr\n",
       "1  Kate      female treatment 0       good      \n",
       "2  Larry     male   treatment 0       good      \n",
       "3  Mallory   female treatment 0       good      \n",
       "4  Niles     male   treatment 1       poor      \n",
       "5  Olivia    female treatment 0       good      \n",
       "6  Peter     male   treatment 1       poor      \n",
       "7  Quincy    female treatment 1       poor      \n",
       "8  Rutger    male   treatment 0       good      \n",
       "9  Stephanie female treatment 0       good      \n",
       "10 Troy      male   treatment 0       good      "
      ]
     },
     "metadata": {},
     "output_type": "display_data"
    }
   ],
   "source": [
    "names   <- c(\"Kate\", \"Larry\", \"Mallory\", \"Niles\", \"Olivia\", \n",
    "             \"Peter\", \"Quincy\", \"Rutger\", \"Stephanie\", \"Troy\")\n",
    "\n",
    "gender  <- c(\"female\", \"male\", \"female\", \"male\", \"female\",\n",
    "             \"male\", \"female\", \"male\", \"female\", \"male\")\n",
    "\n",
    "group   <- c(\"treatment\", \"treatment\", \"treatment\", \"treatment\", \"treatment\",\n",
    "             \"treatment\", \"treatment\", \"treatment\", \"treatment\", \"treatment\")\n",
    "\n",
    "outcome <- c(0,0,0,1,0,\n",
    "             1,1,0,0,0)\n",
    "\n",
    "outcomestr <- c(\"good\", \"good\", \"good\", \"poor\", \"good\",\n",
    "                \"poor\", \"poor\", \"good\", \"good\", \"good\")\n",
    "\n",
    "(treatment_df <- data.frame(names, gender, group, outcome, outcomestr))\n"
   ]
  },
  {
   "cell_type": "markdown",
   "id": "9b8dcceb",
   "metadata": {},
   "source": [
    "Can you eyeball the average of `outcome` here? There are 10 people, and 3 of them have `outcome == 1`, so therefore ...\n",
    "\n"
   ]
  },
  {
   "cell_type": "code",
   "execution_count": null,
   "id": "d8db7276",
   "metadata": {
    "collapsed": true
   },
   "outputs": [],
   "source": [
    "outcome_avg_treatment ="
   ]
  },
  {
   "cell_type": "markdown",
   "id": "5d07ba3a",
   "metadata": {},
   "source": [
    "The randomization and placebo might be rocket science, but otherwise we are done with any rocket science. All we are really looking for is the average difference between control and treatment, which you can eyeball in this simple example. Remember that if the treatment is protective against bad health, we expect to find a <i>negative</i> treatment effect here:"
   ]
  },
  {
   "cell_type": "code",
   "execution_count": null,
   "id": "57ad663e",
   "metadata": {},
   "outputs": [],
   "source": [
    "treatment_effect = outcome_avg_treatment - outcome_avg_control"
   ]
  },
  {
   "cell_type": "markdown",
   "id": "d0603323",
   "metadata": {},
   "source": [
    "Now we have two separate data frames for treatment and control. In order to run OLS using `lm()`, with a new indicator variable `treatment` for $D_i$, we need to append or add the datasets to one another. In your mind's eye, what we want to do is create a new matrix from these two existing matrices by stacking them vertically. Here's a way to do that with data frames in __R__:"
   ]
  },
  {
   "cell_type": "code",
   "execution_count": 6,
   "id": "655ac896",
   "metadata": {},
   "outputs": [
    {
     "data": {
      "text/html": [
       "<table class=\"dataframe\">\n",
       "<caption>A data.frame: 20 × 5</caption>\n",
       "<thead>\n",
       "\t<tr><th scope=col>names</th><th scope=col>gender</th><th scope=col>group</th><th scope=col>outcome</th><th scope=col>outcomestr</th></tr>\n",
       "\t<tr><th scope=col>&lt;chr&gt;</th><th scope=col>&lt;chr&gt;</th><th scope=col>&lt;chr&gt;</th><th scope=col>&lt;dbl&gt;</th><th scope=col>&lt;chr&gt;</th></tr>\n",
       "</thead>\n",
       "<tbody>\n",
       "\t<tr><td>Alison   </td><td>female</td><td>control  </td><td>0</td><td>good</td></tr>\n",
       "\t<tr><td>Bradley  </td><td>male  </td><td>control  </td><td>1</td><td>poor</td></tr>\n",
       "\t<tr><td>Catherine</td><td>female</td><td>control  </td><td>0</td><td>good</td></tr>\n",
       "\t<tr><td>David    </td><td>male  </td><td>control  </td><td>0</td><td>good</td></tr>\n",
       "\t<tr><td>Esme     </td><td>female</td><td>control  </td><td>1</td><td>poor</td></tr>\n",
       "\t<tr><td>Frank    </td><td>male  </td><td>control  </td><td>1</td><td>poor</td></tr>\n",
       "\t<tr><td>Georgina </td><td>female</td><td>control  </td><td>1</td><td>poor</td></tr>\n",
       "\t<tr><td>Henry    </td><td>male  </td><td>control  </td><td>0</td><td>good</td></tr>\n",
       "\t<tr><td>Inez     </td><td>female</td><td>control  </td><td>1</td><td>poor</td></tr>\n",
       "\t<tr><td>James    </td><td>male  </td><td>control  </td><td>0</td><td>good</td></tr>\n",
       "\t<tr><td>Kate     </td><td>female</td><td>treatment</td><td>0</td><td>good</td></tr>\n",
       "\t<tr><td>Larry    </td><td>male  </td><td>treatment</td><td>0</td><td>good</td></tr>\n",
       "\t<tr><td>Mallory  </td><td>female</td><td>treatment</td><td>0</td><td>good</td></tr>\n",
       "\t<tr><td>Niles    </td><td>male  </td><td>treatment</td><td>1</td><td>poor</td></tr>\n",
       "\t<tr><td>Olivia   </td><td>female</td><td>treatment</td><td>0</td><td>good</td></tr>\n",
       "\t<tr><td>Peter    </td><td>male  </td><td>treatment</td><td>1</td><td>poor</td></tr>\n",
       "\t<tr><td>Quincy   </td><td>female</td><td>treatment</td><td>1</td><td>poor</td></tr>\n",
       "\t<tr><td>Rutger   </td><td>male  </td><td>treatment</td><td>0</td><td>good</td></tr>\n",
       "\t<tr><td>Stephanie</td><td>female</td><td>treatment</td><td>0</td><td>good</td></tr>\n",
       "\t<tr><td>Troy     </td><td>male  </td><td>treatment</td><td>0</td><td>good</td></tr>\n",
       "</tbody>\n",
       "</table>\n"
      ],
      "text/latex": [
       "A data.frame: 20 × 5\n",
       "\\begin{tabular}{lllll}\n",
       " names & gender & group & outcome & outcomestr\\\\\n",
       " <chr> & <chr> & <chr> & <dbl> & <chr>\\\\\n",
       "\\hline\n",
       "\t Alison    & female & control   & 0 & good\\\\\n",
       "\t Bradley   & male   & control   & 1 & poor\\\\\n",
       "\t Catherine & female & control   & 0 & good\\\\\n",
       "\t David     & male   & control   & 0 & good\\\\\n",
       "\t Esme      & female & control   & 1 & poor\\\\\n",
       "\t Frank     & male   & control   & 1 & poor\\\\\n",
       "\t Georgina  & female & control   & 1 & poor\\\\\n",
       "\t Henry     & male   & control   & 0 & good\\\\\n",
       "\t Inez      & female & control   & 1 & poor\\\\\n",
       "\t James     & male   & control   & 0 & good\\\\\n",
       "\t Kate      & female & treatment & 0 & good\\\\\n",
       "\t Larry     & male   & treatment & 0 & good\\\\\n",
       "\t Mallory   & female & treatment & 0 & good\\\\\n",
       "\t Niles     & male   & treatment & 1 & poor\\\\\n",
       "\t Olivia    & female & treatment & 0 & good\\\\\n",
       "\t Peter     & male   & treatment & 1 & poor\\\\\n",
       "\t Quincy    & female & treatment & 1 & poor\\\\\n",
       "\t Rutger    & male   & treatment & 0 & good\\\\\n",
       "\t Stephanie & female & treatment & 0 & good\\\\\n",
       "\t Troy      & male   & treatment & 0 & good\\\\\n",
       "\\end{tabular}\n"
      ],
      "text/markdown": [
       "\n",
       "A data.frame: 20 × 5\n",
       "\n",
       "| names &lt;chr&gt; | gender &lt;chr&gt; | group &lt;chr&gt; | outcome &lt;dbl&gt; | outcomestr &lt;chr&gt; |\n",
       "|---|---|---|---|---|\n",
       "| Alison    | female | control   | 0 | good |\n",
       "| Bradley   | male   | control   | 1 | poor |\n",
       "| Catherine | female | control   | 0 | good |\n",
       "| David     | male   | control   | 0 | good |\n",
       "| Esme      | female | control   | 1 | poor |\n",
       "| Frank     | male   | control   | 1 | poor |\n",
       "| Georgina  | female | control   | 1 | poor |\n",
       "| Henry     | male   | control   | 0 | good |\n",
       "| Inez      | female | control   | 1 | poor |\n",
       "| James     | male   | control   | 0 | good |\n",
       "| Kate      | female | treatment | 0 | good |\n",
       "| Larry     | male   | treatment | 0 | good |\n",
       "| Mallory   | female | treatment | 0 | good |\n",
       "| Niles     | male   | treatment | 1 | poor |\n",
       "| Olivia    | female | treatment | 0 | good |\n",
       "| Peter     | male   | treatment | 1 | poor |\n",
       "| Quincy    | female | treatment | 1 | poor |\n",
       "| Rutger    | male   | treatment | 0 | good |\n",
       "| Stephanie | female | treatment | 0 | good |\n",
       "| Troy      | male   | treatment | 0 | good |\n",
       "\n"
      ],
      "text/plain": [
       "   names     gender group     outcome outcomestr\n",
       "1  Alison    female control   0       good      \n",
       "2  Bradley   male   control   1       poor      \n",
       "3  Catherine female control   0       good      \n",
       "4  David     male   control   0       good      \n",
       "5  Esme      female control   1       poor      \n",
       "6  Frank     male   control   1       poor      \n",
       "7  Georgina  female control   1       poor      \n",
       "8  Henry     male   control   0       good      \n",
       "9  Inez      female control   1       poor      \n",
       "10 James     male   control   0       good      \n",
       "11 Kate      female treatment 0       good      \n",
       "12 Larry     male   treatment 0       good      \n",
       "13 Mallory   female treatment 0       good      \n",
       "14 Niles     male   treatment 1       poor      \n",
       "15 Olivia    female treatment 0       good      \n",
       "16 Peter     male   treatment 1       poor      \n",
       "17 Quincy    female treatment 1       poor      \n",
       "18 Rutger    male   treatment 0       good      \n",
       "19 Stephanie female treatment 0       good      \n",
       "20 Troy      male   treatment 0       good      "
      ]
     },
     "metadata": {},
     "output_type": "display_data"
    }
   ],
   "source": [
    "fake_rct_df <- rbind(control_df, treatment_df)\n",
    "fake_rct_df"
   ]
  },
  {
   "cell_type": "markdown",
   "id": "5e0aa7d7",
   "metadata": {},
   "source": [
    "Now let's create that indicator variable `treatment` that will serve as the right-hand side variable $D_i$ in the regression equation shown at the top of this notebook. Here is one way to do that by using `mutate()` to add a column for the variable `treatment`, which we create with a call to `ifelse()`. Here, `ifelse()` is told to return a 1 if `group == \"treatment\"` and a 0 otherwise."
   ]
  },
  {
   "cell_type": "code",
   "execution_count": 7,
   "id": "2af0c652",
   "metadata": {},
   "outputs": [
    {
     "data": {
      "text/html": [
       "<table class=\"dataframe\">\n",
       "<caption>A data.frame: 20 × 6</caption>\n",
       "<thead>\n",
       "\t<tr><th scope=col>names</th><th scope=col>gender</th><th scope=col>group</th><th scope=col>outcome</th><th scope=col>outcomestr</th><th scope=col>treatment</th></tr>\n",
       "\t<tr><th scope=col>&lt;chr&gt;</th><th scope=col>&lt;chr&gt;</th><th scope=col>&lt;chr&gt;</th><th scope=col>&lt;dbl&gt;</th><th scope=col>&lt;chr&gt;</th><th scope=col>&lt;dbl&gt;</th></tr>\n",
       "</thead>\n",
       "<tbody>\n",
       "\t<tr><td>Alison   </td><td>female</td><td>control  </td><td>0</td><td>good</td><td>0</td></tr>\n",
       "\t<tr><td>Bradley  </td><td>male  </td><td>control  </td><td>1</td><td>poor</td><td>0</td></tr>\n",
       "\t<tr><td>Catherine</td><td>female</td><td>control  </td><td>0</td><td>good</td><td>0</td></tr>\n",
       "\t<tr><td>David    </td><td>male  </td><td>control  </td><td>0</td><td>good</td><td>0</td></tr>\n",
       "\t<tr><td>Esme     </td><td>female</td><td>control  </td><td>1</td><td>poor</td><td>0</td></tr>\n",
       "\t<tr><td>Frank    </td><td>male  </td><td>control  </td><td>1</td><td>poor</td><td>0</td></tr>\n",
       "\t<tr><td>Georgina </td><td>female</td><td>control  </td><td>1</td><td>poor</td><td>0</td></tr>\n",
       "\t<tr><td>Henry    </td><td>male  </td><td>control  </td><td>0</td><td>good</td><td>0</td></tr>\n",
       "\t<tr><td>Inez     </td><td>female</td><td>control  </td><td>1</td><td>poor</td><td>0</td></tr>\n",
       "\t<tr><td>James    </td><td>male  </td><td>control  </td><td>0</td><td>good</td><td>0</td></tr>\n",
       "\t<tr><td>Kate     </td><td>female</td><td>treatment</td><td>0</td><td>good</td><td>1</td></tr>\n",
       "\t<tr><td>Larry    </td><td>male  </td><td>treatment</td><td>0</td><td>good</td><td>1</td></tr>\n",
       "\t<tr><td>Mallory  </td><td>female</td><td>treatment</td><td>0</td><td>good</td><td>1</td></tr>\n",
       "\t<tr><td>Niles    </td><td>male  </td><td>treatment</td><td>1</td><td>poor</td><td>1</td></tr>\n",
       "\t<tr><td>Olivia   </td><td>female</td><td>treatment</td><td>0</td><td>good</td><td>1</td></tr>\n",
       "\t<tr><td>Peter    </td><td>male  </td><td>treatment</td><td>1</td><td>poor</td><td>1</td></tr>\n",
       "\t<tr><td>Quincy   </td><td>female</td><td>treatment</td><td>1</td><td>poor</td><td>1</td></tr>\n",
       "\t<tr><td>Rutger   </td><td>male  </td><td>treatment</td><td>0</td><td>good</td><td>1</td></tr>\n",
       "\t<tr><td>Stephanie</td><td>female</td><td>treatment</td><td>0</td><td>good</td><td>1</td></tr>\n",
       "\t<tr><td>Troy     </td><td>male  </td><td>treatment</td><td>0</td><td>good</td><td>1</td></tr>\n",
       "</tbody>\n",
       "</table>\n"
      ],
      "text/latex": [
       "A data.frame: 20 × 6\n",
       "\\begin{tabular}{llllll}\n",
       " names & gender & group & outcome & outcomestr & treatment\\\\\n",
       " <chr> & <chr> & <chr> & <dbl> & <chr> & <dbl>\\\\\n",
       "\\hline\n",
       "\t Alison    & female & control   & 0 & good & 0\\\\\n",
       "\t Bradley   & male   & control   & 1 & poor & 0\\\\\n",
       "\t Catherine & female & control   & 0 & good & 0\\\\\n",
       "\t David     & male   & control   & 0 & good & 0\\\\\n",
       "\t Esme      & female & control   & 1 & poor & 0\\\\\n",
       "\t Frank     & male   & control   & 1 & poor & 0\\\\\n",
       "\t Georgina  & female & control   & 1 & poor & 0\\\\\n",
       "\t Henry     & male   & control   & 0 & good & 0\\\\\n",
       "\t Inez      & female & control   & 1 & poor & 0\\\\\n",
       "\t James     & male   & control   & 0 & good & 0\\\\\n",
       "\t Kate      & female & treatment & 0 & good & 1\\\\\n",
       "\t Larry     & male   & treatment & 0 & good & 1\\\\\n",
       "\t Mallory   & female & treatment & 0 & good & 1\\\\\n",
       "\t Niles     & male   & treatment & 1 & poor & 1\\\\\n",
       "\t Olivia    & female & treatment & 0 & good & 1\\\\\n",
       "\t Peter     & male   & treatment & 1 & poor & 1\\\\\n",
       "\t Quincy    & female & treatment & 1 & poor & 1\\\\\n",
       "\t Rutger    & male   & treatment & 0 & good & 1\\\\\n",
       "\t Stephanie & female & treatment & 0 & good & 1\\\\\n",
       "\t Troy      & male   & treatment & 0 & good & 1\\\\\n",
       "\\end{tabular}\n"
      ],
      "text/markdown": [
       "\n",
       "A data.frame: 20 × 6\n",
       "\n",
       "| names &lt;chr&gt; | gender &lt;chr&gt; | group &lt;chr&gt; | outcome &lt;dbl&gt; | outcomestr &lt;chr&gt; | treatment &lt;dbl&gt; |\n",
       "|---|---|---|---|---|---|\n",
       "| Alison    | female | control   | 0 | good | 0 |\n",
       "| Bradley   | male   | control   | 1 | poor | 0 |\n",
       "| Catherine | female | control   | 0 | good | 0 |\n",
       "| David     | male   | control   | 0 | good | 0 |\n",
       "| Esme      | female | control   | 1 | poor | 0 |\n",
       "| Frank     | male   | control   | 1 | poor | 0 |\n",
       "| Georgina  | female | control   | 1 | poor | 0 |\n",
       "| Henry     | male   | control   | 0 | good | 0 |\n",
       "| Inez      | female | control   | 1 | poor | 0 |\n",
       "| James     | male   | control   | 0 | good | 0 |\n",
       "| Kate      | female | treatment | 0 | good | 1 |\n",
       "| Larry     | male   | treatment | 0 | good | 1 |\n",
       "| Mallory   | female | treatment | 0 | good | 1 |\n",
       "| Niles     | male   | treatment | 1 | poor | 1 |\n",
       "| Olivia    | female | treatment | 0 | good | 1 |\n",
       "| Peter     | male   | treatment | 1 | poor | 1 |\n",
       "| Quincy    | female | treatment | 1 | poor | 1 |\n",
       "| Rutger    | male   | treatment | 0 | good | 1 |\n",
       "| Stephanie | female | treatment | 0 | good | 1 |\n",
       "| Troy      | male   | treatment | 0 | good | 1 |\n",
       "\n"
      ],
      "text/plain": [
       "   names     gender group     outcome outcomestr treatment\n",
       "1  Alison    female control   0       good       0        \n",
       "2  Bradley   male   control   1       poor       0        \n",
       "3  Catherine female control   0       good       0        \n",
       "4  David     male   control   0       good       0        \n",
       "5  Esme      female control   1       poor       0        \n",
       "6  Frank     male   control   1       poor       0        \n",
       "7  Georgina  female control   1       poor       0        \n",
       "8  Henry     male   control   0       good       0        \n",
       "9  Inez      female control   1       poor       0        \n",
       "10 James     male   control   0       good       0        \n",
       "11 Kate      female treatment 0       good       1        \n",
       "12 Larry     male   treatment 0       good       1        \n",
       "13 Mallory   female treatment 0       good       1        \n",
       "14 Niles     male   treatment 1       poor       1        \n",
       "15 Olivia    female treatment 0       good       1        \n",
       "16 Peter     male   treatment 1       poor       1        \n",
       "17 Quincy    female treatment 1       poor       1        \n",
       "18 Rutger    male   treatment 0       good       1        \n",
       "19 Stephanie female treatment 0       good       1        \n",
       "20 Troy      male   treatment 0       good       1        "
      ]
     },
     "metadata": {},
     "output_type": "display_data"
    }
   ],
   "source": [
    "fake_rct_df <- mutate(fake_rct_df, treatment = ifelse(group == \"treatment\", 1, 0))\n",
    "fake_rct_df"
   ]
  },
  {
   "cell_type": "markdown",
   "id": "f33bd078",
   "metadata": {},
   "source": [
    "Now let's run the OLS regression from above. I'll write it in its generic form first, and then with variable names, and then the code field will show its equivalent in __R__ using `lm()`\n",
    "\n",
    "$$\n",
    "y_i = \\alpha + \\beta \\ D_i + \\epsilon_i \\\\\n",
    "outcome_i = \\alpha + \\beta \\ treatment_i + \\epsilon_i\n",
    "$$"
   ]
  },
  {
   "cell_type": "code",
   "execution_count": 8,
   "id": "26aaf611",
   "metadata": {},
   "outputs": [
    {
     "data": {
      "text/plain": [
       "\n",
       "Call:\n",
       "lm(formula = outcome ~ treatment, data = fake_rct_df)\n",
       "\n",
       "Residuals:\n",
       "   Min     1Q Median     3Q    Max \n",
       " -0.50  -0.35  -0.30   0.50   0.70 \n",
       "\n",
       "Coefficients:\n",
       "            Estimate Std. Error t value Pr(>|t|)   \n",
       "(Intercept)   0.5000     0.1599   3.128  0.00582 **\n",
       "treatment    -0.2000     0.2261  -0.885  0.38801   \n",
       "---\n",
       "Signif. codes:  0 ‘***’ 0.001 ‘**’ 0.01 ‘*’ 0.05 ‘.’ 0.1 ‘ ’ 1\n",
       "\n",
       "Residual standard error: 0.5055 on 18 degrees of freedom\n",
       "Multiple R-squared:  0.04167,\tAdjusted R-squared:  -0.01157 \n",
       "F-statistic: 0.7826 on 1 and 18 DF,  p-value: 0.388\n"
      ]
     },
     "metadata": {},
     "output_type": "display_data"
    }
   ],
   "source": [
    "fake_rct_reg <- lm(outcome ~ treatment, data = fake_rct_df)\n",
    "summary(fake_rct_reg)"
   ]
  },
  {
   "cell_type": "markdown",
   "id": "0c228fae",
   "metadata": {},
   "source": [
    "Examine these results and compare to what you have seen earlier. Below is another way of extracting this information from the data, without using OLS:"
   ]
  },
  {
   "cell_type": "code",
   "execution_count": 7,
   "id": "1da3bdb0",
   "metadata": {},
   "outputs": [
    {
     "data": {
      "text/html": [
       "0.3"
      ],
      "text/latex": [
       "0.3"
      ],
      "text/markdown": [
       "0.3"
      ],
      "text/plain": [
       "[1] 0.3"
      ]
     },
     "metadata": {},
     "output_type": "display_data"
    },
    {
     "data": {
      "text/html": [
       "0.5"
      ],
      "text/latex": [
       "0.5"
      ],
      "text/markdown": [
       "0.5"
      ],
      "text/plain": [
       "[1] 0.5"
      ]
     },
     "metadata": {},
     "output_type": "display_data"
    },
    {
     "data": {
      "text/html": [
       "-0.2"
      ],
      "text/latex": [
       "-0.2"
      ],
      "text/markdown": [
       "-0.2"
      ],
      "text/plain": [
       "[1] -0.2"
      ]
     },
     "metadata": {},
     "output_type": "display_data"
    }
   ],
   "source": [
    "mean(treatment_df$outcome)\n",
    "mean(control_df$outcome)\n",
    "\n",
    "mean(treatment_df$outcome) - mean(control_df$outcome)\n"
   ]
  },
  {
   "cell_type": "markdown",
   "id": "d3729f69",
   "metadata": {},
   "source": [
    "<div style=\"text-align: right\"> <span style=\"font-family:Papyrus; \">And they lived happily ever after. The End.</span></div>"
   ]
  },
  {
   "cell_type": "markdown",
   "id": "348ac7bb",
   "metadata": {},
   "source": [
    "<hr>"
   ]
  },
  {
   "cell_type": "markdown",
   "id": "e6a3b9f0",
   "metadata": {},
   "source": [
    "<i>ABANDON ALL HOPE, ye who enter here.</i>"
   ]
  },
  {
   "cell_type": "code",
   "execution_count": 17,
   "id": "242e8baf",
   "metadata": {},
   "outputs": [],
   "source": [
    "#install.packages(\"mfx\")"
   ]
  },
  {
   "cell_type": "code",
   "execution_count": 18,
   "id": "07ac845a",
   "metadata": {},
   "outputs": [],
   "source": [
    "#library(mfx)"
   ]
  },
  {
   "cell_type": "code",
   "execution_count": 16,
   "id": "66774211",
   "metadata": {},
   "outputs": [],
   "source": [
    "#(fake_rct_logit <- logitmfx(outcome ~ treatment, data = fake_rct_df))"
   ]
  },
  {
   "cell_type": "markdown",
   "id": "5d5bd7e3",
   "metadata": {},
   "source": []
  },
  {
   "cell_type": "markdown",
   "id": "1a032920",
   "metadata": {},
   "source": [
    "<br>"
   ]
  },
  {
   "cell_type": "markdown",
   "id": "c958e25c",
   "metadata": {},
   "source": [
    "<hr>"
   ]
  },
  {
   "cell_type": "markdown",
   "id": "0e4588f2",
   "metadata": {},
   "source": [
    "${\\dagger}$ To learn more about 21-century methods of measuring gender identity and related concepts, see the National Academies of Sciences, Engineering, and Medicine. 2022. <i>Measuring Sex, Gender Identity, and Sexual Orientation.</i> Washington, DC: The National Academies Press. (https://doi.org/10.17226/26424)[https://doi.org/10.17226/26424]."
   ]
  }
 ],
 "metadata": {
  "kernelspec": {
   "display_name": "R",
   "language": "R",
   "name": "ir"
  },
  "language_info": {
   "codemirror_mode": "r",
   "file_extension": ".r",
   "mimetype": "text/x-r-source",
   "name": "R",
   "pygments_lexer": "r",
   "version": "4.2.1"
  }
 },
 "nbformat": 4,
 "nbformat_minor": 5
}
