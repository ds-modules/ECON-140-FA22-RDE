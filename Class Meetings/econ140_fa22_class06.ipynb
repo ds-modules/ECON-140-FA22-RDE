{
 "cells": [
  {
   "cell_type": "markdown",
   "id": "8ff12b62",
   "metadata": {},
   "source": [
    "<h1>ECON 140R Class 06</h1>"
   ]
  },
  {
   "cell_type": "markdown",
   "id": "e531711f-d826-4fce-80ac-9ccce141318f",
   "metadata": {},
   "source": [
    "This analysis draws extensively from [Edwards and Roff (2010)](https://journals.plos.org/plosone/article?id=10.1371/journal.pone.0012157).\n",
    "\n",
    "Consider the dataset `cpp_sample.dta` drawn from the multi-site U.S. Collaborative Perinatal Project (CPP), a panel survey spanning 7 years of children’s lives. The study began with pregnant women who were recruited at university hospitals between 1959 and 1965. They and their children were followed for 7 years of the children's lives, with several waves of questions and neurocognitive tests administered along the way.\n",
    "\n",
    "There is potentially a lot more to be said here, about how the panel was reinterviewed, how much attrition there was, and so on. Here, we are going to take a very simple approach. We will examine data from each wave separately, ignoring the panel structure but in a way that avoids big econometric problems.\n",
    "\n",
    "<h2>Learning objectives</h2>\n",
    "\n",
    "<h3>General</h3>How can we draw inferences from observational data about effects of \"treatments\" on outcomes we care about? Multivariate regression methods &mdash; using `lm()` in R, for example &mdash; can help. But a critical issue is whether we can control sufficiently for <b>omitted variable bias (OVB)</b>. In this dataset, which is publicly available, we can walk through several examples of omitted variables that biased published results.\n",
    "\n",
    "<h3>Class 06</h3>\n",
    "Let's start by looking at the dataset, running a regression, and talking and writing about what we see."
   ]
  },
  {
   "cell_type": "markdown",
   "id": "2e3b55d1",
   "metadata": {},
   "source": [
    "<h2>Variables</h2>\n",
    "\n",
    "For <b>outcome variables</b> $y$, we can look at the same six CPP measures of children’s <i>neurocognitive development</i> that were examined by [Saha et al. (2009)](https://journals.plos.org/plosmedicine/article?id=10.1371/journal.pmed.1000040), two measures at each follow-up age: 8 mo, 4 y, and 7 y. In order, these include \n",
    "* the Bayley Mental Scale `bayleymental` and Bayley Motor Scale `bayleymotor` for Infant Development\n",
    "* the Stanford Binet Intelligence Scale Form L-M `stanfordbinet` and the Graham-Ernhart Block Sort Test `grahamernhart` \n",
    "* the Wechsler Intelligence Scale for Children (WISC) Full Scale IQ `wiscfulliq` and the Wide Range Achievement Test (WRAT) of Reading `wratreading`\n",
    "\n",
    "The CPP data, drawn from the enhanced electronic datasets distributed by the Johns Hopkins School of Public Health, include WRAT scores that are raw rather than normed, with a mean around 35 rather than 100. [Edwards and Roff (2010)](https://journals.plos.org/plosone/article?id=10.1371/journal.pone.0012157) found no qualitative differences between results using these raw scores and the normed scores used by [Saha et al. (2009)](https://journals.plos.org/plosmedicine/article?id=10.1371/journal.pmed.1000040). (In theory there should be no qualitative differences.)"
   ]
  },
  {
   "cell_type": "markdown",
   "id": "f91343a3",
   "metadata": {},
   "source": [
    "The <b>treatment variable</b> of interest is <b>paternal age</b>, labeled `fathage` in the dataset. [Saha et al. (2009)](https://journals.plos.org/plosmedicine/article?id=10.1371/journal.pmed.1000040) are interested in whether there are developmental risks to children of older fathers. As they discuss, previous research suggests that advanced paternal age, which is connected to a higher probability of copy error mutations in sperm, appears to be associated with fetal death, rare congenital conditions, neurological and neuropsychiatric conditions, schizophrenia, and autism spectrum disorder. Advanced <i>maternal age</i> carries known risk factors, and this and other studies aimed to explore what advanced paternal age may bring with it, during a period when childbearing is generally being postponed to later in life, especially among the college educated."
   ]
  },
  {
   "cell_type": "markdown",
   "id": "06d231c5",
   "metadata": {},
   "source": [
    "The regression equation takes this general form:\n",
    "\n",
    "$$\n",
    "y_i = \\alpha + \\beta \\cdot fathage_i + \\sum \\gamma^j \\cdot z^j_i + \\epsilon_i\n",
    "$$\n",
    "\n",
    "where $y_i$ is a neurocognitive test score at a particular are; $\\beta$ is the treatment effect of paternal age `fathage` on $y_i$; and each $z^j_i$ is a \"control variable\" or background characteristic, with an effect $\\gamma^j$. "
   ]
  },
  {
   "cell_type": "markdown",
   "id": "1bc8e7a9",
   "metadata": {},
   "source": [
    "Many other variables measure things that are likely to affect children's neurocognitive scores, of course. [Saha et al. (2009)](https://journals.plos.org/plosmedicine/article?id=10.1371/journal.pmed.1000040) considered the following set:\n",
    "\n",
    "* `mothage` \n",
    "    * Mother's age at birth\n",
    "* `fathage` \n",
    "    * Father's age at birth\n",
    "* `childage8mo` `childage4yr` `childage7yr`\n",
    "    * Child's age at reinterview wave\n",
    "* `gestationwks`    \n",
    "    * Child's gestation in weeks\n",
    "* `male`\n",
    "    * 0/1 Child is male\n",
    "* `mothblack`\n",
    "    * 0/1 Mother is Black (or African American)\n",
    "* `mothasian`\n",
    "    * 0/1 Mother is Asian American\n",
    "* `mothpuert` \n",
    "    * 0/1 Mother is Puerto Rican\n",
    "* `mothother` \n",
    "    * 0/1 Mother is of other race, not White non-Hispanic\n",
    "* `mothsingle` \n",
    "    * 0/1 Mother's marital status: single\n",
    "* `mothcommonl` \n",
    "    * 0/1 mother's marital status: common-law married \n",
    "* `mothwidowed` \n",
    "    * 0/1 mother's marital status: widowed \n",
    "* `mothdivorce`   \n",
    "    * 0/1 mother's marital status: divorced \n",
    "* `mothseparat`  \n",
    "    * 0/1 mother's marital status: separated \n",
    "* `socioeconindex`\n",
    "    * 0/1 family's [Duncan socioeconomic index](https://usa.ipums.org/usa-action/variables/SEI#description_section) \n",
    "* `mothmentill`    \n",
    "    * 0/1 mother's marital status: common-law married \n",
    "* `fathmentill`  \n",
    "    * 0/1 mother's marital status: common-law married "
   ]
  },
  {
   "cell_type": "markdown",
   "id": "60501d3b",
   "metadata": {},
   "source": [
    "Wow, what a list! But ... is it enough? <i>Are there other critical variables that are still omitted?</i>"
   ]
  },
  {
   "cell_type": "markdown",
   "id": "623c08e2",
   "metadata": {},
   "source": [
    "<b>SPOILER ALERT:</b>  <i>Yes. There are still critical variables that are still omitted.</i>"
   ]
  },
  {
   "cell_type": "markdown",
   "id": "e70dd0b9",
   "metadata": {},
   "source": [
    "<hr>"
   ]
  },
  {
   "cell_type": "markdown",
   "id": "b1bb625c",
   "metadata": {},
   "source": [
    "\n",
    "Let's load up <b>haven</b> and <b>tidyverse</b>"
   ]
  },
  {
   "cell_type": "code",
   "execution_count": null,
   "id": "c2fd4880",
   "metadata": {},
   "outputs": [],
   "source": [
    "library(haven)\n",
    "library(tidyverse)"
   ]
  },
  {
   "cell_type": "markdown",
   "id": "f554344d",
   "metadata": {},
   "source": [
    "And let's load in the dataset:"
   ]
  },
  {
   "cell_type": "code",
   "execution_count": null,
   "id": "92e742a6",
   "metadata": {},
   "outputs": [],
   "source": [
    "cpp_sample <- read_dta(\"cpp_sample.dta\")"
   ]
  },
  {
   "cell_type": "code",
   "execution_count": null,
   "id": "5adcdb4e",
   "metadata": {},
   "outputs": [],
   "source": [
    "head(cpp_sample)"
   ]
  },
  {
   "cell_type": "markdown",
   "id": "e1c5e210",
   "metadata": {},
   "source": [
    "[Saha et al. (2009)](https://journals.plos.org/plosmedicine/article?id=10.1371/journal.pmed.1000040) examined six different neurocognitive test scores. Let's choose one to focus on. Let's choose the Wechsler Intelligence Scale for Children (WISC), measured at age 7. It's useful to look at the summary of the variable, which reveals the units and average value."
   ]
  },
  {
   "cell_type": "code",
   "execution_count": null,
   "id": "823b61ad",
   "metadata": {},
   "outputs": [],
   "source": [
    "summary(cpp_sample$wiscfulliq)"
   ]
  },
  {
   "cell_type": "markdown",
   "id": "6f5c2033",
   "metadata": {},
   "source": [
    "A visualization might be helpful too. Let's look at a scatterplot of `wiscfulliq` ($y$) vs. `fathage` ($x$).\n",
    "\n",
    "`ggplot(data = cpp_sample, aes(x = fathage, y = wiscfulliq)) +\n",
    "    geom_point() +\n",
    "    labs(x = \"Paternal age\",\n",
    "        y = \"WISC IQ score at 7y\")`        "
   ]
  },
  {
   "cell_type": "code",
   "execution_count": null,
   "id": "37835629",
   "metadata": {},
   "outputs": [],
   "source": []
  },
  {
   "cell_type": "markdown",
   "id": "8f02c88a",
   "metadata": {},
   "source": [
    "<font color = \"blue\">What do you see here?</font>"
   ]
  },
  {
   "cell_type": "markdown",
   "id": "a8d3d812",
   "metadata": {},
   "source": []
  },
  {
   "cell_type": "markdown",
   "id": "8339c49b",
   "metadata": {},
   "source": [
    "Following what [Saha et al. (2009)](https://journals.plos.org/plosmedicine/article?id=10.1371/journal.pmed.1000040) did, let's start with a \"short regression\" that includes just a few basic characteristics: mother's age, father's age, child's age at test, getstation, child's gender, and mother's race/ethnicity.\n",
    "\n",
    "`wisc_reg1 <- lm(wiscfulliq ~ fathage + mothage + \n",
    "                  childage7yr + gestationwks + male +\n",
    "                  mothblack + mothasian + mothpuert + mothother, data = cpp_sample)`\n",
    "                  \n",
    "`summary(wisc_reg1)`"
   ]
  },
  {
   "cell_type": "markdown",
   "id": "2339ca4f",
   "metadata": {},
   "source": [
    "<font color=\"blue\">Write about what you see here. Describe and discuss the \"treatment effect\" of `fathage`. What about the effect associated with `mothage`? How do these two coefficients compare? Are they statistically significant? What are their signs? Are they large relative to the average level of `wiscfulliq`?</font>"
   ]
  },
  {
   "cell_type": "markdown",
   "id": "d249ad27",
   "metadata": {},
   "source": [
    "Type some answers here"
   ]
  },
  {
   "cell_type": "markdown",
   "id": "757d89f7",
   "metadata": {},
   "source": [
    "<font color=\"blue\">\n",
    "Describe the nature of this study. How are \"treatment groups\" &mdash; children with older dads &mdash; and \"control groups\" &mdash; children with younger dads &mdash; assigned? Randomly? In some other way? If the assignment is not random, why do you think children might have older dads?\n",
    "</font>"
   ]
  },
  {
   "cell_type": "markdown",
   "id": "bcf11b49",
   "metadata": {},
   "source": [
    "Type some answers here"
   ]
  },
  {
   "cell_type": "markdown",
   "id": "8c23e66c",
   "metadata": {},
   "source": [
    "Now let's run a second regression, a \"longer\" one, with more control variables on the right-hand side. Like Saha et al., let's also control for mother's marital status, the family socioeconomic index (a single-valued function of income, education, and occupation &mdash; these are commonly seen in sociology), and 0/1 indicators of mother's and father's having any history of mental illness.\n",
    "\n",
    "`wisc_reg2 <- lm(wiscfulliq ~ fathage + mothage + \n",
    "                  childage7yr + gestationwks + male +\n",
    "                  mothblack + mothasian + mothpuert + mothother + \n",
    "                  mothsingle + mothcommonl + mothwidowed + mothdivorce + mothseparat +\n",
    "                  socioeconindex + mothmentill + fathmentill, data = cpp_sample)`\n",
    "\n",
    "`summary(wisc_reg2)`"
   ]
  },
  {
   "cell_type": "code",
   "execution_count": null,
   "id": "8076a939",
   "metadata": {},
   "outputs": [],
   "source": []
  },
  {
   "cell_type": "markdown",
   "id": "bd274856",
   "metadata": {},
   "source": [
    "<font color=\"blue\">Write about what you see here. Describe and discuss the \"treatment effect\" of `fathage`. What about the effect associated with `mothage`? How do these two coefficients compare? Are they statistically significant? What are their signs? Are they large relative to the average level of `wiscfulliq`?\n",
    "How have things changed since the first regression above?\n",
    "</font>"
   ]
  },
  {
   "cell_type": "markdown",
   "id": "b170411b",
   "metadata": {},
   "source": [
    "Write about what you see here!"
   ]
  },
  {
   "cell_type": "markdown",
   "id": "50ab6640",
   "metadata": {},
   "source": [
    "<div style=\"text-align: right\"> <span style=\"font-family:Papyrus; \">And they lived happily ever after. The End.</span></div>"
   ]
  }
 ],
 "metadata": {
  "kernelspec": {
   "display_name": "R",
   "language": "R",
   "name": "ir"
  },
  "language_info": {
   "codemirror_mode": "r",
   "file_extension": ".r",
   "mimetype": "text/x-r-source",
   "name": "R",
   "pygments_lexer": "r",
   "version": "4.2.1"
  }
 },
 "nbformat": 4,
 "nbformat_minor": 5
}
