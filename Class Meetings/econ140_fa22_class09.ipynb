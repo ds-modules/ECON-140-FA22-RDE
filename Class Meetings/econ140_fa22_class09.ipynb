{
 "cells": [
  {
   "cell_type": "markdown",
   "id": "28bfe784",
   "metadata": {},
   "source": [
    "<h1>ECON 140R Class 09</h1>"
   ]
  },
  {
   "cell_type": "markdown",
   "id": "be4e31fe",
   "metadata": {},
   "source": [
    "More practice with regression analysis is always better. Let's look at Angrist and Pischke's supposition that family size, meaning the number of siblings, independently impacts earnings. The dataset we'll use is the U.S. Health and Retirement Study (HRS), a panel survey of Americans aged 50 and older that started in 1992 and has been refreshed periodically.\n",
    "\n",
    "The fourth wave took place in 1998, and we'll examine data from it. It isn't a perfect match to the cohort examined by Dale and Krueger (2002) of college entrants in 1972 reinterviewed in 1995, but it's close enough to offer some insights."
   ]
  },
  {
   "cell_type": "code",
   "execution_count": 3,
   "id": "7800318b",
   "metadata": {},
   "outputs": [
    {
     "name": "stderr",
     "output_type": "stream",
     "text": [
      "── \u001b[1mAttaching packages\u001b[22m ─────────────────────────────────────── tidyverse 1.3.0 ──\n",
      "\n",
      "\u001b[32m✔\u001b[39m \u001b[34mggplot2\u001b[39m 3.3.6      \u001b[32m✔\u001b[39m \u001b[34mpurrr  \u001b[39m 0.3.4 \n",
      "\u001b[32m✔\u001b[39m \u001b[34mtibble \u001b[39m 3.1.8      \u001b[32m✔\u001b[39m \u001b[34mdplyr  \u001b[39m 1.0.10\n",
      "\u001b[32m✔\u001b[39m \u001b[34mtidyr  \u001b[39m 1.2.1      \u001b[32m✔\u001b[39m \u001b[34mstringr\u001b[39m 1.4.1 \n",
      "\u001b[32m✔\u001b[39m \u001b[34mreadr  \u001b[39m 2.1.2      \u001b[32m✔\u001b[39m \u001b[34mforcats\u001b[39m 0.5.2 \n",
      "\n",
      "── \u001b[1mConflicts\u001b[22m ────────────────────────────────────────── tidyverse_conflicts() ──\n",
      "\u001b[31m✖\u001b[39m \u001b[34mdplyr\u001b[39m::\u001b[32mfilter()\u001b[39m masks \u001b[34mstats\u001b[39m::filter()\n",
      "\u001b[31m✖\u001b[39m \u001b[34mdplyr\u001b[39m::\u001b[32mlag()\u001b[39m    masks \u001b[34mstats\u001b[39m::lag()\n",
      "\n"
     ]
    }
   ],
   "source": [
    "library(tidyverse)\n",
    "library(haven)"
   ]
  },
  {
   "cell_type": "markdown",
   "id": "61c77522",
   "metadata": {},
   "source": [
    "This is an extract I prepared specially for this purpose. The entire RAND version of the longitudinal file is big, over 1 GB in size. Berkeley's datahub is not configured to allow more than a gigabyte of memory per user, so this would be problematic. If you want to use these data yourself:\n",
    "* Navigate to [https://hrs.isr.umich.edu/](https://hrs.isr.umich.edu/) and register as a user\n",
    "* Start with the RAND file, I think it's the easiest\n",
    "* Download the data to your local machine and use RStudio"
   ]
  },
  {
   "cell_type": "code",
   "execution_count": 4,
   "id": "645c01ad",
   "metadata": {},
   "outputs": [
    {
     "data": {
      "text/html": [
       "<table class=\"dataframe\">\n",
       "<caption>A tibble: 6 × 9</caption>\n",
       "<thead>\n",
       "\t<tr><th scope=col>hhidpn</th><th scope=col>ragender</th><th scope=col>raedyrs</th><th scope=col>r4agey_m</th><th scope=col>r4livsib</th><th scope=col>raraceth</th><th scope=col>logr4iearn</th><th scope=col>r4exper</th><th scope=col>r4expersq</th></tr>\n",
       "\t<tr><th scope=col>&lt;dbl&gt;</th><th scope=col>&lt;dbl+lbl&gt;</th><th scope=col>&lt;dbl+lbl&gt;</th><th scope=col>&lt;dbl&gt;</th><th scope=col>&lt;dbl&gt;</th><th scope=col>&lt;dbl+lbl&gt;</th><th scope=col>&lt;dbl&gt;</th><th scope=col>&lt;dbl&gt;</th><th scope=col>&lt;dbl&gt;</th></tr>\n",
       "</thead>\n",
       "<tbody>\n",
       "\t<tr><td>    3020</td><td>2</td><td>16</td><td>59</td><td>1</td><td>1</td><td> 8.006368</td><td>43</td><td>1849</td></tr>\n",
       "\t<tr><td>10001010</td><td>1</td><td>12</td><td>58</td><td>1</td><td>1</td><td>       NA</td><td>46</td><td>2116</td></tr>\n",
       "\t<tr><td>10004010</td><td>1</td><td>16</td><td>58</td><td>1</td><td>1</td><td>       NA</td><td>42</td><td>1764</td></tr>\n",
       "\t<tr><td>10004040</td><td>2</td><td>12</td><td>52</td><td>2</td><td>1</td><td>11.461632</td><td>40</td><td>1600</td></tr>\n",
       "\t<tr><td>10013040</td><td>2</td><td>13</td><td>50</td><td>2</td><td>1</td><td>11.225244</td><td>37</td><td>1369</td></tr>\n",
       "\t<tr><td>10038040</td><td>2</td><td>16</td><td>55</td><td>1</td><td>1</td><td>10.819778</td><td>39</td><td>1521</td></tr>\n",
       "</tbody>\n",
       "</table>\n"
      ],
      "text/latex": [
       "A tibble: 6 × 9\n",
       "\\begin{tabular}{lllllllll}\n",
       " hhidpn & ragender & raedyrs & r4agey\\_m & r4livsib & raraceth & logr4iearn & r4exper & r4expersq\\\\\n",
       " <dbl> & <dbl+lbl> & <dbl+lbl> & <dbl> & <dbl> & <dbl+lbl> & <dbl> & <dbl> & <dbl>\\\\\n",
       "\\hline\n",
       "\t     3020 & 2 & 16 & 59 & 1 & 1 &  8.006368 & 43 & 1849\\\\\n",
       "\t 10001010 & 1 & 12 & 58 & 1 & 1 &        NA & 46 & 2116\\\\\n",
       "\t 10004010 & 1 & 16 & 58 & 1 & 1 &        NA & 42 & 1764\\\\\n",
       "\t 10004040 & 2 & 12 & 52 & 2 & 1 & 11.461632 & 40 & 1600\\\\\n",
       "\t 10013040 & 2 & 13 & 50 & 2 & 1 & 11.225244 & 37 & 1369\\\\\n",
       "\t 10038040 & 2 & 16 & 55 & 1 & 1 & 10.819778 & 39 & 1521\\\\\n",
       "\\end{tabular}\n"
      ],
      "text/markdown": [
       "\n",
       "A tibble: 6 × 9\n",
       "\n",
       "| hhidpn &lt;dbl&gt; | ragender &lt;dbl+lbl&gt; | raedyrs &lt;dbl+lbl&gt; | r4agey_m &lt;dbl&gt; | r4livsib &lt;dbl&gt; | raraceth &lt;dbl+lbl&gt; | logr4iearn &lt;dbl&gt; | r4exper &lt;dbl&gt; | r4expersq &lt;dbl&gt; |\n",
       "|---|---|---|---|---|---|---|---|---|\n",
       "|     3020 | 2 | 16 | 59 | 1 | 1 |  8.006368 | 43 | 1849 |\n",
       "| 10001010 | 1 | 12 | 58 | 1 | 1 |        NA | 46 | 2116 |\n",
       "| 10004010 | 1 | 16 | 58 | 1 | 1 |        NA | 42 | 1764 |\n",
       "| 10004040 | 2 | 12 | 52 | 2 | 1 | 11.461632 | 40 | 1600 |\n",
       "| 10013040 | 2 | 13 | 50 | 2 | 1 | 11.225244 | 37 | 1369 |\n",
       "| 10038040 | 2 | 16 | 55 | 1 | 1 | 10.819778 | 39 | 1521 |\n",
       "\n"
      ],
      "text/plain": [
       "  hhidpn   ragender raedyrs r4agey_m r4livsib raraceth logr4iearn r4exper\n",
       "1     3020 2        16      59       1        1         8.006368  43     \n",
       "2 10001010 1        12      58       1        1               NA  46     \n",
       "3 10004010 1        16      58       1        1               NA  42     \n",
       "4 10004040 2        12      52       2        1        11.461632  40     \n",
       "5 10013040 2        13      50       2        1        11.225244  37     \n",
       "6 10038040 2        16      55       1        1        10.819778  39     \n",
       "  r4expersq\n",
       "1 1849     \n",
       "2 2116     \n",
       "3 1764     \n",
       "4 1600     \n",
       "5 1369     \n",
       "6 1521     "
      ]
     },
     "metadata": {},
     "output_type": "display_data"
    }
   ],
   "source": [
    "hrs_w4_earn_sibs = read_dta(\"hrs_w4_earn_sibs.dta\")\n",
    "head(hrs_w4_earn_sibs)"
   ]
  },
  {
   "cell_type": "markdown",
   "id": "a35024e6",
   "metadata": {},
   "source": [
    "The RAND file uses a very helpful variable naming convention: `rKvarname`, where K is the wave. Here, let's look at summary statistics for the variable `r4livsib`, which is number of living siblings. For people we'll look at, this is going to be very close to siblings ever born. "
   ]
  },
  {
   "cell_type": "code",
   "execution_count": 5,
   "id": "4d810365",
   "metadata": {},
   "outputs": [
    {
     "data": {
      "text/plain": [
       "   Min. 1st Qu.  Median    Mean 3rd Qu.    Max.    NA's \n",
       "  0.000   1.000   2.000   3.047   4.000  23.000      26 "
      ]
     },
     "metadata": {},
     "output_type": "display_data"
    }
   ],
   "source": [
    "summary(hrs_w4_earn_sibs$r4livsib)"
   ]
  },
  {
   "cell_type": "markdown",
   "id": "482f5214",
   "metadata": {},
   "source": [
    "Let's call `mutate()` to add some categoricals, for female gender identity and for the race/ethnicity categories that are useful to summarize folks:"
   ]
  },
  {
   "cell_type": "code",
   "execution_count": 6,
   "id": "fb8030a4",
   "metadata": {},
   "outputs": [],
   "source": [
    "hrs_w4_earn_sibs <- mutate(hrs_w4_earn_sibs, rafemale = ragender - 1)"
   ]
  },
  {
   "cell_type": "code",
   "execution_count": 9,
   "id": "bb614995",
   "metadata": {},
   "outputs": [
    {
     "data": {
      "text/html": [
       "<table class=\"dataframe\">\n",
       "<caption>A tibble: 6 × 13</caption>\n",
       "<thead>\n",
       "\t<tr><th scope=col>hhidpn</th><th scope=col>ragender</th><th scope=col>raedyrs</th><th scope=col>r4agey_m</th><th scope=col>r4livsib</th><th scope=col>raraceth</th><th scope=col>logr4iearn</th><th scope=col>r4exper</th><th scope=col>r4expersq</th><th scope=col>rafemale</th><th scope=col>rablacknh</th><th scope=col>rahispanic</th><th scope=col>raothernh</th></tr>\n",
       "\t<tr><th scope=col>&lt;dbl&gt;</th><th scope=col>&lt;dbl+lbl&gt;</th><th scope=col>&lt;dbl+lbl&gt;</th><th scope=col>&lt;dbl&gt;</th><th scope=col>&lt;dbl&gt;</th><th scope=col>&lt;dbl+lbl&gt;</th><th scope=col>&lt;dbl&gt;</th><th scope=col>&lt;dbl&gt;</th><th scope=col>&lt;dbl&gt;</th><th scope=col>&lt;dbl&gt;</th><th scope=col>&lt;dbl&gt;</th><th scope=col>&lt;dbl&gt;</th><th scope=col>&lt;dbl&gt;</th></tr>\n",
       "</thead>\n",
       "<tbody>\n",
       "\t<tr><td>    3020</td><td>2</td><td>16</td><td>59</td><td>1</td><td>1</td><td> 8.006368</td><td>43</td><td>1849</td><td>1</td><td>0</td><td>0</td><td>0</td></tr>\n",
       "\t<tr><td>10001010</td><td>1</td><td>12</td><td>58</td><td>1</td><td>1</td><td>       NA</td><td>46</td><td>2116</td><td>0</td><td>0</td><td>0</td><td>0</td></tr>\n",
       "\t<tr><td>10004010</td><td>1</td><td>16</td><td>58</td><td>1</td><td>1</td><td>       NA</td><td>42</td><td>1764</td><td>0</td><td>0</td><td>0</td><td>0</td></tr>\n",
       "\t<tr><td>10004040</td><td>2</td><td>12</td><td>52</td><td>2</td><td>1</td><td>11.461632</td><td>40</td><td>1600</td><td>1</td><td>0</td><td>0</td><td>0</td></tr>\n",
       "\t<tr><td>10013040</td><td>2</td><td>13</td><td>50</td><td>2</td><td>1</td><td>11.225244</td><td>37</td><td>1369</td><td>1</td><td>0</td><td>0</td><td>0</td></tr>\n",
       "\t<tr><td>10038040</td><td>2</td><td>16</td><td>55</td><td>1</td><td>1</td><td>10.819778</td><td>39</td><td>1521</td><td>1</td><td>0</td><td>0</td><td>0</td></tr>\n",
       "</tbody>\n",
       "</table>\n"
      ],
      "text/latex": [
       "A tibble: 6 × 13\n",
       "\\begin{tabular}{lllllllllllll}\n",
       " hhidpn & ragender & raedyrs & r4agey\\_m & r4livsib & raraceth & logr4iearn & r4exper & r4expersq & rafemale & rablacknh & rahispanic & raothernh\\\\\n",
       " <dbl> & <dbl+lbl> & <dbl+lbl> & <dbl> & <dbl> & <dbl+lbl> & <dbl> & <dbl> & <dbl> & <dbl> & <dbl> & <dbl> & <dbl>\\\\\n",
       "\\hline\n",
       "\t     3020 & 2 & 16 & 59 & 1 & 1 &  8.006368 & 43 & 1849 & 1 & 0 & 0 & 0\\\\\n",
       "\t 10001010 & 1 & 12 & 58 & 1 & 1 &        NA & 46 & 2116 & 0 & 0 & 0 & 0\\\\\n",
       "\t 10004010 & 1 & 16 & 58 & 1 & 1 &        NA & 42 & 1764 & 0 & 0 & 0 & 0\\\\\n",
       "\t 10004040 & 2 & 12 & 52 & 2 & 1 & 11.461632 & 40 & 1600 & 1 & 0 & 0 & 0\\\\\n",
       "\t 10013040 & 2 & 13 & 50 & 2 & 1 & 11.225244 & 37 & 1369 & 1 & 0 & 0 & 0\\\\\n",
       "\t 10038040 & 2 & 16 & 55 & 1 & 1 & 10.819778 & 39 & 1521 & 1 & 0 & 0 & 0\\\\\n",
       "\\end{tabular}\n"
      ],
      "text/markdown": [
       "\n",
       "A tibble: 6 × 13\n",
       "\n",
       "| hhidpn &lt;dbl&gt; | ragender &lt;dbl+lbl&gt; | raedyrs &lt;dbl+lbl&gt; | r4agey_m &lt;dbl&gt; | r4livsib &lt;dbl&gt; | raraceth &lt;dbl+lbl&gt; | logr4iearn &lt;dbl&gt; | r4exper &lt;dbl&gt; | r4expersq &lt;dbl&gt; | rafemale &lt;dbl&gt; | rablacknh &lt;dbl&gt; | rahispanic &lt;dbl&gt; | raothernh &lt;dbl&gt; |\n",
       "|---|---|---|---|---|---|---|---|---|---|---|---|---|\n",
       "|     3020 | 2 | 16 | 59 | 1 | 1 |  8.006368 | 43 | 1849 | 1 | 0 | 0 | 0 |\n",
       "| 10001010 | 1 | 12 | 58 | 1 | 1 |        NA | 46 | 2116 | 0 | 0 | 0 | 0 |\n",
       "| 10004010 | 1 | 16 | 58 | 1 | 1 |        NA | 42 | 1764 | 0 | 0 | 0 | 0 |\n",
       "| 10004040 | 2 | 12 | 52 | 2 | 1 | 11.461632 | 40 | 1600 | 1 | 0 | 0 | 0 |\n",
       "| 10013040 | 2 | 13 | 50 | 2 | 1 | 11.225244 | 37 | 1369 | 1 | 0 | 0 | 0 |\n",
       "| 10038040 | 2 | 16 | 55 | 1 | 1 | 10.819778 | 39 | 1521 | 1 | 0 | 0 | 0 |\n",
       "\n"
      ],
      "text/plain": [
       "  hhidpn   ragender raedyrs r4agey_m r4livsib raraceth logr4iearn r4exper\n",
       "1     3020 2        16      59       1        1         8.006368  43     \n",
       "2 10001010 1        12      58       1        1               NA  46     \n",
       "3 10004010 1        16      58       1        1               NA  42     \n",
       "4 10004040 2        12      52       2        1        11.461632  40     \n",
       "5 10013040 2        13      50       2        1        11.225244  37     \n",
       "6 10038040 2        16      55       1        1        10.819778  39     \n",
       "  r4expersq rafemale rablacknh rahispanic raothernh\n",
       "1 1849      1        0         0          0        \n",
       "2 2116      0        0         0          0        \n",
       "3 1764      0        0         0          0        \n",
       "4 1600      1        0         0          0        \n",
       "5 1369      1        0         0          0        \n",
       "6 1521      1        0         0          0        "
      ]
     },
     "metadata": {},
     "output_type": "display_data"
    }
   ],
   "source": [
    "hrs_w4_earn_sibs <- mutate(hrs_w4_earn_sibs, rablacknh  = ifelse(raraceth == 2, 1, 0))\n",
    "hrs_w4_earn_sibs <- mutate(hrs_w4_earn_sibs, rahispanic = ifelse(raraceth == 3, 1, 0))\n",
    "hrs_w4_earn_sibs <- mutate(hrs_w4_earn_sibs, raothernh  = ifelse(raraceth == 4, 1, 0))\n",
    "head(hrs_w4_earn_sibs)"
   ]
  },
  {
   "cell_type": "markdown",
   "id": "be681efe",
   "metadata": {},
   "source": [
    "Behind the scenes, I have created some standard \"labor economics variables.\" One thing you can do in a log-wage regression is control for age and age-squared. You could also control for age group, with indicators for set ranges of age, maybe in 5-year age groups. You could also calculate what labor economists like as a baseline, which is a rough measure of years of \"experience,\" calculated as age minus years of education:\n",
    "\n",
    "$$\n",
    "r4exper_i = r4age_i - raedyrs_i\n",
    "$$\n",
    "\n",
    "I also created a variable `r4expersq` by squaring this experience variable. Over a broad age range, typically what we see is earnings rise and then plateau with age, and so a quadratic in experience captures the typical experience fairly well. The expectation is that the coefficient on the linear term should be positive, and the coefficient on the squared term should be negative, so that the parabola opens downward. This isn't always true, especially if we limit our analysis to a particular age range rather than all working ages 20-64."
   ]
  },
  {
   "cell_type": "markdown",
   "id": "dd856cd1",
   "metadata": {},
   "source": [
    "Let's run this regression:\n",
    "$$\n",
    "\\ln earnings_i = \\alpha_i + \\beta \\ livingsiblings_i + B \\cdot controls + e_i\n",
    "$$"
   ]
  },
  {
   "cell_type": "code",
   "execution_count": 10,
   "id": "949b7328",
   "metadata": {},
   "outputs": [
    {
     "data": {
      "text/plain": [
       "\n",
       "Call:\n",
       "lm(formula = logr4iearn ~ r4livsib + r4exper + r4expersq + raedyrs + \n",
       "    rafemale + rablacknh + rahispanic + raothernh, data = hrs_w4_earn_sibs)\n",
       "\n",
       "Residuals:\n",
       "    Min      1Q  Median      3Q     Max \n",
       "-6.7206 -0.3432  0.1682  0.5447  4.2218 \n",
       "\n",
       "Coefficients:\n",
       "              Estimate Std. Error t value Pr(>|t|)    \n",
       "(Intercept) 14.1498869  1.0477470  13.505  < 2e-16 ***\n",
       "r4livsib    -0.0054531  0.0062996  -0.866 0.386746    \n",
       "r4exper     -0.2162412  0.0504218  -4.289 1.84e-05 ***\n",
       "r4expersq    0.0023144  0.0006044   3.829 0.000131 ***\n",
       "raedyrs      0.0988495  0.0083438  11.847  < 2e-16 ***\n",
       "rafemale    -0.6635883  0.0297004 -22.343  < 2e-16 ***\n",
       "rablacknh    0.0285341  0.0435713   0.655 0.512581    \n",
       "rahispanic  -0.1127790  0.0596236  -1.892 0.058628 .  \n",
       "raothernh   -0.0536690  0.0953275  -0.563 0.573470    \n",
       "---\n",
       "Signif. codes:  0 ‘***’ 0.001 ‘**’ 0.01 ‘*’ 0.05 ‘.’ 0.1 ‘ ’ 1\n",
       "\n",
       "Residual standard error: 0.9243 on 3985 degrees of freedom\n",
       "  (2097 observations deleted due to missingness)\n",
       "Multiple R-squared:  0.2154,\tAdjusted R-squared:  0.2138 \n",
       "F-statistic: 136.8 on 8 and 3985 DF,  p-value: < 2.2e-16\n"
      ]
     },
     "metadata": {},
     "output_type": "display_data"
    }
   ],
   "source": [
    "hrs_reg1 <- lm(logr4iearn ~ r4livsib + r4exper + r4expersq + raedyrs \n",
    "               + rafemale + rablacknh + rahispanic + raothernh, data = hrs_w4_earn_sibs)\n",
    "summary(hrs_reg1)"
   ]
  },
  {
   "cell_type": "markdown",
   "id": "9295113d",
   "metadata": {},
   "source": [
    "Once we have controlled for age or experience, years of education, gender identity, and race/ethnicity, it doesn't appear that number of living siblings tells us anything about earnings."
   ]
  },
  {
   "cell_type": "markdown",
   "id": "b59ff874",
   "metadata": {},
   "source": [
    "By contrast, number of living siblings in 1998 definitely does appear to be correlated with years of education, controlling for gender and race/ethnicity:"
   ]
  },
  {
   "cell_type": "code",
   "execution_count": 11,
   "id": "4d8a0ac8",
   "metadata": {},
   "outputs": [
    {
     "data": {
      "text/plain": [
       "\n",
       "Call:\n",
       "lm(formula = raedyrs ~ r4livsib + rafemale + rablacknh + rahispanic + \n",
       "    raothernh, data = hrs_w4_earn_sibs)\n",
       "\n",
       "Residuals:\n",
       "     Min       1Q   Median       3Q      Max \n",
       "-13.8424  -1.4761  -0.2341   2.2911  10.3433 \n",
       "\n",
       "Coefficients:\n",
       "            Estimate Std. Error t value Pr(>|t|)    \n",
       "(Intercept) 13.92918    0.06873 202.664  < 2e-16 ***\n",
       "r4livsib    -0.25573    0.01488 -17.182  < 2e-16 ***\n",
       "rafemale    -0.19734    0.07189  -2.745  0.00607 ** \n",
       "rablacknh   -0.73060    0.10315  -7.083 1.57e-12 ***\n",
       "rahispanic  -3.39074    0.13002 -26.080  < 2e-16 ***\n",
       "raothernh    0.16899    0.24001   0.704  0.48140    \n",
       "---\n",
       "Signif. codes:  0 ‘***’ 0.001 ‘**’ 0.01 ‘*’ 0.05 ‘.’ 0.1 ‘ ’ 1\n",
       "\n",
       "Residual standard error: 2.757 on 6056 degrees of freedom\n",
       "  (29 observations deleted due to missingness)\n",
       "Multiple R-squared:  0.181,\tAdjusted R-squared:  0.1803 \n",
       "F-statistic: 267.7 on 5 and 6056 DF,  p-value: < 2.2e-16\n"
      ]
     },
     "metadata": {},
     "output_type": "display_data"
    }
   ],
   "source": [
    "hrs_reg2 <- lm(raedyrs ~ r4livsib + rafemale + rablacknh + rahispanic + raothernh, data = hrs_w4_earn_sibs)\n",
    "summary(hrs_reg2)"
   ]
  },
  {
   "cell_type": "markdown",
   "id": "e8495fb0",
   "metadata": {},
   "source": [
    "Discuss! Are there other regressions you'd like to run?"
   ]
  },
  {
   "cell_type": "markdown",
   "id": "99b8612d",
   "metadata": {},
   "source": [
    "<div style=\"text-align: right\"> <span style=\"font-family:Papyrus; \">And they lived happily ever after. The End.</span></div>"
   ]
  }
 ],
 "metadata": {
  "kernelspec": {
   "display_name": "R",
   "language": "R",
   "name": "ir"
  },
  "language_info": {
   "codemirror_mode": "r",
   "file_extension": ".r",
   "mimetype": "text/x-r-source",
   "name": "R",
   "pygments_lexer": "r",
   "version": "4.2.1"
  }
 },
 "nbformat": 4,
 "nbformat_minor": 5
}
