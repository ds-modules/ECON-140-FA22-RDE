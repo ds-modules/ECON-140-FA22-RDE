{
 "cells": [
  {
   "cell_type": "markdown",
   "id": "8ff12b62",
   "metadata": {},
   "source": [
    "### Section 3: Let's code"
   ]
  },
  {
   "cell_type": "markdown",
   "id": "67303ccd",
   "metadata": {},
   "source": [
    "Today, we will look at some coding in R. You will be learning\n",
    "* how to look at and summarize your data\n",
    "* how to run basic regressions\n",
    "* how to interpret regression outputs\n",
    "* how to interpret some of the most important techniques when running regressions\n",
    "* how to visualize data and regression results (more on that next time!)\n",
    "\n",
    "We will be using a (fictional) dataset on wages in California. We are interested whether there is a \"gender wage gap\", and how education and age affect one's earnings."
   ]
  },
  {
   "cell_type": "markdown",
   "id": "75212122",
   "metadata": {},
   "source": [
    "By now, you should know how to read in data. I will not be going over this. Instead, I will just show a piece of code that generates the dataset which we will be using. This can be useful for various things. \n",
    "\n",
    "You do not need to understand everything in this section."
   ]
  },
  {
   "cell_type": "code",
   "execution_count": 1,
   "id": "5c49e34f",
   "metadata": {},
   "outputs": [
    {
     "name": "stdout",
     "output_type": "stream",
     "text": [
      "[1] \"Dataset successfully generated\"\n"
     ]
    }
   ],
   "source": [
    "set.seed(123456789)\n",
    "data = data.frame(seq(1, 3000))\n",
    "data$n = data$seq.1..3000.\n",
    "data$seq.1..3000.=NULL\n",
    "data$male = 0\n",
    "data$male[data$n>=1613]=1\n",
    "data$n = NULL\n",
    "\n",
    "# Individual effect\n",
    "data$individual = rnorm(3000,0,1)\n",
    "# Gender effect (related to education)\n",
    "data$rgender = rbinom(3000, 1, 0.1)*data$male\n",
    "\n",
    "\n",
    "sampleDist = function(n) { \n",
    "    sample(x = c(8,9,10,11,12,13,14,15,16,9,10,11,12,13,14,10,11,15,12,17,17,10,12,11,13,15,15,14, 12, 12, 16, 11, 10, 10, 7, 10, 12, 12, 15, 15, 8, 9, 10, 12), n, replace = T) \n",
    "    }\n",
    "\n",
    "# Make education variable\n",
    "data$education = sampleDist(3000)\n",
    "data$education = round(data$education+data$rgender*4*runif(3000,1,2)+rnorm(3000,0,0.1),digits=0)\n",
    "data$education[data$education<=4] = 7\n",
    "data$education[data$education==5] = 7\n",
    "data$education[data$education==6] = 8\n",
    "\n",
    "# Played videogames in childhood\n",
    "data$videogames_childhood = round(runif(3000,0,8),digits=1)\n",
    "\n",
    "# Education squared\n",
    "data$educationsquared = (data$education)*(data$education)\n",
    "\n",
    "# Wages\n",
    "data$wage_monthly = 2000 + 100*data$individual + 50*data$male + 100*(data$education)\n",
    "\n",
    "data$meduc = data$male*data$education\n",
    "# Hourly wages\n",
    "data$wage_hourly = 10 + 2*data$individual + 2*data$male + 1.5*(data$education) - 1*data$meduc\n",
    "# Age\n",
    "data$age = runif(3000,25,70)\n",
    "data$agesquared = data$age*data$age\n",
    "# Yearly wages\n",
    "data$wage_yearly = 15000 + 1000*data$education + 1000*data$age - 9*data$agesquared + 1000*data$individual\n",
    "\n",
    "data$individual = NULL\n",
    "data$rgender = NULL\n",
    "data$n = NULL\n",
    "data$agesquared = NULL\n",
    "data$educationsquared=NULL\n",
    "data$meduc=NULL\n",
    "\n",
    "data$male[data$male==0]=\"Female\"\n",
    "data$male[data$male==1]=\"Male\"\n",
    "print(\"Dataset successfully generated\")"
   ]
  },
  {
   "cell_type": "markdown",
   "id": "ec2d2662",
   "metadata": {},
   "source": [
    "Let us have a look at the data:"
   ]
  },
  {
   "cell_type": "code",
   "execution_count": 2,
   "id": "39989521",
   "metadata": {},
   "outputs": [
    {
     "data": {
      "text/html": [
       "<style>\n",
       ".list-inline {list-style: none; margin:0; padding: 0}\n",
       ".list-inline>li {display: inline-block}\n",
       ".list-inline>li:not(:last-child)::after {content: \"\\00b7\"; padding: 0 .5ex}\n",
       "</style>\n",
       "<ol class=list-inline><li>'male'</li><li>'education'</li><li>'videogames_childhood'</li><li>'wage_monthly'</li><li>'wage_hourly'</li><li>'age'</li><li>'wage_yearly'</li></ol>\n"
      ],
      "text/latex": [
       "\\begin{enumerate*}\n",
       "\\item 'male'\n",
       "\\item 'education'\n",
       "\\item 'videogames\\_childhood'\n",
       "\\item 'wage\\_monthly'\n",
       "\\item 'wage\\_hourly'\n",
       "\\item 'age'\n",
       "\\item 'wage\\_yearly'\n",
       "\\end{enumerate*}\n"
      ],
      "text/markdown": [
       "1. 'male'\n",
       "2. 'education'\n",
       "3. 'videogames_childhood'\n",
       "4. 'wage_monthly'\n",
       "5. 'wage_hourly'\n",
       "6. 'age'\n",
       "7. 'wage_yearly'\n",
       "\n",
       "\n"
      ],
      "text/plain": [
       "[1] \"male\"                 \"education\"            \"videogames_childhood\"\n",
       "[4] \"wage_monthly\"         \"wage_hourly\"          \"age\"                 \n",
       "[7] \"wage_yearly\"         "
      ]
     },
     "metadata": {},
     "output_type": "display_data"
    },
    {
     "data": {
      "text/html": [
       "<table class=\"dataframe\">\n",
       "<caption>A data.frame: 6 × 7</caption>\n",
       "<thead>\n",
       "\t<tr><th></th><th scope=col>male</th><th scope=col>education</th><th scope=col>videogames_childhood</th><th scope=col>wage_monthly</th><th scope=col>wage_hourly</th><th scope=col>age</th><th scope=col>wage_yearly</th></tr>\n",
       "\t<tr><th></th><th scope=col>&lt;chr&gt;</th><th scope=col>&lt;dbl&gt;</th><th scope=col>&lt;dbl&gt;</th><th scope=col>&lt;dbl&gt;</th><th scope=col>&lt;dbl&gt;</th><th scope=col>&lt;dbl&gt;</th><th scope=col>&lt;dbl&gt;</th></tr>\n",
       "</thead>\n",
       "<tbody>\n",
       "\t<tr><th scope=row>1</th><td>Female</td><td>15</td><td>6.2</td><td>3550.487</td><td>33.50974</td><td>66.53749</td><td>57197.22</td></tr>\n",
       "\t<tr><th scope=row>2</th><td>Female</td><td>12</td><td>7.5</td><td>3239.588</td><td>28.79175</td><td>35.01332</td><td>51375.80</td></tr>\n",
       "\t<tr><th scope=row>3</th><td>Female</td><td>15</td><td>1.4</td><td>3641.554</td><td>35.33108</td><td>50.80624</td><td>58990.31</td></tr>\n",
       "\t<tr><th scope=row>4</th><td>Female</td><td> 9</td><td>5.2</td><td>2827.768</td><td>22.05535</td><td>40.92588</td><td>49129.21</td></tr>\n",
       "\t<tr><th scope=row>5</th><td>Female</td><td>12</td><td>5.8</td><td>3138.164</td><td>26.76329</td><td>38.96437</td><td>51682.01</td></tr>\n",
       "\t<tr><th scope=row>6</th><td>Female</td><td>12</td><td>0.1</td><td>3043.738</td><td>24.87476</td><td>26.69552</td><td>45719.04</td></tr>\n",
       "</tbody>\n",
       "</table>\n"
      ],
      "text/latex": [
       "A data.frame: 6 × 7\n",
       "\\begin{tabular}{r|lllllll}\n",
       "  & male & education & videogames\\_childhood & wage\\_monthly & wage\\_hourly & age & wage\\_yearly\\\\\n",
       "  & <chr> & <dbl> & <dbl> & <dbl> & <dbl> & <dbl> & <dbl>\\\\\n",
       "\\hline\n",
       "\t1 & Female & 15 & 6.2 & 3550.487 & 33.50974 & 66.53749 & 57197.22\\\\\n",
       "\t2 & Female & 12 & 7.5 & 3239.588 & 28.79175 & 35.01332 & 51375.80\\\\\n",
       "\t3 & Female & 15 & 1.4 & 3641.554 & 35.33108 & 50.80624 & 58990.31\\\\\n",
       "\t4 & Female &  9 & 5.2 & 2827.768 & 22.05535 & 40.92588 & 49129.21\\\\\n",
       "\t5 & Female & 12 & 5.8 & 3138.164 & 26.76329 & 38.96437 & 51682.01\\\\\n",
       "\t6 & Female & 12 & 0.1 & 3043.738 & 24.87476 & 26.69552 & 45719.04\\\\\n",
       "\\end{tabular}\n"
      ],
      "text/markdown": [
       "\n",
       "A data.frame: 6 × 7\n",
       "\n",
       "| <!--/--> | male &lt;chr&gt; | education &lt;dbl&gt; | videogames_childhood &lt;dbl&gt; | wage_monthly &lt;dbl&gt; | wage_hourly &lt;dbl&gt; | age &lt;dbl&gt; | wage_yearly &lt;dbl&gt; |\n",
       "|---|---|---|---|---|---|---|---|\n",
       "| 1 | Female | 15 | 6.2 | 3550.487 | 33.50974 | 66.53749 | 57197.22 |\n",
       "| 2 | Female | 12 | 7.5 | 3239.588 | 28.79175 | 35.01332 | 51375.80 |\n",
       "| 3 | Female | 15 | 1.4 | 3641.554 | 35.33108 | 50.80624 | 58990.31 |\n",
       "| 4 | Female |  9 | 5.2 | 2827.768 | 22.05535 | 40.92588 | 49129.21 |\n",
       "| 5 | Female | 12 | 5.8 | 3138.164 | 26.76329 | 38.96437 | 51682.01 |\n",
       "| 6 | Female | 12 | 0.1 | 3043.738 | 24.87476 | 26.69552 | 45719.04 |\n",
       "\n"
      ],
      "text/plain": [
       "  male   education videogames_childhood wage_monthly wage_hourly age     \n",
       "1 Female 15        6.2                  3550.487     33.50974    66.53749\n",
       "2 Female 12        7.5                  3239.588     28.79175    35.01332\n",
       "3 Female 15        1.4                  3641.554     35.33108    50.80624\n",
       "4 Female  9        5.2                  2827.768     22.05535    40.92588\n",
       "5 Female 12        5.8                  3138.164     26.76329    38.96437\n",
       "6 Female 12        0.1                  3043.738     24.87476    26.69552\n",
       "  wage_yearly\n",
       "1 57197.22   \n",
       "2 51375.80   \n",
       "3 58990.31   \n",
       "4 49129.21   \n",
       "5 51682.01   \n",
       "6 45719.04   "
      ]
     },
     "metadata": {},
     "output_type": "display_data"
    }
   ],
   "source": [
    "colnames(data)\n",
    "head(data)"
   ]
  },
  {
   "cell_type": "markdown",
   "id": "fd6ad330",
   "metadata": {},
   "source": [
    "A couple of warm-up quiz questions for you:\n",
    "* How many observations are there in the dataset?\n",
    "* How many variables are there in the dataset?\n",
    "* What proportion of the data is male?\n",
    "* What is the average monthly wage in the data?"
   ]
  },
  {
   "cell_type": "code",
   "execution_count": 3,
   "id": "fecd1d2b",
   "metadata": {},
   "outputs": [],
   "source": [
    "# Hint: The relevant functions are: mean, summary, ...\n",
    "# Hint 2: You might need to \"clean\"/recode some of the data..."
   ]
  },
  {
   "cell_type": "markdown",
   "id": "c111cded",
   "metadata": {},
   "source": [
    "Let us summarize the education data. What are mean and standard deviation? How does the data look like? Is there anything you notice?\n",
    "\n",
    "You can do the same thing for monthly wages. Are there any outliers? How would you treat them?"
   ]
  },
  {
   "cell_type": "code",
   "execution_count": 4,
   "id": "f72d36c5",
   "metadata": {},
   "outputs": [],
   "source": [
    "# Hint: The relevant functions are: mean, summary, ..."
   ]
  },
  {
   "cell_type": "markdown",
   "id": "0fec32e0",
   "metadata": {},
   "source": [
    "## Digging more into the data: Is there a gender wage gap?\n",
    "\n",
    "We start with a basic linear model of wages ($w_i$), which we regress on gender ($m_i$) and education ($e_i$):\n",
    "\n",
    "$$\n",
    "\\text{wage}_i = \\alpha + \\beta_m \\cdot \\text{male}_i + \\beta_e \\cdot \\text{education}_i + \\epsilon_i\n",
    "$$\n",
    "\n",
    "How would you run this in ```R```?"
   ]
  },
  {
   "cell_type": "code",
   "execution_count": 5,
   "id": "92e742a6",
   "metadata": {},
   "outputs": [],
   "source": [
    "# Hint: use the lm() function"
   ]
  },
  {
   "cell_type": "markdown",
   "id": "4d27733a",
   "metadata": {},
   "source": [
    "Let us interpret this regression output. \n",
    "* What is the meaning of the intercept?\n",
    "* What is the meaning of the coefficient on \"male\"?\n",
    "* What do the other parts of the output mean?\n",
    "* Can you interpret the coefficient as the \"gender wage gap\"?"
   ]
  },
  {
   "cell_type": "code",
   "execution_count": null,
   "id": "5b40b08b",
   "metadata": {},
   "outputs": [],
   "source": []
  },
  {
   "cell_type": "markdown",
   "id": "50ab6640",
   "metadata": {},
   "source": [
    "Let us consider whether videogames are determinants of wages. Let's include this in the regression as well."
   ]
  },
  {
   "cell_type": "code",
   "execution_count": null,
   "id": "554d1fde",
   "metadata": {
    "scrolled": true
   },
   "outputs": [],
   "source": []
  },
  {
   "cell_type": "markdown",
   "id": "6dc00339",
   "metadata": {},
   "source": [
    "How would you interpret this regression? How do you interpret the constant here - and what about the coefficeints on male and videogames?"
   ]
  },
  {
   "cell_type": "markdown",
   "id": "e6b7b0b7",
   "metadata": {},
   "source": [
    "### Omitted variable bias\n",
    "\n",
    "Since we also have education in our dataset, let us use it. Do you think education might be an \"omitted variable\"?\n",
    "\n",
    "How does our estimate of the \"gender wage gap\" change if we include education as an additional variable in the regression? \n"
   ]
  },
  {
   "cell_type": "code",
   "execution_count": null,
   "id": "2f7f62dd",
   "metadata": {},
   "outputs": [],
   "source": []
  },
  {
   "cell_type": "markdown",
   "id": "dc2bdd67",
   "metadata": {},
   "source": [
    "### The OVB formula\n",
    "To formally investigate how the estimate for one coefficient changes if we include more variables in the regression, we do a small experiment. \n",
    "\n",
    "We will be running three regressions:\n",
    "* 1: Full regression: Include gender and education\n",
    "* 2: Short (biased) regression: Incldue gender only\n",
    "* 3: Auxiliary regression: Regress education on gender\n",
    "\n",
    "Can you find a relation between the coefficients?"
   ]
  },
  {
   "cell_type": "code",
   "execution_count": null,
   "id": "9ca27c1a",
   "metadata": {},
   "outputs": [],
   "source": []
  },
  {
   "cell_type": "markdown",
   "id": "aa863cb8",
   "metadata": {},
   "source": [
    "### The Omitted Variable Bias Formula\n",
    "\n",
    "From these regressions, we see that there is the following relation between the coefficients:\n",
    "\n",
    "$$ \\rho_s = \\rho + \\gamma \\delta_{aux} $$\n",
    "\n",
    "where $\\rho$ is the \"long\" coefficient, $\\gamma$ is the coefficient of the omitted variable in the long regression, $\\delta_{aux}$ is the coefficient in the auxiliary regression, and $\\rho_s$ is the \"short\" regression coefficient.\n",
    "\n",
    "This relation is ALWAYS true - no matter whether we consider causality or now.\n",
    "\n",
    "We can think about this to think about the direction of bias - in a crude way...\n"
   ]
  },
  {
   "cell_type": "markdown",
   "id": "5f3cc3ab",
   "metadata": {},
   "source": [
    "## Interpreting Interaction Terms\n",
    "\n",
    "Maybe the effect of education is different between male and female respondents. To investigate this, we can use a technique called \"Interaction Terms\". Let us first create a variable that is the product of male and education."
   ]
  },
  {
   "cell_type": "code",
   "execution_count": null,
   "id": "d06d6a05",
   "metadata": {},
   "outputs": [],
   "source": []
  },
  {
   "cell_type": "markdown",
   "id": "2ba3ad46",
   "metadata": {},
   "source": [
    "We will be using hourly wages instead of monthly wages for this analysis. \n",
    "Our regression model looks like this. \n",
    "\n",
    "$$\n",
    "w_i = \\alpha + \\beta_m \\cdot \\text{male}_i + \\beta_e \\cdot \\text{education}_i + \\beta_{me} \\cdot \\text{male}_i \\cdot \\text{education}_i + \\epsilon_i\n",
    "$$\n",
    "\n",
    "\n",
    "How would we interpret the coefficients?\n",
    "\n",
    "* Interpret $\\beta_m$\n",
    "* Interpret $\\beta_e$\n",
    "* Interpret $\\beta_{me}$\n",
    "\n",
    "\n",
    "Let us run the regression and have a look at the results:"
   ]
  },
  {
   "cell_type": "code",
   "execution_count": null,
   "id": "7e337b75",
   "metadata": {},
   "outputs": [],
   "source": []
  },
  {
   "cell_type": "markdown",
   "id": "211d225c",
   "metadata": {},
   "source": [
    "## Wage and age: Exploring a life-cycle relationship\n",
    "\n",
    "We may also be interested in the relation between age and wages (for this part of the analysis, we use yearly wages). What do you think this relationship may look like? Will wages increase in age or become smaller as people become older?\n",
    "\n",
    "Let us make a plot!"
   ]
  },
  {
   "cell_type": "code",
   "execution_count": 6,
   "id": "e346b18a",
   "metadata": {},
   "outputs": [],
   "source": [
    "# Hint: In R, the basic plot function looks like this: plot(x,y)\n"
   ]
  },
  {
   "cell_type": "markdown",
   "id": "16beb22c",
   "metadata": {},
   "source": [
    "How does this data look like? Do you think a simple linear model would fully capture the relationship between age age wages? What would you do to solve this issue?"
   ]
  },
  {
   "cell_type": "markdown",
   "id": "2771ae54",
   "metadata": {},
   "source": [
    "Let us generate a new variable that is the square of the age. This looks like a parabola, so maybe we will be able to fit the data with a quadratic model."
   ]
  },
  {
   "cell_type": "code",
   "execution_count": null,
   "id": "48706d4c",
   "metadata": {},
   "outputs": [],
   "source": []
  },
  {
   "cell_type": "markdown",
   "id": "bed3c47f",
   "metadata": {},
   "source": [
    "We now have a regression model that looks like this:\n",
    "\n",
    "$$\n",
    "w_i = \\alpha + \\beta_1 \\cdot \\text{age}_i + \\beta_2 \\cdot \\text{age}_i^2 + \\epsilon_i\n",
    "$$\n",
    "\n",
    "How do you interpret:\n",
    "* $\\beta_1$\n",
    "* $\\beta_2$\n",
    "\n",
    "How do we expect $w_i$ to change if age goes up by one year?\n",
    "\n",
    "Let us run the regression with the squared term:"
   ]
  },
  {
   "cell_type": "code",
   "execution_count": null,
   "id": "b155295f",
   "metadata": {},
   "outputs": [],
   "source": []
  },
  {
   "cell_type": "markdown",
   "id": "5c09f5fd",
   "metadata": {},
   "source": [
    "## Summary: What we learned\n",
    "\n",
    "Today, we:\n",
    "* Saw how to get some very basic information (like means, standard deviations, etc.) from a dataset\n",
    "* learned how to generate new variables\n",
    "* learned how to run linear regressions \n",
    "* learned how to interpret the output of linear regressions\n",
    "* looked at what happens if we forget to include an important variable in our regression: **omitted variable bias**!\n",
    "* Learned two key techniques which allow us to analyze much more rich economic patterns in the world: Interaction effects and quadratic terms."
   ]
  },
  {
   "cell_type": "code",
   "execution_count": null,
   "id": "72ed6225",
   "metadata": {},
   "outputs": [],
   "source": []
  }
 ],
 "metadata": {
  "kernelspec": {
   "display_name": "R",
   "language": "R",
   "name": "ir"
  },
  "language_info": {
   "codemirror_mode": "r",
   "file_extension": ".r",
   "mimetype": "text/x-r-source",
   "name": "R",
   "pygments_lexer": "r",
   "version": "4.2.1"
  }
 },
 "nbformat": 4,
 "nbformat_minor": 5
}
