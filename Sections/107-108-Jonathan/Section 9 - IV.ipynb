{
 "cells": [
  {
   "cell_type": "markdown",
   "id": "781e99b1",
   "metadata": {},
   "source": [
    "## Instrumental Variables and 2SLS\n",
    "\n",
    "Today, we are running some code that will help us understand the basics of instrumental variables.\n",
    "We will analyze the relationship between eating chocolate and happiness. Clearly, we cannot run a simple regression: There may be many omitted variables (e.g., people with lactose intolerance are happier, but they also consume more chocolate) or even reverse causality (e.g., when your GSI is stressed and unhappy, they consume tons of chocolate).\n",
    "\n",
    "**Thankfully**, we have two potential instrumental variables at hand: 1) We randomly assigned people a voucher that gives them free chocolate, and 2) we know how far they live away from a grocery store.\n",
    "\n",
    "We will run through the mechanics of the IV estimation. To understand what exactly is going on, we also show you **how the data is generated**, i.e., what the actual **truth** is. This is a trick we can use when we want to check whether a method performs well: We simulate some data, and because we simulated it, we know the truth. Then we can just check whether running a regression with the method we want will give us the correct result.\n"
   ]
  },
  {
   "cell_type": "markdown",
   "id": "19d5c0ae",
   "metadata": {},
   "source": [
    "### Setting up the data\n",
    "\n",
    "We first load the required packages and set the number of observations (3,000 individuals) and a \"seed\" - this allows us to use random numbers and get exactly the same numbers every time we run the code."
   ]
  },
  {
   "cell_type": "code",
   "execution_count": 1,
   "id": "e470ba23",
   "metadata": {},
   "outputs": [
    {
     "name": "stderr",
     "output_type": "stream",
     "text": [
      "Installing package into ‘/opt/r’\n",
      "(as ‘lib’ is unspecified)\n",
      "\n",
      "Installing package into ‘/opt/r’\n",
      "(as ‘lib’ is unspecified)\n",
      "\n",
      "Installing package into ‘/opt/r’\n",
      "(as ‘lib’ is unspecified)\n",
      "\n"
     ]
    }
   ],
   "source": [
    "install.packages(\"ivreg\")\n",
    "install.packages(\"huxtable\")\n",
    "install.packages(\"jtools\")\n",
    "\n",
    "library('ivreg')\n",
    "library('huxtable')\n",
    "library('jtools')\n",
    "\n",
    "\n",
    "set.seed(12345)\n",
    "n=3000\n"
   ]
  },
  {
   "cell_type": "markdown",
   "id": "09932bbe",
   "metadata": {},
   "source": [
    "Next, we generate a data frame and fill it with some observations. The two instruments (voucher and distance) are random variables (one is a \"binomial\" random variable and will be a dummy, the other a uniform random variable). "
   ]
  },
  {
   "cell_type": "code",
   "execution_count": 2,
   "id": "016bf873",
   "metadata": {},
   "outputs": [],
   "source": [
    "data_iv = data.frame(seq(1, n))\n",
    "colnames(data_iv)=\"n\"\n",
    "\n",
    "# The first instrument is a dummy variable: A lottery whether you received a voucher\n",
    "data_iv$voucher = rbinom(n,1,0.5)\n",
    "\n",
    "# The second instrument is a continuous variable: The distance to the closest supermarket\n",
    "data_iv$distance = runif(n,0,1)"
   ]
  },
  {
   "cell_type": "markdown",
   "id": "b8f77cbc",
   "metadata": {},
   "source": [
    "Next, we generate some other variables: `unobserved_unhappiness` is how unhappy the respondent was *before* buying any chocolate. We do not observe this and this will generate omitted variable bias (strictly speaking, this is reverse causality).\n",
    "We also generate a truly random error that is unrelated to anything else in the data.\n",
    "And we also have data on whether or not a person is lactose intolerant."
   ]
  },
  {
   "cell_type": "code",
   "execution_count": 3,
   "id": "e9398f4b",
   "metadata": {},
   "outputs": [],
   "source": [
    "\n",
    "# These are some other variables: Being unhappy on a given day, an unobserved error, and a control variable (whether the respondent is lactose intolerant)\n",
    "data_iv$unobserved_unhappiness = rnorm(n,0,1)\n",
    "data_iv$yerror = rnorm(n,0,1)\n",
    "data_iv$lactose_intolerant = rbinom(n,1,0.5)\n"
   ]
  },
  {
   "cell_type": "markdown",
   "id": "458df7b9",
   "metadata": {},
   "source": [
    "Finally, we know exactly what determines the consumption of chocolate, and what determines happiness. This is often called the \"data-generating process\". \n"
   ]
  },
  {
   "cell_type": "code",
   "execution_count": 4,
   "id": "e7535aa6",
   "metadata": {},
   "outputs": [],
   "source": [
    "\n",
    "# This is the \"data-generating process\" for chocolate consumption:\n",
    "  # - People who got the voucher eat more chocolate\n",
    "  # People who live further away from supermarket eat less chocolate, people who are lactose intolerant eat less chocolate, people who are currently feeling unhappy eat more chocolate\n",
    "data_iv$chocolate = 0.8*data_iv$voucher - data_iv$distance - data_iv$lactose_intolerant + data_iv$unobserved_unhappiness \n",
    "\n",
    "# This is the DGP for happiness: Eating chocolate makes you happier, being lactose intolerant is also related to happiness, as is being unhappy on a given day, and there is a random error.\n",
    "data_iv$happiness = data_iv$chocolate + data_iv$lactose_intolerant - data_iv$unobserved_unhappiness + data_iv$yerror\n"
   ]
  },
  {
   "cell_type": "markdown",
   "id": "e4b44782",
   "metadata": {},
   "source": [
    "### Questions for you\n",
    "\n",
    "* Can you see from the DGP: What is the true effect of chocolate on happiness? What would you want to see as regression result?\n",
    "* Can you guess: If we run the OLS regression (pretending we do not know unobserved unhappiness), if there will be OVB?\n",
    "* Are distance and voucher valid instruments in this framework (i.e., do they satisfy the relevance, independence, and exclusion restriction)?\n",
    "\n",
    "### Running OLS"
   ]
  },
  {
   "cell_type": "code",
   "execution_count": 5,
   "id": "11d058ac",
   "metadata": {},
   "outputs": [
    {
     "data": {
      "text/plain": [
       "\n",
       "Call:\n",
       "lm(formula = happiness ~ chocolate + lactose_intolerant, data = data_iv)\n",
       "\n",
       "Residuals:\n",
       "    Min      1Q  Median      3Q     Max \n",
       "-4.0017 -0.7645  0.0156  0.7406  3.8246 \n",
       "\n",
       "Coefficients:\n",
       "                   Estimate Std. Error t value Pr(>|t|)    \n",
       "(Intercept)        -0.07876    0.02840  -2.773  0.00558 ** \n",
       "chocolate           0.22322    0.01817  12.287  < 2e-16 ***\n",
       "lactose_intolerant  0.24598    0.04396   5.595  2.4e-08 ***\n",
       "---\n",
       "Signif. codes:  0 ‘***’ 0.001 ‘**’ 0.01 ‘*’ 0.05 ‘.’ 0.1 ‘ ’ 1\n",
       "\n",
       "Residual standard error: 1.103 on 2997 degrees of freedom\n",
       "Multiple R-squared:  0.04811,\tAdjusted R-squared:  0.04748 \n",
       "F-statistic: 75.74 on 2 and 2997 DF,  p-value: < 2.2e-16\n"
      ]
     },
     "metadata": {},
     "output_type": "display_data"
    }
   ],
   "source": [
    "\n",
    "# We immediately see that OLS is biased: unobserved_unhappiness is correlated with chocolate and also with happiness\n",
    "summary(lm(happiness ~ chocolate + lactose_intolerant, data=data_iv))\n"
   ]
  },
  {
   "cell_type": "markdown",
   "id": "c22cf238",
   "metadata": {},
   "source": [
    "### IV estimation\n",
    "\n",
    "We can use the `ivreg` package to use the `voucher` as an instrument for `chocolate` consumption. \n",
    "\n",
    "We can also verify that in this simple setup (where the instrument is a dummy variable), we can simply calculate four averages in the data and get **exactly** the same result - so we don't even need to run a regression!\n",
    "\n",
    "**Cheeky question: Can you come up with at least two reasons why we would still want to run a regression?**"
   ]
  },
  {
   "cell_type": "code",
   "execution_count": 6,
   "id": "02bdfd1b",
   "metadata": {},
   "outputs": [
    {
     "data": {
      "text/plain": [
       "\n",
       "Call:\n",
       "ivreg(formula = happiness ~ chocolate | voucher, data = data_iv)\n",
       "\n",
       "Residuals:\n",
       "     Min       1Q   Median       3Q      Max \n",
       "-5.03580 -1.09931 -0.00718  1.06374  5.32038 \n",
       "\n",
       "Coefficients:\n",
       "            Estimate Std. Error t value Pr(>|t|)    \n",
       "(Intercept)  0.55613    0.05291   10.51   <2e-16 ***\n",
       "chocolate    1.09724    0.07583   14.47   <2e-16 ***\n",
       "\n",
       "Diagnostic tests:\n",
       "                  df1  df2 statistic p-value    \n",
       "Weak instruments    1 2998     322.7  <2e-16 ***\n",
       "Wu-Hausman          1 2997     360.8  <2e-16 ***\n",
       "Sargan              0   NA        NA      NA    \n",
       "---\n",
       "Signif. codes:  0 ‘***’ 0.001 ‘**’ 0.01 ‘*’ 0.05 ‘.’ 0.1 ‘ ’ 1\n",
       "\n",
       "Residual standard error: 1.566 on 2998 degrees of freedom\n",
       "Multiple R-Squared: -0.9222,\tAdjusted R-squared: -0.9228 \n",
       "Wald test: 209.4 on 1 and 2998 DF,  p-value: < 2.2e-16 \n"
      ]
     },
     "metadata": {},
     "output_type": "display_data"
    },
    {
     "name": "stdout",
     "output_type": "stream",
     "text": [
      "[1] 0.3147142\n",
      "[1] -0.5132467\n",
      "[1] -0.2200193\n",
      "[1] -0.9746078\n",
      "[1] 1.097235\n"
     ]
    }
   ],
   "source": [
    "\n",
    "# Runnnig the IV regression\n",
    "summary(ivreg(happiness ~ chocolate  | voucher , data=data_iv))\n",
    "\n",
    "# Implementing the Wald estimator\n",
    "a = mean(data_iv$happiness[data_iv$voucher==1])\n",
    "  print(a)\n",
    "b = mean(data_iv$happiness[data_iv$voucher==0])\n",
    "  print(b)\n",
    "\n",
    "c = mean(data_iv$chocolate[data_iv$voucher==1])\n",
    "  print(c)\n",
    "d = mean(data_iv$chocolate[data_iv$voucher==0])\n",
    "  print(d)\n",
    "  \n",
    "wald_estimator = (a-b)/(c-d)\n",
    "  print(wald_estimator)\n",
    "  \n",
    "  "
   ]
  },
  {
   "cell_type": "markdown",
   "id": "9b149c14",
   "metadata": {},
   "source": [
    "### Two stage least squares\n",
    "\n",
    "We have seen in class that we can also get the estimate from running two separate regressions and then getting the result as the ration between two OLS coefficients:"
   ]
  },
  {
   "cell_type": "code",
   "execution_count": 7,
   "id": "b93df2d6",
   "metadata": {},
   "outputs": [],
   "source": [
    "# Two-Stage least squares\n",
    "reduced_form = summary(lm(happiness ~ voucher , data=data_iv))\n",
    "first_stage  = summary(lm(chocolate ~ voucher , data=data_iv))\n",
    "\n",
    "tsls = reduced_form$coefficients[2,1] / first_stage$coefficients[2,1]"
   ]
  },
  {
   "cell_type": "markdown",
   "id": "241d1c89",
   "metadata": {},
   "source": [
    "### Advantages of 2SLS\n",
    "\n",
    "2SLS gives us several advantages:\n",
    "* We can use **two instruments at the same time**: distance and voucher. This can help us get more precise estimates because we use more information on what determines chocolate consumption\n",
    "* We can also **control for additional variables** that are important - such as, in our case, lactose intolerance\n",
    "* We can directly **test whether instruments are relevant**. This is particularly useful if we have multiple instruments (how would we even do it otherwise?). The way we test this is by looking at the so-called \"First stage F-statistic\" or here, at the test for \"Weak instruments\"."
   ]
  },
  {
   "cell_type": "code",
   "execution_count": 8,
   "id": "2160aa0c",
   "metadata": {},
   "outputs": [
    {
     "data": {
      "text/plain": [
       "\n",
       "Call:\n",
       "ivreg(formula = happiness ~ chocolate | voucher, data = data_iv)\n",
       "\n",
       "Residuals:\n",
       "     Min       1Q   Median       3Q      Max \n",
       "-5.03580 -1.09931 -0.00718  1.06374  5.32038 \n",
       "\n",
       "Coefficients:\n",
       "            Estimate Std. Error t value Pr(>|t|)    \n",
       "(Intercept)  0.55613    0.05291   10.51   <2e-16 ***\n",
       "chocolate    1.09724    0.07583   14.47   <2e-16 ***\n",
       "\n",
       "Diagnostic tests:\n",
       "                  df1  df2 statistic p-value    \n",
       "Weak instruments    1 2998     322.7  <2e-16 ***\n",
       "Wu-Hausman          1 2997     360.8  <2e-16 ***\n",
       "Sargan              0   NA        NA      NA    \n",
       "---\n",
       "Signif. codes:  0 ‘***’ 0.001 ‘**’ 0.01 ‘*’ 0.05 ‘.’ 0.1 ‘ ’ 1\n",
       "\n",
       "Residual standard error: 1.566 on 2998 degrees of freedom\n",
       "Multiple R-Squared: -0.9222,\tAdjusted R-squared: -0.9228 \n",
       "Wald test: 209.4 on 1 and 2998 DF,  p-value: < 2.2e-16 \n"
      ]
     },
     "metadata": {},
     "output_type": "display_data"
    },
    {
     "data": {
      "text/plain": [
       "\n",
       "Call:\n",
       "ivreg(formula = happiness ~ chocolate | distance, data = data_iv)\n",
       "\n",
       "Residuals:\n",
       "      Min        1Q    Median        3Q       Max \n",
       "-4.637603 -1.017170 -0.005514  1.014902  4.915180 \n",
       "\n",
       "Coefficients:\n",
       "            Estimate Std. Error t value Pr(>|t|)    \n",
       "(Intercept)  0.48002    0.05979   8.028 1.41e-15 ***\n",
       "chocolate    0.96759    0.09118  10.611  < 2e-16 ***\n",
       "\n",
       "Diagnostic tests:\n",
       "                  df1  df2 statistic p-value    \n",
       "Weak instruments    1 2998     185.8  <2e-16 ***\n",
       "Wu-Hausman          1 2997     143.1  <2e-16 ***\n",
       "Sargan              0   NA        NA      NA    \n",
       "---\n",
       "Signif. codes:  0 ‘***’ 0.001 ‘**’ 0.01 ‘*’ 0.05 ‘.’ 0.1 ‘ ’ 1\n",
       "\n",
       "Residual standard error: 1.46 on 2998 degrees of freedom\n",
       "Multiple R-Squared: -0.6693,\tAdjusted R-squared: -0.6698 \n",
       "Wald test: 112.6 on 1 and 2998 DF,  p-value: < 2.2e-16 \n"
      ]
     },
     "metadata": {},
     "output_type": "display_data"
    },
    {
     "data": {
      "text/plain": [
       "\n",
       "Call:\n",
       "ivreg(formula = happiness ~ chocolate | voucher + distance, data = data_iv)\n",
       "\n",
       "Residuals:\n",
       "       Min         1Q     Median         3Q        Max \n",
       "-4.8878490 -1.0666551  0.0000316  1.0406738  5.1698221 \n",
       "\n",
       "Coefficients:\n",
       "            Estimate Std. Error t value Pr(>|t|)    \n",
       "(Intercept)  0.52785    0.04454   11.85   <2e-16 ***\n",
       "chocolate    1.04906    0.05921   17.72   <2e-16 ***\n",
       "\n",
       "Diagnostic tests:\n",
       "                  df1  df2 statistic p-value    \n",
       "Weak instruments    2 2997   266.956  <2e-16 ***\n",
       "Wu-Hausman          1 2997   569.294  <2e-16 ***\n",
       "Sargan              1   NA     1.191   0.275    \n",
       "---\n",
       "Signif. codes:  0 ‘***’ 0.001 ‘**’ 0.01 ‘*’ 0.05 ‘.’ 0.1 ‘ ’ 1\n",
       "\n",
       "Residual standard error: 1.526 on 2998 degrees of freedom\n",
       "Multiple R-Squared: -0.8237,\tAdjusted R-squared: -0.8243 \n",
       "Wald test: 313.9 on 1 and 2998 DF,  p-value: < 2.2e-16 \n"
      ]
     },
     "metadata": {},
     "output_type": "display_data"
    },
    {
     "data": {
      "text/plain": [
       "\n",
       "Call:\n",
       "ivreg(formula = happiness ~ lactose_intolerant + chocolate | \n",
       "    voucher + distance + lactose_intolerant, data = data_iv)\n",
       "\n",
       "Residuals:\n",
       "     Min       1Q   Median       3Q      Max \n",
       "-4.48773 -0.96118 -0.02736  0.98326  4.54457 \n",
       "\n",
       "Coefficients:\n",
       "                   Estimate Std. Error t value Pr(>|t|)    \n",
       "(Intercept)        0.004568   0.036602   0.125    0.901    \n",
       "lactose_intolerant 1.013234   0.072584  13.959   <2e-16 ***\n",
       "chocolate          1.012618   0.052727  19.205   <2e-16 ***\n",
       "\n",
       "Diagnostic tests:\n",
       "                  df1  df2 statistic p-value    \n",
       "Weak instruments    2 2996   359.423  <2e-16 ***\n",
       "Wu-Hausman          1 2996   533.505  <2e-16 ***\n",
       "Sargan              1   NA     1.094   0.296    \n",
       "---\n",
       "Signif. codes:  0 ‘***’ 0.001 ‘**’ 0.01 ‘*’ 0.05 ‘.’ 0.1 ‘ ’ 1\n",
       "\n",
       "Residual standard error: 1.408 on 2997 degrees of freedom\n",
       "Multiple R-Squared: -0.5516,\tAdjusted R-squared: -0.5526 \n",
       "Wald test: 184.6 on 2 and 2997 DF,  p-value: < 2.2e-16 \n"
      ]
     },
     "metadata": {},
     "output_type": "display_data"
    },
    {
     "name": "stderr",
     "output_type": "stream",
     "text": [
      "Registered S3 methods overwritten by 'broom':\n",
      "  method            from  \n",
      "  tidy.glht         jtools\n",
      "  tidy.summary.glht jtools\n",
      "\n"
     ]
    },
    {
     "data": {
      "text/html": [
       "<table class=\"dataframe\">\n",
       "<caption>A huxtable: 17 × 5</caption>\n",
       "<thead>\n",
       "\t<tr><th></th><th scope=col>names</th><th scope=col>Model 1</th><th scope=col>Model 2</th><th scope=col>Model 3</th><th scope=col>Model 4</th></tr>\n",
       "\t<tr><th></th><th scope=col>&lt;chr&gt;</th><th scope=col>&lt;chr&gt;</th><th scope=col>&lt;chr&gt;</th><th scope=col>&lt;chr&gt;</th><th scope=col>&lt;chr&gt;</th></tr>\n",
       "</thead>\n",
       "<tbody>\n",
       "\t<tr><th scope=row></th><td>                                          </td><td>Model 1                                   </td><td>Model 2                                   </td><td>Model 3                                   </td><td>Model 4                                   </td></tr>\n",
       "\t<tr><th scope=row>1</th><td>(Intercept)                               </td><td>0.556127108534782 ***                     </td><td>0.480022652154977 ***                     </td><td>0.527849971874895 ***                     </td><td>0.00456799144837519                       </td></tr>\n",
       "\t<tr><th scope=row>2</th><td>                                          </td><td>(0.052908777271058)                       </td><td>(0.0597934538961056)                      </td><td>(0.0445433429512119)                      </td><td>(0.0366019688338572)                      </td></tr>\n",
       "\t<tr><th scope=row>3</th><td>chocolate                                 </td><td>1.09723504097503 ***                      </td><td>0.967585383906888 ***                     </td><td>1.04906281499489 ***                      </td><td>1.01261769696456 ***                      </td></tr>\n",
       "\t<tr><th scope=row>4</th><td>                                          </td><td>(0.0758308536003003)                      </td><td>(0.0911838574417366)                      </td><td>(0.0592114577064265)                      </td><td>(0.0527270235605985)                      </td></tr>\n",
       "\t<tr><th scope=row>5</th><td>lactose_intolerant                        </td><td>                                          </td><td>                                          </td><td>                                          </td><td>1.01323418413147 ***                      </td></tr>\n",
       "\t<tr><th scope=row>6</th><td>                                          </td><td>                                          </td><td>                                          </td><td>                                          </td><td>(0.0725839557382915)                      </td></tr>\n",
       "\t<tr><th scope=row>1.1</th><td>nobs                                      </td><td>3000                                      </td><td>3000                                      </td><td>3000                                      </td><td>3000                                      </td></tr>\n",
       "\t<tr><th scope=row>2.1</th><td>r.squared                                 </td><td>-0.922158182071129                        </td><td>-0.669254516745784                        </td><td>-0.823686492940591                        </td><td>-0.551560742341549                        </td></tr>\n",
       "\t<tr><th scope=row>3.1</th><td>adj.r.squared                             </td><td>-0.922799328896369                        </td><td>-0.669811306110943                        </td><td>-0.824294793972259                        </td><td>-0.552596151579014                        </td></tr>\n",
       "\t<tr><th scope=row>4.1</th><td>sigma                                     </td><td>1.56647852760569                          </td><td>1.45979262055191                          </td><td>1.52582587235756                          </td><td>1.40762417819854                          </td></tr>\n",
       "\t<tr><th scope=row>5.1</th><td>statistic                                 </td><td>209.366622896774                          </td><td>112.601111497879                          </td><td>313.900119289707                          </td><td>184.573716411465                          </td></tr>\n",
       "\t<tr><th scope=row>6.1</th><td>p.value                                   </td><td>6.42556596788302e-46                      </td><td>7.53941453627565e-26                      </td><td>7.05669392922378e-67                      </td><td>2.54732073429371e-76                      </td></tr>\n",
       "\t<tr><th scope=row>7</th><td>df                                        </td><td>2                                         </td><td>2                                         </td><td>2                                         </td><td>3                                         </td></tr>\n",
       "\t<tr><th scope=row>8</th><td>df.residual                               </td><td>2998                                      </td><td>2998                                      </td><td>2998                                      </td><td>2997                                      </td></tr>\n",
       "\t<tr><th scope=row>9</th><td>nobs.1                                    </td><td>3000                                      </td><td>3000                                      </td><td>3000                                      </td><td>3000                                      </td></tr>\n",
       "\t<tr><th scope=row>.1</th><td><span style=white-space:pre-wrap> *** p &lt; 0.001;  ** p &lt; 0.01;  * p &lt; 0.05.</span></td><td><span style=white-space:pre-wrap> *** p &lt; 0.001;  ** p &lt; 0.01;  * p &lt; 0.05.</span></td><td><span style=white-space:pre-wrap> *** p &lt; 0.001;  ** p &lt; 0.01;  * p &lt; 0.05.</span></td><td><span style=white-space:pre-wrap> *** p &lt; 0.001;  ** p &lt; 0.01;  * p &lt; 0.05.</span></td><td><span style=white-space:pre-wrap> *** p &lt; 0.001;  ** p &lt; 0.01;  * p &lt; 0.05.</span></td></tr>\n",
       "</tbody>\n",
       "</table>\n"
      ],
      "text/latex": [
       "A huxtable: 17 × 5\n",
       "\\begin{tabular}{r|lllll}\n",
       "  & names & Model 1 & Model 2 & Model 3 & Model 4\\\\\n",
       "  & <chr> & <chr> & <chr> & <chr> & <chr>\\\\\n",
       "\\hline\n",
       "\t &                                            & Model 1                                    & Model 2                                    & Model 3                                    & Model 4                                   \\\\\n",
       "\t1 & (Intercept)                                & 0.556127108534782 ***                      & 0.480022652154977 ***                      & 0.527849971874895 ***                      & 0.00456799144837519                       \\\\\n",
       "\t2 &                                            & (0.052908777271058)                        & (0.0597934538961056)                       & (0.0445433429512119)                       & (0.0366019688338572)                      \\\\\n",
       "\t3 & chocolate                                  & 1.09723504097503 ***                       & 0.967585383906888 ***                      & 1.04906281499489 ***                       & 1.01261769696456 ***                      \\\\\n",
       "\t4 &                                            & (0.0758308536003003)                       & (0.0911838574417366)                       & (0.0592114577064265)                       & (0.0527270235605985)                      \\\\\n",
       "\t5 & lactose\\_intolerant                         &                                            &                                            &                                            & 1.01323418413147 ***                      \\\\\n",
       "\t6 &                                            &                                            &                                            &                                            & (0.0725839557382915)                      \\\\\n",
       "\t1.1 & nobs                                       & 3000                                       & 3000                                       & 3000                                       & 3000                                      \\\\\n",
       "\t2.1 & r.squared                                  & -0.922158182071129                         & -0.669254516745784                         & -0.823686492940591                         & -0.551560742341549                        \\\\\n",
       "\t3.1 & adj.r.squared                              & -0.922799328896369                         & -0.669811306110943                         & -0.824294793972259                         & -0.552596151579014                        \\\\\n",
       "\t4.1 & sigma                                      & 1.56647852760569                           & 1.45979262055191                           & 1.52582587235756                           & 1.40762417819854                          \\\\\n",
       "\t5.1 & statistic                                  & 209.366622896774                           & 112.601111497879                           & 313.900119289707                           & 184.573716411465                          \\\\\n",
       "\t6.1 & p.value                                    & 6.42556596788302e-46                       & 7.53941453627565e-26                       & 7.05669392922378e-67                       & 2.54732073429371e-76                      \\\\\n",
       "\t7 & df                                         & 2                                          & 2                                          & 2                                          & 3                                         \\\\\n",
       "\t8 & df.residual                                & 2998                                       & 2998                                       & 2998                                       & 2997                                      \\\\\n",
       "\t9 & nobs.1                                     & 3000                                       & 3000                                       & 3000                                       & 3000                                      \\\\\n",
       "\t.1 &  *** p < 0.001;  ** p < 0.01;  * p < 0.05. &  *** p < 0.001;  ** p < 0.01;  * p < 0.05. &  *** p < 0.001;  ** p < 0.01;  * p < 0.05. &  *** p < 0.001;  ** p < 0.01;  * p < 0.05. &  *** p < 0.001;  ** p < 0.01;  * p < 0.05.\\\\\n",
       "\\end{tabular}\n"
      ],
      "text/markdown": [
       "\n",
       "A huxtable: 17 × 5\n",
       "\n",
       "| <!--/--> | names &lt;chr&gt; | Model 1 &lt;chr&gt; | Model 2 &lt;chr&gt; | Model 3 &lt;chr&gt; | Model 4 &lt;chr&gt; |\n",
       "|---|---|---|---|---|---|\n",
       "| <!----> | <!----> | Model 1                                    | Model 2                                    | Model 3                                    | Model 4                                    |\n",
       "| 1 | (Intercept)                                | 0.556127108534782 ***                      | 0.480022652154977 ***                      | 0.527849971874895 ***                      | 0.00456799144837519                        |\n",
       "| 2 | <!----> | (0.052908777271058)                        | (0.0597934538961056)                       | (0.0445433429512119)                       | (0.0366019688338572)                       |\n",
       "| 3 | chocolate                                  | 1.09723504097503 ***                       | 0.967585383906888 ***                      | 1.04906281499489 ***                       | 1.01261769696456 ***                       |\n",
       "| 4 | <!----> | (0.0758308536003003)                       | (0.0911838574417366)                       | (0.0592114577064265)                       | (0.0527270235605985)                       |\n",
       "| 5 | lactose_intolerant                         | <!----> | <!----> | <!----> | 1.01323418413147 ***                       |\n",
       "| 6 | <!----> | <!----> | <!----> | <!----> | (0.0725839557382915)                       |\n",
       "| 1.1 | nobs                                       | 3000                                       | 3000                                       | 3000                                       | 3000                                       |\n",
       "| 2.1 | r.squared                                  | -0.922158182071129                         | -0.669254516745784                         | -0.823686492940591                         | -0.551560742341549                         |\n",
       "| 3.1 | adj.r.squared                              | -0.922799328896369                         | -0.669811306110943                         | -0.824294793972259                         | -0.552596151579014                         |\n",
       "| 4.1 | sigma                                      | 1.56647852760569                           | 1.45979262055191                           | 1.52582587235756                           | 1.40762417819854                           |\n",
       "| 5.1 | statistic                                  | 209.366622896774                           | 112.601111497879                           | 313.900119289707                           | 184.573716411465                           |\n",
       "| 6.1 | p.value                                    | 6.42556596788302e-46                       | 7.53941453627565e-26                       | 7.05669392922378e-67                       | 2.54732073429371e-76                       |\n",
       "| 7 | df                                         | 2                                          | 2                                          | 2                                          | 3                                          |\n",
       "| 8 | df.residual                                | 2998                                       | 2998                                       | 2998                                       | 2997                                       |\n",
       "| 9 | nobs.1                                     | 3000                                       | 3000                                       | 3000                                       | 3000                                       |\n",
       "| .1 |  *** p &lt; 0.001;  ** p &lt; 0.01;  * p &lt; 0.05. |  *** p &lt; 0.001;  ** p &lt; 0.01;  * p &lt; 0.05. |  *** p &lt; 0.001;  ** p &lt; 0.01;  * p &lt; 0.05. |  *** p &lt; 0.001;  ** p &lt; 0.01;  * p &lt; 0.05. |  *** p &lt; 0.001;  ** p &lt; 0.01;  * p &lt; 0.05. |\n",
       "\n"
      ],
      "text/plain": [
       "    names                                     \n",
       "                                              \n",
       "1   (Intercept)                               \n",
       "2                                             \n",
       "3   chocolate                                 \n",
       "4                                             \n",
       "5   lactose_intolerant                        \n",
       "6                                             \n",
       "1.1 nobs                                      \n",
       "2.1 r.squared                                 \n",
       "3.1 adj.r.squared                             \n",
       "4.1 sigma                                     \n",
       "5.1 statistic                                 \n",
       "6.1 p.value                                   \n",
       "7   df                                        \n",
       "8   df.residual                               \n",
       "9   nobs.1                                    \n",
       ".1   *** p < 0.001;  ** p < 0.01;  * p < 0.05.\n",
       "    Model 1                                   \n",
       "    Model 1                                   \n",
       "1   0.556127108534782 ***                     \n",
       "2   (0.052908777271058)                       \n",
       "3   1.09723504097503 ***                      \n",
       "4   (0.0758308536003003)                      \n",
       "5                                             \n",
       "6                                             \n",
       "1.1 3000                                      \n",
       "2.1 -0.922158182071129                        \n",
       "3.1 -0.922799328896369                        \n",
       "4.1 1.56647852760569                          \n",
       "5.1 209.366622896774                          \n",
       "6.1 6.42556596788302e-46                      \n",
       "7   2                                         \n",
       "8   2998                                      \n",
       "9   3000                                      \n",
       ".1   *** p < 0.001;  ** p < 0.01;  * p < 0.05.\n",
       "    Model 2                                   \n",
       "    Model 2                                   \n",
       "1   0.480022652154977 ***                     \n",
       "2   (0.0597934538961056)                      \n",
       "3   0.967585383906888 ***                     \n",
       "4   (0.0911838574417366)                      \n",
       "5                                             \n",
       "6                                             \n",
       "1.1 3000                                      \n",
       "2.1 -0.669254516745784                        \n",
       "3.1 -0.669811306110943                        \n",
       "4.1 1.45979262055191                          \n",
       "5.1 112.601111497879                          \n",
       "6.1 7.53941453627565e-26                      \n",
       "7   2                                         \n",
       "8   2998                                      \n",
       "9   3000                                      \n",
       ".1   *** p < 0.001;  ** p < 0.01;  * p < 0.05.\n",
       "    Model 3                                   \n",
       "    Model 3                                   \n",
       "1   0.527849971874895 ***                     \n",
       "2   (0.0445433429512119)                      \n",
       "3   1.04906281499489 ***                      \n",
       "4   (0.0592114577064265)                      \n",
       "5                                             \n",
       "6                                             \n",
       "1.1 3000                                      \n",
       "2.1 -0.823686492940591                        \n",
       "3.1 -0.824294793972259                        \n",
       "4.1 1.52582587235756                          \n",
       "5.1 313.900119289707                          \n",
       "6.1 7.05669392922378e-67                      \n",
       "7   2                                         \n",
       "8   2998                                      \n",
       "9   3000                                      \n",
       ".1   *** p < 0.001;  ** p < 0.01;  * p < 0.05.\n",
       "    Model 4                                   \n",
       "    Model 4                                   \n",
       "1   0.00456799144837519                       \n",
       "2   (0.0366019688338572)                      \n",
       "3   1.01261769696456 ***                      \n",
       "4   (0.0527270235605985)                      \n",
       "5   1.01323418413147 ***                      \n",
       "6   (0.0725839557382915)                      \n",
       "1.1 3000                                      \n",
       "2.1 -0.551560742341549                        \n",
       "3.1 -0.552596151579014                        \n",
       "4.1 1.40762417819854                          \n",
       "5.1 184.573716411465                          \n",
       "6.1 2.54732073429371e-76                      \n",
       "7   3                                         \n",
       "8   2997                                      \n",
       "9   3000                                      \n",
       ".1   *** p < 0.001;  ** p < 0.01;  * p < 0.05."
      ]
     },
     "metadata": {},
     "output_type": "display_data"
    }
   ],
   "source": [
    "\n",
    "summary(a <- ivreg(happiness ~ chocolate  | voucher , data=data_iv))\n",
    "  # Including Distance as instrument\n",
    "  summary(b <- ivreg(happiness ~ chocolate  | distance , data=data_iv))\n",
    "  # Including both instrument\n",
    "  summary(c <- ivreg(happiness ~ chocolate  | voucher + distance , data=data_iv))\n",
    "  # Including control\n",
    "  summary(d <- ivreg(happiness ~ lactose_intolerant + chocolate   | voucher + distance + lactose_intolerant , data=data_iv))\n",
    "\n",
    "  export_summs(a,b,c,d)"
   ]
  }
 ],
 "metadata": {
  "kernelspec": {
   "display_name": "R",
   "language": "R",
   "name": "ir"
  },
  "language_info": {
   "codemirror_mode": "r",
   "file_extension": ".r",
   "mimetype": "text/x-r-source",
   "name": "R",
   "pygments_lexer": "r",
   "version": "4.2.1"
  }
 },
 "nbformat": 4,
 "nbformat_minor": 5
}
