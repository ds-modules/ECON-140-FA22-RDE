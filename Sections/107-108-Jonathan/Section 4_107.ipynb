{
 "cells": [
  {
   "cell_type": "markdown",
   "id": "7ee679ec",
   "metadata": {},
   "source": [
    "# Section 4: Getting data and some additional regression magic\n",
    "\n",
    "This week, we are going to learn:\n",
    "* How to download data from two very popular sources in the field of political economy and macroeconomics\n",
    "* Look at an interesting question related to the effectiveness of international aid.\n",
    "* Learn about interaction terms and bad controls\n",
    "* Maybe: Make a quick example about data visualization"
   ]
  },
  {
   "cell_type": "code",
   "execution_count": 3,
   "id": "46802880",
   "metadata": {
    "scrolled": true
   },
   "outputs": [
    {
     "name": "stderr",
     "output_type": "stream",
     "text": [
      "Installing packages into ‘/opt/r’\n",
      "(as ‘lib’ is unspecified)\n",
      "\n",
      "also installing the dependency ‘RJSONIO’\n",
      "\n",
      "\n",
      "\n",
      "Attaching package: ‘dplyr’\n",
      "\n",
      "\n",
      "The following objects are masked from ‘package:stats’:\n",
      "\n",
      "    filter, lag\n",
      "\n",
      "\n",
      "The following objects are masked from ‘package:base’:\n",
      "\n",
      "    intersect, setdiff, setequal, union\n",
      "\n",
      "\n",
      "\n",
      "Attaching package: ‘plotly’\n",
      "\n",
      "\n",
      "The following object is masked from ‘package:ggplot2’:\n",
      "\n",
      "    last_plot\n",
      "\n",
      "\n",
      "The following object is masked from ‘package:stats’:\n",
      "\n",
      "    filter\n",
      "\n",
      "\n",
      "The following object is masked from ‘package:graphics’:\n",
      "\n",
      "    layout\n",
      "\n",
      "\n",
      "\n",
      "Attaching package: ‘huxtable’\n",
      "\n",
      "\n",
      "The following object is masked from ‘package:dplyr’:\n",
      "\n",
      "    add_rownames\n",
      "\n",
      "\n",
      "The following object is masked from ‘package:ggplot2’:\n",
      "\n",
      "    theme_grey\n",
      "\n",
      "\n",
      "Loading required package: sysfonts\n",
      "\n",
      "Loading required package: showtextdb\n",
      "\n"
     ]
    },
    {
     "name": "stdout",
     "output_type": "stream",
     "text": [
      "[1] \"Installed required packages\"\n"
     ]
    }
   ],
   "source": [
    "install.packages(c('WDI','owidR','plotly','showtext','huxtable','jtools'))\n",
    "\n",
    "library('WDI')\n",
    "library('owidR')\n",
    "library('ggplot2')\n",
    "library('dplyr')\n",
    "library('plotly')\n",
    "library('huxtable')\n",
    "library('tidyr')\n",
    "library('showtext')\n",
    "library('jtools')\n",
    "library('plotly')\n",
    "print('Installed required packages')\n",
    "\n",
    "# We set a seed to make sure we get the results if we run the code again, in case we generate random variables...\n",
    "set.seed(\"1234\")"
   ]
  },
  {
   "cell_type": "markdown",
   "id": "f764b5db",
   "metadata": {},
   "source": [
    "We first download some data from the World Development Indicators (https://data.worldbank.org/). We can track down the data online and then download it using the official codes provided by the World Bank. We can filter by country and years, have a look at the data, etc."
   ]
  },
  {
   "cell_type": "code",
   "execution_count": 4,
   "id": "490785fc",
   "metadata": {},
   "outputs": [
    {
     "data": {
      "text/html": [
       "<style>\n",
       ".list-inline {list-style: none; margin:0; padding: 0}\n",
       ".list-inline>li {display: inline-block}\n",
       ".list-inline>li:not(:last-child)::after {content: \"\\00b7\"; padding: 0 .5ex}\n",
       "</style>\n",
       "<ol class=list-inline><li>'iso2c'</li><li>'country'</li><li>'year'</li><li>'status'</li><li>'lastupdated'</li><li>'oda_per_cap'</li><li>'perc_below_pov_line'</li><li>'gdp_per_cap_ppp'</li><li>'gdp_per_cap'</li><li>'iso3c'</li><li>'region'</li><li>'capital'</li><li>'longitude'</li><li>'latitude'</li><li>'income'</li><li>'lending'</li></ol>\n"
      ],
      "text/latex": [
       "\\begin{enumerate*}\n",
       "\\item 'iso2c'\n",
       "\\item 'country'\n",
       "\\item 'year'\n",
       "\\item 'status'\n",
       "\\item 'lastupdated'\n",
       "\\item 'oda\\_per\\_cap'\n",
       "\\item 'perc\\_below\\_pov\\_line'\n",
       "\\item 'gdp\\_per\\_cap\\_ppp'\n",
       "\\item 'gdp\\_per\\_cap'\n",
       "\\item 'iso3c'\n",
       "\\item 'region'\n",
       "\\item 'capital'\n",
       "\\item 'longitude'\n",
       "\\item 'latitude'\n",
       "\\item 'income'\n",
       "\\item 'lending'\n",
       "\\end{enumerate*}\n"
      ],
      "text/markdown": [
       "1. 'iso2c'\n",
       "2. 'country'\n",
       "3. 'year'\n",
       "4. 'status'\n",
       "5. 'lastupdated'\n",
       "6. 'oda_per_cap'\n",
       "7. 'perc_below_pov_line'\n",
       "8. 'gdp_per_cap_ppp'\n",
       "9. 'gdp_per_cap'\n",
       "10. 'iso3c'\n",
       "11. 'region'\n",
       "12. 'capital'\n",
       "13. 'longitude'\n",
       "14. 'latitude'\n",
       "15. 'income'\n",
       "16. 'lending'\n",
       "\n",
       "\n"
      ],
      "text/plain": [
       " [1] \"iso2c\"               \"country\"             \"year\"               \n",
       " [4] \"status\"              \"lastupdated\"         \"oda_per_cap\"        \n",
       " [7] \"perc_below_pov_line\" \"gdp_per_cap_ppp\"     \"gdp_per_cap\"        \n",
       "[10] \"iso3c\"               \"region\"              \"capital\"            \n",
       "[13] \"longitude\"           \"latitude\"            \"income\"             \n",
       "[16] \"lending\"            "
      ]
     },
     "metadata": {},
     "output_type": "display_data"
    },
    {
     "ename": "ERROR",
     "evalue": "Error in hist.default(dataset$gdp_pc_ppp[dataset$year == 2018]): 'x' must be numeric\n",
     "output_type": "error",
     "traceback": [
      "Error in hist.default(dataset$gdp_pc_ppp[dataset$year == 2018]): 'x' must be numeric\nTraceback:\n",
      "1. hist(dataset$gdp_pc_ppp[dataset$year == 2018])",
      "2. hist.default(dataset$gdp_pc_ppp[dataset$year == 2018])",
      "3. stop(\"'x' must be numeric\")"
     ]
    }
   ],
   "source": [
    "dataset = WDI(indicator=c(oda_per_cap='DT.ODA.ODAT.PC.ZS',\n",
    "                           perc_below_pov_line='SI.POV.DDAY',\n",
    "                           gdp_per_cap_ppp='NY.GDP.PCAP.PP.CD',\n",
    "                           gdp_per_cap='NY.GDP.PCAP.CD'),\n",
    "               country=\"all\",\n",
    "               start=1960,\n",
    "               end=2022,\n",
    "               extra=TRUE)\n",
    "\n",
    "colnames(dataset)\n"
   ]
  },
  {
   "cell_type": "code",
   "execution_count": 10,
   "id": "59deef80",
   "metadata": {},
   "outputs": [
    {
     "data": {
      "text/html": [
       "<table class=\"dataframe\">\n",
       "<caption>A data.frame: 6 × 16</caption>\n",
       "<thead>\n",
       "\t<tr><th></th><th scope=col>iso2c</th><th scope=col>country</th><th scope=col>year</th><th scope=col>status</th><th scope=col>lastupdated</th><th scope=col>oda_per_cap</th><th scope=col>perc_below_pov_line</th><th scope=col>gdp_per_cap_ppp</th><th scope=col>gdp_per_cap</th><th scope=col>iso3c</th><th scope=col>region</th><th scope=col>capital</th><th scope=col>longitude</th><th scope=col>latitude</th><th scope=col>income</th><th scope=col>lending</th></tr>\n",
       "\t<tr><th></th><th scope=col>&lt;chr&gt;</th><th scope=col>&lt;chr&gt;</th><th scope=col>&lt;int&gt;</th><th scope=col>&lt;chr&gt;</th><th scope=col>&lt;chr&gt;</th><th scope=col>&lt;dbl&gt;</th><th scope=col>&lt;dbl&gt;</th><th scope=col>&lt;dbl&gt;</th><th scope=col>&lt;dbl&gt;</th><th scope=col>&lt;chr&gt;</th><th scope=col>&lt;chr&gt;</th><th scope=col>&lt;chr&gt;</th><th scope=col>&lt;chr&gt;</th><th scope=col>&lt;chr&gt;</th><th scope=col>&lt;chr&gt;</th><th scope=col>&lt;chr&gt;</th></tr>\n",
       "</thead>\n",
       "<tbody>\n",
       "\t<tr><th scope=row>437</th><td>AF</td><td>Afghanistan</td><td>1960</td><td></td><td>2022-09-16</td><td>1.909532</td><td>NA</td><td>NA</td><td> 59.77323</td><td>AFG</td><td>South Asia</td><td>Kabul</td><td>69.1761</td><td>34.5228</td><td>Low income</td><td>IDA</td></tr>\n",
       "\t<tr><th scope=row>446</th><td>AF</td><td>Afghanistan</td><td>1961</td><td></td><td>2022-09-16</td><td>3.781052</td><td>NA</td><td>NA</td><td> 59.86090</td><td>AFG</td><td>South Asia</td><td>Kabul</td><td>69.1761</td><td>34.5228</td><td>Low income</td><td>IDA</td></tr>\n",
       "\t<tr><th scope=row>447</th><td>AF</td><td>Afghanistan</td><td>1962</td><td></td><td>2022-09-16</td><td>1.810416</td><td>NA</td><td>NA</td><td> 58.45801</td><td>AFG</td><td>South Asia</td><td>Kabul</td><td>69.1761</td><td>34.5228</td><td>Low income</td><td>IDA</td></tr>\n",
       "\t<tr><th scope=row>448</th><td>AF</td><td>Afghanistan</td><td>1963</td><td></td><td>2022-09-16</td><td>3.842526</td><td>NA</td><td>NA</td><td> 78.70643</td><td>AFG</td><td>South Asia</td><td>Kabul</td><td>69.1761</td><td>34.5228</td><td>Low income</td><td>IDA</td></tr>\n",
       "\t<tr><th scope=row>449</th><td>AF</td><td>Afghanistan</td><td>1964</td><td></td><td>2022-09-16</td><td>4.737925</td><td>NA</td><td>NA</td><td> 82.09531</td><td>AFG</td><td>South Asia</td><td>Kabul</td><td>69.1761</td><td>34.5228</td><td>Low income</td><td>IDA</td></tr>\n",
       "\t<tr><th scope=row>450</th><td>AF</td><td>Afghanistan</td><td>1965</td><td></td><td>2022-09-16</td><td>5.416661</td><td>NA</td><td>NA</td><td>101.10833</td><td>AFG</td><td>South Asia</td><td>Kabul</td><td>69.1761</td><td>34.5228</td><td>Low income</td><td>IDA</td></tr>\n",
       "</tbody>\n",
       "</table>\n"
      ],
      "text/latex": [
       "A data.frame: 6 × 16\n",
       "\\begin{tabular}{r|llllllllllllllll}\n",
       "  & iso2c & country & year & status & lastupdated & oda\\_per\\_cap & perc\\_below\\_pov\\_line & gdp\\_per\\_cap\\_ppp & gdp\\_per\\_cap & iso3c & region & capital & longitude & latitude & income & lending\\\\\n",
       "  & <chr> & <chr> & <int> & <chr> & <chr> & <dbl> & <dbl> & <dbl> & <dbl> & <chr> & <chr> & <chr> & <chr> & <chr> & <chr> & <chr>\\\\\n",
       "\\hline\n",
       "\t437 & AF & Afghanistan & 1960 &  & 2022-09-16 & 1.909532 & NA & NA &  59.77323 & AFG & South Asia & Kabul & 69.1761 & 34.5228 & Low income & IDA\\\\\n",
       "\t446 & AF & Afghanistan & 1961 &  & 2022-09-16 & 3.781052 & NA & NA &  59.86090 & AFG & South Asia & Kabul & 69.1761 & 34.5228 & Low income & IDA\\\\\n",
       "\t447 & AF & Afghanistan & 1962 &  & 2022-09-16 & 1.810416 & NA & NA &  58.45801 & AFG & South Asia & Kabul & 69.1761 & 34.5228 & Low income & IDA\\\\\n",
       "\t448 & AF & Afghanistan & 1963 &  & 2022-09-16 & 3.842526 & NA & NA &  78.70643 & AFG & South Asia & Kabul & 69.1761 & 34.5228 & Low income & IDA\\\\\n",
       "\t449 & AF & Afghanistan & 1964 &  & 2022-09-16 & 4.737925 & NA & NA &  82.09531 & AFG & South Asia & Kabul & 69.1761 & 34.5228 & Low income & IDA\\\\\n",
       "\t450 & AF & Afghanistan & 1965 &  & 2022-09-16 & 5.416661 & NA & NA & 101.10833 & AFG & South Asia & Kabul & 69.1761 & 34.5228 & Low income & IDA\\\\\n",
       "\\end{tabular}\n"
      ],
      "text/markdown": [
       "\n",
       "A data.frame: 6 × 16\n",
       "\n",
       "| <!--/--> | iso2c &lt;chr&gt; | country &lt;chr&gt; | year &lt;int&gt; | status &lt;chr&gt; | lastupdated &lt;chr&gt; | oda_per_cap &lt;dbl&gt; | perc_below_pov_line &lt;dbl&gt; | gdp_per_cap_ppp &lt;dbl&gt; | gdp_per_cap &lt;dbl&gt; | iso3c &lt;chr&gt; | region &lt;chr&gt; | capital &lt;chr&gt; | longitude &lt;chr&gt; | latitude &lt;chr&gt; | income &lt;chr&gt; | lending &lt;chr&gt; |\n",
       "|---|---|---|---|---|---|---|---|---|---|---|---|---|---|---|---|---|\n",
       "| 437 | AF | Afghanistan | 1960 | <!----> | 2022-09-16 | 1.909532 | NA | NA |  59.77323 | AFG | South Asia | Kabul | 69.1761 | 34.5228 | Low income | IDA |\n",
       "| 446 | AF | Afghanistan | 1961 | <!----> | 2022-09-16 | 3.781052 | NA | NA |  59.86090 | AFG | South Asia | Kabul | 69.1761 | 34.5228 | Low income | IDA |\n",
       "| 447 | AF | Afghanistan | 1962 | <!----> | 2022-09-16 | 1.810416 | NA | NA |  58.45801 | AFG | South Asia | Kabul | 69.1761 | 34.5228 | Low income | IDA |\n",
       "| 448 | AF | Afghanistan | 1963 | <!----> | 2022-09-16 | 3.842526 | NA | NA |  78.70643 | AFG | South Asia | Kabul | 69.1761 | 34.5228 | Low income | IDA |\n",
       "| 449 | AF | Afghanistan | 1964 | <!----> | 2022-09-16 | 4.737925 | NA | NA |  82.09531 | AFG | South Asia | Kabul | 69.1761 | 34.5228 | Low income | IDA |\n",
       "| 450 | AF | Afghanistan | 1965 | <!----> | 2022-09-16 | 5.416661 | NA | NA | 101.10833 | AFG | South Asia | Kabul | 69.1761 | 34.5228 | Low income | IDA |\n",
       "\n"
      ],
      "text/plain": [
       "    iso2c country     year status lastupdated oda_per_cap perc_below_pov_line\n",
       "437 AF    Afghanistan 1960        2022-09-16  1.909532    NA                 \n",
       "446 AF    Afghanistan 1961        2022-09-16  3.781052    NA                 \n",
       "447 AF    Afghanistan 1962        2022-09-16  1.810416    NA                 \n",
       "448 AF    Afghanistan 1963        2022-09-16  3.842526    NA                 \n",
       "449 AF    Afghanistan 1964        2022-09-16  4.737925    NA                 \n",
       "450 AF    Afghanistan 1965        2022-09-16  5.416661    NA                 \n",
       "    gdp_per_cap_ppp gdp_per_cap iso3c region     capital longitude latitude\n",
       "437 NA               59.77323   AFG   South Asia Kabul   69.1761   34.5228 \n",
       "446 NA               59.86090   AFG   South Asia Kabul   69.1761   34.5228 \n",
       "447 NA               58.45801   AFG   South Asia Kabul   69.1761   34.5228 \n",
       "448 NA               78.70643   AFG   South Asia Kabul   69.1761   34.5228 \n",
       "449 NA               82.09531   AFG   South Asia Kabul   69.1761   34.5228 \n",
       "450 NA              101.10833   AFG   South Asia Kabul   69.1761   34.5228 \n",
       "    income     lending\n",
       "437 Low income IDA    \n",
       "446 Low income IDA    \n",
       "447 Low income IDA    \n",
       "448 Low income IDA    \n",
       "449 Low income IDA    \n",
       "450 Low income IDA    "
      ]
     },
     "metadata": {},
     "output_type": "display_data"
    },
    {
     "data": {
      "text/plain": [
       "    Min.  1st Qu.   Median     Mean  3rd Qu.     Max.     NA's \n",
       "   285.3   2947.8   7692.0  14597.4  19250.6 153563.9     9023 "
      ]
     },
     "metadata": {},
     "output_type": "display_data"
    },
    {
     "data": {
      "image/png": "[encoded data removed]",
      "text/plain": [
       "Plot with title “Histogram of dataset$gdp_per_cap_ppp[dataset$year == 2018]”"
      ]
     },
     "metadata": {
      "image/png": {
       "height": 420,
       "width": 420
      }
     },
     "output_type": "display_data"
    },
    {
     "data": {
      "image/png": "[encoded data removed]",
      "text/plain": [
       "Plot with title “Histogram of dataset$oda_per_cap[dataset$year == 2018]”"
      ]
     },
     "metadata": {
      "image/png": {
       "height": 420,
       "width": 420
      }
     },
     "output_type": "display_data"
    }
   ],
   "source": [
    "head(dataset)\n",
    "dataset = dataset[order(dataset$country, dataset$year),]\n",
    "summary(dataset$gdp_per_cap_ppp)\n",
    "\n",
    "\n",
    "hist(dataset$gdp_per_cap_ppp[dataset$year==2018])\n",
    "hist(dataset$oda_per_cap[dataset$year==2018])\n",
    "\n"
   ]
  },
  {
   "cell_type": "markdown",
   "id": "7e2fe67c",
   "metadata": {},
   "source": [
    "Some of the data have missing values in some years. Today, we will solve this pragmatically by just using the previous years' values if an observation is missing. We have to do this _grouped by country_.\n"
   ]
  },
  {
   "cell_type": "code",
   "execution_count": 11,
   "id": "e88c2c1d",
   "metadata": {},
   "outputs": [],
   "source": [
    "dataset = dataset %>% \n",
    "  group_by(iso3c) %>%\n",
    "      fill(perc_below_pov_line, .direction = \"down\")\n",
    "\n",
    "dataset = dataset %>% \n",
    "  group_by(iso3c) %>%\n",
    "  fill(oda_per_cap, .direction = \"down\")\n",
    "\n",
    "dataset = dataset %>% \n",
    "  group_by(iso3c) %>%\n",
    "  fill(gdp_per_cap_ppp, .direction = \"down\")"
   ]
  },
  {
   "cell_type": "markdown",
   "id": "56342af4",
   "metadata": {},
   "source": [
    "We are interested in whether the effect of international aid (ODA - official development assistance) is different in countries with democracies vs. in non-democratic countries. For this we need data on demcracy. We will also get data from schooling for some later analysis. We can get this from https://ourworldindata.org/. \n",
    "\n",
    "We can first search for terms using the search engine in the package. Next, we can read in the data, rename it, and filter by years (and countries, if we want to)."
   ]
  },
  {
   "cell_type": "code",
   "execution_count": null,
   "id": "126d7c39",
   "metadata": {},
   "outputs": [],
   "source": [
    "owid_search(\"democracy\")\n",
    "\n",
    "democracy <- owid(\"democracy-polity\",\n",
    "                  rename = \"democracy\") %>% \n",
    "  filter(year %in% 1960:2018)\n",
    "\n",
    "\n",
    "owid_search(\"schooling\")\n",
    "yos <- owid(\"mean-years-of-schooling-long-run\",\n",
    "                  rename = \"years_of_schooling\") %>% \n",
    "  filter(year %in% 1960:2018)\n"
   ]
  },
  {
   "cell_type": "markdown",
   "id": "cac2d357",
   "metadata": {},
   "source": [
    "The next thing we want to do is to combine these two datasets. We can do this by a process called **merging** the data. We need to have at least one column of data that have the same identifier (for example, survey ID number, country name, year, etc.). We merge with the command `join` and we can do a `right_join` in this case because we want complete observations in the democracy data."
   ]
  },
  {
   "cell_type": "code",
   "execution_count": 13,
   "id": "a3e68a3e",
   "metadata": {},
   "outputs": [
    {
     "name": "stderr",
     "output_type": "stream",
     "text": [
      "\u001b[1m\u001b[22mJoining, by = c(\"country\", \"year\", \"iso3c\")\n",
      "\u001b[1m\u001b[22mJoining, by = c(\"country\", \"year\", \"iso3c\", \"entity\", \"code\")\n"
     ]
    }
   ],
   "source": [
    "\n",
    "democracy$country = democracy$entity\n",
    "democracy$iso3c = democracy$code \n",
    "\n",
    "yos$country = yos$entity\n",
    "yos$iso3c = yos$code\n",
    "\n",
    "dataset_panel <- dataset %>% \n",
    "  right_join(democracy)\n",
    "\n",
    "dataset_panel <- dataset_panel %>% \n",
    "  left_join(yos)\n"
   ]
  },
  {
   "cell_type": "markdown",
   "id": "f82266be",
   "metadata": {},
   "source": [
    "Next, we have to do some data cleaning and generate some additional variables. I will largely skip over this. (Note: The main problem is that we now have a _panel_ (countryXyear)( dataset, which we haven't talked about in class yet. I will convert this into a _cross-sectional_ dataset, which only has one observation (year) per unit (country) of analysis. We will talk about the exciting world of panel datasets later in class!)"
   ]
  },
  {
   "cell_type": "code",
   "execution_count": 15,
   "id": "8851ba8f",
   "metadata": {},
   "outputs": [
    {
     "data": {
      "text/html": [
       "<table class=\"dataframe\">\n",
       "<caption>A grouped_df: 6 × 20</caption>\n",
       "<thead>\n",
       "\t<tr><th scope=col>iso2c</th><th scope=col>country</th><th scope=col>year</th><th scope=col>status</th><th scope=col>lastupdated</th><th scope=col>oda_per_cap</th><th scope=col>perc_below_pov_line</th><th scope=col>gdp_per_cap_ppp</th><th scope=col>gdp_per_cap</th><th scope=col>iso3c</th><th scope=col>region</th><th scope=col>capital</th><th scope=col>longitude</th><th scope=col>latitude</th><th scope=col>income</th><th scope=col>lending</th><th scope=col>entity</th><th scope=col>code</th><th scope=col>democracy</th><th scope=col>years_of_schooling</th></tr>\n",
       "\t<tr><th scope=col>&lt;chr&gt;</th><th scope=col>&lt;chr&gt;</th><th scope=col>&lt;int&gt;</th><th scope=col>&lt;chr&gt;</th><th scope=col>&lt;chr&gt;</th><th scope=col>&lt;dbl&gt;</th><th scope=col>&lt;dbl&gt;</th><th scope=col>&lt;dbl&gt;</th><th scope=col>&lt;dbl&gt;</th><th scope=col>&lt;chr&gt;</th><th scope=col>&lt;chr&gt;</th><th scope=col>&lt;chr&gt;</th><th scope=col>&lt;chr&gt;</th><th scope=col>&lt;chr&gt;</th><th scope=col>&lt;chr&gt;</th><th scope=col>&lt;chr&gt;</th><th scope=col>&lt;chr&gt;</th><th scope=col>&lt;chr&gt;</th><th scope=col>&lt;dbl&gt;</th><th scope=col>&lt;dbl&gt;</th></tr>\n",
       "</thead>\n",
       "<tbody>\n",
       "\t<tr><td>AF</td><td>Afghanistan</td><td>1960</td><td></td><td>2022-09-16</td><td>1.909532</td><td>NA</td><td>NA</td><td> 59.77323</td><td>AFG</td><td>South Asia</td><td>Kabul</td><td>69.1761</td><td>34.5228</td><td>Low income</td><td>IDA</td><td>Afghanistan</td><td>AFG</td><td>0.00</td><td>0.22</td></tr>\n",
       "\t<tr><td>AF</td><td>Afghanistan</td><td>1961</td><td></td><td>2022-09-16</td><td>3.781052</td><td>NA</td><td>NA</td><td> 59.86090</td><td>AFG</td><td>South Asia</td><td>Kabul</td><td>69.1761</td><td>34.5228</td><td>Low income</td><td>IDA</td><td>Afghanistan</td><td>AFG</td><td>0.00</td><td>  NA</td></tr>\n",
       "\t<tr><td>AF</td><td>Afghanistan</td><td>1962</td><td></td><td>2022-09-16</td><td>1.810416</td><td>NA</td><td>NA</td><td> 58.45801</td><td>AFG</td><td>South Asia</td><td>Kabul</td><td>69.1761</td><td>34.5228</td><td>Low income</td><td>IDA</td><td>Afghanistan</td><td>AFG</td><td>0.00</td><td>  NA</td></tr>\n",
       "\t<tr><td>AF</td><td>Afghanistan</td><td>1963</td><td></td><td>2022-09-16</td><td>3.842526</td><td>NA</td><td>NA</td><td> 78.70643</td><td>AFG</td><td>South Asia</td><td>Kabul</td><td>69.1761</td><td>34.5228</td><td>Low income</td><td>IDA</td><td>Afghanistan</td><td>AFG</td><td>0.00</td><td>  NA</td></tr>\n",
       "\t<tr><td>AF</td><td>Afghanistan</td><td>1964</td><td></td><td>2022-09-16</td><td>4.737925</td><td>NA</td><td>NA</td><td> 82.09531</td><td>AFG</td><td>South Asia</td><td>Kabul</td><td>69.1761</td><td>34.5228</td><td>Low income</td><td>IDA</td><td>Afghanistan</td><td>AFG</td><td>0.15</td><td>  NA</td></tr>\n",
       "\t<tr><td>AF</td><td>Afghanistan</td><td>1965</td><td></td><td>2022-09-16</td><td>5.416661</td><td>NA</td><td>NA</td><td>101.10833</td><td>AFG</td><td>South Asia</td><td>Kabul</td><td>69.1761</td><td>34.5228</td><td>Low income</td><td>IDA</td><td>Afghanistan</td><td>AFG</td><td>0.15</td><td>0.29</td></tr>\n",
       "</tbody>\n",
       "</table>\n"
      ],
      "text/latex": [
       "A grouped\\_df: 6 × 20\n",
       "\\begin{tabular}{llllllllllllllllllll}\n",
       " iso2c & country & year & status & lastupdated & oda\\_per\\_cap & perc\\_below\\_pov\\_line & gdp\\_per\\_cap\\_ppp & gdp\\_per\\_cap & iso3c & region & capital & longitude & latitude & income & lending & entity & code & democracy & years\\_of\\_schooling\\\\\n",
       " <chr> & <chr> & <int> & <chr> & <chr> & <dbl> & <dbl> & <dbl> & <dbl> & <chr> & <chr> & <chr> & <chr> & <chr> & <chr> & <chr> & <chr> & <chr> & <dbl> & <dbl>\\\\\n",
       "\\hline\n",
       "\t AF & Afghanistan & 1960 &  & 2022-09-16 & 1.909532 & NA & NA &  59.77323 & AFG & South Asia & Kabul & 69.1761 & 34.5228 & Low income & IDA & Afghanistan & AFG & 0.00 & 0.22\\\\\n",
       "\t AF & Afghanistan & 1961 &  & 2022-09-16 & 3.781052 & NA & NA &  59.86090 & AFG & South Asia & Kabul & 69.1761 & 34.5228 & Low income & IDA & Afghanistan & AFG & 0.00 &   NA\\\\\n",
       "\t AF & Afghanistan & 1962 &  & 2022-09-16 & 1.810416 & NA & NA &  58.45801 & AFG & South Asia & Kabul & 69.1761 & 34.5228 & Low income & IDA & Afghanistan & AFG & 0.00 &   NA\\\\\n",
       "\t AF & Afghanistan & 1963 &  & 2022-09-16 & 3.842526 & NA & NA &  78.70643 & AFG & South Asia & Kabul & 69.1761 & 34.5228 & Low income & IDA & Afghanistan & AFG & 0.00 &   NA\\\\\n",
       "\t AF & Afghanistan & 1964 &  & 2022-09-16 & 4.737925 & NA & NA &  82.09531 & AFG & South Asia & Kabul & 69.1761 & 34.5228 & Low income & IDA & Afghanistan & AFG & 0.15 &   NA\\\\\n",
       "\t AF & Afghanistan & 1965 &  & 2022-09-16 & 5.416661 & NA & NA & 101.10833 & AFG & South Asia & Kabul & 69.1761 & 34.5228 & Low income & IDA & Afghanistan & AFG & 0.15 & 0.29\\\\\n",
       "\\end{tabular}\n"
      ],
      "text/markdown": [
       "\n",
       "A grouped_df: 6 × 20\n",
       "\n",
       "| iso2c &lt;chr&gt; | country &lt;chr&gt; | year &lt;int&gt; | status &lt;chr&gt; | lastupdated &lt;chr&gt; | oda_per_cap &lt;dbl&gt; | perc_below_pov_line &lt;dbl&gt; | gdp_per_cap_ppp &lt;dbl&gt; | gdp_per_cap &lt;dbl&gt; | iso3c &lt;chr&gt; | region &lt;chr&gt; | capital &lt;chr&gt; | longitude &lt;chr&gt; | latitude &lt;chr&gt; | income &lt;chr&gt; | lending &lt;chr&gt; | entity &lt;chr&gt; | code &lt;chr&gt; | democracy &lt;dbl&gt; | years_of_schooling &lt;dbl&gt; |\n",
       "|---|---|---|---|---|---|---|---|---|---|---|---|---|---|---|---|---|---|---|---|\n",
       "| AF | Afghanistan | 1960 | <!----> | 2022-09-16 | 1.909532 | NA | NA |  59.77323 | AFG | South Asia | Kabul | 69.1761 | 34.5228 | Low income | IDA | Afghanistan | AFG | 0.00 | 0.22 |\n",
       "| AF | Afghanistan | 1961 | <!----> | 2022-09-16 | 3.781052 | NA | NA |  59.86090 | AFG | South Asia | Kabul | 69.1761 | 34.5228 | Low income | IDA | Afghanistan | AFG | 0.00 |   NA |\n",
       "| AF | Afghanistan | 1962 | <!----> | 2022-09-16 | 1.810416 | NA | NA |  58.45801 | AFG | South Asia | Kabul | 69.1761 | 34.5228 | Low income | IDA | Afghanistan | AFG | 0.00 |   NA |\n",
       "| AF | Afghanistan | 1963 | <!----> | 2022-09-16 | 3.842526 | NA | NA |  78.70643 | AFG | South Asia | Kabul | 69.1761 | 34.5228 | Low income | IDA | Afghanistan | AFG | 0.00 |   NA |\n",
       "| AF | Afghanistan | 1964 | <!----> | 2022-09-16 | 4.737925 | NA | NA |  82.09531 | AFG | South Asia | Kabul | 69.1761 | 34.5228 | Low income | IDA | Afghanistan | AFG | 0.15 |   NA |\n",
       "| AF | Afghanistan | 1965 | <!----> | 2022-09-16 | 5.416661 | NA | NA | 101.10833 | AFG | South Asia | Kabul | 69.1761 | 34.5228 | Low income | IDA | Afghanistan | AFG | 0.15 | 0.29 |\n",
       "\n"
      ],
      "text/plain": [
       "  iso2c country     year status lastupdated oda_per_cap perc_below_pov_line\n",
       "1 AF    Afghanistan 1960        2022-09-16  1.909532    NA                 \n",
       "2 AF    Afghanistan 1961        2022-09-16  3.781052    NA                 \n",
       "3 AF    Afghanistan 1962        2022-09-16  1.810416    NA                 \n",
       "4 AF    Afghanistan 1963        2022-09-16  3.842526    NA                 \n",
       "5 AF    Afghanistan 1964        2022-09-16  4.737925    NA                 \n",
       "6 AF    Afghanistan 1965        2022-09-16  5.416661    NA                 \n",
       "  gdp_per_cap_ppp gdp_per_cap iso3c region     capital longitude latitude\n",
       "1 NA               59.77323   AFG   South Asia Kabul   69.1761   34.5228 \n",
       "2 NA               59.86090   AFG   South Asia Kabul   69.1761   34.5228 \n",
       "3 NA               58.45801   AFG   South Asia Kabul   69.1761   34.5228 \n",
       "4 NA               78.70643   AFG   South Asia Kabul   69.1761   34.5228 \n",
       "5 NA               82.09531   AFG   South Asia Kabul   69.1761   34.5228 \n",
       "6 NA              101.10833   AFG   South Asia Kabul   69.1761   34.5228 \n",
       "  income     lending entity      code democracy years_of_schooling\n",
       "1 Low income IDA     Afghanistan AFG  0.00      0.22              \n",
       "2 Low income IDA     Afghanistan AFG  0.00        NA              \n",
       "3 Low income IDA     Afghanistan AFG  0.00        NA              \n",
       "4 Low income IDA     Afghanistan AFG  0.00        NA              \n",
       "5 Low income IDA     Afghanistan AFG  0.15        NA              \n",
       "6 Low income IDA     Afghanistan AFG  0.15      0.29              "
      ]
     },
     "metadata": {},
     "output_type": "display_data"
    },
    {
     "name": "stderr",
     "output_type": "stream",
     "text": [
      "\u001b[1m\u001b[22mJoining, by = \"iso3c\"\n",
      "\u001b[1m\u001b[22mJoining, by = \"iso3c\"\n",
      "\u001b[1m\u001b[22mJoining, by = \"iso3c\"\n",
      "\u001b[1m\u001b[22mJoining, by = \"iso3c\"\n",
      "\u001b[1m\u001b[22mJoining, by = \"iso3c\"\n",
      "\u001b[1m\u001b[22mJoining, by = \"iso3c\"\n"
     ]
    }
   ],
   "source": [
    "head(dataset_panel)\n",
    "\n",
    "# Normalize democracy scores\n",
    "dataset_panel$democracy = (dataset_panel$democracy+10)/20\n",
    "\n",
    "# Generate cross-sectional data\n",
    "dataset_cs = dataset_panel %>%\n",
    "  filter(year==2016)\n",
    "\n",
    "# Make year averages\n",
    "data_pov90s = dataset_panel %>%\n",
    "  filter(year %in% 1970:1990) %>%\n",
    "  group_by(iso3c) %>%\n",
    "  dplyr::summarize(pov_1990s = mean(perc_below_pov_line, na.rm=TRUE))\n",
    "\n",
    "data_pov10s = dataset_panel %>%\n",
    "  filter(year %in% 2010:2020) %>%\n",
    "  group_by(iso3c) %>%\n",
    "  dplyr::summarize(pov_2010s = mean(perc_below_pov_line, na.rm=TRUE))\n",
    "\n",
    "data_aid9010 = dataset_panel %>%\n",
    "  filter(year %in% 1990:2010) %>%\n",
    "  group_by(iso3c) %>%\n",
    "  dplyr::summarize(aid_9010 = mean(oda_per_cap, na.rm=TRUE))\n",
    "\n",
    "data_aid1015 = dataset_panel %>%\n",
    "  filter(year %in% 2010:2015) %>%\n",
    "  group_by(iso3c) %>%\n",
    "  dplyr::summarize(aid_1015 = mean(oda_per_cap, na.rm=TRUE))\n",
    "\n",
    "\n",
    "data_dem9010 = dataset_panel %>%\n",
    "  filter(year %in% 1990:2010) %>%\n",
    "  group_by(iso3c) %>%\n",
    "  dplyr::summarize(dem9010 = mean(democracy, na.rm=TRUE))\n",
    "\n",
    "\n",
    "data_gdp1970= dataset_panel %>%\n",
    "  filter(year %in% 1970) %>%\n",
    "  group_by(iso3c) %>%\n",
    "  dplyr::summarize(gdp1970 = mean(gdp_per_cap, na.rm=TRUE))\n",
    "\n",
    "\n",
    "# Merge in year-averages\n",
    "dataset_cs = dataset_cs %>% \n",
    "  left_join(data_pov90s)\n",
    "\n",
    "dataset_cs = dataset_cs %>% \n",
    "  left_join(data_pov10s)\n",
    "\n",
    "dataset_cs = dataset_cs %>% \n",
    "  left_join(data_aid9010)\n",
    "\n",
    "dataset_cs = dataset_cs %>% \n",
    "  left_join(data_dem9010)\n",
    "\n",
    "dataset_cs = dataset_cs %>% \n",
    "  left_join(data_gdp1970)\n",
    "\n",
    "dataset_cs = dataset_cs %>% \n",
    "  left_join(data_aid1015)\n",
    "\n",
    "# Generate happiness variable\n",
    "dataset_cs$happiness = dataset_cs$gdp_per_cap_ppp + rnorm(nrow(dataset_cs),0,1000)\n"
   ]
  },
  {
   "cell_type": "markdown",
   "id": "988149f3",
   "metadata": {},
   "source": [
    "## Analysis: Analyzing interaction terms\n",
    "Last week, I gave a hint that we will talk about interaction terms. Interaction terms can help us to understand questions such as:\n",
    "* Does having a child have a **different effect** on wages for men and women?\n",
    "* Do children from different socio-economic backgrounds **respond differently** to free school meals?\n",
    "* Does development aid **work better** in democratic as opposed to non-democratic countries?\n",
    "\n",
    "We quickly analyze the math of this model on the blackboard.\n",
    "\n",
    "Let's run the regression!"
   ]
  },
  {
   "cell_type": "code",
   "execution_count": 23,
   "id": "724adace",
   "metadata": {},
   "outputs": [
    {
     "data": {
      "text/plain": [
       "\n",
       "Call:\n",
       "lm(formula = pov_2010s ~ pov_1990s + aid_9010 + dem9010, data = dataset_cs)\n",
       "\n",
       "Residuals:\n",
       "    Min      1Q  Median      3Q     Max \n",
       "-24.557  -6.029  -2.393   0.351  58.205 \n",
       "\n",
       "Coefficients:\n",
       "             Estimate Std. Error t value Pr(>|t|)    \n",
       "(Intercept) -48.54936  124.86619  -0.389 0.700074    \n",
       "pov_1990s     0.44900    0.11769   3.815 0.000609 ***\n",
       "aid_9010      0.02710    0.04524   0.599 0.553423    \n",
       "dem9010      89.17556  231.48495   0.385 0.702696    \n",
       "---\n",
       "Signif. codes:  0 ‘***’ 0.001 ‘**’ 0.01 ‘*’ 0.05 ‘.’ 0.1 ‘ ’ 1\n",
       "\n",
       "Residual standard error: 16.06 on 31 degrees of freedom\n",
       "  (138 observations deleted due to missingness)\n",
       "Multiple R-squared:  0.3263,\tAdjusted R-squared:  0.2611 \n",
       "F-statistic: 5.006 on 3 and 31 DF,  p-value: 0.006035\n"
      ]
     },
     "metadata": {},
     "output_type": "display_data"
    },
    {
     "data": {
      "text/plain": [
       "\n",
       "Call:\n",
       "lm(formula = pov_2010s ~ pov_1990s + aid_9010 + dem9010 + I(aid_9010 * \n",
       "    dem9010), data = dataset_cs)\n",
       "\n",
       "Residuals:\n",
       "    Min      1Q  Median      3Q     Max \n",
       "-21.642  -6.578  -2.510   0.934  58.074 \n",
       "\n",
       "Coefficients:\n",
       "                       Estimate Std. Error t value Pr(>|t|)    \n",
       "(Intercept)           -110.1740   175.9525  -0.626  0.53595    \n",
       "pov_1990s                0.4611     0.1215   3.794  0.00067 ***\n",
       "aid_9010                 1.6173     3.1589   0.512  0.61242    \n",
       "dem9010                202.8535   325.4113   0.623  0.53775    \n",
       "I(aid_9010 * dem9010)   -2.9569     5.8734  -0.503  0.61833    \n",
       "---\n",
       "Signif. codes:  0 ‘***’ 0.001 ‘**’ 0.01 ‘*’ 0.05 ‘.’ 0.1 ‘ ’ 1\n",
       "\n",
       "Residual standard error: 16.25 on 30 degrees of freedom\n",
       "  (138 observations deleted due to missingness)\n",
       "Multiple R-squared:  0.332,\tAdjusted R-squared:  0.2429 \n",
       "F-statistic: 3.727 on 4 and 30 DF,  p-value: 0.01408\n"
      ]
     },
     "metadata": {},
     "output_type": "display_data"
    },
    {
     "data": {
      "text/plain": [
       "\n",
       "Call:\n",
       "lm(formula = gdp_per_cap_ppp ~ pov_1990s + aid_9010 + dem9010, \n",
       "    data = dataset_cs)\n",
       "\n",
       "Residuals:\n",
       "    Min      1Q  Median      3Q     Max \n",
       "-9889.8 -4212.9  -731.3  3049.1 15632.0 \n",
       "\n",
       "Coefficients:\n",
       "             Estimate Std. Error t value Pr(>|t|)   \n",
       "(Intercept) -98083.75   50054.78  -1.960  0.05910 . \n",
       "pov_1990s     -170.44      47.18  -3.613  0.00106 **\n",
       "aid_9010        34.37      18.13   1.895  0.06738 . \n",
       "dem9010     213105.91   92794.76   2.297  0.02856 * \n",
       "---\n",
       "Signif. codes:  0 ‘***’ 0.001 ‘**’ 0.01 ‘*’ 0.05 ‘.’ 0.1 ‘ ’ 1\n",
       "\n",
       "Residual standard error: 6436 on 31 degrees of freedom\n",
       "  (138 observations deleted due to missingness)\n",
       "Multiple R-squared:  0.4931,\tAdjusted R-squared:  0.4441 \n",
       "F-statistic: 10.05 on 3 and 31 DF,  p-value: 8.77e-05\n"
      ]
     },
     "metadata": {},
     "output_type": "display_data"
    },
    {
     "data": {
      "text/plain": [
       "\n",
       "Call:\n",
       "lm(formula = gdp_per_cap_ppp ~ pov_1990s + aid_9010 + dem9010 + \n",
       "    I(aid_9010 * dem9010), data = dataset_cs)\n",
       "\n",
       "Residuals:\n",
       "     Min       1Q   Median       3Q      Max \n",
       "-10317.4  -3906.2   -207.2   3496.2  10720.6 \n",
       "\n",
       "Coefficients:\n",
       "                       Estimate Std. Error t value Pr(>|t|)    \n",
       "(Intercept)             5758.34   65378.24   0.088 0.930400    \n",
       "pov_1990s               -190.89      45.16  -4.227 0.000204 ***\n",
       "aid_9010               -2645.16    1173.73  -2.254 0.031684 *  \n",
       "dem9010                21549.99  120912.30   0.178 0.859742    \n",
       "I(aid_9010 * dem9010)   4982.67    2182.35   2.283 0.029675 *  \n",
       "---\n",
       "Signif. codes:  0 ‘***’ 0.001 ‘**’ 0.01 ‘*’ 0.05 ‘.’ 0.1 ‘ ’ 1\n",
       "\n",
       "Residual standard error: 6039 on 30 degrees of freedom\n",
       "  (138 observations deleted due to missingness)\n",
       "Multiple R-squared:  0.5682,\tAdjusted R-squared:  0.5106 \n",
       "F-statistic: 9.868 on 4 and 30 DF,  p-value: 3.223e-05\n"
      ]
     },
     "metadata": {},
     "output_type": "display_data"
    },
    {
     "data": {
      "text/html": [
       "<table class=\"dataframe\">\n",
       "<caption>A huxtable: 14 × 5</caption>\n",
       "<thead>\n",
       "\t<tr><th></th><th scope=col>names</th><th scope=col>Model 1</th><th scope=col>Model 2</th><th scope=col>Model 3</th><th scope=col>Model 4</th></tr>\n",
       "\t<tr><th></th><th scope=col>&lt;chr&gt;</th><th scope=col>&lt;chr&gt;</th><th scope=col>&lt;chr&gt;</th><th scope=col>&lt;chr&gt;</th><th scope=col>&lt;chr&gt;</th></tr>\n",
       "</thead>\n",
       "<tbody>\n",
       "\t<tr><th scope=row></th><td>                                          </td><td>Model 1                                   </td><td>Model 2                                   </td><td>Model 3                                   </td><td>Model 4                                   </td></tr>\n",
       "\t<tr><th scope=row>1</th><td>(Intercept)                               </td><td>-48.5493550591594                         </td><td>-110.173956969703                         </td><td>-98083.7509840379                         </td><td>5758.34395016852                          </td></tr>\n",
       "\t<tr><th scope=row>2</th><td>                                          </td><td>(124.866186099309)                        </td><td>(175.952484472509)                        </td><td>(50054.7797988006)                        </td><td>(65378.2351936685)                        </td></tr>\n",
       "\t<tr><th scope=row>3</th><td>pov_1990s                                 </td><td>0.449003445297354 ***                     </td><td>0.461139959245197 ***                     </td><td>-170.439486392024 **                      </td><td>-190.890426348954 ***                     </td></tr>\n",
       "\t<tr><th scope=row>4</th><td>                                          </td><td>(0.117688004242321)                       </td><td>(0.121545788104838)                       </td><td>(47.1772809063344)                        </td><td>(45.1624718192567)                        </td></tr>\n",
       "\t<tr><th scope=row>5</th><td>aid_9010                                  </td><td>0.0271043531973337                        </td><td>1.61726254199136                          </td><td>34.3734403041819                          </td><td>-2645.16285659322 *                       </td></tr>\n",
       "\t<tr><th scope=row>6</th><td>                                          </td><td>(0.0452375495391137)                      </td><td>(3.1588632761914)                         </td><td>(18.1342575724767)                        </td><td>(1173.73111743558)                        </td></tr>\n",
       "\t<tr><th scope=row>7</th><td>dem9010                                   </td><td>89.1755599130882                          </td><td>202.853517651617                          </td><td>213105.912540088 *                        </td><td>21549.9930950116                          </td></tr>\n",
       "\t<tr><th scope=row>8</th><td>                                          </td><td>(231.484946648272)                        </td><td>(325.411338684543)                        </td><td>(92794.7620823547)                        </td><td>(120912.296856647)                        </td></tr>\n",
       "\t<tr><th scope=row>9</th><td>I(aid_9010 * dem9010)                     </td><td>                                          </td><td>-2.9569396592135                          </td><td>                                          </td><td>4982.66600168061 *                        </td></tr>\n",
       "\t<tr><th scope=row>10</th><td>                                          </td><td>                                          </td><td>(5.8733694972209)                         </td><td>                                          </td><td>(2182.35356846366)                        </td></tr>\n",
       "\t<tr><th scope=row>1.1</th><td>N                                         </td><td>35                                        </td><td>35                                        </td><td>35                                        </td><td>35                                        </td></tr>\n",
       "\t<tr><th scope=row>2.1</th><td>R2                                        </td><td>0.326336644916476                         </td><td>0.331980529754349                         </td><td>0.493147740358072                         </td><td>0.568181000842446                         </td></tr>\n",
       "\t<tr><th scope=row>.1</th><td><span style=white-space:pre-wrap> *** p &lt; 0.001;  ** p &lt; 0.01;  * p &lt; 0.05.</span></td><td><span style=white-space:pre-wrap> *** p &lt; 0.001;  ** p &lt; 0.01;  * p &lt; 0.05.</span></td><td><span style=white-space:pre-wrap> *** p &lt; 0.001;  ** p &lt; 0.01;  * p &lt; 0.05.</span></td><td><span style=white-space:pre-wrap> *** p &lt; 0.001;  ** p &lt; 0.01;  * p &lt; 0.05.</span></td><td><span style=white-space:pre-wrap> *** p &lt; 0.001;  ** p &lt; 0.01;  * p &lt; 0.05.</span></td></tr>\n",
       "</tbody>\n",
       "</table>\n"
      ],
      "text/latex": [
       "A huxtable: 14 × 5\n",
       "\\begin{tabular}{r|lllll}\n",
       "  & names & Model 1 & Model 2 & Model 3 & Model 4\\\\\n",
       "  & <chr> & <chr> & <chr> & <chr> & <chr>\\\\\n",
       "\\hline\n",
       "\t &                                            & Model 1                                    & Model 2                                    & Model 3                                    & Model 4                                   \\\\\n",
       "\t1 & (Intercept)                                & -48.5493550591594                          & -110.173956969703                          & -98083.7509840379                          & 5758.34395016852                          \\\\\n",
       "\t2 &                                            & (124.866186099309)                         & (175.952484472509)                         & (50054.7797988006)                         & (65378.2351936685)                        \\\\\n",
       "\t3 & pov\\_1990s                                  & 0.449003445297354 ***                      & 0.461139959245197 ***                      & -170.439486392024 **                       & -190.890426348954 ***                     \\\\\n",
       "\t4 &                                            & (0.117688004242321)                        & (0.121545788104838)                        & (47.1772809063344)                         & (45.1624718192567)                        \\\\\n",
       "\t5 & aid\\_9010                                   & 0.0271043531973337                         & 1.61726254199136                           & 34.3734403041819                           & -2645.16285659322 *                       \\\\\n",
       "\t6 &                                            & (0.0452375495391137)                       & (3.1588632761914)                          & (18.1342575724767)                         & (1173.73111743558)                        \\\\\n",
       "\t7 & dem9010                                    & 89.1755599130882                           & 202.853517651617                           & 213105.912540088 *                         & 21549.9930950116                          \\\\\n",
       "\t8 &                                            & (231.484946648272)                         & (325.411338684543)                         & (92794.7620823547)                         & (120912.296856647)                        \\\\\n",
       "\t9 & I(aid\\_9010 * dem9010)                      &                                            & -2.9569396592135                           &                                            & 4982.66600168061 *                        \\\\\n",
       "\t10 &                                            &                                            & (5.8733694972209)                          &                                            & (2182.35356846366)                        \\\\\n",
       "\t1.1 & N                                          & 35                                         & 35                                         & 35                                         & 35                                        \\\\\n",
       "\t2.1 & R2                                         & 0.326336644916476                          & 0.331980529754349                          & 0.493147740358072                          & 0.568181000842446                         \\\\\n",
       "\t.1 &  *** p < 0.001;  ** p < 0.01;  * p < 0.05. &  *** p < 0.001;  ** p < 0.01;  * p < 0.05. &  *** p < 0.001;  ** p < 0.01;  * p < 0.05. &  *** p < 0.001;  ** p < 0.01;  * p < 0.05. &  *** p < 0.001;  ** p < 0.01;  * p < 0.05.\\\\\n",
       "\\end{tabular}\n"
      ],
      "text/markdown": [
       "\n",
       "A huxtable: 14 × 5\n",
       "\n",
       "| <!--/--> | names &lt;chr&gt; | Model 1 &lt;chr&gt; | Model 2 &lt;chr&gt; | Model 3 &lt;chr&gt; | Model 4 &lt;chr&gt; |\n",
       "|---|---|---|---|---|---|\n",
       "| <!----> | <!----> | Model 1                                    | Model 2                                    | Model 3                                    | Model 4                                    |\n",
       "| 1 | (Intercept)                                | -48.5493550591594                          | -110.173956969703                          | -98083.7509840379                          | 5758.34395016852                           |\n",
       "| 2 | <!----> | (124.866186099309)                         | (175.952484472509)                         | (50054.7797988006)                         | (65378.2351936685)                         |\n",
       "| 3 | pov_1990s                                  | 0.449003445297354 ***                      | 0.461139959245197 ***                      | -170.439486392024 **                       | -190.890426348954 ***                      |\n",
       "| 4 | <!----> | (0.117688004242321)                        | (0.121545788104838)                        | (47.1772809063344)                         | (45.1624718192567)                         |\n",
       "| 5 | aid_9010                                   | 0.0271043531973337                         | 1.61726254199136                           | 34.3734403041819                           | -2645.16285659322 *                        |\n",
       "| 6 | <!----> | (0.0452375495391137)                       | (3.1588632761914)                          | (18.1342575724767)                         | (1173.73111743558)                         |\n",
       "| 7 | dem9010                                    | 89.1755599130882                           | 202.853517651617                           | 213105.912540088 *                         | 21549.9930950116                           |\n",
       "| 8 | <!----> | (231.484946648272)                         | (325.411338684543)                         | (92794.7620823547)                         | (120912.296856647)                         |\n",
       "| 9 | I(aid_9010 * dem9010)                      | <!----> | -2.9569396592135                           | <!----> | 4982.66600168061 *                         |\n",
       "| 10 | <!----> | <!----> | (5.8733694972209)                          | <!----> | (2182.35356846366)                         |\n",
       "| 1.1 | N                                          | 35                                         | 35                                         | 35                                         | 35                                         |\n",
       "| 2.1 | R2                                         | 0.326336644916476                          | 0.331980529754349                          | 0.493147740358072                          | 0.568181000842446                          |\n",
       "| .1 |  *** p &lt; 0.001;  ** p &lt; 0.01;  * p &lt; 0.05. |  *** p &lt; 0.001;  ** p &lt; 0.01;  * p &lt; 0.05. |  *** p &lt; 0.001;  ** p &lt; 0.01;  * p &lt; 0.05. |  *** p &lt; 0.001;  ** p &lt; 0.01;  * p &lt; 0.05. |  *** p &lt; 0.001;  ** p &lt; 0.01;  * p &lt; 0.05. |\n",
       "\n"
      ],
      "text/plain": [
       "    names                                     \n",
       "                                              \n",
       "1   (Intercept)                               \n",
       "2                                             \n",
       "3   pov_1990s                                 \n",
       "4                                             \n",
       "5   aid_9010                                  \n",
       "6                                             \n",
       "7   dem9010                                   \n",
       "8                                             \n",
       "9   I(aid_9010 * dem9010)                     \n",
       "10                                            \n",
       "1.1 N                                         \n",
       "2.1 R2                                        \n",
       ".1   *** p < 0.001;  ** p < 0.01;  * p < 0.05.\n",
       "    Model 1                                   \n",
       "    Model 1                                   \n",
       "1   -48.5493550591594                         \n",
       "2   (124.866186099309)                        \n",
       "3   0.449003445297354 ***                     \n",
       "4   (0.117688004242321)                       \n",
       "5   0.0271043531973337                        \n",
       "6   (0.0452375495391137)                      \n",
       "7   89.1755599130882                          \n",
       "8   (231.484946648272)                        \n",
       "9                                             \n",
       "10                                            \n",
       "1.1 35                                        \n",
       "2.1 0.326336644916476                         \n",
       ".1   *** p < 0.001;  ** p < 0.01;  * p < 0.05.\n",
       "    Model 2                                   \n",
       "    Model 2                                   \n",
       "1   -110.173956969703                         \n",
       "2   (175.952484472509)                        \n",
       "3   0.461139959245197 ***                     \n",
       "4   (0.121545788104838)                       \n",
       "5   1.61726254199136                          \n",
       "6   (3.1588632761914)                         \n",
       "7   202.853517651617                          \n",
       "8   (325.411338684543)                        \n",
       "9   -2.9569396592135                          \n",
       "10  (5.8733694972209)                         \n",
       "1.1 35                                        \n",
       "2.1 0.331980529754349                         \n",
       ".1   *** p < 0.001;  ** p < 0.01;  * p < 0.05.\n",
       "    Model 3                                   \n",
       "    Model 3                                   \n",
       "1   -98083.7509840379                         \n",
       "2   (50054.7797988006)                        \n",
       "3   -170.439486392024 **                      \n",
       "4   (47.1772809063344)                        \n",
       "5   34.3734403041819                          \n",
       "6   (18.1342575724767)                        \n",
       "7   213105.912540088 *                        \n",
       "8   (92794.7620823547)                        \n",
       "9                                             \n",
       "10                                            \n",
       "1.1 35                                        \n",
       "2.1 0.493147740358072                         \n",
       ".1   *** p < 0.001;  ** p < 0.01;  * p < 0.05.\n",
       "    Model 4                                   \n",
       "    Model 4                                   \n",
       "1   5758.34395016852                          \n",
       "2   (65378.2351936685)                        \n",
       "3   -190.890426348954 ***                     \n",
       "4   (45.1624718192567)                        \n",
       "5   -2645.16285659322 *                       \n",
       "6   (1173.73111743558)                        \n",
       "7   21549.9930950116                          \n",
       "8   (120912.296856647)                        \n",
       "9   4982.66600168061 *                        \n",
       "10  (2182.35356846366)                        \n",
       "1.1 35                                        \n",
       "2.1 0.568181000842446                         \n",
       ".1   *** p < 0.001;  ** p < 0.01;  * p < 0.05."
      ]
     },
     "metadata": {},
     "output_type": "display_data"
    }
   ],
   "source": [
    "summary(nointeraction <- lm(pov_2010s ~ pov_1990s +  aid_9010 + dem9010 , data=dataset_cs))\n",
    "\n",
    "summary(interaction <- lm(pov_2010s ~ pov_1990s +  aid_9010 + dem9010 + I(aid_9010*dem9010), data=dataset_cs))\n",
    "\n",
    "summary(nointeraction_gdp <- lm(gdp_per_cap_ppp ~ pov_1990s +  aid_9010 + dem9010 , data=dataset_cs))\n",
    "\n",
    "summary(interaction_gdp <- lm(gdp_per_cap_ppp ~  pov_1990s +  aid_9010 + dem9010 + I(aid_9010*dem9010), data=dataset_cs))\n",
    "\n",
    "\n",
    "export_summs(nointeraction, interaction, nointeraction_gdp, interaction_gdp)\n"
   ]
  },
  {
   "cell_type": "markdown",
   "id": "3d395a51",
   "metadata": {},
   "source": [
    "## Bad controls\n",
    "When we talked about omitted variables, we always talked about how forgetting an important variable can have bad consequences for your analysis. But there is also the opposite problem: Bad controls!\n",
    "The bad controls problem arises when we control for a variable in a regression that is actually an outcome (a variable on the left-hand side). \n",
    "\n",
    "For example:\n",
    "* A treatment gives people money at time t, and we want to study how it changes their consumption at time t+1. We control for their wage at time t+1.\n",
    "* We want to study whether winning the lottery at time t makes you happier at time t+1. We control for whether you bought a Ferrari at time t+1.\n",
    "\n",
    "Let's make an example. We know that happiness is strongly related to income (at least, to some extent: https://ourworldindata.org/happiness-and-life-satisfaction ). Aid in the past will affect income today and happiness today. Therefore, controlling for happiness today introduces a bad control problem!"
   ]
  },
  {
   "cell_type": "code",
   "execution_count": 26,
   "id": "17895d10",
   "metadata": {},
   "outputs": [
    {
     "data": {
      "text/plain": [
       "\n",
       "Call:\n",
       "lm(formula = gdp_per_cap_ppp ~ gdp1970 + aid_9010, data = dataset_cs)\n",
       "\n",
       "Residuals:\n",
       "   Min     1Q Median     3Q    Max \n",
       "-20091  -4887  -3012   2724  67405 \n",
       "\n",
       "Coefficients:\n",
       "            Estimate Std. Error t value Pr(>|t|)    \n",
       "(Intercept) 8980.844   2349.727   3.822 0.000287 ***\n",
       "gdp1970       14.526      2.611   5.565 4.66e-07 ***\n",
       "aid_9010     -87.215     43.529  -2.004 0.049039 *  \n",
       "---\n",
       "Signif. codes:  0 ‘***’ 0.001 ‘**’ 0.01 ‘*’ 0.05 ‘.’ 0.1 ‘ ’ 1\n",
       "\n",
       "Residual standard error: 10630 on 69 degrees of freedom\n",
       "  (101 observations deleted due to missingness)\n",
       "Multiple R-squared:  0.3831,\tAdjusted R-squared:  0.3652 \n",
       "F-statistic: 21.43 on 2 and 69 DF,  p-value: 5.782e-08\n"
      ]
     },
     "metadata": {},
     "output_type": "display_data"
    },
    {
     "data": {
      "text/plain": [
       "\n",
       "Call:\n",
       "lm(formula = gdp_per_cap_ppp ~ gdp1970 + aid_9010 + happiness, \n",
       "    data = dataset_cs)\n",
       "\n",
       "Residuals:\n",
       "    Min      1Q  Median      3Q     Max \n",
       "-2280.8  -758.0  -102.5   829.6  2438.0 \n",
       "\n",
       "Coefficients:\n",
       "            Estimate Std. Error t value Pr(>|t|)    \n",
       "(Intercept) 328.2703   256.2511   1.281    0.205    \n",
       "gdp1970      -0.4513     0.3166  -1.426    0.159    \n",
       "aid_9010     -7.1480     4.4423  -1.609    0.112    \n",
       "happiness     1.0038     0.0121  82.976   <2e-16 ***\n",
       "---\n",
       "Signif. codes:  0 ‘***’ 0.001 ‘**’ 0.01 ‘*’ 0.05 ‘.’ 0.1 ‘ ’ 1\n",
       "\n",
       "Residual standard error: 1059 on 68 degrees of freedom\n",
       "  (101 observations deleted due to missingness)\n",
       "Multiple R-squared:  0.994,\tAdjusted R-squared:  0.9937 \n",
       "F-statistic:  3734 on 3 and 68 DF,  p-value: < 2.2e-16\n"
      ]
     },
     "metadata": {},
     "output_type": "display_data"
    },
    {
     "data": {
      "text/html": [
       "<table class=\"dataframe\">\n",
       "<caption>A huxtable: 12 × 3</caption>\n",
       "<thead>\n",
       "\t<tr><th></th><th scope=col>names</th><th scope=col>Model 1</th><th scope=col>Model 2</th></tr>\n",
       "\t<tr><th></th><th scope=col>&lt;chr&gt;</th><th scope=col>&lt;chr&gt;</th><th scope=col>&lt;chr&gt;</th></tr>\n",
       "</thead>\n",
       "<tbody>\n",
       "\t<tr><th scope=row></th><td>                                          </td><td>Model 1                                   </td><td>Model 2                                   </td></tr>\n",
       "\t<tr><th scope=row>1</th><td>(Intercept)                               </td><td>8980.84418750174 ***                      </td><td>328.270260553971                          </td></tr>\n",
       "\t<tr><th scope=row>2</th><td>                                          </td><td>(2349.72684697548)                        </td><td>(256.251118001714)                        </td></tr>\n",
       "\t<tr><th scope=row>3</th><td>gdp1970                                   </td><td>14.5264650663476 ***                      </td><td>-0.451308983370634                        </td></tr>\n",
       "\t<tr><th scope=row>4</th><td>                                          </td><td>(2.61052430571508)                        </td><td>(0.316561132640213)                       </td></tr>\n",
       "\t<tr><th scope=row>5</th><td>aid_9010                                  </td><td>-87.2151305690128 *                       </td><td>-7.14796293401853                         </td></tr>\n",
       "\t<tr><th scope=row>6</th><td>                                          </td><td>(43.5286509202041)                        </td><td>(4.44229039827936)                        </td></tr>\n",
       "\t<tr><th scope=row>7</th><td>happiness                                 </td><td>                                          </td><td>1.00378050801588 ***                      </td></tr>\n",
       "\t<tr><th scope=row>8</th><td>                                          </td><td>                                          </td><td>(0.0120971978645767)                      </td></tr>\n",
       "\t<tr><th scope=row>1.1</th><td>N                                         </td><td>72                                        </td><td>72                                        </td></tr>\n",
       "\t<tr><th scope=row>2.1</th><td>R2                                        </td><td>0.383114358419392                         </td><td>0.993966943658928                         </td></tr>\n",
       "\t<tr><th scope=row>.1</th><td><span style=white-space:pre-wrap> *** p &lt; 0.001;  ** p &lt; 0.01;  * p &lt; 0.05.</span></td><td><span style=white-space:pre-wrap> *** p &lt; 0.001;  ** p &lt; 0.01;  * p &lt; 0.05.</span></td><td><span style=white-space:pre-wrap> *** p &lt; 0.001;  ** p &lt; 0.01;  * p &lt; 0.05.</span></td></tr>\n",
       "</tbody>\n",
       "</table>\n"
      ],
      "text/latex": [
       "A huxtable: 12 × 3\n",
       "\\begin{tabular}{r|lll}\n",
       "  & names & Model 1 & Model 2\\\\\n",
       "  & <chr> & <chr> & <chr>\\\\\n",
       "\\hline\n",
       "\t &                                            & Model 1                                    & Model 2                                   \\\\\n",
       "\t1 & (Intercept)                                & 8980.84418750174 ***                       & 328.270260553971                          \\\\\n",
       "\t2 &                                            & (2349.72684697548)                         & (256.251118001714)                        \\\\\n",
       "\t3 & gdp1970                                    & 14.5264650663476 ***                       & -0.451308983370634                        \\\\\n",
       "\t4 &                                            & (2.61052430571508)                         & (0.316561132640213)                       \\\\\n",
       "\t5 & aid\\_9010                                   & -87.2151305690128 *                        & -7.14796293401853                         \\\\\n",
       "\t6 &                                            & (43.5286509202041)                         & (4.44229039827936)                        \\\\\n",
       "\t7 & happiness                                  &                                            & 1.00378050801588 ***                      \\\\\n",
       "\t8 &                                            &                                            & (0.0120971978645767)                      \\\\\n",
       "\t1.1 & N                                          & 72                                         & 72                                        \\\\\n",
       "\t2.1 & R2                                         & 0.383114358419392                          & 0.993966943658928                         \\\\\n",
       "\t.1 &  *** p < 0.001;  ** p < 0.01;  * p < 0.05. &  *** p < 0.001;  ** p < 0.01;  * p < 0.05. &  *** p < 0.001;  ** p < 0.01;  * p < 0.05.\\\\\n",
       "\\end{tabular}\n"
      ],
      "text/markdown": [
       "\n",
       "A huxtable: 12 × 3\n",
       "\n",
       "| <!--/--> | names &lt;chr&gt; | Model 1 &lt;chr&gt; | Model 2 &lt;chr&gt; |\n",
       "|---|---|---|---|\n",
       "| <!----> | <!----> | Model 1                                    | Model 2                                    |\n",
       "| 1 | (Intercept)                                | 8980.84418750174 ***                       | 328.270260553971                           |\n",
       "| 2 | <!----> | (2349.72684697548)                         | (256.251118001714)                         |\n",
       "| 3 | gdp1970                                    | 14.5264650663476 ***                       | -0.451308983370634                         |\n",
       "| 4 | <!----> | (2.61052430571508)                         | (0.316561132640213)                        |\n",
       "| 5 | aid_9010                                   | -87.2151305690128 *                        | -7.14796293401853                          |\n",
       "| 6 | <!----> | (43.5286509202041)                         | (4.44229039827936)                         |\n",
       "| 7 | happiness                                  | <!----> | 1.00378050801588 ***                       |\n",
       "| 8 | <!----> | <!----> | (0.0120971978645767)                       |\n",
       "| 1.1 | N                                          | 72                                         | 72                                         |\n",
       "| 2.1 | R2                                         | 0.383114358419392                          | 0.993966943658928                          |\n",
       "| .1 |  *** p &lt; 0.001;  ** p &lt; 0.01;  * p &lt; 0.05. |  *** p &lt; 0.001;  ** p &lt; 0.01;  * p &lt; 0.05. |  *** p &lt; 0.001;  ** p &lt; 0.01;  * p &lt; 0.05. |\n",
       "\n"
      ],
      "text/plain": [
       "    names                                     \n",
       "                                              \n",
       "1   (Intercept)                               \n",
       "2                                             \n",
       "3   gdp1970                                   \n",
       "4                                             \n",
       "5   aid_9010                                  \n",
       "6                                             \n",
       "7   happiness                                 \n",
       "8                                             \n",
       "1.1 N                                         \n",
       "2.1 R2                                        \n",
       ".1   *** p < 0.001;  ** p < 0.01;  * p < 0.05.\n",
       "    Model 1                                   \n",
       "    Model 1                                   \n",
       "1   8980.84418750174 ***                      \n",
       "2   (2349.72684697548)                        \n",
       "3   14.5264650663476 ***                      \n",
       "4   (2.61052430571508)                        \n",
       "5   -87.2151305690128 *                       \n",
       "6   (43.5286509202041)                        \n",
       "7                                             \n",
       "8                                             \n",
       "1.1 72                                        \n",
       "2.1 0.383114358419392                         \n",
       ".1   *** p < 0.001;  ** p < 0.01;  * p < 0.05.\n",
       "    Model 2                                   \n",
       "    Model 2                                   \n",
       "1   328.270260553971                          \n",
       "2   (256.251118001714)                        \n",
       "3   -0.451308983370634                        \n",
       "4   (0.316561132640213)                       \n",
       "5   -7.14796293401853                         \n",
       "6   (4.44229039827936)                        \n",
       "7   1.00378050801588 ***                      \n",
       "8   (0.0120971978645767)                      \n",
       "1.1 72                                        \n",
       "2.1 0.993966943658928                         \n",
       ".1   *** p < 0.001;  ** p < 0.01;  * p < 0.05."
      ]
     },
     "metadata": {},
     "output_type": "display_data"
    }
   ],
   "source": [
    "\n",
    "summary(basic_regression <- lm( gdp_per_cap_ppp ~  gdp1970 +  aid_9010, data=dataset_cs))\n",
    "\n",
    "summary(bad_controls <- lm( gdp_per_cap_ppp ~  gdp1970 +  aid_9010 + happiness, data=dataset_cs))\n",
    "\n",
    "export_summs(basic_regression, bad_controls)\n"
   ]
  },
  {
   "cell_type": "markdown",
   "id": "e45d6c84",
   "metadata": {},
   "source": [
    "We can interpret bad controls through the OVB formula we learnt last time:\n",
    "\n",
    "$$ \\rho_s = \\rho + \\gamma \\cdot \\delta $$\n",
    "\n",
    "where $\\rho$ is the \"long\" coefficient, $\\gamma$ is the coefficient of the omitted variable in the long regression, $\\delta$ is the coefficient in the auxiliary regression (regress omitted variable on included variable), and $\\rho_s$ is the \"short\" regression coefficient.\n",
    "\n",
    "Remember? It told you that this formula **ALWAYS** holds - no matter what variable I include. \n",
    "\n",
    "Extreme case: Include GDP$\\times$10 on the RHS - what will happen?\n",
    "\n",
    "## Do you need an OVB revision?"
   ]
  },
  {
   "cell_type": "code",
   "execution_count": 29,
   "id": "af183534",
   "metadata": {},
   "outputs": [
    {
     "data": {
      "text/html": [
       "<table class=\"dataframe\">\n",
       "<caption>A huxtable: 10 × 4</caption>\n",
       "<thead>\n",
       "\t<tr><th></th><th scope=col>names</th><th scope=col>Model 1</th><th scope=col>Model 2</th><th scope=col>Model 3</th></tr>\n",
       "\t<tr><th></th><th scope=col>&lt;chr&gt;</th><th scope=col>&lt;chr&gt;</th><th scope=col>&lt;chr&gt;</th><th scope=col>&lt;chr&gt;</th></tr>\n",
       "</thead>\n",
       "<tbody>\n",
       "\t<tr><th scope=row></th><td>                                          </td><td>Model 1                                   </td><td>Model 2                                   </td><td>Model 3                                   </td></tr>\n",
       "\t<tr><th scope=row>1</th><td>(Intercept)                               </td><td>1.09009171786149                          </td><td>8.96440800542877 ***                      </td><td>-25.4438428120716 **                      </td></tr>\n",
       "\t<tr><th scope=row>2</th><td>                                          </td><td>(3.5845626524535)                         </td><td>(1.94872769203634)                        </td><td>(8.62215636672122)                        </td></tr>\n",
       "\t<tr><th scope=row>3</th><td>democracy                                 </td><td>15.2527368966298 *                        </td><td>-4.28199504589645                         </td><td>63.1104742397464 ***                      </td></tr>\n",
       "\t<tr><th scope=row>4</th><td>                                          </td><td>(6.67806650043998)                        </td><td>(3.69542563257363)                        </td><td>(16.0966995706918)                        </td></tr>\n",
       "\t<tr><th scope=row>5</th><td>years_of_schooling                        </td><td>                                          </td><td>0.313394531780118 ***                     </td><td>                                          </td></tr>\n",
       "\t<tr><th scope=row>6</th><td>                                          </td><td>                                          </td><td>(0.0166755807608285)                      </td><td>                                          </td></tr>\n",
       "\t<tr><th scope=row>1.1</th><td>N                                         </td><td>145                                       </td><td>144                                       </td><td>162                                       </td></tr>\n",
       "\t<tr><th scope=row>2.1</th><td>R2                                        </td><td>0.035196299293719                         </td><td>0.725080867999958                         </td><td>0.0876534587488709                        </td></tr>\n",
       "\t<tr><th scope=row>.1</th><td><span style=white-space:pre-wrap> *** p &lt; 0.001;  ** p &lt; 0.01;  * p &lt; 0.05.</span></td><td><span style=white-space:pre-wrap> *** p &lt; 0.001;  ** p &lt; 0.01;  * p &lt; 0.05.</span></td><td><span style=white-space:pre-wrap> *** p &lt; 0.001;  ** p &lt; 0.01;  * p &lt; 0.05.</span></td><td><span style=white-space:pre-wrap> *** p &lt; 0.001;  ** p &lt; 0.01;  * p &lt; 0.05.</span></td></tr>\n",
       "</tbody>\n",
       "</table>\n"
      ],
      "text/latex": [
       "A huxtable: 10 × 4\n",
       "\\begin{tabular}{r|llll}\n",
       "  & names & Model 1 & Model 2 & Model 3\\\\\n",
       "  & <chr> & <chr> & <chr> & <chr>\\\\\n",
       "\\hline\n",
       "\t &                                            & Model 1                                    & Model 2                                    & Model 3                                   \\\\\n",
       "\t1 & (Intercept)                                & 1.09009171786149                           & 8.96440800542877 ***                       & -25.4438428120716 **                      \\\\\n",
       "\t2 &                                            & (3.5845626524535)                          & (1.94872769203634)                         & (8.62215636672122)                        \\\\\n",
       "\t3 & democracy                                  & 15.2527368966298 *                         & -4.28199504589645                          & 63.1104742397464 ***                      \\\\\n",
       "\t4 &                                            & (6.67806650043998)                         & (3.69542563257363)                         & (16.0966995706918)                        \\\\\n",
       "\t5 & years\\_of\\_schooling                         &                                            & 0.313394531780118 ***                      &                                           \\\\\n",
       "\t6 &                                            &                                            & (0.0166755807608285)                       &                                           \\\\\n",
       "\t1.1 & N                                          & 145                                        & 144                                        & 162                                       \\\\\n",
       "\t2.1 & R2                                         & 0.035196299293719                          & 0.725080867999958                          & 0.0876534587488709                        \\\\\n",
       "\t.1 &  *** p < 0.001;  ** p < 0.01;  * p < 0.05. &  *** p < 0.001;  ** p < 0.01;  * p < 0.05. &  *** p < 0.001;  ** p < 0.01;  * p < 0.05. &  *** p < 0.001;  ** p < 0.01;  * p < 0.05.\\\\\n",
       "\\end{tabular}\n"
      ],
      "text/markdown": [
       "\n",
       "A huxtable: 10 × 4\n",
       "\n",
       "| <!--/--> | names &lt;chr&gt; | Model 1 &lt;chr&gt; | Model 2 &lt;chr&gt; | Model 3 &lt;chr&gt; |\n",
       "|---|---|---|---|---|\n",
       "| <!----> | <!----> | Model 1                                    | Model 2                                    | Model 3                                    |\n",
       "| 1 | (Intercept)                                | 1.09009171786149                           | 8.96440800542877 ***                       | -25.4438428120716 **                       |\n",
       "| 2 | <!----> | (3.5845626524535)                          | (1.94872769203634)                         | (8.62215636672122)                         |\n",
       "| 3 | democracy                                  | 15.2527368966298 *                         | -4.28199504589645                          | 63.1104742397464 ***                       |\n",
       "| 4 | <!----> | (6.67806650043998)                         | (3.69542563257363)                         | (16.0966995706918)                         |\n",
       "| 5 | years_of_schooling                         | <!----> | 0.313394531780118 ***                      | <!----> |\n",
       "| 6 | <!----> | <!----> | (0.0166755807608285)                       | <!----> |\n",
       "| 1.1 | N                                          | 145                                        | 144                                        | 162                                        |\n",
       "| 2.1 | R2                                         | 0.035196299293719                          | 0.725080867999958                          | 0.0876534587488709                         |\n",
       "| .1 |  *** p &lt; 0.001;  ** p &lt; 0.01;  * p &lt; 0.05. |  *** p &lt; 0.001;  ** p &lt; 0.01;  * p &lt; 0.05. |  *** p &lt; 0.001;  ** p &lt; 0.01;  * p &lt; 0.05. |  *** p &lt; 0.001;  ** p &lt; 0.01;  * p &lt; 0.05. |\n",
       "\n"
      ],
      "text/plain": [
       "    names                                     \n",
       "                                              \n",
       "1   (Intercept)                               \n",
       "2                                             \n",
       "3   democracy                                 \n",
       "4                                             \n",
       "5   years_of_schooling                        \n",
       "6                                             \n",
       "1.1 N                                         \n",
       "2.1 R2                                        \n",
       ".1   *** p < 0.001;  ** p < 0.01;  * p < 0.05.\n",
       "    Model 1                                   \n",
       "    Model 1                                   \n",
       "1   1.09009171786149                          \n",
       "2   (3.5845626524535)                         \n",
       "3   15.2527368966298 *                        \n",
       "4   (6.67806650043998)                        \n",
       "5                                             \n",
       "6                                             \n",
       "1.1 145                                       \n",
       "2.1 0.035196299293719                         \n",
       ".1   *** p < 0.001;  ** p < 0.01;  * p < 0.05.\n",
       "    Model 2                                   \n",
       "    Model 2                                   \n",
       "1   8.96440800542877 ***                      \n",
       "2   (1.94872769203634)                        \n",
       "3   -4.28199504589645                         \n",
       "4   (3.69542563257363)                        \n",
       "5   0.313394531780118 ***                     \n",
       "6   (0.0166755807608285)                      \n",
       "1.1 144                                       \n",
       "2.1 0.725080867999958                         \n",
       ".1   *** p < 0.001;  ** p < 0.01;  * p < 0.05.\n",
       "    Model 3                                   \n",
       "    Model 3                                   \n",
       "1   -25.4438428120716 **                      \n",
       "2   (8.62215636672122)                        \n",
       "3   63.1104742397464 ***                      \n",
       "4   (16.0966995706918)                        \n",
       "5                                             \n",
       "6                                             \n",
       "1.1 162                                       \n",
       "2.1 0.0876534587488709                        \n",
       ".1   *** p < 0.001;  ** p < 0.01;  * p < 0.05."
      ]
     },
     "metadata": {},
     "output_type": "display_data"
    }
   ],
   "source": [
    "# Revise OVB\n",
    "a = lm(log(gdp_per_cap_ppp) ~  democracy  , data=dataset_cs)\n",
    "b = lm(log(gdp_per_cap_ppp) ~ years_of_schooling +  democracy  , data=dataset_cs)\n",
    "c = lm(years_of_schooling  ~ democracy  , data=dataset_cs)\n",
    "export_summs(a,b,c)"
   ]
  },
  {
   "cell_type": "markdown",
   "id": "62145cd6",
   "metadata": {},
   "source": [
    "## Data visualizations\n",
    "An important skill - this is just a quick example and we'll do more in the next weeks!"
   ]
  },
  {
   "cell_type": "code",
   "execution_count": 30,
   "id": "236b3018",
   "metadata": {},
   "outputs": [
    {
     "data": {
      "image/png": "[encoded data removed]",
      "text/plain": [
       "plot without title"
      ]
     },
     "metadata": {
      "image/png": {
       "height": 420,
       "width": 420
      }
     },
     "output_type": "display_data"
    }
   ],
   "source": [
    "a = c(\"Argentina\",\"Spain\", \"United States\")\n",
    "owid_plot(democracy, filter = a, summarise=FALSE) +\n",
    "  labs(title = paste0(\"Democracy in selected countries over time\")) +\n",
    "  scale_y_continuous(limits = c(-10, 10))\n"
   ]
  },
  {
   "cell_type": "code",
   "execution_count": 32,
   "id": "e4dcb0d7",
   "metadata": {},
   "outputs": [
    {
     "data": {
      "image/png": "[encoded data removed]",
      "text/plain": [
       "plot without title"
      ]
     },
     "metadata": {
      "image/png": {
       "height": 420,
       "width": 420
      }
     },
     "output_type": "display_data"
    }
   ],
   "source": [
    "# Make a map\n",
    "\n",
    "democracy2 <- owid(\"democracy-polity\",\n",
    "                   rename = \"democracy\") %>% \n",
    "  filter(year==2018)\n",
    "\n",
    "owid_map(democracy2, palette = \"YlGn\") +\n",
    "  labs(title = \"Political Regime (Polity IV)\")"
   ]
  },
  {
   "cell_type": "code",
   "execution_count": null,
   "id": "93253b73",
   "metadata": {},
   "outputs": [],
   "source": []
  }
 ],
 "metadata": {
  "kernelspec": {
   "display_name": "R",
   "language": "R",
   "name": "ir"
  },
  "language_info": {
   "codemirror_mode": "r",
   "file_extension": ".r",
   "mimetype": "text/x-r-source",
   "name": "R",
   "pygments_lexer": "r",
   "version": "4.2.1"
  }
 },
 "nbformat": 4,
 "nbformat_minor": 5
}
