{
 "cells": [
  {
   "cell_type": "markdown",
   "id": "d653797c",
   "metadata": {},
   "source": [
    "For this problem we will use the dataset wages.csv. This dataset contains information on about 300 American workers. \n",
    "It includes their average monthly wage (wage), gender (male) and completed years of formal education (educ). \n",
    "You suspect that people with higher educational attainment earn more on average."
   ]
  },
  {
   "cell_type": "code",
   "execution_count": null,
   "id": "0c8c275a",
   "metadata": {},
   "outputs": [],
   "source": [
    "library(tidyverse)\n",
    "library(haven)\n",
    "library(ggplot2)\n",
    "\n",
    "# read the dataset\n",
    "data<-read.csv(\"https://raw.githubusercontent.com/ds-modules/ECON-140-FA22-RDE/main/Sections/103-Daniela/wages.csv\")"
   ]
  },
  {
   "cell_type": "code",
   "execution_count": null,
   "id": "2bde2114",
   "metadata": {},
   "outputs": [],
   "source": [
    "# check variable names and first observations/cells to understand the dataset\n",
    "colnames(data)\n",
    "head(data)\n"
   ]
  },
  {
   "cell_type": "code",
   "execution_count": null,
   "id": "2c732b11",
   "metadata": {},
   "outputs": [],
   "source": [
    "# how many observations and variables are in the dataset? \n",
    "dim(data)\n"
   ]
  },
  {
   "cell_type": "code",
   "execution_count": null,
   "id": "d4f9e98f",
   "metadata": {},
   "outputs": [],
   "source": [
    "# how would you characterize this dataset (think about the sample, unit of analysis, time frame, etc)? \n",
    "# View(data)\n",
    "summary(data)\n",
    "plot(data)"
   ]
  },
  {
   "cell_type": "code",
   "execution_count": null,
   "id": "a57f49ad",
   "metadata": {},
   "outputs": [],
   "source": [
    "## are any values missing?\n",
    "# View(data)\n",
    "is.na(data)\n",
    "data[!complete.cases(data),]"
   ]
  },
  {
   "cell_type": "code",
   "execution_count": null,
   "id": "c3554e41",
   "metadata": {},
   "outputs": [],
   "source": [
    "# extra: are any of the columns categorical?\n"
   ]
  },
  {
   "cell_type": "code",
   "execution_count": null,
   "id": "def59caa",
   "metadata": {},
   "outputs": [],
   "source": [
    "## extra: how do you transform a categorical variable into a continuous one?\n"
   ]
  },
  {
   "cell_type": "code",
   "execution_count": null,
   "id": "d8ae9334",
   "metadata": {},
   "outputs": [],
   "source": [
    "## what is the proportion of male? \n",
    "mean(data$male)"
   ]
  },
  {
   "cell_type": "code",
   "execution_count": null,
   "id": "11dbdfaa",
   "metadata": {},
   "outputs": [],
   "source": [
    "## what is the mean of the education variable? \n",
    "summary(data$educ)\n",
    "mean(data$educ)\n",
    "\n",
    "round(mean(data$educ),1)\n",
    "\n"
   ]
  },
  {
   "cell_type": "code",
   "execution_count": null,
   "id": "88b37a5a",
   "metadata": {},
   "outputs": [],
   "source": [
    "## what is the standard deviation of wage? \n",
    "summary(data$wage)\n",
    "sd(data$wage)\n",
    "\n",
    "round(sd(data$wage),2)"
   ]
  },
  {
   "cell_type": "code",
   "execution_count": null,
   "id": "8afd20d7",
   "metadata": {},
   "outputs": [],
   "source": [
    "## extra: do you see outliers? What would you do with outliers in wage? \n"
   ]
  },
  {
   "cell_type": "code",
   "execution_count": null,
   "id": "c1607851",
   "metadata": {},
   "outputs": [],
   "source": [
    "## plot a scatter diagram of the average monthly wage against the male dummy. \n",
    "\n",
    "\n",
    "## scatter plot of wage and gender\n",
    "x <- data$male\n",
    "y <- data$wage\n",
    "\n",
    "plot(x, y, main = \"Wage by Gender\",\n",
    "     xlab = \"Male\", ylab = \"Wage\",\n",
    "     pch = 1)\n"
   ]
  },
  {
   "cell_type": "code",
   "execution_count": null,
   "id": "78762802",
   "metadata": {},
   "outputs": [],
   "source": [
    "## what differences do you see? Explain. "
   ]
  },
  {
   "cell_type": "code",
   "execution_count": null,
   "id": "9da634ff",
   "metadata": {},
   "outputs": [],
   "source": [
    "## run linear model that regresses wage on gender\n",
    "\n",
    "wage_male  <- lm(wage~male, data)\n",
    "summary(wage_male)\n",
    "print(wage_male)"
   ]
  },
  {
   "cell_type": "code",
   "execution_count": null,
   "id": "0d78d9c1",
   "metadata": {},
   "outputs": [],
   "source": [
    "## how do you interpret the coefficients (see section slides or class 4 takeaways)? \n",
    "\n",
    "mean(data[data$male==0, \"wage\"])\n",
    "mean(data[data$male==1, \"wage\"])\n",
    "\n",
    "\n"
   ]
  },
  {
   "cell_type": "code",
   "execution_count": null,
   "id": "455ab04b",
   "metadata": {},
   "outputs": [],
   "source": [
    "## is this evidence of discrimination or something else? How would you test this? \n",
    "\n",
    "mean(data[data$male==0, \"educ\"])\n",
    "mean(data[data$male==1, \"educ\"])"
   ]
  },
  {
   "cell_type": "code",
   "execution_count": null,
   "id": "b293a8b1",
   "metadata": {},
   "outputs": [],
   "source": [
    "## let's repeat the exercise and now create a scatter plot of wage and education\n",
    "x_2 <- data$educ\n",
    "y <- data$wage\n",
    "\n",
    "plot(x_2, y, main = \"Wage by Education\",\n",
    "     xlab = \"Education\", ylab = \"Wage\",\n",
    "     pch = 1)\n",
    "abline(lm(y ~ x_2, data = data), col = \"blue\")"
   ]
  },
  {
   "cell_type": "code",
   "execution_count": null,
   "id": "71cea023",
   "metadata": {},
   "outputs": [],
   "source": [
    "## let's perform a linear model that regresses wage on education\n",
    "wage_educ        <- lm(wage~educ, data)\n",
    "summary(wage_educ)\n",
    "print(wage_educ)\n"
   ]
  },
  {
   "cell_type": "code",
   "execution_count": null,
   "id": "314a5ee1",
   "metadata": {},
   "outputs": [],
   "source": [
    "## how do you interpret the constant in this case? (see section 2 slides or class 4 takeaways)\n",
    "\n",
    "## how do you interpret the effect on the education variable?\n",
    "\n",
    "## extra: how would you change this model to evaluate the theory of the \"diploma effect\" ?\n",
    "\n",
    "## do you think our regressions reflects the causal effect of schooling on wages ? (think about cofounders, sampling strategy, outliers)\n",
    "\n",
    "\n"
   ]
  },
  {
   "cell_type": "code",
   "execution_count": null,
   "id": "84508770",
   "metadata": {},
   "outputs": [],
   "source": [
    "## run linear model that regresses wage on all variables\n",
    "wage_all        <- lm(wage~., data)\n",
    "summary(wage_all)\n",
    "print(wage_all)\n"
   ]
  },
  {
   "cell_type": "code",
   "execution_count": null,
   "id": "f5a12790",
   "metadata": {},
   "outputs": [],
   "source": [
    "## final discussion of section 2: let's come back to think how to measure discrimination and returns to education\n"
   ]
  },
  {
   "cell_type": "markdown",
   "id": "f4cd1dfb",
   "metadata": {},
   "source": [
    "## Ggplot\n",
    "(good resource: https://datacarpentry.org/R-ecology-lesson/04-visualization-ggplot2.html)"
   ]
  },
  {
   "cell_type": "code",
   "execution_count": null,
   "id": "35fbf10f",
   "metadata": {},
   "outputs": [],
   "source": [
    "ggplot(data = data, aes(x = educ, y = wage)) +\n",
    "  geom_point()"
   ]
  },
  {
   "cell_type": "code",
   "execution_count": null,
   "id": "e132846b",
   "metadata": {},
   "outputs": [],
   "source": [
    "ggplot(data = data, aes(x = educ, y = wage)) +\n",
    "  geom_point() +\n",
    "    labs(title = \"Returns to Schooling\",\n",
    "        x = \"Education Years\",\n",
    "        y = \"Wage\") "
   ]
  },
  {
   "cell_type": "code",
   "execution_count": null,
   "id": "04c5f6ac",
   "metadata": {},
   "outputs": [],
   "source": [
    "ggplot(data = data, aes(x = educ, y = wage)) +\n",
    "    geom_point(alpha = 0.1, aes(color = male))\n"
   ]
  },
  {
   "cell_type": "markdown",
   "id": "26aa1091",
   "metadata": {},
   "source": [
    "## Replicating figures of a paper using ggplot\n",
    "Trafficking Networks and the Mexican Drug War by Melissa Dell"
   ]
  },
  {
   "cell_type": "markdown",
   "id": "013863c7",
   "metadata": {},
   "source": [
    "## Faceting \n",
    "ggplot has a special technique called faceting that allows the user to split one plot into multiple plots based on a factor included in the dataset"
   ]
  },
  {
   "cell_type": "markdown",
   "id": "68fee036",
   "metadata": {},
   "source": [
    "## Replicating tables of a paper: stargazer"
   ]
  },
  {
   "cell_type": "markdown",
   "id": "db52dc5f",
   "metadata": {},
   "source": [
    "## Resources:\n",
    "regressions: https://cran.r-project.org/doc/contrib/Faraway-PRA.pdf\n",
    "dplyr: https://www.rstudio.com/wp-content/uploads/2015/02/data-wrangling-cheatsheet.pdf"
   ]
  }
 ],
 "metadata": {
  "kernelspec": {
   "display_name": "R",
   "language": "R",
   "name": "ir"
  },
  "language_info": {
   "codemirror_mode": "r",
   "file_extension": ".r",
   "mimetype": "text/x-r-source",
   "name": "R",
   "pygments_lexer": "r",
   "version": "4.2.1"
  }
 },
 "nbformat": 4,
 "nbformat_minor": 5
}
