{
 "cells": [
  {
   "cell_type": "code",
   "execution_count": 1,
   "id": "df2d5932",
   "metadata": {},
   "outputs": [
    {
     "name": "stderr",
     "output_type": "stream",
     "text": [
      "Loading required package: car\n",
      "\n",
      "Loading required package: carData\n",
      "\n",
      "Loading required package: lmtest\n",
      "\n",
      "Loading required package: zoo\n",
      "\n",
      "\n",
      "Attaching package: ‘zoo’\n",
      "\n",
      "\n",
      "The following objects are masked from ‘package:base’:\n",
      "\n",
      "    as.Date, as.Date.numeric\n",
      "\n",
      "\n",
      "Loading required package: sandwich\n",
      "\n",
      "Loading required package: survival\n",
      "\n"
     ]
    },
    {
     "data": {
      "text/html": [
       "<table class=\"dataframe\">\n",
       "<caption>A data.frame: 6 × 14</caption>\n",
       "<thead>\n",
       "\t<tr><th></th><th scope=col>district</th><th scope=col>school</th><th scope=col>county</th><th scope=col>grades</th><th scope=col>students</th><th scope=col>teachers</th><th scope=col>calworks</th><th scope=col>lunch</th><th scope=col>computer</th><th scope=col>expenditure</th><th scope=col>income</th><th scope=col>english</th><th scope=col>read</th><th scope=col>math</th></tr>\n",
       "\t<tr><th></th><th scope=col>&lt;chr&gt;</th><th scope=col>&lt;chr&gt;</th><th scope=col>&lt;fct&gt;</th><th scope=col>&lt;fct&gt;</th><th scope=col>&lt;dbl&gt;</th><th scope=col>&lt;dbl&gt;</th><th scope=col>&lt;dbl&gt;</th><th scope=col>&lt;dbl&gt;</th><th scope=col>&lt;dbl&gt;</th><th scope=col>&lt;dbl&gt;</th><th scope=col>&lt;dbl&gt;</th><th scope=col>&lt;dbl&gt;</th><th scope=col>&lt;dbl&gt;</th><th scope=col>&lt;dbl&gt;</th></tr>\n",
       "</thead>\n",
       "<tbody>\n",
       "\t<tr><th scope=row>1</th><td>75119</td><td>Sunol Glen Unified             </td><td>Alameda</td><td>KK-08</td><td> 195</td><td>10.90</td><td> 0.5102</td><td> 2.0408</td><td> 67</td><td>6384.911</td><td>22.690001</td><td> 0.000000</td><td>691.6</td><td>690.0</td></tr>\n",
       "\t<tr><th scope=row>2</th><td>61499</td><td>Manzanita Elementary           </td><td>Butte  </td><td>KK-08</td><td> 240</td><td>11.15</td><td>15.4167</td><td>47.9167</td><td>101</td><td>5099.381</td><td> 9.824000</td><td> 4.583333</td><td>660.5</td><td>661.9</td></tr>\n",
       "\t<tr><th scope=row>3</th><td>61549</td><td>Thermalito Union Elementary    </td><td>Butte  </td><td>KK-08</td><td>1550</td><td>82.90</td><td>55.0323</td><td>76.3226</td><td>169</td><td>5501.955</td><td> 8.978000</td><td>30.000002</td><td>636.3</td><td>650.9</td></tr>\n",
       "\t<tr><th scope=row>4</th><td>61457</td><td>Golden Feather Union Elementary</td><td>Butte  </td><td>KK-08</td><td> 243</td><td>14.00</td><td>36.4754</td><td>77.0492</td><td> 85</td><td>7101.831</td><td> 8.978000</td><td> 0.000000</td><td>651.9</td><td>643.5</td></tr>\n",
       "\t<tr><th scope=row>5</th><td>61523</td><td>Palermo Union Elementary       </td><td>Butte  </td><td>KK-08</td><td>1335</td><td>71.50</td><td>33.1086</td><td>78.4270</td><td>171</td><td>5235.988</td><td> 9.080333</td><td>13.857677</td><td>641.8</td><td>639.9</td></tr>\n",
       "\t<tr><th scope=row>6</th><td>62042</td><td>Burrel Union Elementary        </td><td>Fresno </td><td>KK-08</td><td> 137</td><td> 6.40</td><td>12.3188</td><td>86.9565</td><td> 25</td><td>5580.147</td><td>10.415000</td><td>12.408759</td><td>605.7</td><td>605.4</td></tr>\n",
       "</tbody>\n",
       "</table>\n"
      ],
      "text/latex": [
       "A data.frame: 6 × 14\n",
       "\\begin{tabular}{r|llllllllllllll}\n",
       "  & district & school & county & grades & students & teachers & calworks & lunch & computer & expenditure & income & english & read & math\\\\\n",
       "  & <chr> & <chr> & <fct> & <fct> & <dbl> & <dbl> & <dbl> & <dbl> & <dbl> & <dbl> & <dbl> & <dbl> & <dbl> & <dbl>\\\\\n",
       "\\hline\n",
       "\t1 & 75119 & Sunol Glen Unified              & Alameda & KK-08 &  195 & 10.90 &  0.5102 &  2.0408 &  67 & 6384.911 & 22.690001 &  0.000000 & 691.6 & 690.0\\\\\n",
       "\t2 & 61499 & Manzanita Elementary            & Butte   & KK-08 &  240 & 11.15 & 15.4167 & 47.9167 & 101 & 5099.381 &  9.824000 &  4.583333 & 660.5 & 661.9\\\\\n",
       "\t3 & 61549 & Thermalito Union Elementary     & Butte   & KK-08 & 1550 & 82.90 & 55.0323 & 76.3226 & 169 & 5501.955 &  8.978000 & 30.000002 & 636.3 & 650.9\\\\\n",
       "\t4 & 61457 & Golden Feather Union Elementary & Butte   & KK-08 &  243 & 14.00 & 36.4754 & 77.0492 &  85 & 7101.831 &  8.978000 &  0.000000 & 651.9 & 643.5\\\\\n",
       "\t5 & 61523 & Palermo Union Elementary        & Butte   & KK-08 & 1335 & 71.50 & 33.1086 & 78.4270 & 171 & 5235.988 &  9.080333 & 13.857677 & 641.8 & 639.9\\\\\n",
       "\t6 & 62042 & Burrel Union Elementary         & Fresno  & KK-08 &  137 &  6.40 & 12.3188 & 86.9565 &  25 & 5580.147 & 10.415000 & 12.408759 & 605.7 & 605.4\\\\\n",
       "\\end{tabular}\n"
      ],
      "text/markdown": [
       "\n",
       "A data.frame: 6 × 14\n",
       "\n",
       "| <!--/--> | district &lt;chr&gt; | school &lt;chr&gt; | county &lt;fct&gt; | grades &lt;fct&gt; | students &lt;dbl&gt; | teachers &lt;dbl&gt; | calworks &lt;dbl&gt; | lunch &lt;dbl&gt; | computer &lt;dbl&gt; | expenditure &lt;dbl&gt; | income &lt;dbl&gt; | english &lt;dbl&gt; | read &lt;dbl&gt; | math &lt;dbl&gt; |\n",
       "|---|---|---|---|---|---|---|---|---|---|---|---|---|---|---|\n",
       "| 1 | 75119 | Sunol Glen Unified              | Alameda | KK-08 |  195 | 10.90 |  0.5102 |  2.0408 |  67 | 6384.911 | 22.690001 |  0.000000 | 691.6 | 690.0 |\n",
       "| 2 | 61499 | Manzanita Elementary            | Butte   | KK-08 |  240 | 11.15 | 15.4167 | 47.9167 | 101 | 5099.381 |  9.824000 |  4.583333 | 660.5 | 661.9 |\n",
       "| 3 | 61549 | Thermalito Union Elementary     | Butte   | KK-08 | 1550 | 82.90 | 55.0323 | 76.3226 | 169 | 5501.955 |  8.978000 | 30.000002 | 636.3 | 650.9 |\n",
       "| 4 | 61457 | Golden Feather Union Elementary | Butte   | KK-08 |  243 | 14.00 | 36.4754 | 77.0492 |  85 | 7101.831 |  8.978000 |  0.000000 | 651.9 | 643.5 |\n",
       "| 5 | 61523 | Palermo Union Elementary        | Butte   | KK-08 | 1335 | 71.50 | 33.1086 | 78.4270 | 171 | 5235.988 |  9.080333 | 13.857677 | 641.8 | 639.9 |\n",
       "| 6 | 62042 | Burrel Union Elementary         | Fresno  | KK-08 |  137 |  6.40 | 12.3188 | 86.9565 |  25 | 5580.147 | 10.415000 | 12.408759 | 605.7 | 605.4 |\n",
       "\n"
      ],
      "text/plain": [
       "  district school                          county  grades students teachers\n",
       "1 75119    Sunol Glen Unified              Alameda KK-08   195     10.90   \n",
       "2 61499    Manzanita Elementary            Butte   KK-08   240     11.15   \n",
       "3 61549    Thermalito Union Elementary     Butte   KK-08  1550     82.90   \n",
       "4 61457    Golden Feather Union Elementary Butte   KK-08   243     14.00   \n",
       "5 61523    Palermo Union Elementary        Butte   KK-08  1335     71.50   \n",
       "6 62042    Burrel Union Elementary         Fresno  KK-08   137      6.40   \n",
       "  calworks lunch   computer expenditure income    english   read  math \n",
       "1  0.5102   2.0408  67      6384.911    22.690001  0.000000 691.6 690.0\n",
       "2 15.4167  47.9167 101      5099.381     9.824000  4.583333 660.5 661.9\n",
       "3 55.0323  76.3226 169      5501.955     8.978000 30.000002 636.3 650.9\n",
       "4 36.4754  77.0492  85      7101.831     8.978000  0.000000 651.9 643.5\n",
       "5 33.1086  78.4270 171      5235.988     9.080333 13.857677 641.8 639.9\n",
       "6 12.3188  86.9565  25      5580.147    10.415000 12.408759 605.7 605.4"
      ]
     },
     "metadata": {},
     "output_type": "display_data"
    }
   ],
   "source": [
    "# load the AER package\n",
    "library(AER)\n",
    "\n",
    "# load the data set\n",
    "data(CASchools)   \n",
    "head(CASchools)\n"
   ]
  },
  {
   "cell_type": "code",
   "execution_count": 2,
   "id": "337790d3",
   "metadata": {},
   "outputs": [],
   "source": [
    "# define variables\n",
    "CASchools$STR <- CASchools$students/CASchools$teachers       \n",
    "CASchools$score <- (CASchools$read + CASchools$math)/2\n"
   ]
  },
  {
   "cell_type": "code",
   "execution_count": 3,
   "id": "bbae6374",
   "metadata": {},
   "outputs": [
    {
     "data": {
      "text/plain": [
       "\n",
       "Call:\n",
       "lm(formula = score ~ STR, data = CASchools)\n",
       "\n",
       "Residuals:\n",
       "    Min      1Q  Median      3Q     Max \n",
       "-47.727 -14.251   0.483  12.822  48.540 \n",
       "\n",
       "Coefficients:\n",
       "            Estimate Std. Error t value Pr(>|t|)    \n",
       "(Intercept) 698.9329     9.4675  73.825  < 2e-16 ***\n",
       "STR          -2.2798     0.4798  -4.751 2.78e-06 ***\n",
       "---\n",
       "Signif. codes:  0 ‘***’ 0.001 ‘**’ 0.01 ‘*’ 0.05 ‘.’ 0.1 ‘ ’ 1\n",
       "\n",
       "Residual standard error: 18.58 on 418 degrees of freedom\n",
       "Multiple R-squared:  0.05124,\tAdjusted R-squared:  0.04897 \n",
       "F-statistic: 22.58 on 1 and 418 DF,  p-value: 2.783e-06\n"
      ]
     },
     "metadata": {},
     "output_type": "display_data"
    }
   ],
   "source": [
    "# estimate both regression models\n",
    "model_short <- lm(score ~ STR, data = CASchools) \n",
    "summary(model_short)"
   ]
  },
  {
   "cell_type": "code",
   "execution_count": 4,
   "id": "b16c93c3",
   "metadata": {},
   "outputs": [
    {
     "data": {
      "text/plain": [
       "\n",
       "Call:\n",
       "lm(formula = score ~ STR + english, data = CASchools)\n",
       "\n",
       "Residuals:\n",
       "    Min      1Q  Median      3Q     Max \n",
       "-48.845 -10.240  -0.308   9.815  43.461 \n",
       "\n",
       "Coefficients:\n",
       "             Estimate Std. Error t value Pr(>|t|)    \n",
       "(Intercept) 686.03224    7.41131  92.566  < 2e-16 ***\n",
       "STR          -1.10130    0.38028  -2.896  0.00398 ** \n",
       "english      -0.64978    0.03934 -16.516  < 2e-16 ***\n",
       "---\n",
       "Signif. codes:  0 ‘***’ 0.001 ‘**’ 0.01 ‘*’ 0.05 ‘.’ 0.1 ‘ ’ 1\n",
       "\n",
       "Residual standard error: 14.46 on 417 degrees of freedom\n",
       "Multiple R-squared:  0.4264,\tAdjusted R-squared:  0.4237 \n",
       "F-statistic:   155 on 2 and 417 DF,  p-value: < 2.2e-16\n"
      ]
     },
     "metadata": {},
     "output_type": "display_data"
    }
   ],
   "source": [
    "model_long <- lm(score ~ STR + english, data = CASchools)\n",
    "summary(model_long)"
   ]
  },
  {
   "cell_type": "code",
   "execution_count": 5,
   "id": "18a9983b",
   "metadata": {},
   "outputs": [
    {
     "data": {
      "text/plain": [
       "\n",
       "Call:\n",
       "lm(formula = english ~ STR, data = CASchools)\n",
       "\n",
       "Residuals:\n",
       "    Min      1Q  Median      3Q     Max \n",
       "-20.823 -13.006  -6.849   7.834  74.601 \n",
       "\n",
       "Coefficients:\n",
       "            Estimate Std. Error t value Pr(>|t|)    \n",
       "(Intercept) -19.8541     9.1626  -2.167  0.03081 *  \n",
       "STR           1.8137     0.4644   3.906  0.00011 ***\n",
       "---\n",
       "Signif. codes:  0 ‘***’ 0.001 ‘**’ 0.01 ‘*’ 0.05 ‘.’ 0.1 ‘ ’ 1\n",
       "\n",
       "Residual standard error: 17.98 on 418 degrees of freedom\n",
       "Multiple R-squared:  0.03521,\tAdjusted R-squared:  0.0329 \n",
       "F-statistic: 15.25 on 1 and 418 DF,  p-value: 0.0001095\n"
      ]
     },
     "metadata": {},
     "output_type": "display_data"
    }
   ],
   "source": [
    "model_aux <- lm(english ~ STR, data = CASchools) \n",
    "summary(model_aux)"
   ]
  },
  {
   "cell_type": "code",
   "execution_count": null,
   "id": "9a62762b",
   "metadata": {},
   "outputs": [],
   "source": [
    "# compute correlations\n",
    "cor(CASchools$STR, CASchools$score)\n",
    "#> [1] -0.2263627\n",
    "cor(CASchools$STR, CASchools$english)\n",
    "#> [1] 0.1876424"
   ]
  }
 ],
 "metadata": {
  "kernelspec": {
   "display_name": "R",
   "language": "R",
   "name": "ir"
  },
  "language_info": {
   "codemirror_mode": "r",
   "file_extension": ".r",
   "mimetype": "text/x-r-source",
   "name": "R",
   "pygments_lexer": "r",
   "version": "4.2.1"
  }
 },
 "nbformat": 4,
 "nbformat_minor": 5
}
