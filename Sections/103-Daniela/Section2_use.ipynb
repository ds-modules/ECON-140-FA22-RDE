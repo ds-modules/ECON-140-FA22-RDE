{
 "cells": [
  {
   "cell_type": "markdown",
   "id": "d653797c",
   "metadata": {},
   "source": [
    "For this problem we will use the dataset wages.csv. This dataset contains information on about 300 American workers. \n",
    "It includes their average monthly wage (wage), gender (male) and completed years of formal education (educ). \n",
    "You suspect that people with higher educational attainment earn more on average."
   ]
  },
  {
   "cell_type": "code",
   "execution_count": null,
   "id": "0c8c275a",
   "metadata": {},
   "outputs": [],
   "source": [
    "library(tidyverse)\n",
    "library(haven)\n",
    "\n",
    "# read the dataset\n",
    "data<-read.csv(\"wages.csv\")"
   ]
  },
  {
   "cell_type": "code",
   "execution_count": null,
   "id": "2bde2114",
   "metadata": {},
   "outputs": [],
   "source": [
    "# check variable names and first observations/cells to understand the dataset\n",
    "colnames(data)\n",
    "head(data)\n"
   ]
  },
  {
   "cell_type": "code",
   "execution_count": null,
   "id": "2c732b11",
   "metadata": {},
   "outputs": [],
   "source": [
    "# how many observations and variables are in the dataset? \n",
    "dim(data)\n"
   ]
  },
  {
   "cell_type": "code",
   "execution_count": null,
   "id": "d4f9e98f",
   "metadata": {},
   "outputs": [],
   "source": [
    "# how would you characterize this dataset (think about the sample, unit of analysis, time frame, etc)? \n",
    "View(data)"
   ]
  },
  {
   "cell_type": "code",
   "execution_count": null,
   "id": "a57f49ad",
   "metadata": {},
   "outputs": [],
   "source": [
    "## are any values missing?\n",
    "View(data)\n",
    "is.na(data)\n",
    "data[!complete.cases(data),]"
   ]
  },
  {
   "cell_type": "code",
   "execution_count": null,
   "id": "c3554e41",
   "metadata": {},
   "outputs": [],
   "source": [
    "# are any of the columns categorical?\n",
    "View(data)"
   ]
  },
  {
   "cell_type": "code",
   "execution_count": null,
   "id": "def59caa",
   "metadata": {},
   "outputs": [],
   "source": [
    "## extra: how do you transform a categorical variable into a continuous one?\n"
   ]
  },
  {
   "cell_type": "code",
   "execution_count": null,
   "id": "d8ae9334",
   "metadata": {},
   "outputs": [],
   "source": [
    "## 9. what is the proportion of male? A: \n",
    "mean(data$male)"
   ]
  },
  {
   "cell_type": "code",
   "execution_count": null,
   "id": "11dbdfaa",
   "metadata": {},
   "outputs": [],
   "source": [
    "## 10. what is the mean of the education variable? A: \n",
    "summary(data$educ)\n",
    "mean(data$educ)\n",
    "\n",
    "round(mean(data$educ),1)\n",
    "\n",
    "## 11. what is the standard deviation of wage? A:\n",
    "summary(data$wage)\n",
    "sd(data$wage)\n",
    "\n",
    "round(sd(data$wage),2)"
   ]
  },
  {
   "cell_type": "code",
   "execution_count": null,
   "id": "8afd20d7",
   "metadata": {},
   "outputs": [],
   "source": [
    "## 12. do you see outliers? What would you do with outliers in wage? A:\n"
   ]
  },
  {
   "cell_type": "code",
   "execution_count": null,
   "id": "c1607851",
   "metadata": {},
   "outputs": [],
   "source": [
    "## 13. Plot a scatter diagram of the average monthly wage against the male dummy. \n",
    "## What differences do you see? Explain. A: \n",
    "\n",
    "## scatter plot of wage and gender\n",
    "x <- data$male\n",
    "y <- data$wage\n",
    "\n",
    "plot(x, y, main = \"Wage by Gender\",\n",
    "     xlab = \"Male\", ylab = \"Wage\",\n",
    "     pch = 1)\n"
   ]
  },
  {
   "cell_type": "code",
   "execution_count": null,
   "id": "9da634ff",
   "metadata": {},
   "outputs": [],
   "source": [
    "## 14. run linear model that regresses wage on gender. A:\n",
    "\n",
    "wage_male  <- lm(wage~male, data)\n",
    "summary(wage_male)\n",
    "print(wage_male)"
   ]
  },
  {
   "cell_type": "code",
   "execution_count": null,
   "id": "0d78d9c1",
   "metadata": {},
   "outputs": [],
   "source": [
    "## 15. how do you interpret the coefficients (see section slides or class 4 takeaways)? A:\n",
    "\n",
    "mean(data[data$male==0, \"wage\"])\n",
    "mean(data[data$male==1, \"wage\"])\n",
    "\n",
    "\n",
    "## 16. is this evidence of discrimination or something else? How would you test this? A:\n",
    "\n",
    "mean(data[data$male==0, \"educ\"])\n",
    "mean(data[data$male==1, \"educ\"])"
   ]
  },
  {
   "cell_type": "code",
   "execution_count": null,
   "id": "b293a8b1",
   "metadata": {},
   "outputs": [],
   "source": [
    "## 17. let's repeat the exercise and now create a scatter plot of wage and education. A:\n",
    "x_2 <- data$educ\n",
    "y <- data$wage\n",
    "\n",
    "plot(x_2, y, main = \"Wage by Education\",\n",
    "     xlab = \"Education\", ylab = \"Wage\",\n",
    "     pch = 1)\n",
    "abline(lm(y ~ x_2, data = data), col = \"blue\")"
   ]
  },
  {
   "cell_type": "code",
   "execution_count": null,
   "id": "71cea023",
   "metadata": {},
   "outputs": [],
   "source": [
    "## 19. Let's perform a linear model that regresses wage on education\n",
    "wage_educ        <- lm(wage~educ, data)\n",
    "summary(wage_educ)\n",
    "print(wage_educ)\n"
   ]
  },
  {
   "cell_type": "code",
   "execution_count": null,
   "id": "314a5ee1",
   "metadata": {},
   "outputs": [],
   "source": [
    "\n",
    "## 12. do you see outliers? What would you do with outliers in wage? A:\n",
    "\n",
    "\n",
    "## 13. Plot a scatter diagram of the average monthly wage against the male dummy. \n",
    "\n",
    "## 20. how do you interpret the constant in this case? (see section slides or class 4 takeaways)\n",
    "\n",
    "## 21. how do you interpret the effect on the education variable?\n",
    "\n",
    "## extra: how would you change this model to evaluate the theory of the \"diploma effect\" ?\n",
    "\n",
    "## 22. do you think our regressions reflects the causal effect of schooling on wages ? (think about cofounders, sampling strategy, outliers)\n",
    "\n",
    "## extra: what is the advantage of using log wage instead of wages?\n",
    "\n",
    "## extra: how would you test the null hypothesis that the return to schooling is $100?\n",
    "\n",
    "## 23. run linear model that regresses wage on all variables\n",
    "wage_all        <- lm(wage~., data)\n",
    "summary(wage_all)\n",
    "print(wage_all)\n",
    "\n",
    "\n",
    "\n",
    "## Final discussion: let's come back to think how to measure discrimination and returns to education\n"
   ]
  }
 ],
 "metadata": {
  "kernelspec": {
   "display_name": "R",
   "language": "R",
   "name": "ir"
  },
  "language_info": {
   "codemirror_mode": "r",
   "file_extension": ".r",
   "mimetype": "text/x-r-source",
   "name": "R",
   "pygments_lexer": "r",
   "version": "4.2.1"
  }
 },
 "nbformat": 4,
 "nbformat_minor": 5
}
